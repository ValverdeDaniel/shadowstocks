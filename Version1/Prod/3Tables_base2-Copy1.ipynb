{
 "cells": [
  {
   "cell_type": "code",
   "execution_count": 1,
   "id": "a002b47e-8290-49e2-a39e-d99001a1d839",
   "metadata": {},
   "outputs": [],
   "source": [
    "%run fundamentalFunctions.ipynb\n",
    "%run epsTrendFunctions.ipynb"
   ]
  },
  {
   "cell_type": "markdown",
   "id": "412ca6c3-1ffc-4b0e-af28-24e857d3cead",
   "metadata": {},
   "source": [
    "# Fundamentals"
   ]
  },
  {
   "cell_type": "code",
   "execution_count": 2,
   "id": "8bcaaa5a-9ab6-409b-8a4f-c3b4ffafe007",
   "metadata": {},
   "outputs": [],
   "source": [
    "# raw1 = ['aapl', 'msft', 'amd', 'nvda', 'goog', 'hsy', 'u', 'rddt', 'mu', 'unh', 'hum', 'hd', 'intc', 'uber', 'oscr', 'sofi', 'cvs', 'gm', 'f', 'mdb', 'hood', 'tsla', 'nflx', 'lz', 'duol', 'sbux', 'coin']\n",
    "# raw1 = ['msft', 'aapl', 'goog', 'amzn', 'meta', 'lulu', 'iren', 'fi', 'amd', 'uber', 'duol', 'unh', 'hum', 'rddt' ]\n",
    "# raw1 = ['msft', 'aapl', 'goog', 'amzn', 'lulu', 'iren', 'uber', 'unh']\n",
    "# raw1= ['goog']\n",
    "\n",
    "\n",
    "# raw1 = ['wm', 'pypl', 'sofi', 'spot', 'ups', 'rcl', 'sbux', 'msft', 'meta', 'hood', 'qcom', 'cvna', 'f', 'hsy', 'wing', 'rblx', 'amzn', 'aapl', 'coin', 'rddt', 'dkng', 'roku', 'cvx', 'cl', 'xom', 'amc']\n",
    "# raw1 = ['pep', 'vz', 'dpz', 'ko', 'gm', 'txn', 'T', 'fi', 'goog', 'tsla', 'cmg', 'ibm', 'tmus', 'intc', 'wm', 'pypl', 'sofi', 'spot', 'ups', 'rcl', 'sbux', 'msft', 'meta', 'hood', 'qcom', 'cvna', 'f', 'hsy', 'wing', 'rblx', 'amzn', 'aapl', 'coin', 'rddt', 'dkng', 'roku', 'cvx', 'cl', 'xom', 'amc']\n",
    "# raw1 = ['pep', 'vz', 'dpz', 'ko', 'gm', 'txn', 'T', 'fi', 'goog', 'tsla', 'cmg', 'ibm', 'tmus', 'intc' ]\n",
    "# raw1 = ['docu', 'gtlb', 'crm', 'dltr', 'avgo', 'M', 'iren']\n",
    "\n",
    "raw1 = ['nvda', 'crwd', 'snow', 'five', 'bby', 'dg', 'dks', 'dell', 'afrm', 'mrvl' , 'ulta', 'adsk', 'gap', 'baba', 'td']"
   ]
  },
  {
   "cell_type": "code",
   "execution_count": 3,
   "id": "571ae3ee-6b31-4276-9f0b-72e33d89dd1a",
   "metadata": {},
   "outputs": [
    {
     "name": "stdout",
     "output_type": "stream",
     "text": [
      "['nvda.US', 'crwd.US', 'snow.US', 'five.US', 'bby.US', 'dg.US', 'dks.US', 'dell.US', 'afrm.US', 'mrvl.US', 'ulta.US', 'adsk.US', 'gap.US', 'baba.US', 'td.US']\n"
     ]
    },
    {
     "data": {
      "text/html": [
       "<div>\n",
       "<style scoped>\n",
       "    .dataframe tbody tr th:only-of-type {\n",
       "        vertical-align: middle;\n",
       "    }\n",
       "\n",
       "    .dataframe tbody tr th {\n",
       "        vertical-align: top;\n",
       "    }\n",
       "\n",
       "    .dataframe thead th {\n",
       "        text-align: right;\n",
       "    }\n",
       "</style>\n",
       "<table border=\"1\" class=\"dataframe\">\n",
       "  <thead>\n",
       "    <tr style=\"text-align: right;\">\n",
       "      <th></th>\n",
       "      <th>Ticker</th>\n",
       "      <th>Current Price</th>\n",
       "      <th>All-Time High</th>\n",
       "      <th>ATH %Chg</th>\n",
       "      <th>6-Month High</th>\n",
       "      <th>Recent-High %Chg</th>\n",
       "      <th>5-Year High</th>\n",
       "      <th>Current P/E</th>\n",
       "      <th>Avg 5-Year P/E</th>\n",
       "      <th>Fair Value (TTM)</th>\n",
       "      <th>Fair Value %Chg</th>\n",
       "      <th>Avg P/E × Fwd EPS</th>\n",
       "      <th>MACD (12,26,9)</th>\n",
       "      <th>MACD Signal</th>\n",
       "      <th>RSI (1 yr)</th>\n",
       "      <th>Live Price Time</th>\n",
       "    </tr>\n",
       "  </thead>\n",
       "  <tbody>\n",
       "    <tr>\n",
       "      <th>0</th>\n",
       "      <td>nvda</td>\n",
       "      <td>181.77</td>\n",
       "      <td>183.1600</td>\n",
       "      <td>-0.007589</td>\n",
       "      <td>183.1600</td>\n",
       "      <td>-0.007589</td>\n",
       "      <td>183.1600</td>\n",
       "      <td>58.825200</td>\n",
       "      <td>92.597656</td>\n",
       "      <td>286.126757</td>\n",
       "      <td>0.574114</td>\n",
       "      <td>410.605787</td>\n",
       "      <td>2.895223</td>\n",
       "      <td>3.673431</td>\n",
       "      <td>61.284180</td>\n",
       "      <td>2025-08-26 16:29:00</td>\n",
       "    </tr>\n",
       "    <tr>\n",
       "      <th>1</th>\n",
       "      <td>crwd</td>\n",
       "      <td>417.60</td>\n",
       "      <td>514.1000</td>\n",
       "      <td>-0.187707</td>\n",
       "      <td>514.1000</td>\n",
       "      <td>-0.187707</td>\n",
       "      <td>514.1000</td>\n",
       "      <td>-588.169014</td>\n",
       "      <td>265.096179</td>\n",
       "      <td>-188.218287</td>\n",
       "      <td>-1.450714</td>\n",
       "      <td>1173.607293</td>\n",
       "      <td>-12.578573</td>\n",
       "      <td>-12.868154</td>\n",
       "      <td>36.067804</td>\n",
       "      <td>2025-08-26 16:29:00</td>\n",
       "    </tr>\n",
       "    <tr>\n",
       "      <th>2</th>\n",
       "      <td>snow</td>\n",
       "      <td>194.35</td>\n",
       "      <td>401.8900</td>\n",
       "      <td>-0.516410</td>\n",
       "      <td>225.7900</td>\n",
       "      <td>-0.139244</td>\n",
       "      <td>401.8900</td>\n",
       "      <td>-46.163895</td>\n",
       "      <td>3070.962716</td>\n",
       "      <td>-12928.753035</td>\n",
       "      <td>-67.523041</td>\n",
       "      <td>3042.095667</td>\n",
       "      <td>-4.466935</td>\n",
       "      <td>-4.456962</td>\n",
       "      <td>40.327115</td>\n",
       "      <td>2025-08-26 16:29:00</td>\n",
       "    </tr>\n",
       "    <tr>\n",
       "      <th>3</th>\n",
       "      <td>five</td>\n",
       "      <td>141.98</td>\n",
       "      <td>236.2100</td>\n",
       "      <td>-0.398925</td>\n",
       "      <td>142.4500</td>\n",
       "      <td>-0.003299</td>\n",
       "      <td>236.2100</td>\n",
       "      <td>29.702900</td>\n",
       "      <td>45.196705</td>\n",
       "      <td>216.040248</td>\n",
       "      <td>0.521625</td>\n",
       "      <td>227.465975</td>\n",
       "      <td>2.203258</td>\n",
       "      <td>1.988778</td>\n",
       "      <td>59.226653</td>\n",
       "      <td>2025-08-26 16:00:00</td>\n",
       "    </tr>\n",
       "    <tr>\n",
       "      <th>4</th>\n",
       "      <td>bby</td>\n",
       "      <td>73.67</td>\n",
       "      <td>116.5452</td>\n",
       "      <td>-0.367885</td>\n",
       "      <td>84.4784</td>\n",
       "      <td>-0.127943</td>\n",
       "      <td>116.5452</td>\n",
       "      <td>17.968300</td>\n",
       "      <td>10.591232</td>\n",
       "      <td>43.424051</td>\n",
       "      <td>-0.410560</td>\n",
       "      <td>69.852352</td>\n",
       "      <td>1.520178</td>\n",
       "      <td>1.120916</td>\n",
       "      <td>59.731038</td>\n",
       "      <td>2025-08-26 16:15:00</td>\n",
       "    </tr>\n",
       "    <tr>\n",
       "      <th>5</th>\n",
       "      <td>dg</td>\n",
       "      <td>110.50</td>\n",
       "      <td>247.0077</td>\n",
       "      <td>-0.552646</td>\n",
       "      <td>116.3200</td>\n",
       "      <td>-0.050034</td>\n",
       "      <td>247.0077</td>\n",
       "      <td>21.087800</td>\n",
       "      <td>17.527942</td>\n",
       "      <td>91.846415</td>\n",
       "      <td>-0.168811</td>\n",
       "      <td>102.582279</td>\n",
       "      <td>0.270948</td>\n",
       "      <td>0.697915</td>\n",
       "      <td>45.387972</td>\n",
       "      <td>2025-08-26 16:15:00</td>\n",
       "    </tr>\n",
       "    <tr>\n",
       "      <th>6</th>\n",
       "      <td>dks</td>\n",
       "      <td>226.81</td>\n",
       "      <td>246.9610</td>\n",
       "      <td>-0.081596</td>\n",
       "      <td>227.8400</td>\n",
       "      <td>-0.004521</td>\n",
       "      <td>246.9610</td>\n",
       "      <td>16.212300</td>\n",
       "      <td>13.863753</td>\n",
       "      <td>193.953900</td>\n",
       "      <td>-0.144862</td>\n",
       "      <td>205.803250</td>\n",
       "      <td>5.031047</td>\n",
       "      <td>5.004242</td>\n",
       "      <td>61.634256</td>\n",
       "      <td>2025-08-26 16:03:00</td>\n",
       "    </tr>\n",
       "    <tr>\n",
       "      <th>7</th>\n",
       "      <td>dell</td>\n",
       "      <td>130.99</td>\n",
       "      <td>175.4018</td>\n",
       "      <td>-0.253200</td>\n",
       "      <td>141.6400</td>\n",
       "      <td>-0.075191</td>\n",
       "      <td>175.4018</td>\n",
       "      <td>20.531400</td>\n",
       "      <td>10.603635</td>\n",
       "      <td>67.651191</td>\n",
       "      <td>-0.483539</td>\n",
       "      <td>98.488682</td>\n",
       "      <td>0.767271</td>\n",
       "      <td>1.901674</td>\n",
       "      <td>48.951432</td>\n",
       "      <td>2025-08-26 16:15:00</td>\n",
       "    </tr>\n",
       "    <tr>\n",
       "      <th>8</th>\n",
       "      <td>afrm</td>\n",
       "      <td>77.95</td>\n",
       "      <td>168.5200</td>\n",
       "      <td>-0.537444</td>\n",
       "      <td>79.4900</td>\n",
       "      <td>-0.019374</td>\n",
       "      <td>168.5200</td>\n",
       "      <td>-410.263158</td>\n",
       "      <td>-254.511851</td>\n",
       "      <td>48.357252</td>\n",
       "      <td>-0.379638</td>\n",
       "      <td>-621.110721</td>\n",
       "      <td>2.438461</td>\n",
       "      <td>2.565144</td>\n",
       "      <td>58.698124</td>\n",
       "      <td>2025-08-26 16:25:00</td>\n",
       "    </tr>\n",
       "    <tr>\n",
       "      <th>9</th>\n",
       "      <td>mrvl</td>\n",
       "      <td>74.26</td>\n",
       "      <td>852977.7988</td>\n",
       "      <td>-0.999913</td>\n",
       "      <td>89.9641</td>\n",
       "      <td>-0.174560</td>\n",
       "      <td>125.8140</td>\n",
       "      <td>-130.280702</td>\n",
       "      <td>52.928952</td>\n",
       "      <td>-30.169502</td>\n",
       "      <td>-1.406269</td>\n",
       "      <td>147.502402</td>\n",
       "      <td>-0.326301</td>\n",
       "      <td>0.127426</td>\n",
       "      <td>48.981149</td>\n",
       "      <td>2025-08-26 16:28:00</td>\n",
       "    </tr>\n",
       "    <tr>\n",
       "      <th>10</th>\n",
       "      <td>ulta</td>\n",
       "      <td>526.06</td>\n",
       "      <td>567.1800</td>\n",
       "      <td>-0.072499</td>\n",
       "      <td>532.7100</td>\n",
       "      <td>-0.012483</td>\n",
       "      <td>567.1800</td>\n",
       "      <td>20.557300</td>\n",
       "      <td>43.377723</td>\n",
       "      <td>1110.035919</td>\n",
       "      <td>1.110094</td>\n",
       "      <td>1017.788854</td>\n",
       "      <td>8.132023</td>\n",
       "      <td>8.676380</td>\n",
       "      <td>60.516382</td>\n",
       "      <td>2025-08-26 16:03:00</td>\n",
       "    </tr>\n",
       "    <tr>\n",
       "      <th>11</th>\n",
       "      <td>adsk</td>\n",
       "      <td>282.45</td>\n",
       "      <td>342.2700</td>\n",
       "      <td>-0.174774</td>\n",
       "      <td>316.6600</td>\n",
       "      <td>-0.108034</td>\n",
       "      <td>342.2700</td>\n",
       "      <td>60.741900</td>\n",
       "      <td>43.010558</td>\n",
       "      <td>199.999094</td>\n",
       "      <td>-0.291913</td>\n",
       "      <td>398.303572</td>\n",
       "      <td>-3.725226</td>\n",
       "      <td>-3.200013</td>\n",
       "      <td>39.894251</td>\n",
       "      <td>2025-08-26 16:15:00</td>\n",
       "    </tr>\n",
       "    <tr>\n",
       "      <th>12</th>\n",
       "      <td>gap</td>\n",
       "      <td>21.58</td>\n",
       "      <td>31.9715</td>\n",
       "      <td>-0.325024</td>\n",
       "      <td>28.6797</td>\n",
       "      <td>-0.247551</td>\n",
       "      <td>30.6287</td>\n",
       "      <td>9.382600</td>\n",
       "      <td>-0.450959</td>\n",
       "      <td>-1.037205</td>\n",
       "      <td>-1.048063</td>\n",
       "      <td>-0.870350</td>\n",
       "      <td>0.185975</td>\n",
       "      <td>-0.013354</td>\n",
       "      <td>60.009774</td>\n",
       "      <td>2025-08-26 16:24:00</td>\n",
       "    </tr>\n",
       "    <tr>\n",
       "      <th>13</th>\n",
       "      <td>baba</td>\n",
       "      <td>124.19</td>\n",
       "      <td>307.8371</td>\n",
       "      <td>-0.596572</td>\n",
       "      <td>146.4049</td>\n",
       "      <td>-0.151736</td>\n",
       "      <td>307.8371</td>\n",
       "      <td>16.602900</td>\n",
       "      <td>1.609071</td>\n",
       "      <td>12.035850</td>\n",
       "      <td>-0.903085</td>\n",
       "      <td>119.190474</td>\n",
       "      <td>1.500209</td>\n",
       "      <td>1.340043</td>\n",
       "      <td>58.008505</td>\n",
       "      <td>2025-08-26 16:28:00</td>\n",
       "    </tr>\n",
       "    <tr>\n",
       "      <th>14</th>\n",
       "      <td>td</td>\n",
       "      <td>75.24</td>\n",
       "      <td>75.3500</td>\n",
       "      <td>-0.001460</td>\n",
       "      <td>75.3500</td>\n",
       "      <td>-0.001460</td>\n",
       "      <td>75.3500</td>\n",
       "      <td>10.810300</td>\n",
       "      <td>9.551065</td>\n",
       "      <td>66.475413</td>\n",
       "      <td>-0.116488</td>\n",
       "      <td>82.651097</td>\n",
       "      <td>0.372866</td>\n",
       "      <td>0.262434</td>\n",
       "      <td>61.398380</td>\n",
       "      <td>2025-08-26 16:17:00</td>\n",
       "    </tr>\n",
       "  </tbody>\n",
       "</table>\n",
       "</div>"
      ],
      "text/plain": [
       "   Ticker  Current Price  All-Time High  ATH %Chg  6-Month High  \\\n",
       "0    nvda         181.77       183.1600 -0.007589      183.1600   \n",
       "1    crwd         417.60       514.1000 -0.187707      514.1000   \n",
       "2    snow         194.35       401.8900 -0.516410      225.7900   \n",
       "3    five         141.98       236.2100 -0.398925      142.4500   \n",
       "4     bby          73.67       116.5452 -0.367885       84.4784   \n",
       "5      dg         110.50       247.0077 -0.552646      116.3200   \n",
       "6     dks         226.81       246.9610 -0.081596      227.8400   \n",
       "7    dell         130.99       175.4018 -0.253200      141.6400   \n",
       "8    afrm          77.95       168.5200 -0.537444       79.4900   \n",
       "9    mrvl          74.26    852977.7988 -0.999913       89.9641   \n",
       "10   ulta         526.06       567.1800 -0.072499      532.7100   \n",
       "11   adsk         282.45       342.2700 -0.174774      316.6600   \n",
       "12    gap          21.58        31.9715 -0.325024       28.6797   \n",
       "13   baba         124.19       307.8371 -0.596572      146.4049   \n",
       "14     td          75.24        75.3500 -0.001460       75.3500   \n",
       "\n",
       "    Recent-High %Chg  5-Year High  Current P/E  Avg 5-Year P/E  \\\n",
       "0          -0.007589     183.1600    58.825200       92.597656   \n",
       "1          -0.187707     514.1000  -588.169014      265.096179   \n",
       "2          -0.139244     401.8900   -46.163895     3070.962716   \n",
       "3          -0.003299     236.2100    29.702900       45.196705   \n",
       "4          -0.127943     116.5452    17.968300       10.591232   \n",
       "5          -0.050034     247.0077    21.087800       17.527942   \n",
       "6          -0.004521     246.9610    16.212300       13.863753   \n",
       "7          -0.075191     175.4018    20.531400       10.603635   \n",
       "8          -0.019374     168.5200  -410.263158     -254.511851   \n",
       "9          -0.174560     125.8140  -130.280702       52.928952   \n",
       "10         -0.012483     567.1800    20.557300       43.377723   \n",
       "11         -0.108034     342.2700    60.741900       43.010558   \n",
       "12         -0.247551      30.6287     9.382600       -0.450959   \n",
       "13         -0.151736     307.8371    16.602900        1.609071   \n",
       "14         -0.001460      75.3500    10.810300        9.551065   \n",
       "\n",
       "    Fair Value (TTM)  Fair Value %Chg  Avg P/E × Fwd EPS  MACD (12,26,9)  \\\n",
       "0         286.126757         0.574114         410.605787        2.895223   \n",
       "1        -188.218287        -1.450714        1173.607293      -12.578573   \n",
       "2      -12928.753035       -67.523041        3042.095667       -4.466935   \n",
       "3         216.040248         0.521625         227.465975        2.203258   \n",
       "4          43.424051        -0.410560          69.852352        1.520178   \n",
       "5          91.846415        -0.168811         102.582279        0.270948   \n",
       "6         193.953900        -0.144862         205.803250        5.031047   \n",
       "7          67.651191        -0.483539          98.488682        0.767271   \n",
       "8          48.357252        -0.379638        -621.110721        2.438461   \n",
       "9         -30.169502        -1.406269         147.502402       -0.326301   \n",
       "10       1110.035919         1.110094        1017.788854        8.132023   \n",
       "11        199.999094        -0.291913         398.303572       -3.725226   \n",
       "12         -1.037205        -1.048063          -0.870350        0.185975   \n",
       "13         12.035850        -0.903085         119.190474        1.500209   \n",
       "14         66.475413        -0.116488          82.651097        0.372866   \n",
       "\n",
       "    MACD Signal  RSI (1 yr)     Live Price Time  \n",
       "0      3.673431   61.284180 2025-08-26 16:29:00  \n",
       "1    -12.868154   36.067804 2025-08-26 16:29:00  \n",
       "2     -4.456962   40.327115 2025-08-26 16:29:00  \n",
       "3      1.988778   59.226653 2025-08-26 16:00:00  \n",
       "4      1.120916   59.731038 2025-08-26 16:15:00  \n",
       "5      0.697915   45.387972 2025-08-26 16:15:00  \n",
       "6      5.004242   61.634256 2025-08-26 16:03:00  \n",
       "7      1.901674   48.951432 2025-08-26 16:15:00  \n",
       "8      2.565144   58.698124 2025-08-26 16:25:00  \n",
       "9      0.127426   48.981149 2025-08-26 16:28:00  \n",
       "10     8.676380   60.516382 2025-08-26 16:03:00  \n",
       "11    -3.200013   39.894251 2025-08-26 16:15:00  \n",
       "12    -0.013354   60.009774 2025-08-26 16:24:00  \n",
       "13     1.340043   58.008505 2025-08-26 16:28:00  \n",
       "14     0.262434   61.398380 2025-08-26 16:17:00  "
      ]
     },
     "metadata": {},
     "output_type": "display_data"
    }
   ],
   "source": [
    "\n",
    "\n",
    "tickers = [f\"{t}.US\" for t in raw1]\n",
    "print(tickers)\n",
    "dfFundamentals = FundamentalsBuilder(tickers)\n",
    "display(dfFundamentals)\n",
    "dfFundamentals.to_csv('Fundamentals.csv', index=False)\n"
   ]
  },
  {
   "cell_type": "markdown",
   "id": "45a75490-2b87-464e-8a2d-3fef42bbebc4",
   "metadata": {},
   "source": [
    "# epsTrends table"
   ]
  },
  {
   "cell_type": "code",
   "execution_count": 4,
   "id": "910d268d-9e02-4627-acc8-d521bdbe51b1",
   "metadata": {},
   "outputs": [
    {
     "name": "stdout",
     "output_type": "stream",
     "text": [
      "nvda.US ...ok\n",
      "crwd.US ...ok\n",
      "snow.US ...ok\n",
      "five.US ...ok\n",
      "bby.US ...ok\n",
      "dg.US ...ok\n",
      "dks.US ...ok\n",
      "dell.US ...ok\n",
      "afrm.US ...ok\n",
      "mrvl.US ...ok\n",
      "ulta.US ...ok\n",
      "adsk.US ...ok\n",
      "gap.US ...ok\n",
      "baba.US ...ok\n",
      "td.US ...ok\n"
     ]
    },
    {
     "data": {
      "text/html": [
       "<div>\n",
       "<style scoped>\n",
       "    .dataframe tbody tr th:only-of-type {\n",
       "        vertical-align: middle;\n",
       "    }\n",
       "\n",
       "    .dataframe tbody tr th {\n",
       "        vertical-align: top;\n",
       "    }\n",
       "\n",
       "    .dataframe thead th {\n",
       "        text-align: right;\n",
       "    }\n",
       "</style>\n",
       "<table border=\"1\" class=\"dataframe\">\n",
       "  <thead>\n",
       "    <tr style=\"text-align: right;\">\n",
       "      <th></th>\n",
       "      <th>Ticker</th>\n",
       "      <th>Curr Qtr Curr</th>\n",
       "      <th>Curr Qtr 7</th>\n",
       "      <th>Curr Qtr 30</th>\n",
       "      <th>Curr Qtr 60</th>\n",
       "      <th>Curr Qtr 90</th>\n",
       "      <th>Next Qtr Curr</th>\n",
       "      <th>Next Qtr 7</th>\n",
       "      <th>Next Qtr 30</th>\n",
       "      <th>Next Qtr 60</th>\n",
       "      <th>...</th>\n",
       "      <th>Curr Yr Curr</th>\n",
       "      <th>Curr Yr 7</th>\n",
       "      <th>Curr Yr 30</th>\n",
       "      <th>Curr Yr 60</th>\n",
       "      <th>Curr Yr 90</th>\n",
       "      <th>Next Yr Curr</th>\n",
       "      <th>Next Yr 7</th>\n",
       "      <th>Next Yr 30</th>\n",
       "      <th>Next Yr 60</th>\n",
       "      <th>Next Yr 90</th>\n",
       "    </tr>\n",
       "  </thead>\n",
       "  <tbody>\n",
       "    <tr>\n",
       "      <th>0</th>\n",
       "      <td>nvda</td>\n",
       "      <td>1.0096</td>\n",
       "      <td>1.0044</td>\n",
       "      <td>0.9985</td>\n",
       "      <td>0.9949</td>\n",
       "      <td>0.9870</td>\n",
       "      <td>1.1943</td>\n",
       "      <td>1.1891</td>\n",
       "      <td>1.1780</td>\n",
       "      <td>1.1647</td>\n",
       "      <td>...</td>\n",
       "      <td>4.3657</td>\n",
       "      <td>4.3273</td>\n",
       "      <td>4.3040</td>\n",
       "      <td>4.2836</td>\n",
       "      <td>4.1707</td>\n",
       "      <td>6.0381</td>\n",
       "      <td>5.9142</td>\n",
       "      <td>5.8403</td>\n",
       "      <td>5.7557</td>\n",
       "      <td>5.6227</td>\n",
       "    </tr>\n",
       "    <tr>\n",
       "      <th>1</th>\n",
       "      <td>crwd</td>\n",
       "      <td>0.8300</td>\n",
       "      <td>0.8300</td>\n",
       "      <td>0.8300</td>\n",
       "      <td>0.8295</td>\n",
       "      <td>0.8091</td>\n",
       "      <td>0.9037</td>\n",
       "      <td>0.9037</td>\n",
       "      <td>0.9041</td>\n",
       "      <td>0.9037</td>\n",
       "      <td>...</td>\n",
       "      <td>3.5143</td>\n",
       "      <td>3.5143</td>\n",
       "      <td>3.5142</td>\n",
       "      <td>3.5132</td>\n",
       "      <td>3.4890</td>\n",
       "      <td>4.7101</td>\n",
       "      <td>4.7482</td>\n",
       "      <td>4.7437</td>\n",
       "      <td>4.7450</td>\n",
       "      <td>4.5979</td>\n",
       "    </tr>\n",
       "    <tr>\n",
       "      <th>2</th>\n",
       "      <td>snow</td>\n",
       "      <td>0.2665</td>\n",
       "      <td>0.2655</td>\n",
       "      <td>0.2661</td>\n",
       "      <td>0.2660</td>\n",
       "      <td>0.2649</td>\n",
       "      <td>0.2742</td>\n",
       "      <td>0.2744</td>\n",
       "      <td>0.2755</td>\n",
       "      <td>0.2754</td>\n",
       "      <td>...</td>\n",
       "      <td>1.1140</td>\n",
       "      <td>1.1162</td>\n",
       "      <td>1.1146</td>\n",
       "      <td>1.1055</td>\n",
       "      <td>1.1063</td>\n",
       "      <td>1.5848</td>\n",
       "      <td>1.5916</td>\n",
       "      <td>1.5829</td>\n",
       "      <td>1.5706</td>\n",
       "      <td>1.5690</td>\n",
       "    </tr>\n",
       "    <tr>\n",
       "      <th>3</th>\n",
       "      <td>five</td>\n",
       "      <td>0.6261</td>\n",
       "      <td>0.6078</td>\n",
       "      <td>0.5988</td>\n",
       "      <td>0.5940</td>\n",
       "      <td>0.5645</td>\n",
       "      <td>0.0205</td>\n",
       "      <td>0.0149</td>\n",
       "      <td>0.0119</td>\n",
       "      <td>0.0108</td>\n",
       "      <td>...</td>\n",
       "      <td>4.7181</td>\n",
       "      <td>4.6958</td>\n",
       "      <td>4.6787</td>\n",
       "      <td>4.6641</td>\n",
       "      <td>4.6595</td>\n",
       "      <td>5.2577</td>\n",
       "      <td>5.2340</td>\n",
       "      <td>5.1997</td>\n",
       "      <td>5.1658</td>\n",
       "      <td>4.9522</td>\n",
       "    </tr>\n",
       "    <tr>\n",
       "      <th>4</th>\n",
       "      <td>bby</td>\n",
       "      <td>1.2248</td>\n",
       "      <td>1.2242</td>\n",
       "      <td>1.2218</td>\n",
       "      <td>1.2218</td>\n",
       "      <td>1.3026</td>\n",
       "      <td>1.2867</td>\n",
       "      <td>1.2930</td>\n",
       "      <td>1.2931</td>\n",
       "      <td>1.2931</td>\n",
       "      <td>...</td>\n",
       "      <td>6.1886</td>\n",
       "      <td>6.1941</td>\n",
       "      <td>6.1959</td>\n",
       "      <td>6.1963</td>\n",
       "      <td>6.1679</td>\n",
       "      <td>6.6320</td>\n",
       "      <td>6.6367</td>\n",
       "      <td>6.6592</td>\n",
       "      <td>6.6710</td>\n",
       "      <td>6.6824</td>\n",
       "    </tr>\n",
       "    <tr>\n",
       "      <th>5</th>\n",
       "      <td>dg</td>\n",
       "      <td>1.5729</td>\n",
       "      <td>1.5729</td>\n",
       "      <td>1.5701</td>\n",
       "      <td>1.5655</td>\n",
       "      <td>1.5884</td>\n",
       "      <td>0.8886</td>\n",
       "      <td>0.8886</td>\n",
       "      <td>0.8882</td>\n",
       "      <td>0.8835</td>\n",
       "      <td>...</td>\n",
       "      <td>5.7516</td>\n",
       "      <td>5.7516</td>\n",
       "      <td>5.7464</td>\n",
       "      <td>5.7359</td>\n",
       "      <td>5.5972</td>\n",
       "      <td>6.3914</td>\n",
       "      <td>6.3914</td>\n",
       "      <td>6.3869</td>\n",
       "      <td>6.3850</td>\n",
       "      <td>6.1872</td>\n",
       "    </tr>\n",
       "    <tr>\n",
       "      <th>6</th>\n",
       "      <td>dks</td>\n",
       "      <td>4.2986</td>\n",
       "      <td>4.2984</td>\n",
       "      <td>4.3047</td>\n",
       "      <td>4.3128</td>\n",
       "      <td>4.3822</td>\n",
       "      <td>2.8359</td>\n",
       "      <td>2.8295</td>\n",
       "      <td>2.8323</td>\n",
       "      <td>2.8386</td>\n",
       "      <td>...</td>\n",
       "      <td>14.3670</td>\n",
       "      <td>14.3582</td>\n",
       "      <td>14.3639</td>\n",
       "      <td>14.3704</td>\n",
       "      <td>14.3414</td>\n",
       "      <td>15.3286</td>\n",
       "      <td>15.3002</td>\n",
       "      <td>15.3022</td>\n",
       "      <td>15.3002</td>\n",
       "      <td>15.2565</td>\n",
       "    </tr>\n",
       "    <tr>\n",
       "      <th>7</th>\n",
       "      <td>dell</td>\n",
       "      <td>2.2940</td>\n",
       "      <td>2.2903</td>\n",
       "      <td>2.2825</td>\n",
       "      <td>2.2732</td>\n",
       "      <td>2.0948</td>\n",
       "      <td>2.5472</td>\n",
       "      <td>2.5463</td>\n",
       "      <td>2.5530</td>\n",
       "      <td>2.5453</td>\n",
       "      <td>...</td>\n",
       "      <td>9.3722</td>\n",
       "      <td>9.3757</td>\n",
       "      <td>9.3914</td>\n",
       "      <td>9.3820</td>\n",
       "      <td>9.2593</td>\n",
       "      <td>10.7873</td>\n",
       "      <td>10.8062</td>\n",
       "      <td>10.7581</td>\n",
       "      <td>10.6849</td>\n",
       "      <td>10.3715</td>\n",
       "    </tr>\n",
       "    <tr>\n",
       "      <th>8</th>\n",
       "      <td>afrm</td>\n",
       "      <td>0.3156</td>\n",
       "      <td>0.3156</td>\n",
       "      <td>0.2960</td>\n",
       "      <td>-0.0900</td>\n",
       "      <td>-0.1700</td>\n",
       "      <td>0.4900</td>\n",
       "      <td>0.4900</td>\n",
       "      <td>0.4900</td>\n",
       "      <td>0.4950</td>\n",
       "      <td>...</td>\n",
       "      <td>1.9914</td>\n",
       "      <td>1.9914</td>\n",
       "      <td>1.9493</td>\n",
       "      <td>1.9370</td>\n",
       "      <td>1.9320</td>\n",
       "      <td>2.4404</td>\n",
       "      <td>2.4404</td>\n",
       "      <td>2.4270</td>\n",
       "      <td>2.5803</td>\n",
       "      <td>2.5953</td>\n",
       "    </tr>\n",
       "    <tr>\n",
       "      <th>9</th>\n",
       "      <td>mrvl</td>\n",
       "      <td>0.6734</td>\n",
       "      <td>0.6734</td>\n",
       "      <td>0.6733</td>\n",
       "      <td>0.6733</td>\n",
       "      <td>0.6654</td>\n",
       "      <td>0.7231</td>\n",
       "      <td>0.7251</td>\n",
       "      <td>0.7256</td>\n",
       "      <td>0.7256</td>\n",
       "      <td>...</td>\n",
       "      <td>2.7961</td>\n",
       "      <td>2.7996</td>\n",
       "      <td>2.8009</td>\n",
       "      <td>2.8009</td>\n",
       "      <td>2.7911</td>\n",
       "      <td>3.5656</td>\n",
       "      <td>3.5706</td>\n",
       "      <td>3.5683</td>\n",
       "      <td>3.5678</td>\n",
       "      <td>3.5892</td>\n",
       "    </tr>\n",
       "    <tr>\n",
       "      <th>10</th>\n",
       "      <td>ulta</td>\n",
       "      <td>5.0430</td>\n",
       "      <td>4.9929</td>\n",
       "      <td>4.9474</td>\n",
       "      <td>4.9295</td>\n",
       "      <td>4.8510</td>\n",
       "      <td>4.4375</td>\n",
       "      <td>4.4322</td>\n",
       "      <td>4.4341</td>\n",
       "      <td>4.3893</td>\n",
       "      <td>...</td>\n",
       "      <td>23.5885</td>\n",
       "      <td>23.5253</td>\n",
       "      <td>23.4631</td>\n",
       "      <td>23.4063</td>\n",
       "      <td>22.9149</td>\n",
       "      <td>26.2268</td>\n",
       "      <td>26.0666</td>\n",
       "      <td>25.9325</td>\n",
       "      <td>25.8268</td>\n",
       "      <td>25.3620</td>\n",
       "    </tr>\n",
       "    <tr>\n",
       "      <th>11</th>\n",
       "      <td>adsk</td>\n",
       "      <td>2.4509</td>\n",
       "      <td>2.4505</td>\n",
       "      <td>2.4505</td>\n",
       "      <td>2.4501</td>\n",
       "      <td>2.4505</td>\n",
       "      <td>2.3945</td>\n",
       "      <td>2.3943</td>\n",
       "      <td>2.3943</td>\n",
       "      <td>2.3959</td>\n",
       "      <td>...</td>\n",
       "      <td>9.6581</td>\n",
       "      <td>9.6534</td>\n",
       "      <td>9.6534</td>\n",
       "      <td>9.6502</td>\n",
       "      <td>9.6441</td>\n",
       "      <td>11.1241</td>\n",
       "      <td>11.1037</td>\n",
       "      <td>11.1037</td>\n",
       "      <td>11.0837</td>\n",
       "      <td>11.0697</td>\n",
       "    </tr>\n",
       "    <tr>\n",
       "      <th>12</th>\n",
       "      <td>gap</td>\n",
       "      <td>0.5482</td>\n",
       "      <td>0.5448</td>\n",
       "      <td>0.5481</td>\n",
       "      <td>0.5481</td>\n",
       "      <td>0.5826</td>\n",
       "      <td>0.6352</td>\n",
       "      <td>0.6456</td>\n",
       "      <td>0.6806</td>\n",
       "      <td>0.6806</td>\n",
       "      <td>...</td>\n",
       "      <td>2.1584</td>\n",
       "      <td>2.1685</td>\n",
       "      <td>2.2104</td>\n",
       "      <td>2.2105</td>\n",
       "      <td>2.3166</td>\n",
       "      <td>2.2696</td>\n",
       "      <td>2.3085</td>\n",
       "      <td>2.3626</td>\n",
       "      <td>2.3629</td>\n",
       "      <td>2.5026</td>\n",
       "    </tr>\n",
       "    <tr>\n",
       "      <th>13</th>\n",
       "      <td>baba</td>\n",
       "      <td>15.4709</td>\n",
       "      <td>15.4709</td>\n",
       "      <td>15.3194</td>\n",
       "      <td>17.0213</td>\n",
       "      <td>17.0442</td>\n",
       "      <td>12.8924</td>\n",
       "      <td>12.8924</td>\n",
       "      <td>12.6072</td>\n",
       "      <td>15.5141</td>\n",
       "      <td>...</td>\n",
       "      <td>62.4701</td>\n",
       "      <td>62.4701</td>\n",
       "      <td>62.5601</td>\n",
       "      <td>70.5625</td>\n",
       "      <td>70.9252</td>\n",
       "      <td>75.1931</td>\n",
       "      <td>75.1931</td>\n",
       "      <td>75.0527</td>\n",
       "      <td>80.0403</td>\n",
       "      <td>80.2980</td>\n",
       "    </tr>\n",
       "    <tr>\n",
       "      <th>14</th>\n",
       "      <td>td</td>\n",
       "      <td>2.0282</td>\n",
       "      <td>2.0500</td>\n",
       "      <td>2.0227</td>\n",
       "      <td>2.0221</td>\n",
       "      <td>2.0422</td>\n",
       "      <td>1.2400</td>\n",
       "      <td>1.2600</td>\n",
       "      <td>1.2500</td>\n",
       "      <td>1.2100</td>\n",
       "      <td>...</td>\n",
       "      <td>8.0228</td>\n",
       "      <td>7.9911</td>\n",
       "      <td>7.9690</td>\n",
       "      <td>7.9672</td>\n",
       "      <td>7.9649</td>\n",
       "      <td>8.6536</td>\n",
       "      <td>8.6116</td>\n",
       "      <td>8.5953</td>\n",
       "      <td>8.5934</td>\n",
       "      <td>8.5970</td>\n",
       "    </tr>\n",
       "  </tbody>\n",
       "</table>\n",
       "<p>15 rows × 21 columns</p>\n",
       "</div>"
      ],
      "text/plain": [
       "   Ticker  Curr Qtr Curr  Curr Qtr 7  Curr Qtr 30  Curr Qtr 60  Curr Qtr 90  \\\n",
       "0    nvda         1.0096      1.0044       0.9985       0.9949       0.9870   \n",
       "1    crwd         0.8300      0.8300       0.8300       0.8295       0.8091   \n",
       "2    snow         0.2665      0.2655       0.2661       0.2660       0.2649   \n",
       "3    five         0.6261      0.6078       0.5988       0.5940       0.5645   \n",
       "4     bby         1.2248      1.2242       1.2218       1.2218       1.3026   \n",
       "5      dg         1.5729      1.5729       1.5701       1.5655       1.5884   \n",
       "6     dks         4.2986      4.2984       4.3047       4.3128       4.3822   \n",
       "7    dell         2.2940      2.2903       2.2825       2.2732       2.0948   \n",
       "8    afrm         0.3156      0.3156       0.2960      -0.0900      -0.1700   \n",
       "9    mrvl         0.6734      0.6734       0.6733       0.6733       0.6654   \n",
       "10   ulta         5.0430      4.9929       4.9474       4.9295       4.8510   \n",
       "11   adsk         2.4509      2.4505       2.4505       2.4501       2.4505   \n",
       "12    gap         0.5482      0.5448       0.5481       0.5481       0.5826   \n",
       "13   baba        15.4709     15.4709      15.3194      17.0213      17.0442   \n",
       "14     td         2.0282      2.0500       2.0227       2.0221       2.0422   \n",
       "\n",
       "    Next Qtr Curr  Next Qtr 7  Next Qtr 30  Next Qtr 60  ...  Curr Yr Curr  \\\n",
       "0          1.1943      1.1891       1.1780       1.1647  ...        4.3657   \n",
       "1          0.9037      0.9037       0.9041       0.9037  ...        3.5143   \n",
       "2          0.2742      0.2744       0.2755       0.2754  ...        1.1140   \n",
       "3          0.0205      0.0149       0.0119       0.0108  ...        4.7181   \n",
       "4          1.2867      1.2930       1.2931       1.2931  ...        6.1886   \n",
       "5          0.8886      0.8886       0.8882       0.8835  ...        5.7516   \n",
       "6          2.8359      2.8295       2.8323       2.8386  ...       14.3670   \n",
       "7          2.5472      2.5463       2.5530       2.5453  ...        9.3722   \n",
       "8          0.4900      0.4900       0.4900       0.4950  ...        1.9914   \n",
       "9          0.7231      0.7251       0.7256       0.7256  ...        2.7961   \n",
       "10         4.4375      4.4322       4.4341       4.3893  ...       23.5885   \n",
       "11         2.3945      2.3943       2.3943       2.3959  ...        9.6581   \n",
       "12         0.6352      0.6456       0.6806       0.6806  ...        2.1584   \n",
       "13        12.8924     12.8924      12.6072      15.5141  ...       62.4701   \n",
       "14         1.2400      1.2600       1.2500       1.2100  ...        8.0228   \n",
       "\n",
       "    Curr Yr 7  Curr Yr 30  Curr Yr 60  Curr Yr 90  Next Yr Curr  Next Yr 7  \\\n",
       "0      4.3273      4.3040      4.2836      4.1707        6.0381     5.9142   \n",
       "1      3.5143      3.5142      3.5132      3.4890        4.7101     4.7482   \n",
       "2      1.1162      1.1146      1.1055      1.1063        1.5848     1.5916   \n",
       "3      4.6958      4.6787      4.6641      4.6595        5.2577     5.2340   \n",
       "4      6.1941      6.1959      6.1963      6.1679        6.6320     6.6367   \n",
       "5      5.7516      5.7464      5.7359      5.5972        6.3914     6.3914   \n",
       "6     14.3582     14.3639     14.3704     14.3414       15.3286    15.3002   \n",
       "7      9.3757      9.3914      9.3820      9.2593       10.7873    10.8062   \n",
       "8      1.9914      1.9493      1.9370      1.9320        2.4404     2.4404   \n",
       "9      2.7996      2.8009      2.8009      2.7911        3.5656     3.5706   \n",
       "10    23.5253     23.4631     23.4063     22.9149       26.2268    26.0666   \n",
       "11     9.6534      9.6534      9.6502      9.6441       11.1241    11.1037   \n",
       "12     2.1685      2.2104      2.2105      2.3166        2.2696     2.3085   \n",
       "13    62.4701     62.5601     70.5625     70.9252       75.1931    75.1931   \n",
       "14     7.9911      7.9690      7.9672      7.9649        8.6536     8.6116   \n",
       "\n",
       "    Next Yr 30  Next Yr 60  Next Yr 90  \n",
       "0       5.8403      5.7557      5.6227  \n",
       "1       4.7437      4.7450      4.5979  \n",
       "2       1.5829      1.5706      1.5690  \n",
       "3       5.1997      5.1658      4.9522  \n",
       "4       6.6592      6.6710      6.6824  \n",
       "5       6.3869      6.3850      6.1872  \n",
       "6      15.3022     15.3002     15.2565  \n",
       "7      10.7581     10.6849     10.3715  \n",
       "8       2.4270      2.5803      2.5953  \n",
       "9       3.5683      3.5678      3.5892  \n",
       "10     25.9325     25.8268     25.3620  \n",
       "11     11.1037     11.0837     11.0697  \n",
       "12      2.3626      2.3629      2.5026  \n",
       "13     75.0527     80.0403     80.2980  \n",
       "14      8.5953      8.5934      8.5970  \n",
       "\n",
       "[15 rows x 21 columns]"
      ]
     },
     "metadata": {},
     "output_type": "display_data"
    }
   ],
   "source": [
    "\n",
    "    tickers = [f\"{t}.US\" for t in raw1]\n",
    "    dfEPS = build_eps_trends(tickers)\n",
    "    display(dfEPS)"
   ]
  },
  {
   "cell_type": "code",
   "execution_count": 5,
   "id": "df2eb902-1c33-411e-869e-3a05df183836",
   "metadata": {},
   "outputs": [
    {
     "name": "stdout",
     "output_type": "stream",
     "text": [
      "nvda.US ...ok\n",
      "crwd.US ...ok\n",
      "snow.US ...ok\n",
      "five.US ...ok\n",
      "bby.US ...ok\n",
      "dg.US ...ok\n",
      "dks.US ...ok\n",
      "dell.US ...ok\n",
      "afrm.US ...ok\n",
      "mrvl.US ...ok\n",
      "ulta.US ...ok\n",
      "adsk.US ...ok\n",
      "gap.US ...ok\n",
      "baba.US ...ok\n",
      "td.US ...ok\n"
     ]
    },
    {
     "data": {
      "image/png": "[encoded data removed]",
      "text/plain": [
       "<Figure size 1500x600 with 2 Axes>"
      ]
     },
     "metadata": {},
     "output_type": "display_data"
    },
    {
     "data": {
      "application/vnd.plotly.v1+json": {
       "config": {
        "plotlyServerURL": "https://plot.ly"
       },
       "data": [
        {
         "mode": "lines+markers",
         "name": "Curr Qtr",
         "type": "scatter",
         "x": [
          90,
          60,
          30,
          7,
          0
         ],
         "xaxis": "x",
         "y": [
          0.987,
          0.9949,
          0.9985,
          1.0044,
          1.0096
         ],
         "yaxis": "y"
        },
        {
         "mode": "lines+markers",
         "name": "Next Qtr",
         "type": "scatter",
         "x": [
          90,
          60,
          30,
          7,
          0
         ],
         "xaxis": "x",
         "y": [
          1.1368,
          1.1647,
          1.178,
          1.1891,
          1.1943
         ],
         "yaxis": "y"
        },
        {
         "mode": "lines+markers",
         "name": "Curr Yr",
         "type": "scatter",
         "x": [
          90,
          60,
          30,
          7,
          0
         ],
         "xaxis": "x2",
         "y": [
          4.1707,
          4.2836,
          4.304,
          4.3273,
          4.3657
         ],
         "yaxis": "y2"
        },
        {
         "mode": "lines+markers",
         "name": "Next Yr",
         "type": "scatter",
         "x": [
          90,
          60,
          30,
          7,
          0
         ],
         "xaxis": "x2",
         "y": [
          5.6227,
          5.7557,
          5.8403,
          5.9142,
          6.0381
         ],
         "yaxis": "y2"
        }
       ],
       "layout": {
        "annotations": [
         {
          "font": {
           "size": 16
          },
          "showarrow": false,
          "text": "Quarterly EPS Trends",
          "x": 0.225,
          "xanchor": "center",
          "xref": "paper",
          "y": 1,
          "yanchor": "bottom",
          "yref": "paper"
         },
         {
          "font": {
           "size": 16
          },
          "showarrow": false,
          "text": "Yearly EPS Trends",
          "x": 0.775,
          "xanchor": "center",
          "xref": "paper",
          "y": 1,
          "yanchor": "bottom",
          "yref": "paper"
         }
        ],
        "height": 500,
        "showlegend": true,
        "template": {
         "data": {
          "bar": [
           {
            "error_x": {
             "color": "#2a3f5f"
            },
            "error_y": {
             "color": "#2a3f5f"
            },
            "marker": {
             "line": {
              "color": "#E5ECF6",
              "width": 0.5
             },
             "pattern": {
              "fillmode": "overlay",
              "size": 10,
              "solidity": 0.2
             }
            },
            "type": "bar"
           }
          ],
          "barpolar": [
           {
            "marker": {
             "line": {
              "color": "#E5ECF6",
              "width": 0.5
             },
             "pattern": {
              "fillmode": "overlay",
              "size": 10,
              "solidity": 0.2
             }
            },
            "type": "barpolar"
           }
          ],
          "carpet": [
           {
            "aaxis": {
             "endlinecolor": "#2a3f5f",
             "gridcolor": "white",
             "linecolor": "white",
             "minorgridcolor": "white",
             "startlinecolor": "#2a3f5f"
            },
            "baxis": {
             "endlinecolor": "#2a3f5f",
             "gridcolor": "white",
             "linecolor": "white",
             "minorgridcolor": "white",
             "startlinecolor": "#2a3f5f"
            },
            "type": "carpet"
           }
          ],
          "choropleth": [
           {
            "colorbar": {
             "outlinewidth": 0,
             "ticks": ""
            },
            "type": "choropleth"
           }
          ],
          "contour": [
           {
            "colorbar": {
             "outlinewidth": 0,
             "ticks": ""
            },
            "colorscale": [
             [
              0,
              "#0d0887"
             ],
             [
              0.1111111111111111,
              "#46039f"
             ],
             [
              0.2222222222222222,
              "#7201a8"
             ],
             [
              0.3333333333333333,
              "#9c179e"
             ],
             [
              0.4444444444444444,
              "#bd3786"
             ],
             [
              0.5555555555555556,
              "#d8576b"
             ],
             [
              0.6666666666666666,
              "#ed7953"
             ],
             [
              0.7777777777777778,
              "#fb9f3a"
             ],
             [
              0.8888888888888888,
              "#fdca26"
             ],
             [
              1,
              "#f0f921"
             ]
            ],
            "type": "contour"
           }
          ],
          "contourcarpet": [
           {
            "colorbar": {
             "outlinewidth": 0,
             "ticks": ""
            },
            "type": "contourcarpet"
           }
          ],
          "heatmap": [
           {
            "colorbar": {
             "outlinewidth": 0,
             "ticks": ""
            },
            "colorscale": [
             [
              0,
              "#0d0887"
             ],
             [
              0.1111111111111111,
              "#46039f"
             ],
             [
              0.2222222222222222,
              "#7201a8"
             ],
             [
              0.3333333333333333,
              "#9c179e"
             ],
             [
              0.4444444444444444,
              "#bd3786"
             ],
             [
              0.5555555555555556,
              "#d8576b"
             ],
             [
              0.6666666666666666,
              "#ed7953"
             ],
             [
              0.7777777777777778,
              "#fb9f3a"
             ],
             [
              0.8888888888888888,
              "#fdca26"
             ],
             [
              1,
              "#f0f921"
             ]
            ],
            "type": "heatmap"
           }
          ],
          "histogram": [
           {
            "marker": {
             "pattern": {
              "fillmode": "overlay",
              "size": 10,
              "solidity": 0.2
             }
            },
            "type": "histogram"
           }
          ],
          "histogram2d": [
           {
            "colorbar": {
             "outlinewidth": 0,
             "ticks": ""
            },
            "colorscale": [
             [
              0,
              "#0d0887"
             ],
             [
              0.1111111111111111,
              "#46039f"
             ],
             [
              0.2222222222222222,
              "#7201a8"
             ],
             [
              0.3333333333333333,
              "#9c179e"
             ],
             [
              0.4444444444444444,
              "#bd3786"
             ],
             [
              0.5555555555555556,
              "#d8576b"
             ],
             [
              0.6666666666666666,
              "#ed7953"
             ],
             [
              0.7777777777777778,
              "#fb9f3a"
             ],
             [
              0.8888888888888888,
              "#fdca26"
             ],
             [
              1,
              "#f0f921"
             ]
            ],
            "type": "histogram2d"
           }
          ],
          "histogram2dcontour": [
           {
            "colorbar": {
             "outlinewidth": 0,
             "ticks": ""
            },
            "colorscale": [
             [
              0,
              "#0d0887"
             ],
             [
              0.1111111111111111,
              "#46039f"
             ],
             [
              0.2222222222222222,
              "#7201a8"
             ],
             [
              0.3333333333333333,
              "#9c179e"
             ],
             [
              0.4444444444444444,
              "#bd3786"
             ],
             [
              0.5555555555555556,
              "#d8576b"
             ],
             [
              0.6666666666666666,
              "#ed7953"
             ],
             [
              0.7777777777777778,
              "#fb9f3a"
             ],
             [
              0.8888888888888888,
              "#fdca26"
             ],
             [
              1,
              "#f0f921"
             ]
            ],
            "type": "histogram2dcontour"
           }
          ],
          "mesh3d": [
           {
            "colorbar": {
             "outlinewidth": 0,
             "ticks": ""
            },
            "type": "mesh3d"
           }
          ],
          "parcoords": [
           {
            "line": {
             "colorbar": {
              "outlinewidth": 0,
              "ticks": ""
             }
            },
            "type": "parcoords"
           }
          ],
          "pie": [
           {
            "automargin": true,
            "type": "pie"
           }
          ],
          "scatter": [
           {
            "fillpattern": {
             "fillmode": "overlay",
             "size": 10,
             "solidity": 0.2
            },
            "type": "scatter"
           }
          ],
          "scatter3d": [
           {
            "line": {
             "colorbar": {
              "outlinewidth": 0,
              "ticks": ""
             }
            },
            "marker": {
             "colorbar": {
              "outlinewidth": 0,
              "ticks": ""
             }
            },
            "type": "scatter3d"
           }
          ],
          "scattercarpet": [
           {
            "marker": {
             "colorbar": {
              "outlinewidth": 0,
              "ticks": ""
             }
            },
            "type": "scattercarpet"
           }
          ],
          "scattergeo": [
           {
            "marker": {
             "colorbar": {
              "outlinewidth": 0,
              "ticks": ""
             }
            },
            "type": "scattergeo"
           }
          ],
          "scattergl": [
           {
            "marker": {
             "colorbar": {
              "outlinewidth": 0,
              "ticks": ""
             }
            },
            "type": "scattergl"
           }
          ],
          "scattermap": [
           {
            "marker": {
             "colorbar": {
              "outlinewidth": 0,
              "ticks": ""
             }
            },
            "type": "scattermap"
           }
          ],
          "scattermapbox": [
           {
            "marker": {
             "colorbar": {
              "outlinewidth": 0,
              "ticks": ""
             }
            },
            "type": "scattermapbox"
           }
          ],
          "scatterpolar": [
           {
            "marker": {
             "colorbar": {
              "outlinewidth": 0,
              "ticks": ""
             }
            },
            "type": "scatterpolar"
           }
          ],
          "scatterpolargl": [
           {
            "marker": {
             "colorbar": {
              "outlinewidth": 0,
              "ticks": ""
             }
            },
            "type": "scatterpolargl"
           }
          ],
          "scatterternary": [
           {
            "marker": {
             "colorbar": {
              "outlinewidth": 0,
              "ticks": ""
             }
            },
            "type": "scatterternary"
           }
          ],
          "surface": [
           {
            "colorbar": {
             "outlinewidth": 0,
             "ticks": ""
            },
            "colorscale": [
             [
              0,
              "#0d0887"
             ],
             [
              0.1111111111111111,
              "#46039f"
             ],
             [
              0.2222222222222222,
              "#7201a8"
             ],
             [
              0.3333333333333333,
              "#9c179e"
             ],
             [
              0.4444444444444444,
              "#bd3786"
             ],
             [
              0.5555555555555556,
              "#d8576b"
             ],
             [
              0.6666666666666666,
              "#ed7953"
             ],
             [
              0.7777777777777778,
              "#fb9f3a"
             ],
             [
              0.8888888888888888,
              "#fdca26"
             ],
             [
              1,
              "#f0f921"
             ]
            ],
            "type": "surface"
           }
          ],
          "table": [
           {
            "cells": {
             "fill": {
              "color": "#EBF0F8"
             },
             "line": {
              "color": "white"
             }
            },
            "header": {
             "fill": {
              "color": "#C8D4E3"
             },
             "line": {
              "color": "white"
             }
            },
            "type": "table"
           }
          ]
         },
         "layout": {
          "annotationdefaults": {
           "arrowcolor": "#2a3f5f",
           "arrowhead": 0,
           "arrowwidth": 1
          },
          "autotypenumbers": "strict",
          "coloraxis": {
           "colorbar": {
            "outlinewidth": 0,
            "ticks": ""
           }
          },
          "colorscale": {
           "diverging": [
            [
             0,
             "#8e0152"
            ],
            [
             0.1,
             "#c51b7d"
            ],
            [
             0.2,
             "#de77ae"
            ],
            [
             0.3,
             "#f1b6da"
            ],
            [
             0.4,
             "#fde0ef"
            ],
            [
             0.5,
             "#f7f7f7"
            ],
            [
             0.6,
             "#e6f5d0"
            ],
            [
             0.7,
             "#b8e186"
            ],
            [
             0.8,
             "#7fbc41"
            ],
            [
             0.9,
             "#4d9221"
            ],
            [
             1,
             "#276419"
            ]
           ],
           "sequential": [
            [
             0,
             "#0d0887"
            ],
            [
             0.1111111111111111,
             "#46039f"
            ],
            [
             0.2222222222222222,
             "#7201a8"
            ],
            [
             0.3333333333333333,
             "#9c179e"
            ],
            [
             0.4444444444444444,
             "#bd3786"
            ],
            [
             0.5555555555555556,
             "#d8576b"
            ],
            [
             0.6666666666666666,
             "#ed7953"
            ],
            [
             0.7777777777777778,
             "#fb9f3a"
            ],
            [
             0.8888888888888888,
             "#fdca26"
            ],
            [
             1,
             "#f0f921"
            ]
           ],
           "sequentialminus": [
            [
             0,
             "#0d0887"
            ],
            [
             0.1111111111111111,
             "#46039f"
            ],
            [
             0.2222222222222222,
             "#7201a8"
            ],
            [
             0.3333333333333333,
             "#9c179e"
            ],
            [
             0.4444444444444444,
             "#bd3786"
            ],
            [
             0.5555555555555556,
             "#d8576b"
            ],
            [
             0.6666666666666666,
             "#ed7953"
            ],
            [
             0.7777777777777778,
             "#fb9f3a"
            ],
            [
             0.8888888888888888,
             "#fdca26"
            ],
            [
             1,
             "#f0f921"
            ]
           ]
          },
          "colorway": [
           "#636efa",
           "#EF553B",
           "#00cc96",
           "#ab63fa",
           "#FFA15A",
           "#19d3f3",
           "#FF6692",
           "#B6E880",
           "#FF97FF",
           "#FECB52"
          ],
          "font": {
           "color": "#2a3f5f"
          },
          "geo": {
           "bgcolor": "white",
           "lakecolor": "white",
           "landcolor": "#E5ECF6",
           "showlakes": true,
           "showland": true,
           "subunitcolor": "white"
          },
          "hoverlabel": {
           "align": "left"
          },
          "hovermode": "closest",
          "mapbox": {
           "style": "light"
          },
          "paper_bgcolor": "white",
          "plot_bgcolor": "#E5ECF6",
          "polar": {
           "angularaxis": {
            "gridcolor": "white",
            "linecolor": "white",
            "ticks": ""
           },
           "bgcolor": "#E5ECF6",
           "radialaxis": {
            "gridcolor": "white",
            "linecolor": "white",
            "ticks": ""
           }
          },
          "scene": {
           "xaxis": {
            "backgroundcolor": "#E5ECF6",
            "gridcolor": "white",
            "gridwidth": 2,
            "linecolor": "white",
            "showbackground": true,
            "ticks": "",
            "zerolinecolor": "white"
           },
           "yaxis": {
            "backgroundcolor": "#E5ECF6",
            "gridcolor": "white",
            "gridwidth": 2,
            "linecolor": "white",
            "showbackground": true,
            "ticks": "",
            "zerolinecolor": "white"
           },
           "zaxis": {
            "backgroundcolor": "#E5ECF6",
            "gridcolor": "white",
            "gridwidth": 2,
            "linecolor": "white",
            "showbackground": true,
            "ticks": "",
            "zerolinecolor": "white"
           }
          },
          "shapedefaults": {
           "line": {
            "color": "#2a3f5f"
           }
          },
          "ternary": {
           "aaxis": {
            "gridcolor": "white",
            "linecolor": "white",
            "ticks": ""
           },
           "baxis": {
            "gridcolor": "white",
            "linecolor": "white",
            "ticks": ""
           },
           "bgcolor": "#E5ECF6",
           "caxis": {
            "gridcolor": "white",
            "linecolor": "white",
            "ticks": ""
           }
          },
          "title": {
           "x": 0.05
          },
          "xaxis": {
           "automargin": true,
           "gridcolor": "white",
           "linecolor": "white",
           "ticks": "",
           "title": {
            "standoff": 15
           },
           "zerolinecolor": "white",
           "zerolinewidth": 2
          },
          "yaxis": {
           "automargin": true,
           "gridcolor": "white",
           "linecolor": "white",
           "ticks": "",
           "title": {
            "standoff": 15
           },
           "zerolinecolor": "white",
           "zerolinewidth": 2
          }
         }
        },
        "title": {
         "text": "EPS Trend Breakdown for nvda"
        },
        "width": 1000,
        "xaxis": {
         "anchor": "y",
         "domain": [
          0,
          0.45
         ],
         "title": {
          "text": "Days Ago"
         }
        },
        "xaxis2": {
         "anchor": "y2",
         "domain": [
          0.55,
          1
         ],
         "title": {
          "text": "Days Ago"
         }
        },
        "yaxis": {
         "anchor": "x",
         "domain": [
          0,
          1
         ],
         "title": {
          "text": "EPS"
         }
        },
        "yaxis2": {
         "anchor": "x2",
         "domain": [
          0,
          1
         ],
         "title": {
          "text": "EPS"
         }
        }
       }
      }
     },
     "metadata": {},
     "output_type": "display_data"
    },
    {
     "data": {
      "application/vnd.plotly.v1+json": {
       "config": {
        "plotlyServerURL": "https://plot.ly"
       },
       "data": [
        {
         "mode": "lines+markers",
         "name": "Curr Qtr",
         "type": "scatter",
         "x": [
          90,
          60,
          30,
          7,
          0
         ],
         "xaxis": "x",
         "y": [
          0.8091,
          0.8295,
          0.83,
          0.83,
          0.83
         ],
         "yaxis": "y"
        },
        {
         "mode": "lines+markers",
         "name": "Next Qtr",
         "type": "scatter",
         "x": [
          90,
          60,
          30,
          7,
          0
         ],
         "xaxis": "x",
         "y": [
          0.9154,
          0.9037,
          0.9041,
          0.9037,
          0.9037
         ],
         "yaxis": "y"
        },
        {
         "mode": "lines+markers",
         "name": "Curr Yr",
         "type": "scatter",
         "x": [
          90,
          60,
          30,
          7,
          0
         ],
         "xaxis": "x2",
         "y": [
          3.489,
          3.5132,
          3.5142,
          3.5143,
          3.5143
         ],
         "yaxis": "y2"
        },
        {
         "mode": "lines+markers",
         "name": "Next Yr",
         "type": "scatter",
         "x": [
          90,
          60,
          30,
          7,
          0
         ],
         "xaxis": "x2",
         "y": [
          4.5979,
          4.745,
          4.7437,
          4.7482,
          4.7101
         ],
         "yaxis": "y2"
        }
       ],
       "layout": {
        "annotations": [
         {
          "font": {
           "size": 16
          },
          "showarrow": false,
          "text": "Quarterly EPS Trends",
          "x": 0.225,
          "xanchor": "center",
          "xref": "paper",
          "y": 1,
          "yanchor": "bottom",
          "yref": "paper"
         },
         {
          "font": {
           "size": 16
          },
          "showarrow": false,
          "text": "Yearly EPS Trends",
          "x": 0.775,
          "xanchor": "center",
          "xref": "paper",
          "y": 1,
          "yanchor": "bottom",
          "yref": "paper"
         }
        ],
        "height": 500,
        "showlegend": true,
        "template": {
         "data": {
          "bar": [
           {
            "error_x": {
             "color": "#2a3f5f"
            },
            "error_y": {
             "color": "#2a3f5f"
            },
            "marker": {
             "line": {
              "color": "#E5ECF6",
              "width": 0.5
             },
             "pattern": {
              "fillmode": "overlay",
              "size": 10,
              "solidity": 0.2
             }
            },
            "type": "bar"
           }
          ],
          "barpolar": [
           {
            "marker": {
             "line": {
              "color": "#E5ECF6",
              "width": 0.5
             },
             "pattern": {
              "fillmode": "overlay",
              "size": 10,
              "solidity": 0.2
             }
            },
            "type": "barpolar"
           }
          ],
          "carpet": [
           {
            "aaxis": {
             "endlinecolor": "#2a3f5f",
             "gridcolor": "white",
             "linecolor": "white",
             "minorgridcolor": "white",
             "startlinecolor": "#2a3f5f"
            },
            "baxis": {
             "endlinecolor": "#2a3f5f",
             "gridcolor": "white",
             "linecolor": "white",
             "minorgridcolor": "white",
             "startlinecolor": "#2a3f5f"
            },
            "type": "carpet"
           }
          ],
          "choropleth": [
           {
            "colorbar": {
             "outlinewidth": 0,
             "ticks": ""
            },
            "type": "choropleth"
           }
          ],
          "contour": [
           {
            "colorbar": {
             "outlinewidth": 0,
             "ticks": ""
            },
            "colorscale": [
             [
              0,
              "#0d0887"
             ],
             [
              0.1111111111111111,
              "#46039f"
             ],
             [
              0.2222222222222222,
              "#7201a8"
             ],
             [
              0.3333333333333333,
              "#9c179e"
             ],
             [
              0.4444444444444444,
              "#bd3786"
             ],
             [
              0.5555555555555556,
              "#d8576b"
             ],
             [
              0.6666666666666666,
              "#ed7953"
             ],
             [
              0.7777777777777778,
              "#fb9f3a"
             ],
             [
              0.8888888888888888,
              "#fdca26"
             ],
             [
              1,
              "#f0f921"
             ]
            ],
            "type": "contour"
           }
          ],
          "contourcarpet": [
           {
            "colorbar": {
             "outlinewidth": 0,
             "ticks": ""
            },
            "type": "contourcarpet"
           }
          ],
          "heatmap": [
           {
            "colorbar": {
             "outlinewidth": 0,
             "ticks": ""
            },
            "colorscale": [
             [
              0,
              "#0d0887"
             ],
             [
              0.1111111111111111,
              "#46039f"
             ],
             [
              0.2222222222222222,
              "#7201a8"
             ],
             [
              0.3333333333333333,
              "#9c179e"
             ],
             [
              0.4444444444444444,
              "#bd3786"
             ],
             [
              0.5555555555555556,
              "#d8576b"
             ],
             [
              0.6666666666666666,
              "#ed7953"
             ],
             [
              0.7777777777777778,
              "#fb9f3a"
             ],
             [
              0.8888888888888888,
              "#fdca26"
             ],
             [
              1,
              "#f0f921"
             ]
            ],
            "type": "heatmap"
           }
          ],
          "histogram": [
           {
            "marker": {
             "pattern": {
              "fillmode": "overlay",
              "size": 10,
              "solidity": 0.2
             }
            },
            "type": "histogram"
           }
          ],
          "histogram2d": [
           {
            "colorbar": {
             "outlinewidth": 0,
             "ticks": ""
            },
            "colorscale": [
             [
              0,
              "#0d0887"
             ],
             [
              0.1111111111111111,
              "#46039f"
             ],
             [
              0.2222222222222222,
              "#7201a8"
             ],
             [
              0.3333333333333333,
              "#9c179e"
             ],
             [
              0.4444444444444444,
              "#bd3786"
             ],
             [
              0.5555555555555556,
              "#d8576b"
             ],
             [
              0.6666666666666666,
              "#ed7953"
             ],
             [
              0.7777777777777778,
              "#fb9f3a"
             ],
             [
              0.8888888888888888,
              "#fdca26"
             ],
             [
              1,
              "#f0f921"
             ]
            ],
            "type": "histogram2d"
           }
          ],
          "histogram2dcontour": [
           {
            "colorbar": {
             "outlinewidth": 0,
             "ticks": ""
            },
            "colorscale": [
             [
              0,
              "#0d0887"
             ],
             [
              0.1111111111111111,
              "#46039f"
             ],
             [
              0.2222222222222222,
              "#7201a8"
             ],
             [
              0.3333333333333333,
              "#9c179e"
             ],
             [
              0.4444444444444444,
              "#bd3786"
             ],
             [
              0.5555555555555556,
              "#d8576b"
             ],
             [
              0.6666666666666666,
              "#ed7953"
             ],
             [
              0.7777777777777778,
              "#fb9f3a"
             ],
             [
              0.8888888888888888,
              "#fdca26"
             ],
             [
              1,
              "#f0f921"
             ]
            ],
            "type": "histogram2dcontour"
           }
          ],
          "mesh3d": [
           {
            "colorbar": {
             "outlinewidth": 0,
             "ticks": ""
            },
            "type": "mesh3d"
           }
          ],
          "parcoords": [
           {
            "line": {
             "colorbar": {
              "outlinewidth": 0,
              "ticks": ""
             }
            },
            "type": "parcoords"
           }
          ],
          "pie": [
           {
            "automargin": true,
            "type": "pie"
           }
          ],
          "scatter": [
           {
            "fillpattern": {
             "fillmode": "overlay",
             "size": 10,
             "solidity": 0.2
            },
            "type": "scatter"
           }
          ],
          "scatter3d": [
           {
            "line": {
             "colorbar": {
              "outlinewidth": 0,
              "ticks": ""
             }
            },
            "marker": {
             "colorbar": {
              "outlinewidth": 0,
              "ticks": ""
             }
            },
            "type": "scatter3d"
           }
          ],
          "scattercarpet": [
           {
            "marker": {
             "colorbar": {
              "outlinewidth": 0,
              "ticks": ""
             }
            },
            "type": "scattercarpet"
           }
          ],
          "scattergeo": [
           {
            "marker": {
             "colorbar": {
              "outlinewidth": 0,
              "ticks": ""
             }
            },
            "type": "scattergeo"
           }
          ],
          "scattergl": [
           {
            "marker": {
             "colorbar": {
              "outlinewidth": 0,
              "ticks": ""
             }
            },
            "type": "scattergl"
           }
          ],
          "scattermap": [
           {
            "marker": {
             "colorbar": {
              "outlinewidth": 0,
              "ticks": ""
             }
            },
            "type": "scattermap"
           }
          ],
          "scattermapbox": [
           {
            "marker": {
             "colorbar": {
              "outlinewidth": 0,
              "ticks": ""
             }
            },
            "type": "scattermapbox"
           }
          ],
          "scatterpolar": [
           {
            "marker": {
             "colorbar": {
              "outlinewidth": 0,
              "ticks": ""
             }
            },
            "type": "scatterpolar"
           }
          ],
          "scatterpolargl": [
           {
            "marker": {
             "colorbar": {
              "outlinewidth": 0,
              "ticks": ""
             }
            },
            "type": "scatterpolargl"
           }
          ],
          "scatterternary": [
           {
            "marker": {
             "colorbar": {
              "outlinewidth": 0,
              "ticks": ""
             }
            },
            "type": "scatterternary"
           }
          ],
          "surface": [
           {
            "colorbar": {
             "outlinewidth": 0,
             "ticks": ""
            },
            "colorscale": [
             [
              0,
              "#0d0887"
             ],
             [
              0.1111111111111111,
              "#46039f"
             ],
             [
              0.2222222222222222,
              "#7201a8"
             ],
             [
              0.3333333333333333,
              "#9c179e"
             ],
             [
              0.4444444444444444,
              "#bd3786"
             ],
             [
              0.5555555555555556,
              "#d8576b"
             ],
             [
              0.6666666666666666,
              "#ed7953"
             ],
             [
              0.7777777777777778,
              "#fb9f3a"
             ],
             [
              0.8888888888888888,
              "#fdca26"
             ],
             [
              1,
              "#f0f921"
             ]
            ],
            "type": "surface"
           }
          ],
          "table": [
           {
            "cells": {
             "fill": {
              "color": "#EBF0F8"
             },
             "line": {
              "color": "white"
             }
            },
            "header": {
             "fill": {
              "color": "#C8D4E3"
             },
             "line": {
              "color": "white"
             }
            },
            "type": "table"
           }
          ]
         },
         "layout": {
          "annotationdefaults": {
           "arrowcolor": "#2a3f5f",
           "arrowhead": 0,
           "arrowwidth": 1
          },
          "autotypenumbers": "strict",
          "coloraxis": {
           "colorbar": {
            "outlinewidth": 0,
            "ticks": ""
           }
          },
          "colorscale": {
           "diverging": [
            [
             0,
             "#8e0152"
            ],
            [
             0.1,
             "#c51b7d"
            ],
            [
             0.2,
             "#de77ae"
            ],
            [
             0.3,
             "#f1b6da"
            ],
            [
             0.4,
             "#fde0ef"
            ],
            [
             0.5,
             "#f7f7f7"
            ],
            [
             0.6,
             "#e6f5d0"
            ],
            [
             0.7,
             "#b8e186"
            ],
            [
             0.8,
             "#7fbc41"
            ],
            [
             0.9,
             "#4d9221"
            ],
            [
             1,
             "#276419"
            ]
           ],
           "sequential": [
            [
             0,
             "#0d0887"
            ],
            [
             0.1111111111111111,
             "#46039f"
            ],
            [
             0.2222222222222222,
             "#7201a8"
            ],
            [
             0.3333333333333333,
             "#9c179e"
            ],
            [
             0.4444444444444444,
             "#bd3786"
            ],
            [
             0.5555555555555556,
             "#d8576b"
            ],
            [
             0.6666666666666666,
             "#ed7953"
            ],
            [
             0.7777777777777778,
             "#fb9f3a"
            ],
            [
             0.8888888888888888,
             "#fdca26"
            ],
            [
             1,
             "#f0f921"
            ]
           ],
           "sequentialminus": [
            [
             0,
             "#0d0887"
            ],
            [
             0.1111111111111111,
             "#46039f"
            ],
            [
             0.2222222222222222,
             "#7201a8"
            ],
            [
             0.3333333333333333,
             "#9c179e"
            ],
            [
             0.4444444444444444,
             "#bd3786"
            ],
            [
             0.5555555555555556,
             "#d8576b"
            ],
            [
             0.6666666666666666,
             "#ed7953"
            ],
            [
             0.7777777777777778,
             "#fb9f3a"
            ],
            [
             0.8888888888888888,
             "#fdca26"
            ],
            [
             1,
             "#f0f921"
            ]
           ]
          },
          "colorway": [
           "#636efa",
           "#EF553B",
           "#00cc96",
           "#ab63fa",
           "#FFA15A",
           "#19d3f3",
           "#FF6692",
           "#B6E880",
           "#FF97FF",
           "#FECB52"
          ],
          "font": {
           "color": "#2a3f5f"
          },
          "geo": {
           "bgcolor": "white",
           "lakecolor": "white",
           "landcolor": "#E5ECF6",
           "showlakes": true,
           "showland": true,
           "subunitcolor": "white"
          },
          "hoverlabel": {
           "align": "left"
          },
          "hovermode": "closest",
          "mapbox": {
           "style": "light"
          },
          "paper_bgcolor": "white",
          "plot_bgcolor": "#E5ECF6",
          "polar": {
           "angularaxis": {
            "gridcolor": "white",
            "linecolor": "white",
            "ticks": ""
           },
           "bgcolor": "#E5ECF6",
           "radialaxis": {
            "gridcolor": "white",
            "linecolor": "white",
            "ticks": ""
           }
          },
          "scene": {
           "xaxis": {
            "backgroundcolor": "#E5ECF6",
            "gridcolor": "white",
            "gridwidth": 2,
            "linecolor": "white",
            "showbackground": true,
            "ticks": "",
            "zerolinecolor": "white"
           },
           "yaxis": {
            "backgroundcolor": "#E5ECF6",
            "gridcolor": "white",
            "gridwidth": 2,
            "linecolor": "white",
            "showbackground": true,
            "ticks": "",
            "zerolinecolor": "white"
           },
           "zaxis": {
            "backgroundcolor": "#E5ECF6",
            "gridcolor": "white",
            "gridwidth": 2,
            "linecolor": "white",
            "showbackground": true,
            "ticks": "",
            "zerolinecolor": "white"
           }
          },
          "shapedefaults": {
           "line": {
            "color": "#2a3f5f"
           }
          },
          "ternary": {
           "aaxis": {
            "gridcolor": "white",
            "linecolor": "white",
            "ticks": ""
           },
           "baxis": {
            "gridcolor": "white",
            "linecolor": "white",
            "ticks": ""
           },
           "bgcolor": "#E5ECF6",
           "caxis": {
            "gridcolor": "white",
            "linecolor": "white",
            "ticks": ""
           }
          },
          "title": {
           "x": 0.05
          },
          "xaxis": {
           "automargin": true,
           "gridcolor": "white",
           "linecolor": "white",
           "ticks": "",
           "title": {
            "standoff": 15
           },
           "zerolinecolor": "white",
           "zerolinewidth": 2
          },
          "yaxis": {
           "automargin": true,
           "gridcolor": "white",
           "linecolor": "white",
           "ticks": "",
           "title": {
            "standoff": 15
           },
           "zerolinecolor": "white",
           "zerolinewidth": 2
          }
         }
        },
        "title": {
         "text": "EPS Trend Breakdown for crwd"
        },
        "width": 1000,
        "xaxis": {
         "anchor": "y",
         "domain": [
          0,
          0.45
         ],
         "title": {
          "text": "Days Ago"
         }
        },
        "xaxis2": {
         "anchor": "y2",
         "domain": [
          0.55,
          1
         ],
         "title": {
          "text": "Days Ago"
         }
        },
        "yaxis": {
         "anchor": "x",
         "domain": [
          0,
          1
         ],
         "title": {
          "text": "EPS"
         }
        },
        "yaxis2": {
         "anchor": "x2",
         "domain": [
          0,
          1
         ],
         "title": {
          "text": "EPS"
         }
        }
       }
      }
     },
     "metadata": {},
     "output_type": "display_data"
    },
    {
     "data": {
      "application/vnd.plotly.v1+json": {
       "config": {
        "plotlyServerURL": "https://plot.ly"
       },
       "data": [
        {
         "mode": "lines+markers",
         "name": "Curr Qtr",
         "type": "scatter",
         "x": [
          90,
          60,
          30,
          7,
          0
         ],
         "xaxis": "x",
         "y": [
          0.2649,
          0.266,
          0.2661,
          0.2655,
          0.2665
         ],
         "yaxis": "y"
        },
        {
         "mode": "lines+markers",
         "name": "Next Qtr",
         "type": "scatter",
         "x": [
          90,
          60,
          30,
          7,
          0
         ],
         "xaxis": "x",
         "y": [
          0.278,
          0.2754,
          0.2755,
          0.2744,
          0.2742
         ],
         "yaxis": "y"
        },
        {
         "mode": "lines+markers",
         "name": "Curr Yr",
         "type": "scatter",
         "x": [
          90,
          60,
          30,
          7,
          0
         ],
         "xaxis": "x2",
         "y": [
          1.1063,
          1.1055,
          1.1146,
          1.1162,
          1.114
         ],
         "yaxis": "y2"
        },
        {
         "mode": "lines+markers",
         "name": "Next Yr",
         "type": "scatter",
         "x": [
          90,
          60,
          30,
          7,
          0
         ],
         "xaxis": "x2",
         "y": [
          1.569,
          1.5706,
          1.5829,
          1.5916,
          1.5848
         ],
         "yaxis": "y2"
        }
       ],
       "layout": {
        "annotations": [
         {
          "font": {
           "size": 16
          },
          "showarrow": false,
          "text": "Quarterly EPS Trends",
          "x": 0.225,
          "xanchor": "center",
          "xref": "paper",
          "y": 1,
          "yanchor": "bottom",
          "yref": "paper"
         },
         {
          "font": {
           "size": 16
          },
          "showarrow": false,
          "text": "Yearly EPS Trends",
          "x": 0.775,
          "xanchor": "center",
          "xref": "paper",
          "y": 1,
          "yanchor": "bottom",
          "yref": "paper"
         }
        ],
        "height": 500,
        "showlegend": true,
        "template": {
         "data": {
          "bar": [
           {
            "error_x": {
             "color": "#2a3f5f"
            },
            "error_y": {
             "color": "#2a3f5f"
            },
            "marker": {
             "line": {
              "color": "#E5ECF6",
              "width": 0.5
             },
             "pattern": {
              "fillmode": "overlay",
              "size": 10,
              "solidity": 0.2
             }
            },
            "type": "bar"
           }
          ],
          "barpolar": [
           {
            "marker": {
             "line": {
              "color": "#E5ECF6",
              "width": 0.5
             },
             "pattern": {
              "fillmode": "overlay",
              "size": 10,
              "solidity": 0.2
             }
            },
            "type": "barpolar"
           }
          ],
          "carpet": [
           {
            "aaxis": {
             "endlinecolor": "#2a3f5f",
             "gridcolor": "white",
             "linecolor": "white",
             "minorgridcolor": "white",
             "startlinecolor": "#2a3f5f"
            },
            "baxis": {
             "endlinecolor": "#2a3f5f",
             "gridcolor": "white",
             "linecolor": "white",
             "minorgridcolor": "white",
             "startlinecolor": "#2a3f5f"
            },
            "type": "carpet"
           }
          ],
          "choropleth": [
           {
            "colorbar": {
             "outlinewidth": 0,
             "ticks": ""
            },
            "type": "choropleth"
           }
          ],
          "contour": [
           {
            "colorbar": {
             "outlinewidth": 0,
             "ticks": ""
            },
            "colorscale": [
             [
              0,
              "#0d0887"
             ],
             [
              0.1111111111111111,
              "#46039f"
             ],
             [
              0.2222222222222222,
              "#7201a8"
             ],
             [
              0.3333333333333333,
              "#9c179e"
             ],
             [
              0.4444444444444444,
              "#bd3786"
             ],
             [
              0.5555555555555556,
              "#d8576b"
             ],
             [
              0.6666666666666666,
              "#ed7953"
             ],
             [
              0.7777777777777778,
              "#fb9f3a"
             ],
             [
              0.8888888888888888,
              "#fdca26"
             ],
             [
              1,
              "#f0f921"
             ]
            ],
            "type": "contour"
           }
          ],
          "contourcarpet": [
           {
            "colorbar": {
             "outlinewidth": 0,
             "ticks": ""
            },
            "type": "contourcarpet"
           }
          ],
          "heatmap": [
           {
            "colorbar": {
             "outlinewidth": 0,
             "ticks": ""
            },
            "colorscale": [
             [
              0,
              "#0d0887"
             ],
             [
              0.1111111111111111,
              "#46039f"
             ],
             [
              0.2222222222222222,
              "#7201a8"
             ],
             [
              0.3333333333333333,
              "#9c179e"
             ],
             [
              0.4444444444444444,
              "#bd3786"
             ],
             [
              0.5555555555555556,
              "#d8576b"
             ],
             [
              0.6666666666666666,
              "#ed7953"
             ],
             [
              0.7777777777777778,
              "#fb9f3a"
             ],
             [
              0.8888888888888888,
              "#fdca26"
             ],
             [
              1,
              "#f0f921"
             ]
            ],
            "type": "heatmap"
           }
          ],
          "histogram": [
           {
            "marker": {
             "pattern": {
              "fillmode": "overlay",
              "size": 10,
              "solidity": 0.2
             }
            },
            "type": "histogram"
           }
          ],
          "histogram2d": [
           {
            "colorbar": {
             "outlinewidth": 0,
             "ticks": ""
            },
            "colorscale": [
             [
              0,
              "#0d0887"
             ],
             [
              0.1111111111111111,
              "#46039f"
             ],
             [
              0.2222222222222222,
              "#7201a8"
             ],
             [
              0.3333333333333333,
              "#9c179e"
             ],
             [
              0.4444444444444444,
              "#bd3786"
             ],
             [
              0.5555555555555556,
              "#d8576b"
             ],
             [
              0.6666666666666666,
              "#ed7953"
             ],
             [
              0.7777777777777778,
              "#fb9f3a"
             ],
             [
              0.8888888888888888,
              "#fdca26"
             ],
             [
              1,
              "#f0f921"
             ]
            ],
            "type": "histogram2d"
           }
          ],
          "histogram2dcontour": [
           {
            "colorbar": {
             "outlinewidth": 0,
             "ticks": ""
            },
            "colorscale": [
             [
              0,
              "#0d0887"
             ],
             [
              0.1111111111111111,
              "#46039f"
             ],
             [
              0.2222222222222222,
              "#7201a8"
             ],
             [
              0.3333333333333333,
              "#9c179e"
             ],
             [
              0.4444444444444444,
              "#bd3786"
             ],
             [
              0.5555555555555556,
              "#d8576b"
             ],
             [
              0.6666666666666666,
              "#ed7953"
             ],
             [
              0.7777777777777778,
              "#fb9f3a"
             ],
             [
              0.8888888888888888,
              "#fdca26"
             ],
             [
              1,
              "#f0f921"
             ]
            ],
            "type": "histogram2dcontour"
           }
          ],
          "mesh3d": [
           {
            "colorbar": {
             "outlinewidth": 0,
             "ticks": ""
            },
            "type": "mesh3d"
           }
          ],
          "parcoords": [
           {
            "line": {
             "colorbar": {
              "outlinewidth": 0,
              "ticks": ""
             }
            },
            "type": "parcoords"
           }
          ],
          "pie": [
           {
            "automargin": true,
            "type": "pie"
           }
          ],
          "scatter": [
           {
            "fillpattern": {
             "fillmode": "overlay",
             "size": 10,
             "solidity": 0.2
            },
            "type": "scatter"
           }
          ],
          "scatter3d": [
           {
            "line": {
             "colorbar": {
              "outlinewidth": 0,
              "ticks": ""
             }
            },
            "marker": {
             "colorbar": {
              "outlinewidth": 0,
              "ticks": ""
             }
            },
            "type": "scatter3d"
           }
          ],
          "scattercarpet": [
           {
            "marker": {
             "colorbar": {
              "outlinewidth": 0,
              "ticks": ""
             }
            },
            "type": "scattercarpet"
           }
          ],
          "scattergeo": [
           {
            "marker": {
             "colorbar": {
              "outlinewidth": 0,
              "ticks": ""
             }
            },
            "type": "scattergeo"
           }
          ],
          "scattergl": [
           {
            "marker": {
             "colorbar": {
              "outlinewidth": 0,
              "ticks": ""
             }
            },
            "type": "scattergl"
           }
          ],
          "scattermap": [
           {
            "marker": {
             "colorbar": {
              "outlinewidth": 0,
              "ticks": ""
             }
            },
            "type": "scattermap"
           }
          ],
          "scattermapbox": [
           {
            "marker": {
             "colorbar": {
              "outlinewidth": 0,
              "ticks": ""
             }
            },
            "type": "scattermapbox"
           }
          ],
          "scatterpolar": [
           {
            "marker": {
             "colorbar": {
              "outlinewidth": 0,
              "ticks": ""
             }
            },
            "type": "scatterpolar"
           }
          ],
          "scatterpolargl": [
           {
            "marker": {
             "colorbar": {
              "outlinewidth": 0,
              "ticks": ""
             }
            },
            "type": "scatterpolargl"
           }
          ],
          "scatterternary": [
           {
            "marker": {
             "colorbar": {
              "outlinewidth": 0,
              "ticks": ""
             }
            },
            "type": "scatterternary"
           }
          ],
          "surface": [
           {
            "colorbar": {
             "outlinewidth": 0,
             "ticks": ""
            },
            "colorscale": [
             [
              0,
              "#0d0887"
             ],
             [
              0.1111111111111111,
              "#46039f"
             ],
             [
              0.2222222222222222,
              "#7201a8"
             ],
             [
              0.3333333333333333,
              "#9c179e"
             ],
             [
              0.4444444444444444,
              "#bd3786"
             ],
             [
              0.5555555555555556,
              "#d8576b"
             ],
             [
              0.6666666666666666,
              "#ed7953"
             ],
             [
              0.7777777777777778,
              "#fb9f3a"
             ],
             [
              0.8888888888888888,
              "#fdca26"
             ],
             [
              1,
              "#f0f921"
             ]
            ],
            "type": "surface"
           }
          ],
          "table": [
           {
            "cells": {
             "fill": {
              "color": "#EBF0F8"
             },
             "line": {
              "color": "white"
             }
            },
            "header": {
             "fill": {
              "color": "#C8D4E3"
             },
             "line": {
              "color": "white"
             }
            },
            "type": "table"
           }
          ]
         },
         "layout": {
          "annotationdefaults": {
           "arrowcolor": "#2a3f5f",
           "arrowhead": 0,
           "arrowwidth": 1
          },
          "autotypenumbers": "strict",
          "coloraxis": {
           "colorbar": {
            "outlinewidth": 0,
            "ticks": ""
           }
          },
          "colorscale": {
           "diverging": [
            [
             0,
             "#8e0152"
            ],
            [
             0.1,
             "#c51b7d"
            ],
            [
             0.2,
             "#de77ae"
            ],
            [
             0.3,
             "#f1b6da"
            ],
            [
             0.4,
             "#fde0ef"
            ],
            [
             0.5,
             "#f7f7f7"
            ],
            [
             0.6,
             "#e6f5d0"
            ],
            [
             0.7,
             "#b8e186"
            ],
            [
             0.8,
             "#7fbc41"
            ],
            [
             0.9,
             "#4d9221"
            ],
            [
             1,
             "#276419"
            ]
           ],
           "sequential": [
            [
             0,
             "#0d0887"
            ],
            [
             0.1111111111111111,
             "#46039f"
            ],
            [
             0.2222222222222222,
             "#7201a8"
            ],
            [
             0.3333333333333333,
             "#9c179e"
            ],
            [
             0.4444444444444444,
             "#bd3786"
            ],
            [
             0.5555555555555556,
             "#d8576b"
            ],
            [
             0.6666666666666666,
             "#ed7953"
            ],
            [
             0.7777777777777778,
             "#fb9f3a"
            ],
            [
             0.8888888888888888,
             "#fdca26"
            ],
            [
             1,
             "#f0f921"
            ]
           ],
           "sequentialminus": [
            [
             0,
             "#0d0887"
            ],
            [
             0.1111111111111111,
             "#46039f"
            ],
            [
             0.2222222222222222,
             "#7201a8"
            ],
            [
             0.3333333333333333,
             "#9c179e"
            ],
            [
             0.4444444444444444,
             "#bd3786"
            ],
            [
             0.5555555555555556,
             "#d8576b"
            ],
            [
             0.6666666666666666,
             "#ed7953"
            ],
            [
             0.7777777777777778,
             "#fb9f3a"
            ],
            [
             0.8888888888888888,
             "#fdca26"
            ],
            [
             1,
             "#f0f921"
            ]
           ]
          },
          "colorway": [
           "#636efa",
           "#EF553B",
           "#00cc96",
           "#ab63fa",
           "#FFA15A",
           "#19d3f3",
           "#FF6692",
           "#B6E880",
           "#FF97FF",
           "#FECB52"
          ],
          "font": {
           "color": "#2a3f5f"
          },
          "geo": {
           "bgcolor": "white",
           "lakecolor": "white",
           "landcolor": "#E5ECF6",
           "showlakes": true,
           "showland": true,
           "subunitcolor": "white"
          },
          "hoverlabel": {
           "align": "left"
          },
          "hovermode": "closest",
          "mapbox": {
           "style": "light"
          },
          "paper_bgcolor": "white",
          "plot_bgcolor": "#E5ECF6",
          "polar": {
           "angularaxis": {
            "gridcolor": "white",
            "linecolor": "white",
            "ticks": ""
           },
           "bgcolor": "#E5ECF6",
           "radialaxis": {
            "gridcolor": "white",
            "linecolor": "white",
            "ticks": ""
           }
          },
          "scene": {
           "xaxis": {
            "backgroundcolor": "#E5ECF6",
            "gridcolor": "white",
            "gridwidth": 2,
            "linecolor": "white",
            "showbackground": true,
            "ticks": "",
            "zerolinecolor": "white"
           },
           "yaxis": {
            "backgroundcolor": "#E5ECF6",
            "gridcolor": "white",
            "gridwidth": 2,
            "linecolor": "white",
            "showbackground": true,
            "ticks": "",
            "zerolinecolor": "white"
           },
           "zaxis": {
            "backgroundcolor": "#E5ECF6",
            "gridcolor": "white",
            "gridwidth": 2,
            "linecolor": "white",
            "showbackground": true,
            "ticks": "",
            "zerolinecolor": "white"
           }
          },
          "shapedefaults": {
           "line": {
            "color": "#2a3f5f"
           }
          },
          "ternary": {
           "aaxis": {
            "gridcolor": "white",
            "linecolor": "white",
            "ticks": ""
           },
           "baxis": {
            "gridcolor": "white",
            "linecolor": "white",
            "ticks": ""
           },
           "bgcolor": "#E5ECF6",
           "caxis": {
            "gridcolor": "white",
            "linecolor": "white",
            "ticks": ""
           }
          },
          "title": {
           "x": 0.05
          },
          "xaxis": {
           "automargin": true,
           "gridcolor": "white",
           "linecolor": "white",
           "ticks": "",
           "title": {
            "standoff": 15
           },
           "zerolinecolor": "white",
           "zerolinewidth": 2
          },
          "yaxis": {
           "automargin": true,
           "gridcolor": "white",
           "linecolor": "white",
           "ticks": "",
           "title": {
            "standoff": 15
           },
           "zerolinecolor": "white",
           "zerolinewidth": 2
          }
         }
        },
        "title": {
         "text": "EPS Trend Breakdown for snow"
        },
        "width": 1000,
        "xaxis": {
         "anchor": "y",
         "domain": [
          0,
          0.45
         ],
         "title": {
          "text": "Days Ago"
         }
        },
        "xaxis2": {
         "anchor": "y2",
         "domain": [
          0.55,
          1
         ],
         "title": {
          "text": "Days Ago"
         }
        },
        "yaxis": {
         "anchor": "x",
         "domain": [
          0,
          1
         ],
         "title": {
          "text": "EPS"
         }
        },
        "yaxis2": {
         "anchor": "x2",
         "domain": [
          0,
          1
         ],
         "title": {
          "text": "EPS"
         }
        }
       }
      }
     },
     "metadata": {},
     "output_type": "display_data"
    },
    {
     "data": {
      "application/vnd.plotly.v1+json": {
       "config": {
        "plotlyServerURL": "https://plot.ly"
       },
       "data": [
        {
         "mode": "lines+markers",
         "name": "Curr Qtr",
         "type": "scatter",
         "x": [
          90,
          60,
          30,
          7,
          0
         ],
         "xaxis": "x",
         "y": [
          0.5645,
          0.594,
          0.5988,
          0.6078,
          0.6261
         ],
         "yaxis": "y"
        },
        {
         "mode": "lines+markers",
         "name": "Next Qtr",
         "type": "scatter",
         "x": [
          90,
          60,
          30,
          7,
          0
         ],
         "xaxis": "x",
         "y": [
          0.1158,
          0.0108,
          0.0119,
          0.0149,
          0.0205
         ],
         "yaxis": "y"
        },
        {
         "mode": "lines+markers",
         "name": "Curr Yr",
         "type": "scatter",
         "x": [
          90,
          60,
          30,
          7,
          0
         ],
         "xaxis": "x2",
         "y": [
          4.6595,
          4.6641,
          4.6787,
          4.6958,
          4.7181
         ],
         "yaxis": "y2"
        },
        {
         "mode": "lines+markers",
         "name": "Next Yr",
         "type": "scatter",
         "x": [
          90,
          60,
          30,
          7,
          0
         ],
         "xaxis": "x2",
         "y": [
          4.9522,
          5.1658,
          5.1997,
          5.234,
          5.2577
         ],
         "yaxis": "y2"
        }
       ],
       "layout": {
        "annotations": [
         {
          "font": {
           "size": 16
          },
          "showarrow": false,
          "text": "Quarterly EPS Trends",
          "x": 0.225,
          "xanchor": "center",
          "xref": "paper",
          "y": 1,
          "yanchor": "bottom",
          "yref": "paper"
         },
         {
          "font": {
           "size": 16
          },
          "showarrow": false,
          "text": "Yearly EPS Trends",
          "x": 0.775,
          "xanchor": "center",
          "xref": "paper",
          "y": 1,
          "yanchor": "bottom",
          "yref": "paper"
         }
        ],
        "height": 500,
        "showlegend": true,
        "template": {
         "data": {
          "bar": [
           {
            "error_x": {
             "color": "#2a3f5f"
            },
            "error_y": {
             "color": "#2a3f5f"
            },
            "marker": {
             "line": {
              "color": "#E5ECF6",
              "width": 0.5
             },
             "pattern": {
              "fillmode": "overlay",
              "size": 10,
              "solidity": 0.2
             }
            },
            "type": "bar"
           }
          ],
          "barpolar": [
           {
            "marker": {
             "line": {
              "color": "#E5ECF6",
              "width": 0.5
             },
             "pattern": {
              "fillmode": "overlay",
              "size": 10,
              "solidity": 0.2
             }
            },
            "type": "barpolar"
           }
          ],
          "carpet": [
           {
            "aaxis": {
             "endlinecolor": "#2a3f5f",
             "gridcolor": "white",
             "linecolor": "white",
             "minorgridcolor": "white",
             "startlinecolor": "#2a3f5f"
            },
            "baxis": {
             "endlinecolor": "#2a3f5f",
             "gridcolor": "white",
             "linecolor": "white",
             "minorgridcolor": "white",
             "startlinecolor": "#2a3f5f"
            },
            "type": "carpet"
           }
          ],
          "choropleth": [
           {
            "colorbar": {
             "outlinewidth": 0,
             "ticks": ""
            },
            "type": "choropleth"
           }
          ],
          "contour": [
           {
            "colorbar": {
             "outlinewidth": 0,
             "ticks": ""
            },
            "colorscale": [
             [
              0,
              "#0d0887"
             ],
             [
              0.1111111111111111,
              "#46039f"
             ],
             [
              0.2222222222222222,
              "#7201a8"
             ],
             [
              0.3333333333333333,
              "#9c179e"
             ],
             [
              0.4444444444444444,
              "#bd3786"
             ],
             [
              0.5555555555555556,
              "#d8576b"
             ],
             [
              0.6666666666666666,
              "#ed7953"
             ],
             [
              0.7777777777777778,
              "#fb9f3a"
             ],
             [
              0.8888888888888888,
              "#fdca26"
             ],
             [
              1,
              "#f0f921"
             ]
            ],
            "type": "contour"
           }
          ],
          "contourcarpet": [
           {
            "colorbar": {
             "outlinewidth": 0,
             "ticks": ""
            },
            "type": "contourcarpet"
           }
          ],
          "heatmap": [
           {
            "colorbar": {
             "outlinewidth": 0,
             "ticks": ""
            },
            "colorscale": [
             [
              0,
              "#0d0887"
             ],
             [
              0.1111111111111111,
              "#46039f"
             ],
             [
              0.2222222222222222,
              "#7201a8"
             ],
             [
              0.3333333333333333,
              "#9c179e"
             ],
             [
              0.4444444444444444,
              "#bd3786"
             ],
             [
              0.5555555555555556,
              "#d8576b"
             ],
             [
              0.6666666666666666,
              "#ed7953"
             ],
             [
              0.7777777777777778,
              "#fb9f3a"
             ],
             [
              0.8888888888888888,
              "#fdca26"
             ],
             [
              1,
              "#f0f921"
             ]
            ],
            "type": "heatmap"
           }
          ],
          "histogram": [
           {
            "marker": {
             "pattern": {
              "fillmode": "overlay",
              "size": 10,
              "solidity": 0.2
             }
            },
            "type": "histogram"
           }
          ],
          "histogram2d": [
           {
            "colorbar": {
             "outlinewidth": 0,
             "ticks": ""
            },
            "colorscale": [
             [
              0,
              "#0d0887"
             ],
             [
              0.1111111111111111,
              "#46039f"
             ],
             [
              0.2222222222222222,
              "#7201a8"
             ],
             [
              0.3333333333333333,
              "#9c179e"
             ],
             [
              0.4444444444444444,
              "#bd3786"
             ],
             [
              0.5555555555555556,
              "#d8576b"
             ],
             [
              0.6666666666666666,
              "#ed7953"
             ],
             [
              0.7777777777777778,
              "#fb9f3a"
             ],
             [
              0.8888888888888888,
              "#fdca26"
             ],
             [
              1,
              "#f0f921"
             ]
            ],
            "type": "histogram2d"
           }
          ],
          "histogram2dcontour": [
           {
            "colorbar": {
             "outlinewidth": 0,
             "ticks": ""
            },
            "colorscale": [
             [
              0,
              "#0d0887"
             ],
             [
              0.1111111111111111,
              "#46039f"
             ],
             [
              0.2222222222222222,
              "#7201a8"
             ],
             [
              0.3333333333333333,
              "#9c179e"
             ],
             [
              0.4444444444444444,
              "#bd3786"
             ],
             [
              0.5555555555555556,
              "#d8576b"
             ],
             [
              0.6666666666666666,
              "#ed7953"
             ],
             [
              0.7777777777777778,
              "#fb9f3a"
             ],
             [
              0.8888888888888888,
              "#fdca26"
             ],
             [
              1,
              "#f0f921"
             ]
            ],
            "type": "histogram2dcontour"
           }
          ],
          "mesh3d": [
           {
            "colorbar": {
             "outlinewidth": 0,
             "ticks": ""
            },
            "type": "mesh3d"
           }
          ],
          "parcoords": [
           {
            "line": {
             "colorbar": {
              "outlinewidth": 0,
              "ticks": ""
             }
            },
            "type": "parcoords"
           }
          ],
          "pie": [
           {
            "automargin": true,
            "type": "pie"
           }
          ],
          "scatter": [
           {
            "fillpattern": {
             "fillmode": "overlay",
             "size": 10,
             "solidity": 0.2
            },
            "type": "scatter"
           }
          ],
          "scatter3d": [
           {
            "line": {
             "colorbar": {
              "outlinewidth": 0,
              "ticks": ""
             }
            },
            "marker": {
             "colorbar": {
              "outlinewidth": 0,
              "ticks": ""
             }
            },
            "type": "scatter3d"
           }
          ],
          "scattercarpet": [
           {
            "marker": {
             "colorbar": {
              "outlinewidth": 0,
              "ticks": ""
             }
            },
            "type": "scattercarpet"
           }
          ],
          "scattergeo": [
           {
            "marker": {
             "colorbar": {
              "outlinewidth": 0,
              "ticks": ""
             }
            },
            "type": "scattergeo"
           }
          ],
          "scattergl": [
           {
            "marker": {
             "colorbar": {
              "outlinewidth": 0,
              "ticks": ""
             }
            },
            "type": "scattergl"
           }
          ],
          "scattermap": [
           {
            "marker": {
             "colorbar": {
              "outlinewidth": 0,
              "ticks": ""
             }
            },
            "type": "scattermap"
           }
          ],
          "scattermapbox": [
           {
            "marker": {
             "colorbar": {
              "outlinewidth": 0,
              "ticks": ""
             }
            },
            "type": "scattermapbox"
           }
          ],
          "scatterpolar": [
           {
            "marker": {
             "colorbar": {
              "outlinewidth": 0,
              "ticks": ""
             }
            },
            "type": "scatterpolar"
           }
          ],
          "scatterpolargl": [
           {
            "marker": {
             "colorbar": {
              "outlinewidth": 0,
              "ticks": ""
             }
            },
            "type": "scatterpolargl"
           }
          ],
          "scatterternary": [
           {
            "marker": {
             "colorbar": {
              "outlinewidth": 0,
              "ticks": ""
             }
            },
            "type": "scatterternary"
           }
          ],
          "surface": [
           {
            "colorbar": {
             "outlinewidth": 0,
             "ticks": ""
            },
            "colorscale": [
             [
              0,
              "#0d0887"
             ],
             [
              0.1111111111111111,
              "#46039f"
             ],
             [
              0.2222222222222222,
              "#7201a8"
             ],
             [
              0.3333333333333333,
              "#9c179e"
             ],
             [
              0.4444444444444444,
              "#bd3786"
             ],
             [
              0.5555555555555556,
              "#d8576b"
             ],
             [
              0.6666666666666666,
              "#ed7953"
             ],
             [
              0.7777777777777778,
              "#fb9f3a"
             ],
             [
              0.8888888888888888,
              "#fdca26"
             ],
             [
              1,
              "#f0f921"
             ]
            ],
            "type": "surface"
           }
          ],
          "table": [
           {
            "cells": {
             "fill": {
              "color": "#EBF0F8"
             },
             "line": {
              "color": "white"
             }
            },
            "header": {
             "fill": {
              "color": "#C8D4E3"
             },
             "line": {
              "color": "white"
             }
            },
            "type": "table"
           }
          ]
         },
         "layout": {
          "annotationdefaults": {
           "arrowcolor": "#2a3f5f",
           "arrowhead": 0,
           "arrowwidth": 1
          },
          "autotypenumbers": "strict",
          "coloraxis": {
           "colorbar": {
            "outlinewidth": 0,
            "ticks": ""
           }
          },
          "colorscale": {
           "diverging": [
            [
             0,
             "#8e0152"
            ],
            [
             0.1,
             "#c51b7d"
            ],
            [
             0.2,
             "#de77ae"
            ],
            [
             0.3,
             "#f1b6da"
            ],
            [
             0.4,
             "#fde0ef"
            ],
            [
             0.5,
             "#f7f7f7"
            ],
            [
             0.6,
             "#e6f5d0"
            ],
            [
             0.7,
             "#b8e186"
            ],
            [
             0.8,
             "#7fbc41"
            ],
            [
             0.9,
             "#4d9221"
            ],
            [
             1,
             "#276419"
            ]
           ],
           "sequential": [
            [
             0,
             "#0d0887"
            ],
            [
             0.1111111111111111,
             "#46039f"
            ],
            [
             0.2222222222222222,
             "#7201a8"
            ],
            [
             0.3333333333333333,
             "#9c179e"
            ],
            [
             0.4444444444444444,
             "#bd3786"
            ],
            [
             0.5555555555555556,
             "#d8576b"
            ],
            [
             0.6666666666666666,
             "#ed7953"
            ],
            [
             0.7777777777777778,
             "#fb9f3a"
            ],
            [
             0.8888888888888888,
             "#fdca26"
            ],
            [
             1,
             "#f0f921"
            ]
           ],
           "sequentialminus": [
            [
             0,
             "#0d0887"
            ],
            [
             0.1111111111111111,
             "#46039f"
            ],
            [
             0.2222222222222222,
             "#7201a8"
            ],
            [
             0.3333333333333333,
             "#9c179e"
            ],
            [
             0.4444444444444444,
             "#bd3786"
            ],
            [
             0.5555555555555556,
             "#d8576b"
            ],
            [
             0.6666666666666666,
             "#ed7953"
            ],
            [
             0.7777777777777778,
             "#fb9f3a"
            ],
            [
             0.8888888888888888,
             "#fdca26"
            ],
            [
             1,
             "#f0f921"
            ]
           ]
          },
          "colorway": [
           "#636efa",
           "#EF553B",
           "#00cc96",
           "#ab63fa",
           "#FFA15A",
           "#19d3f3",
           "#FF6692",
           "#B6E880",
           "#FF97FF",
           "#FECB52"
          ],
          "font": {
           "color": "#2a3f5f"
          },
          "geo": {
           "bgcolor": "white",
           "lakecolor": "white",
           "landcolor": "#E5ECF6",
           "showlakes": true,
           "showland": true,
           "subunitcolor": "white"
          },
          "hoverlabel": {
           "align": "left"
          },
          "hovermode": "closest",
          "mapbox": {
           "style": "light"
          },
          "paper_bgcolor": "white",
          "plot_bgcolor": "#E5ECF6",
          "polar": {
           "angularaxis": {
            "gridcolor": "white",
            "linecolor": "white",
            "ticks": ""
           },
           "bgcolor": "#E5ECF6",
           "radialaxis": {
            "gridcolor": "white",
            "linecolor": "white",
            "ticks": ""
           }
          },
          "scene": {
           "xaxis": {
            "backgroundcolor": "#E5ECF6",
            "gridcolor": "white",
            "gridwidth": 2,
            "linecolor": "white",
            "showbackground": true,
            "ticks": "",
            "zerolinecolor": "white"
           },
           "yaxis": {
            "backgroundcolor": "#E5ECF6",
            "gridcolor": "white",
            "gridwidth": 2,
            "linecolor": "white",
            "showbackground": true,
            "ticks": "",
            "zerolinecolor": "white"
           },
           "zaxis": {
            "backgroundcolor": "#E5ECF6",
            "gridcolor": "white",
            "gridwidth": 2,
            "linecolor": "white",
            "showbackground": true,
            "ticks": "",
            "zerolinecolor": "white"
           }
          },
          "shapedefaults": {
           "line": {
            "color": "#2a3f5f"
           }
          },
          "ternary": {
           "aaxis": {
            "gridcolor": "white",
            "linecolor": "white",
            "ticks": ""
           },
           "baxis": {
            "gridcolor": "white",
            "linecolor": "white",
            "ticks": ""
           },
           "bgcolor": "#E5ECF6",
           "caxis": {
            "gridcolor": "white",
            "linecolor": "white",
            "ticks": ""
           }
          },
          "title": {
           "x": 0.05
          },
          "xaxis": {
           "automargin": true,
           "gridcolor": "white",
           "linecolor": "white",
           "ticks": "",
           "title": {
            "standoff": 15
           },
           "zerolinecolor": "white",
           "zerolinewidth": 2
          },
          "yaxis": {
           "automargin": true,
           "gridcolor": "white",
           "linecolor": "white",
           "ticks": "",
           "title": {
            "standoff": 15
           },
           "zerolinecolor": "white",
           "zerolinewidth": 2
          }
         }
        },
        "title": {
         "text": "EPS Trend Breakdown for five"
        },
        "width": 1000,
        "xaxis": {
         "anchor": "y",
         "domain": [
          0,
          0.45
         ],
         "title": {
          "text": "Days Ago"
         }
        },
        "xaxis2": {
         "anchor": "y2",
         "domain": [
          0.55,
          1
         ],
         "title": {
          "text": "Days Ago"
         }
        },
        "yaxis": {
         "anchor": "x",
         "domain": [
          0,
          1
         ],
         "title": {
          "text": "EPS"
         }
        },
        "yaxis2": {
         "anchor": "x2",
         "domain": [
          0,
          1
         ],
         "title": {
          "text": "EPS"
         }
        }
       }
      }
     },
     "metadata": {},
     "output_type": "display_data"
    },
    {
     "data": {
      "application/vnd.plotly.v1+json": {
       "config": {
        "plotlyServerURL": "https://plot.ly"
       },
       "data": [
        {
         "mode": "lines+markers",
         "name": "Curr Qtr",
         "type": "scatter",
         "x": [
          90,
          60,
          30,
          7,
          0
         ],
         "xaxis": "x",
         "y": [
          1.3026,
          1.2218,
          1.2218,
          1.2242,
          1.2248
         ],
         "yaxis": "y"
        },
        {
         "mode": "lines+markers",
         "name": "Next Qtr",
         "type": "scatter",
         "x": [
          90,
          60,
          30,
          7,
          0
         ],
         "xaxis": "x",
         "y": [
          1.2397,
          1.2931,
          1.2931,
          1.293,
          1.2867
         ],
         "yaxis": "y"
        },
        {
         "mode": "lines+markers",
         "name": "Curr Yr",
         "type": "scatter",
         "x": [
          90,
          60,
          30,
          7,
          0
         ],
         "xaxis": "x2",
         "y": [
          6.1679,
          6.1963,
          6.1959,
          6.1941,
          6.1886
         ],
         "yaxis": "y2"
        },
        {
         "mode": "lines+markers",
         "name": "Next Yr",
         "type": "scatter",
         "x": [
          90,
          60,
          30,
          7,
          0
         ],
         "xaxis": "x2",
         "y": [
          6.6824,
          6.671,
          6.6592,
          6.6367,
          6.632
         ],
         "yaxis": "y2"
        }
       ],
       "layout": {
        "annotations": [
         {
          "font": {
           "size": 16
          },
          "showarrow": false,
          "text": "Quarterly EPS Trends",
          "x": 0.225,
          "xanchor": "center",
          "xref": "paper",
          "y": 1,
          "yanchor": "bottom",
          "yref": "paper"
         },
         {
          "font": {
           "size": 16
          },
          "showarrow": false,
          "text": "Yearly EPS Trends",
          "x": 0.775,
          "xanchor": "center",
          "xref": "paper",
          "y": 1,
          "yanchor": "bottom",
          "yref": "paper"
         }
        ],
        "height": 500,
        "showlegend": true,
        "template": {
         "data": {
          "bar": [
           {
            "error_x": {
             "color": "#2a3f5f"
            },
            "error_y": {
             "color": "#2a3f5f"
            },
            "marker": {
             "line": {
              "color": "#E5ECF6",
              "width": 0.5
             },
             "pattern": {
              "fillmode": "overlay",
              "size": 10,
              "solidity": 0.2
             }
            },
            "type": "bar"
           }
          ],
          "barpolar": [
           {
            "marker": {
             "line": {
              "color": "#E5ECF6",
              "width": 0.5
             },
             "pattern": {
              "fillmode": "overlay",
              "size": 10,
              "solidity": 0.2
             }
            },
            "type": "barpolar"
           }
          ],
          "carpet": [
           {
            "aaxis": {
             "endlinecolor": "#2a3f5f",
             "gridcolor": "white",
             "linecolor": "white",
             "minorgridcolor": "white",
             "startlinecolor": "#2a3f5f"
            },
            "baxis": {
             "endlinecolor": "#2a3f5f",
             "gridcolor": "white",
             "linecolor": "white",
             "minorgridcolor": "white",
             "startlinecolor": "#2a3f5f"
            },
            "type": "carpet"
           }
          ],
          "choropleth": [
           {
            "colorbar": {
             "outlinewidth": 0,
             "ticks": ""
            },
            "type": "choropleth"
           }
          ],
          "contour": [
           {
            "colorbar": {
             "outlinewidth": 0,
             "ticks": ""
            },
            "colorscale": [
             [
              0,
              "#0d0887"
             ],
             [
              0.1111111111111111,
              "#46039f"
             ],
             [
              0.2222222222222222,
              "#7201a8"
             ],
             [
              0.3333333333333333,
              "#9c179e"
             ],
             [
              0.4444444444444444,
              "#bd3786"
             ],
             [
              0.5555555555555556,
              "#d8576b"
             ],
             [
              0.6666666666666666,
              "#ed7953"
             ],
             [
              0.7777777777777778,
              "#fb9f3a"
             ],
             [
              0.8888888888888888,
              "#fdca26"
             ],
             [
              1,
              "#f0f921"
             ]
            ],
            "type": "contour"
           }
          ],
          "contourcarpet": [
           {
            "colorbar": {
             "outlinewidth": 0,
             "ticks": ""
            },
            "type": "contourcarpet"
           }
          ],
          "heatmap": [
           {
            "colorbar": {
             "outlinewidth": 0,
             "ticks": ""
            },
            "colorscale": [
             [
              0,
              "#0d0887"
             ],
             [
              0.1111111111111111,
              "#46039f"
             ],
             [
              0.2222222222222222,
              "#7201a8"
             ],
             [
              0.3333333333333333,
              "#9c179e"
             ],
             [
              0.4444444444444444,
              "#bd3786"
             ],
             [
              0.5555555555555556,
              "#d8576b"
             ],
             [
              0.6666666666666666,
              "#ed7953"
             ],
             [
              0.7777777777777778,
              "#fb9f3a"
             ],
             [
              0.8888888888888888,
              "#fdca26"
             ],
             [
              1,
              "#f0f921"
             ]
            ],
            "type": "heatmap"
           }
          ],
          "histogram": [
           {
            "marker": {
             "pattern": {
              "fillmode": "overlay",
              "size": 10,
              "solidity": 0.2
             }
            },
            "type": "histogram"
           }
          ],
          "histogram2d": [
           {
            "colorbar": {
             "outlinewidth": 0,
             "ticks": ""
            },
            "colorscale": [
             [
              0,
              "#0d0887"
             ],
             [
              0.1111111111111111,
              "#46039f"
             ],
             [
              0.2222222222222222,
              "#7201a8"
             ],
             [
              0.3333333333333333,
              "#9c179e"
             ],
             [
              0.4444444444444444,
              "#bd3786"
             ],
             [
              0.5555555555555556,
              "#d8576b"
             ],
             [
              0.6666666666666666,
              "#ed7953"
             ],
             [
              0.7777777777777778,
              "#fb9f3a"
             ],
             [
              0.8888888888888888,
              "#fdca26"
             ],
             [
              1,
              "#f0f921"
             ]
            ],
            "type": "histogram2d"
           }
          ],
          "histogram2dcontour": [
           {
            "colorbar": {
             "outlinewidth": 0,
             "ticks": ""
            },
            "colorscale": [
             [
              0,
              "#0d0887"
             ],
             [
              0.1111111111111111,
              "#46039f"
             ],
             [
              0.2222222222222222,
              "#7201a8"
             ],
             [
              0.3333333333333333,
              "#9c179e"
             ],
             [
              0.4444444444444444,
              "#bd3786"
             ],
             [
              0.5555555555555556,
              "#d8576b"
             ],
             [
              0.6666666666666666,
              "#ed7953"
             ],
             [
              0.7777777777777778,
              "#fb9f3a"
             ],
             [
              0.8888888888888888,
              "#fdca26"
             ],
             [
              1,
              "#f0f921"
             ]
            ],
            "type": "histogram2dcontour"
           }
          ],
          "mesh3d": [
           {
            "colorbar": {
             "outlinewidth": 0,
             "ticks": ""
            },
            "type": "mesh3d"
           }
          ],
          "parcoords": [
           {
            "line": {
             "colorbar": {
              "outlinewidth": 0,
              "ticks": ""
             }
            },
            "type": "parcoords"
           }
          ],
          "pie": [
           {
            "automargin": true,
            "type": "pie"
           }
          ],
          "scatter": [
           {
            "fillpattern": {
             "fillmode": "overlay",
             "size": 10,
             "solidity": 0.2
            },
            "type": "scatter"
           }
          ],
          "scatter3d": [
           {
            "line": {
             "colorbar": {
              "outlinewidth": 0,
              "ticks": ""
             }
            },
            "marker": {
             "colorbar": {
              "outlinewidth": 0,
              "ticks": ""
             }
            },
            "type": "scatter3d"
           }
          ],
          "scattercarpet": [
           {
            "marker": {
             "colorbar": {
              "outlinewidth": 0,
              "ticks": ""
             }
            },
            "type": "scattercarpet"
           }
          ],
          "scattergeo": [
           {
            "marker": {
             "colorbar": {
              "outlinewidth": 0,
              "ticks": ""
             }
            },
            "type": "scattergeo"
           }
          ],
          "scattergl": [
           {
            "marker": {
             "colorbar": {
              "outlinewidth": 0,
              "ticks": ""
             }
            },
            "type": "scattergl"
           }
          ],
          "scattermap": [
           {
            "marker": {
             "colorbar": {
              "outlinewidth": 0,
              "ticks": ""
             }
            },
            "type": "scattermap"
           }
          ],
          "scattermapbox": [
           {
            "marker": {
             "colorbar": {
              "outlinewidth": 0,
              "ticks": ""
             }
            },
            "type": "scattermapbox"
           }
          ],
          "scatterpolar": [
           {
            "marker": {
             "colorbar": {
              "outlinewidth": 0,
              "ticks": ""
             }
            },
            "type": "scatterpolar"
           }
          ],
          "scatterpolargl": [
           {
            "marker": {
             "colorbar": {
              "outlinewidth": 0,
              "ticks": ""
             }
            },
            "type": "scatterpolargl"
           }
          ],
          "scatterternary": [
           {
            "marker": {
             "colorbar": {
              "outlinewidth": 0,
              "ticks": ""
             }
            },
            "type": "scatterternary"
           }
          ],
          "surface": [
           {
            "colorbar": {
             "outlinewidth": 0,
             "ticks": ""
            },
            "colorscale": [
             [
              0,
              "#0d0887"
             ],
             [
              0.1111111111111111,
              "#46039f"
             ],
             [
              0.2222222222222222,
              "#7201a8"
             ],
             [
              0.3333333333333333,
              "#9c179e"
             ],
             [
              0.4444444444444444,
              "#bd3786"
             ],
             [
              0.5555555555555556,
              "#d8576b"
             ],
             [
              0.6666666666666666,
              "#ed7953"
             ],
             [
              0.7777777777777778,
              "#fb9f3a"
             ],
             [
              0.8888888888888888,
              "#fdca26"
             ],
             [
              1,
              "#f0f921"
             ]
            ],
            "type": "surface"
           }
          ],
          "table": [
           {
            "cells": {
             "fill": {
              "color": "#EBF0F8"
             },
             "line": {
              "color": "white"
             }
            },
            "header": {
             "fill": {
              "color": "#C8D4E3"
             },
             "line": {
              "color": "white"
             }
            },
            "type": "table"
           }
          ]
         },
         "layout": {
          "annotationdefaults": {
           "arrowcolor": "#2a3f5f",
           "arrowhead": 0,
           "arrowwidth": 1
          },
          "autotypenumbers": "strict",
          "coloraxis": {
           "colorbar": {
            "outlinewidth": 0,
            "ticks": ""
           }
          },
          "colorscale": {
           "diverging": [
            [
             0,
             "#8e0152"
            ],
            [
             0.1,
             "#c51b7d"
            ],
            [
             0.2,
             "#de77ae"
            ],
            [
             0.3,
             "#f1b6da"
            ],
            [
             0.4,
             "#fde0ef"
            ],
            [
             0.5,
             "#f7f7f7"
            ],
            [
             0.6,
             "#e6f5d0"
            ],
            [
             0.7,
             "#b8e186"
            ],
            [
             0.8,
             "#7fbc41"
            ],
            [
             0.9,
             "#4d9221"
            ],
            [
             1,
             "#276419"
            ]
           ],
           "sequential": [
            [
             0,
             "#0d0887"
            ],
            [
             0.1111111111111111,
             "#46039f"
            ],
            [
             0.2222222222222222,
             "#7201a8"
            ],
            [
             0.3333333333333333,
             "#9c179e"
            ],
            [
             0.4444444444444444,
             "#bd3786"
            ],
            [
             0.5555555555555556,
             "#d8576b"
            ],
            [
             0.6666666666666666,
             "#ed7953"
            ],
            [
             0.7777777777777778,
             "#fb9f3a"
            ],
            [
             0.8888888888888888,
             "#fdca26"
            ],
            [
             1,
             "#f0f921"
            ]
           ],
           "sequentialminus": [
            [
             0,
             "#0d0887"
            ],
            [
             0.1111111111111111,
             "#46039f"
            ],
            [
             0.2222222222222222,
             "#7201a8"
            ],
            [
             0.3333333333333333,
             "#9c179e"
            ],
            [
             0.4444444444444444,
             "#bd3786"
            ],
            [
             0.5555555555555556,
             "#d8576b"
            ],
            [
             0.6666666666666666,
             "#ed7953"
            ],
            [
             0.7777777777777778,
             "#fb9f3a"
            ],
            [
             0.8888888888888888,
             "#fdca26"
            ],
            [
             1,
             "#f0f921"
            ]
           ]
          },
          "colorway": [
           "#636efa",
           "#EF553B",
           "#00cc96",
           "#ab63fa",
           "#FFA15A",
           "#19d3f3",
           "#FF6692",
           "#B6E880",
           "#FF97FF",
           "#FECB52"
          ],
          "font": {
           "color": "#2a3f5f"
          },
          "geo": {
           "bgcolor": "white",
           "lakecolor": "white",
           "landcolor": "#E5ECF6",
           "showlakes": true,
           "showland": true,
           "subunitcolor": "white"
          },
          "hoverlabel": {
           "align": "left"
          },
          "hovermode": "closest",
          "mapbox": {
           "style": "light"
          },
          "paper_bgcolor": "white",
          "plot_bgcolor": "#E5ECF6",
          "polar": {
           "angularaxis": {
            "gridcolor": "white",
            "linecolor": "white",
            "ticks": ""
           },
           "bgcolor": "#E5ECF6",
           "radialaxis": {
            "gridcolor": "white",
            "linecolor": "white",
            "ticks": ""
           }
          },
          "scene": {
           "xaxis": {
            "backgroundcolor": "#E5ECF6",
            "gridcolor": "white",
            "gridwidth": 2,
            "linecolor": "white",
            "showbackground": true,
            "ticks": "",
            "zerolinecolor": "white"
           },
           "yaxis": {
            "backgroundcolor": "#E5ECF6",
            "gridcolor": "white",
            "gridwidth": 2,
            "linecolor": "white",
            "showbackground": true,
            "ticks": "",
            "zerolinecolor": "white"
           },
           "zaxis": {
            "backgroundcolor": "#E5ECF6",
            "gridcolor": "white",
            "gridwidth": 2,
            "linecolor": "white",
            "showbackground": true,
            "ticks": "",
            "zerolinecolor": "white"
           }
          },
          "shapedefaults": {
           "line": {
            "color": "#2a3f5f"
           }
          },
          "ternary": {
           "aaxis": {
            "gridcolor": "white",
            "linecolor": "white",
            "ticks": ""
           },
           "baxis": {
            "gridcolor": "white",
            "linecolor": "white",
            "ticks": ""
           },
           "bgcolor": "#E5ECF6",
           "caxis": {
            "gridcolor": "white",
            "linecolor": "white",
            "ticks": ""
           }
          },
          "title": {
           "x": 0.05
          },
          "xaxis": {
           "automargin": true,
           "gridcolor": "white",
           "linecolor": "white",
           "ticks": "",
           "title": {
            "standoff": 15
           },
           "zerolinecolor": "white",
           "zerolinewidth": 2
          },
          "yaxis": {
           "automargin": true,
           "gridcolor": "white",
           "linecolor": "white",
           "ticks": "",
           "title": {
            "standoff": 15
           },
           "zerolinecolor": "white",
           "zerolinewidth": 2
          }
         }
        },
        "title": {
         "text": "EPS Trend Breakdown for bby"
        },
        "width": 1000,
        "xaxis": {
         "anchor": "y",
         "domain": [
          0,
          0.45
         ],
         "title": {
          "text": "Days Ago"
         }
        },
        "xaxis2": {
         "anchor": "y2",
         "domain": [
          0.55,
          1
         ],
         "title": {
          "text": "Days Ago"
         }
        },
        "yaxis": {
         "anchor": "x",
         "domain": [
          0,
          1
         ],
         "title": {
          "text": "EPS"
         }
        },
        "yaxis2": {
         "anchor": "x2",
         "domain": [
          0,
          1
         ],
         "title": {
          "text": "EPS"
         }
        }
       }
      }
     },
     "metadata": {},
     "output_type": "display_data"
    },
    {
     "data": {
      "application/vnd.plotly.v1+json": {
       "config": {
        "plotlyServerURL": "https://plot.ly"
       },
       "data": [
        {
         "mode": "lines+markers",
         "name": "Curr Qtr",
         "type": "scatter",
         "x": [
          90,
          60,
          30,
          7,
          0
         ],
         "xaxis": "x",
         "y": [
          1.5884,
          1.5655,
          1.5701,
          1.5729,
          1.5729
         ],
         "yaxis": "y"
        },
        {
         "mode": "lines+markers",
         "name": "Next Qtr",
         "type": "scatter",
         "x": [
          90,
          60,
          30,
          7,
          0
         ],
         "xaxis": "x",
         "y": [
          0.9299,
          0.8835,
          0.8882,
          0.8886,
          0.8886
         ],
         "yaxis": "y"
        },
        {
         "mode": "lines+markers",
         "name": "Curr Yr",
         "type": "scatter",
         "x": [
          90,
          60,
          30,
          7,
          0
         ],
         "xaxis": "x2",
         "y": [
          5.5972,
          5.7359,
          5.7464,
          5.7516,
          5.7516
         ],
         "yaxis": "y2"
        },
        {
         "mode": "lines+markers",
         "name": "Next Yr",
         "type": "scatter",
         "x": [
          90,
          60,
          30,
          7,
          0
         ],
         "xaxis": "x2",
         "y": [
          6.1872,
          6.385,
          6.3869,
          6.3914,
          6.3914
         ],
         "yaxis": "y2"
        }
       ],
       "layout": {
        "annotations": [
         {
          "font": {
           "size": 16
          },
          "showarrow": false,
          "text": "Quarterly EPS Trends",
          "x": 0.225,
          "xanchor": "center",
          "xref": "paper",
          "y": 1,
          "yanchor": "bottom",
          "yref": "paper"
         },
         {
          "font": {
           "size": 16
          },
          "showarrow": false,
          "text": "Yearly EPS Trends",
          "x": 0.775,
          "xanchor": "center",
          "xref": "paper",
          "y": 1,
          "yanchor": "bottom",
          "yref": "paper"
         }
        ],
        "height": 500,
        "showlegend": true,
        "template": {
         "data": {
          "bar": [
           {
            "error_x": {
             "color": "#2a3f5f"
            },
            "error_y": {
             "color": "#2a3f5f"
            },
            "marker": {
             "line": {
              "color": "#E5ECF6",
              "width": 0.5
             },
             "pattern": {
              "fillmode": "overlay",
              "size": 10,
              "solidity": 0.2
             }
            },
            "type": "bar"
           }
          ],
          "barpolar": [
           {
            "marker": {
             "line": {
              "color": "#E5ECF6",
              "width": 0.5
             },
             "pattern": {
              "fillmode": "overlay",
              "size": 10,
              "solidity": 0.2
             }
            },
            "type": "barpolar"
           }
          ],
          "carpet": [
           {
            "aaxis": {
             "endlinecolor": "#2a3f5f",
             "gridcolor": "white",
             "linecolor": "white",
             "minorgridcolor": "white",
             "startlinecolor": "#2a3f5f"
            },
            "baxis": {
             "endlinecolor": "#2a3f5f",
             "gridcolor": "white",
             "linecolor": "white",
             "minorgridcolor": "white",
             "startlinecolor": "#2a3f5f"
            },
            "type": "carpet"
           }
          ],
          "choropleth": [
           {
            "colorbar": {
             "outlinewidth": 0,
             "ticks": ""
            },
            "type": "choropleth"
           }
          ],
          "contour": [
           {
            "colorbar": {
             "outlinewidth": 0,
             "ticks": ""
            },
            "colorscale": [
             [
              0,
              "#0d0887"
             ],
             [
              0.1111111111111111,
              "#46039f"
             ],
             [
              0.2222222222222222,
              "#7201a8"
             ],
             [
              0.3333333333333333,
              "#9c179e"
             ],
             [
              0.4444444444444444,
              "#bd3786"
             ],
             [
              0.5555555555555556,
              "#d8576b"
             ],
             [
              0.6666666666666666,
              "#ed7953"
             ],
             [
              0.7777777777777778,
              "#fb9f3a"
             ],
             [
              0.8888888888888888,
              "#fdca26"
             ],
             [
              1,
              "#f0f921"
             ]
            ],
            "type": "contour"
           }
          ],
          "contourcarpet": [
           {
            "colorbar": {
             "outlinewidth": 0,
             "ticks": ""
            },
            "type": "contourcarpet"
           }
          ],
          "heatmap": [
           {
            "colorbar": {
             "outlinewidth": 0,
             "ticks": ""
            },
            "colorscale": [
             [
              0,
              "#0d0887"
             ],
             [
              0.1111111111111111,
              "#46039f"
             ],
             [
              0.2222222222222222,
              "#7201a8"
             ],
             [
              0.3333333333333333,
              "#9c179e"
             ],
             [
              0.4444444444444444,
              "#bd3786"
             ],
             [
              0.5555555555555556,
              "#d8576b"
             ],
             [
              0.6666666666666666,
              "#ed7953"
             ],
             [
              0.7777777777777778,
              "#fb9f3a"
             ],
             [
              0.8888888888888888,
              "#fdca26"
             ],
             [
              1,
              "#f0f921"
             ]
            ],
            "type": "heatmap"
           }
          ],
          "histogram": [
           {
            "marker": {
             "pattern": {
              "fillmode": "overlay",
              "size": 10,
              "solidity": 0.2
             }
            },
            "type": "histogram"
           }
          ],
          "histogram2d": [
           {
            "colorbar": {
             "outlinewidth": 0,
             "ticks": ""
            },
            "colorscale": [
             [
              0,
              "#0d0887"
             ],
             [
              0.1111111111111111,
              "#46039f"
             ],
             [
              0.2222222222222222,
              "#7201a8"
             ],
             [
              0.3333333333333333,
              "#9c179e"
             ],
             [
              0.4444444444444444,
              "#bd3786"
             ],
             [
              0.5555555555555556,
              "#d8576b"
             ],
             [
              0.6666666666666666,
              "#ed7953"
             ],
             [
              0.7777777777777778,
              "#fb9f3a"
             ],
             [
              0.8888888888888888,
              "#fdca26"
             ],
             [
              1,
              "#f0f921"
             ]
            ],
            "type": "histogram2d"
           }
          ],
          "histogram2dcontour": [
           {
            "colorbar": {
             "outlinewidth": 0,
             "ticks": ""
            },
            "colorscale": [
             [
              0,
              "#0d0887"
             ],
             [
              0.1111111111111111,
              "#46039f"
             ],
             [
              0.2222222222222222,
              "#7201a8"
             ],
             [
              0.3333333333333333,
              "#9c179e"
             ],
             [
              0.4444444444444444,
              "#bd3786"
             ],
             [
              0.5555555555555556,
              "#d8576b"
             ],
             [
              0.6666666666666666,
              "#ed7953"
             ],
             [
              0.7777777777777778,
              "#fb9f3a"
             ],
             [
              0.8888888888888888,
              "#fdca26"
             ],
             [
              1,
              "#f0f921"
             ]
            ],
            "type": "histogram2dcontour"
           }
          ],
          "mesh3d": [
           {
            "colorbar": {
             "outlinewidth": 0,
             "ticks": ""
            },
            "type": "mesh3d"
           }
          ],
          "parcoords": [
           {
            "line": {
             "colorbar": {
              "outlinewidth": 0,
              "ticks": ""
             }
            },
            "type": "parcoords"
           }
          ],
          "pie": [
           {
            "automargin": true,
            "type": "pie"
           }
          ],
          "scatter": [
           {
            "fillpattern": {
             "fillmode": "overlay",
             "size": 10,
             "solidity": 0.2
            },
            "type": "scatter"
           }
          ],
          "scatter3d": [
           {
            "line": {
             "colorbar": {
              "outlinewidth": 0,
              "ticks": ""
             }
            },
            "marker": {
             "colorbar": {
              "outlinewidth": 0,
              "ticks": ""
             }
            },
            "type": "scatter3d"
           }
          ],
          "scattercarpet": [
           {
            "marker": {
             "colorbar": {
              "outlinewidth": 0,
              "ticks": ""
             }
            },
            "type": "scattercarpet"
           }
          ],
          "scattergeo": [
           {
            "marker": {
             "colorbar": {
              "outlinewidth": 0,
              "ticks": ""
             }
            },
            "type": "scattergeo"
           }
          ],
          "scattergl": [
           {
            "marker": {
             "colorbar": {
              "outlinewidth": 0,
              "ticks": ""
             }
            },
            "type": "scattergl"
           }
          ],
          "scattermap": [
           {
            "marker": {
             "colorbar": {
              "outlinewidth": 0,
              "ticks": ""
             }
            },
            "type": "scattermap"
           }
          ],
          "scattermapbox": [
           {
            "marker": {
             "colorbar": {
              "outlinewidth": 0,
              "ticks": ""
             }
            },
            "type": "scattermapbox"
           }
          ],
          "scatterpolar": [
           {
            "marker": {
             "colorbar": {
              "outlinewidth": 0,
              "ticks": ""
             }
            },
            "type": "scatterpolar"
           }
          ],
          "scatterpolargl": [
           {
            "marker": {
             "colorbar": {
              "outlinewidth": 0,
              "ticks": ""
             }
            },
            "type": "scatterpolargl"
           }
          ],
          "scatterternary": [
           {
            "marker": {
             "colorbar": {
              "outlinewidth": 0,
              "ticks": ""
             }
            },
            "type": "scatterternary"
           }
          ],
          "surface": [
           {
            "colorbar": {
             "outlinewidth": 0,
             "ticks": ""
            },
            "colorscale": [
             [
              0,
              "#0d0887"
             ],
             [
              0.1111111111111111,
              "#46039f"
             ],
             [
              0.2222222222222222,
              "#7201a8"
             ],
             [
              0.3333333333333333,
              "#9c179e"
             ],
             [
              0.4444444444444444,
              "#bd3786"
             ],
             [
              0.5555555555555556,
              "#d8576b"
             ],
             [
              0.6666666666666666,
              "#ed7953"
             ],
             [
              0.7777777777777778,
              "#fb9f3a"
             ],
             [
              0.8888888888888888,
              "#fdca26"
             ],
             [
              1,
              "#f0f921"
             ]
            ],
            "type": "surface"
           }
          ],
          "table": [
           {
            "cells": {
             "fill": {
              "color": "#EBF0F8"
             },
             "line": {
              "color": "white"
             }
            },
            "header": {
             "fill": {
              "color": "#C8D4E3"
             },
             "line": {
              "color": "white"
             }
            },
            "type": "table"
           }
          ]
         },
         "layout": {
          "annotationdefaults": {
           "arrowcolor": "#2a3f5f",
           "arrowhead": 0,
           "arrowwidth": 1
          },
          "autotypenumbers": "strict",
          "coloraxis": {
           "colorbar": {
            "outlinewidth": 0,
            "ticks": ""
           }
          },
          "colorscale": {
           "diverging": [
            [
             0,
             "#8e0152"
            ],
            [
             0.1,
             "#c51b7d"
            ],
            [
             0.2,
             "#de77ae"
            ],
            [
             0.3,
             "#f1b6da"
            ],
            [
             0.4,
             "#fde0ef"
            ],
            [
             0.5,
             "#f7f7f7"
            ],
            [
             0.6,
             "#e6f5d0"
            ],
            [
             0.7,
             "#b8e186"
            ],
            [
             0.8,
             "#7fbc41"
            ],
            [
             0.9,
             "#4d9221"
            ],
            [
             1,
             "#276419"
            ]
           ],
           "sequential": [
            [
             0,
             "#0d0887"
            ],
            [
             0.1111111111111111,
             "#46039f"
            ],
            [
             0.2222222222222222,
             "#7201a8"
            ],
            [
             0.3333333333333333,
             "#9c179e"
            ],
            [
             0.4444444444444444,
             "#bd3786"
            ],
            [
             0.5555555555555556,
             "#d8576b"
            ],
            [
             0.6666666666666666,
             "#ed7953"
            ],
            [
             0.7777777777777778,
             "#fb9f3a"
            ],
            [
             0.8888888888888888,
             "#fdca26"
            ],
            [
             1,
             "#f0f921"
            ]
           ],
           "sequentialminus": [
            [
             0,
             "#0d0887"
            ],
            [
             0.1111111111111111,
             "#46039f"
            ],
            [
             0.2222222222222222,
             "#7201a8"
            ],
            [
             0.3333333333333333,
             "#9c179e"
            ],
            [
             0.4444444444444444,
             "#bd3786"
            ],
            [
             0.5555555555555556,
             "#d8576b"
            ],
            [
             0.6666666666666666,
             "#ed7953"
            ],
            [
             0.7777777777777778,
             "#fb9f3a"
            ],
            [
             0.8888888888888888,
             "#fdca26"
            ],
            [
             1,
             "#f0f921"
            ]
           ]
          },
          "colorway": [
           "#636efa",
           "#EF553B",
           "#00cc96",
           "#ab63fa",
           "#FFA15A",
           "#19d3f3",
           "#FF6692",
           "#B6E880",
           "#FF97FF",
           "#FECB52"
          ],
          "font": {
           "color": "#2a3f5f"
          },
          "geo": {
           "bgcolor": "white",
           "lakecolor": "white",
           "landcolor": "#E5ECF6",
           "showlakes": true,
           "showland": true,
           "subunitcolor": "white"
          },
          "hoverlabel": {
           "align": "left"
          },
          "hovermode": "closest",
          "mapbox": {
           "style": "light"
          },
          "paper_bgcolor": "white",
          "plot_bgcolor": "#E5ECF6",
          "polar": {
           "angularaxis": {
            "gridcolor": "white",
            "linecolor": "white",
            "ticks": ""
           },
           "bgcolor": "#E5ECF6",
           "radialaxis": {
            "gridcolor": "white",
            "linecolor": "white",
            "ticks": ""
           }
          },
          "scene": {
           "xaxis": {
            "backgroundcolor": "#E5ECF6",
            "gridcolor": "white",
            "gridwidth": 2,
            "linecolor": "white",
            "showbackground": true,
            "ticks": "",
            "zerolinecolor": "white"
           },
           "yaxis": {
            "backgroundcolor": "#E5ECF6",
            "gridcolor": "white",
            "gridwidth": 2,
            "linecolor": "white",
            "showbackground": true,
            "ticks": "",
            "zerolinecolor": "white"
           },
           "zaxis": {
            "backgroundcolor": "#E5ECF6",
            "gridcolor": "white",
            "gridwidth": 2,
            "linecolor": "white",
            "showbackground": true,
            "ticks": "",
            "zerolinecolor": "white"
           }
          },
          "shapedefaults": {
           "line": {
            "color": "#2a3f5f"
           }
          },
          "ternary": {
           "aaxis": {
            "gridcolor": "white",
            "linecolor": "white",
            "ticks": ""
           },
           "baxis": {
            "gridcolor": "white",
            "linecolor": "white",
            "ticks": ""
           },
           "bgcolor": "#E5ECF6",
           "caxis": {
            "gridcolor": "white",
            "linecolor": "white",
            "ticks": ""
           }
          },
          "title": {
           "x": 0.05
          },
          "xaxis": {
           "automargin": true,
           "gridcolor": "white",
           "linecolor": "white",
           "ticks": "",
           "title": {
            "standoff": 15
           },
           "zerolinecolor": "white",
           "zerolinewidth": 2
          },
          "yaxis": {
           "automargin": true,
           "gridcolor": "white",
           "linecolor": "white",
           "ticks": "",
           "title": {
            "standoff": 15
           },
           "zerolinecolor": "white",
           "zerolinewidth": 2
          }
         }
        },
        "title": {
         "text": "EPS Trend Breakdown for dg"
        },
        "width": 1000,
        "xaxis": {
         "anchor": "y",
         "domain": [
          0,
          0.45
         ],
         "title": {
          "text": "Days Ago"
         }
        },
        "xaxis2": {
         "anchor": "y2",
         "domain": [
          0.55,
          1
         ],
         "title": {
          "text": "Days Ago"
         }
        },
        "yaxis": {
         "anchor": "x",
         "domain": [
          0,
          1
         ],
         "title": {
          "text": "EPS"
         }
        },
        "yaxis2": {
         "anchor": "x2",
         "domain": [
          0,
          1
         ],
         "title": {
          "text": "EPS"
         }
        }
       }
      }
     },
     "metadata": {},
     "output_type": "display_data"
    },
    {
     "data": {
      "application/vnd.plotly.v1+json": {
       "config": {
        "plotlyServerURL": "https://plot.ly"
       },
       "data": [
        {
         "mode": "lines+markers",
         "name": "Curr Qtr",
         "type": "scatter",
         "x": [
          90,
          60,
          30,
          7,
          0
         ],
         "xaxis": "x",
         "y": [
          4.3822,
          4.3128,
          4.3047,
          4.2984,
          4.2986
         ],
         "yaxis": "y"
        },
        {
         "mode": "lines+markers",
         "name": "Next Qtr",
         "type": "scatter",
         "x": [
          90,
          60,
          30,
          7,
          0
         ],
         "xaxis": "x",
         "y": [
          2.8653,
          2.8386,
          2.8323,
          2.8295,
          2.8359
         ],
         "yaxis": "y"
        },
        {
         "mode": "lines+markers",
         "name": "Curr Yr",
         "type": "scatter",
         "x": [
          90,
          60,
          30,
          7,
          0
         ],
         "xaxis": "x2",
         "y": [
          14.3414,
          14.3704,
          14.3639,
          14.3582,
          14.367
         ],
         "yaxis": "y2"
        },
        {
         "mode": "lines+markers",
         "name": "Next Yr",
         "type": "scatter",
         "x": [
          90,
          60,
          30,
          7,
          0
         ],
         "xaxis": "x2",
         "y": [
          15.2565,
          15.3002,
          15.3022,
          15.3002,
          15.3286
         ],
         "yaxis": "y2"
        }
       ],
       "layout": {
        "annotations": [
         {
          "font": {
           "size": 16
          },
          "showarrow": false,
          "text": "Quarterly EPS Trends",
          "x": 0.225,
          "xanchor": "center",
          "xref": "paper",
          "y": 1,
          "yanchor": "bottom",
          "yref": "paper"
         },
         {
          "font": {
           "size": 16
          },
          "showarrow": false,
          "text": "Yearly EPS Trends",
          "x": 0.775,
          "xanchor": "center",
          "xref": "paper",
          "y": 1,
          "yanchor": "bottom",
          "yref": "paper"
         }
        ],
        "height": 500,
        "showlegend": true,
        "template": {
         "data": {
          "bar": [
           {
            "error_x": {
             "color": "#2a3f5f"
            },
            "error_y": {
             "color": "#2a3f5f"
            },
            "marker": {
             "line": {
              "color": "#E5ECF6",
              "width": 0.5
             },
             "pattern": {
              "fillmode": "overlay",
              "size": 10,
              "solidity": 0.2
             }
            },
            "type": "bar"
           }
          ],
          "barpolar": [
           {
            "marker": {
             "line": {
              "color": "#E5ECF6",
              "width": 0.5
             },
             "pattern": {
              "fillmode": "overlay",
              "size": 10,
              "solidity": 0.2
             }
            },
            "type": "barpolar"
           }
          ],
          "carpet": [
           {
            "aaxis": {
             "endlinecolor": "#2a3f5f",
             "gridcolor": "white",
             "linecolor": "white",
             "minorgridcolor": "white",
             "startlinecolor": "#2a3f5f"
            },
            "baxis": {
             "endlinecolor": "#2a3f5f",
             "gridcolor": "white",
             "linecolor": "white",
             "minorgridcolor": "white",
             "startlinecolor": "#2a3f5f"
            },
            "type": "carpet"
           }
          ],
          "choropleth": [
           {
            "colorbar": {
             "outlinewidth": 0,
             "ticks": ""
            },
            "type": "choropleth"
           }
          ],
          "contour": [
           {
            "colorbar": {
             "outlinewidth": 0,
             "ticks": ""
            },
            "colorscale": [
             [
              0,
              "#0d0887"
             ],
             [
              0.1111111111111111,
              "#46039f"
             ],
             [
              0.2222222222222222,
              "#7201a8"
             ],
             [
              0.3333333333333333,
              "#9c179e"
             ],
             [
              0.4444444444444444,
              "#bd3786"
             ],
             [
              0.5555555555555556,
              "#d8576b"
             ],
             [
              0.6666666666666666,
              "#ed7953"
             ],
             [
              0.7777777777777778,
              "#fb9f3a"
             ],
             [
              0.8888888888888888,
              "#fdca26"
             ],
             [
              1,
              "#f0f921"
             ]
            ],
            "type": "contour"
           }
          ],
          "contourcarpet": [
           {
            "colorbar": {
             "outlinewidth": 0,
             "ticks": ""
            },
            "type": "contourcarpet"
           }
          ],
          "heatmap": [
           {
            "colorbar": {
             "outlinewidth": 0,
             "ticks": ""
            },
            "colorscale": [
             [
              0,
              "#0d0887"
             ],
             [
              0.1111111111111111,
              "#46039f"
             ],
             [
              0.2222222222222222,
              "#7201a8"
             ],
             [
              0.3333333333333333,
              "#9c179e"
             ],
             [
              0.4444444444444444,
              "#bd3786"
             ],
             [
              0.5555555555555556,
              "#d8576b"
             ],
             [
              0.6666666666666666,
              "#ed7953"
             ],
             [
              0.7777777777777778,
              "#fb9f3a"
             ],
             [
              0.8888888888888888,
              "#fdca26"
             ],
             [
              1,
              "#f0f921"
             ]
            ],
            "type": "heatmap"
           }
          ],
          "histogram": [
           {
            "marker": {
             "pattern": {
              "fillmode": "overlay",
              "size": 10,
              "solidity": 0.2
             }
            },
            "type": "histogram"
           }
          ],
          "histogram2d": [
           {
            "colorbar": {
             "outlinewidth": 0,
             "ticks": ""
            },
            "colorscale": [
             [
              0,
              "#0d0887"
             ],
             [
              0.1111111111111111,
              "#46039f"
             ],
             [
              0.2222222222222222,
              "#7201a8"
             ],
             [
              0.3333333333333333,
              "#9c179e"
             ],
             [
              0.4444444444444444,
              "#bd3786"
             ],
             [
              0.5555555555555556,
              "#d8576b"
             ],
             [
              0.6666666666666666,
              "#ed7953"
             ],
             [
              0.7777777777777778,
              "#fb9f3a"
             ],
             [
              0.8888888888888888,
              "#fdca26"
             ],
             [
              1,
              "#f0f921"
             ]
            ],
            "type": "histogram2d"
           }
          ],
          "histogram2dcontour": [
           {
            "colorbar": {
             "outlinewidth": 0,
             "ticks": ""
            },
            "colorscale": [
             [
              0,
              "#0d0887"
             ],
             [
              0.1111111111111111,
              "#46039f"
             ],
             [
              0.2222222222222222,
              "#7201a8"
             ],
             [
              0.3333333333333333,
              "#9c179e"
             ],
             [
              0.4444444444444444,
              "#bd3786"
             ],
             [
              0.5555555555555556,
              "#d8576b"
             ],
             [
              0.6666666666666666,
              "#ed7953"
             ],
             [
              0.7777777777777778,
              "#fb9f3a"
             ],
             [
              0.8888888888888888,
              "#fdca26"
             ],
             [
              1,
              "#f0f921"
             ]
            ],
            "type": "histogram2dcontour"
           }
          ],
          "mesh3d": [
           {
            "colorbar": {
             "outlinewidth": 0,
             "ticks": ""
            },
            "type": "mesh3d"
           }
          ],
          "parcoords": [
           {
            "line": {
             "colorbar": {
              "outlinewidth": 0,
              "ticks": ""
             }
            },
            "type": "parcoords"
           }
          ],
          "pie": [
           {
            "automargin": true,
            "type": "pie"
           }
          ],
          "scatter": [
           {
            "fillpattern": {
             "fillmode": "overlay",
             "size": 10,
             "solidity": 0.2
            },
            "type": "scatter"
           }
          ],
          "scatter3d": [
           {
            "line": {
             "colorbar": {
              "outlinewidth": 0,
              "ticks": ""
             }
            },
            "marker": {
             "colorbar": {
              "outlinewidth": 0,
              "ticks": ""
             }
            },
            "type": "scatter3d"
           }
          ],
          "scattercarpet": [
           {
            "marker": {
             "colorbar": {
              "outlinewidth": 0,
              "ticks": ""
             }
            },
            "type": "scattercarpet"
           }
          ],
          "scattergeo": [
           {
            "marker": {
             "colorbar": {
              "outlinewidth": 0,
              "ticks": ""
             }
            },
            "type": "scattergeo"
           }
          ],
          "scattergl": [
           {
            "marker": {
             "colorbar": {
              "outlinewidth": 0,
              "ticks": ""
             }
            },
            "type": "scattergl"
           }
          ],
          "scattermap": [
           {
            "marker": {
             "colorbar": {
              "outlinewidth": 0,
              "ticks": ""
             }
            },
            "type": "scattermap"
           }
          ],
          "scattermapbox": [
           {
            "marker": {
             "colorbar": {
              "outlinewidth": 0,
              "ticks": ""
             }
            },
            "type": "scattermapbox"
           }
          ],
          "scatterpolar": [
           {
            "marker": {
             "colorbar": {
              "outlinewidth": 0,
              "ticks": ""
             }
            },
            "type": "scatterpolar"
           }
          ],
          "scatterpolargl": [
           {
            "marker": {
             "colorbar": {
              "outlinewidth": 0,
              "ticks": ""
             }
            },
            "type": "scatterpolargl"
           }
          ],
          "scatterternary": [
           {
            "marker": {
             "colorbar": {
              "outlinewidth": 0,
              "ticks": ""
             }
            },
            "type": "scatterternary"
           }
          ],
          "surface": [
           {
            "colorbar": {
             "outlinewidth": 0,
             "ticks": ""
            },
            "colorscale": [
             [
              0,
              "#0d0887"
             ],
             [
              0.1111111111111111,
              "#46039f"
             ],
             [
              0.2222222222222222,
              "#7201a8"
             ],
             [
              0.3333333333333333,
              "#9c179e"
             ],
             [
              0.4444444444444444,
              "#bd3786"
             ],
             [
              0.5555555555555556,
              "#d8576b"
             ],
             [
              0.6666666666666666,
              "#ed7953"
             ],
             [
              0.7777777777777778,
              "#fb9f3a"
             ],
             [
              0.8888888888888888,
              "#fdca26"
             ],
             [
              1,
              "#f0f921"
             ]
            ],
            "type": "surface"
           }
          ],
          "table": [
           {
            "cells": {
             "fill": {
              "color": "#EBF0F8"
             },
             "line": {
              "color": "white"
             }
            },
            "header": {
             "fill": {
              "color": "#C8D4E3"
             },
             "line": {
              "color": "white"
             }
            },
            "type": "table"
           }
          ]
         },
         "layout": {
          "annotationdefaults": {
           "arrowcolor": "#2a3f5f",
           "arrowhead": 0,
           "arrowwidth": 1
          },
          "autotypenumbers": "strict",
          "coloraxis": {
           "colorbar": {
            "outlinewidth": 0,
            "ticks": ""
           }
          },
          "colorscale": {
           "diverging": [
            [
             0,
             "#8e0152"
            ],
            [
             0.1,
             "#c51b7d"
            ],
            [
             0.2,
             "#de77ae"
            ],
            [
             0.3,
             "#f1b6da"
            ],
            [
             0.4,
             "#fde0ef"
            ],
            [
             0.5,
             "#f7f7f7"
            ],
            [
             0.6,
             "#e6f5d0"
            ],
            [
             0.7,
             "#b8e186"
            ],
            [
             0.8,
             "#7fbc41"
            ],
            [
             0.9,
             "#4d9221"
            ],
            [
             1,
             "#276419"
            ]
           ],
           "sequential": [
            [
             0,
             "#0d0887"
            ],
            [
             0.1111111111111111,
             "#46039f"
            ],
            [
             0.2222222222222222,
             "#7201a8"
            ],
            [
             0.3333333333333333,
             "#9c179e"
            ],
            [
             0.4444444444444444,
             "#bd3786"
            ],
            [
             0.5555555555555556,
             "#d8576b"
            ],
            [
             0.6666666666666666,
             "#ed7953"
            ],
            [
             0.7777777777777778,
             "#fb9f3a"
            ],
            [
             0.8888888888888888,
             "#fdca26"
            ],
            [
             1,
             "#f0f921"
            ]
           ],
           "sequentialminus": [
            [
             0,
             "#0d0887"
            ],
            [
             0.1111111111111111,
             "#46039f"
            ],
            [
             0.2222222222222222,
             "#7201a8"
            ],
            [
             0.3333333333333333,
             "#9c179e"
            ],
            [
             0.4444444444444444,
             "#bd3786"
            ],
            [
             0.5555555555555556,
             "#d8576b"
            ],
            [
             0.6666666666666666,
             "#ed7953"
            ],
            [
             0.7777777777777778,
             "#fb9f3a"
            ],
            [
             0.8888888888888888,
             "#fdca26"
            ],
            [
             1,
             "#f0f921"
            ]
           ]
          },
          "colorway": [
           "#636efa",
           "#EF553B",
           "#00cc96",
           "#ab63fa",
           "#FFA15A",
           "#19d3f3",
           "#FF6692",
           "#B6E880",
           "#FF97FF",
           "#FECB52"
          ],
          "font": {
           "color": "#2a3f5f"
          },
          "geo": {
           "bgcolor": "white",
           "lakecolor": "white",
           "landcolor": "#E5ECF6",
           "showlakes": true,
           "showland": true,
           "subunitcolor": "white"
          },
          "hoverlabel": {
           "align": "left"
          },
          "hovermode": "closest",
          "mapbox": {
           "style": "light"
          },
          "paper_bgcolor": "white",
          "plot_bgcolor": "#E5ECF6",
          "polar": {
           "angularaxis": {
            "gridcolor": "white",
            "linecolor": "white",
            "ticks": ""
           },
           "bgcolor": "#E5ECF6",
           "radialaxis": {
            "gridcolor": "white",
            "linecolor": "white",
            "ticks": ""
           }
          },
          "scene": {
           "xaxis": {
            "backgroundcolor": "#E5ECF6",
            "gridcolor": "white",
            "gridwidth": 2,
            "linecolor": "white",
            "showbackground": true,
            "ticks": "",
            "zerolinecolor": "white"
           },
           "yaxis": {
            "backgroundcolor": "#E5ECF6",
            "gridcolor": "white",
            "gridwidth": 2,
            "linecolor": "white",
            "showbackground": true,
            "ticks": "",
            "zerolinecolor": "white"
           },
           "zaxis": {
            "backgroundcolor": "#E5ECF6",
            "gridcolor": "white",
            "gridwidth": 2,
            "linecolor": "white",
            "showbackground": true,
            "ticks": "",
            "zerolinecolor": "white"
           }
          },
          "shapedefaults": {
           "line": {
            "color": "#2a3f5f"
           }
          },
          "ternary": {
           "aaxis": {
            "gridcolor": "white",
            "linecolor": "white",
            "ticks": ""
           },
           "baxis": {
            "gridcolor": "white",
            "linecolor": "white",
            "ticks": ""
           },
           "bgcolor": "#E5ECF6",
           "caxis": {
            "gridcolor": "white",
            "linecolor": "white",
            "ticks": ""
           }
          },
          "title": {
           "x": 0.05
          },
          "xaxis": {
           "automargin": true,
           "gridcolor": "white",
           "linecolor": "white",
           "ticks": "",
           "title": {
            "standoff": 15
           },
           "zerolinecolor": "white",
           "zerolinewidth": 2
          },
          "yaxis": {
           "automargin": true,
           "gridcolor": "white",
           "linecolor": "white",
           "ticks": "",
           "title": {
            "standoff": 15
           },
           "zerolinecolor": "white",
           "zerolinewidth": 2
          }
         }
        },
        "title": {
         "text": "EPS Trend Breakdown for dks"
        },
        "width": 1000,
        "xaxis": {
         "anchor": "y",
         "domain": [
          0,
          0.45
         ],
         "title": {
          "text": "Days Ago"
         }
        },
        "xaxis2": {
         "anchor": "y2",
         "domain": [
          0.55,
          1
         ],
         "title": {
          "text": "Days Ago"
         }
        },
        "yaxis": {
         "anchor": "x",
         "domain": [
          0,
          1
         ],
         "title": {
          "text": "EPS"
         }
        },
        "yaxis2": {
         "anchor": "x2",
         "domain": [
          0,
          1
         ],
         "title": {
          "text": "EPS"
         }
        }
       }
      }
     },
     "metadata": {},
     "output_type": "display_data"
    },
    {
     "data": {
      "application/vnd.plotly.v1+json": {
       "config": {
        "plotlyServerURL": "https://plot.ly"
       },
       "data": [
        {
         "mode": "lines+markers",
         "name": "Curr Qtr",
         "type": "scatter",
         "x": [
          90,
          60,
          30,
          7,
          0
         ],
         "xaxis": "x",
         "y": [
          2.0948,
          2.2732,
          2.2825,
          2.2903,
          2.294
         ],
         "yaxis": "y"
        },
        {
         "mode": "lines+markers",
         "name": "Next Qtr",
         "type": "scatter",
         "x": [
          90,
          60,
          30,
          7,
          0
         ],
         "xaxis": "x",
         "y": [
          2.4445,
          2.5453,
          2.553,
          2.5463,
          2.5472
         ],
         "yaxis": "y"
        },
        {
         "mode": "lines+markers",
         "name": "Curr Yr",
         "type": "scatter",
         "x": [
          90,
          60,
          30,
          7,
          0
         ],
         "xaxis": "x2",
         "y": [
          9.2593,
          9.382,
          9.3914,
          9.3757,
          9.3722
         ],
         "yaxis": "y2"
        },
        {
         "mode": "lines+markers",
         "name": "Next Yr",
         "type": "scatter",
         "x": [
          90,
          60,
          30,
          7,
          0
         ],
         "xaxis": "x2",
         "y": [
          10.3715,
          10.6849,
          10.7581,
          10.8062,
          10.7873
         ],
         "yaxis": "y2"
        }
       ],
       "layout": {
        "annotations": [
         {
          "font": {
           "size": 16
          },
          "showarrow": false,
          "text": "Quarterly EPS Trends",
          "x": 0.225,
          "xanchor": "center",
          "xref": "paper",
          "y": 1,
          "yanchor": "bottom",
          "yref": "paper"
         },
         {
          "font": {
           "size": 16
          },
          "showarrow": false,
          "text": "Yearly EPS Trends",
          "x": 0.775,
          "xanchor": "center",
          "xref": "paper",
          "y": 1,
          "yanchor": "bottom",
          "yref": "paper"
         }
        ],
        "height": 500,
        "showlegend": true,
        "template": {
         "data": {
          "bar": [
           {
            "error_x": {
             "color": "#2a3f5f"
            },
            "error_y": {
             "color": "#2a3f5f"
            },
            "marker": {
             "line": {
              "color": "#E5ECF6",
              "width": 0.5
             },
             "pattern": {
              "fillmode": "overlay",
              "size": 10,
              "solidity": 0.2
             }
            },
            "type": "bar"
           }
          ],
          "barpolar": [
           {
            "marker": {
             "line": {
              "color": "#E5ECF6",
              "width": 0.5
             },
             "pattern": {
              "fillmode": "overlay",
              "size": 10,
              "solidity": 0.2
             }
            },
            "type": "barpolar"
           }
          ],
          "carpet": [
           {
            "aaxis": {
             "endlinecolor": "#2a3f5f",
             "gridcolor": "white",
             "linecolor": "white",
             "minorgridcolor": "white",
             "startlinecolor": "#2a3f5f"
            },
            "baxis": {
             "endlinecolor": "#2a3f5f",
             "gridcolor": "white",
             "linecolor": "white",
             "minorgridcolor": "white",
             "startlinecolor": "#2a3f5f"
            },
            "type": "carpet"
           }
          ],
          "choropleth": [
           {
            "colorbar": {
             "outlinewidth": 0,
             "ticks": ""
            },
            "type": "choropleth"
           }
          ],
          "contour": [
           {
            "colorbar": {
             "outlinewidth": 0,
             "ticks": ""
            },
            "colorscale": [
             [
              0,
              "#0d0887"
             ],
             [
              0.1111111111111111,
              "#46039f"
             ],
             [
              0.2222222222222222,
              "#7201a8"
             ],
             [
              0.3333333333333333,
              "#9c179e"
             ],
             [
              0.4444444444444444,
              "#bd3786"
             ],
             [
              0.5555555555555556,
              "#d8576b"
             ],
             [
              0.6666666666666666,
              "#ed7953"
             ],
             [
              0.7777777777777778,
              "#fb9f3a"
             ],
             [
              0.8888888888888888,
              "#fdca26"
             ],
             [
              1,
              "#f0f921"
             ]
            ],
            "type": "contour"
           }
          ],
          "contourcarpet": [
           {
            "colorbar": {
             "outlinewidth": 0,
             "ticks": ""
            },
            "type": "contourcarpet"
           }
          ],
          "heatmap": [
           {
            "colorbar": {
             "outlinewidth": 0,
             "ticks": ""
            },
            "colorscale": [
             [
              0,
              "#0d0887"
             ],
             [
              0.1111111111111111,
              "#46039f"
             ],
             [
              0.2222222222222222,
              "#7201a8"
             ],
             [
              0.3333333333333333,
              "#9c179e"
             ],
             [
              0.4444444444444444,
              "#bd3786"
             ],
             [
              0.5555555555555556,
              "#d8576b"
             ],
             [
              0.6666666666666666,
              "#ed7953"
             ],
             [
              0.7777777777777778,
              "#fb9f3a"
             ],
             [
              0.8888888888888888,
              "#fdca26"
             ],
             [
              1,
              "#f0f921"
             ]
            ],
            "type": "heatmap"
           }
          ],
          "histogram": [
           {
            "marker": {
             "pattern": {
              "fillmode": "overlay",
              "size": 10,
              "solidity": 0.2
             }
            },
            "type": "histogram"
           }
          ],
          "histogram2d": [
           {
            "colorbar": {
             "outlinewidth": 0,
             "ticks": ""
            },
            "colorscale": [
             [
              0,
              "#0d0887"
             ],
             [
              0.1111111111111111,
              "#46039f"
             ],
             [
              0.2222222222222222,
              "#7201a8"
             ],
             [
              0.3333333333333333,
              "#9c179e"
             ],
             [
              0.4444444444444444,
              "#bd3786"
             ],
             [
              0.5555555555555556,
              "#d8576b"
             ],
             [
              0.6666666666666666,
              "#ed7953"
             ],
             [
              0.7777777777777778,
              "#fb9f3a"
             ],
             [
              0.8888888888888888,
              "#fdca26"
             ],
             [
              1,
              "#f0f921"
             ]
            ],
            "type": "histogram2d"
           }
          ],
          "histogram2dcontour": [
           {
            "colorbar": {
             "outlinewidth": 0,
             "ticks": ""
            },
            "colorscale": [
             [
              0,
              "#0d0887"
             ],
             [
              0.1111111111111111,
              "#46039f"
             ],
             [
              0.2222222222222222,
              "#7201a8"
             ],
             [
              0.3333333333333333,
              "#9c179e"
             ],
             [
              0.4444444444444444,
              "#bd3786"
             ],
             [
              0.5555555555555556,
              "#d8576b"
             ],
             [
              0.6666666666666666,
              "#ed7953"
             ],
             [
              0.7777777777777778,
              "#fb9f3a"
             ],
             [
              0.8888888888888888,
              "#fdca26"
             ],
             [
              1,
              "#f0f921"
             ]
            ],
            "type": "histogram2dcontour"
           }
          ],
          "mesh3d": [
           {
            "colorbar": {
             "outlinewidth": 0,
             "ticks": ""
            },
            "type": "mesh3d"
           }
          ],
          "parcoords": [
           {
            "line": {
             "colorbar": {
              "outlinewidth": 0,
              "ticks": ""
             }
            },
            "type": "parcoords"
           }
          ],
          "pie": [
           {
            "automargin": true,
            "type": "pie"
           }
          ],
          "scatter": [
           {
            "fillpattern": {
             "fillmode": "overlay",
             "size": 10,
             "solidity": 0.2
            },
            "type": "scatter"
           }
          ],
          "scatter3d": [
           {
            "line": {
             "colorbar": {
              "outlinewidth": 0,
              "ticks": ""
             }
            },
            "marker": {
             "colorbar": {
              "outlinewidth": 0,
              "ticks": ""
             }
            },
            "type": "scatter3d"
           }
          ],
          "scattercarpet": [
           {
            "marker": {
             "colorbar": {
              "outlinewidth": 0,
              "ticks": ""
             }
            },
            "type": "scattercarpet"
           }
          ],
          "scattergeo": [
           {
            "marker": {
             "colorbar": {
              "outlinewidth": 0,
              "ticks": ""
             }
            },
            "type": "scattergeo"
           }
          ],
          "scattergl": [
           {
            "marker": {
             "colorbar": {
              "outlinewidth": 0,
              "ticks": ""
             }
            },
            "type": "scattergl"
           }
          ],
          "scattermap": [
           {
            "marker": {
             "colorbar": {
              "outlinewidth": 0,
              "ticks": ""
             }
            },
            "type": "scattermap"
           }
          ],
          "scattermapbox": [
           {
            "marker": {
             "colorbar": {
              "outlinewidth": 0,
              "ticks": ""
             }
            },
            "type": "scattermapbox"
           }
          ],
          "scatterpolar": [
           {
            "marker": {
             "colorbar": {
              "outlinewidth": 0,
              "ticks": ""
             }
            },
            "type": "scatterpolar"
           }
          ],
          "scatterpolargl": [
           {
            "marker": {
             "colorbar": {
              "outlinewidth": 0,
              "ticks": ""
             }
            },
            "type": "scatterpolargl"
           }
          ],
          "scatterternary": [
           {
            "marker": {
             "colorbar": {
              "outlinewidth": 0,
              "ticks": ""
             }
            },
            "type": "scatterternary"
           }
          ],
          "surface": [
           {
            "colorbar": {
             "outlinewidth": 0,
             "ticks": ""
            },
            "colorscale": [
             [
              0,
              "#0d0887"
             ],
             [
              0.1111111111111111,
              "#46039f"
             ],
             [
              0.2222222222222222,
              "#7201a8"
             ],
             [
              0.3333333333333333,
              "#9c179e"
             ],
             [
              0.4444444444444444,
              "#bd3786"
             ],
             [
              0.5555555555555556,
              "#d8576b"
             ],
             [
              0.6666666666666666,
              "#ed7953"
             ],
             [
              0.7777777777777778,
              "#fb9f3a"
             ],
             [
              0.8888888888888888,
              "#fdca26"
             ],
             [
              1,
              "#f0f921"
             ]
            ],
            "type": "surface"
           }
          ],
          "table": [
           {
            "cells": {
             "fill": {
              "color": "#EBF0F8"
             },
             "line": {
              "color": "white"
             }
            },
            "header": {
             "fill": {
              "color": "#C8D4E3"
             },
             "line": {
              "color": "white"
             }
            },
            "type": "table"
           }
          ]
         },
         "layout": {
          "annotationdefaults": {
           "arrowcolor": "#2a3f5f",
           "arrowhead": 0,
           "arrowwidth": 1
          },
          "autotypenumbers": "strict",
          "coloraxis": {
           "colorbar": {
            "outlinewidth": 0,
            "ticks": ""
           }
          },
          "colorscale": {
           "diverging": [
            [
             0,
             "#8e0152"
            ],
            [
             0.1,
             "#c51b7d"
            ],
            [
             0.2,
             "#de77ae"
            ],
            [
             0.3,
             "#f1b6da"
            ],
            [
             0.4,
             "#fde0ef"
            ],
            [
             0.5,
             "#f7f7f7"
            ],
            [
             0.6,
             "#e6f5d0"
            ],
            [
             0.7,
             "#b8e186"
            ],
            [
             0.8,
             "#7fbc41"
            ],
            [
             0.9,
             "#4d9221"
            ],
            [
             1,
             "#276419"
            ]
           ],
           "sequential": [
            [
             0,
             "#0d0887"
            ],
            [
             0.1111111111111111,
             "#46039f"
            ],
            [
             0.2222222222222222,
             "#7201a8"
            ],
            [
             0.3333333333333333,
             "#9c179e"
            ],
            [
             0.4444444444444444,
             "#bd3786"
            ],
            [
             0.5555555555555556,
             "#d8576b"
            ],
            [
             0.6666666666666666,
             "#ed7953"
            ],
            [
             0.7777777777777778,
             "#fb9f3a"
            ],
            [
             0.8888888888888888,
             "#fdca26"
            ],
            [
             1,
             "#f0f921"
            ]
           ],
           "sequentialminus": [
            [
             0,
             "#0d0887"
            ],
            [
             0.1111111111111111,
             "#46039f"
            ],
            [
             0.2222222222222222,
             "#7201a8"
            ],
            [
             0.3333333333333333,
             "#9c179e"
            ],
            [
             0.4444444444444444,
             "#bd3786"
            ],
            [
             0.5555555555555556,
             "#d8576b"
            ],
            [
             0.6666666666666666,
             "#ed7953"
            ],
            [
             0.7777777777777778,
             "#fb9f3a"
            ],
            [
             0.8888888888888888,
             "#fdca26"
            ],
            [
             1,
             "#f0f921"
            ]
           ]
          },
          "colorway": [
           "#636efa",
           "#EF553B",
           "#00cc96",
           "#ab63fa",
           "#FFA15A",
           "#19d3f3",
           "#FF6692",
           "#B6E880",
           "#FF97FF",
           "#FECB52"
          ],
          "font": {
           "color": "#2a3f5f"
          },
          "geo": {
           "bgcolor": "white",
           "lakecolor": "white",
           "landcolor": "#E5ECF6",
           "showlakes": true,
           "showland": true,
           "subunitcolor": "white"
          },
          "hoverlabel": {
           "align": "left"
          },
          "hovermode": "closest",
          "mapbox": {
           "style": "light"
          },
          "paper_bgcolor": "white",
          "plot_bgcolor": "#E5ECF6",
          "polar": {
           "angularaxis": {
            "gridcolor": "white",
            "linecolor": "white",
            "ticks": ""
           },
           "bgcolor": "#E5ECF6",
           "radialaxis": {
            "gridcolor": "white",
            "linecolor": "white",
            "ticks": ""
           }
          },
          "scene": {
           "xaxis": {
            "backgroundcolor": "#E5ECF6",
            "gridcolor": "white",
            "gridwidth": 2,
            "linecolor": "white",
            "showbackground": true,
            "ticks": "",
            "zerolinecolor": "white"
           },
           "yaxis": {
            "backgroundcolor": "#E5ECF6",
            "gridcolor": "white",
            "gridwidth": 2,
            "linecolor": "white",
            "showbackground": true,
            "ticks": "",
            "zerolinecolor": "white"
           },
           "zaxis": {
            "backgroundcolor": "#E5ECF6",
            "gridcolor": "white",
            "gridwidth": 2,
            "linecolor": "white",
            "showbackground": true,
            "ticks": "",
            "zerolinecolor": "white"
           }
          },
          "shapedefaults": {
           "line": {
            "color": "#2a3f5f"
           }
          },
          "ternary": {
           "aaxis": {
            "gridcolor": "white",
            "linecolor": "white",
            "ticks": ""
           },
           "baxis": {
            "gridcolor": "white",
            "linecolor": "white",
            "ticks": ""
           },
           "bgcolor": "#E5ECF6",
           "caxis": {
            "gridcolor": "white",
            "linecolor": "white",
            "ticks": ""
           }
          },
          "title": {
           "x": 0.05
          },
          "xaxis": {
           "automargin": true,
           "gridcolor": "white",
           "linecolor": "white",
           "ticks": "",
           "title": {
            "standoff": 15
           },
           "zerolinecolor": "white",
           "zerolinewidth": 2
          },
          "yaxis": {
           "automargin": true,
           "gridcolor": "white",
           "linecolor": "white",
           "ticks": "",
           "title": {
            "standoff": 15
           },
           "zerolinecolor": "white",
           "zerolinewidth": 2
          }
         }
        },
        "title": {
         "text": "EPS Trend Breakdown for dell"
        },
        "width": 1000,
        "xaxis": {
         "anchor": "y",
         "domain": [
          0,
          0.45
         ],
         "title": {
          "text": "Days Ago"
         }
        },
        "xaxis2": {
         "anchor": "y2",
         "domain": [
          0.55,
          1
         ],
         "title": {
          "text": "Days Ago"
         }
        },
        "yaxis": {
         "anchor": "x",
         "domain": [
          0,
          1
         ],
         "title": {
          "text": "EPS"
         }
        },
        "yaxis2": {
         "anchor": "x2",
         "domain": [
          0,
          1
         ],
         "title": {
          "text": "EPS"
         }
        }
       }
      }
     },
     "metadata": {},
     "output_type": "display_data"
    },
    {
     "data": {
      "application/vnd.plotly.v1+json": {
       "config": {
        "plotlyServerURL": "https://plot.ly"
       },
       "data": [
        {
         "mode": "lines+markers",
         "name": "Curr Qtr",
         "type": "scatter",
         "x": [
          90,
          60,
          30,
          7,
          0
         ],
         "xaxis": "x",
         "y": [
          -0.17,
          -0.09,
          0.296,
          0.3156,
          0.3156
         ],
         "yaxis": "y"
        },
        {
         "mode": "lines+markers",
         "name": "Next Qtr",
         "type": "scatter",
         "x": [
          90,
          60,
          30,
          7,
          0
         ],
         "xaxis": "x",
         "y": [
          0.42,
          0.495,
          0.49,
          0.49,
          0.49
         ],
         "yaxis": "y"
        },
        {
         "mode": "lines+markers",
         "name": "Curr Yr",
         "type": "scatter",
         "x": [
          90,
          60,
          30,
          7,
          0
         ],
         "xaxis": "x2",
         "y": [
          1.932,
          1.937,
          1.9493,
          1.9914,
          1.9914
         ],
         "yaxis": "y2"
        },
        {
         "mode": "lines+markers",
         "name": "Next Yr",
         "type": "scatter",
         "x": [
          90,
          60,
          30,
          7,
          0
         ],
         "xaxis": "x2",
         "y": [
          2.5953,
          2.5803,
          2.427,
          2.4404,
          2.4404
         ],
         "yaxis": "y2"
        }
       ],
       "layout": {
        "annotations": [
         {
          "font": {
           "size": 16
          },
          "showarrow": false,
          "text": "Quarterly EPS Trends",
          "x": 0.225,
          "xanchor": "center",
          "xref": "paper",
          "y": 1,
          "yanchor": "bottom",
          "yref": "paper"
         },
         {
          "font": {
           "size": 16
          },
          "showarrow": false,
          "text": "Yearly EPS Trends",
          "x": 0.775,
          "xanchor": "center",
          "xref": "paper",
          "y": 1,
          "yanchor": "bottom",
          "yref": "paper"
         }
        ],
        "height": 500,
        "showlegend": true,
        "template": {
         "data": {
          "bar": [
           {
            "error_x": {
             "color": "#2a3f5f"
            },
            "error_y": {
             "color": "#2a3f5f"
            },
            "marker": {
             "line": {
              "color": "#E5ECF6",
              "width": 0.5
             },
             "pattern": {
              "fillmode": "overlay",
              "size": 10,
              "solidity": 0.2
             }
            },
            "type": "bar"
           }
          ],
          "barpolar": [
           {
            "marker": {
             "line": {
              "color": "#E5ECF6",
              "width": 0.5
             },
             "pattern": {
              "fillmode": "overlay",
              "size": 10,
              "solidity": 0.2
             }
            },
            "type": "barpolar"
           }
          ],
          "carpet": [
           {
            "aaxis": {
             "endlinecolor": "#2a3f5f",
             "gridcolor": "white",
             "linecolor": "white",
             "minorgridcolor": "white",
             "startlinecolor": "#2a3f5f"
            },
            "baxis": {
             "endlinecolor": "#2a3f5f",
             "gridcolor": "white",
             "linecolor": "white",
             "minorgridcolor": "white",
             "startlinecolor": "#2a3f5f"
            },
            "type": "carpet"
           }
          ],
          "choropleth": [
           {
            "colorbar": {
             "outlinewidth": 0,
             "ticks": ""
            },
            "type": "choropleth"
           }
          ],
          "contour": [
           {
            "colorbar": {
             "outlinewidth": 0,
             "ticks": ""
            },
            "colorscale": [
             [
              0,
              "#0d0887"
             ],
             [
              0.1111111111111111,
              "#46039f"
             ],
             [
              0.2222222222222222,
              "#7201a8"
             ],
             [
              0.3333333333333333,
              "#9c179e"
             ],
             [
              0.4444444444444444,
              "#bd3786"
             ],
             [
              0.5555555555555556,
              "#d8576b"
             ],
             [
              0.6666666666666666,
              "#ed7953"
             ],
             [
              0.7777777777777778,
              "#fb9f3a"
             ],
             [
              0.8888888888888888,
              "#fdca26"
             ],
             [
              1,
              "#f0f921"
             ]
            ],
            "type": "contour"
           }
          ],
          "contourcarpet": [
           {
            "colorbar": {
             "outlinewidth": 0,
             "ticks": ""
            },
            "type": "contourcarpet"
           }
          ],
          "heatmap": [
           {
            "colorbar": {
             "outlinewidth": 0,
             "ticks": ""
            },
            "colorscale": [
             [
              0,
              "#0d0887"
             ],
             [
              0.1111111111111111,
              "#46039f"
             ],
             [
              0.2222222222222222,
              "#7201a8"
             ],
             [
              0.3333333333333333,
              "#9c179e"
             ],
             [
              0.4444444444444444,
              "#bd3786"
             ],
             [
              0.5555555555555556,
              "#d8576b"
             ],
             [
              0.6666666666666666,
              "#ed7953"
             ],
             [
              0.7777777777777778,
              "#fb9f3a"
             ],
             [
              0.8888888888888888,
              "#fdca26"
             ],
             [
              1,
              "#f0f921"
             ]
            ],
            "type": "heatmap"
           }
          ],
          "histogram": [
           {
            "marker": {
             "pattern": {
              "fillmode": "overlay",
              "size": 10,
              "solidity": 0.2
             }
            },
            "type": "histogram"
           }
          ],
          "histogram2d": [
           {
            "colorbar": {
             "outlinewidth": 0,
             "ticks": ""
            },
            "colorscale": [
             [
              0,
              "#0d0887"
             ],
             [
              0.1111111111111111,
              "#46039f"
             ],
             [
              0.2222222222222222,
              "#7201a8"
             ],
             [
              0.3333333333333333,
              "#9c179e"
             ],
             [
              0.4444444444444444,
              "#bd3786"
             ],
             [
              0.5555555555555556,
              "#d8576b"
             ],
             [
              0.6666666666666666,
              "#ed7953"
             ],
             [
              0.7777777777777778,
              "#fb9f3a"
             ],
             [
              0.8888888888888888,
              "#fdca26"
             ],
             [
              1,
              "#f0f921"
             ]
            ],
            "type": "histogram2d"
           }
          ],
          "histogram2dcontour": [
           {
            "colorbar": {
             "outlinewidth": 0,
             "ticks": ""
            },
            "colorscale": [
             [
              0,
              "#0d0887"
             ],
             [
              0.1111111111111111,
              "#46039f"
             ],
             [
              0.2222222222222222,
              "#7201a8"
             ],
             [
              0.3333333333333333,
              "#9c179e"
             ],
             [
              0.4444444444444444,
              "#bd3786"
             ],
             [
              0.5555555555555556,
              "#d8576b"
             ],
             [
              0.6666666666666666,
              "#ed7953"
             ],
             [
              0.7777777777777778,
              "#fb9f3a"
             ],
             [
              0.8888888888888888,
              "#fdca26"
             ],
             [
              1,
              "#f0f921"
             ]
            ],
            "type": "histogram2dcontour"
           }
          ],
          "mesh3d": [
           {
            "colorbar": {
             "outlinewidth": 0,
             "ticks": ""
            },
            "type": "mesh3d"
           }
          ],
          "parcoords": [
           {
            "line": {
             "colorbar": {
              "outlinewidth": 0,
              "ticks": ""
             }
            },
            "type": "parcoords"
           }
          ],
          "pie": [
           {
            "automargin": true,
            "type": "pie"
           }
          ],
          "scatter": [
           {
            "fillpattern": {
             "fillmode": "overlay",
             "size": 10,
             "solidity": 0.2
            },
            "type": "scatter"
           }
          ],
          "scatter3d": [
           {
            "line": {
             "colorbar": {
              "outlinewidth": 0,
              "ticks": ""
             }
            },
            "marker": {
             "colorbar": {
              "outlinewidth": 0,
              "ticks": ""
             }
            },
            "type": "scatter3d"
           }
          ],
          "scattercarpet": [
           {
            "marker": {
             "colorbar": {
              "outlinewidth": 0,
              "ticks": ""
             }
            },
            "type": "scattercarpet"
           }
          ],
          "scattergeo": [
           {
            "marker": {
             "colorbar": {
              "outlinewidth": 0,
              "ticks": ""
             }
            },
            "type": "scattergeo"
           }
          ],
          "scattergl": [
           {
            "marker": {
             "colorbar": {
              "outlinewidth": 0,
              "ticks": ""
             }
            },
            "type": "scattergl"
           }
          ],
          "scattermap": [
           {
            "marker": {
             "colorbar": {
              "outlinewidth": 0,
              "ticks": ""
             }
            },
            "type": "scattermap"
           }
          ],
          "scattermapbox": [
           {
            "marker": {
             "colorbar": {
              "outlinewidth": 0,
              "ticks": ""
             }
            },
            "type": "scattermapbox"
           }
          ],
          "scatterpolar": [
           {
            "marker": {
             "colorbar": {
              "outlinewidth": 0,
              "ticks": ""
             }
            },
            "type": "scatterpolar"
           }
          ],
          "scatterpolargl": [
           {
            "marker": {
             "colorbar": {
              "outlinewidth": 0,
              "ticks": ""
             }
            },
            "type": "scatterpolargl"
           }
          ],
          "scatterternary": [
           {
            "marker": {
             "colorbar": {
              "outlinewidth": 0,
              "ticks": ""
             }
            },
            "type": "scatterternary"
           }
          ],
          "surface": [
           {
            "colorbar": {
             "outlinewidth": 0,
             "ticks": ""
            },
            "colorscale": [
             [
              0,
              "#0d0887"
             ],
             [
              0.1111111111111111,
              "#46039f"
             ],
             [
              0.2222222222222222,
              "#7201a8"
             ],
             [
              0.3333333333333333,
              "#9c179e"
             ],
             [
              0.4444444444444444,
              "#bd3786"
             ],
             [
              0.5555555555555556,
              "#d8576b"
             ],
             [
              0.6666666666666666,
              "#ed7953"
             ],
             [
              0.7777777777777778,
              "#fb9f3a"
             ],
             [
              0.8888888888888888,
              "#fdca26"
             ],
             [
              1,
              "#f0f921"
             ]
            ],
            "type": "surface"
           }
          ],
          "table": [
           {
            "cells": {
             "fill": {
              "color": "#EBF0F8"
             },
             "line": {
              "color": "white"
             }
            },
            "header": {
             "fill": {
              "color": "#C8D4E3"
             },
             "line": {
              "color": "white"
             }
            },
            "type": "table"
           }
          ]
         },
         "layout": {
          "annotationdefaults": {
           "arrowcolor": "#2a3f5f",
           "arrowhead": 0,
           "arrowwidth": 1
          },
          "autotypenumbers": "strict",
          "coloraxis": {
           "colorbar": {
            "outlinewidth": 0,
            "ticks": ""
           }
          },
          "colorscale": {
           "diverging": [
            [
             0,
             "#8e0152"
            ],
            [
             0.1,
             "#c51b7d"
            ],
            [
             0.2,
             "#de77ae"
            ],
            [
             0.3,
             "#f1b6da"
            ],
            [
             0.4,
             "#fde0ef"
            ],
            [
             0.5,
             "#f7f7f7"
            ],
            [
             0.6,
             "#e6f5d0"
            ],
            [
             0.7,
             "#b8e186"
            ],
            [
             0.8,
             "#7fbc41"
            ],
            [
             0.9,
             "#4d9221"
            ],
            [
             1,
             "#276419"
            ]
           ],
           "sequential": [
            [
             0,
             "#0d0887"
            ],
            [
             0.1111111111111111,
             "#46039f"
            ],
            [
             0.2222222222222222,
             "#7201a8"
            ],
            [
             0.3333333333333333,
             "#9c179e"
            ],
            [
             0.4444444444444444,
             "#bd3786"
            ],
            [
             0.5555555555555556,
             "#d8576b"
            ],
            [
             0.6666666666666666,
             "#ed7953"
            ],
            [
             0.7777777777777778,
             "#fb9f3a"
            ],
            [
             0.8888888888888888,
             "#fdca26"
            ],
            [
             1,
             "#f0f921"
            ]
           ],
           "sequentialminus": [
            [
             0,
             "#0d0887"
            ],
            [
             0.1111111111111111,
             "#46039f"
            ],
            [
             0.2222222222222222,
             "#7201a8"
            ],
            [
             0.3333333333333333,
             "#9c179e"
            ],
            [
             0.4444444444444444,
             "#bd3786"
            ],
            [
             0.5555555555555556,
             "#d8576b"
            ],
            [
             0.6666666666666666,
             "#ed7953"
            ],
            [
             0.7777777777777778,
             "#fb9f3a"
            ],
            [
             0.8888888888888888,
             "#fdca26"
            ],
            [
             1,
             "#f0f921"
            ]
           ]
          },
          "colorway": [
           "#636efa",
           "#EF553B",
           "#00cc96",
           "#ab63fa",
           "#FFA15A",
           "#19d3f3",
           "#FF6692",
           "#B6E880",
           "#FF97FF",
           "#FECB52"
          ],
          "font": {
           "color": "#2a3f5f"
          },
          "geo": {
           "bgcolor": "white",
           "lakecolor": "white",
           "landcolor": "#E5ECF6",
           "showlakes": true,
           "showland": true,
           "subunitcolor": "white"
          },
          "hoverlabel": {
           "align": "left"
          },
          "hovermode": "closest",
          "mapbox": {
           "style": "light"
          },
          "paper_bgcolor": "white",
          "plot_bgcolor": "#E5ECF6",
          "polar": {
           "angularaxis": {
            "gridcolor": "white",
            "linecolor": "white",
            "ticks": ""
           },
           "bgcolor": "#E5ECF6",
           "radialaxis": {
            "gridcolor": "white",
            "linecolor": "white",
            "ticks": ""
           }
          },
          "scene": {
           "xaxis": {
            "backgroundcolor": "#E5ECF6",
            "gridcolor": "white",
            "gridwidth": 2,
            "linecolor": "white",
            "showbackground": true,
            "ticks": "",
            "zerolinecolor": "white"
           },
           "yaxis": {
            "backgroundcolor": "#E5ECF6",
            "gridcolor": "white",
            "gridwidth": 2,
            "linecolor": "white",
            "showbackground": true,
            "ticks": "",
            "zerolinecolor": "white"
           },
           "zaxis": {
            "backgroundcolor": "#E5ECF6",
            "gridcolor": "white",
            "gridwidth": 2,
            "linecolor": "white",
            "showbackground": true,
            "ticks": "",
            "zerolinecolor": "white"
           }
          },
          "shapedefaults": {
           "line": {
            "color": "#2a3f5f"
           }
          },
          "ternary": {
           "aaxis": {
            "gridcolor": "white",
            "linecolor": "white",
            "ticks": ""
           },
           "baxis": {
            "gridcolor": "white",
            "linecolor": "white",
            "ticks": ""
           },
           "bgcolor": "#E5ECF6",
           "caxis": {
            "gridcolor": "white",
            "linecolor": "white",
            "ticks": ""
           }
          },
          "title": {
           "x": 0.05
          },
          "xaxis": {
           "automargin": true,
           "gridcolor": "white",
           "linecolor": "white",
           "ticks": "",
           "title": {
            "standoff": 15
           },
           "zerolinecolor": "white",
           "zerolinewidth": 2
          },
          "yaxis": {
           "automargin": true,
           "gridcolor": "white",
           "linecolor": "white",
           "ticks": "",
           "title": {
            "standoff": 15
           },
           "zerolinecolor": "white",
           "zerolinewidth": 2
          }
         }
        },
        "title": {
         "text": "EPS Trend Breakdown for afrm"
        },
        "width": 1000,
        "xaxis": {
         "anchor": "y",
         "domain": [
          0,
          0.45
         ],
         "title": {
          "text": "Days Ago"
         }
        },
        "xaxis2": {
         "anchor": "y2",
         "domain": [
          0.55,
          1
         ],
         "title": {
          "text": "Days Ago"
         }
        },
        "yaxis": {
         "anchor": "x",
         "domain": [
          0,
          1
         ],
         "title": {
          "text": "EPS"
         }
        },
        "yaxis2": {
         "anchor": "x2",
         "domain": [
          0,
          1
         ],
         "title": {
          "text": "EPS"
         }
        }
       }
      }
     },
     "metadata": {},
     "output_type": "display_data"
    },
    {
     "data": {
      "application/vnd.plotly.v1+json": {
       "config": {
        "plotlyServerURL": "https://plot.ly"
       },
       "data": [
        {
         "mode": "lines+markers",
         "name": "Curr Qtr",
         "type": "scatter",
         "x": [
          90,
          60,
          30,
          7,
          0
         ],
         "xaxis": "x",
         "y": [
          0.6654,
          0.6733,
          0.6733,
          0.6734,
          0.6734
         ],
         "yaxis": "y"
        },
        {
         "mode": "lines+markers",
         "name": "Next Qtr",
         "type": "scatter",
         "x": [
          90,
          60,
          30,
          7,
          0
         ],
         "xaxis": "x",
         "y": [
          0.726,
          0.7256,
          0.7256,
          0.7251,
          0.7231
         ],
         "yaxis": "y"
        },
        {
         "mode": "lines+markers",
         "name": "Curr Yr",
         "type": "scatter",
         "x": [
          90,
          60,
          30,
          7,
          0
         ],
         "xaxis": "x2",
         "y": [
          2.7911,
          2.8009,
          2.8009,
          2.7996,
          2.7961
         ],
         "yaxis": "y2"
        },
        {
         "mode": "lines+markers",
         "name": "Next Yr",
         "type": "scatter",
         "x": [
          90,
          60,
          30,
          7,
          0
         ],
         "xaxis": "x2",
         "y": [
          3.5892,
          3.5678,
          3.5683,
          3.5706,
          3.5656
         ],
         "yaxis": "y2"
        }
       ],
       "layout": {
        "annotations": [
         {
          "font": {
           "size": 16
          },
          "showarrow": false,
          "text": "Quarterly EPS Trends",
          "x": 0.225,
          "xanchor": "center",
          "xref": "paper",
          "y": 1,
          "yanchor": "bottom",
          "yref": "paper"
         },
         {
          "font": {
           "size": 16
          },
          "showarrow": false,
          "text": "Yearly EPS Trends",
          "x": 0.775,
          "xanchor": "center",
          "xref": "paper",
          "y": 1,
          "yanchor": "bottom",
          "yref": "paper"
         }
        ],
        "height": 500,
        "showlegend": true,
        "template": {
         "data": {
          "bar": [
           {
            "error_x": {
             "color": "#2a3f5f"
            },
            "error_y": {
             "color": "#2a3f5f"
            },
            "marker": {
             "line": {
              "color": "#E5ECF6",
              "width": 0.5
             },
             "pattern": {
              "fillmode": "overlay",
              "size": 10,
              "solidity": 0.2
             }
            },
            "type": "bar"
           }
          ],
          "barpolar": [
           {
            "marker": {
             "line": {
              "color": "#E5ECF6",
              "width": 0.5
             },
             "pattern": {
              "fillmode": "overlay",
              "size": 10,
              "solidity": 0.2
             }
            },
            "type": "barpolar"
           }
          ],
          "carpet": [
           {
            "aaxis": {
             "endlinecolor": "#2a3f5f",
             "gridcolor": "white",
             "linecolor": "white",
             "minorgridcolor": "white",
             "startlinecolor": "#2a3f5f"
            },
            "baxis": {
             "endlinecolor": "#2a3f5f",
             "gridcolor": "white",
             "linecolor": "white",
             "minorgridcolor": "white",
             "startlinecolor": "#2a3f5f"
            },
            "type": "carpet"
           }
          ],
          "choropleth": [
           {
            "colorbar": {
             "outlinewidth": 0,
             "ticks": ""
            },
            "type": "choropleth"
           }
          ],
          "contour": [
           {
            "colorbar": {
             "outlinewidth": 0,
             "ticks": ""
            },
            "colorscale": [
             [
              0,
              "#0d0887"
             ],
             [
              0.1111111111111111,
              "#46039f"
             ],
             [
              0.2222222222222222,
              "#7201a8"
             ],
             [
              0.3333333333333333,
              "#9c179e"
             ],
             [
              0.4444444444444444,
              "#bd3786"
             ],
             [
              0.5555555555555556,
              "#d8576b"
             ],
             [
              0.6666666666666666,
              "#ed7953"
             ],
             [
              0.7777777777777778,
              "#fb9f3a"
             ],
             [
              0.8888888888888888,
              "#fdca26"
             ],
             [
              1,
              "#f0f921"
             ]
            ],
            "type": "contour"
           }
          ],
          "contourcarpet": [
           {
            "colorbar": {
             "outlinewidth": 0,
             "ticks": ""
            },
            "type": "contourcarpet"
           }
          ],
          "heatmap": [
           {
            "colorbar": {
             "outlinewidth": 0,
             "ticks": ""
            },
            "colorscale": [
             [
              0,
              "#0d0887"
             ],
             [
              0.1111111111111111,
              "#46039f"
             ],
             [
              0.2222222222222222,
              "#7201a8"
             ],
             [
              0.3333333333333333,
              "#9c179e"
             ],
             [
              0.4444444444444444,
              "#bd3786"
             ],
             [
              0.5555555555555556,
              "#d8576b"
             ],
             [
              0.6666666666666666,
              "#ed7953"
             ],
             [
              0.7777777777777778,
              "#fb9f3a"
             ],
             [
              0.8888888888888888,
              "#fdca26"
             ],
             [
              1,
              "#f0f921"
             ]
            ],
            "type": "heatmap"
           }
          ],
          "histogram": [
           {
            "marker": {
             "pattern": {
              "fillmode": "overlay",
              "size": 10,
              "solidity": 0.2
             }
            },
            "type": "histogram"
           }
          ],
          "histogram2d": [
           {
            "colorbar": {
             "outlinewidth": 0,
             "ticks": ""
            },
            "colorscale": [
             [
              0,
              "#0d0887"
             ],
             [
              0.1111111111111111,
              "#46039f"
             ],
             [
              0.2222222222222222,
              "#7201a8"
             ],
             [
              0.3333333333333333,
              "#9c179e"
             ],
             [
              0.4444444444444444,
              "#bd3786"
             ],
             [
              0.5555555555555556,
              "#d8576b"
             ],
             [
              0.6666666666666666,
              "#ed7953"
             ],
             [
              0.7777777777777778,
              "#fb9f3a"
             ],
             [
              0.8888888888888888,
              "#fdca26"
             ],
             [
              1,
              "#f0f921"
             ]
            ],
            "type": "histogram2d"
           }
          ],
          "histogram2dcontour": [
           {
            "colorbar": {
             "outlinewidth": 0,
             "ticks": ""
            },
            "colorscale": [
             [
              0,
              "#0d0887"
             ],
             [
              0.1111111111111111,
              "#46039f"
             ],
             [
              0.2222222222222222,
              "#7201a8"
             ],
             [
              0.3333333333333333,
              "#9c179e"
             ],
             [
              0.4444444444444444,
              "#bd3786"
             ],
             [
              0.5555555555555556,
              "#d8576b"
             ],
             [
              0.6666666666666666,
              "#ed7953"
             ],
             [
              0.7777777777777778,
              "#fb9f3a"
             ],
             [
              0.8888888888888888,
              "#fdca26"
             ],
             [
              1,
              "#f0f921"
             ]
            ],
            "type": "histogram2dcontour"
           }
          ],
          "mesh3d": [
           {
            "colorbar": {
             "outlinewidth": 0,
             "ticks": ""
            },
            "type": "mesh3d"
           }
          ],
          "parcoords": [
           {
            "line": {
             "colorbar": {
              "outlinewidth": 0,
              "ticks": ""
             }
            },
            "type": "parcoords"
           }
          ],
          "pie": [
           {
            "automargin": true,
            "type": "pie"
           }
          ],
          "scatter": [
           {
            "fillpattern": {
             "fillmode": "overlay",
             "size": 10,
             "solidity": 0.2
            },
            "type": "scatter"
           }
          ],
          "scatter3d": [
           {
            "line": {
             "colorbar": {
              "outlinewidth": 0,
              "ticks": ""
             }
            },
            "marker": {
             "colorbar": {
              "outlinewidth": 0,
              "ticks": ""
             }
            },
            "type": "scatter3d"
           }
          ],
          "scattercarpet": [
           {
            "marker": {
             "colorbar": {
              "outlinewidth": 0,
              "ticks": ""
             }
            },
            "type": "scattercarpet"
           }
          ],
          "scattergeo": [
           {
            "marker": {
             "colorbar": {
              "outlinewidth": 0,
              "ticks": ""
             }
            },
            "type": "scattergeo"
           }
          ],
          "scattergl": [
           {
            "marker": {
             "colorbar": {
              "outlinewidth": 0,
              "ticks": ""
             }
            },
            "type": "scattergl"
           }
          ],
          "scattermap": [
           {
            "marker": {
             "colorbar": {
              "outlinewidth": 0,
              "ticks": ""
             }
            },
            "type": "scattermap"
           }
          ],
          "scattermapbox": [
           {
            "marker": {
             "colorbar": {
              "outlinewidth": 0,
              "ticks": ""
             }
            },
            "type": "scattermapbox"
           }
          ],
          "scatterpolar": [
           {
            "marker": {
             "colorbar": {
              "outlinewidth": 0,
              "ticks": ""
             }
            },
            "type": "scatterpolar"
           }
          ],
          "scatterpolargl": [
           {
            "marker": {
             "colorbar": {
              "outlinewidth": 0,
              "ticks": ""
             }
            },
            "type": "scatterpolargl"
           }
          ],
          "scatterternary": [
           {
            "marker": {
             "colorbar": {
              "outlinewidth": 0,
              "ticks": ""
             }
            },
            "type": "scatterternary"
           }
          ],
          "surface": [
           {
            "colorbar": {
             "outlinewidth": 0,
             "ticks": ""
            },
            "colorscale": [
             [
              0,
              "#0d0887"
             ],
             [
              0.1111111111111111,
              "#46039f"
             ],
             [
              0.2222222222222222,
              "#7201a8"
             ],
             [
              0.3333333333333333,
              "#9c179e"
             ],
             [
              0.4444444444444444,
              "#bd3786"
             ],
             [
              0.5555555555555556,
              "#d8576b"
             ],
             [
              0.6666666666666666,
              "#ed7953"
             ],
             [
              0.7777777777777778,
              "#fb9f3a"
             ],
             [
              0.8888888888888888,
              "#fdca26"
             ],
             [
              1,
              "#f0f921"
             ]
            ],
            "type": "surface"
           }
          ],
          "table": [
           {
            "cells": {
             "fill": {
              "color": "#EBF0F8"
             },
             "line": {
              "color": "white"
             }
            },
            "header": {
             "fill": {
              "color": "#C8D4E3"
             },
             "line": {
              "color": "white"
             }
            },
            "type": "table"
           }
          ]
         },
         "layout": {
          "annotationdefaults": {
           "arrowcolor": "#2a3f5f",
           "arrowhead": 0,
           "arrowwidth": 1
          },
          "autotypenumbers": "strict",
          "coloraxis": {
           "colorbar": {
            "outlinewidth": 0,
            "ticks": ""
           }
          },
          "colorscale": {
           "diverging": [
            [
             0,
             "#8e0152"
            ],
            [
             0.1,
             "#c51b7d"
            ],
            [
             0.2,
             "#de77ae"
            ],
            [
             0.3,
             "#f1b6da"
            ],
            [
             0.4,
             "#fde0ef"
            ],
            [
             0.5,
             "#f7f7f7"
            ],
            [
             0.6,
             "#e6f5d0"
            ],
            [
             0.7,
             "#b8e186"
            ],
            [
             0.8,
             "#7fbc41"
            ],
            [
             0.9,
             "#4d9221"
            ],
            [
             1,
             "#276419"
            ]
           ],
           "sequential": [
            [
             0,
             "#0d0887"
            ],
            [
             0.1111111111111111,
             "#46039f"
            ],
            [
             0.2222222222222222,
             "#7201a8"
            ],
            [
             0.3333333333333333,
             "#9c179e"
            ],
            [
             0.4444444444444444,
             "#bd3786"
            ],
            [
             0.5555555555555556,
             "#d8576b"
            ],
            [
             0.6666666666666666,
             "#ed7953"
            ],
            [
             0.7777777777777778,
             "#fb9f3a"
            ],
            [
             0.8888888888888888,
             "#fdca26"
            ],
            [
             1,
             "#f0f921"
            ]
           ],
           "sequentialminus": [
            [
             0,
             "#0d0887"
            ],
            [
             0.1111111111111111,
             "#46039f"
            ],
            [
             0.2222222222222222,
             "#7201a8"
            ],
            [
             0.3333333333333333,
             "#9c179e"
            ],
            [
             0.4444444444444444,
             "#bd3786"
            ],
            [
             0.5555555555555556,
             "#d8576b"
            ],
            [
             0.6666666666666666,
             "#ed7953"
            ],
            [
             0.7777777777777778,
             "#fb9f3a"
            ],
            [
             0.8888888888888888,
             "#fdca26"
            ],
            [
             1,
             "#f0f921"
            ]
           ]
          },
          "colorway": [
           "#636efa",
           "#EF553B",
           "#00cc96",
           "#ab63fa",
           "#FFA15A",
           "#19d3f3",
           "#FF6692",
           "#B6E880",
           "#FF97FF",
           "#FECB52"
          ],
          "font": {
           "color": "#2a3f5f"
          },
          "geo": {
           "bgcolor": "white",
           "lakecolor": "white",
           "landcolor": "#E5ECF6",
           "showlakes": true,
           "showland": true,
           "subunitcolor": "white"
          },
          "hoverlabel": {
           "align": "left"
          },
          "hovermode": "closest",
          "mapbox": {
           "style": "light"
          },
          "paper_bgcolor": "white",
          "plot_bgcolor": "#E5ECF6",
          "polar": {
           "angularaxis": {
            "gridcolor": "white",
            "linecolor": "white",
            "ticks": ""
           },
           "bgcolor": "#E5ECF6",
           "radialaxis": {
            "gridcolor": "white",
            "linecolor": "white",
            "ticks": ""
           }
          },
          "scene": {
           "xaxis": {
            "backgroundcolor": "#E5ECF6",
            "gridcolor": "white",
            "gridwidth": 2,
            "linecolor": "white",
            "showbackground": true,
            "ticks": "",
            "zerolinecolor": "white"
           },
           "yaxis": {
            "backgroundcolor": "#E5ECF6",
            "gridcolor": "white",
            "gridwidth": 2,
            "linecolor": "white",
            "showbackground": true,
            "ticks": "",
            "zerolinecolor": "white"
           },
           "zaxis": {
            "backgroundcolor": "#E5ECF6",
            "gridcolor": "white",
            "gridwidth": 2,
            "linecolor": "white",
            "showbackground": true,
            "ticks": "",
            "zerolinecolor": "white"
           }
          },
          "shapedefaults": {
           "line": {
            "color": "#2a3f5f"
           }
          },
          "ternary": {
           "aaxis": {
            "gridcolor": "white",
            "linecolor": "white",
            "ticks": ""
           },
           "baxis": {
            "gridcolor": "white",
            "linecolor": "white",
            "ticks": ""
           },
           "bgcolor": "#E5ECF6",
           "caxis": {
            "gridcolor": "white",
            "linecolor": "white",
            "ticks": ""
           }
          },
          "title": {
           "x": 0.05
          },
          "xaxis": {
           "automargin": true,
           "gridcolor": "white",
           "linecolor": "white",
           "ticks": "",
           "title": {
            "standoff": 15
           },
           "zerolinecolor": "white",
           "zerolinewidth": 2
          },
          "yaxis": {
           "automargin": true,
           "gridcolor": "white",
           "linecolor": "white",
           "ticks": "",
           "title": {
            "standoff": 15
           },
           "zerolinecolor": "white",
           "zerolinewidth": 2
          }
         }
        },
        "title": {
         "text": "EPS Trend Breakdown for mrvl"
        },
        "width": 1000,
        "xaxis": {
         "anchor": "y",
         "domain": [
          0,
          0.45
         ],
         "title": {
          "text": "Days Ago"
         }
        },
        "xaxis2": {
         "anchor": "y2",
         "domain": [
          0.55,
          1
         ],
         "title": {
          "text": "Days Ago"
         }
        },
        "yaxis": {
         "anchor": "x",
         "domain": [
          0,
          1
         ],
         "title": {
          "text": "EPS"
         }
        },
        "yaxis2": {
         "anchor": "x2",
         "domain": [
          0,
          1
         ],
         "title": {
          "text": "EPS"
         }
        }
       }
      }
     },
     "metadata": {},
     "output_type": "display_data"
    },
    {
     "data": {
      "application/vnd.plotly.v1+json": {
       "config": {
        "plotlyServerURL": "https://plot.ly"
       },
       "data": [
        {
         "mode": "lines+markers",
         "name": "Curr Qtr",
         "type": "scatter",
         "x": [
          90,
          60,
          30,
          7,
          0
         ],
         "xaxis": "x",
         "y": [
          4.851,
          4.9295,
          4.9474,
          4.9929,
          5.043
         ],
         "yaxis": "y"
        },
        {
         "mode": "lines+markers",
         "name": "Next Qtr",
         "type": "scatter",
         "x": [
          90,
          60,
          30,
          7,
          0
         ],
         "xaxis": "x",
         "y": [
          4.5622,
          4.3893,
          4.4341,
          4.4322,
          4.4375
         ],
         "yaxis": "y"
        },
        {
         "mode": "lines+markers",
         "name": "Curr Yr",
         "type": "scatter",
         "x": [
          90,
          60,
          30,
          7,
          0
         ],
         "xaxis": "x2",
         "y": [
          22.9149,
          23.4063,
          23.4631,
          23.5253,
          23.5885
         ],
         "yaxis": "y2"
        },
        {
         "mode": "lines+markers",
         "name": "Next Yr",
         "type": "scatter",
         "x": [
          90,
          60,
          30,
          7,
          0
         ],
         "xaxis": "x2",
         "y": [
          25.362,
          25.8268,
          25.9325,
          26.0666,
          26.2268
         ],
         "yaxis": "y2"
        }
       ],
       "layout": {
        "annotations": [
         {
          "font": {
           "size": 16
          },
          "showarrow": false,
          "text": "Quarterly EPS Trends",
          "x": 0.225,
          "xanchor": "center",
          "xref": "paper",
          "y": 1,
          "yanchor": "bottom",
          "yref": "paper"
         },
         {
          "font": {
           "size": 16
          },
          "showarrow": false,
          "text": "Yearly EPS Trends",
          "x": 0.775,
          "xanchor": "center",
          "xref": "paper",
          "y": 1,
          "yanchor": "bottom",
          "yref": "paper"
         }
        ],
        "height": 500,
        "showlegend": true,
        "template": {
         "data": {
          "bar": [
           {
            "error_x": {
             "color": "#2a3f5f"
            },
            "error_y": {
             "color": "#2a3f5f"
            },
            "marker": {
             "line": {
              "color": "#E5ECF6",
              "width": 0.5
             },
             "pattern": {
              "fillmode": "overlay",
              "size": 10,
              "solidity": 0.2
             }
            },
            "type": "bar"
           }
          ],
          "barpolar": [
           {
            "marker": {
             "line": {
              "color": "#E5ECF6",
              "width": 0.5
             },
             "pattern": {
              "fillmode": "overlay",
              "size": 10,
              "solidity": 0.2
             }
            },
            "type": "barpolar"
           }
          ],
          "carpet": [
           {
            "aaxis": {
             "endlinecolor": "#2a3f5f",
             "gridcolor": "white",
             "linecolor": "white",
             "minorgridcolor": "white",
             "startlinecolor": "#2a3f5f"
            },
            "baxis": {
             "endlinecolor": "#2a3f5f",
             "gridcolor": "white",
             "linecolor": "white",
             "minorgridcolor": "white",
             "startlinecolor": "#2a3f5f"
            },
            "type": "carpet"
           }
          ],
          "choropleth": [
           {
            "colorbar": {
             "outlinewidth": 0,
             "ticks": ""
            },
            "type": "choropleth"
           }
          ],
          "contour": [
           {
            "colorbar": {
             "outlinewidth": 0,
             "ticks": ""
            },
            "colorscale": [
             [
              0,
              "#0d0887"
             ],
             [
              0.1111111111111111,
              "#46039f"
             ],
             [
              0.2222222222222222,
              "#7201a8"
             ],
             [
              0.3333333333333333,
              "#9c179e"
             ],
             [
              0.4444444444444444,
              "#bd3786"
             ],
             [
              0.5555555555555556,
              "#d8576b"
             ],
             [
              0.6666666666666666,
              "#ed7953"
             ],
             [
              0.7777777777777778,
              "#fb9f3a"
             ],
             [
              0.8888888888888888,
              "#fdca26"
             ],
             [
              1,
              "#f0f921"
             ]
            ],
            "type": "contour"
           }
          ],
          "contourcarpet": [
           {
            "colorbar": {
             "outlinewidth": 0,
             "ticks": ""
            },
            "type": "contourcarpet"
           }
          ],
          "heatmap": [
           {
            "colorbar": {
             "outlinewidth": 0,
             "ticks": ""
            },
            "colorscale": [
             [
              0,
              "#0d0887"
             ],
             [
              0.1111111111111111,
              "#46039f"
             ],
             [
              0.2222222222222222,
              "#7201a8"
             ],
             [
              0.3333333333333333,
              "#9c179e"
             ],
             [
              0.4444444444444444,
              "#bd3786"
             ],
             [
              0.5555555555555556,
              "#d8576b"
             ],
             [
              0.6666666666666666,
              "#ed7953"
             ],
             [
              0.7777777777777778,
              "#fb9f3a"
             ],
             [
              0.8888888888888888,
              "#fdca26"
             ],
             [
              1,
              "#f0f921"
             ]
            ],
            "type": "heatmap"
           }
          ],
          "histogram": [
           {
            "marker": {
             "pattern": {
              "fillmode": "overlay",
              "size": 10,
              "solidity": 0.2
             }
            },
            "type": "histogram"
           }
          ],
          "histogram2d": [
           {
            "colorbar": {
             "outlinewidth": 0,
             "ticks": ""
            },
            "colorscale": [
             [
              0,
              "#0d0887"
             ],
             [
              0.1111111111111111,
              "#46039f"
             ],
             [
              0.2222222222222222,
              "#7201a8"
             ],
             [
              0.3333333333333333,
              "#9c179e"
             ],
             [
              0.4444444444444444,
              "#bd3786"
             ],
             [
              0.5555555555555556,
              "#d8576b"
             ],
             [
              0.6666666666666666,
              "#ed7953"
             ],
             [
              0.7777777777777778,
              "#fb9f3a"
             ],
             [
              0.8888888888888888,
              "#fdca26"
             ],
             [
              1,
              "#f0f921"
             ]
            ],
            "type": "histogram2d"
           }
          ],
          "histogram2dcontour": [
           {
            "colorbar": {
             "outlinewidth": 0,
             "ticks": ""
            },
            "colorscale": [
             [
              0,
              "#0d0887"
             ],
             [
              0.1111111111111111,
              "#46039f"
             ],
             [
              0.2222222222222222,
              "#7201a8"
             ],
             [
              0.3333333333333333,
              "#9c179e"
             ],
             [
              0.4444444444444444,
              "#bd3786"
             ],
             [
              0.5555555555555556,
              "#d8576b"
             ],
             [
              0.6666666666666666,
              "#ed7953"
             ],
             [
              0.7777777777777778,
              "#fb9f3a"
             ],
             [
              0.8888888888888888,
              "#fdca26"
             ],
             [
              1,
              "#f0f921"
             ]
            ],
            "type": "histogram2dcontour"
           }
          ],
          "mesh3d": [
           {
            "colorbar": {
             "outlinewidth": 0,
             "ticks": ""
            },
            "type": "mesh3d"
           }
          ],
          "parcoords": [
           {
            "line": {
             "colorbar": {
              "outlinewidth": 0,
              "ticks": ""
             }
            },
            "type": "parcoords"
           }
          ],
          "pie": [
           {
            "automargin": true,
            "type": "pie"
           }
          ],
          "scatter": [
           {
            "fillpattern": {
             "fillmode": "overlay",
             "size": 10,
             "solidity": 0.2
            },
            "type": "scatter"
           }
          ],
          "scatter3d": [
           {
            "line": {
             "colorbar": {
              "outlinewidth": 0,
              "ticks": ""
             }
            },
            "marker": {
             "colorbar": {
              "outlinewidth": 0,
              "ticks": ""
             }
            },
            "type": "scatter3d"
           }
          ],
          "scattercarpet": [
           {
            "marker": {
             "colorbar": {
              "outlinewidth": 0,
              "ticks": ""
             }
            },
            "type": "scattercarpet"
           }
          ],
          "scattergeo": [
           {
            "marker": {
             "colorbar": {
              "outlinewidth": 0,
              "ticks": ""
             }
            },
            "type": "scattergeo"
           }
          ],
          "scattergl": [
           {
            "marker": {
             "colorbar": {
              "outlinewidth": 0,
              "ticks": ""
             }
            },
            "type": "scattergl"
           }
          ],
          "scattermap": [
           {
            "marker": {
             "colorbar": {
              "outlinewidth": 0,
              "ticks": ""
             }
            },
            "type": "scattermap"
           }
          ],
          "scattermapbox": [
           {
            "marker": {
             "colorbar": {
              "outlinewidth": 0,
              "ticks": ""
             }
            },
            "type": "scattermapbox"
           }
          ],
          "scatterpolar": [
           {
            "marker": {
             "colorbar": {
              "outlinewidth": 0,
              "ticks": ""
             }
            },
            "type": "scatterpolar"
           }
          ],
          "scatterpolargl": [
           {
            "marker": {
             "colorbar": {
              "outlinewidth": 0,
              "ticks": ""
             }
            },
            "type": "scatterpolargl"
           }
          ],
          "scatterternary": [
           {
            "marker": {
             "colorbar": {
              "outlinewidth": 0,
              "ticks": ""
             }
            },
            "type": "scatterternary"
           }
          ],
          "surface": [
           {
            "colorbar": {
             "outlinewidth": 0,
             "ticks": ""
            },
            "colorscale": [
             [
              0,
              "#0d0887"
             ],
             [
              0.1111111111111111,
              "#46039f"
             ],
             [
              0.2222222222222222,
              "#7201a8"
             ],
             [
              0.3333333333333333,
              "#9c179e"
             ],
             [
              0.4444444444444444,
              "#bd3786"
             ],
             [
              0.5555555555555556,
              "#d8576b"
             ],
             [
              0.6666666666666666,
              "#ed7953"
             ],
             [
              0.7777777777777778,
              "#fb9f3a"
             ],
             [
              0.8888888888888888,
              "#fdca26"
             ],
             [
              1,
              "#f0f921"
             ]
            ],
            "type": "surface"
           }
          ],
          "table": [
           {
            "cells": {
             "fill": {
              "color": "#EBF0F8"
             },
             "line": {
              "color": "white"
             }
            },
            "header": {
             "fill": {
              "color": "#C8D4E3"
             },
             "line": {
              "color": "white"
             }
            },
            "type": "table"
           }
          ]
         },
         "layout": {
          "annotationdefaults": {
           "arrowcolor": "#2a3f5f",
           "arrowhead": 0,
           "arrowwidth": 1
          },
          "autotypenumbers": "strict",
          "coloraxis": {
           "colorbar": {
            "outlinewidth": 0,
            "ticks": ""
           }
          },
          "colorscale": {
           "diverging": [
            [
             0,
             "#8e0152"
            ],
            [
             0.1,
             "#c51b7d"
            ],
            [
             0.2,
             "#de77ae"
            ],
            [
             0.3,
             "#f1b6da"
            ],
            [
             0.4,
             "#fde0ef"
            ],
            [
             0.5,
             "#f7f7f7"
            ],
            [
             0.6,
             "#e6f5d0"
            ],
            [
             0.7,
             "#b8e186"
            ],
            [
             0.8,
             "#7fbc41"
            ],
            [
             0.9,
             "#4d9221"
            ],
            [
             1,
             "#276419"
            ]
           ],
           "sequential": [
            [
             0,
             "#0d0887"
            ],
            [
             0.1111111111111111,
             "#46039f"
            ],
            [
             0.2222222222222222,
             "#7201a8"
            ],
            [
             0.3333333333333333,
             "#9c179e"
            ],
            [
             0.4444444444444444,
             "#bd3786"
            ],
            [
             0.5555555555555556,
             "#d8576b"
            ],
            [
             0.6666666666666666,
             "#ed7953"
            ],
            [
             0.7777777777777778,
             "#fb9f3a"
            ],
            [
             0.8888888888888888,
             "#fdca26"
            ],
            [
             1,
             "#f0f921"
            ]
           ],
           "sequentialminus": [
            [
             0,
             "#0d0887"
            ],
            [
             0.1111111111111111,
             "#46039f"
            ],
            [
             0.2222222222222222,
             "#7201a8"
            ],
            [
             0.3333333333333333,
             "#9c179e"
            ],
            [
             0.4444444444444444,
             "#bd3786"
            ],
            [
             0.5555555555555556,
             "#d8576b"
            ],
            [
             0.6666666666666666,
             "#ed7953"
            ],
            [
             0.7777777777777778,
             "#fb9f3a"
            ],
            [
             0.8888888888888888,
             "#fdca26"
            ],
            [
             1,
             "#f0f921"
            ]
           ]
          },
          "colorway": [
           "#636efa",
           "#EF553B",
           "#00cc96",
           "#ab63fa",
           "#FFA15A",
           "#19d3f3",
           "#FF6692",
           "#B6E880",
           "#FF97FF",
           "#FECB52"
          ],
          "font": {
           "color": "#2a3f5f"
          },
          "geo": {
           "bgcolor": "white",
           "lakecolor": "white",
           "landcolor": "#E5ECF6",
           "showlakes": true,
           "showland": true,
           "subunitcolor": "white"
          },
          "hoverlabel": {
           "align": "left"
          },
          "hovermode": "closest",
          "mapbox": {
           "style": "light"
          },
          "paper_bgcolor": "white",
          "plot_bgcolor": "#E5ECF6",
          "polar": {
           "angularaxis": {
            "gridcolor": "white",
            "linecolor": "white",
            "ticks": ""
           },
           "bgcolor": "#E5ECF6",
           "radialaxis": {
            "gridcolor": "white",
            "linecolor": "white",
            "ticks": ""
           }
          },
          "scene": {
           "xaxis": {
            "backgroundcolor": "#E5ECF6",
            "gridcolor": "white",
            "gridwidth": 2,
            "linecolor": "white",
            "showbackground": true,
            "ticks": "",
            "zerolinecolor": "white"
           },
           "yaxis": {
            "backgroundcolor": "#E5ECF6",
            "gridcolor": "white",
            "gridwidth": 2,
            "linecolor": "white",
            "showbackground": true,
            "ticks": "",
            "zerolinecolor": "white"
           },
           "zaxis": {
            "backgroundcolor": "#E5ECF6",
            "gridcolor": "white",
            "gridwidth": 2,
            "linecolor": "white",
            "showbackground": true,
            "ticks": "",
            "zerolinecolor": "white"
           }
          },
          "shapedefaults": {
           "line": {
            "color": "#2a3f5f"
           }
          },
          "ternary": {
           "aaxis": {
            "gridcolor": "white",
            "linecolor": "white",
            "ticks": ""
           },
           "baxis": {
            "gridcolor": "white",
            "linecolor": "white",
            "ticks": ""
           },
           "bgcolor": "#E5ECF6",
           "caxis": {
            "gridcolor": "white",
            "linecolor": "white",
            "ticks": ""
           }
          },
          "title": {
           "x": 0.05
          },
          "xaxis": {
           "automargin": true,
           "gridcolor": "white",
           "linecolor": "white",
           "ticks": "",
           "title": {
            "standoff": 15
           },
           "zerolinecolor": "white",
           "zerolinewidth": 2
          },
          "yaxis": {
           "automargin": true,
           "gridcolor": "white",
           "linecolor": "white",
           "ticks": "",
           "title": {
            "standoff": 15
           },
           "zerolinecolor": "white",
           "zerolinewidth": 2
          }
         }
        },
        "title": {
         "text": "EPS Trend Breakdown for ulta"
        },
        "width": 1000,
        "xaxis": {
         "anchor": "y",
         "domain": [
          0,
          0.45
         ],
         "title": {
          "text": "Days Ago"
         }
        },
        "xaxis2": {
         "anchor": "y2",
         "domain": [
          0.55,
          1
         ],
         "title": {
          "text": "Days Ago"
         }
        },
        "yaxis": {
         "anchor": "x",
         "domain": [
          0,
          1
         ],
         "title": {
          "text": "EPS"
         }
        },
        "yaxis2": {
         "anchor": "x2",
         "domain": [
          0,
          1
         ],
         "title": {
          "text": "EPS"
         }
        }
       }
      }
     },
     "metadata": {},
     "output_type": "display_data"
    },
    {
     "data": {
      "application/vnd.plotly.v1+json": {
       "config": {
        "plotlyServerURL": "https://plot.ly"
       },
       "data": [
        {
         "mode": "lines+markers",
         "name": "Curr Qtr",
         "type": "scatter",
         "x": [
          90,
          60,
          30,
          7,
          0
         ],
         "xaxis": "x",
         "y": [
          2.4505,
          2.4501,
          2.4505,
          2.4505,
          2.4509
         ],
         "yaxis": "y"
        },
        {
         "mode": "lines+markers",
         "name": "Next Qtr",
         "type": "scatter",
         "x": [
          90,
          60,
          30,
          7,
          0
         ],
         "xaxis": "x",
         "y": [
          2.3953,
          2.3959,
          2.3943,
          2.3943,
          2.3945
         ],
         "yaxis": "y"
        },
        {
         "mode": "lines+markers",
         "name": "Curr Yr",
         "type": "scatter",
         "x": [
          90,
          60,
          30,
          7,
          0
         ],
         "xaxis": "x2",
         "y": [
          9.6441,
          9.6502,
          9.6534,
          9.6534,
          9.6581
         ],
         "yaxis": "y2"
        },
        {
         "mode": "lines+markers",
         "name": "Next Yr",
         "type": "scatter",
         "x": [
          90,
          60,
          30,
          7,
          0
         ],
         "xaxis": "x2",
         "y": [
          11.0697,
          11.0837,
          11.1037,
          11.1037,
          11.1241
         ],
         "yaxis": "y2"
        }
       ],
       "layout": {
        "annotations": [
         {
          "font": {
           "size": 16
          },
          "showarrow": false,
          "text": "Quarterly EPS Trends",
          "x": 0.225,
          "xanchor": "center",
          "xref": "paper",
          "y": 1,
          "yanchor": "bottom",
          "yref": "paper"
         },
         {
          "font": {
           "size": 16
          },
          "showarrow": false,
          "text": "Yearly EPS Trends",
          "x": 0.775,
          "xanchor": "center",
          "xref": "paper",
          "y": 1,
          "yanchor": "bottom",
          "yref": "paper"
         }
        ],
        "height": 500,
        "showlegend": true,
        "template": {
         "data": {
          "bar": [
           {
            "error_x": {
             "color": "#2a3f5f"
            },
            "error_y": {
             "color": "#2a3f5f"
            },
            "marker": {
             "line": {
              "color": "#E5ECF6",
              "width": 0.5
             },
             "pattern": {
              "fillmode": "overlay",
              "size": 10,
              "solidity": 0.2
             }
            },
            "type": "bar"
           }
          ],
          "barpolar": [
           {
            "marker": {
             "line": {
              "color": "#E5ECF6",
              "width": 0.5
             },
             "pattern": {
              "fillmode": "overlay",
              "size": 10,
              "solidity": 0.2
             }
            },
            "type": "barpolar"
           }
          ],
          "carpet": [
           {
            "aaxis": {
             "endlinecolor": "#2a3f5f",
             "gridcolor": "white",
             "linecolor": "white",
             "minorgridcolor": "white",
             "startlinecolor": "#2a3f5f"
            },
            "baxis": {
             "endlinecolor": "#2a3f5f",
             "gridcolor": "white",
             "linecolor": "white",
             "minorgridcolor": "white",
             "startlinecolor": "#2a3f5f"
            },
            "type": "carpet"
           }
          ],
          "choropleth": [
           {
            "colorbar": {
             "outlinewidth": 0,
             "ticks": ""
            },
            "type": "choropleth"
           }
          ],
          "contour": [
           {
            "colorbar": {
             "outlinewidth": 0,
             "ticks": ""
            },
            "colorscale": [
             [
              0,
              "#0d0887"
             ],
             [
              0.1111111111111111,
              "#46039f"
             ],
             [
              0.2222222222222222,
              "#7201a8"
             ],
             [
              0.3333333333333333,
              "#9c179e"
             ],
             [
              0.4444444444444444,
              "#bd3786"
             ],
             [
              0.5555555555555556,
              "#d8576b"
             ],
             [
              0.6666666666666666,
              "#ed7953"
             ],
             [
              0.7777777777777778,
              "#fb9f3a"
             ],
             [
              0.8888888888888888,
              "#fdca26"
             ],
             [
              1,
              "#f0f921"
             ]
            ],
            "type": "contour"
           }
          ],
          "contourcarpet": [
           {
            "colorbar": {
             "outlinewidth": 0,
             "ticks": ""
            },
            "type": "contourcarpet"
           }
          ],
          "heatmap": [
           {
            "colorbar": {
             "outlinewidth": 0,
             "ticks": ""
            },
            "colorscale": [
             [
              0,
              "#0d0887"
             ],
             [
              0.1111111111111111,
              "#46039f"
             ],
             [
              0.2222222222222222,
              "#7201a8"
             ],
             [
              0.3333333333333333,
              "#9c179e"
             ],
             [
              0.4444444444444444,
              "#bd3786"
             ],
             [
              0.5555555555555556,
              "#d8576b"
             ],
             [
              0.6666666666666666,
              "#ed7953"
             ],
             [
              0.7777777777777778,
              "#fb9f3a"
             ],
             [
              0.8888888888888888,
              "#fdca26"
             ],
             [
              1,
              "#f0f921"
             ]
            ],
            "type": "heatmap"
           }
          ],
          "histogram": [
           {
            "marker": {
             "pattern": {
              "fillmode": "overlay",
              "size": 10,
              "solidity": 0.2
             }
            },
            "type": "histogram"
           }
          ],
          "histogram2d": [
           {
            "colorbar": {
             "outlinewidth": 0,
             "ticks": ""
            },
            "colorscale": [
             [
              0,
              "#0d0887"
             ],
             [
              0.1111111111111111,
              "#46039f"
             ],
             [
              0.2222222222222222,
              "#7201a8"
             ],
             [
              0.3333333333333333,
              "#9c179e"
             ],
             [
              0.4444444444444444,
              "#bd3786"
             ],
             [
              0.5555555555555556,
              "#d8576b"
             ],
             [
              0.6666666666666666,
              "#ed7953"
             ],
             [
              0.7777777777777778,
              "#fb9f3a"
             ],
             [
              0.8888888888888888,
              "#fdca26"
             ],
             [
              1,
              "#f0f921"
             ]
            ],
            "type": "histogram2d"
           }
          ],
          "histogram2dcontour": [
           {
            "colorbar": {
             "outlinewidth": 0,
             "ticks": ""
            },
            "colorscale": [
             [
              0,
              "#0d0887"
             ],
             [
              0.1111111111111111,
              "#46039f"
             ],
             [
              0.2222222222222222,
              "#7201a8"
             ],
             [
              0.3333333333333333,
              "#9c179e"
             ],
             [
              0.4444444444444444,
              "#bd3786"
             ],
             [
              0.5555555555555556,
              "#d8576b"
             ],
             [
              0.6666666666666666,
              "#ed7953"
             ],
             [
              0.7777777777777778,
              "#fb9f3a"
             ],
             [
              0.8888888888888888,
              "#fdca26"
             ],
             [
              1,
              "#f0f921"
             ]
            ],
            "type": "histogram2dcontour"
           }
          ],
          "mesh3d": [
           {
            "colorbar": {
             "outlinewidth": 0,
             "ticks": ""
            },
            "type": "mesh3d"
           }
          ],
          "parcoords": [
           {
            "line": {
             "colorbar": {
              "outlinewidth": 0,
              "ticks": ""
             }
            },
            "type": "parcoords"
           }
          ],
          "pie": [
           {
            "automargin": true,
            "type": "pie"
           }
          ],
          "scatter": [
           {
            "fillpattern": {
             "fillmode": "overlay",
             "size": 10,
             "solidity": 0.2
            },
            "type": "scatter"
           }
          ],
          "scatter3d": [
           {
            "line": {
             "colorbar": {
              "outlinewidth": 0,
              "ticks": ""
             }
            },
            "marker": {
             "colorbar": {
              "outlinewidth": 0,
              "ticks": ""
             }
            },
            "type": "scatter3d"
           }
          ],
          "scattercarpet": [
           {
            "marker": {
             "colorbar": {
              "outlinewidth": 0,
              "ticks": ""
             }
            },
            "type": "scattercarpet"
           }
          ],
          "scattergeo": [
           {
            "marker": {
             "colorbar": {
              "outlinewidth": 0,
              "ticks": ""
             }
            },
            "type": "scattergeo"
           }
          ],
          "scattergl": [
           {
            "marker": {
             "colorbar": {
              "outlinewidth": 0,
              "ticks": ""
             }
            },
            "type": "scattergl"
           }
          ],
          "scattermap": [
           {
            "marker": {
             "colorbar": {
              "outlinewidth": 0,
              "ticks": ""
             }
            },
            "type": "scattermap"
           }
          ],
          "scattermapbox": [
           {
            "marker": {
             "colorbar": {
              "outlinewidth": 0,
              "ticks": ""
             }
            },
            "type": "scattermapbox"
           }
          ],
          "scatterpolar": [
           {
            "marker": {
             "colorbar": {
              "outlinewidth": 0,
              "ticks": ""
             }
            },
            "type": "scatterpolar"
           }
          ],
          "scatterpolargl": [
           {
            "marker": {
             "colorbar": {
              "outlinewidth": 0,
              "ticks": ""
             }
            },
            "type": "scatterpolargl"
           }
          ],
          "scatterternary": [
           {
            "marker": {
             "colorbar": {
              "outlinewidth": 0,
              "ticks": ""
             }
            },
            "type": "scatterternary"
           }
          ],
          "surface": [
           {
            "colorbar": {
             "outlinewidth": 0,
             "ticks": ""
            },
            "colorscale": [
             [
              0,
              "#0d0887"
             ],
             [
              0.1111111111111111,
              "#46039f"
             ],
             [
              0.2222222222222222,
              "#7201a8"
             ],
             [
              0.3333333333333333,
              "#9c179e"
             ],
             [
              0.4444444444444444,
              "#bd3786"
             ],
             [
              0.5555555555555556,
              "#d8576b"
             ],
             [
              0.6666666666666666,
              "#ed7953"
             ],
             [
              0.7777777777777778,
              "#fb9f3a"
             ],
             [
              0.8888888888888888,
              "#fdca26"
             ],
             [
              1,
              "#f0f921"
             ]
            ],
            "type": "surface"
           }
          ],
          "table": [
           {
            "cells": {
             "fill": {
              "color": "#EBF0F8"
             },
             "line": {
              "color": "white"
             }
            },
            "header": {
             "fill": {
              "color": "#C8D4E3"
             },
             "line": {
              "color": "white"
             }
            },
            "type": "table"
           }
          ]
         },
         "layout": {
          "annotationdefaults": {
           "arrowcolor": "#2a3f5f",
           "arrowhead": 0,
           "arrowwidth": 1
          },
          "autotypenumbers": "strict",
          "coloraxis": {
           "colorbar": {
            "outlinewidth": 0,
            "ticks": ""
           }
          },
          "colorscale": {
           "diverging": [
            [
             0,
             "#8e0152"
            ],
            [
             0.1,
             "#c51b7d"
            ],
            [
             0.2,
             "#de77ae"
            ],
            [
             0.3,
             "#f1b6da"
            ],
            [
             0.4,
             "#fde0ef"
            ],
            [
             0.5,
             "#f7f7f7"
            ],
            [
             0.6,
             "#e6f5d0"
            ],
            [
             0.7,
             "#b8e186"
            ],
            [
             0.8,
             "#7fbc41"
            ],
            [
             0.9,
             "#4d9221"
            ],
            [
             1,
             "#276419"
            ]
           ],
           "sequential": [
            [
             0,
             "#0d0887"
            ],
            [
             0.1111111111111111,
             "#46039f"
            ],
            [
             0.2222222222222222,
             "#7201a8"
            ],
            [
             0.3333333333333333,
             "#9c179e"
            ],
            [
             0.4444444444444444,
             "#bd3786"
            ],
            [
             0.5555555555555556,
             "#d8576b"
            ],
            [
             0.6666666666666666,
             "#ed7953"
            ],
            [
             0.7777777777777778,
             "#fb9f3a"
            ],
            [
             0.8888888888888888,
             "#fdca26"
            ],
            [
             1,
             "#f0f921"
            ]
           ],
           "sequentialminus": [
            [
             0,
             "#0d0887"
            ],
            [
             0.1111111111111111,
             "#46039f"
            ],
            [
             0.2222222222222222,
             "#7201a8"
            ],
            [
             0.3333333333333333,
             "#9c179e"
            ],
            [
             0.4444444444444444,
             "#bd3786"
            ],
            [
             0.5555555555555556,
             "#d8576b"
            ],
            [
             0.6666666666666666,
             "#ed7953"
            ],
            [
             0.7777777777777778,
             "#fb9f3a"
            ],
            [
             0.8888888888888888,
             "#fdca26"
            ],
            [
             1,
             "#f0f921"
            ]
           ]
          },
          "colorway": [
           "#636efa",
           "#EF553B",
           "#00cc96",
           "#ab63fa",
           "#FFA15A",
           "#19d3f3",
           "#FF6692",
           "#B6E880",
           "#FF97FF",
           "#FECB52"
          ],
          "font": {
           "color": "#2a3f5f"
          },
          "geo": {
           "bgcolor": "white",
           "lakecolor": "white",
           "landcolor": "#E5ECF6",
           "showlakes": true,
           "showland": true,
           "subunitcolor": "white"
          },
          "hoverlabel": {
           "align": "left"
          },
          "hovermode": "closest",
          "mapbox": {
           "style": "light"
          },
          "paper_bgcolor": "white",
          "plot_bgcolor": "#E5ECF6",
          "polar": {
           "angularaxis": {
            "gridcolor": "white",
            "linecolor": "white",
            "ticks": ""
           },
           "bgcolor": "#E5ECF6",
           "radialaxis": {
            "gridcolor": "white",
            "linecolor": "white",
            "ticks": ""
           }
          },
          "scene": {
           "xaxis": {
            "backgroundcolor": "#E5ECF6",
            "gridcolor": "white",
            "gridwidth": 2,
            "linecolor": "white",
            "showbackground": true,
            "ticks": "",
            "zerolinecolor": "white"
           },
           "yaxis": {
            "backgroundcolor": "#E5ECF6",
            "gridcolor": "white",
            "gridwidth": 2,
            "linecolor": "white",
            "showbackground": true,
            "ticks": "",
            "zerolinecolor": "white"
           },
           "zaxis": {
            "backgroundcolor": "#E5ECF6",
            "gridcolor": "white",
            "gridwidth": 2,
            "linecolor": "white",
            "showbackground": true,
            "ticks": "",
            "zerolinecolor": "white"
           }
          },
          "shapedefaults": {
           "line": {
            "color": "#2a3f5f"
           }
          },
          "ternary": {
           "aaxis": {
            "gridcolor": "white",
            "linecolor": "white",
            "ticks": ""
           },
           "baxis": {
            "gridcolor": "white",
            "linecolor": "white",
            "ticks": ""
           },
           "bgcolor": "#E5ECF6",
           "caxis": {
            "gridcolor": "white",
            "linecolor": "white",
            "ticks": ""
           }
          },
          "title": {
           "x": 0.05
          },
          "xaxis": {
           "automargin": true,
           "gridcolor": "white",
           "linecolor": "white",
           "ticks": "",
           "title": {
            "standoff": 15
           },
           "zerolinecolor": "white",
           "zerolinewidth": 2
          },
          "yaxis": {
           "automargin": true,
           "gridcolor": "white",
           "linecolor": "white",
           "ticks": "",
           "title": {
            "standoff": 15
           },
           "zerolinecolor": "white",
           "zerolinewidth": 2
          }
         }
        },
        "title": {
         "text": "EPS Trend Breakdown for adsk"
        },
        "width": 1000,
        "xaxis": {
         "anchor": "y",
         "domain": [
          0,
          0.45
         ],
         "title": {
          "text": "Days Ago"
         }
        },
        "xaxis2": {
         "anchor": "y2",
         "domain": [
          0.55,
          1
         ],
         "title": {
          "text": "Days Ago"
         }
        },
        "yaxis": {
         "anchor": "x",
         "domain": [
          0,
          1
         ],
         "title": {
          "text": "EPS"
         }
        },
        "yaxis2": {
         "anchor": "x2",
         "domain": [
          0,
          1
         ],
         "title": {
          "text": "EPS"
         }
        }
       }
      }
     },
     "metadata": {},
     "output_type": "display_data"
    },
    {
     "data": {
      "application/vnd.plotly.v1+json": {
       "config": {
        "plotlyServerURL": "https://plot.ly"
       },
       "data": [
        {
         "mode": "lines+markers",
         "name": "Curr Qtr",
         "type": "scatter",
         "x": [
          90,
          60,
          30,
          7,
          0
         ],
         "xaxis": "x",
         "y": [
          0.5826,
          0.5481,
          0.5481,
          0.5448,
          0.5482
         ],
         "yaxis": "y"
        },
        {
         "mode": "lines+markers",
         "name": "Next Qtr",
         "type": "scatter",
         "x": [
          90,
          60,
          30,
          7,
          0
         ],
         "xaxis": "x",
         "y": [
          0.721,
          0.6806,
          0.6806,
          0.6456,
          0.6352
         ],
         "yaxis": "y"
        },
        {
         "mode": "lines+markers",
         "name": "Curr Yr",
         "type": "scatter",
         "x": [
          90,
          60,
          30,
          7,
          0
         ],
         "xaxis": "x2",
         "y": [
          2.3166,
          2.2105,
          2.2104,
          2.1685,
          2.1584
         ],
         "yaxis": "y2"
        },
        {
         "mode": "lines+markers",
         "name": "Next Yr",
         "type": "scatter",
         "x": [
          90,
          60,
          30,
          7,
          0
         ],
         "xaxis": "x2",
         "y": [
          2.5026,
          2.3629,
          2.3626,
          2.3085,
          2.2696
         ],
         "yaxis": "y2"
        }
       ],
       "layout": {
        "annotations": [
         {
          "font": {
           "size": 16
          },
          "showarrow": false,
          "text": "Quarterly EPS Trends",
          "x": 0.225,
          "xanchor": "center",
          "xref": "paper",
          "y": 1,
          "yanchor": "bottom",
          "yref": "paper"
         },
         {
          "font": {
           "size": 16
          },
          "showarrow": false,
          "text": "Yearly EPS Trends",
          "x": 0.775,
          "xanchor": "center",
          "xref": "paper",
          "y": 1,
          "yanchor": "bottom",
          "yref": "paper"
         }
        ],
        "height": 500,
        "showlegend": true,
        "template": {
         "data": {
          "bar": [
           {
            "error_x": {
             "color": "#2a3f5f"
            },
            "error_y": {
             "color": "#2a3f5f"
            },
            "marker": {
             "line": {
              "color": "#E5ECF6",
              "width": 0.5
             },
             "pattern": {
              "fillmode": "overlay",
              "size": 10,
              "solidity": 0.2
             }
            },
            "type": "bar"
           }
          ],
          "barpolar": [
           {
            "marker": {
             "line": {
              "color": "#E5ECF6",
              "width": 0.5
             },
             "pattern": {
              "fillmode": "overlay",
              "size": 10,
              "solidity": 0.2
             }
            },
            "type": "barpolar"
           }
          ],
          "carpet": [
           {
            "aaxis": {
             "endlinecolor": "#2a3f5f",
             "gridcolor": "white",
             "linecolor": "white",
             "minorgridcolor": "white",
             "startlinecolor": "#2a3f5f"
            },
            "baxis": {
             "endlinecolor": "#2a3f5f",
             "gridcolor": "white",
             "linecolor": "white",
             "minorgridcolor": "white",
             "startlinecolor": "#2a3f5f"
            },
            "type": "carpet"
           }
          ],
          "choropleth": [
           {
            "colorbar": {
             "outlinewidth": 0,
             "ticks": ""
            },
            "type": "choropleth"
           }
          ],
          "contour": [
           {
            "colorbar": {
             "outlinewidth": 0,
             "ticks": ""
            },
            "colorscale": [
             [
              0,
              "#0d0887"
             ],
             [
              0.1111111111111111,
              "#46039f"
             ],
             [
              0.2222222222222222,
              "#7201a8"
             ],
             [
              0.3333333333333333,
              "#9c179e"
             ],
             [
              0.4444444444444444,
              "#bd3786"
             ],
             [
              0.5555555555555556,
              "#d8576b"
             ],
             [
              0.6666666666666666,
              "#ed7953"
             ],
             [
              0.7777777777777778,
              "#fb9f3a"
             ],
             [
              0.8888888888888888,
              "#fdca26"
             ],
             [
              1,
              "#f0f921"
             ]
            ],
            "type": "contour"
           }
          ],
          "contourcarpet": [
           {
            "colorbar": {
             "outlinewidth": 0,
             "ticks": ""
            },
            "type": "contourcarpet"
           }
          ],
          "heatmap": [
           {
            "colorbar": {
             "outlinewidth": 0,
             "ticks": ""
            },
            "colorscale": [
             [
              0,
              "#0d0887"
             ],
             [
              0.1111111111111111,
              "#46039f"
             ],
             [
              0.2222222222222222,
              "#7201a8"
             ],
             [
              0.3333333333333333,
              "#9c179e"
             ],
             [
              0.4444444444444444,
              "#bd3786"
             ],
             [
              0.5555555555555556,
              "#d8576b"
             ],
             [
              0.6666666666666666,
              "#ed7953"
             ],
             [
              0.7777777777777778,
              "#fb9f3a"
             ],
             [
              0.8888888888888888,
              "#fdca26"
             ],
             [
              1,
              "#f0f921"
             ]
            ],
            "type": "heatmap"
           }
          ],
          "histogram": [
           {
            "marker": {
             "pattern": {
              "fillmode": "overlay",
              "size": 10,
              "solidity": 0.2
             }
            },
            "type": "histogram"
           }
          ],
          "histogram2d": [
           {
            "colorbar": {
             "outlinewidth": 0,
             "ticks": ""
            },
            "colorscale": [
             [
              0,
              "#0d0887"
             ],
             [
              0.1111111111111111,
              "#46039f"
             ],
             [
              0.2222222222222222,
              "#7201a8"
             ],
             [
              0.3333333333333333,
              "#9c179e"
             ],
             [
              0.4444444444444444,
              "#bd3786"
             ],
             [
              0.5555555555555556,
              "#d8576b"
             ],
             [
              0.6666666666666666,
              "#ed7953"
             ],
             [
              0.7777777777777778,
              "#fb9f3a"
             ],
             [
              0.8888888888888888,
              "#fdca26"
             ],
             [
              1,
              "#f0f921"
             ]
            ],
            "type": "histogram2d"
           }
          ],
          "histogram2dcontour": [
           {
            "colorbar": {
             "outlinewidth": 0,
             "ticks": ""
            },
            "colorscale": [
             [
              0,
              "#0d0887"
             ],
             [
              0.1111111111111111,
              "#46039f"
             ],
             [
              0.2222222222222222,
              "#7201a8"
             ],
             [
              0.3333333333333333,
              "#9c179e"
             ],
             [
              0.4444444444444444,
              "#bd3786"
             ],
             [
              0.5555555555555556,
              "#d8576b"
             ],
             [
              0.6666666666666666,
              "#ed7953"
             ],
             [
              0.7777777777777778,
              "#fb9f3a"
             ],
             [
              0.8888888888888888,
              "#fdca26"
             ],
             [
              1,
              "#f0f921"
             ]
            ],
            "type": "histogram2dcontour"
           }
          ],
          "mesh3d": [
           {
            "colorbar": {
             "outlinewidth": 0,
             "ticks": ""
            },
            "type": "mesh3d"
           }
          ],
          "parcoords": [
           {
            "line": {
             "colorbar": {
              "outlinewidth": 0,
              "ticks": ""
             }
            },
            "type": "parcoords"
           }
          ],
          "pie": [
           {
            "automargin": true,
            "type": "pie"
           }
          ],
          "scatter": [
           {
            "fillpattern": {
             "fillmode": "overlay",
             "size": 10,
             "solidity": 0.2
            },
            "type": "scatter"
           }
          ],
          "scatter3d": [
           {
            "line": {
             "colorbar": {
              "outlinewidth": 0,
              "ticks": ""
             }
            },
            "marker": {
             "colorbar": {
              "outlinewidth": 0,
              "ticks": ""
             }
            },
            "type": "scatter3d"
           }
          ],
          "scattercarpet": [
           {
            "marker": {
             "colorbar": {
              "outlinewidth": 0,
              "ticks": ""
             }
            },
            "type": "scattercarpet"
           }
          ],
          "scattergeo": [
           {
            "marker": {
             "colorbar": {
              "outlinewidth": 0,
              "ticks": ""
             }
            },
            "type": "scattergeo"
           }
          ],
          "scattergl": [
           {
            "marker": {
             "colorbar": {
              "outlinewidth": 0,
              "ticks": ""
             }
            },
            "type": "scattergl"
           }
          ],
          "scattermap": [
           {
            "marker": {
             "colorbar": {
              "outlinewidth": 0,
              "ticks": ""
             }
            },
            "type": "scattermap"
           }
          ],
          "scattermapbox": [
           {
            "marker": {
             "colorbar": {
              "outlinewidth": 0,
              "ticks": ""
             }
            },
            "type": "scattermapbox"
           }
          ],
          "scatterpolar": [
           {
            "marker": {
             "colorbar": {
              "outlinewidth": 0,
              "ticks": ""
             }
            },
            "type": "scatterpolar"
           }
          ],
          "scatterpolargl": [
           {
            "marker": {
             "colorbar": {
              "outlinewidth": 0,
              "ticks": ""
             }
            },
            "type": "scatterpolargl"
           }
          ],
          "scatterternary": [
           {
            "marker": {
             "colorbar": {
              "outlinewidth": 0,
              "ticks": ""
             }
            },
            "type": "scatterternary"
           }
          ],
          "surface": [
           {
            "colorbar": {
             "outlinewidth": 0,
             "ticks": ""
            },
            "colorscale": [
             [
              0,
              "#0d0887"
             ],
             [
              0.1111111111111111,
              "#46039f"
             ],
             [
              0.2222222222222222,
              "#7201a8"
             ],
             [
              0.3333333333333333,
              "#9c179e"
             ],
             [
              0.4444444444444444,
              "#bd3786"
             ],
             [
              0.5555555555555556,
              "#d8576b"
             ],
             [
              0.6666666666666666,
              "#ed7953"
             ],
             [
              0.7777777777777778,
              "#fb9f3a"
             ],
             [
              0.8888888888888888,
              "#fdca26"
             ],
             [
              1,
              "#f0f921"
             ]
            ],
            "type": "surface"
           }
          ],
          "table": [
           {
            "cells": {
             "fill": {
              "color": "#EBF0F8"
             },
             "line": {
              "color": "white"
             }
            },
            "header": {
             "fill": {
              "color": "#C8D4E3"
             },
             "line": {
              "color": "white"
             }
            },
            "type": "table"
           }
          ]
         },
         "layout": {
          "annotationdefaults": {
           "arrowcolor": "#2a3f5f",
           "arrowhead": 0,
           "arrowwidth": 1
          },
          "autotypenumbers": "strict",
          "coloraxis": {
           "colorbar": {
            "outlinewidth": 0,
            "ticks": ""
           }
          },
          "colorscale": {
           "diverging": [
            [
             0,
             "#8e0152"
            ],
            [
             0.1,
             "#c51b7d"
            ],
            [
             0.2,
             "#de77ae"
            ],
            [
             0.3,
             "#f1b6da"
            ],
            [
             0.4,
             "#fde0ef"
            ],
            [
             0.5,
             "#f7f7f7"
            ],
            [
             0.6,
             "#e6f5d0"
            ],
            [
             0.7,
             "#b8e186"
            ],
            [
             0.8,
             "#7fbc41"
            ],
            [
             0.9,
             "#4d9221"
            ],
            [
             1,
             "#276419"
            ]
           ],
           "sequential": [
            [
             0,
             "#0d0887"
            ],
            [
             0.1111111111111111,
             "#46039f"
            ],
            [
             0.2222222222222222,
             "#7201a8"
            ],
            [
             0.3333333333333333,
             "#9c179e"
            ],
            [
             0.4444444444444444,
             "#bd3786"
            ],
            [
             0.5555555555555556,
             "#d8576b"
            ],
            [
             0.6666666666666666,
             "#ed7953"
            ],
            [
             0.7777777777777778,
             "#fb9f3a"
            ],
            [
             0.8888888888888888,
             "#fdca26"
            ],
            [
             1,
             "#f0f921"
            ]
           ],
           "sequentialminus": [
            [
             0,
             "#0d0887"
            ],
            [
             0.1111111111111111,
             "#46039f"
            ],
            [
             0.2222222222222222,
             "#7201a8"
            ],
            [
             0.3333333333333333,
             "#9c179e"
            ],
            [
             0.4444444444444444,
             "#bd3786"
            ],
            [
             0.5555555555555556,
             "#d8576b"
            ],
            [
             0.6666666666666666,
             "#ed7953"
            ],
            [
             0.7777777777777778,
             "#fb9f3a"
            ],
            [
             0.8888888888888888,
             "#fdca26"
            ],
            [
             1,
             "#f0f921"
            ]
           ]
          },
          "colorway": [
           "#636efa",
           "#EF553B",
           "#00cc96",
           "#ab63fa",
           "#FFA15A",
           "#19d3f3",
           "#FF6692",
           "#B6E880",
           "#FF97FF",
           "#FECB52"
          ],
          "font": {
           "color": "#2a3f5f"
          },
          "geo": {
           "bgcolor": "white",
           "lakecolor": "white",
           "landcolor": "#E5ECF6",
           "showlakes": true,
           "showland": true,
           "subunitcolor": "white"
          },
          "hoverlabel": {
           "align": "left"
          },
          "hovermode": "closest",
          "mapbox": {
           "style": "light"
          },
          "paper_bgcolor": "white",
          "plot_bgcolor": "#E5ECF6",
          "polar": {
           "angularaxis": {
            "gridcolor": "white",
            "linecolor": "white",
            "ticks": ""
           },
           "bgcolor": "#E5ECF6",
           "radialaxis": {
            "gridcolor": "white",
            "linecolor": "white",
            "ticks": ""
           }
          },
          "scene": {
           "xaxis": {
            "backgroundcolor": "#E5ECF6",
            "gridcolor": "white",
            "gridwidth": 2,
            "linecolor": "white",
            "showbackground": true,
            "ticks": "",
            "zerolinecolor": "white"
           },
           "yaxis": {
            "backgroundcolor": "#E5ECF6",
            "gridcolor": "white",
            "gridwidth": 2,
            "linecolor": "white",
            "showbackground": true,
            "ticks": "",
            "zerolinecolor": "white"
           },
           "zaxis": {
            "backgroundcolor": "#E5ECF6",
            "gridcolor": "white",
            "gridwidth": 2,
            "linecolor": "white",
            "showbackground": true,
            "ticks": "",
            "zerolinecolor": "white"
           }
          },
          "shapedefaults": {
           "line": {
            "color": "#2a3f5f"
           }
          },
          "ternary": {
           "aaxis": {
            "gridcolor": "white",
            "linecolor": "white",
            "ticks": ""
           },
           "baxis": {
            "gridcolor": "white",
            "linecolor": "white",
            "ticks": ""
           },
           "bgcolor": "#E5ECF6",
           "caxis": {
            "gridcolor": "white",
            "linecolor": "white",
            "ticks": ""
           }
          },
          "title": {
           "x": 0.05
          },
          "xaxis": {
           "automargin": true,
           "gridcolor": "white",
           "linecolor": "white",
           "ticks": "",
           "title": {
            "standoff": 15
           },
           "zerolinecolor": "white",
           "zerolinewidth": 2
          },
          "yaxis": {
           "automargin": true,
           "gridcolor": "white",
           "linecolor": "white",
           "ticks": "",
           "title": {
            "standoff": 15
           },
           "zerolinecolor": "white",
           "zerolinewidth": 2
          }
         }
        },
        "title": {
         "text": "EPS Trend Breakdown for gap"
        },
        "width": 1000,
        "xaxis": {
         "anchor": "y",
         "domain": [
          0,
          0.45
         ],
         "title": {
          "text": "Days Ago"
         }
        },
        "xaxis2": {
         "anchor": "y2",
         "domain": [
          0.55,
          1
         ],
         "title": {
          "text": "Days Ago"
         }
        },
        "yaxis": {
         "anchor": "x",
         "domain": [
          0,
          1
         ],
         "title": {
          "text": "EPS"
         }
        },
        "yaxis2": {
         "anchor": "x2",
         "domain": [
          0,
          1
         ],
         "title": {
          "text": "EPS"
         }
        }
       }
      }
     },
     "metadata": {},
     "output_type": "display_data"
    },
    {
     "data": {
      "application/vnd.plotly.v1+json": {
       "config": {
        "plotlyServerURL": "https://plot.ly"
       },
       "data": [
        {
         "mode": "lines+markers",
         "name": "Curr Qtr",
         "type": "scatter",
         "x": [
          90,
          60,
          30,
          7,
          0
         ],
         "xaxis": "x",
         "y": [
          17.0442,
          17.0213,
          15.3194,
          15.4709,
          15.4709
         ],
         "yaxis": "y"
        },
        {
         "mode": "lines+markers",
         "name": "Next Qtr",
         "type": "scatter",
         "x": [
          90,
          60,
          30,
          7,
          0
         ],
         "xaxis": "x",
         "y": [
          15.6082,
          15.5141,
          12.6072,
          12.8924,
          12.8924
         ],
         "yaxis": "y"
        },
        {
         "mode": "lines+markers",
         "name": "Curr Yr",
         "type": "scatter",
         "x": [
          90,
          60,
          30,
          7,
          0
         ],
         "xaxis": "x2",
         "y": [
          70.9252,
          70.5625,
          62.5601,
          62.4701,
          62.4701
         ],
         "yaxis": "y2"
        },
        {
         "mode": "lines+markers",
         "name": "Next Yr",
         "type": "scatter",
         "x": [
          90,
          60,
          30,
          7,
          0
         ],
         "xaxis": "x2",
         "y": [
          80.298,
          80.0403,
          75.0527,
          75.1931,
          75.1931
         ],
         "yaxis": "y2"
        }
       ],
       "layout": {
        "annotations": [
         {
          "font": {
           "size": 16
          },
          "showarrow": false,
          "text": "Quarterly EPS Trends",
          "x": 0.225,
          "xanchor": "center",
          "xref": "paper",
          "y": 1,
          "yanchor": "bottom",
          "yref": "paper"
         },
         {
          "font": {
           "size": 16
          },
          "showarrow": false,
          "text": "Yearly EPS Trends",
          "x": 0.775,
          "xanchor": "center",
          "xref": "paper",
          "y": 1,
          "yanchor": "bottom",
          "yref": "paper"
         }
        ],
        "height": 500,
        "showlegend": true,
        "template": {
         "data": {
          "bar": [
           {
            "error_x": {
             "color": "#2a3f5f"
            },
            "error_y": {
             "color": "#2a3f5f"
            },
            "marker": {
             "line": {
              "color": "#E5ECF6",
              "width": 0.5
             },
             "pattern": {
              "fillmode": "overlay",
              "size": 10,
              "solidity": 0.2
             }
            },
            "type": "bar"
           }
          ],
          "barpolar": [
           {
            "marker": {
             "line": {
              "color": "#E5ECF6",
              "width": 0.5
             },
             "pattern": {
              "fillmode": "overlay",
              "size": 10,
              "solidity": 0.2
             }
            },
            "type": "barpolar"
           }
          ],
          "carpet": [
           {
            "aaxis": {
             "endlinecolor": "#2a3f5f",
             "gridcolor": "white",
             "linecolor": "white",
             "minorgridcolor": "white",
             "startlinecolor": "#2a3f5f"
            },
            "baxis": {
             "endlinecolor": "#2a3f5f",
             "gridcolor": "white",
             "linecolor": "white",
             "minorgridcolor": "white",
             "startlinecolor": "#2a3f5f"
            },
            "type": "carpet"
           }
          ],
          "choropleth": [
           {
            "colorbar": {
             "outlinewidth": 0,
             "ticks": ""
            },
            "type": "choropleth"
           }
          ],
          "contour": [
           {
            "colorbar": {
             "outlinewidth": 0,
             "ticks": ""
            },
            "colorscale": [
             [
              0,
              "#0d0887"
             ],
             [
              0.1111111111111111,
              "#46039f"
             ],
             [
              0.2222222222222222,
              "#7201a8"
             ],
             [
              0.3333333333333333,
              "#9c179e"
             ],
             [
              0.4444444444444444,
              "#bd3786"
             ],
             [
              0.5555555555555556,
              "#d8576b"
             ],
             [
              0.6666666666666666,
              "#ed7953"
             ],
             [
              0.7777777777777778,
              "#fb9f3a"
             ],
             [
              0.8888888888888888,
              "#fdca26"
             ],
             [
              1,
              "#f0f921"
             ]
            ],
            "type": "contour"
           }
          ],
          "contourcarpet": [
           {
            "colorbar": {
             "outlinewidth": 0,
             "ticks": ""
            },
            "type": "contourcarpet"
           }
          ],
          "heatmap": [
           {
            "colorbar": {
             "outlinewidth": 0,
             "ticks": ""
            },
            "colorscale": [
             [
              0,
              "#0d0887"
             ],
             [
              0.1111111111111111,
              "#46039f"
             ],
             [
              0.2222222222222222,
              "#7201a8"
             ],
             [
              0.3333333333333333,
              "#9c179e"
             ],
             [
              0.4444444444444444,
              "#bd3786"
             ],
             [
              0.5555555555555556,
              "#d8576b"
             ],
             [
              0.6666666666666666,
              "#ed7953"
             ],
             [
              0.7777777777777778,
              "#fb9f3a"
             ],
             [
              0.8888888888888888,
              "#fdca26"
             ],
             [
              1,
              "#f0f921"
             ]
            ],
            "type": "heatmap"
           }
          ],
          "histogram": [
           {
            "marker": {
             "pattern": {
              "fillmode": "overlay",
              "size": 10,
              "solidity": 0.2
             }
            },
            "type": "histogram"
           }
          ],
          "histogram2d": [
           {
            "colorbar": {
             "outlinewidth": 0,
             "ticks": ""
            },
            "colorscale": [
             [
              0,
              "#0d0887"
             ],
             [
              0.1111111111111111,
              "#46039f"
             ],
             [
              0.2222222222222222,
              "#7201a8"
             ],
             [
              0.3333333333333333,
              "#9c179e"
             ],
             [
              0.4444444444444444,
              "#bd3786"
             ],
             [
              0.5555555555555556,
              "#d8576b"
             ],
             [
              0.6666666666666666,
              "#ed7953"
             ],
             [
              0.7777777777777778,
              "#fb9f3a"
             ],
             [
              0.8888888888888888,
              "#fdca26"
             ],
             [
              1,
              "#f0f921"
             ]
            ],
            "type": "histogram2d"
           }
          ],
          "histogram2dcontour": [
           {
            "colorbar": {
             "outlinewidth": 0,
             "ticks": ""
            },
            "colorscale": [
             [
              0,
              "#0d0887"
             ],
             [
              0.1111111111111111,
              "#46039f"
             ],
             [
              0.2222222222222222,
              "#7201a8"
             ],
             [
              0.3333333333333333,
              "#9c179e"
             ],
             [
              0.4444444444444444,
              "#bd3786"
             ],
             [
              0.5555555555555556,
              "#d8576b"
             ],
             [
              0.6666666666666666,
              "#ed7953"
             ],
             [
              0.7777777777777778,
              "#fb9f3a"
             ],
             [
              0.8888888888888888,
              "#fdca26"
             ],
             [
              1,
              "#f0f921"
             ]
            ],
            "type": "histogram2dcontour"
           }
          ],
          "mesh3d": [
           {
            "colorbar": {
             "outlinewidth": 0,
             "ticks": ""
            },
            "type": "mesh3d"
           }
          ],
          "parcoords": [
           {
            "line": {
             "colorbar": {
              "outlinewidth": 0,
              "ticks": ""
             }
            },
            "type": "parcoords"
           }
          ],
          "pie": [
           {
            "automargin": true,
            "type": "pie"
           }
          ],
          "scatter": [
           {
            "fillpattern": {
             "fillmode": "overlay",
             "size": 10,
             "solidity": 0.2
            },
            "type": "scatter"
           }
          ],
          "scatter3d": [
           {
            "line": {
             "colorbar": {
              "outlinewidth": 0,
              "ticks": ""
             }
            },
            "marker": {
             "colorbar": {
              "outlinewidth": 0,
              "ticks": ""
             }
            },
            "type": "scatter3d"
           }
          ],
          "scattercarpet": [
           {
            "marker": {
             "colorbar": {
              "outlinewidth": 0,
              "ticks": ""
             }
            },
            "type": "scattercarpet"
           }
          ],
          "scattergeo": [
           {
            "marker": {
             "colorbar": {
              "outlinewidth": 0,
              "ticks": ""
             }
            },
            "type": "scattergeo"
           }
          ],
          "scattergl": [
           {
            "marker": {
             "colorbar": {
              "outlinewidth": 0,
              "ticks": ""
             }
            },
            "type": "scattergl"
           }
          ],
          "scattermap": [
           {
            "marker": {
             "colorbar": {
              "outlinewidth": 0,
              "ticks": ""
             }
            },
            "type": "scattermap"
           }
          ],
          "scattermapbox": [
           {
            "marker": {
             "colorbar": {
              "outlinewidth": 0,
              "ticks": ""
             }
            },
            "type": "scattermapbox"
           }
          ],
          "scatterpolar": [
           {
            "marker": {
             "colorbar": {
              "outlinewidth": 0,
              "ticks": ""
             }
            },
            "type": "scatterpolar"
           }
          ],
          "scatterpolargl": [
           {
            "marker": {
             "colorbar": {
              "outlinewidth": 0,
              "ticks": ""
             }
            },
            "type": "scatterpolargl"
           }
          ],
          "scatterternary": [
           {
            "marker": {
             "colorbar": {
              "outlinewidth": 0,
              "ticks": ""
             }
            },
            "type": "scatterternary"
           }
          ],
          "surface": [
           {
            "colorbar": {
             "outlinewidth": 0,
             "ticks": ""
            },
            "colorscale": [
             [
              0,
              "#0d0887"
             ],
             [
              0.1111111111111111,
              "#46039f"
             ],
             [
              0.2222222222222222,
              "#7201a8"
             ],
             [
              0.3333333333333333,
              "#9c179e"
             ],
             [
              0.4444444444444444,
              "#bd3786"
             ],
             [
              0.5555555555555556,
              "#d8576b"
             ],
             [
              0.6666666666666666,
              "#ed7953"
             ],
             [
              0.7777777777777778,
              "#fb9f3a"
             ],
             [
              0.8888888888888888,
              "#fdca26"
             ],
             [
              1,
              "#f0f921"
             ]
            ],
            "type": "surface"
           }
          ],
          "table": [
           {
            "cells": {
             "fill": {
              "color": "#EBF0F8"
             },
             "line": {
              "color": "white"
             }
            },
            "header": {
             "fill": {
              "color": "#C8D4E3"
             },
             "line": {
              "color": "white"
             }
            },
            "type": "table"
           }
          ]
         },
         "layout": {
          "annotationdefaults": {
           "arrowcolor": "#2a3f5f",
           "arrowhead": 0,
           "arrowwidth": 1
          },
          "autotypenumbers": "strict",
          "coloraxis": {
           "colorbar": {
            "outlinewidth": 0,
            "ticks": ""
           }
          },
          "colorscale": {
           "diverging": [
            [
             0,
             "#8e0152"
            ],
            [
             0.1,
             "#c51b7d"
            ],
            [
             0.2,
             "#de77ae"
            ],
            [
             0.3,
             "#f1b6da"
            ],
            [
             0.4,
             "#fde0ef"
            ],
            [
             0.5,
             "#f7f7f7"
            ],
            [
             0.6,
             "#e6f5d0"
            ],
            [
             0.7,
             "#b8e186"
            ],
            [
             0.8,
             "#7fbc41"
            ],
            [
             0.9,
             "#4d9221"
            ],
            [
             1,
             "#276419"
            ]
           ],
           "sequential": [
            [
             0,
             "#0d0887"
            ],
            [
             0.1111111111111111,
             "#46039f"
            ],
            [
             0.2222222222222222,
             "#7201a8"
            ],
            [
             0.3333333333333333,
             "#9c179e"
            ],
            [
             0.4444444444444444,
             "#bd3786"
            ],
            [
             0.5555555555555556,
             "#d8576b"
            ],
            [
             0.6666666666666666,
             "#ed7953"
            ],
            [
             0.7777777777777778,
             "#fb9f3a"
            ],
            [
             0.8888888888888888,
             "#fdca26"
            ],
            [
             1,
             "#f0f921"
            ]
           ],
           "sequentialminus": [
            [
             0,
             "#0d0887"
            ],
            [
             0.1111111111111111,
             "#46039f"
            ],
            [
             0.2222222222222222,
             "#7201a8"
            ],
            [
             0.3333333333333333,
             "#9c179e"
            ],
            [
             0.4444444444444444,
             "#bd3786"
            ],
            [
             0.5555555555555556,
             "#d8576b"
            ],
            [
             0.6666666666666666,
             "#ed7953"
            ],
            [
             0.7777777777777778,
             "#fb9f3a"
            ],
            [
             0.8888888888888888,
             "#fdca26"
            ],
            [
             1,
             "#f0f921"
            ]
           ]
          },
          "colorway": [
           "#636efa",
           "#EF553B",
           "#00cc96",
           "#ab63fa",
           "#FFA15A",
           "#19d3f3",
           "#FF6692",
           "#B6E880",
           "#FF97FF",
           "#FECB52"
          ],
          "font": {
           "color": "#2a3f5f"
          },
          "geo": {
           "bgcolor": "white",
           "lakecolor": "white",
           "landcolor": "#E5ECF6",
           "showlakes": true,
           "showland": true,
           "subunitcolor": "white"
          },
          "hoverlabel": {
           "align": "left"
          },
          "hovermode": "closest",
          "mapbox": {
           "style": "light"
          },
          "paper_bgcolor": "white",
          "plot_bgcolor": "#E5ECF6",
          "polar": {
           "angularaxis": {
            "gridcolor": "white",
            "linecolor": "white",
            "ticks": ""
           },
           "bgcolor": "#E5ECF6",
           "radialaxis": {
            "gridcolor": "white",
            "linecolor": "white",
            "ticks": ""
           }
          },
          "scene": {
           "xaxis": {
            "backgroundcolor": "#E5ECF6",
            "gridcolor": "white",
            "gridwidth": 2,
            "linecolor": "white",
            "showbackground": true,
            "ticks": "",
            "zerolinecolor": "white"
           },
           "yaxis": {
            "backgroundcolor": "#E5ECF6",
            "gridcolor": "white",
            "gridwidth": 2,
            "linecolor": "white",
            "showbackground": true,
            "ticks": "",
            "zerolinecolor": "white"
           },
           "zaxis": {
            "backgroundcolor": "#E5ECF6",
            "gridcolor": "white",
            "gridwidth": 2,
            "linecolor": "white",
            "showbackground": true,
            "ticks": "",
            "zerolinecolor": "white"
           }
          },
          "shapedefaults": {
           "line": {
            "color": "#2a3f5f"
           }
          },
          "ternary": {
           "aaxis": {
            "gridcolor": "white",
            "linecolor": "white",
            "ticks": ""
           },
           "baxis": {
            "gridcolor": "white",
            "linecolor": "white",
            "ticks": ""
           },
           "bgcolor": "#E5ECF6",
           "caxis": {
            "gridcolor": "white",
            "linecolor": "white",
            "ticks": ""
           }
          },
          "title": {
           "x": 0.05
          },
          "xaxis": {
           "automargin": true,
           "gridcolor": "white",
           "linecolor": "white",
           "ticks": "",
           "title": {
            "standoff": 15
           },
           "zerolinecolor": "white",
           "zerolinewidth": 2
          },
          "yaxis": {
           "automargin": true,
           "gridcolor": "white",
           "linecolor": "white",
           "ticks": "",
           "title": {
            "standoff": 15
           },
           "zerolinecolor": "white",
           "zerolinewidth": 2
          }
         }
        },
        "title": {
         "text": "EPS Trend Breakdown for baba"
        },
        "width": 1000,
        "xaxis": {
         "anchor": "y",
         "domain": [
          0,
          0.45
         ],
         "title": {
          "text": "Days Ago"
         }
        },
        "xaxis2": {
         "anchor": "y2",
         "domain": [
          0.55,
          1
         ],
         "title": {
          "text": "Days Ago"
         }
        },
        "yaxis": {
         "anchor": "x",
         "domain": [
          0,
          1
         ],
         "title": {
          "text": "EPS"
         }
        },
        "yaxis2": {
         "anchor": "x2",
         "domain": [
          0,
          1
         ],
         "title": {
          "text": "EPS"
         }
        }
       }
      }
     },
     "metadata": {},
     "output_type": "display_data"
    },
    {
     "data": {
      "application/vnd.plotly.v1+json": {
       "config": {
        "plotlyServerURL": "https://plot.ly"
       },
       "data": [
        {
         "mode": "lines+markers",
         "name": "Curr Qtr",
         "type": "scatter",
         "x": [
          90,
          60,
          30,
          7,
          0
         ],
         "xaxis": "x",
         "y": [
          2.0422,
          2.0221,
          2.0227,
          2.05,
          2.0282
         ],
         "yaxis": "y"
        },
        {
         "mode": "lines+markers",
         "name": "Next Qtr",
         "type": "scatter",
         "x": [
          90,
          60,
          30,
          7,
          0
         ],
         "xaxis": "x",
         "y": [
          1.18,
          1.21,
          1.25,
          1.26,
          1.24
         ],
         "yaxis": "y"
        },
        {
         "mode": "lines+markers",
         "name": "Curr Yr",
         "type": "scatter",
         "x": [
          90,
          60,
          30,
          7,
          0
         ],
         "xaxis": "x2",
         "y": [
          7.9649,
          7.9672,
          7.969,
          7.9911,
          8.0228
         ],
         "yaxis": "y2"
        },
        {
         "mode": "lines+markers",
         "name": "Next Yr",
         "type": "scatter",
         "x": [
          90,
          60,
          30,
          7,
          0
         ],
         "xaxis": "x2",
         "y": [
          8.597,
          8.5934,
          8.5953,
          8.6116,
          8.6536
         ],
         "yaxis": "y2"
        }
       ],
       "layout": {
        "annotations": [
         {
          "font": {
           "size": 16
          },
          "showarrow": false,
          "text": "Quarterly EPS Trends",
          "x": 0.225,
          "xanchor": "center",
          "xref": "paper",
          "y": 1,
          "yanchor": "bottom",
          "yref": "paper"
         },
         {
          "font": {
           "size": 16
          },
          "showarrow": false,
          "text": "Yearly EPS Trends",
          "x": 0.775,
          "xanchor": "center",
          "xref": "paper",
          "y": 1,
          "yanchor": "bottom",
          "yref": "paper"
         }
        ],
        "height": 500,
        "showlegend": true,
        "template": {
         "data": {
          "bar": [
           {
            "error_x": {
             "color": "#2a3f5f"
            },
            "error_y": {
             "color": "#2a3f5f"
            },
            "marker": {
             "line": {
              "color": "#E5ECF6",
              "width": 0.5
             },
             "pattern": {
              "fillmode": "overlay",
              "size": 10,
              "solidity": 0.2
             }
            },
            "type": "bar"
           }
          ],
          "barpolar": [
           {
            "marker": {
             "line": {
              "color": "#E5ECF6",
              "width": 0.5
             },
             "pattern": {
              "fillmode": "overlay",
              "size": 10,
              "solidity": 0.2
             }
            },
            "type": "barpolar"
           }
          ],
          "carpet": [
           {
            "aaxis": {
             "endlinecolor": "#2a3f5f",
             "gridcolor": "white",
             "linecolor": "white",
             "minorgridcolor": "white",
             "startlinecolor": "#2a3f5f"
            },
            "baxis": {
             "endlinecolor": "#2a3f5f",
             "gridcolor": "white",
             "linecolor": "white",
             "minorgridcolor": "white",
             "startlinecolor": "#2a3f5f"
            },
            "type": "carpet"
           }
          ],
          "choropleth": [
           {
            "colorbar": {
             "outlinewidth": 0,
             "ticks": ""
            },
            "type": "choropleth"
           }
          ],
          "contour": [
           {
            "colorbar": {
             "outlinewidth": 0,
             "ticks": ""
            },
            "colorscale": [
             [
              0,
              "#0d0887"
             ],
             [
              0.1111111111111111,
              "#46039f"
             ],
             [
              0.2222222222222222,
              "#7201a8"
             ],
             [
              0.3333333333333333,
              "#9c179e"
             ],
             [
              0.4444444444444444,
              "#bd3786"
             ],
             [
              0.5555555555555556,
              "#d8576b"
             ],
             [
              0.6666666666666666,
              "#ed7953"
             ],
             [
              0.7777777777777778,
              "#fb9f3a"
             ],
             [
              0.8888888888888888,
              "#fdca26"
             ],
             [
              1,
              "#f0f921"
             ]
            ],
            "type": "contour"
           }
          ],
          "contourcarpet": [
           {
            "colorbar": {
             "outlinewidth": 0,
             "ticks": ""
            },
            "type": "contourcarpet"
           }
          ],
          "heatmap": [
           {
            "colorbar": {
             "outlinewidth": 0,
             "ticks": ""
            },
            "colorscale": [
             [
              0,
              "#0d0887"
             ],
             [
              0.1111111111111111,
              "#46039f"
             ],
             [
              0.2222222222222222,
              "#7201a8"
             ],
             [
              0.3333333333333333,
              "#9c179e"
             ],
             [
              0.4444444444444444,
              "#bd3786"
             ],
             [
              0.5555555555555556,
              "#d8576b"
             ],
             [
              0.6666666666666666,
              "#ed7953"
             ],
             [
              0.7777777777777778,
              "#fb9f3a"
             ],
             [
              0.8888888888888888,
              "#fdca26"
             ],
             [
              1,
              "#f0f921"
             ]
            ],
            "type": "heatmap"
           }
          ],
          "histogram": [
           {
            "marker": {
             "pattern": {
              "fillmode": "overlay",
              "size": 10,
              "solidity": 0.2
             }
            },
            "type": "histogram"
           }
          ],
          "histogram2d": [
           {
            "colorbar": {
             "outlinewidth": 0,
             "ticks": ""
            },
            "colorscale": [
             [
              0,
              "#0d0887"
             ],
             [
              0.1111111111111111,
              "#46039f"
             ],
             [
              0.2222222222222222,
              "#7201a8"
             ],
             [
              0.3333333333333333,
              "#9c179e"
             ],
             [
              0.4444444444444444,
              "#bd3786"
             ],
             [
              0.5555555555555556,
              "#d8576b"
             ],
             [
              0.6666666666666666,
              "#ed7953"
             ],
             [
              0.7777777777777778,
              "#fb9f3a"
             ],
             [
              0.8888888888888888,
              "#fdca26"
             ],
             [
              1,
              "#f0f921"
             ]
            ],
            "type": "histogram2d"
           }
          ],
          "histogram2dcontour": [
           {
            "colorbar": {
             "outlinewidth": 0,
             "ticks": ""
            },
            "colorscale": [
             [
              0,
              "#0d0887"
             ],
             [
              0.1111111111111111,
              "#46039f"
             ],
             [
              0.2222222222222222,
              "#7201a8"
             ],
             [
              0.3333333333333333,
              "#9c179e"
             ],
             [
              0.4444444444444444,
              "#bd3786"
             ],
             [
              0.5555555555555556,
              "#d8576b"
             ],
             [
              0.6666666666666666,
              "#ed7953"
             ],
             [
              0.7777777777777778,
              "#fb9f3a"
             ],
             [
              0.8888888888888888,
              "#fdca26"
             ],
             [
              1,
              "#f0f921"
             ]
            ],
            "type": "histogram2dcontour"
           }
          ],
          "mesh3d": [
           {
            "colorbar": {
             "outlinewidth": 0,
             "ticks": ""
            },
            "type": "mesh3d"
           }
          ],
          "parcoords": [
           {
            "line": {
             "colorbar": {
              "outlinewidth": 0,
              "ticks": ""
             }
            },
            "type": "parcoords"
           }
          ],
          "pie": [
           {
            "automargin": true,
            "type": "pie"
           }
          ],
          "scatter": [
           {
            "fillpattern": {
             "fillmode": "overlay",
             "size": 10,
             "solidity": 0.2
            },
            "type": "scatter"
           }
          ],
          "scatter3d": [
           {
            "line": {
             "colorbar": {
              "outlinewidth": 0,
              "ticks": ""
             }
            },
            "marker": {
             "colorbar": {
              "outlinewidth": 0,
              "ticks": ""
             }
            },
            "type": "scatter3d"
           }
          ],
          "scattercarpet": [
           {
            "marker": {
             "colorbar": {
              "outlinewidth": 0,
              "ticks": ""
             }
            },
            "type": "scattercarpet"
           }
          ],
          "scattergeo": [
           {
            "marker": {
             "colorbar": {
              "outlinewidth": 0,
              "ticks": ""
             }
            },
            "type": "scattergeo"
           }
          ],
          "scattergl": [
           {
            "marker": {
             "colorbar": {
              "outlinewidth": 0,
              "ticks": ""
             }
            },
            "type": "scattergl"
           }
          ],
          "scattermap": [
           {
            "marker": {
             "colorbar": {
              "outlinewidth": 0,
              "ticks": ""
             }
            },
            "type": "scattermap"
           }
          ],
          "scattermapbox": [
           {
            "marker": {
             "colorbar": {
              "outlinewidth": 0,
              "ticks": ""
             }
            },
            "type": "scattermapbox"
           }
          ],
          "scatterpolar": [
           {
            "marker": {
             "colorbar": {
              "outlinewidth": 0,
              "ticks": ""
             }
            },
            "type": "scatterpolar"
           }
          ],
          "scatterpolargl": [
           {
            "marker": {
             "colorbar": {
              "outlinewidth": 0,
              "ticks": ""
             }
            },
            "type": "scatterpolargl"
           }
          ],
          "scatterternary": [
           {
            "marker": {
             "colorbar": {
              "outlinewidth": 0,
              "ticks": ""
             }
            },
            "type": "scatterternary"
           }
          ],
          "surface": [
           {
            "colorbar": {
             "outlinewidth": 0,
             "ticks": ""
            },
            "colorscale": [
             [
              0,
              "#0d0887"
             ],
             [
              0.1111111111111111,
              "#46039f"
             ],
             [
              0.2222222222222222,
              "#7201a8"
             ],
             [
              0.3333333333333333,
              "#9c179e"
             ],
             [
              0.4444444444444444,
              "#bd3786"
             ],
             [
              0.5555555555555556,
              "#d8576b"
             ],
             [
              0.6666666666666666,
              "#ed7953"
             ],
             [
              0.7777777777777778,
              "#fb9f3a"
             ],
             [
              0.8888888888888888,
              "#fdca26"
             ],
             [
              1,
              "#f0f921"
             ]
            ],
            "type": "surface"
           }
          ],
          "table": [
           {
            "cells": {
             "fill": {
              "color": "#EBF0F8"
             },
             "line": {
              "color": "white"
             }
            },
            "header": {
             "fill": {
              "color": "#C8D4E3"
             },
             "line": {
              "color": "white"
             }
            },
            "type": "table"
           }
          ]
         },
         "layout": {
          "annotationdefaults": {
           "arrowcolor": "#2a3f5f",
           "arrowhead": 0,
           "arrowwidth": 1
          },
          "autotypenumbers": "strict",
          "coloraxis": {
           "colorbar": {
            "outlinewidth": 0,
            "ticks": ""
           }
          },
          "colorscale": {
           "diverging": [
            [
             0,
             "#8e0152"
            ],
            [
             0.1,
             "#c51b7d"
            ],
            [
             0.2,
             "#de77ae"
            ],
            [
             0.3,
             "#f1b6da"
            ],
            [
             0.4,
             "#fde0ef"
            ],
            [
             0.5,
             "#f7f7f7"
            ],
            [
             0.6,
             "#e6f5d0"
            ],
            [
             0.7,
             "#b8e186"
            ],
            [
             0.8,
             "#7fbc41"
            ],
            [
             0.9,
             "#4d9221"
            ],
            [
             1,
             "#276419"
            ]
           ],
           "sequential": [
            [
             0,
             "#0d0887"
            ],
            [
             0.1111111111111111,
             "#46039f"
            ],
            [
             0.2222222222222222,
             "#7201a8"
            ],
            [
             0.3333333333333333,
             "#9c179e"
            ],
            [
             0.4444444444444444,
             "#bd3786"
            ],
            [
             0.5555555555555556,
             "#d8576b"
            ],
            [
             0.6666666666666666,
             "#ed7953"
            ],
            [
             0.7777777777777778,
             "#fb9f3a"
            ],
            [
             0.8888888888888888,
             "#fdca26"
            ],
            [
             1,
             "#f0f921"
            ]
           ],
           "sequentialminus": [
            [
             0,
             "#0d0887"
            ],
            [
             0.1111111111111111,
             "#46039f"
            ],
            [
             0.2222222222222222,
             "#7201a8"
            ],
            [
             0.3333333333333333,
             "#9c179e"
            ],
            [
             0.4444444444444444,
             "#bd3786"
            ],
            [
             0.5555555555555556,
             "#d8576b"
            ],
            [
             0.6666666666666666,
             "#ed7953"
            ],
            [
             0.7777777777777778,
             "#fb9f3a"
            ],
            [
             0.8888888888888888,
             "#fdca26"
            ],
            [
             1,
             "#f0f921"
            ]
           ]
          },
          "colorway": [
           "#636efa",
           "#EF553B",
           "#00cc96",
           "#ab63fa",
           "#FFA15A",
           "#19d3f3",
           "#FF6692",
           "#B6E880",
           "#FF97FF",
           "#FECB52"
          ],
          "font": {
           "color": "#2a3f5f"
          },
          "geo": {
           "bgcolor": "white",
           "lakecolor": "white",
           "landcolor": "#E5ECF6",
           "showlakes": true,
           "showland": true,
           "subunitcolor": "white"
          },
          "hoverlabel": {
           "align": "left"
          },
          "hovermode": "closest",
          "mapbox": {
           "style": "light"
          },
          "paper_bgcolor": "white",
          "plot_bgcolor": "#E5ECF6",
          "polar": {
           "angularaxis": {
            "gridcolor": "white",
            "linecolor": "white",
            "ticks": ""
           },
           "bgcolor": "#E5ECF6",
           "radialaxis": {
            "gridcolor": "white",
            "linecolor": "white",
            "ticks": ""
           }
          },
          "scene": {
           "xaxis": {
            "backgroundcolor": "#E5ECF6",
            "gridcolor": "white",
            "gridwidth": 2,
            "linecolor": "white",
            "showbackground": true,
            "ticks": "",
            "zerolinecolor": "white"
           },
           "yaxis": {
            "backgroundcolor": "#E5ECF6",
            "gridcolor": "white",
            "gridwidth": 2,
            "linecolor": "white",
            "showbackground": true,
            "ticks": "",
            "zerolinecolor": "white"
           },
           "zaxis": {
            "backgroundcolor": "#E5ECF6",
            "gridcolor": "white",
            "gridwidth": 2,
            "linecolor": "white",
            "showbackground": true,
            "ticks": "",
            "zerolinecolor": "white"
           }
          },
          "shapedefaults": {
           "line": {
            "color": "#2a3f5f"
           }
          },
          "ternary": {
           "aaxis": {
            "gridcolor": "white",
            "linecolor": "white",
            "ticks": ""
           },
           "baxis": {
            "gridcolor": "white",
            "linecolor": "white",
            "ticks": ""
           },
           "bgcolor": "#E5ECF6",
           "caxis": {
            "gridcolor": "white",
            "linecolor": "white",
            "ticks": ""
           }
          },
          "title": {
           "x": 0.05
          },
          "xaxis": {
           "automargin": true,
           "gridcolor": "white",
           "linecolor": "white",
           "ticks": "",
           "title": {
            "standoff": 15
           },
           "zerolinecolor": "white",
           "zerolinewidth": 2
          },
          "yaxis": {
           "automargin": true,
           "gridcolor": "white",
           "linecolor": "white",
           "ticks": "",
           "title": {
            "standoff": 15
           },
           "zerolinecolor": "white",
           "zerolinewidth": 2
          }
         }
        },
        "title": {
         "text": "EPS Trend Breakdown for td"
        },
        "width": 1000,
        "xaxis": {
         "anchor": "y",
         "domain": [
          0,
          0.45
         ],
         "title": {
          "text": "Days Ago"
         }
        },
        "xaxis2": {
         "anchor": "y2",
         "domain": [
          0.55,
          1
         ],
         "title": {
          "text": "Days Ago"
         }
        },
        "yaxis": {
         "anchor": "x",
         "domain": [
          0,
          1
         ],
         "title": {
          "text": "EPS"
         }
        },
        "yaxis2": {
         "anchor": "x2",
         "domain": [
          0,
          1
         ],
         "title": {
          "text": "EPS"
         }
        }
       }
      }
     },
     "metadata": {},
     "output_type": "display_data"
    }
   ],
   "source": [
    "import pandas as pd\n",
    "import numpy as np\n",
    "import matplotlib.pyplot as plt\n",
    "import seaborn as sns\n",
    "from scipy.stats import linregress\n",
    "import plotly.graph_objects as go\n",
    "from plotly.subplots import make_subplots\n",
    "\n",
    "# 🟩 Functions for calculating slopes and plotting\n",
    "\n",
    "def calc_slope(row, period):\n",
    "    y = [\n",
    "        row.get(f\"{period} 90\"),\n",
    "        row.get(f\"{period} 60\"),\n",
    "        row.get(f\"{period} 30\"),\n",
    "        row.get(f\"{period} 7\"),\n",
    "        row.get(f\"{period} Curr\")\n",
    "    ]\n",
    "    x = [90, 60, 30, 7, 0]\n",
    "    if any(pd.isna(yv) for yv in y):\n",
    "        return np.nan\n",
    "    slope, _, _, _, _ = linregress(x, y)\n",
    "    return slope\n",
    "\n",
    "def create_slope_heatmap(df, save_path=\"eps_slope_heatmap.png\"):\n",
    "    periods = [\"Curr Qtr\", \"Next Qtr\", \"Curr Yr\", \"Next Yr\"]\n",
    "    \n",
    "    # Calculate slopes\n",
    "    for period in periods:\n",
    "        df[f\"{period} Slope\"] = df.apply(lambda r: calc_slope(r, period), axis=1)\n",
    "\n",
    "    heatmap_data = df.set_index(\"Ticker\")[[f\"{p} Slope\" for p in periods]].T\n",
    "    \n",
    "    # Adjust figure size based on number of tickers\n",
    "    n_tickers = len(heatmap_data.columns)\n",
    "    plt.figure(figsize=(max(14, n_tickers), 6))  # Make boxes wider if many tickers\n",
    "    \n",
    "    sns.heatmap(\n",
    "        heatmap_data,\n",
    "        cmap=\"coolwarm\",\n",
    "        center=0,\n",
    "        annot=True,\n",
    "        fmt=\".4f\",  # Display 4 decimal places\n",
    "        cbar=True,\n",
    "        linewidths=0.6,\n",
    "        linecolor=\"grey\"\n",
    "    )\n",
    "    plt.title(\"EPS Trend Slopes (90d → Current)\")\n",
    "    plt.xlabel(\"Ticker\")\n",
    "    plt.ylabel(\"Period\")\n",
    "    plt.xticks(rotation=45, ha='right')\n",
    "    \n",
    "    plt.tight_layout()\n",
    "    plt.savefig(save_path, dpi=300)\n",
    "    plt.show()\n",
    "\n",
    "def plot_stock_eps_trends_plotly(row):\n",
    "    time_points = [90, 60, 30, 7, 0]\n",
    "    \n",
    "    # Create subplots (1 row, 2 columns)\n",
    "    fig = make_subplots(rows=1, cols=2, subplot_titles=(\"Quarterly EPS Trends\", \"Yearly EPS Trends\"))\n",
    "    \n",
    "    # Quarterly EPS Trends\n",
    "    periods_quarter = [\"Curr Qtr\", \"Next Qtr\"]\n",
    "    for period in periods_quarter:\n",
    "        eps_values = [\n",
    "            row.get(f\"{period} 90\"),\n",
    "            row.get(f\"{period} 60\"),\n",
    "            row.get(f\"{period} 30\"),\n",
    "            row.get(f\"{period} 7\"),\n",
    "            row.get(f\"{period} Curr\")\n",
    "        ]\n",
    "        fig.add_trace(\n",
    "            go.Scatter(\n",
    "                x=time_points,\n",
    "                y=eps_values,\n",
    "                mode='lines+markers',\n",
    "                name=period\n",
    "            ),\n",
    "            row=1, col=1\n",
    "        )\n",
    "    \n",
    "    # Yearly EPS Trends\n",
    "    periods_year = [\"Curr Yr\", \"Next Yr\"]\n",
    "    for period in periods_year:\n",
    "        eps_values = [\n",
    "            row.get(f\"{period} 90\"),\n",
    "            row.get(f\"{period} 60\"),\n",
    "            row.get(f\"{period} 30\"),\n",
    "            row.get(f\"{period} 7\"),\n",
    "            row.get(f\"{period} Curr\")\n",
    "        ]\n",
    "        fig.add_trace(\n",
    "            go.Scatter(\n",
    "                x=time_points,\n",
    "                y=eps_values,\n",
    "                mode='lines+markers',\n",
    "                name=period\n",
    "            ),\n",
    "            row=1, col=2\n",
    "        )\n",
    "    \n",
    "    fig.update_layout(\n",
    "        title_text=f\"EPS Trend Breakdown for {row['Ticker']}\",\n",
    "        height=500,\n",
    "        width=1000,\n",
    "        showlegend=True\n",
    "    )\n",
    "    \n",
    "    fig.update_xaxes(title_text=\"Days Ago\", row=1, col=1)\n",
    "    fig.update_yaxes(title_text=\"EPS\", row=1, col=1)\n",
    "    fig.update_xaxes(title_text=\"Days Ago\", row=1, col=2)\n",
    "    fig.update_yaxes(title_text=\"EPS\", row=1, col=2)\n",
    "    \n",
    "    fig.show()\n",
    "\n",
    "# 🟩 Main execution block\n",
    "if __name__ == \"__main__\":\n",
    "    tickers = [f\"{t}.US\" for t in raw1]\n",
    "    tbl = build_eps_trends(tickers)\n",
    "    \n",
    "    # Plot and save heatmap\n",
    "    create_slope_heatmap(tbl)\n",
    "    \n",
    "    # Plot interactive EPS trends\n",
    "    for idx, row in tbl.iterrows():\n",
    "        plot_stock_eps_trends_plotly(row)\n"
   ]
  },
  {
   "cell_type": "code",
   "execution_count": 6,
   "id": "56788bb9-1f37-494a-84ba-cfea41ae7b5a",
   "metadata": {},
   "outputs": [
    {
     "name": "stdout",
     "output_type": "stream",
     "text": [
      "{\n",
      "    \"contract\": \"AAPL250718C00225000\",\n",
      "    \"underlying_symbol\": \"AAPL\",\n",
      "    \"exp_date\": \"2025-07-18\",\n",
      "    \"expiration_type\": \"monthly\",\n",
      "    \"type\": \"call\",\n",
      "    \"strike\": 225,\n",
      "    \"exchange\": \"NASDAQ\",\n",
      "    \"currency\": \"USD\",\n",
      "    \"open\": 0.02,\n",
      "    \"high\": 0.02,\n",
      "    \"low\": 0.01,\n",
      "    \"last\": 0.01,\n",
      "    \"last_size\": 1,\n",
      "    \"change\": -0.01,\n",
      "    \"pctchange\": -50,\n",
      "    \"previous\": 0.02,\n",
      "    \"previous_date\": \"2025-07-16\",\n",
      "    \"bid\": 0.01,\n",
      "    \"bid_date\": \"2025-07-17 19:59:59\",\n",
      "    \"bid_size\": 1076,\n",
      "    \"ask\": 0.02,\n",
      "    \"ask_date\": \"2025-07-17 19:59:59\",\n",
      "    \"ask_size\": 184,\n",
      "    \"moneyness\": -0.06999999999999995,\n",
      "    \"volume\": 2974,\n",
      "    \"volume_change\": -16272,\n",
      "    \"volume_pctchange\": -84.55,\n",
      "    \"open_interest\": 51113,\n",
      "    \"open_interest_change\": -3712,\n",
      "    \"open_interest_pctchange\": -6.77,\n",
      "    \"volatility\": 0.5149,\n",
      "    \"volatility_change\": 0.1237,\n",
      "    \"volatility_pctchange\": 31.62,\n",
      "    \"theoretical\": 0.01,\n",
      "    \"delta\": 0.005569,\n",
      "    \"gamma\": 0.002808,\n",
      "    \"theta\": -0.045176,\n",
      "    \"vega\": 0.00175,\n",
      "    \"rho\": 3.2e-05,\n",
      "    \"tradetime\": \"2025-07-17\",\n",
      "    \"vol_oi_ratio\": 0.06,\n",
      "    \"dte\": 1,\n",
      "    \"midpoint\": 0.02\n",
      "}\n"
     ]
    },
    {
     "name": "stderr",
     "output_type": "stream",
     "text": [
      "C:\\Users\\Daniel2\\AppData\\Local\\Temp\\ipykernel_46900\\1012642755.py:38: RuntimeWarning:\n",
      "\n",
      "divide by zero encountered in log\n",
      "\n",
      "C:\\Users\\Daniel2\\AppData\\Local\\Temp\\ipykernel_46900\\1012642755.py:38: RuntimeWarning:\n",
      "\n",
      "invalid value encountered in log\n",
      "\n"
     ]
    },
    {
     "data": {
      "text/html": [
       "<div>\n",
       "<style scoped>\n",
       "    .dataframe tbody tr th:only-of-type {\n",
       "        vertical-align: middle;\n",
       "    }\n",
       "\n",
       "    .dataframe tbody tr th {\n",
       "        vertical-align: top;\n",
       "    }\n",
       "\n",
       "    .dataframe thead th {\n",
       "        text-align: right;\n",
       "    }\n",
       "</style>\n",
       "<table border=\"1\" class=\"dataframe\">\n",
       "  <thead>\n",
       "    <tr style=\"text-align: right;\">\n",
       "      <th></th>\n",
       "      <th>Ticker</th>\n",
       "      <th>Current Underlying</th>\n",
       "      <th>Option Type</th>\n",
       "      <th>Strike</th>\n",
       "      <th>Expiration</th>\n",
       "      <th>Implied Volatility</th>\n",
       "      <th>Number of Contracts</th>\n",
       "      <th>Average Cost per Contract</th>\n",
       "      <th>Equity Invested</th>\n",
       "      <th>Current Premium</th>\n",
       "      <th>Current Equity</th>\n",
       "      <th>Current % Change</th>\n",
       "      <th>Days to Gain</th>\n",
       "      <th>Scenario % Change</th>\n",
       "      <th>Simulated Underlying (+)</th>\n",
       "      <th>Simulated Underlying (-)</th>\n",
       "      <th>Simulated Premium (+)</th>\n",
       "      <th>Simulated Premium (-)</th>\n",
       "      <th>Premium % Change (+)</th>\n",
       "      <th>Premium % Change (-)</th>\n",
       "    </tr>\n",
       "  </thead>\n",
       "  <tbody>\n",
       "    <tr>\n",
       "      <th>0</th>\n",
       "      <td>AAPL</td>\n",
       "      <td>229.31</td>\n",
       "      <td>call</td>\n",
       "      <td>220.0</td>\n",
       "      <td>2025-12-19</td>\n",
       "      <td>25.89</td>\n",
       "      <td>3</td>\n",
       "      <td>4.5</td>\n",
       "      <td>1350.0</td>\n",
       "      <td>19.59</td>\n",
       "      <td>5877.0</td>\n",
       "      <td>335.33</td>\n",
       "      <td>30</td>\n",
       "      <td>±5%</td>\n",
       "      <td>240.78</td>\n",
       "      <td>217.84</td>\n",
       "      <td>26.52</td>\n",
       "      <td>10.88</td>\n",
       "      <td>35.37</td>\n",
       "      <td>-44.46</td>\n",
       "    </tr>\n",
       "    <tr>\n",
       "      <th>1</th>\n",
       "      <td>AAPL</td>\n",
       "      <td>229.31</td>\n",
       "      <td>call</td>\n",
       "      <td>220.0</td>\n",
       "      <td>2025-12-19</td>\n",
       "      <td>25.89</td>\n",
       "      <td>3</td>\n",
       "      <td>4.5</td>\n",
       "      <td>1350.0</td>\n",
       "      <td>19.59</td>\n",
       "      <td>5877.0</td>\n",
       "      <td>335.33</td>\n",
       "      <td>30</td>\n",
       "      <td>±10%</td>\n",
       "      <td>252.24</td>\n",
       "      <td>206.38</td>\n",
       "      <td>36.35</td>\n",
       "      <td>5.79</td>\n",
       "      <td>85.55</td>\n",
       "      <td>-70.42</td>\n",
       "    </tr>\n",
       "    <tr>\n",
       "      <th>2</th>\n",
       "      <td>AAPL</td>\n",
       "      <td>229.31</td>\n",
       "      <td>call</td>\n",
       "      <td>220.0</td>\n",
       "      <td>2025-12-19</td>\n",
       "      <td>25.89</td>\n",
       "      <td>3</td>\n",
       "      <td>4.5</td>\n",
       "      <td>1350.0</td>\n",
       "      <td>19.59</td>\n",
       "      <td>5877.0</td>\n",
       "      <td>335.33</td>\n",
       "      <td>30</td>\n",
       "      <td>±20%</td>\n",
       "      <td>275.17</td>\n",
       "      <td>183.45</td>\n",
       "      <td>57.99</td>\n",
       "      <td>0.94</td>\n",
       "      <td>196.01</td>\n",
       "      <td>-95.18</td>\n",
       "    </tr>\n",
       "    <tr>\n",
       "      <th>3</th>\n",
       "      <td>AAPL</td>\n",
       "      <td>229.31</td>\n",
       "      <td>call</td>\n",
       "      <td>220.0</td>\n",
       "      <td>2025-12-19</td>\n",
       "      <td>25.89</td>\n",
       "      <td>3</td>\n",
       "      <td>4.5</td>\n",
       "      <td>1350.0</td>\n",
       "      <td>19.59</td>\n",
       "      <td>5877.0</td>\n",
       "      <td>335.33</td>\n",
       "      <td>30</td>\n",
       "      <td>±50%</td>\n",
       "      <td>343.97</td>\n",
       "      <td>114.66</td>\n",
       "      <td>126.45</td>\n",
       "      <td>0.00</td>\n",
       "      <td>545.50</td>\n",
       "      <td>-100.00</td>\n",
       "    </tr>\n",
       "    <tr>\n",
       "      <th>4</th>\n",
       "      <td>AAPL</td>\n",
       "      <td>229.31</td>\n",
       "      <td>call</td>\n",
       "      <td>220.0</td>\n",
       "      <td>2025-12-19</td>\n",
       "      <td>25.89</td>\n",
       "      <td>3</td>\n",
       "      <td>4.5</td>\n",
       "      <td>1350.0</td>\n",
       "      <td>19.59</td>\n",
       "      <td>5877.0</td>\n",
       "      <td>335.33</td>\n",
       "      <td>30</td>\n",
       "      <td>±100%</td>\n",
       "      <td>458.62</td>\n",
       "      <td>0.00</td>\n",
       "      <td>241.11</td>\n",
       "      <td>0.00</td>\n",
       "      <td>1130.77</td>\n",
       "      <td>-100.00</td>\n",
       "    </tr>\n",
       "    <tr>\n",
       "      <th>5</th>\n",
       "      <td>AAPL</td>\n",
       "      <td>229.31</td>\n",
       "      <td>call</td>\n",
       "      <td>220.0</td>\n",
       "      <td>2025-12-19</td>\n",
       "      <td>25.89</td>\n",
       "      <td>3</td>\n",
       "      <td>4.5</td>\n",
       "      <td>1350.0</td>\n",
       "      <td>19.59</td>\n",
       "      <td>5877.0</td>\n",
       "      <td>335.33</td>\n",
       "      <td>30</td>\n",
       "      <td>±200%</td>\n",
       "      <td>687.93</td>\n",
       "      <td>-229.31</td>\n",
       "      <td>470.42</td>\n",
       "      <td>NaN</td>\n",
       "      <td>2301.31</td>\n",
       "      <td>NaN</td>\n",
       "    </tr>\n",
       "  </tbody>\n",
       "</table>\n",
       "</div>"
      ],
      "text/plain": [
       "  Ticker  Current Underlying Option Type  Strike  Expiration  \\\n",
       "0   AAPL              229.31        call   220.0  2025-12-19   \n",
       "1   AAPL              229.31        call   220.0  2025-12-19   \n",
       "2   AAPL              229.31        call   220.0  2025-12-19   \n",
       "3   AAPL              229.31        call   220.0  2025-12-19   \n",
       "4   AAPL              229.31        call   220.0  2025-12-19   \n",
       "5   AAPL              229.31        call   220.0  2025-12-19   \n",
       "\n",
       "   Implied Volatility  Number of Contracts  Average Cost per Contract  \\\n",
       "0               25.89                    3                        4.5   \n",
       "1               25.89                    3                        4.5   \n",
       "2               25.89                    3                        4.5   \n",
       "3               25.89                    3                        4.5   \n",
       "4               25.89                    3                        4.5   \n",
       "5               25.89                    3                        4.5   \n",
       "\n",
       "   Equity Invested  Current Premium  Current Equity  Current % Change  \\\n",
       "0           1350.0            19.59          5877.0            335.33   \n",
       "1           1350.0            19.59          5877.0            335.33   \n",
       "2           1350.0            19.59          5877.0            335.33   \n",
       "3           1350.0            19.59          5877.0            335.33   \n",
       "4           1350.0            19.59          5877.0            335.33   \n",
       "5           1350.0            19.59          5877.0            335.33   \n",
       "\n",
       "   Days to Gain Scenario % Change  Simulated Underlying (+)  \\\n",
       "0            30               ±5%                    240.78   \n",
       "1            30              ±10%                    252.24   \n",
       "2            30              ±20%                    275.17   \n",
       "3            30              ±50%                    343.97   \n",
       "4            30             ±100%                    458.62   \n",
       "5            30             ±200%                    687.93   \n",
       "\n",
       "   Simulated Underlying (-)  Simulated Premium (+)  Simulated Premium (-)  \\\n",
       "0                    217.84                  26.52                  10.88   \n",
       "1                    206.38                  36.35                   5.79   \n",
       "2                    183.45                  57.99                   0.94   \n",
       "3                    114.66                 126.45                   0.00   \n",
       "4                      0.00                 241.11                   0.00   \n",
       "5                   -229.31                 470.42                    NaN   \n",
       "\n",
       "   Premium % Change (+)  Premium % Change (-)  \n",
       "0                 35.37                -44.46  \n",
       "1                 85.55                -70.42  \n",
       "2                196.01                -95.18  \n",
       "3                545.50               -100.00  \n",
       "4               1130.77               -100.00  \n",
       "5               2301.31                   NaN  "
      ]
     },
     "metadata": {},
     "output_type": "display_data"
    }
   ],
   "source": [
    "# <!-- Options Analysis -->\n",
    "# TODO there may be some overlapping global variables or functions from the other notebooks \n",
    "    # that are being used because I couldn't use this at the top of the file\n",
    "%run optionsFunctions2_eod.ipynb\n"
   ]
  },
  {
   "cell_type": "code",
   "execution_count": 7,
   "id": "77862832-a89d-49e6-888f-29714a9502d0",
   "metadata": {
    "scrolled": true
   },
   "outputs": [
    {
     "name": "stderr",
     "output_type": "stream",
     "text": [
      "2025-08-27 09:20:35,872 [INFO] No options data returned for adsk\n",
      "2025-08-27 09:20:40,758 [INFO] No options data returned for td\n",
      "2025-08-27 09:20:58,328 [INFO] No options data returned for adsk\n",
      "2025-08-27 09:21:02,823 [INFO] No options data returned for td\n",
      "2025-08-27 09:21:21,258 [INFO] No options data returned for adsk\n",
      "2025-08-27 09:21:25,320 [INFO] No options data returned for td\n",
      "2025-08-27 09:21:43,880 [INFO] No options data returned for adsk\n",
      "2025-08-27 09:21:49,336 [INFO] No options data returned for td\n",
      "2025-08-27 09:22:13,100 [INFO] No options data returned for td\n",
      "2025-08-27 09:22:37,204 [INFO] No options data returned for td\n",
      "2025-08-27 09:23:02,103 [INFO] No options data returned for td\n"
     ]
    },
    {
     "data": {
      "text/html": [
       "<div>\n",
       "<style scoped>\n",
       "    .dataframe tbody tr th:only-of-type {\n",
       "        vertical-align: middle;\n",
       "    }\n",
       "\n",
       "    .dataframe tbody tr th {\n",
       "        vertical-align: top;\n",
       "    }\n",
       "\n",
       "    .dataframe thead th {\n",
       "        text-align: right;\n",
       "    }\n",
       "</style>\n",
       "<table border=\"1\" class=\"dataframe\">\n",
       "  <thead>\n",
       "    <tr style=\"text-align: right;\">\n",
       "      <th></th>\n",
       "      <th>Ticker</th>\n",
       "      <th>Option Type</th>\n",
       "      <th>Expiration</th>\n",
       "      <th>Strike</th>\n",
       "      <th>% OTM/ITM</th>\n",
       "      <th>Underlying Price</th>\n",
       "      <th>Simulated Underlying</th>\n",
       "      <th>Current Premium</th>\n",
       "      <th>Simulated Premium</th>\n",
       "      <th>Days Until Expiration</th>\n",
       "      <th>...</th>\n",
       "      <th>Rho</th>\n",
       "      <th>Bid</th>\n",
       "      <th>Ask</th>\n",
       "      <th>Last Premium</th>\n",
       "      <th>Bid Date</th>\n",
       "      <th>Ask Date</th>\n",
       "      <th>Volume</th>\n",
       "      <th>Allocated Equity</th>\n",
       "      <th>Simulated Equity</th>\n",
       "      <th>Run Label</th>\n",
       "    </tr>\n",
       "  </thead>\n",
       "  <tbody>\n",
       "    <tr>\n",
       "      <th>0</th>\n",
       "      <td>nvda</td>\n",
       "      <td>call</td>\n",
       "      <td>2025-11-21</td>\n",
       "      <td>220.0</td>\n",
       "      <td>21.03</td>\n",
       "      <td>181.77</td>\n",
       "      <td>209.04</td>\n",
       "      <td>3.70</td>\n",
       "      <td>7.05</td>\n",
       "      <td>85</td>\n",
       "      <td>...</td>\n",
       "      <td>0.0794</td>\n",
       "      <td>3.65</td>\n",
       "      <td>3.70</td>\n",
       "      <td>3.70</td>\n",
       "      <td>2025-08-26 20:00:00</td>\n",
       "      <td>2025-08-26 20:00:00</td>\n",
       "      <td>2909.0</td>\n",
       "      <td>100.0</td>\n",
       "      <td>190.48</td>\n",
       "      <td>Short-Term</td>\n",
       "    </tr>\n",
       "    <tr>\n",
       "      <th>1</th>\n",
       "      <td>nvda</td>\n",
       "      <td>call</td>\n",
       "      <td>2025-11-21</td>\n",
       "      <td>210.0</td>\n",
       "      <td>15.53</td>\n",
       "      <td>181.77</td>\n",
       "      <td>209.04</td>\n",
       "      <td>5.53</td>\n",
       "      <td>11.11</td>\n",
       "      <td>85</td>\n",
       "      <td>...</td>\n",
       "      <td>0.1073</td>\n",
       "      <td>5.50</td>\n",
       "      <td>5.60</td>\n",
       "      <td>5.53</td>\n",
       "      <td>2025-08-26 19:59:59</td>\n",
       "      <td>2025-08-26 19:59:59</td>\n",
       "      <td>1396.0</td>\n",
       "      <td>100.0</td>\n",
       "      <td>200.86</td>\n",
       "      <td>Short-Term</td>\n",
       "    </tr>\n",
       "    <tr>\n",
       "      <th>2</th>\n",
       "      <td>nvda</td>\n",
       "      <td>call</td>\n",
       "      <td>2025-12-19</td>\n",
       "      <td>218.0</td>\n",
       "      <td>19.93</td>\n",
       "      <td>181.77</td>\n",
       "      <td>209.04</td>\n",
       "      <td>5.62</td>\n",
       "      <td>11.21</td>\n",
       "      <td>113</td>\n",
       "      <td>...</td>\n",
       "      <td>0.1300</td>\n",
       "      <td>5.55</td>\n",
       "      <td>5.65</td>\n",
       "      <td>5.62</td>\n",
       "      <td>2025-08-26 19:59:59</td>\n",
       "      <td>2025-08-26 19:59:59</td>\n",
       "      <td>13.0</td>\n",
       "      <td>100.0</td>\n",
       "      <td>199.41</td>\n",
       "      <td>Short-Term</td>\n",
       "    </tr>\n",
       "    <tr>\n",
       "      <th>3</th>\n",
       "      <td>nvda</td>\n",
       "      <td>call</td>\n",
       "      <td>2025-12-19</td>\n",
       "      <td>219.0</td>\n",
       "      <td>20.48</td>\n",
       "      <td>181.77</td>\n",
       "      <td>209.04</td>\n",
       "      <td>5.43</td>\n",
       "      <td>10.82</td>\n",
       "      <td>113</td>\n",
       "      <td>...</td>\n",
       "      <td>0.1268</td>\n",
       "      <td>5.35</td>\n",
       "      <td>5.45</td>\n",
       "      <td>5.43</td>\n",
       "      <td>2025-08-26 19:59:59</td>\n",
       "      <td>2025-08-26 19:59:59</td>\n",
       "      <td>34.0</td>\n",
       "      <td>100.0</td>\n",
       "      <td>199.29</td>\n",
       "      <td>Short-Term</td>\n",
       "    </tr>\n",
       "    <tr>\n",
       "      <th>4</th>\n",
       "      <td>crwd</td>\n",
       "      <td>call</td>\n",
       "      <td>2025-11-21</td>\n",
       "      <td>500.0</td>\n",
       "      <td>19.73</td>\n",
       "      <td>417.60</td>\n",
       "      <td>480.24</td>\n",
       "      <td>10.15</td>\n",
       "      <td>18.91</td>\n",
       "      <td>85</td>\n",
       "      <td>...</td>\n",
       "      <td>0.2037</td>\n",
       "      <td>9.65</td>\n",
       "      <td>10.15</td>\n",
       "      <td>10.15</td>\n",
       "      <td>2025-08-26 19:59:59</td>\n",
       "      <td>2025-08-26 19:59:59</td>\n",
       "      <td>131.0</td>\n",
       "      <td>100.0</td>\n",
       "      <td>186.35</td>\n",
       "      <td>Short-Term</td>\n",
       "    </tr>\n",
       "    <tr>\n",
       "      <th>...</th>\n",
       "      <td>...</td>\n",
       "      <td>...</td>\n",
       "      <td>...</td>\n",
       "      <td>...</td>\n",
       "      <td>...</td>\n",
       "      <td>...</td>\n",
       "      <td>...</td>\n",
       "      <td>...</td>\n",
       "      <td>...</td>\n",
       "      <td>...</td>\n",
       "      <td>...</td>\n",
       "      <td>...</td>\n",
       "      <td>...</td>\n",
       "      <td>...</td>\n",
       "      <td>...</td>\n",
       "      <td>...</td>\n",
       "      <td>...</td>\n",
       "      <td>...</td>\n",
       "      <td>...</td>\n",
       "      <td>...</td>\n",
       "      <td>...</td>\n",
       "    </tr>\n",
       "    <tr>\n",
       "      <th>301</th>\n",
       "      <td>gap</td>\n",
       "      <td>put</td>\n",
       "      <td>2026-03-20</td>\n",
       "      <td>18.0</td>\n",
       "      <td>16.59</td>\n",
       "      <td>21.58</td>\n",
       "      <td>24.82</td>\n",
       "      <td>1.51</td>\n",
       "      <td>0.54</td>\n",
       "      <td>204</td>\n",
       "      <td>...</td>\n",
       "      <td>-0.0334</td>\n",
       "      <td>1.41</td>\n",
       "      <td>1.50</td>\n",
       "      <td>1.51</td>\n",
       "      <td>2025-08-26 19:59:59</td>\n",
       "      <td>2025-08-26 19:59:59</td>\n",
       "      <td>0.0</td>\n",
       "      <td>100.0</td>\n",
       "      <td>35.91</td>\n",
       "      <td>MShort-Term</td>\n",
       "    </tr>\n",
       "    <tr>\n",
       "      <th>302</th>\n",
       "      <td>baba</td>\n",
       "      <td>put</td>\n",
       "      <td>2026-02-20</td>\n",
       "      <td>100.0</td>\n",
       "      <td>19.48</td>\n",
       "      <td>124.19</td>\n",
       "      <td>142.82</td>\n",
       "      <td>2.87</td>\n",
       "      <td>0.44</td>\n",
       "      <td>176</td>\n",
       "      <td>...</td>\n",
       "      <td>-0.0974</td>\n",
       "      <td>2.76</td>\n",
       "      <td>2.87</td>\n",
       "      <td>2.87</td>\n",
       "      <td>2025-08-26 19:59:59</td>\n",
       "      <td>2025-08-26 19:59:59</td>\n",
       "      <td>41.0</td>\n",
       "      <td>100.0</td>\n",
       "      <td>15.20</td>\n",
       "      <td>MShort-Term</td>\n",
       "    </tr>\n",
       "    <tr>\n",
       "      <th>303</th>\n",
       "      <td>baba</td>\n",
       "      <td>put</td>\n",
       "      <td>2026-02-20</td>\n",
       "      <td>95.0</td>\n",
       "      <td>23.50</td>\n",
       "      <td>124.19</td>\n",
       "      <td>142.82</td>\n",
       "      <td>1.94</td>\n",
       "      <td>0.24</td>\n",
       "      <td>176</td>\n",
       "      <td>...</td>\n",
       "      <td>-0.0711</td>\n",
       "      <td>1.90</td>\n",
       "      <td>1.99</td>\n",
       "      <td>1.94</td>\n",
       "      <td>2025-08-26 19:59:59</td>\n",
       "      <td>2025-08-26 19:59:59</td>\n",
       "      <td>0.0</td>\n",
       "      <td>100.0</td>\n",
       "      <td>12.48</td>\n",
       "      <td>MShort-Term</td>\n",
       "    </tr>\n",
       "    <tr>\n",
       "      <th>304</th>\n",
       "      <td>baba</td>\n",
       "      <td>put</td>\n",
       "      <td>2026-03-20</td>\n",
       "      <td>100.0</td>\n",
       "      <td>19.48</td>\n",
       "      <td>124.19</td>\n",
       "      <td>142.82</td>\n",
       "      <td>3.32</td>\n",
       "      <td>0.63</td>\n",
       "      <td>204</td>\n",
       "      <td>...</td>\n",
       "      <td>-0.1211</td>\n",
       "      <td>3.30</td>\n",
       "      <td>3.45</td>\n",
       "      <td>3.32</td>\n",
       "      <td>2025-08-26 19:59:59</td>\n",
       "      <td>2025-08-26 19:59:59</td>\n",
       "      <td>3.0</td>\n",
       "      <td>100.0</td>\n",
       "      <td>18.94</td>\n",
       "      <td>MShort-Term</td>\n",
       "    </tr>\n",
       "    <tr>\n",
       "      <th>305</th>\n",
       "      <td>baba</td>\n",
       "      <td>put</td>\n",
       "      <td>2026-03-20</td>\n",
       "      <td>97.5</td>\n",
       "      <td>21.49</td>\n",
       "      <td>124.19</td>\n",
       "      <td>142.82</td>\n",
       "      <td>5.25</td>\n",
       "      <td>0.00</td>\n",
       "      <td>204</td>\n",
       "      <td>...</td>\n",
       "      <td>0.0000</td>\n",
       "      <td>0.00</td>\n",
       "      <td>0.00</td>\n",
       "      <td>5.25</td>\n",
       "      <td>None</td>\n",
       "      <td>None</td>\n",
       "      <td>0.0</td>\n",
       "      <td>NaN</td>\n",
       "      <td>NaN</td>\n",
       "      <td>MShort-Term</td>\n",
       "    </tr>\n",
       "  </tbody>\n",
       "</table>\n",
       "<p>306 rows × 28 columns</p>\n",
       "</div>"
      ],
      "text/plain": [
       "    Ticker Option Type  Expiration  Strike  % OTM/ITM  Underlying Price  \\\n",
       "0     nvda        call  2025-11-21   220.0      21.03            181.77   \n",
       "1     nvda        call  2025-11-21   210.0      15.53            181.77   \n",
       "2     nvda        call  2025-12-19   218.0      19.93            181.77   \n",
       "3     nvda        call  2025-12-19   219.0      20.48            181.77   \n",
       "4     crwd        call  2025-11-21   500.0      19.73            417.60   \n",
       "..     ...         ...         ...     ...        ...               ...   \n",
       "301    gap         put  2026-03-20    18.0      16.59             21.58   \n",
       "302   baba         put  2026-02-20   100.0      19.48            124.19   \n",
       "303   baba         put  2026-02-20    95.0      23.50            124.19   \n",
       "304   baba         put  2026-03-20   100.0      19.48            124.19   \n",
       "305   baba         put  2026-03-20    97.5      21.49            124.19   \n",
       "\n",
       "     Simulated Underlying  Current Premium  Simulated Premium  \\\n",
       "0                  209.04             3.70               7.05   \n",
       "1                  209.04             5.53              11.11   \n",
       "2                  209.04             5.62              11.21   \n",
       "3                  209.04             5.43              10.82   \n",
       "4                  480.24            10.15              18.91   \n",
       "..                    ...              ...                ...   \n",
       "301                 24.82             1.51               0.54   \n",
       "302                142.82             2.87               0.44   \n",
       "303                142.82             1.94               0.24   \n",
       "304                142.82             3.32               0.63   \n",
       "305                142.82             5.25               0.00   \n",
       "\n",
       "     Days Until Expiration  ...     Rho   Bid    Ask  Last Premium  \\\n",
       "0                       85  ...  0.0794  3.65   3.70          3.70   \n",
       "1                       85  ...  0.1073  5.50   5.60          5.53   \n",
       "2                      113  ...  0.1300  5.55   5.65          5.62   \n",
       "3                      113  ...  0.1268  5.35   5.45          5.43   \n",
       "4                       85  ...  0.2037  9.65  10.15         10.15   \n",
       "..                     ...  ...     ...   ...    ...           ...   \n",
       "301                    204  ... -0.0334  1.41   1.50          1.51   \n",
       "302                    176  ... -0.0974  2.76   2.87          2.87   \n",
       "303                    176  ... -0.0711  1.90   1.99          1.94   \n",
       "304                    204  ... -0.1211  3.30   3.45          3.32   \n",
       "305                    204  ...  0.0000  0.00   0.00          5.25   \n",
       "\n",
       "                Bid Date             Ask Date  Volume  Allocated Equity  \\\n",
       "0    2025-08-26 20:00:00  2025-08-26 20:00:00  2909.0             100.0   \n",
       "1    2025-08-26 19:59:59  2025-08-26 19:59:59  1396.0             100.0   \n",
       "2    2025-08-26 19:59:59  2025-08-26 19:59:59    13.0             100.0   \n",
       "3    2025-08-26 19:59:59  2025-08-26 19:59:59    34.0             100.0   \n",
       "4    2025-08-26 19:59:59  2025-08-26 19:59:59   131.0             100.0   \n",
       "..                   ...                  ...     ...               ...   \n",
       "301  2025-08-26 19:59:59  2025-08-26 19:59:59     0.0             100.0   \n",
       "302  2025-08-26 19:59:59  2025-08-26 19:59:59    41.0             100.0   \n",
       "303  2025-08-26 19:59:59  2025-08-26 19:59:59     0.0             100.0   \n",
       "304  2025-08-26 19:59:59  2025-08-26 19:59:59     3.0             100.0   \n",
       "305                 None                 None     0.0               NaN   \n",
       "\n",
       "     Simulated Equity    Run Label  \n",
       "0              190.48  Short-Term   \n",
       "1              200.86  Short-Term   \n",
       "2              199.41  Short-Term   \n",
       "3              199.29  Short-Term   \n",
       "4              186.35  Short-Term   \n",
       "..                ...          ...  \n",
       "301             35.91  MShort-Term  \n",
       "302             15.20  MShort-Term  \n",
       "303             12.48  MShort-Term  \n",
       "304             18.94  MShort-Term  \n",
       "305               NaN  MShort-Term  \n",
       "\n",
       "[306 rows x 28 columns]"
      ]
     },
     "metadata": {},
     "output_type": "display_data"
    }
   ],
   "source": [
    "tickers = raw1\n",
    "# tickerList = ['aapl', 'uber', 'msft', 'goog','amzn']\n",
    "# raw1 = ['nvda', 'aapl', 'goog', 'msft', 'fi', 'amd', 'orly', 'dpz', 'byddy', 'uber', 'tko']\n",
    "param_sets2 = [\n",
    "    {\n",
    "        \"tickers\": tickers,\n",
    "        \"option_type\": \"call\",\n",
    "        \"days_until_exp\": 90,\n",
    "        \"strike_pct\": .2,\n",
    "        \"days_to_gain\": 45,\n",
    "        \"stock_gain_pct\": 0.15,\n",
    "        \"allocation\": 100,\n",
    "        \"label\": \"Short-Term \"\n",
    "        \n",
    "    },\n",
    "\n",
    "        {\n",
    "        \"tickers\": tickers,\n",
    "        \"option_type\": \"call\",\n",
    "        \"days_until_exp\": 90,\n",
    "        \"strike_pct\": .2,\n",
    "        \"days_to_gain\": 45,\n",
    "        \"stock_gain_pct\": 0.15,\n",
    "        \"allocation\": 100,\n",
    "        \"label\": \"Short-Term \"\n",
    "        \n",
    "    },\n",
    "\n",
    "        {\n",
    "        \"tickers\": tickers,\n",
    "        \"option_type\": \"call\",\n",
    "        \"days_until_exp\": 90,\n",
    "        \"strike_pct\": .2,\n",
    "        \"days_to_gain\": 45,\n",
    "        \"stock_gain_pct\": -0.1,\n",
    "        \"allocation\": 100,\n",
    "        \"label\": \"Short-Term \"\n",
    "        \n",
    "    },\n",
    "\n",
    "        {\n",
    "        \"tickers\": tickers,\n",
    "        \"option_type\": \"put\",\n",
    "        \"days_until_exp\": 90,\n",
    "        \"strike_pct\": -.15,\n",
    "        \"days_to_gain\": 45,\n",
    "        \"stock_gain_pct\": 0.1,\n",
    "        \"allocation\": 100,\n",
    "        \"label\": \"Short-Term \"\n",
    "    },\n",
    "\n",
    "        {\n",
    "        \"tickers\": tickers,\n",
    "        \"option_type\": \"call\",\n",
    "        \"days_until_exp\": 180,\n",
    "        \"strike_pct\": .3,\n",
    "        \"days_to_gain\": 60,\n",
    "        \"stock_gain_pct\": 0.2,\n",
    "        \"allocation\": 100,\n",
    "        \"label\": \"MShort-Term\"\n",
    "        \n",
    "    },\n",
    "\n",
    "            {\n",
    "        \"tickers\": tickers,\n",
    "        \"option_type\": \"call\",\n",
    "        \"days_until_exp\": 180,\n",
    "        \"strike_pct\": .3,\n",
    "        \"days_to_gain\": 60,\n",
    "        \"stock_gain_pct\": -0.1,\n",
    "        \"allocation\": 100,\n",
    "        \"label\": \"MShort-Term\"\n",
    "        \n",
    "    },\n",
    "\n",
    "        {\n",
    "        \"tickers\": tickers,\n",
    "        \"option_type\": \"put\",\n",
    "        \"days_until_exp\": 180,\n",
    "        \"strike_pct\": -.2,\n",
    "        \"days_to_gain\": 45,\n",
    "        \"stock_gain_pct\": 0.15,\n",
    "        \"allocation\": 100,\n",
    "        \"label\": \"MShort-Term\"\n",
    "    },\n",
    "\n",
    "    #         {\n",
    "    #     \"tickers\": tickers,\n",
    "    #     \"option_type\": \"call\",\n",
    "    #     \"days_until_exp\": 270,\n",
    "    #     \"strike_pct\": .3,\n",
    "    #     \"days_to_gain\": 75,\n",
    "    #     \"stock_gain_pct\": 0.2,\n",
    "    #     \"allocation\": 100,\n",
    "    #     \"label\": \"Mid-Term\"\n",
    "        \n",
    "    # },\n",
    "    \n",
    "    #         {\n",
    "    #     \"tickers\": tickers,\n",
    "    #     \"option_type\": \"call\",\n",
    "    #     \"days_until_exp\": 270,\n",
    "    #     \"strike_pct\": .3,\n",
    "    #     \"days_to_gain\": 75,\n",
    "    #     \"stock_gain_pct\": -0.15,\n",
    "    #     \"allocation\": 100,\n",
    "    #     \"label\": \"Mid-Term\"\n",
    "        \n",
    "    # },\n",
    "\n",
    "    #     {\n",
    "    #     \"tickers\": tickers,\n",
    "    #     \"option_type\": \"put\",\n",
    "    #     \"days_until_exp\": 270,\n",
    "    #     \"strike_pct\": -.3,\n",
    "    #     \"days_to_gain\": 75,\n",
    "    #     \"stock_gain_pct\": -0.2,\n",
    "    #     \"allocation\": 100,\n",
    "    #     \"label\": \"Mid-Term\"\n",
    "    # },\n",
    "\n",
    "\n",
    "    #             {\n",
    "    #     \"tickers\": tickers,\n",
    "    #     \"option_type\": \"call\",\n",
    "    #     \"days_until_exp\": 270,\n",
    "    #     \"strike_pct\": .3,\n",
    "    #     \"days_to_gain\": 90,\n",
    "    #     \"stock_gain_pct\": 0.4,\n",
    "    #     \"allocation\": 100,\n",
    "    #     \"label\": \"Mid-Term Big Growth\"\n",
    "        \n",
    "    # },\n",
    "\n",
    "    #                 {\n",
    "    #     \"tickers\": tickers,\n",
    "    #     \"option_type\": \"call\",\n",
    "    #     \"days_until_exp\": 270,\n",
    "    #     \"strike_pct\": .3,\n",
    "    #     \"days_to_gain\": 90,\n",
    "    #     \"stock_gain_pct\": -0.25,\n",
    "    #     \"allocation\": 100,\n",
    "    #     \"label\": \"Mid-Term Big Growth\"\n",
    "        \n",
    "    # },\n",
    "\n",
    "    #     {\n",
    "    #     \"tickers\": tickers,\n",
    "    #     \"option_type\": \"put\",\n",
    "    #     \"days_until_exp\": 270,\n",
    "    #     \"strike_pct\": -.3,\n",
    "    #     \"days_to_gain\": 90,\n",
    "    #     \"stock_gain_pct\": -0.25,\n",
    "    #     \"allocation\": 100,\n",
    "    #     \"label\": \"Mid-Term Big Growth\"\n",
    "    # },\n",
    "\n",
    "\n",
    "    \n",
    "    #             {\n",
    "    #     \"tickers\": tickers,\n",
    "    #     \"option_type\": \"call\",\n",
    "    #     \"days_until_exp\": 575,\n",
    "    #     \"strike_pct\": .9,\n",
    "    #     \"days_to_gain\": 270,\n",
    "    #     \"stock_gain_pct\": 1.5,\n",
    "    #     \"allocation\": 100,\n",
    "    #     \"label\": \"Long-Term Big Growth\"\n",
    "        \n",
    "    # },\n",
    "\n",
    "    #     {\n",
    "    #     \"tickers\": tickers,\n",
    "    #     \"option_type\": \"put\",\n",
    "    #     \"days_until_exp\": 575,\n",
    "    #     \"strike_pct\": -.4,\n",
    "    #     \"days_to_gain\": 270,\n",
    "    #     \"stock_gain_pct\": -0.6,\n",
    "    #     \"allocation\": 100,\n",
    "    #     \"label\": \"Long-Term Big Growth\"\n",
    "    # },\n",
    "\n",
    "    #                 {\n",
    "    #     \"tickers\": tickers,\n",
    "    #     \"option_type\": \"call\",\n",
    "    #     \"days_until_exp\": 575,\n",
    "    #     \"strike_pct\": .9,\n",
    "    #     \"days_to_gain\": 270,\n",
    "    #     \"stock_gain_pct\": -.2,\n",
    "    #     \"allocation\": 100,\n",
    "    #     \"label\": \"Long-Term Big Growth\"\n",
    "        \n",
    "    # },\n",
    "    \n",
    "]\n",
    "\n",
    "dfOptions = run_multiple_analyses(param_sets2)\n",
    "display(dfOptions)\n",
    "dfOptions.to_csv('optionsAnalysis.csv', index=False)\n"
   ]
  },
  {
   "cell_type": "code",
   "execution_count": 8,
   "id": "472f4b28-9cdd-4f9b-9f33-1e042c13957b",
   "metadata": {},
   "outputs": [
    {
     "data": {
      "text/html": [
       "<div>\n",
       "<style scoped>\n",
       "    .dataframe tbody tr th:only-of-type {\n",
       "        vertical-align: middle;\n",
       "    }\n",
       "\n",
       "    .dataframe tbody tr th {\n",
       "        vertical-align: top;\n",
       "    }\n",
       "\n",
       "    .dataframe thead th {\n",
       "        text-align: right;\n",
       "    }\n",
       "</style>\n",
       "<table border=\"1\" class=\"dataframe\">\n",
       "  <thead>\n",
       "    <tr style=\"text-align: right;\">\n",
       "      <th></th>\n",
       "      <th>Ticker</th>\n",
       "      <th>Option Type</th>\n",
       "      <th>Expiration</th>\n",
       "      <th>Strike</th>\n",
       "      <th>Underlying Price</th>\n",
       "      <th>Current Premium</th>\n",
       "      <th>Underlying Gain %</th>\n",
       "      <th>Premium % Gain</th>\n",
       "      <th>Implied Volatility</th>\n",
       "      <th>Bid Date</th>\n",
       "      <th>Volume</th>\n",
       "    </tr>\n",
       "  </thead>\n",
       "  <tbody>\n",
       "    <tr>\n",
       "      <th>0</th>\n",
       "      <td>nvda</td>\n",
       "      <td>call</td>\n",
       "      <td>2025-11-21</td>\n",
       "      <td>220.0</td>\n",
       "      <td>181.77</td>\n",
       "      <td>3.70</td>\n",
       "      <td>15.0</td>\n",
       "      <td>90.48</td>\n",
       "      <td>39.90</td>\n",
       "      <td>2025-08-26 20:00:00</td>\n",
       "      <td>2909.0</td>\n",
       "    </tr>\n",
       "    <tr>\n",
       "      <th>1</th>\n",
       "      <td>nvda</td>\n",
       "      <td>call</td>\n",
       "      <td>2025-11-21</td>\n",
       "      <td>210.0</td>\n",
       "      <td>181.77</td>\n",
       "      <td>5.53</td>\n",
       "      <td>15.0</td>\n",
       "      <td>100.86</td>\n",
       "      <td>39.95</td>\n",
       "      <td>2025-08-26 19:59:59</td>\n",
       "      <td>1396.0</td>\n",
       "    </tr>\n",
       "    <tr>\n",
       "      <th>2</th>\n",
       "      <td>nvda</td>\n",
       "      <td>call</td>\n",
       "      <td>2025-12-19</td>\n",
       "      <td>218.0</td>\n",
       "      <td>181.77</td>\n",
       "      <td>5.62</td>\n",
       "      <td>15.0</td>\n",
       "      <td>99.41</td>\n",
       "      <td>39.44</td>\n",
       "      <td>2025-08-26 19:59:59</td>\n",
       "      <td>13.0</td>\n",
       "    </tr>\n",
       "    <tr>\n",
       "      <th>3</th>\n",
       "      <td>nvda</td>\n",
       "      <td>call</td>\n",
       "      <td>2025-12-19</td>\n",
       "      <td>219.0</td>\n",
       "      <td>181.77</td>\n",
       "      <td>5.43</td>\n",
       "      <td>15.0</td>\n",
       "      <td>99.29</td>\n",
       "      <td>39.43</td>\n",
       "      <td>2025-08-26 19:59:59</td>\n",
       "      <td>34.0</td>\n",
       "    </tr>\n",
       "    <tr>\n",
       "      <th>4</th>\n",
       "      <td>crwd</td>\n",
       "      <td>call</td>\n",
       "      <td>2025-11-21</td>\n",
       "      <td>500.0</td>\n",
       "      <td>417.60</td>\n",
       "      <td>10.15</td>\n",
       "      <td>15.0</td>\n",
       "      <td>86.35</td>\n",
       "      <td>41.19</td>\n",
       "      <td>2025-08-26 19:59:59</td>\n",
       "      <td>131.0</td>\n",
       "    </tr>\n",
       "    <tr>\n",
       "      <th>...</th>\n",
       "      <td>...</td>\n",
       "      <td>...</td>\n",
       "      <td>...</td>\n",
       "      <td>...</td>\n",
       "      <td>...</td>\n",
       "      <td>...</td>\n",
       "      <td>...</td>\n",
       "      <td>...</td>\n",
       "      <td>...</td>\n",
       "      <td>...</td>\n",
       "      <td>...</td>\n",
       "    </tr>\n",
       "    <tr>\n",
       "      <th>301</th>\n",
       "      <td>gap</td>\n",
       "      <td>put</td>\n",
       "      <td>2026-03-20</td>\n",
       "      <td>18.0</td>\n",
       "      <td>21.58</td>\n",
       "      <td>1.51</td>\n",
       "      <td>15.0</td>\n",
       "      <td>-64.09</td>\n",
       "      <td>50.43</td>\n",
       "      <td>2025-08-26 19:59:59</td>\n",
       "      <td>0.0</td>\n",
       "    </tr>\n",
       "    <tr>\n",
       "      <th>302</th>\n",
       "      <td>baba</td>\n",
       "      <td>put</td>\n",
       "      <td>2026-02-20</td>\n",
       "      <td>100.0</td>\n",
       "      <td>124.19</td>\n",
       "      <td>2.87</td>\n",
       "      <td>15.0</td>\n",
       "      <td>-84.8</td>\n",
       "      <td>36.16</td>\n",
       "      <td>2025-08-26 19:59:59</td>\n",
       "      <td>41.0</td>\n",
       "    </tr>\n",
       "    <tr>\n",
       "      <th>303</th>\n",
       "      <td>baba</td>\n",
       "      <td>put</td>\n",
       "      <td>2026-02-20</td>\n",
       "      <td>95.0</td>\n",
       "      <td>124.19</td>\n",
       "      <td>1.94</td>\n",
       "      <td>15.0</td>\n",
       "      <td>-87.52</td>\n",
       "      <td>36.41</td>\n",
       "      <td>2025-08-26 19:59:59</td>\n",
       "      <td>0.0</td>\n",
       "    </tr>\n",
       "    <tr>\n",
       "      <th>304</th>\n",
       "      <td>baba</td>\n",
       "      <td>put</td>\n",
       "      <td>2026-03-20</td>\n",
       "      <td>100.0</td>\n",
       "      <td>124.19</td>\n",
       "      <td>3.32</td>\n",
       "      <td>15.0</td>\n",
       "      <td>-81.06</td>\n",
       "      <td>35.61</td>\n",
       "      <td>2025-08-26 19:59:59</td>\n",
       "      <td>3.0</td>\n",
       "    </tr>\n",
       "    <tr>\n",
       "      <th>305</th>\n",
       "      <td>baba</td>\n",
       "      <td>put</td>\n",
       "      <td>2026-03-20</td>\n",
       "      <td>97.5</td>\n",
       "      <td>124.19</td>\n",
       "      <td>5.25</td>\n",
       "      <td>15.0</td>\n",
       "      <td>NA</td>\n",
       "      <td>0.00</td>\n",
       "      <td>None</td>\n",
       "      <td>0.0</td>\n",
       "    </tr>\n",
       "  </tbody>\n",
       "</table>\n",
       "<p>306 rows × 11 columns</p>\n",
       "</div>"
      ],
      "text/plain": [
       "    Ticker Option Type  Expiration  Strike  Underlying Price  Current Premium  \\\n",
       "0     nvda        call  2025-11-21   220.0            181.77             3.70   \n",
       "1     nvda        call  2025-11-21   210.0            181.77             5.53   \n",
       "2     nvda        call  2025-12-19   218.0            181.77             5.62   \n",
       "3     nvda        call  2025-12-19   219.0            181.77             5.43   \n",
       "4     crwd        call  2025-11-21   500.0            417.60            10.15   \n",
       "..     ...         ...         ...     ...               ...              ...   \n",
       "301    gap         put  2026-03-20    18.0             21.58             1.51   \n",
       "302   baba         put  2026-02-20   100.0            124.19             2.87   \n",
       "303   baba         put  2026-02-20    95.0            124.19             1.94   \n",
       "304   baba         put  2026-03-20   100.0            124.19             3.32   \n",
       "305   baba         put  2026-03-20    97.5            124.19             5.25   \n",
       "\n",
       "     Underlying Gain % Premium % Gain  Implied Volatility  \\\n",
       "0                 15.0          90.48               39.90   \n",
       "1                 15.0         100.86               39.95   \n",
       "2                 15.0          99.41               39.44   \n",
       "3                 15.0          99.29               39.43   \n",
       "4                 15.0          86.35               41.19   \n",
       "..                 ...            ...                 ...   \n",
       "301               15.0         -64.09               50.43   \n",
       "302               15.0          -84.8               36.16   \n",
       "303               15.0         -87.52               36.41   \n",
       "304               15.0         -81.06               35.61   \n",
       "305               15.0             NA                0.00   \n",
       "\n",
       "                Bid Date  Volume  \n",
       "0    2025-08-26 20:00:00  2909.0  \n",
       "1    2025-08-26 19:59:59  1396.0  \n",
       "2    2025-08-26 19:59:59    13.0  \n",
       "3    2025-08-26 19:59:59    34.0  \n",
       "4    2025-08-26 19:59:59   131.0  \n",
       "..                   ...     ...  \n",
       "301  2025-08-26 19:59:59     0.0  \n",
       "302  2025-08-26 19:59:59    41.0  \n",
       "303  2025-08-26 19:59:59     0.0  \n",
       "304  2025-08-26 19:59:59     3.0  \n",
       "305                 None     0.0  \n",
       "\n",
       "[306 rows x 11 columns]"
      ]
     },
     "metadata": {},
     "output_type": "display_data"
    }
   ],
   "source": [
    "dfHighlights = highlightsTable(dfOptions)\n",
    "display(dfHighlights)"
   ]
  },
  {
   "cell_type": "code",
   "execution_count": 9,
   "id": "844e2e7a-487d-45ac-9c8b-499074b7444e",
   "metadata": {},
   "outputs": [],
   "source": [
    "dfHighlights.to_csv('optionsHighlights.csv', index=False)\n"
   ]
  },
  {
   "cell_type": "code",
   "execution_count": 10,
   "id": "15f5280a-6ade-467d-8344-900b4246da8c",
   "metadata": {},
   "outputs": [],
   "source": [
    "def screener_parameter_builder(days_groups, call_stock_gains, put_stock_gains, itm_strikes, otm_strikes, tickers, days_to_gain_pcts, option_types):\n",
    "    \"\"\"\n",
    "    Builds the scenarios list without running the analysis.\n",
    "    Allows specifying call/put separately and their own stock gain lists.\n",
    "    \n",
    "    Args:\n",
    "        days_groups (list[int]): days until expiration periods\n",
    "        call_stock_gains (list[float]): stock gains for calls\n",
    "        put_stock_gains (list[float]): stock gains for puts\n",
    "        itm_strikes (list[float]): ITM strike adjustments\n",
    "        otm_strikes (list[float]): OTM strike adjustments\n",
    "        tickers (list[str]): ticker symbols\n",
    "        days_to_gain_pcts (list[float]): percentages of days_until_exp for days_to_gain\n",
    "        option_types (list[str]): [\"call\"], [\"put\"], or [\"call\", \"put\"]\n",
    "        \n",
    "    Returns:\n",
    "        list[dict]: parameter sets\n",
    "    \"\"\"\n",
    "    scenarios = []\n",
    "\n",
    "    for days in days_groups:\n",
    "        for pct in days_to_gain_pcts:\n",
    "            days_to_gain = max(1, int(days * pct))\n",
    "\n",
    "            if \"call\" in option_types:\n",
    "                for sg in call_stock_gains:\n",
    "                    # Calls ITM\n",
    "                    for strike in itm_strikes:\n",
    "                        scenarios.append({\n",
    "                            \"tickers\": tickers,\n",
    "                            \"option_type\": \"call\",\n",
    "                            \"days_until_exp\": days,\n",
    "                            \"strike_pct\": strike,\n",
    "                            \"days_to_gain\": days_to_gain,\n",
    "                            \"stock_gain_pct\": sg,\n",
    "                            \"allocation\": 100,\n",
    "                            \"label\": f\"{days}d({int(pct*100)}%) Call ITM strike{strike} {'+' if sg>0 else ''}{int(sg*100)}%\"\n",
    "                        })\n",
    "                    # Calls OTM\n",
    "                    for strike in otm_strikes:\n",
    "                        scenarios.append({\n",
    "                            \"tickers\": tickers,\n",
    "                            \"option_type\": \"call\",\n",
    "                            \"days_until_exp\": days,\n",
    "                            \"strike_pct\": strike,\n",
    "                            \"days_to_gain\": days_to_gain,\n",
    "                            \"stock_gain_pct\": sg,\n",
    "                            \"allocation\": 100,\n",
    "                            \"label\": f\"{days}d({int(pct*100)}%) Call OTM strike{strike} {'+' if sg>0 else ''}{int(sg*100)}%\"\n",
    "                        })\n",
    "\n",
    "            if \"put\" in option_types:\n",
    "                for sg in put_stock_gains:\n",
    "                    # Puts ITM\n",
    "                    for strike in itm_strikes:\n",
    "                        scenarios.append({\n",
    "                            \"tickers\": tickers,\n",
    "                            \"option_type\": \"put\",\n",
    "                            \"days_until_exp\": days,\n",
    "                            \"strike_pct\": strike,\n",
    "                            \"days_to_gain\": days_to_gain,\n",
    "                            \"stock_gain_pct\": sg,\n",
    "                            \"allocation\": 100,\n",
    "                            \"label\": f\"{days}d({int(pct*100)}%) Put ITM strike{strike} {'+' if sg>0 else ''}{int(sg*100)}%\"\n",
    "                        })\n",
    "                    # Puts OTM\n",
    "                    for strike in otm_strikes:\n",
    "                        scenarios.append({\n",
    "                            \"tickers\": tickers,\n",
    "                            \"option_type\": \"put\",\n",
    "                            \"days_until_exp\": days,\n",
    "                            \"strike_pct\": strike,\n",
    "                            \"days_to_gain\": days_to_gain,\n",
    "                            \"stock_gain_pct\": sg,\n",
    "                            \"allocation\": 100,\n",
    "                            \"label\": f\"{days}d({int(pct*100)}%) Put OTM strike{strike} {'+' if sg>0 else ''}{int(sg*100)}%\"\n",
    "                        })\n",
    "\n",
    "    print(f\"\\n✅ Total parameter sets generated: {len(scenarios)}\")\n",
    "    print(f\"🔎 First 3 parameter sets for inspection:\\n\")\n",
    "    for param in scenarios[:3]:\n",
    "        print(param)\n",
    "        print(\"-\" * 80)\n",
    "\n",
    "    return scenarios\n",
    "\n",
    "\n",
    "\n",
    "\n",
    "def basic_screener(days_groups, call_stock_gains, put_stock_gains, itm_strikes, otm_strikes, tickers, days_to_gain_pcts, option_types):\n",
    "    \"\"\"\n",
    "    Calls screener_parameter_builder to get scenarios, then runs the analysis.\n",
    "    Returns the combined DataFrame of results.\n",
    "    \"\"\"\n",
    "    param_sets = screener_parameter_builder(\n",
    "        days_groups, call_stock_gains, put_stock_gains, itm_strikes, otm_strikes, tickers, days_to_gain_pcts, option_types\n",
    "    )\n",
    "    return run_multiple_analyses(param_sets)\n"
   ]
  },
  {
   "cell_type": "code",
   "execution_count": 11,
   "id": "6202f693-99e2-425f-8a9a-e879ce261d93",
   "metadata": {},
   "outputs": [
    {
     "name": "stdout",
     "output_type": "stream",
     "text": [
      "\n",
      "✅ Total parameter sets generated: 280\n",
      "🔎 First 3 parameter sets for inspection:\n",
      "\n",
      "{'tickers': ['nvda', 'crwd', 'snow', 'five', 'bby', 'dg', 'dks', 'dell', 'afrm', 'mrvl', 'ulta', 'adsk', 'gap', 'baba', 'td'], 'option_type': 'call', 'days_until_exp': 90, 'strike_pct': -0.1, 'days_to_gain': 18, 'stock_gain_pct': 0.1, 'allocation': 100, 'label': '90d(20%) Call ITM strike-0.1 +10%'}\n",
      "--------------------------------------------------------------------------------\n",
      "{'tickers': ['nvda', 'crwd', 'snow', 'five', 'bby', 'dg', 'dks', 'dell', 'afrm', 'mrvl', 'ulta', 'adsk', 'gap', 'baba', 'td'], 'option_type': 'call', 'days_until_exp': 90, 'strike_pct': -0.5, 'days_to_gain': 18, 'stock_gain_pct': 0.1, 'allocation': 100, 'label': '90d(20%) Call ITM strike-0.5 +10%'}\n",
      "--------------------------------------------------------------------------------\n",
      "{'tickers': ['nvda', 'crwd', 'snow', 'five', 'bby', 'dg', 'dks', 'dell', 'afrm', 'mrvl', 'ulta', 'adsk', 'gap', 'baba', 'td'], 'option_type': 'call', 'days_until_exp': 90, 'strike_pct': 0.2, 'days_to_gain': 18, 'stock_gain_pct': 0.1, 'allocation': 100, 'label': '90d(20%) Call OTM strike0.2 +10%'}\n",
      "--------------------------------------------------------------------------------\n"
     ]
    },
    {
     "data": {
      "text/plain": [
       "[{'tickers': ['nvda',\n",
       "   'crwd',\n",
       "   'snow',\n",
       "   'five',\n",
       "   'bby',\n",
       "   'dg',\n",
       "   'dks',\n",
       "   'dell',\n",
       "   'afrm',\n",
       "   'mrvl',\n",
       "   'ulta',\n",
       "   'adsk',\n",
       "   'gap',\n",
       "   'baba',\n",
       "   'td'],\n",
       "  'option_type': 'call',\n",
       "  'days_until_exp': 90,\n",
       "  'strike_pct': -0.1,\n",
       "  'days_to_gain': 18,\n",
       "  'stock_gain_pct': 0.1,\n",
       "  'allocation': 100,\n",
       "  'label': '90d(20%) Call ITM strike-0.1 +10%'},\n",
       " {'tickers': ['nvda',\n",
       "   'crwd',\n",
       "   'snow',\n",
       "   'five',\n",
       "   'bby',\n",
       "   'dg',\n",
       "   'dks',\n",
       "   'dell',\n",
       "   'afrm',\n",
       "   'mrvl',\n",
       "   'ulta',\n",
       "   'adsk',\n",
       "   'gap',\n",
       "   'baba',\n",
       "   'td'],\n",
       "  'option_type': 'call',\n",
       "  'days_until_exp': 90,\n",
       "  'strike_pct': -0.5,\n",
       "  'days_to_gain': 18,\n",
       "  'stock_gain_pct': 0.1,\n",
       "  'allocation': 100,\n",
       "  'label': '90d(20%) Call ITM strike-0.5 +10%'},\n",
       " {'tickers': ['nvda',\n",
       "   'crwd',\n",
       "   'snow',\n",
       "   'five',\n",
       "   'bby',\n",
       "   'dg',\n",
       "   'dks',\n",
       "   'dell',\n",
       "   'afrm',\n",
       "   'mrvl',\n",
       "   'ulta',\n",
       "   'adsk',\n",
       "   'gap',\n",
       "   'baba',\n",
       "   'td'],\n",
       "  'option_type': 'call',\n",
       "  'days_until_exp': 90,\n",
       "  'strike_pct': 0.2,\n",
       "  'days_to_gain': 18,\n",
       "  'stock_gain_pct': 0.1,\n",
       "  'allocation': 100,\n",
       "  'label': '90d(20%) Call OTM strike0.2 +10%'},\n",
       " {'tickers': ['nvda',\n",
       "   'crwd',\n",
       "   'snow',\n",
       "   'five',\n",
       "   'bby',\n",
       "   'dg',\n",
       "   'dks',\n",
       "   'dell',\n",
       "   'afrm',\n",
       "   'mrvl',\n",
       "   'ulta',\n",
       "   'adsk',\n",
       "   'gap',\n",
       "   'baba',\n",
       "   'td'],\n",
       "  'option_type': 'call',\n",
       "  'days_until_exp': 90,\n",
       "  'strike_pct': 0.5,\n",
       "  'days_to_gain': 18,\n",
       "  'stock_gain_pct': 0.1,\n",
       "  'allocation': 100,\n",
       "  'label': '90d(20%) Call OTM strike0.5 +10%'},\n",
       " {'tickers': ['nvda',\n",
       "   'crwd',\n",
       "   'snow',\n",
       "   'five',\n",
       "   'bby',\n",
       "   'dg',\n",
       "   'dks',\n",
       "   'dell',\n",
       "   'afrm',\n",
       "   'mrvl',\n",
       "   'ulta',\n",
       "   'adsk',\n",
       "   'gap',\n",
       "   'baba',\n",
       "   'td'],\n",
       "  'option_type': 'call',\n",
       "  'days_until_exp': 90,\n",
       "  'strike_pct': 0.9,\n",
       "  'days_to_gain': 18,\n",
       "  'stock_gain_pct': 0.1,\n",
       "  'allocation': 100,\n",
       "  'label': '90d(20%) Call OTM strike0.9 +10%'},\n",
       " {'tickers': ['nvda',\n",
       "   'crwd',\n",
       "   'snow',\n",
       "   'five',\n",
       "   'bby',\n",
       "   'dg',\n",
       "   'dks',\n",
       "   'dell',\n",
       "   'afrm',\n",
       "   'mrvl',\n",
       "   'ulta',\n",
       "   'adsk',\n",
       "   'gap',\n",
       "   'baba',\n",
       "   'td'],\n",
       "  'option_type': 'call',\n",
       "  'days_until_exp': 90,\n",
       "  'strike_pct': -0.1,\n",
       "  'days_to_gain': 18,\n",
       "  'stock_gain_pct': 0.2,\n",
       "  'allocation': 100,\n",
       "  'label': '90d(20%) Call ITM strike-0.1 +20%'},\n",
       " {'tickers': ['nvda',\n",
       "   'crwd',\n",
       "   'snow',\n",
       "   'five',\n",
       "   'bby',\n",
       "   'dg',\n",
       "   'dks',\n",
       "   'dell',\n",
       "   'afrm',\n",
       "   'mrvl',\n",
       "   'ulta',\n",
       "   'adsk',\n",
       "   'gap',\n",
       "   'baba',\n",
       "   'td'],\n",
       "  'option_type': 'call',\n",
       "  'days_until_exp': 90,\n",
       "  'strike_pct': -0.5,\n",
       "  'days_to_gain': 18,\n",
       "  'stock_gain_pct': 0.2,\n",
       "  'allocation': 100,\n",
       "  'label': '90d(20%) Call ITM strike-0.5 +20%'},\n",
       " {'tickers': ['nvda',\n",
       "   'crwd',\n",
       "   'snow',\n",
       "   'five',\n",
       "   'bby',\n",
       "   'dg',\n",
       "   'dks',\n",
       "   'dell',\n",
       "   'afrm',\n",
       "   'mrvl',\n",
       "   'ulta',\n",
       "   'adsk',\n",
       "   'gap',\n",
       "   'baba',\n",
       "   'td'],\n",
       "  'option_type': 'call',\n",
       "  'days_until_exp': 90,\n",
       "  'strike_pct': 0.2,\n",
       "  'days_to_gain': 18,\n",
       "  'stock_gain_pct': 0.2,\n",
       "  'allocation': 100,\n",
       "  'label': '90d(20%) Call OTM strike0.2 +20%'},\n",
       " {'tickers': ['nvda',\n",
       "   'crwd',\n",
       "   'snow',\n",
       "   'five',\n",
       "   'bby',\n",
       "   'dg',\n",
       "   'dks',\n",
       "   'dell',\n",
       "   'afrm',\n",
       "   'mrvl',\n",
       "   'ulta',\n",
       "   'adsk',\n",
       "   'gap',\n",
       "   'baba',\n",
       "   'td'],\n",
       "  'option_type': 'call',\n",
       "  'days_until_exp': 90,\n",
       "  'strike_pct': 0.5,\n",
       "  'days_to_gain': 18,\n",
       "  'stock_gain_pct': 0.2,\n",
       "  'allocation': 100,\n",
       "  'label': '90d(20%) Call OTM strike0.5 +20%'},\n",
       " {'tickers': ['nvda',\n",
       "   'crwd',\n",
       "   'snow',\n",
       "   'five',\n",
       "   'bby',\n",
       "   'dg',\n",
       "   'dks',\n",
       "   'dell',\n",
       "   'afrm',\n",
       "   'mrvl',\n",
       "   'ulta',\n",
       "   'adsk',\n",
       "   'gap',\n",
       "   'baba',\n",
       "   'td'],\n",
       "  'option_type': 'call',\n",
       "  'days_until_exp': 90,\n",
       "  'strike_pct': 0.9,\n",
       "  'days_to_gain': 18,\n",
       "  'stock_gain_pct': 0.2,\n",
       "  'allocation': 100,\n",
       "  'label': '90d(20%) Call OTM strike0.9 +20%'},\n",
       " {'tickers': ['nvda',\n",
       "   'crwd',\n",
       "   'snow',\n",
       "   'five',\n",
       "   'bby',\n",
       "   'dg',\n",
       "   'dks',\n",
       "   'dell',\n",
       "   'afrm',\n",
       "   'mrvl',\n",
       "   'ulta',\n",
       "   'adsk',\n",
       "   'gap',\n",
       "   'baba',\n",
       "   'td'],\n",
       "  'option_type': 'call',\n",
       "  'days_until_exp': 90,\n",
       "  'strike_pct': -0.1,\n",
       "  'days_to_gain': 18,\n",
       "  'stock_gain_pct': 0.5,\n",
       "  'allocation': 100,\n",
       "  'label': '90d(20%) Call ITM strike-0.1 +50%'},\n",
       " {'tickers': ['nvda',\n",
       "   'crwd',\n",
       "   'snow',\n",
       "   'five',\n",
       "   'bby',\n",
       "   'dg',\n",
       "   'dks',\n",
       "   'dell',\n",
       "   'afrm',\n",
       "   'mrvl',\n",
       "   'ulta',\n",
       "   'adsk',\n",
       "   'gap',\n",
       "   'baba',\n",
       "   'td'],\n",
       "  'option_type': 'call',\n",
       "  'days_until_exp': 90,\n",
       "  'strike_pct': -0.5,\n",
       "  'days_to_gain': 18,\n",
       "  'stock_gain_pct': 0.5,\n",
       "  'allocation': 100,\n",
       "  'label': '90d(20%) Call ITM strike-0.5 +50%'},\n",
       " {'tickers': ['nvda',\n",
       "   'crwd',\n",
       "   'snow',\n",
       "   'five',\n",
       "   'bby',\n",
       "   'dg',\n",
       "   'dks',\n",
       "   'dell',\n",
       "   'afrm',\n",
       "   'mrvl',\n",
       "   'ulta',\n",
       "   'adsk',\n",
       "   'gap',\n",
       "   'baba',\n",
       "   'td'],\n",
       "  'option_type': 'call',\n",
       "  'days_until_exp': 90,\n",
       "  'strike_pct': 0.2,\n",
       "  'days_to_gain': 18,\n",
       "  'stock_gain_pct': 0.5,\n",
       "  'allocation': 100,\n",
       "  'label': '90d(20%) Call OTM strike0.2 +50%'},\n",
       " {'tickers': ['nvda',\n",
       "   'crwd',\n",
       "   'snow',\n",
       "   'five',\n",
       "   'bby',\n",
       "   'dg',\n",
       "   'dks',\n",
       "   'dell',\n",
       "   'afrm',\n",
       "   'mrvl',\n",
       "   'ulta',\n",
       "   'adsk',\n",
       "   'gap',\n",
       "   'baba',\n",
       "   'td'],\n",
       "  'option_type': 'call',\n",
       "  'days_until_exp': 90,\n",
       "  'strike_pct': 0.5,\n",
       "  'days_to_gain': 18,\n",
       "  'stock_gain_pct': 0.5,\n",
       "  'allocation': 100,\n",
       "  'label': '90d(20%) Call OTM strike0.5 +50%'},\n",
       " {'tickers': ['nvda',\n",
       "   'crwd',\n",
       "   'snow',\n",
       "   'five',\n",
       "   'bby',\n",
       "   'dg',\n",
       "   'dks',\n",
       "   'dell',\n",
       "   'afrm',\n",
       "   'mrvl',\n",
       "   'ulta',\n",
       "   'adsk',\n",
       "   'gap',\n",
       "   'baba',\n",
       "   'td'],\n",
       "  'option_type': 'call',\n",
       "  'days_until_exp': 90,\n",
       "  'strike_pct': 0.9,\n",
       "  'days_to_gain': 18,\n",
       "  'stock_gain_pct': 0.5,\n",
       "  'allocation': 100,\n",
       "  'label': '90d(20%) Call OTM strike0.9 +50%'},\n",
       " {'tickers': ['nvda',\n",
       "   'crwd',\n",
       "   'snow',\n",
       "   'five',\n",
       "   'bby',\n",
       "   'dg',\n",
       "   'dks',\n",
       "   'dell',\n",
       "   'afrm',\n",
       "   'mrvl',\n",
       "   'ulta',\n",
       "   'adsk',\n",
       "   'gap',\n",
       "   'baba',\n",
       "   'td'],\n",
       "  'option_type': 'call',\n",
       "  'days_until_exp': 90,\n",
       "  'strike_pct': -0.1,\n",
       "  'days_to_gain': 18,\n",
       "  'stock_gain_pct': -0.2,\n",
       "  'allocation': 100,\n",
       "  'label': '90d(20%) Call ITM strike-0.1 -20%'},\n",
       " {'tickers': ['nvda',\n",
       "   'crwd',\n",
       "   'snow',\n",
       "   'five',\n",
       "   'bby',\n",
       "   'dg',\n",
       "   'dks',\n",
       "   'dell',\n",
       "   'afrm',\n",
       "   'mrvl',\n",
       "   'ulta',\n",
       "   'adsk',\n",
       "   'gap',\n",
       "   'baba',\n",
       "   'td'],\n",
       "  'option_type': 'call',\n",
       "  'days_until_exp': 90,\n",
       "  'strike_pct': -0.5,\n",
       "  'days_to_gain': 18,\n",
       "  'stock_gain_pct': -0.2,\n",
       "  'allocation': 100,\n",
       "  'label': '90d(20%) Call ITM strike-0.5 -20%'},\n",
       " {'tickers': ['nvda',\n",
       "   'crwd',\n",
       "   'snow',\n",
       "   'five',\n",
       "   'bby',\n",
       "   'dg',\n",
       "   'dks',\n",
       "   'dell',\n",
       "   'afrm',\n",
       "   'mrvl',\n",
       "   'ulta',\n",
       "   'adsk',\n",
       "   'gap',\n",
       "   'baba',\n",
       "   'td'],\n",
       "  'option_type': 'call',\n",
       "  'days_until_exp': 90,\n",
       "  'strike_pct': 0.2,\n",
       "  'days_to_gain': 18,\n",
       "  'stock_gain_pct': -0.2,\n",
       "  'allocation': 100,\n",
       "  'label': '90d(20%) Call OTM strike0.2 -20%'},\n",
       " {'tickers': ['nvda',\n",
       "   'crwd',\n",
       "   'snow',\n",
       "   'five',\n",
       "   'bby',\n",
       "   'dg',\n",
       "   'dks',\n",
       "   'dell',\n",
       "   'afrm',\n",
       "   'mrvl',\n",
       "   'ulta',\n",
       "   'adsk',\n",
       "   'gap',\n",
       "   'baba',\n",
       "   'td'],\n",
       "  'option_type': 'call',\n",
       "  'days_until_exp': 90,\n",
       "  'strike_pct': 0.5,\n",
       "  'days_to_gain': 18,\n",
       "  'stock_gain_pct': -0.2,\n",
       "  'allocation': 100,\n",
       "  'label': '90d(20%) Call OTM strike0.5 -20%'},\n",
       " {'tickers': ['nvda',\n",
       "   'crwd',\n",
       "   'snow',\n",
       "   'five',\n",
       "   'bby',\n",
       "   'dg',\n",
       "   'dks',\n",
       "   'dell',\n",
       "   'afrm',\n",
       "   'mrvl',\n",
       "   'ulta',\n",
       "   'adsk',\n",
       "   'gap',\n",
       "   'baba',\n",
       "   'td'],\n",
       "  'option_type': 'call',\n",
       "  'days_until_exp': 90,\n",
       "  'strike_pct': 0.9,\n",
       "  'days_to_gain': 18,\n",
       "  'stock_gain_pct': -0.2,\n",
       "  'allocation': 100,\n",
       "  'label': '90d(20%) Call OTM strike0.9 -20%'},\n",
       " {'tickers': ['nvda',\n",
       "   'crwd',\n",
       "   'snow',\n",
       "   'five',\n",
       "   'bby',\n",
       "   'dg',\n",
       "   'dks',\n",
       "   'dell',\n",
       "   'afrm',\n",
       "   'mrvl',\n",
       "   'ulta',\n",
       "   'adsk',\n",
       "   'gap',\n",
       "   'baba',\n",
       "   'td'],\n",
       "  'option_type': 'put',\n",
       "  'days_until_exp': 90,\n",
       "  'strike_pct': -0.1,\n",
       "  'days_to_gain': 18,\n",
       "  'stock_gain_pct': -0.1,\n",
       "  'allocation': 100,\n",
       "  'label': '90d(20%) Put ITM strike-0.1 -10%'},\n",
       " {'tickers': ['nvda',\n",
       "   'crwd',\n",
       "   'snow',\n",
       "   'five',\n",
       "   'bby',\n",
       "   'dg',\n",
       "   'dks',\n",
       "   'dell',\n",
       "   'afrm',\n",
       "   'mrvl',\n",
       "   'ulta',\n",
       "   'adsk',\n",
       "   'gap',\n",
       "   'baba',\n",
       "   'td'],\n",
       "  'option_type': 'put',\n",
       "  'days_until_exp': 90,\n",
       "  'strike_pct': -0.5,\n",
       "  'days_to_gain': 18,\n",
       "  'stock_gain_pct': -0.1,\n",
       "  'allocation': 100,\n",
       "  'label': '90d(20%) Put ITM strike-0.5 -10%'},\n",
       " {'tickers': ['nvda',\n",
       "   'crwd',\n",
       "   'snow',\n",
       "   'five',\n",
       "   'bby',\n",
       "   'dg',\n",
       "   'dks',\n",
       "   'dell',\n",
       "   'afrm',\n",
       "   'mrvl',\n",
       "   'ulta',\n",
       "   'adsk',\n",
       "   'gap',\n",
       "   'baba',\n",
       "   'td'],\n",
       "  'option_type': 'put',\n",
       "  'days_until_exp': 90,\n",
       "  'strike_pct': 0.2,\n",
       "  'days_to_gain': 18,\n",
       "  'stock_gain_pct': -0.1,\n",
       "  'allocation': 100,\n",
       "  'label': '90d(20%) Put OTM strike0.2 -10%'},\n",
       " {'tickers': ['nvda',\n",
       "   'crwd',\n",
       "   'snow',\n",
       "   'five',\n",
       "   'bby',\n",
       "   'dg',\n",
       "   'dks',\n",
       "   'dell',\n",
       "   'afrm',\n",
       "   'mrvl',\n",
       "   'ulta',\n",
       "   'adsk',\n",
       "   'gap',\n",
       "   'baba',\n",
       "   'td'],\n",
       "  'option_type': 'put',\n",
       "  'days_until_exp': 90,\n",
       "  'strike_pct': 0.5,\n",
       "  'days_to_gain': 18,\n",
       "  'stock_gain_pct': -0.1,\n",
       "  'allocation': 100,\n",
       "  'label': '90d(20%) Put OTM strike0.5 -10%'},\n",
       " {'tickers': ['nvda',\n",
       "   'crwd',\n",
       "   'snow',\n",
       "   'five',\n",
       "   'bby',\n",
       "   'dg',\n",
       "   'dks',\n",
       "   'dell',\n",
       "   'afrm',\n",
       "   'mrvl',\n",
       "   'ulta',\n",
       "   'adsk',\n",
       "   'gap',\n",
       "   'baba',\n",
       "   'td'],\n",
       "  'option_type': 'put',\n",
       "  'days_until_exp': 90,\n",
       "  'strike_pct': 0.9,\n",
       "  'days_to_gain': 18,\n",
       "  'stock_gain_pct': -0.1,\n",
       "  'allocation': 100,\n",
       "  'label': '90d(20%) Put OTM strike0.9 -10%'},\n",
       " {'tickers': ['nvda',\n",
       "   'crwd',\n",
       "   'snow',\n",
       "   'five',\n",
       "   'bby',\n",
       "   'dg',\n",
       "   'dks',\n",
       "   'dell',\n",
       "   'afrm',\n",
       "   'mrvl',\n",
       "   'ulta',\n",
       "   'adsk',\n",
       "   'gap',\n",
       "   'baba',\n",
       "   'td'],\n",
       "  'option_type': 'put',\n",
       "  'days_until_exp': 90,\n",
       "  'strike_pct': -0.1,\n",
       "  'days_to_gain': 18,\n",
       "  'stock_gain_pct': -0.2,\n",
       "  'allocation': 100,\n",
       "  'label': '90d(20%) Put ITM strike-0.1 -20%'},\n",
       " {'tickers': ['nvda',\n",
       "   'crwd',\n",
       "   'snow',\n",
       "   'five',\n",
       "   'bby',\n",
       "   'dg',\n",
       "   'dks',\n",
       "   'dell',\n",
       "   'afrm',\n",
       "   'mrvl',\n",
       "   'ulta',\n",
       "   'adsk',\n",
       "   'gap',\n",
       "   'baba',\n",
       "   'td'],\n",
       "  'option_type': 'put',\n",
       "  'days_until_exp': 90,\n",
       "  'strike_pct': -0.5,\n",
       "  'days_to_gain': 18,\n",
       "  'stock_gain_pct': -0.2,\n",
       "  'allocation': 100,\n",
       "  'label': '90d(20%) Put ITM strike-0.5 -20%'},\n",
       " {'tickers': ['nvda',\n",
       "   'crwd',\n",
       "   'snow',\n",
       "   'five',\n",
       "   'bby',\n",
       "   'dg',\n",
       "   'dks',\n",
       "   'dell',\n",
       "   'afrm',\n",
       "   'mrvl',\n",
       "   'ulta',\n",
       "   'adsk',\n",
       "   'gap',\n",
       "   'baba',\n",
       "   'td'],\n",
       "  'option_type': 'put',\n",
       "  'days_until_exp': 90,\n",
       "  'strike_pct': 0.2,\n",
       "  'days_to_gain': 18,\n",
       "  'stock_gain_pct': -0.2,\n",
       "  'allocation': 100,\n",
       "  'label': '90d(20%) Put OTM strike0.2 -20%'},\n",
       " {'tickers': ['nvda',\n",
       "   'crwd',\n",
       "   'snow',\n",
       "   'five',\n",
       "   'bby',\n",
       "   'dg',\n",
       "   'dks',\n",
       "   'dell',\n",
       "   'afrm',\n",
       "   'mrvl',\n",
       "   'ulta',\n",
       "   'adsk',\n",
       "   'gap',\n",
       "   'baba',\n",
       "   'td'],\n",
       "  'option_type': 'put',\n",
       "  'days_until_exp': 90,\n",
       "  'strike_pct': 0.5,\n",
       "  'days_to_gain': 18,\n",
       "  'stock_gain_pct': -0.2,\n",
       "  'allocation': 100,\n",
       "  'label': '90d(20%) Put OTM strike0.5 -20%'},\n",
       " {'tickers': ['nvda',\n",
       "   'crwd',\n",
       "   'snow',\n",
       "   'five',\n",
       "   'bby',\n",
       "   'dg',\n",
       "   'dks',\n",
       "   'dell',\n",
       "   'afrm',\n",
       "   'mrvl',\n",
       "   'ulta',\n",
       "   'adsk',\n",
       "   'gap',\n",
       "   'baba',\n",
       "   'td'],\n",
       "  'option_type': 'put',\n",
       "  'days_until_exp': 90,\n",
       "  'strike_pct': 0.9,\n",
       "  'days_to_gain': 18,\n",
       "  'stock_gain_pct': -0.2,\n",
       "  'allocation': 100,\n",
       "  'label': '90d(20%) Put OTM strike0.9 -20%'},\n",
       " {'tickers': ['nvda',\n",
       "   'crwd',\n",
       "   'snow',\n",
       "   'five',\n",
       "   'bby',\n",
       "   'dg',\n",
       "   'dks',\n",
       "   'dell',\n",
       "   'afrm',\n",
       "   'mrvl',\n",
       "   'ulta',\n",
       "   'adsk',\n",
       "   'gap',\n",
       "   'baba',\n",
       "   'td'],\n",
       "  'option_type': 'put',\n",
       "  'days_until_exp': 90,\n",
       "  'strike_pct': -0.1,\n",
       "  'days_to_gain': 18,\n",
       "  'stock_gain_pct': 0.2,\n",
       "  'allocation': 100,\n",
       "  'label': '90d(20%) Put ITM strike-0.1 +20%'},\n",
       " {'tickers': ['nvda',\n",
       "   'crwd',\n",
       "   'snow',\n",
       "   'five',\n",
       "   'bby',\n",
       "   'dg',\n",
       "   'dks',\n",
       "   'dell',\n",
       "   'afrm',\n",
       "   'mrvl',\n",
       "   'ulta',\n",
       "   'adsk',\n",
       "   'gap',\n",
       "   'baba',\n",
       "   'td'],\n",
       "  'option_type': 'put',\n",
       "  'days_until_exp': 90,\n",
       "  'strike_pct': -0.5,\n",
       "  'days_to_gain': 18,\n",
       "  'stock_gain_pct': 0.2,\n",
       "  'allocation': 100,\n",
       "  'label': '90d(20%) Put ITM strike-0.5 +20%'},\n",
       " {'tickers': ['nvda',\n",
       "   'crwd',\n",
       "   'snow',\n",
       "   'five',\n",
       "   'bby',\n",
       "   'dg',\n",
       "   'dks',\n",
       "   'dell',\n",
       "   'afrm',\n",
       "   'mrvl',\n",
       "   'ulta',\n",
       "   'adsk',\n",
       "   'gap',\n",
       "   'baba',\n",
       "   'td'],\n",
       "  'option_type': 'put',\n",
       "  'days_until_exp': 90,\n",
       "  'strike_pct': 0.2,\n",
       "  'days_to_gain': 18,\n",
       "  'stock_gain_pct': 0.2,\n",
       "  'allocation': 100,\n",
       "  'label': '90d(20%) Put OTM strike0.2 +20%'},\n",
       " {'tickers': ['nvda',\n",
       "   'crwd',\n",
       "   'snow',\n",
       "   'five',\n",
       "   'bby',\n",
       "   'dg',\n",
       "   'dks',\n",
       "   'dell',\n",
       "   'afrm',\n",
       "   'mrvl',\n",
       "   'ulta',\n",
       "   'adsk',\n",
       "   'gap',\n",
       "   'baba',\n",
       "   'td'],\n",
       "  'option_type': 'put',\n",
       "  'days_until_exp': 90,\n",
       "  'strike_pct': 0.5,\n",
       "  'days_to_gain': 18,\n",
       "  'stock_gain_pct': 0.2,\n",
       "  'allocation': 100,\n",
       "  'label': '90d(20%) Put OTM strike0.5 +20%'},\n",
       " {'tickers': ['nvda',\n",
       "   'crwd',\n",
       "   'snow',\n",
       "   'five',\n",
       "   'bby',\n",
       "   'dg',\n",
       "   'dks',\n",
       "   'dell',\n",
       "   'afrm',\n",
       "   'mrvl',\n",
       "   'ulta',\n",
       "   'adsk',\n",
       "   'gap',\n",
       "   'baba',\n",
       "   'td'],\n",
       "  'option_type': 'put',\n",
       "  'days_until_exp': 90,\n",
       "  'strike_pct': 0.9,\n",
       "  'days_to_gain': 18,\n",
       "  'stock_gain_pct': 0.2,\n",
       "  'allocation': 100,\n",
       "  'label': '90d(20%) Put OTM strike0.9 +20%'},\n",
       " {'tickers': ['nvda',\n",
       "   'crwd',\n",
       "   'snow',\n",
       "   'five',\n",
       "   'bby',\n",
       "   'dg',\n",
       "   'dks',\n",
       "   'dell',\n",
       "   'afrm',\n",
       "   'mrvl',\n",
       "   'ulta',\n",
       "   'adsk',\n",
       "   'gap',\n",
       "   'baba',\n",
       "   'td'],\n",
       "  'option_type': 'call',\n",
       "  'days_until_exp': 90,\n",
       "  'strike_pct': -0.1,\n",
       "  'days_to_gain': 45,\n",
       "  'stock_gain_pct': 0.1,\n",
       "  'allocation': 100,\n",
       "  'label': '90d(50%) Call ITM strike-0.1 +10%'},\n",
       " {'tickers': ['nvda',\n",
       "   'crwd',\n",
       "   'snow',\n",
       "   'five',\n",
       "   'bby',\n",
       "   'dg',\n",
       "   'dks',\n",
       "   'dell',\n",
       "   'afrm',\n",
       "   'mrvl',\n",
       "   'ulta',\n",
       "   'adsk',\n",
       "   'gap',\n",
       "   'baba',\n",
       "   'td'],\n",
       "  'option_type': 'call',\n",
       "  'days_until_exp': 90,\n",
       "  'strike_pct': -0.5,\n",
       "  'days_to_gain': 45,\n",
       "  'stock_gain_pct': 0.1,\n",
       "  'allocation': 100,\n",
       "  'label': '90d(50%) Call ITM strike-0.5 +10%'},\n",
       " {'tickers': ['nvda',\n",
       "   'crwd',\n",
       "   'snow',\n",
       "   'five',\n",
       "   'bby',\n",
       "   'dg',\n",
       "   'dks',\n",
       "   'dell',\n",
       "   'afrm',\n",
       "   'mrvl',\n",
       "   'ulta',\n",
       "   'adsk',\n",
       "   'gap',\n",
       "   'baba',\n",
       "   'td'],\n",
       "  'option_type': 'call',\n",
       "  'days_until_exp': 90,\n",
       "  'strike_pct': 0.2,\n",
       "  'days_to_gain': 45,\n",
       "  'stock_gain_pct': 0.1,\n",
       "  'allocation': 100,\n",
       "  'label': '90d(50%) Call OTM strike0.2 +10%'},\n",
       " {'tickers': ['nvda',\n",
       "   'crwd',\n",
       "   'snow',\n",
       "   'five',\n",
       "   'bby',\n",
       "   'dg',\n",
       "   'dks',\n",
       "   'dell',\n",
       "   'afrm',\n",
       "   'mrvl',\n",
       "   'ulta',\n",
       "   'adsk',\n",
       "   'gap',\n",
       "   'baba',\n",
       "   'td'],\n",
       "  'option_type': 'call',\n",
       "  'days_until_exp': 90,\n",
       "  'strike_pct': 0.5,\n",
       "  'days_to_gain': 45,\n",
       "  'stock_gain_pct': 0.1,\n",
       "  'allocation': 100,\n",
       "  'label': '90d(50%) Call OTM strike0.5 +10%'},\n",
       " {'tickers': ['nvda',\n",
       "   'crwd',\n",
       "   'snow',\n",
       "   'five',\n",
       "   'bby',\n",
       "   'dg',\n",
       "   'dks',\n",
       "   'dell',\n",
       "   'afrm',\n",
       "   'mrvl',\n",
       "   'ulta',\n",
       "   'adsk',\n",
       "   'gap',\n",
       "   'baba',\n",
       "   'td'],\n",
       "  'option_type': 'call',\n",
       "  'days_until_exp': 90,\n",
       "  'strike_pct': 0.9,\n",
       "  'days_to_gain': 45,\n",
       "  'stock_gain_pct': 0.1,\n",
       "  'allocation': 100,\n",
       "  'label': '90d(50%) Call OTM strike0.9 +10%'},\n",
       " {'tickers': ['nvda',\n",
       "   'crwd',\n",
       "   'snow',\n",
       "   'five',\n",
       "   'bby',\n",
       "   'dg',\n",
       "   'dks',\n",
       "   'dell',\n",
       "   'afrm',\n",
       "   'mrvl',\n",
       "   'ulta',\n",
       "   'adsk',\n",
       "   'gap',\n",
       "   'baba',\n",
       "   'td'],\n",
       "  'option_type': 'call',\n",
       "  'days_until_exp': 90,\n",
       "  'strike_pct': -0.1,\n",
       "  'days_to_gain': 45,\n",
       "  'stock_gain_pct': 0.2,\n",
       "  'allocation': 100,\n",
       "  'label': '90d(50%) Call ITM strike-0.1 +20%'},\n",
       " {'tickers': ['nvda',\n",
       "   'crwd',\n",
       "   'snow',\n",
       "   'five',\n",
       "   'bby',\n",
       "   'dg',\n",
       "   'dks',\n",
       "   'dell',\n",
       "   'afrm',\n",
       "   'mrvl',\n",
       "   'ulta',\n",
       "   'adsk',\n",
       "   'gap',\n",
       "   'baba',\n",
       "   'td'],\n",
       "  'option_type': 'call',\n",
       "  'days_until_exp': 90,\n",
       "  'strike_pct': -0.5,\n",
       "  'days_to_gain': 45,\n",
       "  'stock_gain_pct': 0.2,\n",
       "  'allocation': 100,\n",
       "  'label': '90d(50%) Call ITM strike-0.5 +20%'},\n",
       " {'tickers': ['nvda',\n",
       "   'crwd',\n",
       "   'snow',\n",
       "   'five',\n",
       "   'bby',\n",
       "   'dg',\n",
       "   'dks',\n",
       "   'dell',\n",
       "   'afrm',\n",
       "   'mrvl',\n",
       "   'ulta',\n",
       "   'adsk',\n",
       "   'gap',\n",
       "   'baba',\n",
       "   'td'],\n",
       "  'option_type': 'call',\n",
       "  'days_until_exp': 90,\n",
       "  'strike_pct': 0.2,\n",
       "  'days_to_gain': 45,\n",
       "  'stock_gain_pct': 0.2,\n",
       "  'allocation': 100,\n",
       "  'label': '90d(50%) Call OTM strike0.2 +20%'},\n",
       " {'tickers': ['nvda',\n",
       "   'crwd',\n",
       "   'snow',\n",
       "   'five',\n",
       "   'bby',\n",
       "   'dg',\n",
       "   'dks',\n",
       "   'dell',\n",
       "   'afrm',\n",
       "   'mrvl',\n",
       "   'ulta',\n",
       "   'adsk',\n",
       "   'gap',\n",
       "   'baba',\n",
       "   'td'],\n",
       "  'option_type': 'call',\n",
       "  'days_until_exp': 90,\n",
       "  'strike_pct': 0.5,\n",
       "  'days_to_gain': 45,\n",
       "  'stock_gain_pct': 0.2,\n",
       "  'allocation': 100,\n",
       "  'label': '90d(50%) Call OTM strike0.5 +20%'},\n",
       " {'tickers': ['nvda',\n",
       "   'crwd',\n",
       "   'snow',\n",
       "   'five',\n",
       "   'bby',\n",
       "   'dg',\n",
       "   'dks',\n",
       "   'dell',\n",
       "   'afrm',\n",
       "   'mrvl',\n",
       "   'ulta',\n",
       "   'adsk',\n",
       "   'gap',\n",
       "   'baba',\n",
       "   'td'],\n",
       "  'option_type': 'call',\n",
       "  'days_until_exp': 90,\n",
       "  'strike_pct': 0.9,\n",
       "  'days_to_gain': 45,\n",
       "  'stock_gain_pct': 0.2,\n",
       "  'allocation': 100,\n",
       "  'label': '90d(50%) Call OTM strike0.9 +20%'},\n",
       " {'tickers': ['nvda',\n",
       "   'crwd',\n",
       "   'snow',\n",
       "   'five',\n",
       "   'bby',\n",
       "   'dg',\n",
       "   'dks',\n",
       "   'dell',\n",
       "   'afrm',\n",
       "   'mrvl',\n",
       "   'ulta',\n",
       "   'adsk',\n",
       "   'gap',\n",
       "   'baba',\n",
       "   'td'],\n",
       "  'option_type': 'call',\n",
       "  'days_until_exp': 90,\n",
       "  'strike_pct': -0.1,\n",
       "  'days_to_gain': 45,\n",
       "  'stock_gain_pct': 0.5,\n",
       "  'allocation': 100,\n",
       "  'label': '90d(50%) Call ITM strike-0.1 +50%'},\n",
       " {'tickers': ['nvda',\n",
       "   'crwd',\n",
       "   'snow',\n",
       "   'five',\n",
       "   'bby',\n",
       "   'dg',\n",
       "   'dks',\n",
       "   'dell',\n",
       "   'afrm',\n",
       "   'mrvl',\n",
       "   'ulta',\n",
       "   'adsk',\n",
       "   'gap',\n",
       "   'baba',\n",
       "   'td'],\n",
       "  'option_type': 'call',\n",
       "  'days_until_exp': 90,\n",
       "  'strike_pct': -0.5,\n",
       "  'days_to_gain': 45,\n",
       "  'stock_gain_pct': 0.5,\n",
       "  'allocation': 100,\n",
       "  'label': '90d(50%) Call ITM strike-0.5 +50%'},\n",
       " {'tickers': ['nvda',\n",
       "   'crwd',\n",
       "   'snow',\n",
       "   'five',\n",
       "   'bby',\n",
       "   'dg',\n",
       "   'dks',\n",
       "   'dell',\n",
       "   'afrm',\n",
       "   'mrvl',\n",
       "   'ulta',\n",
       "   'adsk',\n",
       "   'gap',\n",
       "   'baba',\n",
       "   'td'],\n",
       "  'option_type': 'call',\n",
       "  'days_until_exp': 90,\n",
       "  'strike_pct': 0.2,\n",
       "  'days_to_gain': 45,\n",
       "  'stock_gain_pct': 0.5,\n",
       "  'allocation': 100,\n",
       "  'label': '90d(50%) Call OTM strike0.2 +50%'},\n",
       " {'tickers': ['nvda',\n",
       "   'crwd',\n",
       "   'snow',\n",
       "   'five',\n",
       "   'bby',\n",
       "   'dg',\n",
       "   'dks',\n",
       "   'dell',\n",
       "   'afrm',\n",
       "   'mrvl',\n",
       "   'ulta',\n",
       "   'adsk',\n",
       "   'gap',\n",
       "   'baba',\n",
       "   'td'],\n",
       "  'option_type': 'call',\n",
       "  'days_until_exp': 90,\n",
       "  'strike_pct': 0.5,\n",
       "  'days_to_gain': 45,\n",
       "  'stock_gain_pct': 0.5,\n",
       "  'allocation': 100,\n",
       "  'label': '90d(50%) Call OTM strike0.5 +50%'},\n",
       " {'tickers': ['nvda',\n",
       "   'crwd',\n",
       "   'snow',\n",
       "   'five',\n",
       "   'bby',\n",
       "   'dg',\n",
       "   'dks',\n",
       "   'dell',\n",
       "   'afrm',\n",
       "   'mrvl',\n",
       "   'ulta',\n",
       "   'adsk',\n",
       "   'gap',\n",
       "   'baba',\n",
       "   'td'],\n",
       "  'option_type': 'call',\n",
       "  'days_until_exp': 90,\n",
       "  'strike_pct': 0.9,\n",
       "  'days_to_gain': 45,\n",
       "  'stock_gain_pct': 0.5,\n",
       "  'allocation': 100,\n",
       "  'label': '90d(50%) Call OTM strike0.9 +50%'},\n",
       " {'tickers': ['nvda',\n",
       "   'crwd',\n",
       "   'snow',\n",
       "   'five',\n",
       "   'bby',\n",
       "   'dg',\n",
       "   'dks',\n",
       "   'dell',\n",
       "   'afrm',\n",
       "   'mrvl',\n",
       "   'ulta',\n",
       "   'adsk',\n",
       "   'gap',\n",
       "   'baba',\n",
       "   'td'],\n",
       "  'option_type': 'call',\n",
       "  'days_until_exp': 90,\n",
       "  'strike_pct': -0.1,\n",
       "  'days_to_gain': 45,\n",
       "  'stock_gain_pct': -0.2,\n",
       "  'allocation': 100,\n",
       "  'label': '90d(50%) Call ITM strike-0.1 -20%'},\n",
       " {'tickers': ['nvda',\n",
       "   'crwd',\n",
       "   'snow',\n",
       "   'five',\n",
       "   'bby',\n",
       "   'dg',\n",
       "   'dks',\n",
       "   'dell',\n",
       "   'afrm',\n",
       "   'mrvl',\n",
       "   'ulta',\n",
       "   'adsk',\n",
       "   'gap',\n",
       "   'baba',\n",
       "   'td'],\n",
       "  'option_type': 'call',\n",
       "  'days_until_exp': 90,\n",
       "  'strike_pct': -0.5,\n",
       "  'days_to_gain': 45,\n",
       "  'stock_gain_pct': -0.2,\n",
       "  'allocation': 100,\n",
       "  'label': '90d(50%) Call ITM strike-0.5 -20%'},\n",
       " {'tickers': ['nvda',\n",
       "   'crwd',\n",
       "   'snow',\n",
       "   'five',\n",
       "   'bby',\n",
       "   'dg',\n",
       "   'dks',\n",
       "   'dell',\n",
       "   'afrm',\n",
       "   'mrvl',\n",
       "   'ulta',\n",
       "   'adsk',\n",
       "   'gap',\n",
       "   'baba',\n",
       "   'td'],\n",
       "  'option_type': 'call',\n",
       "  'days_until_exp': 90,\n",
       "  'strike_pct': 0.2,\n",
       "  'days_to_gain': 45,\n",
       "  'stock_gain_pct': -0.2,\n",
       "  'allocation': 100,\n",
       "  'label': '90d(50%) Call OTM strike0.2 -20%'},\n",
       " {'tickers': ['nvda',\n",
       "   'crwd',\n",
       "   'snow',\n",
       "   'five',\n",
       "   'bby',\n",
       "   'dg',\n",
       "   'dks',\n",
       "   'dell',\n",
       "   'afrm',\n",
       "   'mrvl',\n",
       "   'ulta',\n",
       "   'adsk',\n",
       "   'gap',\n",
       "   'baba',\n",
       "   'td'],\n",
       "  'option_type': 'call',\n",
       "  'days_until_exp': 90,\n",
       "  'strike_pct': 0.5,\n",
       "  'days_to_gain': 45,\n",
       "  'stock_gain_pct': -0.2,\n",
       "  'allocation': 100,\n",
       "  'label': '90d(50%) Call OTM strike0.5 -20%'},\n",
       " {'tickers': ['nvda',\n",
       "   'crwd',\n",
       "   'snow',\n",
       "   'five',\n",
       "   'bby',\n",
       "   'dg',\n",
       "   'dks',\n",
       "   'dell',\n",
       "   'afrm',\n",
       "   'mrvl',\n",
       "   'ulta',\n",
       "   'adsk',\n",
       "   'gap',\n",
       "   'baba',\n",
       "   'td'],\n",
       "  'option_type': 'call',\n",
       "  'days_until_exp': 90,\n",
       "  'strike_pct': 0.9,\n",
       "  'days_to_gain': 45,\n",
       "  'stock_gain_pct': -0.2,\n",
       "  'allocation': 100,\n",
       "  'label': '90d(50%) Call OTM strike0.9 -20%'},\n",
       " {'tickers': ['nvda',\n",
       "   'crwd',\n",
       "   'snow',\n",
       "   'five',\n",
       "   'bby',\n",
       "   'dg',\n",
       "   'dks',\n",
       "   'dell',\n",
       "   'afrm',\n",
       "   'mrvl',\n",
       "   'ulta',\n",
       "   'adsk',\n",
       "   'gap',\n",
       "   'baba',\n",
       "   'td'],\n",
       "  'option_type': 'put',\n",
       "  'days_until_exp': 90,\n",
       "  'strike_pct': -0.1,\n",
       "  'days_to_gain': 45,\n",
       "  'stock_gain_pct': -0.1,\n",
       "  'allocation': 100,\n",
       "  'label': '90d(50%) Put ITM strike-0.1 -10%'},\n",
       " {'tickers': ['nvda',\n",
       "   'crwd',\n",
       "   'snow',\n",
       "   'five',\n",
       "   'bby',\n",
       "   'dg',\n",
       "   'dks',\n",
       "   'dell',\n",
       "   'afrm',\n",
       "   'mrvl',\n",
       "   'ulta',\n",
       "   'adsk',\n",
       "   'gap',\n",
       "   'baba',\n",
       "   'td'],\n",
       "  'option_type': 'put',\n",
       "  'days_until_exp': 90,\n",
       "  'strike_pct': -0.5,\n",
       "  'days_to_gain': 45,\n",
       "  'stock_gain_pct': -0.1,\n",
       "  'allocation': 100,\n",
       "  'label': '90d(50%) Put ITM strike-0.5 -10%'},\n",
       " {'tickers': ['nvda',\n",
       "   'crwd',\n",
       "   'snow',\n",
       "   'five',\n",
       "   'bby',\n",
       "   'dg',\n",
       "   'dks',\n",
       "   'dell',\n",
       "   'afrm',\n",
       "   'mrvl',\n",
       "   'ulta',\n",
       "   'adsk',\n",
       "   'gap',\n",
       "   'baba',\n",
       "   'td'],\n",
       "  'option_type': 'put',\n",
       "  'days_until_exp': 90,\n",
       "  'strike_pct': 0.2,\n",
       "  'days_to_gain': 45,\n",
       "  'stock_gain_pct': -0.1,\n",
       "  'allocation': 100,\n",
       "  'label': '90d(50%) Put OTM strike0.2 -10%'},\n",
       " {'tickers': ['nvda',\n",
       "   'crwd',\n",
       "   'snow',\n",
       "   'five',\n",
       "   'bby',\n",
       "   'dg',\n",
       "   'dks',\n",
       "   'dell',\n",
       "   'afrm',\n",
       "   'mrvl',\n",
       "   'ulta',\n",
       "   'adsk',\n",
       "   'gap',\n",
       "   'baba',\n",
       "   'td'],\n",
       "  'option_type': 'put',\n",
       "  'days_until_exp': 90,\n",
       "  'strike_pct': 0.5,\n",
       "  'days_to_gain': 45,\n",
       "  'stock_gain_pct': -0.1,\n",
       "  'allocation': 100,\n",
       "  'label': '90d(50%) Put OTM strike0.5 -10%'},\n",
       " {'tickers': ['nvda',\n",
       "   'crwd',\n",
       "   'snow',\n",
       "   'five',\n",
       "   'bby',\n",
       "   'dg',\n",
       "   'dks',\n",
       "   'dell',\n",
       "   'afrm',\n",
       "   'mrvl',\n",
       "   'ulta',\n",
       "   'adsk',\n",
       "   'gap',\n",
       "   'baba',\n",
       "   'td'],\n",
       "  'option_type': 'put',\n",
       "  'days_until_exp': 90,\n",
       "  'strike_pct': 0.9,\n",
       "  'days_to_gain': 45,\n",
       "  'stock_gain_pct': -0.1,\n",
       "  'allocation': 100,\n",
       "  'label': '90d(50%) Put OTM strike0.9 -10%'},\n",
       " {'tickers': ['nvda',\n",
       "   'crwd',\n",
       "   'snow',\n",
       "   'five',\n",
       "   'bby',\n",
       "   'dg',\n",
       "   'dks',\n",
       "   'dell',\n",
       "   'afrm',\n",
       "   'mrvl',\n",
       "   'ulta',\n",
       "   'adsk',\n",
       "   'gap',\n",
       "   'baba',\n",
       "   'td'],\n",
       "  'option_type': 'put',\n",
       "  'days_until_exp': 90,\n",
       "  'strike_pct': -0.1,\n",
       "  'days_to_gain': 45,\n",
       "  'stock_gain_pct': -0.2,\n",
       "  'allocation': 100,\n",
       "  'label': '90d(50%) Put ITM strike-0.1 -20%'},\n",
       " {'tickers': ['nvda',\n",
       "   'crwd',\n",
       "   'snow',\n",
       "   'five',\n",
       "   'bby',\n",
       "   'dg',\n",
       "   'dks',\n",
       "   'dell',\n",
       "   'afrm',\n",
       "   'mrvl',\n",
       "   'ulta',\n",
       "   'adsk',\n",
       "   'gap',\n",
       "   'baba',\n",
       "   'td'],\n",
       "  'option_type': 'put',\n",
       "  'days_until_exp': 90,\n",
       "  'strike_pct': -0.5,\n",
       "  'days_to_gain': 45,\n",
       "  'stock_gain_pct': -0.2,\n",
       "  'allocation': 100,\n",
       "  'label': '90d(50%) Put ITM strike-0.5 -20%'},\n",
       " {'tickers': ['nvda',\n",
       "   'crwd',\n",
       "   'snow',\n",
       "   'five',\n",
       "   'bby',\n",
       "   'dg',\n",
       "   'dks',\n",
       "   'dell',\n",
       "   'afrm',\n",
       "   'mrvl',\n",
       "   'ulta',\n",
       "   'adsk',\n",
       "   'gap',\n",
       "   'baba',\n",
       "   'td'],\n",
       "  'option_type': 'put',\n",
       "  'days_until_exp': 90,\n",
       "  'strike_pct': 0.2,\n",
       "  'days_to_gain': 45,\n",
       "  'stock_gain_pct': -0.2,\n",
       "  'allocation': 100,\n",
       "  'label': '90d(50%) Put OTM strike0.2 -20%'},\n",
       " {'tickers': ['nvda',\n",
       "   'crwd',\n",
       "   'snow',\n",
       "   'five',\n",
       "   'bby',\n",
       "   'dg',\n",
       "   'dks',\n",
       "   'dell',\n",
       "   'afrm',\n",
       "   'mrvl',\n",
       "   'ulta',\n",
       "   'adsk',\n",
       "   'gap',\n",
       "   'baba',\n",
       "   'td'],\n",
       "  'option_type': 'put',\n",
       "  'days_until_exp': 90,\n",
       "  'strike_pct': 0.5,\n",
       "  'days_to_gain': 45,\n",
       "  'stock_gain_pct': -0.2,\n",
       "  'allocation': 100,\n",
       "  'label': '90d(50%) Put OTM strike0.5 -20%'},\n",
       " {'tickers': ['nvda',\n",
       "   'crwd',\n",
       "   'snow',\n",
       "   'five',\n",
       "   'bby',\n",
       "   'dg',\n",
       "   'dks',\n",
       "   'dell',\n",
       "   'afrm',\n",
       "   'mrvl',\n",
       "   'ulta',\n",
       "   'adsk',\n",
       "   'gap',\n",
       "   'baba',\n",
       "   'td'],\n",
       "  'option_type': 'put',\n",
       "  'days_until_exp': 90,\n",
       "  'strike_pct': 0.9,\n",
       "  'days_to_gain': 45,\n",
       "  'stock_gain_pct': -0.2,\n",
       "  'allocation': 100,\n",
       "  'label': '90d(50%) Put OTM strike0.9 -20%'},\n",
       " {'tickers': ['nvda',\n",
       "   'crwd',\n",
       "   'snow',\n",
       "   'five',\n",
       "   'bby',\n",
       "   'dg',\n",
       "   'dks',\n",
       "   'dell',\n",
       "   'afrm',\n",
       "   'mrvl',\n",
       "   'ulta',\n",
       "   'adsk',\n",
       "   'gap',\n",
       "   'baba',\n",
       "   'td'],\n",
       "  'option_type': 'put',\n",
       "  'days_until_exp': 90,\n",
       "  'strike_pct': -0.1,\n",
       "  'days_to_gain': 45,\n",
       "  'stock_gain_pct': 0.2,\n",
       "  'allocation': 100,\n",
       "  'label': '90d(50%) Put ITM strike-0.1 +20%'},\n",
       " {'tickers': ['nvda',\n",
       "   'crwd',\n",
       "   'snow',\n",
       "   'five',\n",
       "   'bby',\n",
       "   'dg',\n",
       "   'dks',\n",
       "   'dell',\n",
       "   'afrm',\n",
       "   'mrvl',\n",
       "   'ulta',\n",
       "   'adsk',\n",
       "   'gap',\n",
       "   'baba',\n",
       "   'td'],\n",
       "  'option_type': 'put',\n",
       "  'days_until_exp': 90,\n",
       "  'strike_pct': -0.5,\n",
       "  'days_to_gain': 45,\n",
       "  'stock_gain_pct': 0.2,\n",
       "  'allocation': 100,\n",
       "  'label': '90d(50%) Put ITM strike-0.5 +20%'},\n",
       " {'tickers': ['nvda',\n",
       "   'crwd',\n",
       "   'snow',\n",
       "   'five',\n",
       "   'bby',\n",
       "   'dg',\n",
       "   'dks',\n",
       "   'dell',\n",
       "   'afrm',\n",
       "   'mrvl',\n",
       "   'ulta',\n",
       "   'adsk',\n",
       "   'gap',\n",
       "   'baba',\n",
       "   'td'],\n",
       "  'option_type': 'put',\n",
       "  'days_until_exp': 90,\n",
       "  'strike_pct': 0.2,\n",
       "  'days_to_gain': 45,\n",
       "  'stock_gain_pct': 0.2,\n",
       "  'allocation': 100,\n",
       "  'label': '90d(50%) Put OTM strike0.2 +20%'},\n",
       " {'tickers': ['nvda',\n",
       "   'crwd',\n",
       "   'snow',\n",
       "   'five',\n",
       "   'bby',\n",
       "   'dg',\n",
       "   'dks',\n",
       "   'dell',\n",
       "   'afrm',\n",
       "   'mrvl',\n",
       "   'ulta',\n",
       "   'adsk',\n",
       "   'gap',\n",
       "   'baba',\n",
       "   'td'],\n",
       "  'option_type': 'put',\n",
       "  'days_until_exp': 90,\n",
       "  'strike_pct': 0.5,\n",
       "  'days_to_gain': 45,\n",
       "  'stock_gain_pct': 0.2,\n",
       "  'allocation': 100,\n",
       "  'label': '90d(50%) Put OTM strike0.5 +20%'},\n",
       " {'tickers': ['nvda',\n",
       "   'crwd',\n",
       "   'snow',\n",
       "   'five',\n",
       "   'bby',\n",
       "   'dg',\n",
       "   'dks',\n",
       "   'dell',\n",
       "   'afrm',\n",
       "   'mrvl',\n",
       "   'ulta',\n",
       "   'adsk',\n",
       "   'gap',\n",
       "   'baba',\n",
       "   'td'],\n",
       "  'option_type': 'put',\n",
       "  'days_until_exp': 90,\n",
       "  'strike_pct': 0.9,\n",
       "  'days_to_gain': 45,\n",
       "  'stock_gain_pct': 0.2,\n",
       "  'allocation': 100,\n",
       "  'label': '90d(50%) Put OTM strike0.9 +20%'},\n",
       " {'tickers': ['nvda',\n",
       "   'crwd',\n",
       "   'snow',\n",
       "   'five',\n",
       "   'bby',\n",
       "   'dg',\n",
       "   'dks',\n",
       "   'dell',\n",
       "   'afrm',\n",
       "   'mrvl',\n",
       "   'ulta',\n",
       "   'adsk',\n",
       "   'gap',\n",
       "   'baba',\n",
       "   'td'],\n",
       "  'option_type': 'call',\n",
       "  'days_until_exp': 180,\n",
       "  'strike_pct': -0.1,\n",
       "  'days_to_gain': 36,\n",
       "  'stock_gain_pct': 0.1,\n",
       "  'allocation': 100,\n",
       "  'label': '180d(20%) Call ITM strike-0.1 +10%'},\n",
       " {'tickers': ['nvda',\n",
       "   'crwd',\n",
       "   'snow',\n",
       "   'five',\n",
       "   'bby',\n",
       "   'dg',\n",
       "   'dks',\n",
       "   'dell',\n",
       "   'afrm',\n",
       "   'mrvl',\n",
       "   'ulta',\n",
       "   'adsk',\n",
       "   'gap',\n",
       "   'baba',\n",
       "   'td'],\n",
       "  'option_type': 'call',\n",
       "  'days_until_exp': 180,\n",
       "  'strike_pct': -0.5,\n",
       "  'days_to_gain': 36,\n",
       "  'stock_gain_pct': 0.1,\n",
       "  'allocation': 100,\n",
       "  'label': '180d(20%) Call ITM strike-0.5 +10%'},\n",
       " {'tickers': ['nvda',\n",
       "   'crwd',\n",
       "   'snow',\n",
       "   'five',\n",
       "   'bby',\n",
       "   'dg',\n",
       "   'dks',\n",
       "   'dell',\n",
       "   'afrm',\n",
       "   'mrvl',\n",
       "   'ulta',\n",
       "   'adsk',\n",
       "   'gap',\n",
       "   'baba',\n",
       "   'td'],\n",
       "  'option_type': 'call',\n",
       "  'days_until_exp': 180,\n",
       "  'strike_pct': 0.2,\n",
       "  'days_to_gain': 36,\n",
       "  'stock_gain_pct': 0.1,\n",
       "  'allocation': 100,\n",
       "  'label': '180d(20%) Call OTM strike0.2 +10%'},\n",
       " {'tickers': ['nvda',\n",
       "   'crwd',\n",
       "   'snow',\n",
       "   'five',\n",
       "   'bby',\n",
       "   'dg',\n",
       "   'dks',\n",
       "   'dell',\n",
       "   'afrm',\n",
       "   'mrvl',\n",
       "   'ulta',\n",
       "   'adsk',\n",
       "   'gap',\n",
       "   'baba',\n",
       "   'td'],\n",
       "  'option_type': 'call',\n",
       "  'days_until_exp': 180,\n",
       "  'strike_pct': 0.5,\n",
       "  'days_to_gain': 36,\n",
       "  'stock_gain_pct': 0.1,\n",
       "  'allocation': 100,\n",
       "  'label': '180d(20%) Call OTM strike0.5 +10%'},\n",
       " {'tickers': ['nvda',\n",
       "   'crwd',\n",
       "   'snow',\n",
       "   'five',\n",
       "   'bby',\n",
       "   'dg',\n",
       "   'dks',\n",
       "   'dell',\n",
       "   'afrm',\n",
       "   'mrvl',\n",
       "   'ulta',\n",
       "   'adsk',\n",
       "   'gap',\n",
       "   'baba',\n",
       "   'td'],\n",
       "  'option_type': 'call',\n",
       "  'days_until_exp': 180,\n",
       "  'strike_pct': 0.9,\n",
       "  'days_to_gain': 36,\n",
       "  'stock_gain_pct': 0.1,\n",
       "  'allocation': 100,\n",
       "  'label': '180d(20%) Call OTM strike0.9 +10%'},\n",
       " {'tickers': ['nvda',\n",
       "   'crwd',\n",
       "   'snow',\n",
       "   'five',\n",
       "   'bby',\n",
       "   'dg',\n",
       "   'dks',\n",
       "   'dell',\n",
       "   'afrm',\n",
       "   'mrvl',\n",
       "   'ulta',\n",
       "   'adsk',\n",
       "   'gap',\n",
       "   'baba',\n",
       "   'td'],\n",
       "  'option_type': 'call',\n",
       "  'days_until_exp': 180,\n",
       "  'strike_pct': -0.1,\n",
       "  'days_to_gain': 36,\n",
       "  'stock_gain_pct': 0.2,\n",
       "  'allocation': 100,\n",
       "  'label': '180d(20%) Call ITM strike-0.1 +20%'},\n",
       " {'tickers': ['nvda',\n",
       "   'crwd',\n",
       "   'snow',\n",
       "   'five',\n",
       "   'bby',\n",
       "   'dg',\n",
       "   'dks',\n",
       "   'dell',\n",
       "   'afrm',\n",
       "   'mrvl',\n",
       "   'ulta',\n",
       "   'adsk',\n",
       "   'gap',\n",
       "   'baba',\n",
       "   'td'],\n",
       "  'option_type': 'call',\n",
       "  'days_until_exp': 180,\n",
       "  'strike_pct': -0.5,\n",
       "  'days_to_gain': 36,\n",
       "  'stock_gain_pct': 0.2,\n",
       "  'allocation': 100,\n",
       "  'label': '180d(20%) Call ITM strike-0.5 +20%'},\n",
       " {'tickers': ['nvda',\n",
       "   'crwd',\n",
       "   'snow',\n",
       "   'five',\n",
       "   'bby',\n",
       "   'dg',\n",
       "   'dks',\n",
       "   'dell',\n",
       "   'afrm',\n",
       "   'mrvl',\n",
       "   'ulta',\n",
       "   'adsk',\n",
       "   'gap',\n",
       "   'baba',\n",
       "   'td'],\n",
       "  'option_type': 'call',\n",
       "  'days_until_exp': 180,\n",
       "  'strike_pct': 0.2,\n",
       "  'days_to_gain': 36,\n",
       "  'stock_gain_pct': 0.2,\n",
       "  'allocation': 100,\n",
       "  'label': '180d(20%) Call OTM strike0.2 +20%'},\n",
       " {'tickers': ['nvda',\n",
       "   'crwd',\n",
       "   'snow',\n",
       "   'five',\n",
       "   'bby',\n",
       "   'dg',\n",
       "   'dks',\n",
       "   'dell',\n",
       "   'afrm',\n",
       "   'mrvl',\n",
       "   'ulta',\n",
       "   'adsk',\n",
       "   'gap',\n",
       "   'baba',\n",
       "   'td'],\n",
       "  'option_type': 'call',\n",
       "  'days_until_exp': 180,\n",
       "  'strike_pct': 0.5,\n",
       "  'days_to_gain': 36,\n",
       "  'stock_gain_pct': 0.2,\n",
       "  'allocation': 100,\n",
       "  'label': '180d(20%) Call OTM strike0.5 +20%'},\n",
       " {'tickers': ['nvda',\n",
       "   'crwd',\n",
       "   'snow',\n",
       "   'five',\n",
       "   'bby',\n",
       "   'dg',\n",
       "   'dks',\n",
       "   'dell',\n",
       "   'afrm',\n",
       "   'mrvl',\n",
       "   'ulta',\n",
       "   'adsk',\n",
       "   'gap',\n",
       "   'baba',\n",
       "   'td'],\n",
       "  'option_type': 'call',\n",
       "  'days_until_exp': 180,\n",
       "  'strike_pct': 0.9,\n",
       "  'days_to_gain': 36,\n",
       "  'stock_gain_pct': 0.2,\n",
       "  'allocation': 100,\n",
       "  'label': '180d(20%) Call OTM strike0.9 +20%'},\n",
       " {'tickers': ['nvda',\n",
       "   'crwd',\n",
       "   'snow',\n",
       "   'five',\n",
       "   'bby',\n",
       "   'dg',\n",
       "   'dks',\n",
       "   'dell',\n",
       "   'afrm',\n",
       "   'mrvl',\n",
       "   'ulta',\n",
       "   'adsk',\n",
       "   'gap',\n",
       "   'baba',\n",
       "   'td'],\n",
       "  'option_type': 'call',\n",
       "  'days_until_exp': 180,\n",
       "  'strike_pct': -0.1,\n",
       "  'days_to_gain': 36,\n",
       "  'stock_gain_pct': 0.5,\n",
       "  'allocation': 100,\n",
       "  'label': '180d(20%) Call ITM strike-0.1 +50%'},\n",
       " {'tickers': ['nvda',\n",
       "   'crwd',\n",
       "   'snow',\n",
       "   'five',\n",
       "   'bby',\n",
       "   'dg',\n",
       "   'dks',\n",
       "   'dell',\n",
       "   'afrm',\n",
       "   'mrvl',\n",
       "   'ulta',\n",
       "   'adsk',\n",
       "   'gap',\n",
       "   'baba',\n",
       "   'td'],\n",
       "  'option_type': 'call',\n",
       "  'days_until_exp': 180,\n",
       "  'strike_pct': -0.5,\n",
       "  'days_to_gain': 36,\n",
       "  'stock_gain_pct': 0.5,\n",
       "  'allocation': 100,\n",
       "  'label': '180d(20%) Call ITM strike-0.5 +50%'},\n",
       " {'tickers': ['nvda',\n",
       "   'crwd',\n",
       "   'snow',\n",
       "   'five',\n",
       "   'bby',\n",
       "   'dg',\n",
       "   'dks',\n",
       "   'dell',\n",
       "   'afrm',\n",
       "   'mrvl',\n",
       "   'ulta',\n",
       "   'adsk',\n",
       "   'gap',\n",
       "   'baba',\n",
       "   'td'],\n",
       "  'option_type': 'call',\n",
       "  'days_until_exp': 180,\n",
       "  'strike_pct': 0.2,\n",
       "  'days_to_gain': 36,\n",
       "  'stock_gain_pct': 0.5,\n",
       "  'allocation': 100,\n",
       "  'label': '180d(20%) Call OTM strike0.2 +50%'},\n",
       " {'tickers': ['nvda',\n",
       "   'crwd',\n",
       "   'snow',\n",
       "   'five',\n",
       "   'bby',\n",
       "   'dg',\n",
       "   'dks',\n",
       "   'dell',\n",
       "   'afrm',\n",
       "   'mrvl',\n",
       "   'ulta',\n",
       "   'adsk',\n",
       "   'gap',\n",
       "   'baba',\n",
       "   'td'],\n",
       "  'option_type': 'call',\n",
       "  'days_until_exp': 180,\n",
       "  'strike_pct': 0.5,\n",
       "  'days_to_gain': 36,\n",
       "  'stock_gain_pct': 0.5,\n",
       "  'allocation': 100,\n",
       "  'label': '180d(20%) Call OTM strike0.5 +50%'},\n",
       " {'tickers': ['nvda',\n",
       "   'crwd',\n",
       "   'snow',\n",
       "   'five',\n",
       "   'bby',\n",
       "   'dg',\n",
       "   'dks',\n",
       "   'dell',\n",
       "   'afrm',\n",
       "   'mrvl',\n",
       "   'ulta',\n",
       "   'adsk',\n",
       "   'gap',\n",
       "   'baba',\n",
       "   'td'],\n",
       "  'option_type': 'call',\n",
       "  'days_until_exp': 180,\n",
       "  'strike_pct': 0.9,\n",
       "  'days_to_gain': 36,\n",
       "  'stock_gain_pct': 0.5,\n",
       "  'allocation': 100,\n",
       "  'label': '180d(20%) Call OTM strike0.9 +50%'},\n",
       " {'tickers': ['nvda',\n",
       "   'crwd',\n",
       "   'snow',\n",
       "   'five',\n",
       "   'bby',\n",
       "   'dg',\n",
       "   'dks',\n",
       "   'dell',\n",
       "   'afrm',\n",
       "   'mrvl',\n",
       "   'ulta',\n",
       "   'adsk',\n",
       "   'gap',\n",
       "   'baba',\n",
       "   'td'],\n",
       "  'option_type': 'call',\n",
       "  'days_until_exp': 180,\n",
       "  'strike_pct': -0.1,\n",
       "  'days_to_gain': 36,\n",
       "  'stock_gain_pct': -0.2,\n",
       "  'allocation': 100,\n",
       "  'label': '180d(20%) Call ITM strike-0.1 -20%'},\n",
       " {'tickers': ['nvda',\n",
       "   'crwd',\n",
       "   'snow',\n",
       "   'five',\n",
       "   'bby',\n",
       "   'dg',\n",
       "   'dks',\n",
       "   'dell',\n",
       "   'afrm',\n",
       "   'mrvl',\n",
       "   'ulta',\n",
       "   'adsk',\n",
       "   'gap',\n",
       "   'baba',\n",
       "   'td'],\n",
       "  'option_type': 'call',\n",
       "  'days_until_exp': 180,\n",
       "  'strike_pct': -0.5,\n",
       "  'days_to_gain': 36,\n",
       "  'stock_gain_pct': -0.2,\n",
       "  'allocation': 100,\n",
       "  'label': '180d(20%) Call ITM strike-0.5 -20%'},\n",
       " {'tickers': ['nvda',\n",
       "   'crwd',\n",
       "   'snow',\n",
       "   'five',\n",
       "   'bby',\n",
       "   'dg',\n",
       "   'dks',\n",
       "   'dell',\n",
       "   'afrm',\n",
       "   'mrvl',\n",
       "   'ulta',\n",
       "   'adsk',\n",
       "   'gap',\n",
       "   'baba',\n",
       "   'td'],\n",
       "  'option_type': 'call',\n",
       "  'days_until_exp': 180,\n",
       "  'strike_pct': 0.2,\n",
       "  'days_to_gain': 36,\n",
       "  'stock_gain_pct': -0.2,\n",
       "  'allocation': 100,\n",
       "  'label': '180d(20%) Call OTM strike0.2 -20%'},\n",
       " {'tickers': ['nvda',\n",
       "   'crwd',\n",
       "   'snow',\n",
       "   'five',\n",
       "   'bby',\n",
       "   'dg',\n",
       "   'dks',\n",
       "   'dell',\n",
       "   'afrm',\n",
       "   'mrvl',\n",
       "   'ulta',\n",
       "   'adsk',\n",
       "   'gap',\n",
       "   'baba',\n",
       "   'td'],\n",
       "  'option_type': 'call',\n",
       "  'days_until_exp': 180,\n",
       "  'strike_pct': 0.5,\n",
       "  'days_to_gain': 36,\n",
       "  'stock_gain_pct': -0.2,\n",
       "  'allocation': 100,\n",
       "  'label': '180d(20%) Call OTM strike0.5 -20%'},\n",
       " {'tickers': ['nvda',\n",
       "   'crwd',\n",
       "   'snow',\n",
       "   'five',\n",
       "   'bby',\n",
       "   'dg',\n",
       "   'dks',\n",
       "   'dell',\n",
       "   'afrm',\n",
       "   'mrvl',\n",
       "   'ulta',\n",
       "   'adsk',\n",
       "   'gap',\n",
       "   'baba',\n",
       "   'td'],\n",
       "  'option_type': 'call',\n",
       "  'days_until_exp': 180,\n",
       "  'strike_pct': 0.9,\n",
       "  'days_to_gain': 36,\n",
       "  'stock_gain_pct': -0.2,\n",
       "  'allocation': 100,\n",
       "  'label': '180d(20%) Call OTM strike0.9 -20%'},\n",
       " {'tickers': ['nvda',\n",
       "   'crwd',\n",
       "   'snow',\n",
       "   'five',\n",
       "   'bby',\n",
       "   'dg',\n",
       "   'dks',\n",
       "   'dell',\n",
       "   'afrm',\n",
       "   'mrvl',\n",
       "   'ulta',\n",
       "   'adsk',\n",
       "   'gap',\n",
       "   'baba',\n",
       "   'td'],\n",
       "  'option_type': 'put',\n",
       "  'days_until_exp': 180,\n",
       "  'strike_pct': -0.1,\n",
       "  'days_to_gain': 36,\n",
       "  'stock_gain_pct': -0.1,\n",
       "  'allocation': 100,\n",
       "  'label': '180d(20%) Put ITM strike-0.1 -10%'},\n",
       " {'tickers': ['nvda',\n",
       "   'crwd',\n",
       "   'snow',\n",
       "   'five',\n",
       "   'bby',\n",
       "   'dg',\n",
       "   'dks',\n",
       "   'dell',\n",
       "   'afrm',\n",
       "   'mrvl',\n",
       "   'ulta',\n",
       "   'adsk',\n",
       "   'gap',\n",
       "   'baba',\n",
       "   'td'],\n",
       "  'option_type': 'put',\n",
       "  'days_until_exp': 180,\n",
       "  'strike_pct': -0.5,\n",
       "  'days_to_gain': 36,\n",
       "  'stock_gain_pct': -0.1,\n",
       "  'allocation': 100,\n",
       "  'label': '180d(20%) Put ITM strike-0.5 -10%'},\n",
       " {'tickers': ['nvda',\n",
       "   'crwd',\n",
       "   'snow',\n",
       "   'five',\n",
       "   'bby',\n",
       "   'dg',\n",
       "   'dks',\n",
       "   'dell',\n",
       "   'afrm',\n",
       "   'mrvl',\n",
       "   'ulta',\n",
       "   'adsk',\n",
       "   'gap',\n",
       "   'baba',\n",
       "   'td'],\n",
       "  'option_type': 'put',\n",
       "  'days_until_exp': 180,\n",
       "  'strike_pct': 0.2,\n",
       "  'days_to_gain': 36,\n",
       "  'stock_gain_pct': -0.1,\n",
       "  'allocation': 100,\n",
       "  'label': '180d(20%) Put OTM strike0.2 -10%'},\n",
       " {'tickers': ['nvda',\n",
       "   'crwd',\n",
       "   'snow',\n",
       "   'five',\n",
       "   'bby',\n",
       "   'dg',\n",
       "   'dks',\n",
       "   'dell',\n",
       "   'afrm',\n",
       "   'mrvl',\n",
       "   'ulta',\n",
       "   'adsk',\n",
       "   'gap',\n",
       "   'baba',\n",
       "   'td'],\n",
       "  'option_type': 'put',\n",
       "  'days_until_exp': 180,\n",
       "  'strike_pct': 0.5,\n",
       "  'days_to_gain': 36,\n",
       "  'stock_gain_pct': -0.1,\n",
       "  'allocation': 100,\n",
       "  'label': '180d(20%) Put OTM strike0.5 -10%'},\n",
       " {'tickers': ['nvda',\n",
       "   'crwd',\n",
       "   'snow',\n",
       "   'five',\n",
       "   'bby',\n",
       "   'dg',\n",
       "   'dks',\n",
       "   'dell',\n",
       "   'afrm',\n",
       "   'mrvl',\n",
       "   'ulta',\n",
       "   'adsk',\n",
       "   'gap',\n",
       "   'baba',\n",
       "   'td'],\n",
       "  'option_type': 'put',\n",
       "  'days_until_exp': 180,\n",
       "  'strike_pct': 0.9,\n",
       "  'days_to_gain': 36,\n",
       "  'stock_gain_pct': -0.1,\n",
       "  'allocation': 100,\n",
       "  'label': '180d(20%) Put OTM strike0.9 -10%'},\n",
       " {'tickers': ['nvda',\n",
       "   'crwd',\n",
       "   'snow',\n",
       "   'five',\n",
       "   'bby',\n",
       "   'dg',\n",
       "   'dks',\n",
       "   'dell',\n",
       "   'afrm',\n",
       "   'mrvl',\n",
       "   'ulta',\n",
       "   'adsk',\n",
       "   'gap',\n",
       "   'baba',\n",
       "   'td'],\n",
       "  'option_type': 'put',\n",
       "  'days_until_exp': 180,\n",
       "  'strike_pct': -0.1,\n",
       "  'days_to_gain': 36,\n",
       "  'stock_gain_pct': -0.2,\n",
       "  'allocation': 100,\n",
       "  'label': '180d(20%) Put ITM strike-0.1 -20%'},\n",
       " {'tickers': ['nvda',\n",
       "   'crwd',\n",
       "   'snow',\n",
       "   'five',\n",
       "   'bby',\n",
       "   'dg',\n",
       "   'dks',\n",
       "   'dell',\n",
       "   'afrm',\n",
       "   'mrvl',\n",
       "   'ulta',\n",
       "   'adsk',\n",
       "   'gap',\n",
       "   'baba',\n",
       "   'td'],\n",
       "  'option_type': 'put',\n",
       "  'days_until_exp': 180,\n",
       "  'strike_pct': -0.5,\n",
       "  'days_to_gain': 36,\n",
       "  'stock_gain_pct': -0.2,\n",
       "  'allocation': 100,\n",
       "  'label': '180d(20%) Put ITM strike-0.5 -20%'},\n",
       " {'tickers': ['nvda',\n",
       "   'crwd',\n",
       "   'snow',\n",
       "   'five',\n",
       "   'bby',\n",
       "   'dg',\n",
       "   'dks',\n",
       "   'dell',\n",
       "   'afrm',\n",
       "   'mrvl',\n",
       "   'ulta',\n",
       "   'adsk',\n",
       "   'gap',\n",
       "   'baba',\n",
       "   'td'],\n",
       "  'option_type': 'put',\n",
       "  'days_until_exp': 180,\n",
       "  'strike_pct': 0.2,\n",
       "  'days_to_gain': 36,\n",
       "  'stock_gain_pct': -0.2,\n",
       "  'allocation': 100,\n",
       "  'label': '180d(20%) Put OTM strike0.2 -20%'},\n",
       " {'tickers': ['nvda',\n",
       "   'crwd',\n",
       "   'snow',\n",
       "   'five',\n",
       "   'bby',\n",
       "   'dg',\n",
       "   'dks',\n",
       "   'dell',\n",
       "   'afrm',\n",
       "   'mrvl',\n",
       "   'ulta',\n",
       "   'adsk',\n",
       "   'gap',\n",
       "   'baba',\n",
       "   'td'],\n",
       "  'option_type': 'put',\n",
       "  'days_until_exp': 180,\n",
       "  'strike_pct': 0.5,\n",
       "  'days_to_gain': 36,\n",
       "  'stock_gain_pct': -0.2,\n",
       "  'allocation': 100,\n",
       "  'label': '180d(20%) Put OTM strike0.5 -20%'},\n",
       " {'tickers': ['nvda',\n",
       "   'crwd',\n",
       "   'snow',\n",
       "   'five',\n",
       "   'bby',\n",
       "   'dg',\n",
       "   'dks',\n",
       "   'dell',\n",
       "   'afrm',\n",
       "   'mrvl',\n",
       "   'ulta',\n",
       "   'adsk',\n",
       "   'gap',\n",
       "   'baba',\n",
       "   'td'],\n",
       "  'option_type': 'put',\n",
       "  'days_until_exp': 180,\n",
       "  'strike_pct': 0.9,\n",
       "  'days_to_gain': 36,\n",
       "  'stock_gain_pct': -0.2,\n",
       "  'allocation': 100,\n",
       "  'label': '180d(20%) Put OTM strike0.9 -20%'},\n",
       " {'tickers': ['nvda',\n",
       "   'crwd',\n",
       "   'snow',\n",
       "   'five',\n",
       "   'bby',\n",
       "   'dg',\n",
       "   'dks',\n",
       "   'dell',\n",
       "   'afrm',\n",
       "   'mrvl',\n",
       "   'ulta',\n",
       "   'adsk',\n",
       "   'gap',\n",
       "   'baba',\n",
       "   'td'],\n",
       "  'option_type': 'put',\n",
       "  'days_until_exp': 180,\n",
       "  'strike_pct': -0.1,\n",
       "  'days_to_gain': 36,\n",
       "  'stock_gain_pct': 0.2,\n",
       "  'allocation': 100,\n",
       "  'label': '180d(20%) Put ITM strike-0.1 +20%'},\n",
       " {'tickers': ['nvda',\n",
       "   'crwd',\n",
       "   'snow',\n",
       "   'five',\n",
       "   'bby',\n",
       "   'dg',\n",
       "   'dks',\n",
       "   'dell',\n",
       "   'afrm',\n",
       "   'mrvl',\n",
       "   'ulta',\n",
       "   'adsk',\n",
       "   'gap',\n",
       "   'baba',\n",
       "   'td'],\n",
       "  'option_type': 'put',\n",
       "  'days_until_exp': 180,\n",
       "  'strike_pct': -0.5,\n",
       "  'days_to_gain': 36,\n",
       "  'stock_gain_pct': 0.2,\n",
       "  'allocation': 100,\n",
       "  'label': '180d(20%) Put ITM strike-0.5 +20%'},\n",
       " {'tickers': ['nvda',\n",
       "   'crwd',\n",
       "   'snow',\n",
       "   'five',\n",
       "   'bby',\n",
       "   'dg',\n",
       "   'dks',\n",
       "   'dell',\n",
       "   'afrm',\n",
       "   'mrvl',\n",
       "   'ulta',\n",
       "   'adsk',\n",
       "   'gap',\n",
       "   'baba',\n",
       "   'td'],\n",
       "  'option_type': 'put',\n",
       "  'days_until_exp': 180,\n",
       "  'strike_pct': 0.2,\n",
       "  'days_to_gain': 36,\n",
       "  'stock_gain_pct': 0.2,\n",
       "  'allocation': 100,\n",
       "  'label': '180d(20%) Put OTM strike0.2 +20%'},\n",
       " {'tickers': ['nvda',\n",
       "   'crwd',\n",
       "   'snow',\n",
       "   'five',\n",
       "   'bby',\n",
       "   'dg',\n",
       "   'dks',\n",
       "   'dell',\n",
       "   'afrm',\n",
       "   'mrvl',\n",
       "   'ulta',\n",
       "   'adsk',\n",
       "   'gap',\n",
       "   'baba',\n",
       "   'td'],\n",
       "  'option_type': 'put',\n",
       "  'days_until_exp': 180,\n",
       "  'strike_pct': 0.5,\n",
       "  'days_to_gain': 36,\n",
       "  'stock_gain_pct': 0.2,\n",
       "  'allocation': 100,\n",
       "  'label': '180d(20%) Put OTM strike0.5 +20%'},\n",
       " {'tickers': ['nvda',\n",
       "   'crwd',\n",
       "   'snow',\n",
       "   'five',\n",
       "   'bby',\n",
       "   'dg',\n",
       "   'dks',\n",
       "   'dell',\n",
       "   'afrm',\n",
       "   'mrvl',\n",
       "   'ulta',\n",
       "   'adsk',\n",
       "   'gap',\n",
       "   'baba',\n",
       "   'td'],\n",
       "  'option_type': 'put',\n",
       "  'days_until_exp': 180,\n",
       "  'strike_pct': 0.9,\n",
       "  'days_to_gain': 36,\n",
       "  'stock_gain_pct': 0.2,\n",
       "  'allocation': 100,\n",
       "  'label': '180d(20%) Put OTM strike0.9 +20%'},\n",
       " {'tickers': ['nvda',\n",
       "   'crwd',\n",
       "   'snow',\n",
       "   'five',\n",
       "   'bby',\n",
       "   'dg',\n",
       "   'dks',\n",
       "   'dell',\n",
       "   'afrm',\n",
       "   'mrvl',\n",
       "   'ulta',\n",
       "   'adsk',\n",
       "   'gap',\n",
       "   'baba',\n",
       "   'td'],\n",
       "  'option_type': 'call',\n",
       "  'days_until_exp': 180,\n",
       "  'strike_pct': -0.1,\n",
       "  'days_to_gain': 90,\n",
       "  'stock_gain_pct': 0.1,\n",
       "  'allocation': 100,\n",
       "  'label': '180d(50%) Call ITM strike-0.1 +10%'},\n",
       " {'tickers': ['nvda',\n",
       "   'crwd',\n",
       "   'snow',\n",
       "   'five',\n",
       "   'bby',\n",
       "   'dg',\n",
       "   'dks',\n",
       "   'dell',\n",
       "   'afrm',\n",
       "   'mrvl',\n",
       "   'ulta',\n",
       "   'adsk',\n",
       "   'gap',\n",
       "   'baba',\n",
       "   'td'],\n",
       "  'option_type': 'call',\n",
       "  'days_until_exp': 180,\n",
       "  'strike_pct': -0.5,\n",
       "  'days_to_gain': 90,\n",
       "  'stock_gain_pct': 0.1,\n",
       "  'allocation': 100,\n",
       "  'label': '180d(50%) Call ITM strike-0.5 +10%'},\n",
       " {'tickers': ['nvda',\n",
       "   'crwd',\n",
       "   'snow',\n",
       "   'five',\n",
       "   'bby',\n",
       "   'dg',\n",
       "   'dks',\n",
       "   'dell',\n",
       "   'afrm',\n",
       "   'mrvl',\n",
       "   'ulta',\n",
       "   'adsk',\n",
       "   'gap',\n",
       "   'baba',\n",
       "   'td'],\n",
       "  'option_type': 'call',\n",
       "  'days_until_exp': 180,\n",
       "  'strike_pct': 0.2,\n",
       "  'days_to_gain': 90,\n",
       "  'stock_gain_pct': 0.1,\n",
       "  'allocation': 100,\n",
       "  'label': '180d(50%) Call OTM strike0.2 +10%'},\n",
       " {'tickers': ['nvda',\n",
       "   'crwd',\n",
       "   'snow',\n",
       "   'five',\n",
       "   'bby',\n",
       "   'dg',\n",
       "   'dks',\n",
       "   'dell',\n",
       "   'afrm',\n",
       "   'mrvl',\n",
       "   'ulta',\n",
       "   'adsk',\n",
       "   'gap',\n",
       "   'baba',\n",
       "   'td'],\n",
       "  'option_type': 'call',\n",
       "  'days_until_exp': 180,\n",
       "  'strike_pct': 0.5,\n",
       "  'days_to_gain': 90,\n",
       "  'stock_gain_pct': 0.1,\n",
       "  'allocation': 100,\n",
       "  'label': '180d(50%) Call OTM strike0.5 +10%'},\n",
       " {'tickers': ['nvda',\n",
       "   'crwd',\n",
       "   'snow',\n",
       "   'five',\n",
       "   'bby',\n",
       "   'dg',\n",
       "   'dks',\n",
       "   'dell',\n",
       "   'afrm',\n",
       "   'mrvl',\n",
       "   'ulta',\n",
       "   'adsk',\n",
       "   'gap',\n",
       "   'baba',\n",
       "   'td'],\n",
       "  'option_type': 'call',\n",
       "  'days_until_exp': 180,\n",
       "  'strike_pct': 0.9,\n",
       "  'days_to_gain': 90,\n",
       "  'stock_gain_pct': 0.1,\n",
       "  'allocation': 100,\n",
       "  'label': '180d(50%) Call OTM strike0.9 +10%'},\n",
       " {'tickers': ['nvda',\n",
       "   'crwd',\n",
       "   'snow',\n",
       "   'five',\n",
       "   'bby',\n",
       "   'dg',\n",
       "   'dks',\n",
       "   'dell',\n",
       "   'afrm',\n",
       "   'mrvl',\n",
       "   'ulta',\n",
       "   'adsk',\n",
       "   'gap',\n",
       "   'baba',\n",
       "   'td'],\n",
       "  'option_type': 'call',\n",
       "  'days_until_exp': 180,\n",
       "  'strike_pct': -0.1,\n",
       "  'days_to_gain': 90,\n",
       "  'stock_gain_pct': 0.2,\n",
       "  'allocation': 100,\n",
       "  'label': '180d(50%) Call ITM strike-0.1 +20%'},\n",
       " {'tickers': ['nvda',\n",
       "   'crwd',\n",
       "   'snow',\n",
       "   'five',\n",
       "   'bby',\n",
       "   'dg',\n",
       "   'dks',\n",
       "   'dell',\n",
       "   'afrm',\n",
       "   'mrvl',\n",
       "   'ulta',\n",
       "   'adsk',\n",
       "   'gap',\n",
       "   'baba',\n",
       "   'td'],\n",
       "  'option_type': 'call',\n",
       "  'days_until_exp': 180,\n",
       "  'strike_pct': -0.5,\n",
       "  'days_to_gain': 90,\n",
       "  'stock_gain_pct': 0.2,\n",
       "  'allocation': 100,\n",
       "  'label': '180d(50%) Call ITM strike-0.5 +20%'},\n",
       " {'tickers': ['nvda',\n",
       "   'crwd',\n",
       "   'snow',\n",
       "   'five',\n",
       "   'bby',\n",
       "   'dg',\n",
       "   'dks',\n",
       "   'dell',\n",
       "   'afrm',\n",
       "   'mrvl',\n",
       "   'ulta',\n",
       "   'adsk',\n",
       "   'gap',\n",
       "   'baba',\n",
       "   'td'],\n",
       "  'option_type': 'call',\n",
       "  'days_until_exp': 180,\n",
       "  'strike_pct': 0.2,\n",
       "  'days_to_gain': 90,\n",
       "  'stock_gain_pct': 0.2,\n",
       "  'allocation': 100,\n",
       "  'label': '180d(50%) Call OTM strike0.2 +20%'},\n",
       " {'tickers': ['nvda',\n",
       "   'crwd',\n",
       "   'snow',\n",
       "   'five',\n",
       "   'bby',\n",
       "   'dg',\n",
       "   'dks',\n",
       "   'dell',\n",
       "   'afrm',\n",
       "   'mrvl',\n",
       "   'ulta',\n",
       "   'adsk',\n",
       "   'gap',\n",
       "   'baba',\n",
       "   'td'],\n",
       "  'option_type': 'call',\n",
       "  'days_until_exp': 180,\n",
       "  'strike_pct': 0.5,\n",
       "  'days_to_gain': 90,\n",
       "  'stock_gain_pct': 0.2,\n",
       "  'allocation': 100,\n",
       "  'label': '180d(50%) Call OTM strike0.5 +20%'},\n",
       " {'tickers': ['nvda',\n",
       "   'crwd',\n",
       "   'snow',\n",
       "   'five',\n",
       "   'bby',\n",
       "   'dg',\n",
       "   'dks',\n",
       "   'dell',\n",
       "   'afrm',\n",
       "   'mrvl',\n",
       "   'ulta',\n",
       "   'adsk',\n",
       "   'gap',\n",
       "   'baba',\n",
       "   'td'],\n",
       "  'option_type': 'call',\n",
       "  'days_until_exp': 180,\n",
       "  'strike_pct': 0.9,\n",
       "  'days_to_gain': 90,\n",
       "  'stock_gain_pct': 0.2,\n",
       "  'allocation': 100,\n",
       "  'label': '180d(50%) Call OTM strike0.9 +20%'},\n",
       " {'tickers': ['nvda',\n",
       "   'crwd',\n",
       "   'snow',\n",
       "   'five',\n",
       "   'bby',\n",
       "   'dg',\n",
       "   'dks',\n",
       "   'dell',\n",
       "   'afrm',\n",
       "   'mrvl',\n",
       "   'ulta',\n",
       "   'adsk',\n",
       "   'gap',\n",
       "   'baba',\n",
       "   'td'],\n",
       "  'option_type': 'call',\n",
       "  'days_until_exp': 180,\n",
       "  'strike_pct': -0.1,\n",
       "  'days_to_gain': 90,\n",
       "  'stock_gain_pct': 0.5,\n",
       "  'allocation': 100,\n",
       "  'label': '180d(50%) Call ITM strike-0.1 +50%'},\n",
       " {'tickers': ['nvda',\n",
       "   'crwd',\n",
       "   'snow',\n",
       "   'five',\n",
       "   'bby',\n",
       "   'dg',\n",
       "   'dks',\n",
       "   'dell',\n",
       "   'afrm',\n",
       "   'mrvl',\n",
       "   'ulta',\n",
       "   'adsk',\n",
       "   'gap',\n",
       "   'baba',\n",
       "   'td'],\n",
       "  'option_type': 'call',\n",
       "  'days_until_exp': 180,\n",
       "  'strike_pct': -0.5,\n",
       "  'days_to_gain': 90,\n",
       "  'stock_gain_pct': 0.5,\n",
       "  'allocation': 100,\n",
       "  'label': '180d(50%) Call ITM strike-0.5 +50%'},\n",
       " {'tickers': ['nvda',\n",
       "   'crwd',\n",
       "   'snow',\n",
       "   'five',\n",
       "   'bby',\n",
       "   'dg',\n",
       "   'dks',\n",
       "   'dell',\n",
       "   'afrm',\n",
       "   'mrvl',\n",
       "   'ulta',\n",
       "   'adsk',\n",
       "   'gap',\n",
       "   'baba',\n",
       "   'td'],\n",
       "  'option_type': 'call',\n",
       "  'days_until_exp': 180,\n",
       "  'strike_pct': 0.2,\n",
       "  'days_to_gain': 90,\n",
       "  'stock_gain_pct': 0.5,\n",
       "  'allocation': 100,\n",
       "  'label': '180d(50%) Call OTM strike0.2 +50%'},\n",
       " {'tickers': ['nvda',\n",
       "   'crwd',\n",
       "   'snow',\n",
       "   'five',\n",
       "   'bby',\n",
       "   'dg',\n",
       "   'dks',\n",
       "   'dell',\n",
       "   'afrm',\n",
       "   'mrvl',\n",
       "   'ulta',\n",
       "   'adsk',\n",
       "   'gap',\n",
       "   'baba',\n",
       "   'td'],\n",
       "  'option_type': 'call',\n",
       "  'days_until_exp': 180,\n",
       "  'strike_pct': 0.5,\n",
       "  'days_to_gain': 90,\n",
       "  'stock_gain_pct': 0.5,\n",
       "  'allocation': 100,\n",
       "  'label': '180d(50%) Call OTM strike0.5 +50%'},\n",
       " {'tickers': ['nvda',\n",
       "   'crwd',\n",
       "   'snow',\n",
       "   'five',\n",
       "   'bby',\n",
       "   'dg',\n",
       "   'dks',\n",
       "   'dell',\n",
       "   'afrm',\n",
       "   'mrvl',\n",
       "   'ulta',\n",
       "   'adsk',\n",
       "   'gap',\n",
       "   'baba',\n",
       "   'td'],\n",
       "  'option_type': 'call',\n",
       "  'days_until_exp': 180,\n",
       "  'strike_pct': 0.9,\n",
       "  'days_to_gain': 90,\n",
       "  'stock_gain_pct': 0.5,\n",
       "  'allocation': 100,\n",
       "  'label': '180d(50%) Call OTM strike0.9 +50%'},\n",
       " {'tickers': ['nvda',\n",
       "   'crwd',\n",
       "   'snow',\n",
       "   'five',\n",
       "   'bby',\n",
       "   'dg',\n",
       "   'dks',\n",
       "   'dell',\n",
       "   'afrm',\n",
       "   'mrvl',\n",
       "   'ulta',\n",
       "   'adsk',\n",
       "   'gap',\n",
       "   'baba',\n",
       "   'td'],\n",
       "  'option_type': 'call',\n",
       "  'days_until_exp': 180,\n",
       "  'strike_pct': -0.1,\n",
       "  'days_to_gain': 90,\n",
       "  'stock_gain_pct': -0.2,\n",
       "  'allocation': 100,\n",
       "  'label': '180d(50%) Call ITM strike-0.1 -20%'},\n",
       " {'tickers': ['nvda',\n",
       "   'crwd',\n",
       "   'snow',\n",
       "   'five',\n",
       "   'bby',\n",
       "   'dg',\n",
       "   'dks',\n",
       "   'dell',\n",
       "   'afrm',\n",
       "   'mrvl',\n",
       "   'ulta',\n",
       "   'adsk',\n",
       "   'gap',\n",
       "   'baba',\n",
       "   'td'],\n",
       "  'option_type': 'call',\n",
       "  'days_until_exp': 180,\n",
       "  'strike_pct': -0.5,\n",
       "  'days_to_gain': 90,\n",
       "  'stock_gain_pct': -0.2,\n",
       "  'allocation': 100,\n",
       "  'label': '180d(50%) Call ITM strike-0.5 -20%'},\n",
       " {'tickers': ['nvda',\n",
       "   'crwd',\n",
       "   'snow',\n",
       "   'five',\n",
       "   'bby',\n",
       "   'dg',\n",
       "   'dks',\n",
       "   'dell',\n",
       "   'afrm',\n",
       "   'mrvl',\n",
       "   'ulta',\n",
       "   'adsk',\n",
       "   'gap',\n",
       "   'baba',\n",
       "   'td'],\n",
       "  'option_type': 'call',\n",
       "  'days_until_exp': 180,\n",
       "  'strike_pct': 0.2,\n",
       "  'days_to_gain': 90,\n",
       "  'stock_gain_pct': -0.2,\n",
       "  'allocation': 100,\n",
       "  'label': '180d(50%) Call OTM strike0.2 -20%'},\n",
       " {'tickers': ['nvda',\n",
       "   'crwd',\n",
       "   'snow',\n",
       "   'five',\n",
       "   'bby',\n",
       "   'dg',\n",
       "   'dks',\n",
       "   'dell',\n",
       "   'afrm',\n",
       "   'mrvl',\n",
       "   'ulta',\n",
       "   'adsk',\n",
       "   'gap',\n",
       "   'baba',\n",
       "   'td'],\n",
       "  'option_type': 'call',\n",
       "  'days_until_exp': 180,\n",
       "  'strike_pct': 0.5,\n",
       "  'days_to_gain': 90,\n",
       "  'stock_gain_pct': -0.2,\n",
       "  'allocation': 100,\n",
       "  'label': '180d(50%) Call OTM strike0.5 -20%'},\n",
       " {'tickers': ['nvda',\n",
       "   'crwd',\n",
       "   'snow',\n",
       "   'five',\n",
       "   'bby',\n",
       "   'dg',\n",
       "   'dks',\n",
       "   'dell',\n",
       "   'afrm',\n",
       "   'mrvl',\n",
       "   'ulta',\n",
       "   'adsk',\n",
       "   'gap',\n",
       "   'baba',\n",
       "   'td'],\n",
       "  'option_type': 'call',\n",
       "  'days_until_exp': 180,\n",
       "  'strike_pct': 0.9,\n",
       "  'days_to_gain': 90,\n",
       "  'stock_gain_pct': -0.2,\n",
       "  'allocation': 100,\n",
       "  'label': '180d(50%) Call OTM strike0.9 -20%'},\n",
       " {'tickers': ['nvda',\n",
       "   'crwd',\n",
       "   'snow',\n",
       "   'five',\n",
       "   'bby',\n",
       "   'dg',\n",
       "   'dks',\n",
       "   'dell',\n",
       "   'afrm',\n",
       "   'mrvl',\n",
       "   'ulta',\n",
       "   'adsk',\n",
       "   'gap',\n",
       "   'baba',\n",
       "   'td'],\n",
       "  'option_type': 'put',\n",
       "  'days_until_exp': 180,\n",
       "  'strike_pct': -0.1,\n",
       "  'days_to_gain': 90,\n",
       "  'stock_gain_pct': -0.1,\n",
       "  'allocation': 100,\n",
       "  'label': '180d(50%) Put ITM strike-0.1 -10%'},\n",
       " {'tickers': ['nvda',\n",
       "   'crwd',\n",
       "   'snow',\n",
       "   'five',\n",
       "   'bby',\n",
       "   'dg',\n",
       "   'dks',\n",
       "   'dell',\n",
       "   'afrm',\n",
       "   'mrvl',\n",
       "   'ulta',\n",
       "   'adsk',\n",
       "   'gap',\n",
       "   'baba',\n",
       "   'td'],\n",
       "  'option_type': 'put',\n",
       "  'days_until_exp': 180,\n",
       "  'strike_pct': -0.5,\n",
       "  'days_to_gain': 90,\n",
       "  'stock_gain_pct': -0.1,\n",
       "  'allocation': 100,\n",
       "  'label': '180d(50%) Put ITM strike-0.5 -10%'},\n",
       " {'tickers': ['nvda',\n",
       "   'crwd',\n",
       "   'snow',\n",
       "   'five',\n",
       "   'bby',\n",
       "   'dg',\n",
       "   'dks',\n",
       "   'dell',\n",
       "   'afrm',\n",
       "   'mrvl',\n",
       "   'ulta',\n",
       "   'adsk',\n",
       "   'gap',\n",
       "   'baba',\n",
       "   'td'],\n",
       "  'option_type': 'put',\n",
       "  'days_until_exp': 180,\n",
       "  'strike_pct': 0.2,\n",
       "  'days_to_gain': 90,\n",
       "  'stock_gain_pct': -0.1,\n",
       "  'allocation': 100,\n",
       "  'label': '180d(50%) Put OTM strike0.2 -10%'},\n",
       " {'tickers': ['nvda',\n",
       "   'crwd',\n",
       "   'snow',\n",
       "   'five',\n",
       "   'bby',\n",
       "   'dg',\n",
       "   'dks',\n",
       "   'dell',\n",
       "   'afrm',\n",
       "   'mrvl',\n",
       "   'ulta',\n",
       "   'adsk',\n",
       "   'gap',\n",
       "   'baba',\n",
       "   'td'],\n",
       "  'option_type': 'put',\n",
       "  'days_until_exp': 180,\n",
       "  'strike_pct': 0.5,\n",
       "  'days_to_gain': 90,\n",
       "  'stock_gain_pct': -0.1,\n",
       "  'allocation': 100,\n",
       "  'label': '180d(50%) Put OTM strike0.5 -10%'},\n",
       " {'tickers': ['nvda',\n",
       "   'crwd',\n",
       "   'snow',\n",
       "   'five',\n",
       "   'bby',\n",
       "   'dg',\n",
       "   'dks',\n",
       "   'dell',\n",
       "   'afrm',\n",
       "   'mrvl',\n",
       "   'ulta',\n",
       "   'adsk',\n",
       "   'gap',\n",
       "   'baba',\n",
       "   'td'],\n",
       "  'option_type': 'put',\n",
       "  'days_until_exp': 180,\n",
       "  'strike_pct': 0.9,\n",
       "  'days_to_gain': 90,\n",
       "  'stock_gain_pct': -0.1,\n",
       "  'allocation': 100,\n",
       "  'label': '180d(50%) Put OTM strike0.9 -10%'},\n",
       " {'tickers': ['nvda',\n",
       "   'crwd',\n",
       "   'snow',\n",
       "   'five',\n",
       "   'bby',\n",
       "   'dg',\n",
       "   'dks',\n",
       "   'dell',\n",
       "   'afrm',\n",
       "   'mrvl',\n",
       "   'ulta',\n",
       "   'adsk',\n",
       "   'gap',\n",
       "   'baba',\n",
       "   'td'],\n",
       "  'option_type': 'put',\n",
       "  'days_until_exp': 180,\n",
       "  'strike_pct': -0.1,\n",
       "  'days_to_gain': 90,\n",
       "  'stock_gain_pct': -0.2,\n",
       "  'allocation': 100,\n",
       "  'label': '180d(50%) Put ITM strike-0.1 -20%'},\n",
       " {'tickers': ['nvda',\n",
       "   'crwd',\n",
       "   'snow',\n",
       "   'five',\n",
       "   'bby',\n",
       "   'dg',\n",
       "   'dks',\n",
       "   'dell',\n",
       "   'afrm',\n",
       "   'mrvl',\n",
       "   'ulta',\n",
       "   'adsk',\n",
       "   'gap',\n",
       "   'baba',\n",
       "   'td'],\n",
       "  'option_type': 'put',\n",
       "  'days_until_exp': 180,\n",
       "  'strike_pct': -0.5,\n",
       "  'days_to_gain': 90,\n",
       "  'stock_gain_pct': -0.2,\n",
       "  'allocation': 100,\n",
       "  'label': '180d(50%) Put ITM strike-0.5 -20%'},\n",
       " {'tickers': ['nvda',\n",
       "   'crwd',\n",
       "   'snow',\n",
       "   'five',\n",
       "   'bby',\n",
       "   'dg',\n",
       "   'dks',\n",
       "   'dell',\n",
       "   'afrm',\n",
       "   'mrvl',\n",
       "   'ulta',\n",
       "   'adsk',\n",
       "   'gap',\n",
       "   'baba',\n",
       "   'td'],\n",
       "  'option_type': 'put',\n",
       "  'days_until_exp': 180,\n",
       "  'strike_pct': 0.2,\n",
       "  'days_to_gain': 90,\n",
       "  'stock_gain_pct': -0.2,\n",
       "  'allocation': 100,\n",
       "  'label': '180d(50%) Put OTM strike0.2 -20%'},\n",
       " {'tickers': ['nvda',\n",
       "   'crwd',\n",
       "   'snow',\n",
       "   'five',\n",
       "   'bby',\n",
       "   'dg',\n",
       "   'dks',\n",
       "   'dell',\n",
       "   'afrm',\n",
       "   'mrvl',\n",
       "   'ulta',\n",
       "   'adsk',\n",
       "   'gap',\n",
       "   'baba',\n",
       "   'td'],\n",
       "  'option_type': 'put',\n",
       "  'days_until_exp': 180,\n",
       "  'strike_pct': 0.5,\n",
       "  'days_to_gain': 90,\n",
       "  'stock_gain_pct': -0.2,\n",
       "  'allocation': 100,\n",
       "  'label': '180d(50%) Put OTM strike0.5 -20%'},\n",
       " {'tickers': ['nvda',\n",
       "   'crwd',\n",
       "   'snow',\n",
       "   'five',\n",
       "   'bby',\n",
       "   'dg',\n",
       "   'dks',\n",
       "   'dell',\n",
       "   'afrm',\n",
       "   'mrvl',\n",
       "   'ulta',\n",
       "   'adsk',\n",
       "   'gap',\n",
       "   'baba',\n",
       "   'td'],\n",
       "  'option_type': 'put',\n",
       "  'days_until_exp': 180,\n",
       "  'strike_pct': 0.9,\n",
       "  'days_to_gain': 90,\n",
       "  'stock_gain_pct': -0.2,\n",
       "  'allocation': 100,\n",
       "  'label': '180d(50%) Put OTM strike0.9 -20%'},\n",
       " {'tickers': ['nvda',\n",
       "   'crwd',\n",
       "   'snow',\n",
       "   'five',\n",
       "   'bby',\n",
       "   'dg',\n",
       "   'dks',\n",
       "   'dell',\n",
       "   'afrm',\n",
       "   'mrvl',\n",
       "   'ulta',\n",
       "   'adsk',\n",
       "   'gap',\n",
       "   'baba',\n",
       "   'td'],\n",
       "  'option_type': 'put',\n",
       "  'days_until_exp': 180,\n",
       "  'strike_pct': -0.1,\n",
       "  'days_to_gain': 90,\n",
       "  'stock_gain_pct': 0.2,\n",
       "  'allocation': 100,\n",
       "  'label': '180d(50%) Put ITM strike-0.1 +20%'},\n",
       " {'tickers': ['nvda',\n",
       "   'crwd',\n",
       "   'snow',\n",
       "   'five',\n",
       "   'bby',\n",
       "   'dg',\n",
       "   'dks',\n",
       "   'dell',\n",
       "   'afrm',\n",
       "   'mrvl',\n",
       "   'ulta',\n",
       "   'adsk',\n",
       "   'gap',\n",
       "   'baba',\n",
       "   'td'],\n",
       "  'option_type': 'put',\n",
       "  'days_until_exp': 180,\n",
       "  'strike_pct': -0.5,\n",
       "  'days_to_gain': 90,\n",
       "  'stock_gain_pct': 0.2,\n",
       "  'allocation': 100,\n",
       "  'label': '180d(50%) Put ITM strike-0.5 +20%'},\n",
       " {'tickers': ['nvda',\n",
       "   'crwd',\n",
       "   'snow',\n",
       "   'five',\n",
       "   'bby',\n",
       "   'dg',\n",
       "   'dks',\n",
       "   'dell',\n",
       "   'afrm',\n",
       "   'mrvl',\n",
       "   'ulta',\n",
       "   'adsk',\n",
       "   'gap',\n",
       "   'baba',\n",
       "   'td'],\n",
       "  'option_type': 'put',\n",
       "  'days_until_exp': 180,\n",
       "  'strike_pct': 0.2,\n",
       "  'days_to_gain': 90,\n",
       "  'stock_gain_pct': 0.2,\n",
       "  'allocation': 100,\n",
       "  'label': '180d(50%) Put OTM strike0.2 +20%'},\n",
       " {'tickers': ['nvda',\n",
       "   'crwd',\n",
       "   'snow',\n",
       "   'five',\n",
       "   'bby',\n",
       "   'dg',\n",
       "   'dks',\n",
       "   'dell',\n",
       "   'afrm',\n",
       "   'mrvl',\n",
       "   'ulta',\n",
       "   'adsk',\n",
       "   'gap',\n",
       "   'baba',\n",
       "   'td'],\n",
       "  'option_type': 'put',\n",
       "  'days_until_exp': 180,\n",
       "  'strike_pct': 0.5,\n",
       "  'days_to_gain': 90,\n",
       "  'stock_gain_pct': 0.2,\n",
       "  'allocation': 100,\n",
       "  'label': '180d(50%) Put OTM strike0.5 +20%'},\n",
       " {'tickers': ['nvda',\n",
       "   'crwd',\n",
       "   'snow',\n",
       "   'five',\n",
       "   'bby',\n",
       "   'dg',\n",
       "   'dks',\n",
       "   'dell',\n",
       "   'afrm',\n",
       "   'mrvl',\n",
       "   'ulta',\n",
       "   'adsk',\n",
       "   'gap',\n",
       "   'baba',\n",
       "   'td'],\n",
       "  'option_type': 'put',\n",
       "  'days_until_exp': 180,\n",
       "  'strike_pct': 0.9,\n",
       "  'days_to_gain': 90,\n",
       "  'stock_gain_pct': 0.2,\n",
       "  'allocation': 100,\n",
       "  'label': '180d(50%) Put OTM strike0.9 +20%'},\n",
       " {'tickers': ['nvda',\n",
       "   'crwd',\n",
       "   'snow',\n",
       "   'five',\n",
       "   'bby',\n",
       "   'dg',\n",
       "   'dks',\n",
       "   'dell',\n",
       "   'afrm',\n",
       "   'mrvl',\n",
       "   'ulta',\n",
       "   'adsk',\n",
       "   'gap',\n",
       "   'baba',\n",
       "   'td'],\n",
       "  'option_type': 'call',\n",
       "  'days_until_exp': 270,\n",
       "  'strike_pct': -0.1,\n",
       "  'days_to_gain': 54,\n",
       "  'stock_gain_pct': 0.1,\n",
       "  'allocation': 100,\n",
       "  'label': '270d(20%) Call ITM strike-0.1 +10%'},\n",
       " {'tickers': ['nvda',\n",
       "   'crwd',\n",
       "   'snow',\n",
       "   'five',\n",
       "   'bby',\n",
       "   'dg',\n",
       "   'dks',\n",
       "   'dell',\n",
       "   'afrm',\n",
       "   'mrvl',\n",
       "   'ulta',\n",
       "   'adsk',\n",
       "   'gap',\n",
       "   'baba',\n",
       "   'td'],\n",
       "  'option_type': 'call',\n",
       "  'days_until_exp': 270,\n",
       "  'strike_pct': -0.5,\n",
       "  'days_to_gain': 54,\n",
       "  'stock_gain_pct': 0.1,\n",
       "  'allocation': 100,\n",
       "  'label': '270d(20%) Call ITM strike-0.5 +10%'},\n",
       " {'tickers': ['nvda',\n",
       "   'crwd',\n",
       "   'snow',\n",
       "   'five',\n",
       "   'bby',\n",
       "   'dg',\n",
       "   'dks',\n",
       "   'dell',\n",
       "   'afrm',\n",
       "   'mrvl',\n",
       "   'ulta',\n",
       "   'adsk',\n",
       "   'gap',\n",
       "   'baba',\n",
       "   'td'],\n",
       "  'option_type': 'call',\n",
       "  'days_until_exp': 270,\n",
       "  'strike_pct': 0.2,\n",
       "  'days_to_gain': 54,\n",
       "  'stock_gain_pct': 0.1,\n",
       "  'allocation': 100,\n",
       "  'label': '270d(20%) Call OTM strike0.2 +10%'},\n",
       " {'tickers': ['nvda',\n",
       "   'crwd',\n",
       "   'snow',\n",
       "   'five',\n",
       "   'bby',\n",
       "   'dg',\n",
       "   'dks',\n",
       "   'dell',\n",
       "   'afrm',\n",
       "   'mrvl',\n",
       "   'ulta',\n",
       "   'adsk',\n",
       "   'gap',\n",
       "   'baba',\n",
       "   'td'],\n",
       "  'option_type': 'call',\n",
       "  'days_until_exp': 270,\n",
       "  'strike_pct': 0.5,\n",
       "  'days_to_gain': 54,\n",
       "  'stock_gain_pct': 0.1,\n",
       "  'allocation': 100,\n",
       "  'label': '270d(20%) Call OTM strike0.5 +10%'},\n",
       " {'tickers': ['nvda',\n",
       "   'crwd',\n",
       "   'snow',\n",
       "   'five',\n",
       "   'bby',\n",
       "   'dg',\n",
       "   'dks',\n",
       "   'dell',\n",
       "   'afrm',\n",
       "   'mrvl',\n",
       "   'ulta',\n",
       "   'adsk',\n",
       "   'gap',\n",
       "   'baba',\n",
       "   'td'],\n",
       "  'option_type': 'call',\n",
       "  'days_until_exp': 270,\n",
       "  'strike_pct': 0.9,\n",
       "  'days_to_gain': 54,\n",
       "  'stock_gain_pct': 0.1,\n",
       "  'allocation': 100,\n",
       "  'label': '270d(20%) Call OTM strike0.9 +10%'},\n",
       " {'tickers': ['nvda',\n",
       "   'crwd',\n",
       "   'snow',\n",
       "   'five',\n",
       "   'bby',\n",
       "   'dg',\n",
       "   'dks',\n",
       "   'dell',\n",
       "   'afrm',\n",
       "   'mrvl',\n",
       "   'ulta',\n",
       "   'adsk',\n",
       "   'gap',\n",
       "   'baba',\n",
       "   'td'],\n",
       "  'option_type': 'call',\n",
       "  'days_until_exp': 270,\n",
       "  'strike_pct': -0.1,\n",
       "  'days_to_gain': 54,\n",
       "  'stock_gain_pct': 0.2,\n",
       "  'allocation': 100,\n",
       "  'label': '270d(20%) Call ITM strike-0.1 +20%'},\n",
       " {'tickers': ['nvda',\n",
       "   'crwd',\n",
       "   'snow',\n",
       "   'five',\n",
       "   'bby',\n",
       "   'dg',\n",
       "   'dks',\n",
       "   'dell',\n",
       "   'afrm',\n",
       "   'mrvl',\n",
       "   'ulta',\n",
       "   'adsk',\n",
       "   'gap',\n",
       "   'baba',\n",
       "   'td'],\n",
       "  'option_type': 'call',\n",
       "  'days_until_exp': 270,\n",
       "  'strike_pct': -0.5,\n",
       "  'days_to_gain': 54,\n",
       "  'stock_gain_pct': 0.2,\n",
       "  'allocation': 100,\n",
       "  'label': '270d(20%) Call ITM strike-0.5 +20%'},\n",
       " {'tickers': ['nvda',\n",
       "   'crwd',\n",
       "   'snow',\n",
       "   'five',\n",
       "   'bby',\n",
       "   'dg',\n",
       "   'dks',\n",
       "   'dell',\n",
       "   'afrm',\n",
       "   'mrvl',\n",
       "   'ulta',\n",
       "   'adsk',\n",
       "   'gap',\n",
       "   'baba',\n",
       "   'td'],\n",
       "  'option_type': 'call',\n",
       "  'days_until_exp': 270,\n",
       "  'strike_pct': 0.2,\n",
       "  'days_to_gain': 54,\n",
       "  'stock_gain_pct': 0.2,\n",
       "  'allocation': 100,\n",
       "  'label': '270d(20%) Call OTM strike0.2 +20%'},\n",
       " {'tickers': ['nvda',\n",
       "   'crwd',\n",
       "   'snow',\n",
       "   'five',\n",
       "   'bby',\n",
       "   'dg',\n",
       "   'dks',\n",
       "   'dell',\n",
       "   'afrm',\n",
       "   'mrvl',\n",
       "   'ulta',\n",
       "   'adsk',\n",
       "   'gap',\n",
       "   'baba',\n",
       "   'td'],\n",
       "  'option_type': 'call',\n",
       "  'days_until_exp': 270,\n",
       "  'strike_pct': 0.5,\n",
       "  'days_to_gain': 54,\n",
       "  'stock_gain_pct': 0.2,\n",
       "  'allocation': 100,\n",
       "  'label': '270d(20%) Call OTM strike0.5 +20%'},\n",
       " {'tickers': ['nvda',\n",
       "   'crwd',\n",
       "   'snow',\n",
       "   'five',\n",
       "   'bby',\n",
       "   'dg',\n",
       "   'dks',\n",
       "   'dell',\n",
       "   'afrm',\n",
       "   'mrvl',\n",
       "   'ulta',\n",
       "   'adsk',\n",
       "   'gap',\n",
       "   'baba',\n",
       "   'td'],\n",
       "  'option_type': 'call',\n",
       "  'days_until_exp': 270,\n",
       "  'strike_pct': 0.9,\n",
       "  'days_to_gain': 54,\n",
       "  'stock_gain_pct': 0.2,\n",
       "  'allocation': 100,\n",
       "  'label': '270d(20%) Call OTM strike0.9 +20%'},\n",
       " {'tickers': ['nvda',\n",
       "   'crwd',\n",
       "   'snow',\n",
       "   'five',\n",
       "   'bby',\n",
       "   'dg',\n",
       "   'dks',\n",
       "   'dell',\n",
       "   'afrm',\n",
       "   'mrvl',\n",
       "   'ulta',\n",
       "   'adsk',\n",
       "   'gap',\n",
       "   'baba',\n",
       "   'td'],\n",
       "  'option_type': 'call',\n",
       "  'days_until_exp': 270,\n",
       "  'strike_pct': -0.1,\n",
       "  'days_to_gain': 54,\n",
       "  'stock_gain_pct': 0.5,\n",
       "  'allocation': 100,\n",
       "  'label': '270d(20%) Call ITM strike-0.1 +50%'},\n",
       " {'tickers': ['nvda',\n",
       "   'crwd',\n",
       "   'snow',\n",
       "   'five',\n",
       "   'bby',\n",
       "   'dg',\n",
       "   'dks',\n",
       "   'dell',\n",
       "   'afrm',\n",
       "   'mrvl',\n",
       "   'ulta',\n",
       "   'adsk',\n",
       "   'gap',\n",
       "   'baba',\n",
       "   'td'],\n",
       "  'option_type': 'call',\n",
       "  'days_until_exp': 270,\n",
       "  'strike_pct': -0.5,\n",
       "  'days_to_gain': 54,\n",
       "  'stock_gain_pct': 0.5,\n",
       "  'allocation': 100,\n",
       "  'label': '270d(20%) Call ITM strike-0.5 +50%'},\n",
       " {'tickers': ['nvda',\n",
       "   'crwd',\n",
       "   'snow',\n",
       "   'five',\n",
       "   'bby',\n",
       "   'dg',\n",
       "   'dks',\n",
       "   'dell',\n",
       "   'afrm',\n",
       "   'mrvl',\n",
       "   'ulta',\n",
       "   'adsk',\n",
       "   'gap',\n",
       "   'baba',\n",
       "   'td'],\n",
       "  'option_type': 'call',\n",
       "  'days_until_exp': 270,\n",
       "  'strike_pct': 0.2,\n",
       "  'days_to_gain': 54,\n",
       "  'stock_gain_pct': 0.5,\n",
       "  'allocation': 100,\n",
       "  'label': '270d(20%) Call OTM strike0.2 +50%'},\n",
       " {'tickers': ['nvda',\n",
       "   'crwd',\n",
       "   'snow',\n",
       "   'five',\n",
       "   'bby',\n",
       "   'dg',\n",
       "   'dks',\n",
       "   'dell',\n",
       "   'afrm',\n",
       "   'mrvl',\n",
       "   'ulta',\n",
       "   'adsk',\n",
       "   'gap',\n",
       "   'baba',\n",
       "   'td'],\n",
       "  'option_type': 'call',\n",
       "  'days_until_exp': 270,\n",
       "  'strike_pct': 0.5,\n",
       "  'days_to_gain': 54,\n",
       "  'stock_gain_pct': 0.5,\n",
       "  'allocation': 100,\n",
       "  'label': '270d(20%) Call OTM strike0.5 +50%'},\n",
       " {'tickers': ['nvda',\n",
       "   'crwd',\n",
       "   'snow',\n",
       "   'five',\n",
       "   'bby',\n",
       "   'dg',\n",
       "   'dks',\n",
       "   'dell',\n",
       "   'afrm',\n",
       "   'mrvl',\n",
       "   'ulta',\n",
       "   'adsk',\n",
       "   'gap',\n",
       "   'baba',\n",
       "   'td'],\n",
       "  'option_type': 'call',\n",
       "  'days_until_exp': 270,\n",
       "  'strike_pct': 0.9,\n",
       "  'days_to_gain': 54,\n",
       "  'stock_gain_pct': 0.5,\n",
       "  'allocation': 100,\n",
       "  'label': '270d(20%) Call OTM strike0.9 +50%'},\n",
       " {'tickers': ['nvda',\n",
       "   'crwd',\n",
       "   'snow',\n",
       "   'five',\n",
       "   'bby',\n",
       "   'dg',\n",
       "   'dks',\n",
       "   'dell',\n",
       "   'afrm',\n",
       "   'mrvl',\n",
       "   'ulta',\n",
       "   'adsk',\n",
       "   'gap',\n",
       "   'baba',\n",
       "   'td'],\n",
       "  'option_type': 'call',\n",
       "  'days_until_exp': 270,\n",
       "  'strike_pct': -0.1,\n",
       "  'days_to_gain': 54,\n",
       "  'stock_gain_pct': -0.2,\n",
       "  'allocation': 100,\n",
       "  'label': '270d(20%) Call ITM strike-0.1 -20%'},\n",
       " {'tickers': ['nvda',\n",
       "   'crwd',\n",
       "   'snow',\n",
       "   'five',\n",
       "   'bby',\n",
       "   'dg',\n",
       "   'dks',\n",
       "   'dell',\n",
       "   'afrm',\n",
       "   'mrvl',\n",
       "   'ulta',\n",
       "   'adsk',\n",
       "   'gap',\n",
       "   'baba',\n",
       "   'td'],\n",
       "  'option_type': 'call',\n",
       "  'days_until_exp': 270,\n",
       "  'strike_pct': -0.5,\n",
       "  'days_to_gain': 54,\n",
       "  'stock_gain_pct': -0.2,\n",
       "  'allocation': 100,\n",
       "  'label': '270d(20%) Call ITM strike-0.5 -20%'},\n",
       " {'tickers': ['nvda',\n",
       "   'crwd',\n",
       "   'snow',\n",
       "   'five',\n",
       "   'bby',\n",
       "   'dg',\n",
       "   'dks',\n",
       "   'dell',\n",
       "   'afrm',\n",
       "   'mrvl',\n",
       "   'ulta',\n",
       "   'adsk',\n",
       "   'gap',\n",
       "   'baba',\n",
       "   'td'],\n",
       "  'option_type': 'call',\n",
       "  'days_until_exp': 270,\n",
       "  'strike_pct': 0.2,\n",
       "  'days_to_gain': 54,\n",
       "  'stock_gain_pct': -0.2,\n",
       "  'allocation': 100,\n",
       "  'label': '270d(20%) Call OTM strike0.2 -20%'},\n",
       " {'tickers': ['nvda',\n",
       "   'crwd',\n",
       "   'snow',\n",
       "   'five',\n",
       "   'bby',\n",
       "   'dg',\n",
       "   'dks',\n",
       "   'dell',\n",
       "   'afrm',\n",
       "   'mrvl',\n",
       "   'ulta',\n",
       "   'adsk',\n",
       "   'gap',\n",
       "   'baba',\n",
       "   'td'],\n",
       "  'option_type': 'call',\n",
       "  'days_until_exp': 270,\n",
       "  'strike_pct': 0.5,\n",
       "  'days_to_gain': 54,\n",
       "  'stock_gain_pct': -0.2,\n",
       "  'allocation': 100,\n",
       "  'label': '270d(20%) Call OTM strike0.5 -20%'},\n",
       " {'tickers': ['nvda',\n",
       "   'crwd',\n",
       "   'snow',\n",
       "   'five',\n",
       "   'bby',\n",
       "   'dg',\n",
       "   'dks',\n",
       "   'dell',\n",
       "   'afrm',\n",
       "   'mrvl',\n",
       "   'ulta',\n",
       "   'adsk',\n",
       "   'gap',\n",
       "   'baba',\n",
       "   'td'],\n",
       "  'option_type': 'call',\n",
       "  'days_until_exp': 270,\n",
       "  'strike_pct': 0.9,\n",
       "  'days_to_gain': 54,\n",
       "  'stock_gain_pct': -0.2,\n",
       "  'allocation': 100,\n",
       "  'label': '270d(20%) Call OTM strike0.9 -20%'},\n",
       " {'tickers': ['nvda',\n",
       "   'crwd',\n",
       "   'snow',\n",
       "   'five',\n",
       "   'bby',\n",
       "   'dg',\n",
       "   'dks',\n",
       "   'dell',\n",
       "   'afrm',\n",
       "   'mrvl',\n",
       "   'ulta',\n",
       "   'adsk',\n",
       "   'gap',\n",
       "   'baba',\n",
       "   'td'],\n",
       "  'option_type': 'put',\n",
       "  'days_until_exp': 270,\n",
       "  'strike_pct': -0.1,\n",
       "  'days_to_gain': 54,\n",
       "  'stock_gain_pct': -0.1,\n",
       "  'allocation': 100,\n",
       "  'label': '270d(20%) Put ITM strike-0.1 -10%'},\n",
       " {'tickers': ['nvda',\n",
       "   'crwd',\n",
       "   'snow',\n",
       "   'five',\n",
       "   'bby',\n",
       "   'dg',\n",
       "   'dks',\n",
       "   'dell',\n",
       "   'afrm',\n",
       "   'mrvl',\n",
       "   'ulta',\n",
       "   'adsk',\n",
       "   'gap',\n",
       "   'baba',\n",
       "   'td'],\n",
       "  'option_type': 'put',\n",
       "  'days_until_exp': 270,\n",
       "  'strike_pct': -0.5,\n",
       "  'days_to_gain': 54,\n",
       "  'stock_gain_pct': -0.1,\n",
       "  'allocation': 100,\n",
       "  'label': '270d(20%) Put ITM strike-0.5 -10%'},\n",
       " {'tickers': ['nvda',\n",
       "   'crwd',\n",
       "   'snow',\n",
       "   'five',\n",
       "   'bby',\n",
       "   'dg',\n",
       "   'dks',\n",
       "   'dell',\n",
       "   'afrm',\n",
       "   'mrvl',\n",
       "   'ulta',\n",
       "   'adsk',\n",
       "   'gap',\n",
       "   'baba',\n",
       "   'td'],\n",
       "  'option_type': 'put',\n",
       "  'days_until_exp': 270,\n",
       "  'strike_pct': 0.2,\n",
       "  'days_to_gain': 54,\n",
       "  'stock_gain_pct': -0.1,\n",
       "  'allocation': 100,\n",
       "  'label': '270d(20%) Put OTM strike0.2 -10%'},\n",
       " {'tickers': ['nvda',\n",
       "   'crwd',\n",
       "   'snow',\n",
       "   'five',\n",
       "   'bby',\n",
       "   'dg',\n",
       "   'dks',\n",
       "   'dell',\n",
       "   'afrm',\n",
       "   'mrvl',\n",
       "   'ulta',\n",
       "   'adsk',\n",
       "   'gap',\n",
       "   'baba',\n",
       "   'td'],\n",
       "  'option_type': 'put',\n",
       "  'days_until_exp': 270,\n",
       "  'strike_pct': 0.5,\n",
       "  'days_to_gain': 54,\n",
       "  'stock_gain_pct': -0.1,\n",
       "  'allocation': 100,\n",
       "  'label': '270d(20%) Put OTM strike0.5 -10%'},\n",
       " {'tickers': ['nvda',\n",
       "   'crwd',\n",
       "   'snow',\n",
       "   'five',\n",
       "   'bby',\n",
       "   'dg',\n",
       "   'dks',\n",
       "   'dell',\n",
       "   'afrm',\n",
       "   'mrvl',\n",
       "   'ulta',\n",
       "   'adsk',\n",
       "   'gap',\n",
       "   'baba',\n",
       "   'td'],\n",
       "  'option_type': 'put',\n",
       "  'days_until_exp': 270,\n",
       "  'strike_pct': 0.9,\n",
       "  'days_to_gain': 54,\n",
       "  'stock_gain_pct': -0.1,\n",
       "  'allocation': 100,\n",
       "  'label': '270d(20%) Put OTM strike0.9 -10%'},\n",
       " {'tickers': ['nvda',\n",
       "   'crwd',\n",
       "   'snow',\n",
       "   'five',\n",
       "   'bby',\n",
       "   'dg',\n",
       "   'dks',\n",
       "   'dell',\n",
       "   'afrm',\n",
       "   'mrvl',\n",
       "   'ulta',\n",
       "   'adsk',\n",
       "   'gap',\n",
       "   'baba',\n",
       "   'td'],\n",
       "  'option_type': 'put',\n",
       "  'days_until_exp': 270,\n",
       "  'strike_pct': -0.1,\n",
       "  'days_to_gain': 54,\n",
       "  'stock_gain_pct': -0.2,\n",
       "  'allocation': 100,\n",
       "  'label': '270d(20%) Put ITM strike-0.1 -20%'},\n",
       " {'tickers': ['nvda',\n",
       "   'crwd',\n",
       "   'snow',\n",
       "   'five',\n",
       "   'bby',\n",
       "   'dg',\n",
       "   'dks',\n",
       "   'dell',\n",
       "   'afrm',\n",
       "   'mrvl',\n",
       "   'ulta',\n",
       "   'adsk',\n",
       "   'gap',\n",
       "   'baba',\n",
       "   'td'],\n",
       "  'option_type': 'put',\n",
       "  'days_until_exp': 270,\n",
       "  'strike_pct': -0.5,\n",
       "  'days_to_gain': 54,\n",
       "  'stock_gain_pct': -0.2,\n",
       "  'allocation': 100,\n",
       "  'label': '270d(20%) Put ITM strike-0.5 -20%'},\n",
       " {'tickers': ['nvda',\n",
       "   'crwd',\n",
       "   'snow',\n",
       "   'five',\n",
       "   'bby',\n",
       "   'dg',\n",
       "   'dks',\n",
       "   'dell',\n",
       "   'afrm',\n",
       "   'mrvl',\n",
       "   'ulta',\n",
       "   'adsk',\n",
       "   'gap',\n",
       "   'baba',\n",
       "   'td'],\n",
       "  'option_type': 'put',\n",
       "  'days_until_exp': 270,\n",
       "  'strike_pct': 0.2,\n",
       "  'days_to_gain': 54,\n",
       "  'stock_gain_pct': -0.2,\n",
       "  'allocation': 100,\n",
       "  'label': '270d(20%) Put OTM strike0.2 -20%'},\n",
       " {'tickers': ['nvda',\n",
       "   'crwd',\n",
       "   'snow',\n",
       "   'five',\n",
       "   'bby',\n",
       "   'dg',\n",
       "   'dks',\n",
       "   'dell',\n",
       "   'afrm',\n",
       "   'mrvl',\n",
       "   'ulta',\n",
       "   'adsk',\n",
       "   'gap',\n",
       "   'baba',\n",
       "   'td'],\n",
       "  'option_type': 'put',\n",
       "  'days_until_exp': 270,\n",
       "  'strike_pct': 0.5,\n",
       "  'days_to_gain': 54,\n",
       "  'stock_gain_pct': -0.2,\n",
       "  'allocation': 100,\n",
       "  'label': '270d(20%) Put OTM strike0.5 -20%'},\n",
       " {'tickers': ['nvda',\n",
       "   'crwd',\n",
       "   'snow',\n",
       "   'five',\n",
       "   'bby',\n",
       "   'dg',\n",
       "   'dks',\n",
       "   'dell',\n",
       "   'afrm',\n",
       "   'mrvl',\n",
       "   'ulta',\n",
       "   'adsk',\n",
       "   'gap',\n",
       "   'baba',\n",
       "   'td'],\n",
       "  'option_type': 'put',\n",
       "  'days_until_exp': 270,\n",
       "  'strike_pct': 0.9,\n",
       "  'days_to_gain': 54,\n",
       "  'stock_gain_pct': -0.2,\n",
       "  'allocation': 100,\n",
       "  'label': '270d(20%) Put OTM strike0.9 -20%'},\n",
       " {'tickers': ['nvda',\n",
       "   'crwd',\n",
       "   'snow',\n",
       "   'five',\n",
       "   'bby',\n",
       "   'dg',\n",
       "   'dks',\n",
       "   'dell',\n",
       "   'afrm',\n",
       "   'mrvl',\n",
       "   'ulta',\n",
       "   'adsk',\n",
       "   'gap',\n",
       "   'baba',\n",
       "   'td'],\n",
       "  'option_type': 'put',\n",
       "  'days_until_exp': 270,\n",
       "  'strike_pct': -0.1,\n",
       "  'days_to_gain': 54,\n",
       "  'stock_gain_pct': 0.2,\n",
       "  'allocation': 100,\n",
       "  'label': '270d(20%) Put ITM strike-0.1 +20%'},\n",
       " {'tickers': ['nvda',\n",
       "   'crwd',\n",
       "   'snow',\n",
       "   'five',\n",
       "   'bby',\n",
       "   'dg',\n",
       "   'dks',\n",
       "   'dell',\n",
       "   'afrm',\n",
       "   'mrvl',\n",
       "   'ulta',\n",
       "   'adsk',\n",
       "   'gap',\n",
       "   'baba',\n",
       "   'td'],\n",
       "  'option_type': 'put',\n",
       "  'days_until_exp': 270,\n",
       "  'strike_pct': -0.5,\n",
       "  'days_to_gain': 54,\n",
       "  'stock_gain_pct': 0.2,\n",
       "  'allocation': 100,\n",
       "  'label': '270d(20%) Put ITM strike-0.5 +20%'},\n",
       " {'tickers': ['nvda',\n",
       "   'crwd',\n",
       "   'snow',\n",
       "   'five',\n",
       "   'bby',\n",
       "   'dg',\n",
       "   'dks',\n",
       "   'dell',\n",
       "   'afrm',\n",
       "   'mrvl',\n",
       "   'ulta',\n",
       "   'adsk',\n",
       "   'gap',\n",
       "   'baba',\n",
       "   'td'],\n",
       "  'option_type': 'put',\n",
       "  'days_until_exp': 270,\n",
       "  'strike_pct': 0.2,\n",
       "  'days_to_gain': 54,\n",
       "  'stock_gain_pct': 0.2,\n",
       "  'allocation': 100,\n",
       "  'label': '270d(20%) Put OTM strike0.2 +20%'},\n",
       " {'tickers': ['nvda',\n",
       "   'crwd',\n",
       "   'snow',\n",
       "   'five',\n",
       "   'bby',\n",
       "   'dg',\n",
       "   'dks',\n",
       "   'dell',\n",
       "   'afrm',\n",
       "   'mrvl',\n",
       "   'ulta',\n",
       "   'adsk',\n",
       "   'gap',\n",
       "   'baba',\n",
       "   'td'],\n",
       "  'option_type': 'put',\n",
       "  'days_until_exp': 270,\n",
       "  'strike_pct': 0.5,\n",
       "  'days_to_gain': 54,\n",
       "  'stock_gain_pct': 0.2,\n",
       "  'allocation': 100,\n",
       "  'label': '270d(20%) Put OTM strike0.5 +20%'},\n",
       " {'tickers': ['nvda',\n",
       "   'crwd',\n",
       "   'snow',\n",
       "   'five',\n",
       "   'bby',\n",
       "   'dg',\n",
       "   'dks',\n",
       "   'dell',\n",
       "   'afrm',\n",
       "   'mrvl',\n",
       "   'ulta',\n",
       "   'adsk',\n",
       "   'gap',\n",
       "   'baba',\n",
       "   'td'],\n",
       "  'option_type': 'put',\n",
       "  'days_until_exp': 270,\n",
       "  'strike_pct': 0.9,\n",
       "  'days_to_gain': 54,\n",
       "  'stock_gain_pct': 0.2,\n",
       "  'allocation': 100,\n",
       "  'label': '270d(20%) Put OTM strike0.9 +20%'},\n",
       " {'tickers': ['nvda',\n",
       "   'crwd',\n",
       "   'snow',\n",
       "   'five',\n",
       "   'bby',\n",
       "   'dg',\n",
       "   'dks',\n",
       "   'dell',\n",
       "   'afrm',\n",
       "   'mrvl',\n",
       "   'ulta',\n",
       "   'adsk',\n",
       "   'gap',\n",
       "   'baba',\n",
       "   'td'],\n",
       "  'option_type': 'call',\n",
       "  'days_until_exp': 270,\n",
       "  'strike_pct': -0.1,\n",
       "  'days_to_gain': 135,\n",
       "  'stock_gain_pct': 0.1,\n",
       "  'allocation': 100,\n",
       "  'label': '270d(50%) Call ITM strike-0.1 +10%'},\n",
       " {'tickers': ['nvda',\n",
       "   'crwd',\n",
       "   'snow',\n",
       "   'five',\n",
       "   'bby',\n",
       "   'dg',\n",
       "   'dks',\n",
       "   'dell',\n",
       "   'afrm',\n",
       "   'mrvl',\n",
       "   'ulta',\n",
       "   'adsk',\n",
       "   'gap',\n",
       "   'baba',\n",
       "   'td'],\n",
       "  'option_type': 'call',\n",
       "  'days_until_exp': 270,\n",
       "  'strike_pct': -0.5,\n",
       "  'days_to_gain': 135,\n",
       "  'stock_gain_pct': 0.1,\n",
       "  'allocation': 100,\n",
       "  'label': '270d(50%) Call ITM strike-0.5 +10%'},\n",
       " {'tickers': ['nvda',\n",
       "   'crwd',\n",
       "   'snow',\n",
       "   'five',\n",
       "   'bby',\n",
       "   'dg',\n",
       "   'dks',\n",
       "   'dell',\n",
       "   'afrm',\n",
       "   'mrvl',\n",
       "   'ulta',\n",
       "   'adsk',\n",
       "   'gap',\n",
       "   'baba',\n",
       "   'td'],\n",
       "  'option_type': 'call',\n",
       "  'days_until_exp': 270,\n",
       "  'strike_pct': 0.2,\n",
       "  'days_to_gain': 135,\n",
       "  'stock_gain_pct': 0.1,\n",
       "  'allocation': 100,\n",
       "  'label': '270d(50%) Call OTM strike0.2 +10%'},\n",
       " {'tickers': ['nvda',\n",
       "   'crwd',\n",
       "   'snow',\n",
       "   'five',\n",
       "   'bby',\n",
       "   'dg',\n",
       "   'dks',\n",
       "   'dell',\n",
       "   'afrm',\n",
       "   'mrvl',\n",
       "   'ulta',\n",
       "   'adsk',\n",
       "   'gap',\n",
       "   'baba',\n",
       "   'td'],\n",
       "  'option_type': 'call',\n",
       "  'days_until_exp': 270,\n",
       "  'strike_pct': 0.5,\n",
       "  'days_to_gain': 135,\n",
       "  'stock_gain_pct': 0.1,\n",
       "  'allocation': 100,\n",
       "  'label': '270d(50%) Call OTM strike0.5 +10%'},\n",
       " {'tickers': ['nvda',\n",
       "   'crwd',\n",
       "   'snow',\n",
       "   'five',\n",
       "   'bby',\n",
       "   'dg',\n",
       "   'dks',\n",
       "   'dell',\n",
       "   'afrm',\n",
       "   'mrvl',\n",
       "   'ulta',\n",
       "   'adsk',\n",
       "   'gap',\n",
       "   'baba',\n",
       "   'td'],\n",
       "  'option_type': 'call',\n",
       "  'days_until_exp': 270,\n",
       "  'strike_pct': 0.9,\n",
       "  'days_to_gain': 135,\n",
       "  'stock_gain_pct': 0.1,\n",
       "  'allocation': 100,\n",
       "  'label': '270d(50%) Call OTM strike0.9 +10%'},\n",
       " {'tickers': ['nvda',\n",
       "   'crwd',\n",
       "   'snow',\n",
       "   'five',\n",
       "   'bby',\n",
       "   'dg',\n",
       "   'dks',\n",
       "   'dell',\n",
       "   'afrm',\n",
       "   'mrvl',\n",
       "   'ulta',\n",
       "   'adsk',\n",
       "   'gap',\n",
       "   'baba',\n",
       "   'td'],\n",
       "  'option_type': 'call',\n",
       "  'days_until_exp': 270,\n",
       "  'strike_pct': -0.1,\n",
       "  'days_to_gain': 135,\n",
       "  'stock_gain_pct': 0.2,\n",
       "  'allocation': 100,\n",
       "  'label': '270d(50%) Call ITM strike-0.1 +20%'},\n",
       " {'tickers': ['nvda',\n",
       "   'crwd',\n",
       "   'snow',\n",
       "   'five',\n",
       "   'bby',\n",
       "   'dg',\n",
       "   'dks',\n",
       "   'dell',\n",
       "   'afrm',\n",
       "   'mrvl',\n",
       "   'ulta',\n",
       "   'adsk',\n",
       "   'gap',\n",
       "   'baba',\n",
       "   'td'],\n",
       "  'option_type': 'call',\n",
       "  'days_until_exp': 270,\n",
       "  'strike_pct': -0.5,\n",
       "  'days_to_gain': 135,\n",
       "  'stock_gain_pct': 0.2,\n",
       "  'allocation': 100,\n",
       "  'label': '270d(50%) Call ITM strike-0.5 +20%'},\n",
       " {'tickers': ['nvda',\n",
       "   'crwd',\n",
       "   'snow',\n",
       "   'five',\n",
       "   'bby',\n",
       "   'dg',\n",
       "   'dks',\n",
       "   'dell',\n",
       "   'afrm',\n",
       "   'mrvl',\n",
       "   'ulta',\n",
       "   'adsk',\n",
       "   'gap',\n",
       "   'baba',\n",
       "   'td'],\n",
       "  'option_type': 'call',\n",
       "  'days_until_exp': 270,\n",
       "  'strike_pct': 0.2,\n",
       "  'days_to_gain': 135,\n",
       "  'stock_gain_pct': 0.2,\n",
       "  'allocation': 100,\n",
       "  'label': '270d(50%) Call OTM strike0.2 +20%'},\n",
       " {'tickers': ['nvda',\n",
       "   'crwd',\n",
       "   'snow',\n",
       "   'five',\n",
       "   'bby',\n",
       "   'dg',\n",
       "   'dks',\n",
       "   'dell',\n",
       "   'afrm',\n",
       "   'mrvl',\n",
       "   'ulta',\n",
       "   'adsk',\n",
       "   'gap',\n",
       "   'baba',\n",
       "   'td'],\n",
       "  'option_type': 'call',\n",
       "  'days_until_exp': 270,\n",
       "  'strike_pct': 0.5,\n",
       "  'days_to_gain': 135,\n",
       "  'stock_gain_pct': 0.2,\n",
       "  'allocation': 100,\n",
       "  'label': '270d(50%) Call OTM strike0.5 +20%'},\n",
       " {'tickers': ['nvda',\n",
       "   'crwd',\n",
       "   'snow',\n",
       "   'five',\n",
       "   'bby',\n",
       "   'dg',\n",
       "   'dks',\n",
       "   'dell',\n",
       "   'afrm',\n",
       "   'mrvl',\n",
       "   'ulta',\n",
       "   'adsk',\n",
       "   'gap',\n",
       "   'baba',\n",
       "   'td'],\n",
       "  'option_type': 'call',\n",
       "  'days_until_exp': 270,\n",
       "  'strike_pct': 0.9,\n",
       "  'days_to_gain': 135,\n",
       "  'stock_gain_pct': 0.2,\n",
       "  'allocation': 100,\n",
       "  'label': '270d(50%) Call OTM strike0.9 +20%'},\n",
       " {'tickers': ['nvda',\n",
       "   'crwd',\n",
       "   'snow',\n",
       "   'five',\n",
       "   'bby',\n",
       "   'dg',\n",
       "   'dks',\n",
       "   'dell',\n",
       "   'afrm',\n",
       "   'mrvl',\n",
       "   'ulta',\n",
       "   'adsk',\n",
       "   'gap',\n",
       "   'baba',\n",
       "   'td'],\n",
       "  'option_type': 'call',\n",
       "  'days_until_exp': 270,\n",
       "  'strike_pct': -0.1,\n",
       "  'days_to_gain': 135,\n",
       "  'stock_gain_pct': 0.5,\n",
       "  'allocation': 100,\n",
       "  'label': '270d(50%) Call ITM strike-0.1 +50%'},\n",
       " {'tickers': ['nvda',\n",
       "   'crwd',\n",
       "   'snow',\n",
       "   'five',\n",
       "   'bby',\n",
       "   'dg',\n",
       "   'dks',\n",
       "   'dell',\n",
       "   'afrm',\n",
       "   'mrvl',\n",
       "   'ulta',\n",
       "   'adsk',\n",
       "   'gap',\n",
       "   'baba',\n",
       "   'td'],\n",
       "  'option_type': 'call',\n",
       "  'days_until_exp': 270,\n",
       "  'strike_pct': -0.5,\n",
       "  'days_to_gain': 135,\n",
       "  'stock_gain_pct': 0.5,\n",
       "  'allocation': 100,\n",
       "  'label': '270d(50%) Call ITM strike-0.5 +50%'},\n",
       " {'tickers': ['nvda',\n",
       "   'crwd',\n",
       "   'snow',\n",
       "   'five',\n",
       "   'bby',\n",
       "   'dg',\n",
       "   'dks',\n",
       "   'dell',\n",
       "   'afrm',\n",
       "   'mrvl',\n",
       "   'ulta',\n",
       "   'adsk',\n",
       "   'gap',\n",
       "   'baba',\n",
       "   'td'],\n",
       "  'option_type': 'call',\n",
       "  'days_until_exp': 270,\n",
       "  'strike_pct': 0.2,\n",
       "  'days_to_gain': 135,\n",
       "  'stock_gain_pct': 0.5,\n",
       "  'allocation': 100,\n",
       "  'label': '270d(50%) Call OTM strike0.2 +50%'},\n",
       " {'tickers': ['nvda',\n",
       "   'crwd',\n",
       "   'snow',\n",
       "   'five',\n",
       "   'bby',\n",
       "   'dg',\n",
       "   'dks',\n",
       "   'dell',\n",
       "   'afrm',\n",
       "   'mrvl',\n",
       "   'ulta',\n",
       "   'adsk',\n",
       "   'gap',\n",
       "   'baba',\n",
       "   'td'],\n",
       "  'option_type': 'call',\n",
       "  'days_until_exp': 270,\n",
       "  'strike_pct': 0.5,\n",
       "  'days_to_gain': 135,\n",
       "  'stock_gain_pct': 0.5,\n",
       "  'allocation': 100,\n",
       "  'label': '270d(50%) Call OTM strike0.5 +50%'},\n",
       " {'tickers': ['nvda',\n",
       "   'crwd',\n",
       "   'snow',\n",
       "   'five',\n",
       "   'bby',\n",
       "   'dg',\n",
       "   'dks',\n",
       "   'dell',\n",
       "   'afrm',\n",
       "   'mrvl',\n",
       "   'ulta',\n",
       "   'adsk',\n",
       "   'gap',\n",
       "   'baba',\n",
       "   'td'],\n",
       "  'option_type': 'call',\n",
       "  'days_until_exp': 270,\n",
       "  'strike_pct': 0.9,\n",
       "  'days_to_gain': 135,\n",
       "  'stock_gain_pct': 0.5,\n",
       "  'allocation': 100,\n",
       "  'label': '270d(50%) Call OTM strike0.9 +50%'},\n",
       " {'tickers': ['nvda',\n",
       "   'crwd',\n",
       "   'snow',\n",
       "   'five',\n",
       "   'bby',\n",
       "   'dg',\n",
       "   'dks',\n",
       "   'dell',\n",
       "   'afrm',\n",
       "   'mrvl',\n",
       "   'ulta',\n",
       "   'adsk',\n",
       "   'gap',\n",
       "   'baba',\n",
       "   'td'],\n",
       "  'option_type': 'call',\n",
       "  'days_until_exp': 270,\n",
       "  'strike_pct': -0.1,\n",
       "  'days_to_gain': 135,\n",
       "  'stock_gain_pct': -0.2,\n",
       "  'allocation': 100,\n",
       "  'label': '270d(50%) Call ITM strike-0.1 -20%'},\n",
       " {'tickers': ['nvda',\n",
       "   'crwd',\n",
       "   'snow',\n",
       "   'five',\n",
       "   'bby',\n",
       "   'dg',\n",
       "   'dks',\n",
       "   'dell',\n",
       "   'afrm',\n",
       "   'mrvl',\n",
       "   'ulta',\n",
       "   'adsk',\n",
       "   'gap',\n",
       "   'baba',\n",
       "   'td'],\n",
       "  'option_type': 'call',\n",
       "  'days_until_exp': 270,\n",
       "  'strike_pct': -0.5,\n",
       "  'days_to_gain': 135,\n",
       "  'stock_gain_pct': -0.2,\n",
       "  'allocation': 100,\n",
       "  'label': '270d(50%) Call ITM strike-0.5 -20%'},\n",
       " {'tickers': ['nvda',\n",
       "   'crwd',\n",
       "   'snow',\n",
       "   'five',\n",
       "   'bby',\n",
       "   'dg',\n",
       "   'dks',\n",
       "   'dell',\n",
       "   'afrm',\n",
       "   'mrvl',\n",
       "   'ulta',\n",
       "   'adsk',\n",
       "   'gap',\n",
       "   'baba',\n",
       "   'td'],\n",
       "  'option_type': 'call',\n",
       "  'days_until_exp': 270,\n",
       "  'strike_pct': 0.2,\n",
       "  'days_to_gain': 135,\n",
       "  'stock_gain_pct': -0.2,\n",
       "  'allocation': 100,\n",
       "  'label': '270d(50%) Call OTM strike0.2 -20%'},\n",
       " {'tickers': ['nvda',\n",
       "   'crwd',\n",
       "   'snow',\n",
       "   'five',\n",
       "   'bby',\n",
       "   'dg',\n",
       "   'dks',\n",
       "   'dell',\n",
       "   'afrm',\n",
       "   'mrvl',\n",
       "   'ulta',\n",
       "   'adsk',\n",
       "   'gap',\n",
       "   'baba',\n",
       "   'td'],\n",
       "  'option_type': 'call',\n",
       "  'days_until_exp': 270,\n",
       "  'strike_pct': 0.5,\n",
       "  'days_to_gain': 135,\n",
       "  'stock_gain_pct': -0.2,\n",
       "  'allocation': 100,\n",
       "  'label': '270d(50%) Call OTM strike0.5 -20%'},\n",
       " {'tickers': ['nvda',\n",
       "   'crwd',\n",
       "   'snow',\n",
       "   'five',\n",
       "   'bby',\n",
       "   'dg',\n",
       "   'dks',\n",
       "   'dell',\n",
       "   'afrm',\n",
       "   'mrvl',\n",
       "   'ulta',\n",
       "   'adsk',\n",
       "   'gap',\n",
       "   'baba',\n",
       "   'td'],\n",
       "  'option_type': 'call',\n",
       "  'days_until_exp': 270,\n",
       "  'strike_pct': 0.9,\n",
       "  'days_to_gain': 135,\n",
       "  'stock_gain_pct': -0.2,\n",
       "  'allocation': 100,\n",
       "  'label': '270d(50%) Call OTM strike0.9 -20%'},\n",
       " {'tickers': ['nvda',\n",
       "   'crwd',\n",
       "   'snow',\n",
       "   'five',\n",
       "   'bby',\n",
       "   'dg',\n",
       "   'dks',\n",
       "   'dell',\n",
       "   'afrm',\n",
       "   'mrvl',\n",
       "   'ulta',\n",
       "   'adsk',\n",
       "   'gap',\n",
       "   'baba',\n",
       "   'td'],\n",
       "  'option_type': 'put',\n",
       "  'days_until_exp': 270,\n",
       "  'strike_pct': -0.1,\n",
       "  'days_to_gain': 135,\n",
       "  'stock_gain_pct': -0.1,\n",
       "  'allocation': 100,\n",
       "  'label': '270d(50%) Put ITM strike-0.1 -10%'},\n",
       " {'tickers': ['nvda',\n",
       "   'crwd',\n",
       "   'snow',\n",
       "   'five',\n",
       "   'bby',\n",
       "   'dg',\n",
       "   'dks',\n",
       "   'dell',\n",
       "   'afrm',\n",
       "   'mrvl',\n",
       "   'ulta',\n",
       "   'adsk',\n",
       "   'gap',\n",
       "   'baba',\n",
       "   'td'],\n",
       "  'option_type': 'put',\n",
       "  'days_until_exp': 270,\n",
       "  'strike_pct': -0.5,\n",
       "  'days_to_gain': 135,\n",
       "  'stock_gain_pct': -0.1,\n",
       "  'allocation': 100,\n",
       "  'label': '270d(50%) Put ITM strike-0.5 -10%'},\n",
       " {'tickers': ['nvda',\n",
       "   'crwd',\n",
       "   'snow',\n",
       "   'five',\n",
       "   'bby',\n",
       "   'dg',\n",
       "   'dks',\n",
       "   'dell',\n",
       "   'afrm',\n",
       "   'mrvl',\n",
       "   'ulta',\n",
       "   'adsk',\n",
       "   'gap',\n",
       "   'baba',\n",
       "   'td'],\n",
       "  'option_type': 'put',\n",
       "  'days_until_exp': 270,\n",
       "  'strike_pct': 0.2,\n",
       "  'days_to_gain': 135,\n",
       "  'stock_gain_pct': -0.1,\n",
       "  'allocation': 100,\n",
       "  'label': '270d(50%) Put OTM strike0.2 -10%'},\n",
       " {'tickers': ['nvda',\n",
       "   'crwd',\n",
       "   'snow',\n",
       "   'five',\n",
       "   'bby',\n",
       "   'dg',\n",
       "   'dks',\n",
       "   'dell',\n",
       "   'afrm',\n",
       "   'mrvl',\n",
       "   'ulta',\n",
       "   'adsk',\n",
       "   'gap',\n",
       "   'baba',\n",
       "   'td'],\n",
       "  'option_type': 'put',\n",
       "  'days_until_exp': 270,\n",
       "  'strike_pct': 0.5,\n",
       "  'days_to_gain': 135,\n",
       "  'stock_gain_pct': -0.1,\n",
       "  'allocation': 100,\n",
       "  'label': '270d(50%) Put OTM strike0.5 -10%'},\n",
       " {'tickers': ['nvda',\n",
       "   'crwd',\n",
       "   'snow',\n",
       "   'five',\n",
       "   'bby',\n",
       "   'dg',\n",
       "   'dks',\n",
       "   'dell',\n",
       "   'afrm',\n",
       "   'mrvl',\n",
       "   'ulta',\n",
       "   'adsk',\n",
       "   'gap',\n",
       "   'baba',\n",
       "   'td'],\n",
       "  'option_type': 'put',\n",
       "  'days_until_exp': 270,\n",
       "  'strike_pct': 0.9,\n",
       "  'days_to_gain': 135,\n",
       "  'stock_gain_pct': -0.1,\n",
       "  'allocation': 100,\n",
       "  'label': '270d(50%) Put OTM strike0.9 -10%'},\n",
       " {'tickers': ['nvda',\n",
       "   'crwd',\n",
       "   'snow',\n",
       "   'five',\n",
       "   'bby',\n",
       "   'dg',\n",
       "   'dks',\n",
       "   'dell',\n",
       "   'afrm',\n",
       "   'mrvl',\n",
       "   'ulta',\n",
       "   'adsk',\n",
       "   'gap',\n",
       "   'baba',\n",
       "   'td'],\n",
       "  'option_type': 'put',\n",
       "  'days_until_exp': 270,\n",
       "  'strike_pct': -0.1,\n",
       "  'days_to_gain': 135,\n",
       "  'stock_gain_pct': -0.2,\n",
       "  'allocation': 100,\n",
       "  'label': '270d(50%) Put ITM strike-0.1 -20%'},\n",
       " {'tickers': ['nvda',\n",
       "   'crwd',\n",
       "   'snow',\n",
       "   'five',\n",
       "   'bby',\n",
       "   'dg',\n",
       "   'dks',\n",
       "   'dell',\n",
       "   'afrm',\n",
       "   'mrvl',\n",
       "   'ulta',\n",
       "   'adsk',\n",
       "   'gap',\n",
       "   'baba',\n",
       "   'td'],\n",
       "  'option_type': 'put',\n",
       "  'days_until_exp': 270,\n",
       "  'strike_pct': -0.5,\n",
       "  'days_to_gain': 135,\n",
       "  'stock_gain_pct': -0.2,\n",
       "  'allocation': 100,\n",
       "  'label': '270d(50%) Put ITM strike-0.5 -20%'},\n",
       " {'tickers': ['nvda',\n",
       "   'crwd',\n",
       "   'snow',\n",
       "   'five',\n",
       "   'bby',\n",
       "   'dg',\n",
       "   'dks',\n",
       "   'dell',\n",
       "   'afrm',\n",
       "   'mrvl',\n",
       "   'ulta',\n",
       "   'adsk',\n",
       "   'gap',\n",
       "   'baba',\n",
       "   'td'],\n",
       "  'option_type': 'put',\n",
       "  'days_until_exp': 270,\n",
       "  'strike_pct': 0.2,\n",
       "  'days_to_gain': 135,\n",
       "  'stock_gain_pct': -0.2,\n",
       "  'allocation': 100,\n",
       "  'label': '270d(50%) Put OTM strike0.2 -20%'},\n",
       " {'tickers': ['nvda',\n",
       "   'crwd',\n",
       "   'snow',\n",
       "   'five',\n",
       "   'bby',\n",
       "   'dg',\n",
       "   'dks',\n",
       "   'dell',\n",
       "   'afrm',\n",
       "   'mrvl',\n",
       "   'ulta',\n",
       "   'adsk',\n",
       "   'gap',\n",
       "   'baba',\n",
       "   'td'],\n",
       "  'option_type': 'put',\n",
       "  'days_until_exp': 270,\n",
       "  'strike_pct': 0.5,\n",
       "  'days_to_gain': 135,\n",
       "  'stock_gain_pct': -0.2,\n",
       "  'allocation': 100,\n",
       "  'label': '270d(50%) Put OTM strike0.5 -20%'},\n",
       " {'tickers': ['nvda',\n",
       "   'crwd',\n",
       "   'snow',\n",
       "   'five',\n",
       "   'bby',\n",
       "   'dg',\n",
       "   'dks',\n",
       "   'dell',\n",
       "   'afrm',\n",
       "   'mrvl',\n",
       "   'ulta',\n",
       "   'adsk',\n",
       "   'gap',\n",
       "   'baba',\n",
       "   'td'],\n",
       "  'option_type': 'put',\n",
       "  'days_until_exp': 270,\n",
       "  'strike_pct': 0.9,\n",
       "  'days_to_gain': 135,\n",
       "  'stock_gain_pct': -0.2,\n",
       "  'allocation': 100,\n",
       "  'label': '270d(50%) Put OTM strike0.9 -20%'},\n",
       " {'tickers': ['nvda',\n",
       "   'crwd',\n",
       "   'snow',\n",
       "   'five',\n",
       "   'bby',\n",
       "   'dg',\n",
       "   'dks',\n",
       "   'dell',\n",
       "   'afrm',\n",
       "   'mrvl',\n",
       "   'ulta',\n",
       "   'adsk',\n",
       "   'gap',\n",
       "   'baba',\n",
       "   'td'],\n",
       "  'option_type': 'put',\n",
       "  'days_until_exp': 270,\n",
       "  'strike_pct': -0.1,\n",
       "  'days_to_gain': 135,\n",
       "  'stock_gain_pct': 0.2,\n",
       "  'allocation': 100,\n",
       "  'label': '270d(50%) Put ITM strike-0.1 +20%'},\n",
       " {'tickers': ['nvda',\n",
       "   'crwd',\n",
       "   'snow',\n",
       "   'five',\n",
       "   'bby',\n",
       "   'dg',\n",
       "   'dks',\n",
       "   'dell',\n",
       "   'afrm',\n",
       "   'mrvl',\n",
       "   'ulta',\n",
       "   'adsk',\n",
       "   'gap',\n",
       "   'baba',\n",
       "   'td'],\n",
       "  'option_type': 'put',\n",
       "  'days_until_exp': 270,\n",
       "  'strike_pct': -0.5,\n",
       "  'days_to_gain': 135,\n",
       "  'stock_gain_pct': 0.2,\n",
       "  'allocation': 100,\n",
       "  'label': '270d(50%) Put ITM strike-0.5 +20%'},\n",
       " {'tickers': ['nvda',\n",
       "   'crwd',\n",
       "   'snow',\n",
       "   'five',\n",
       "   'bby',\n",
       "   'dg',\n",
       "   'dks',\n",
       "   'dell',\n",
       "   'afrm',\n",
       "   'mrvl',\n",
       "   'ulta',\n",
       "   'adsk',\n",
       "   'gap',\n",
       "   'baba',\n",
       "   'td'],\n",
       "  'option_type': 'put',\n",
       "  'days_until_exp': 270,\n",
       "  'strike_pct': 0.2,\n",
       "  'days_to_gain': 135,\n",
       "  'stock_gain_pct': 0.2,\n",
       "  'allocation': 100,\n",
       "  'label': '270d(50%) Put OTM strike0.2 +20%'},\n",
       " {'tickers': ['nvda',\n",
       "   'crwd',\n",
       "   'snow',\n",
       "   'five',\n",
       "   'bby',\n",
       "   'dg',\n",
       "   'dks',\n",
       "   'dell',\n",
       "   'afrm',\n",
       "   'mrvl',\n",
       "   'ulta',\n",
       "   'adsk',\n",
       "   'gap',\n",
       "   'baba',\n",
       "   'td'],\n",
       "  'option_type': 'put',\n",
       "  'days_until_exp': 270,\n",
       "  'strike_pct': 0.5,\n",
       "  'days_to_gain': 135,\n",
       "  'stock_gain_pct': 0.2,\n",
       "  'allocation': 100,\n",
       "  'label': '270d(50%) Put OTM strike0.5 +20%'},\n",
       " {'tickers': ['nvda',\n",
       "   'crwd',\n",
       "   'snow',\n",
       "   'five',\n",
       "   'bby',\n",
       "   'dg',\n",
       "   'dks',\n",
       "   'dell',\n",
       "   'afrm',\n",
       "   'mrvl',\n",
       "   'ulta',\n",
       "   'adsk',\n",
       "   'gap',\n",
       "   'baba',\n",
       "   'td'],\n",
       "  'option_type': 'put',\n",
       "  'days_until_exp': 270,\n",
       "  'strike_pct': 0.9,\n",
       "  'days_to_gain': 135,\n",
       "  'stock_gain_pct': 0.2,\n",
       "  'allocation': 100,\n",
       "  'label': '270d(50%) Put OTM strike0.9 +20%'},\n",
       " {'tickers': ['nvda',\n",
       "   'crwd',\n",
       "   'snow',\n",
       "   'five',\n",
       "   'bby',\n",
       "   'dg',\n",
       "   'dks',\n",
       "   'dell',\n",
       "   'afrm',\n",
       "   'mrvl',\n",
       "   'ulta',\n",
       "   'adsk',\n",
       "   'gap',\n",
       "   'baba',\n",
       "   'td'],\n",
       "  'option_type': 'call',\n",
       "  'days_until_exp': 575,\n",
       "  'strike_pct': -0.1,\n",
       "  'days_to_gain': 115,\n",
       "  'stock_gain_pct': 0.1,\n",
       "  'allocation': 100,\n",
       "  'label': '575d(20%) Call ITM strike-0.1 +10%'},\n",
       " {'tickers': ['nvda',\n",
       "   'crwd',\n",
       "   'snow',\n",
       "   'five',\n",
       "   'bby',\n",
       "   'dg',\n",
       "   'dks',\n",
       "   'dell',\n",
       "   'afrm',\n",
       "   'mrvl',\n",
       "   'ulta',\n",
       "   'adsk',\n",
       "   'gap',\n",
       "   'baba',\n",
       "   'td'],\n",
       "  'option_type': 'call',\n",
       "  'days_until_exp': 575,\n",
       "  'strike_pct': -0.5,\n",
       "  'days_to_gain': 115,\n",
       "  'stock_gain_pct': 0.1,\n",
       "  'allocation': 100,\n",
       "  'label': '575d(20%) Call ITM strike-0.5 +10%'},\n",
       " {'tickers': ['nvda',\n",
       "   'crwd',\n",
       "   'snow',\n",
       "   'five',\n",
       "   'bby',\n",
       "   'dg',\n",
       "   'dks',\n",
       "   'dell',\n",
       "   'afrm',\n",
       "   'mrvl',\n",
       "   'ulta',\n",
       "   'adsk',\n",
       "   'gap',\n",
       "   'baba',\n",
       "   'td'],\n",
       "  'option_type': 'call',\n",
       "  'days_until_exp': 575,\n",
       "  'strike_pct': 0.2,\n",
       "  'days_to_gain': 115,\n",
       "  'stock_gain_pct': 0.1,\n",
       "  'allocation': 100,\n",
       "  'label': '575d(20%) Call OTM strike0.2 +10%'},\n",
       " {'tickers': ['nvda',\n",
       "   'crwd',\n",
       "   'snow',\n",
       "   'five',\n",
       "   'bby',\n",
       "   'dg',\n",
       "   'dks',\n",
       "   'dell',\n",
       "   'afrm',\n",
       "   'mrvl',\n",
       "   'ulta',\n",
       "   'adsk',\n",
       "   'gap',\n",
       "   'baba',\n",
       "   'td'],\n",
       "  'option_type': 'call',\n",
       "  'days_until_exp': 575,\n",
       "  'strike_pct': 0.5,\n",
       "  'days_to_gain': 115,\n",
       "  'stock_gain_pct': 0.1,\n",
       "  'allocation': 100,\n",
       "  'label': '575d(20%) Call OTM strike0.5 +10%'},\n",
       " {'tickers': ['nvda',\n",
       "   'crwd',\n",
       "   'snow',\n",
       "   'five',\n",
       "   'bby',\n",
       "   'dg',\n",
       "   'dks',\n",
       "   'dell',\n",
       "   'afrm',\n",
       "   'mrvl',\n",
       "   'ulta',\n",
       "   'adsk',\n",
       "   'gap',\n",
       "   'baba',\n",
       "   'td'],\n",
       "  'option_type': 'call',\n",
       "  'days_until_exp': 575,\n",
       "  'strike_pct': 0.9,\n",
       "  'days_to_gain': 115,\n",
       "  'stock_gain_pct': 0.1,\n",
       "  'allocation': 100,\n",
       "  'label': '575d(20%) Call OTM strike0.9 +10%'},\n",
       " {'tickers': ['nvda',\n",
       "   'crwd',\n",
       "   'snow',\n",
       "   'five',\n",
       "   'bby',\n",
       "   'dg',\n",
       "   'dks',\n",
       "   'dell',\n",
       "   'afrm',\n",
       "   'mrvl',\n",
       "   'ulta',\n",
       "   'adsk',\n",
       "   'gap',\n",
       "   'baba',\n",
       "   'td'],\n",
       "  'option_type': 'call',\n",
       "  'days_until_exp': 575,\n",
       "  'strike_pct': -0.1,\n",
       "  'days_to_gain': 115,\n",
       "  'stock_gain_pct': 0.2,\n",
       "  'allocation': 100,\n",
       "  'label': '575d(20%) Call ITM strike-0.1 +20%'},\n",
       " {'tickers': ['nvda',\n",
       "   'crwd',\n",
       "   'snow',\n",
       "   'five',\n",
       "   'bby',\n",
       "   'dg',\n",
       "   'dks',\n",
       "   'dell',\n",
       "   'afrm',\n",
       "   'mrvl',\n",
       "   'ulta',\n",
       "   'adsk',\n",
       "   'gap',\n",
       "   'baba',\n",
       "   'td'],\n",
       "  'option_type': 'call',\n",
       "  'days_until_exp': 575,\n",
       "  'strike_pct': -0.5,\n",
       "  'days_to_gain': 115,\n",
       "  'stock_gain_pct': 0.2,\n",
       "  'allocation': 100,\n",
       "  'label': '575d(20%) Call ITM strike-0.5 +20%'},\n",
       " {'tickers': ['nvda',\n",
       "   'crwd',\n",
       "   'snow',\n",
       "   'five',\n",
       "   'bby',\n",
       "   'dg',\n",
       "   'dks',\n",
       "   'dell',\n",
       "   'afrm',\n",
       "   'mrvl',\n",
       "   'ulta',\n",
       "   'adsk',\n",
       "   'gap',\n",
       "   'baba',\n",
       "   'td'],\n",
       "  'option_type': 'call',\n",
       "  'days_until_exp': 575,\n",
       "  'strike_pct': 0.2,\n",
       "  'days_to_gain': 115,\n",
       "  'stock_gain_pct': 0.2,\n",
       "  'allocation': 100,\n",
       "  'label': '575d(20%) Call OTM strike0.2 +20%'},\n",
       " {'tickers': ['nvda',\n",
       "   'crwd',\n",
       "   'snow',\n",
       "   'five',\n",
       "   'bby',\n",
       "   'dg',\n",
       "   'dks',\n",
       "   'dell',\n",
       "   'afrm',\n",
       "   'mrvl',\n",
       "   'ulta',\n",
       "   'adsk',\n",
       "   'gap',\n",
       "   'baba',\n",
       "   'td'],\n",
       "  'option_type': 'call',\n",
       "  'days_until_exp': 575,\n",
       "  'strike_pct': 0.5,\n",
       "  'days_to_gain': 115,\n",
       "  'stock_gain_pct': 0.2,\n",
       "  'allocation': 100,\n",
       "  'label': '575d(20%) Call OTM strike0.5 +20%'},\n",
       " {'tickers': ['nvda',\n",
       "   'crwd',\n",
       "   'snow',\n",
       "   'five',\n",
       "   'bby',\n",
       "   'dg',\n",
       "   'dks',\n",
       "   'dell',\n",
       "   'afrm',\n",
       "   'mrvl',\n",
       "   'ulta',\n",
       "   'adsk',\n",
       "   'gap',\n",
       "   'baba',\n",
       "   'td'],\n",
       "  'option_type': 'call',\n",
       "  'days_until_exp': 575,\n",
       "  'strike_pct': 0.9,\n",
       "  'days_to_gain': 115,\n",
       "  'stock_gain_pct': 0.2,\n",
       "  'allocation': 100,\n",
       "  'label': '575d(20%) Call OTM strike0.9 +20%'},\n",
       " {'tickers': ['nvda',\n",
       "   'crwd',\n",
       "   'snow',\n",
       "   'five',\n",
       "   'bby',\n",
       "   'dg',\n",
       "   'dks',\n",
       "   'dell',\n",
       "   'afrm',\n",
       "   'mrvl',\n",
       "   'ulta',\n",
       "   'adsk',\n",
       "   'gap',\n",
       "   'baba',\n",
       "   'td'],\n",
       "  'option_type': 'call',\n",
       "  'days_until_exp': 575,\n",
       "  'strike_pct': -0.1,\n",
       "  'days_to_gain': 115,\n",
       "  'stock_gain_pct': 0.5,\n",
       "  'allocation': 100,\n",
       "  'label': '575d(20%) Call ITM strike-0.1 +50%'},\n",
       " {'tickers': ['nvda',\n",
       "   'crwd',\n",
       "   'snow',\n",
       "   'five',\n",
       "   'bby',\n",
       "   'dg',\n",
       "   'dks',\n",
       "   'dell',\n",
       "   'afrm',\n",
       "   'mrvl',\n",
       "   'ulta',\n",
       "   'adsk',\n",
       "   'gap',\n",
       "   'baba',\n",
       "   'td'],\n",
       "  'option_type': 'call',\n",
       "  'days_until_exp': 575,\n",
       "  'strike_pct': -0.5,\n",
       "  'days_to_gain': 115,\n",
       "  'stock_gain_pct': 0.5,\n",
       "  'allocation': 100,\n",
       "  'label': '575d(20%) Call ITM strike-0.5 +50%'},\n",
       " {'tickers': ['nvda',\n",
       "   'crwd',\n",
       "   'snow',\n",
       "   'five',\n",
       "   'bby',\n",
       "   'dg',\n",
       "   'dks',\n",
       "   'dell',\n",
       "   'afrm',\n",
       "   'mrvl',\n",
       "   'ulta',\n",
       "   'adsk',\n",
       "   'gap',\n",
       "   'baba',\n",
       "   'td'],\n",
       "  'option_type': 'call',\n",
       "  'days_until_exp': 575,\n",
       "  'strike_pct': 0.2,\n",
       "  'days_to_gain': 115,\n",
       "  'stock_gain_pct': 0.5,\n",
       "  'allocation': 100,\n",
       "  'label': '575d(20%) Call OTM strike0.2 +50%'},\n",
       " {'tickers': ['nvda',\n",
       "   'crwd',\n",
       "   'snow',\n",
       "   'five',\n",
       "   'bby',\n",
       "   'dg',\n",
       "   'dks',\n",
       "   'dell',\n",
       "   'afrm',\n",
       "   'mrvl',\n",
       "   'ulta',\n",
       "   'adsk',\n",
       "   'gap',\n",
       "   'baba',\n",
       "   'td'],\n",
       "  'option_type': 'call',\n",
       "  'days_until_exp': 575,\n",
       "  'strike_pct': 0.5,\n",
       "  'days_to_gain': 115,\n",
       "  'stock_gain_pct': 0.5,\n",
       "  'allocation': 100,\n",
       "  'label': '575d(20%) Call OTM strike0.5 +50%'},\n",
       " {'tickers': ['nvda',\n",
       "   'crwd',\n",
       "   'snow',\n",
       "   'five',\n",
       "   'bby',\n",
       "   'dg',\n",
       "   'dks',\n",
       "   'dell',\n",
       "   'afrm',\n",
       "   'mrvl',\n",
       "   'ulta',\n",
       "   'adsk',\n",
       "   'gap',\n",
       "   'baba',\n",
       "   'td'],\n",
       "  'option_type': 'call',\n",
       "  'days_until_exp': 575,\n",
       "  'strike_pct': 0.9,\n",
       "  'days_to_gain': 115,\n",
       "  'stock_gain_pct': 0.5,\n",
       "  'allocation': 100,\n",
       "  'label': '575d(20%) Call OTM strike0.9 +50%'},\n",
       " {'tickers': ['nvda',\n",
       "   'crwd',\n",
       "   'snow',\n",
       "   'five',\n",
       "   'bby',\n",
       "   'dg',\n",
       "   'dks',\n",
       "   'dell',\n",
       "   'afrm',\n",
       "   'mrvl',\n",
       "   'ulta',\n",
       "   'adsk',\n",
       "   'gap',\n",
       "   'baba',\n",
       "   'td'],\n",
       "  'option_type': 'call',\n",
       "  'days_until_exp': 575,\n",
       "  'strike_pct': -0.1,\n",
       "  'days_to_gain': 115,\n",
       "  'stock_gain_pct': -0.2,\n",
       "  'allocation': 100,\n",
       "  'label': '575d(20%) Call ITM strike-0.1 -20%'},\n",
       " {'tickers': ['nvda',\n",
       "   'crwd',\n",
       "   'snow',\n",
       "   'five',\n",
       "   'bby',\n",
       "   'dg',\n",
       "   'dks',\n",
       "   'dell',\n",
       "   'afrm',\n",
       "   'mrvl',\n",
       "   'ulta',\n",
       "   'adsk',\n",
       "   'gap',\n",
       "   'baba',\n",
       "   'td'],\n",
       "  'option_type': 'call',\n",
       "  'days_until_exp': 575,\n",
       "  'strike_pct': -0.5,\n",
       "  'days_to_gain': 115,\n",
       "  'stock_gain_pct': -0.2,\n",
       "  'allocation': 100,\n",
       "  'label': '575d(20%) Call ITM strike-0.5 -20%'},\n",
       " {'tickers': ['nvda',\n",
       "   'crwd',\n",
       "   'snow',\n",
       "   'five',\n",
       "   'bby',\n",
       "   'dg',\n",
       "   'dks',\n",
       "   'dell',\n",
       "   'afrm',\n",
       "   'mrvl',\n",
       "   'ulta',\n",
       "   'adsk',\n",
       "   'gap',\n",
       "   'baba',\n",
       "   'td'],\n",
       "  'option_type': 'call',\n",
       "  'days_until_exp': 575,\n",
       "  'strike_pct': 0.2,\n",
       "  'days_to_gain': 115,\n",
       "  'stock_gain_pct': -0.2,\n",
       "  'allocation': 100,\n",
       "  'label': '575d(20%) Call OTM strike0.2 -20%'},\n",
       " {'tickers': ['nvda',\n",
       "   'crwd',\n",
       "   'snow',\n",
       "   'five',\n",
       "   'bby',\n",
       "   'dg',\n",
       "   'dks',\n",
       "   'dell',\n",
       "   'afrm',\n",
       "   'mrvl',\n",
       "   'ulta',\n",
       "   'adsk',\n",
       "   'gap',\n",
       "   'baba',\n",
       "   'td'],\n",
       "  'option_type': 'call',\n",
       "  'days_until_exp': 575,\n",
       "  'strike_pct': 0.5,\n",
       "  'days_to_gain': 115,\n",
       "  'stock_gain_pct': -0.2,\n",
       "  'allocation': 100,\n",
       "  'label': '575d(20%) Call OTM strike0.5 -20%'},\n",
       " {'tickers': ['nvda',\n",
       "   'crwd',\n",
       "   'snow',\n",
       "   'five',\n",
       "   'bby',\n",
       "   'dg',\n",
       "   'dks',\n",
       "   'dell',\n",
       "   'afrm',\n",
       "   'mrvl',\n",
       "   'ulta',\n",
       "   'adsk',\n",
       "   'gap',\n",
       "   'baba',\n",
       "   'td'],\n",
       "  'option_type': 'call',\n",
       "  'days_until_exp': 575,\n",
       "  'strike_pct': 0.9,\n",
       "  'days_to_gain': 115,\n",
       "  'stock_gain_pct': -0.2,\n",
       "  'allocation': 100,\n",
       "  'label': '575d(20%) Call OTM strike0.9 -20%'},\n",
       " {'tickers': ['nvda',\n",
       "   'crwd',\n",
       "   'snow',\n",
       "   'five',\n",
       "   'bby',\n",
       "   'dg',\n",
       "   'dks',\n",
       "   'dell',\n",
       "   'afrm',\n",
       "   'mrvl',\n",
       "   'ulta',\n",
       "   'adsk',\n",
       "   'gap',\n",
       "   'baba',\n",
       "   'td'],\n",
       "  'option_type': 'put',\n",
       "  'days_until_exp': 575,\n",
       "  'strike_pct': -0.1,\n",
       "  'days_to_gain': 115,\n",
       "  'stock_gain_pct': -0.1,\n",
       "  'allocation': 100,\n",
       "  'label': '575d(20%) Put ITM strike-0.1 -10%'},\n",
       " {'tickers': ['nvda',\n",
       "   'crwd',\n",
       "   'snow',\n",
       "   'five',\n",
       "   'bby',\n",
       "   'dg',\n",
       "   'dks',\n",
       "   'dell',\n",
       "   'afrm',\n",
       "   'mrvl',\n",
       "   'ulta',\n",
       "   'adsk',\n",
       "   'gap',\n",
       "   'baba',\n",
       "   'td'],\n",
       "  'option_type': 'put',\n",
       "  'days_until_exp': 575,\n",
       "  'strike_pct': -0.5,\n",
       "  'days_to_gain': 115,\n",
       "  'stock_gain_pct': -0.1,\n",
       "  'allocation': 100,\n",
       "  'label': '575d(20%) Put ITM strike-0.5 -10%'},\n",
       " {'tickers': ['nvda',\n",
       "   'crwd',\n",
       "   'snow',\n",
       "   'five',\n",
       "   'bby',\n",
       "   'dg',\n",
       "   'dks',\n",
       "   'dell',\n",
       "   'afrm',\n",
       "   'mrvl',\n",
       "   'ulta',\n",
       "   'adsk',\n",
       "   'gap',\n",
       "   'baba',\n",
       "   'td'],\n",
       "  'option_type': 'put',\n",
       "  'days_until_exp': 575,\n",
       "  'strike_pct': 0.2,\n",
       "  'days_to_gain': 115,\n",
       "  'stock_gain_pct': -0.1,\n",
       "  'allocation': 100,\n",
       "  'label': '575d(20%) Put OTM strike0.2 -10%'},\n",
       " {'tickers': ['nvda',\n",
       "   'crwd',\n",
       "   'snow',\n",
       "   'five',\n",
       "   'bby',\n",
       "   'dg',\n",
       "   'dks',\n",
       "   'dell',\n",
       "   'afrm',\n",
       "   'mrvl',\n",
       "   'ulta',\n",
       "   'adsk',\n",
       "   'gap',\n",
       "   'baba',\n",
       "   'td'],\n",
       "  'option_type': 'put',\n",
       "  'days_until_exp': 575,\n",
       "  'strike_pct': 0.5,\n",
       "  'days_to_gain': 115,\n",
       "  'stock_gain_pct': -0.1,\n",
       "  'allocation': 100,\n",
       "  'label': '575d(20%) Put OTM strike0.5 -10%'},\n",
       " {'tickers': ['nvda',\n",
       "   'crwd',\n",
       "   'snow',\n",
       "   'five',\n",
       "   'bby',\n",
       "   'dg',\n",
       "   'dks',\n",
       "   'dell',\n",
       "   'afrm',\n",
       "   'mrvl',\n",
       "   'ulta',\n",
       "   'adsk',\n",
       "   'gap',\n",
       "   'baba',\n",
       "   'td'],\n",
       "  'option_type': 'put',\n",
       "  'days_until_exp': 575,\n",
       "  'strike_pct': 0.9,\n",
       "  'days_to_gain': 115,\n",
       "  'stock_gain_pct': -0.1,\n",
       "  'allocation': 100,\n",
       "  'label': '575d(20%) Put OTM strike0.9 -10%'},\n",
       " {'tickers': ['nvda',\n",
       "   'crwd',\n",
       "   'snow',\n",
       "   'five',\n",
       "   'bby',\n",
       "   'dg',\n",
       "   'dks',\n",
       "   'dell',\n",
       "   'afrm',\n",
       "   'mrvl',\n",
       "   'ulta',\n",
       "   'adsk',\n",
       "   'gap',\n",
       "   'baba',\n",
       "   'td'],\n",
       "  'option_type': 'put',\n",
       "  'days_until_exp': 575,\n",
       "  'strike_pct': -0.1,\n",
       "  'days_to_gain': 115,\n",
       "  'stock_gain_pct': -0.2,\n",
       "  'allocation': 100,\n",
       "  'label': '575d(20%) Put ITM strike-0.1 -20%'},\n",
       " {'tickers': ['nvda',\n",
       "   'crwd',\n",
       "   'snow',\n",
       "   'five',\n",
       "   'bby',\n",
       "   'dg',\n",
       "   'dks',\n",
       "   'dell',\n",
       "   'afrm',\n",
       "   'mrvl',\n",
       "   'ulta',\n",
       "   'adsk',\n",
       "   'gap',\n",
       "   'baba',\n",
       "   'td'],\n",
       "  'option_type': 'put',\n",
       "  'days_until_exp': 575,\n",
       "  'strike_pct': -0.5,\n",
       "  'days_to_gain': 115,\n",
       "  'stock_gain_pct': -0.2,\n",
       "  'allocation': 100,\n",
       "  'label': '575d(20%) Put ITM strike-0.5 -20%'},\n",
       " {'tickers': ['nvda',\n",
       "   'crwd',\n",
       "   'snow',\n",
       "   'five',\n",
       "   'bby',\n",
       "   'dg',\n",
       "   'dks',\n",
       "   'dell',\n",
       "   'afrm',\n",
       "   'mrvl',\n",
       "   'ulta',\n",
       "   'adsk',\n",
       "   'gap',\n",
       "   'baba',\n",
       "   'td'],\n",
       "  'option_type': 'put',\n",
       "  'days_until_exp': 575,\n",
       "  'strike_pct': 0.2,\n",
       "  'days_to_gain': 115,\n",
       "  'stock_gain_pct': -0.2,\n",
       "  'allocation': 100,\n",
       "  'label': '575d(20%) Put OTM strike0.2 -20%'},\n",
       " {'tickers': ['nvda',\n",
       "   'crwd',\n",
       "   'snow',\n",
       "   'five',\n",
       "   'bby',\n",
       "   'dg',\n",
       "   'dks',\n",
       "   'dell',\n",
       "   'afrm',\n",
       "   'mrvl',\n",
       "   'ulta',\n",
       "   'adsk',\n",
       "   'gap',\n",
       "   'baba',\n",
       "   'td'],\n",
       "  'option_type': 'put',\n",
       "  'days_until_exp': 575,\n",
       "  'strike_pct': 0.5,\n",
       "  'days_to_gain': 115,\n",
       "  'stock_gain_pct': -0.2,\n",
       "  'allocation': 100,\n",
       "  'label': '575d(20%) Put OTM strike0.5 -20%'},\n",
       " {'tickers': ['nvda',\n",
       "   'crwd',\n",
       "   'snow',\n",
       "   'five',\n",
       "   'bby',\n",
       "   'dg',\n",
       "   'dks',\n",
       "   'dell',\n",
       "   'afrm',\n",
       "   'mrvl',\n",
       "   'ulta',\n",
       "   'adsk',\n",
       "   'gap',\n",
       "   'baba',\n",
       "   'td'],\n",
       "  'option_type': 'put',\n",
       "  'days_until_exp': 575,\n",
       "  'strike_pct': 0.9,\n",
       "  'days_to_gain': 115,\n",
       "  'stock_gain_pct': -0.2,\n",
       "  'allocation': 100,\n",
       "  'label': '575d(20%) Put OTM strike0.9 -20%'},\n",
       " {'tickers': ['nvda',\n",
       "   'crwd',\n",
       "   'snow',\n",
       "   'five',\n",
       "   'bby',\n",
       "   'dg',\n",
       "   'dks',\n",
       "   'dell',\n",
       "   'afrm',\n",
       "   'mrvl',\n",
       "   'ulta',\n",
       "   'adsk',\n",
       "   'gap',\n",
       "   'baba',\n",
       "   'td'],\n",
       "  'option_type': 'put',\n",
       "  'days_until_exp': 575,\n",
       "  'strike_pct': -0.1,\n",
       "  'days_to_gain': 115,\n",
       "  'stock_gain_pct': 0.2,\n",
       "  'allocation': 100,\n",
       "  'label': '575d(20%) Put ITM strike-0.1 +20%'},\n",
       " {'tickers': ['nvda',\n",
       "   'crwd',\n",
       "   'snow',\n",
       "   'five',\n",
       "   'bby',\n",
       "   'dg',\n",
       "   'dks',\n",
       "   'dell',\n",
       "   'afrm',\n",
       "   'mrvl',\n",
       "   'ulta',\n",
       "   'adsk',\n",
       "   'gap',\n",
       "   'baba',\n",
       "   'td'],\n",
       "  'option_type': 'put',\n",
       "  'days_until_exp': 575,\n",
       "  'strike_pct': -0.5,\n",
       "  'days_to_gain': 115,\n",
       "  'stock_gain_pct': 0.2,\n",
       "  'allocation': 100,\n",
       "  'label': '575d(20%) Put ITM strike-0.5 +20%'},\n",
       " {'tickers': ['nvda',\n",
       "   'crwd',\n",
       "   'snow',\n",
       "   'five',\n",
       "   'bby',\n",
       "   'dg',\n",
       "   'dks',\n",
       "   'dell',\n",
       "   'afrm',\n",
       "   'mrvl',\n",
       "   'ulta',\n",
       "   'adsk',\n",
       "   'gap',\n",
       "   'baba',\n",
       "   'td'],\n",
       "  'option_type': 'put',\n",
       "  'days_until_exp': 575,\n",
       "  'strike_pct': 0.2,\n",
       "  'days_to_gain': 115,\n",
       "  'stock_gain_pct': 0.2,\n",
       "  'allocation': 100,\n",
       "  'label': '575d(20%) Put OTM strike0.2 +20%'},\n",
       " {'tickers': ['nvda',\n",
       "   'crwd',\n",
       "   'snow',\n",
       "   'five',\n",
       "   'bby',\n",
       "   'dg',\n",
       "   'dks',\n",
       "   'dell',\n",
       "   'afrm',\n",
       "   'mrvl',\n",
       "   'ulta',\n",
       "   'adsk',\n",
       "   'gap',\n",
       "   'baba',\n",
       "   'td'],\n",
       "  'option_type': 'put',\n",
       "  'days_until_exp': 575,\n",
       "  'strike_pct': 0.5,\n",
       "  'days_to_gain': 115,\n",
       "  'stock_gain_pct': 0.2,\n",
       "  'allocation': 100,\n",
       "  'label': '575d(20%) Put OTM strike0.5 +20%'},\n",
       " {'tickers': ['nvda',\n",
       "   'crwd',\n",
       "   'snow',\n",
       "   'five',\n",
       "   'bby',\n",
       "   'dg',\n",
       "   'dks',\n",
       "   'dell',\n",
       "   'afrm',\n",
       "   'mrvl',\n",
       "   'ulta',\n",
       "   'adsk',\n",
       "   'gap',\n",
       "   'baba',\n",
       "   'td'],\n",
       "  'option_type': 'put',\n",
       "  'days_until_exp': 575,\n",
       "  'strike_pct': 0.9,\n",
       "  'days_to_gain': 115,\n",
       "  'stock_gain_pct': 0.2,\n",
       "  'allocation': 100,\n",
       "  'label': '575d(20%) Put OTM strike0.9 +20%'},\n",
       " {'tickers': ['nvda',\n",
       "   'crwd',\n",
       "   'snow',\n",
       "   'five',\n",
       "   'bby',\n",
       "   'dg',\n",
       "   'dks',\n",
       "   'dell',\n",
       "   'afrm',\n",
       "   'mrvl',\n",
       "   'ulta',\n",
       "   'adsk',\n",
       "   'gap',\n",
       "   'baba',\n",
       "   'td'],\n",
       "  'option_type': 'call',\n",
       "  'days_until_exp': 575,\n",
       "  'strike_pct': -0.1,\n",
       "  'days_to_gain': 287,\n",
       "  'stock_gain_pct': 0.1,\n",
       "  'allocation': 100,\n",
       "  'label': '575d(50%) Call ITM strike-0.1 +10%'},\n",
       " {'tickers': ['nvda',\n",
       "   'crwd',\n",
       "   'snow',\n",
       "   'five',\n",
       "   'bby',\n",
       "   'dg',\n",
       "   'dks',\n",
       "   'dell',\n",
       "   'afrm',\n",
       "   'mrvl',\n",
       "   'ulta',\n",
       "   'adsk',\n",
       "   'gap',\n",
       "   'baba',\n",
       "   'td'],\n",
       "  'option_type': 'call',\n",
       "  'days_until_exp': 575,\n",
       "  'strike_pct': -0.5,\n",
       "  'days_to_gain': 287,\n",
       "  'stock_gain_pct': 0.1,\n",
       "  'allocation': 100,\n",
       "  'label': '575d(50%) Call ITM strike-0.5 +10%'},\n",
       " {'tickers': ['nvda',\n",
       "   'crwd',\n",
       "   'snow',\n",
       "   'five',\n",
       "   'bby',\n",
       "   'dg',\n",
       "   'dks',\n",
       "   'dell',\n",
       "   'afrm',\n",
       "   'mrvl',\n",
       "   'ulta',\n",
       "   'adsk',\n",
       "   'gap',\n",
       "   'baba',\n",
       "   'td'],\n",
       "  'option_type': 'call',\n",
       "  'days_until_exp': 575,\n",
       "  'strike_pct': 0.2,\n",
       "  'days_to_gain': 287,\n",
       "  'stock_gain_pct': 0.1,\n",
       "  'allocation': 100,\n",
       "  'label': '575d(50%) Call OTM strike0.2 +10%'},\n",
       " {'tickers': ['nvda',\n",
       "   'crwd',\n",
       "   'snow',\n",
       "   'five',\n",
       "   'bby',\n",
       "   'dg',\n",
       "   'dks',\n",
       "   'dell',\n",
       "   'afrm',\n",
       "   'mrvl',\n",
       "   'ulta',\n",
       "   'adsk',\n",
       "   'gap',\n",
       "   'baba',\n",
       "   'td'],\n",
       "  'option_type': 'call',\n",
       "  'days_until_exp': 575,\n",
       "  'strike_pct': 0.5,\n",
       "  'days_to_gain': 287,\n",
       "  'stock_gain_pct': 0.1,\n",
       "  'allocation': 100,\n",
       "  'label': '575d(50%) Call OTM strike0.5 +10%'},\n",
       " {'tickers': ['nvda',\n",
       "   'crwd',\n",
       "   'snow',\n",
       "   'five',\n",
       "   'bby',\n",
       "   'dg',\n",
       "   'dks',\n",
       "   'dell',\n",
       "   'afrm',\n",
       "   'mrvl',\n",
       "   'ulta',\n",
       "   'adsk',\n",
       "   'gap',\n",
       "   'baba',\n",
       "   'td'],\n",
       "  'option_type': 'call',\n",
       "  'days_until_exp': 575,\n",
       "  'strike_pct': 0.9,\n",
       "  'days_to_gain': 287,\n",
       "  'stock_gain_pct': 0.1,\n",
       "  'allocation': 100,\n",
       "  'label': '575d(50%) Call OTM strike0.9 +10%'},\n",
       " {'tickers': ['nvda',\n",
       "   'crwd',\n",
       "   'snow',\n",
       "   'five',\n",
       "   'bby',\n",
       "   'dg',\n",
       "   'dks',\n",
       "   'dell',\n",
       "   'afrm',\n",
       "   'mrvl',\n",
       "   'ulta',\n",
       "   'adsk',\n",
       "   'gap',\n",
       "   'baba',\n",
       "   'td'],\n",
       "  'option_type': 'call',\n",
       "  'days_until_exp': 575,\n",
       "  'strike_pct': -0.1,\n",
       "  'days_to_gain': 287,\n",
       "  'stock_gain_pct': 0.2,\n",
       "  'allocation': 100,\n",
       "  'label': '575d(50%) Call ITM strike-0.1 +20%'},\n",
       " {'tickers': ['nvda',\n",
       "   'crwd',\n",
       "   'snow',\n",
       "   'five',\n",
       "   'bby',\n",
       "   'dg',\n",
       "   'dks',\n",
       "   'dell',\n",
       "   'afrm',\n",
       "   'mrvl',\n",
       "   'ulta',\n",
       "   'adsk',\n",
       "   'gap',\n",
       "   'baba',\n",
       "   'td'],\n",
       "  'option_type': 'call',\n",
       "  'days_until_exp': 575,\n",
       "  'strike_pct': -0.5,\n",
       "  'days_to_gain': 287,\n",
       "  'stock_gain_pct': 0.2,\n",
       "  'allocation': 100,\n",
       "  'label': '575d(50%) Call ITM strike-0.5 +20%'},\n",
       " {'tickers': ['nvda',\n",
       "   'crwd',\n",
       "   'snow',\n",
       "   'five',\n",
       "   'bby',\n",
       "   'dg',\n",
       "   'dks',\n",
       "   'dell',\n",
       "   'afrm',\n",
       "   'mrvl',\n",
       "   'ulta',\n",
       "   'adsk',\n",
       "   'gap',\n",
       "   'baba',\n",
       "   'td'],\n",
       "  'option_type': 'call',\n",
       "  'days_until_exp': 575,\n",
       "  'strike_pct': 0.2,\n",
       "  'days_to_gain': 287,\n",
       "  'stock_gain_pct': 0.2,\n",
       "  'allocation': 100,\n",
       "  'label': '575d(50%) Call OTM strike0.2 +20%'},\n",
       " {'tickers': ['nvda',\n",
       "   'crwd',\n",
       "   'snow',\n",
       "   'five',\n",
       "   'bby',\n",
       "   'dg',\n",
       "   'dks',\n",
       "   'dell',\n",
       "   'afrm',\n",
       "   'mrvl',\n",
       "   'ulta',\n",
       "   'adsk',\n",
       "   'gap',\n",
       "   'baba',\n",
       "   'td'],\n",
       "  'option_type': 'call',\n",
       "  'days_until_exp': 575,\n",
       "  'strike_pct': 0.5,\n",
       "  'days_to_gain': 287,\n",
       "  'stock_gain_pct': 0.2,\n",
       "  'allocation': 100,\n",
       "  'label': '575d(50%) Call OTM strike0.5 +20%'},\n",
       " {'tickers': ['nvda',\n",
       "   'crwd',\n",
       "   'snow',\n",
       "   'five',\n",
       "   'bby',\n",
       "   'dg',\n",
       "   'dks',\n",
       "   'dell',\n",
       "   'afrm',\n",
       "   'mrvl',\n",
       "   'ulta',\n",
       "   'adsk',\n",
       "   'gap',\n",
       "   'baba',\n",
       "   'td'],\n",
       "  'option_type': 'call',\n",
       "  'days_until_exp': 575,\n",
       "  'strike_pct': 0.9,\n",
       "  'days_to_gain': 287,\n",
       "  'stock_gain_pct': 0.2,\n",
       "  'allocation': 100,\n",
       "  'label': '575d(50%) Call OTM strike0.9 +20%'},\n",
       " {'tickers': ['nvda',\n",
       "   'crwd',\n",
       "   'snow',\n",
       "   'five',\n",
       "   'bby',\n",
       "   'dg',\n",
       "   'dks',\n",
       "   'dell',\n",
       "   'afrm',\n",
       "   'mrvl',\n",
       "   'ulta',\n",
       "   'adsk',\n",
       "   'gap',\n",
       "   'baba',\n",
       "   'td'],\n",
       "  'option_type': 'call',\n",
       "  'days_until_exp': 575,\n",
       "  'strike_pct': -0.1,\n",
       "  'days_to_gain': 287,\n",
       "  'stock_gain_pct': 0.5,\n",
       "  'allocation': 100,\n",
       "  'label': '575d(50%) Call ITM strike-0.1 +50%'},\n",
       " {'tickers': ['nvda',\n",
       "   'crwd',\n",
       "   'snow',\n",
       "   'five',\n",
       "   'bby',\n",
       "   'dg',\n",
       "   'dks',\n",
       "   'dell',\n",
       "   'afrm',\n",
       "   'mrvl',\n",
       "   'ulta',\n",
       "   'adsk',\n",
       "   'gap',\n",
       "   'baba',\n",
       "   'td'],\n",
       "  'option_type': 'call',\n",
       "  'days_until_exp': 575,\n",
       "  'strike_pct': -0.5,\n",
       "  'days_to_gain': 287,\n",
       "  'stock_gain_pct': 0.5,\n",
       "  'allocation': 100,\n",
       "  'label': '575d(50%) Call ITM strike-0.5 +50%'},\n",
       " {'tickers': ['nvda',\n",
       "   'crwd',\n",
       "   'snow',\n",
       "   'five',\n",
       "   'bby',\n",
       "   'dg',\n",
       "   'dks',\n",
       "   'dell',\n",
       "   'afrm',\n",
       "   'mrvl',\n",
       "   'ulta',\n",
       "   'adsk',\n",
       "   'gap',\n",
       "   'baba',\n",
       "   'td'],\n",
       "  'option_type': 'call',\n",
       "  'days_until_exp': 575,\n",
       "  'strike_pct': 0.2,\n",
       "  'days_to_gain': 287,\n",
       "  'stock_gain_pct': 0.5,\n",
       "  'allocation': 100,\n",
       "  'label': '575d(50%) Call OTM strike0.2 +50%'},\n",
       " {'tickers': ['nvda',\n",
       "   'crwd',\n",
       "   'snow',\n",
       "   'five',\n",
       "   'bby',\n",
       "   'dg',\n",
       "   'dks',\n",
       "   'dell',\n",
       "   'afrm',\n",
       "   'mrvl',\n",
       "   'ulta',\n",
       "   'adsk',\n",
       "   'gap',\n",
       "   'baba',\n",
       "   'td'],\n",
       "  'option_type': 'call',\n",
       "  'days_until_exp': 575,\n",
       "  'strike_pct': 0.5,\n",
       "  'days_to_gain': 287,\n",
       "  'stock_gain_pct': 0.5,\n",
       "  'allocation': 100,\n",
       "  'label': '575d(50%) Call OTM strike0.5 +50%'},\n",
       " {'tickers': ['nvda',\n",
       "   'crwd',\n",
       "   'snow',\n",
       "   'five',\n",
       "   'bby',\n",
       "   'dg',\n",
       "   'dks',\n",
       "   'dell',\n",
       "   'afrm',\n",
       "   'mrvl',\n",
       "   'ulta',\n",
       "   'adsk',\n",
       "   'gap',\n",
       "   'baba',\n",
       "   'td'],\n",
       "  'option_type': 'call',\n",
       "  'days_until_exp': 575,\n",
       "  'strike_pct': 0.9,\n",
       "  'days_to_gain': 287,\n",
       "  'stock_gain_pct': 0.5,\n",
       "  'allocation': 100,\n",
       "  'label': '575d(50%) Call OTM strike0.9 +50%'},\n",
       " {'tickers': ['nvda',\n",
       "   'crwd',\n",
       "   'snow',\n",
       "   'five',\n",
       "   'bby',\n",
       "   'dg',\n",
       "   'dks',\n",
       "   'dell',\n",
       "   'afrm',\n",
       "   'mrvl',\n",
       "   'ulta',\n",
       "   'adsk',\n",
       "   'gap',\n",
       "   'baba',\n",
       "   'td'],\n",
       "  'option_type': 'call',\n",
       "  'days_until_exp': 575,\n",
       "  'strike_pct': -0.1,\n",
       "  'days_to_gain': 287,\n",
       "  'stock_gain_pct': -0.2,\n",
       "  'allocation': 100,\n",
       "  'label': '575d(50%) Call ITM strike-0.1 -20%'},\n",
       " {'tickers': ['nvda',\n",
       "   'crwd',\n",
       "   'snow',\n",
       "   'five',\n",
       "   'bby',\n",
       "   'dg',\n",
       "   'dks',\n",
       "   'dell',\n",
       "   'afrm',\n",
       "   'mrvl',\n",
       "   'ulta',\n",
       "   'adsk',\n",
       "   'gap',\n",
       "   'baba',\n",
       "   'td'],\n",
       "  'option_type': 'call',\n",
       "  'days_until_exp': 575,\n",
       "  'strike_pct': -0.5,\n",
       "  'days_to_gain': 287,\n",
       "  'stock_gain_pct': -0.2,\n",
       "  'allocation': 100,\n",
       "  'label': '575d(50%) Call ITM strike-0.5 -20%'},\n",
       " {'tickers': ['nvda',\n",
       "   'crwd',\n",
       "   'snow',\n",
       "   'five',\n",
       "   'bby',\n",
       "   'dg',\n",
       "   'dks',\n",
       "   'dell',\n",
       "   'afrm',\n",
       "   'mrvl',\n",
       "   'ulta',\n",
       "   'adsk',\n",
       "   'gap',\n",
       "   'baba',\n",
       "   'td'],\n",
       "  'option_type': 'call',\n",
       "  'days_until_exp': 575,\n",
       "  'strike_pct': 0.2,\n",
       "  'days_to_gain': 287,\n",
       "  'stock_gain_pct': -0.2,\n",
       "  'allocation': 100,\n",
       "  'label': '575d(50%) Call OTM strike0.2 -20%'},\n",
       " {'tickers': ['nvda',\n",
       "   'crwd',\n",
       "   'snow',\n",
       "   'five',\n",
       "   'bby',\n",
       "   'dg',\n",
       "   'dks',\n",
       "   'dell',\n",
       "   'afrm',\n",
       "   'mrvl',\n",
       "   'ulta',\n",
       "   'adsk',\n",
       "   'gap',\n",
       "   'baba',\n",
       "   'td'],\n",
       "  'option_type': 'call',\n",
       "  'days_until_exp': 575,\n",
       "  'strike_pct': 0.5,\n",
       "  'days_to_gain': 287,\n",
       "  'stock_gain_pct': -0.2,\n",
       "  'allocation': 100,\n",
       "  'label': '575d(50%) Call OTM strike0.5 -20%'},\n",
       " {'tickers': ['nvda',\n",
       "   'crwd',\n",
       "   'snow',\n",
       "   'five',\n",
       "   'bby',\n",
       "   'dg',\n",
       "   'dks',\n",
       "   'dell',\n",
       "   'afrm',\n",
       "   'mrvl',\n",
       "   'ulta',\n",
       "   'adsk',\n",
       "   'gap',\n",
       "   'baba',\n",
       "   'td'],\n",
       "  'option_type': 'call',\n",
       "  'days_until_exp': 575,\n",
       "  'strike_pct': 0.9,\n",
       "  'days_to_gain': 287,\n",
       "  'stock_gain_pct': -0.2,\n",
       "  'allocation': 100,\n",
       "  'label': '575d(50%) Call OTM strike0.9 -20%'},\n",
       " {'tickers': ['nvda',\n",
       "   'crwd',\n",
       "   'snow',\n",
       "   'five',\n",
       "   'bby',\n",
       "   'dg',\n",
       "   'dks',\n",
       "   'dell',\n",
       "   'afrm',\n",
       "   'mrvl',\n",
       "   'ulta',\n",
       "   'adsk',\n",
       "   'gap',\n",
       "   'baba',\n",
       "   'td'],\n",
       "  'option_type': 'put',\n",
       "  'days_until_exp': 575,\n",
       "  'strike_pct': -0.1,\n",
       "  'days_to_gain': 287,\n",
       "  'stock_gain_pct': -0.1,\n",
       "  'allocation': 100,\n",
       "  'label': '575d(50%) Put ITM strike-0.1 -10%'},\n",
       " {'tickers': ['nvda',\n",
       "   'crwd',\n",
       "   'snow',\n",
       "   'five',\n",
       "   'bby',\n",
       "   'dg',\n",
       "   'dks',\n",
       "   'dell',\n",
       "   'afrm',\n",
       "   'mrvl',\n",
       "   'ulta',\n",
       "   'adsk',\n",
       "   'gap',\n",
       "   'baba',\n",
       "   'td'],\n",
       "  'option_type': 'put',\n",
       "  'days_until_exp': 575,\n",
       "  'strike_pct': -0.5,\n",
       "  'days_to_gain': 287,\n",
       "  'stock_gain_pct': -0.1,\n",
       "  'allocation': 100,\n",
       "  'label': '575d(50%) Put ITM strike-0.5 -10%'},\n",
       " {'tickers': ['nvda',\n",
       "   'crwd',\n",
       "   'snow',\n",
       "   'five',\n",
       "   'bby',\n",
       "   'dg',\n",
       "   'dks',\n",
       "   'dell',\n",
       "   'afrm',\n",
       "   'mrvl',\n",
       "   'ulta',\n",
       "   'adsk',\n",
       "   'gap',\n",
       "   'baba',\n",
       "   'td'],\n",
       "  'option_type': 'put',\n",
       "  'days_until_exp': 575,\n",
       "  'strike_pct': 0.2,\n",
       "  'days_to_gain': 287,\n",
       "  'stock_gain_pct': -0.1,\n",
       "  'allocation': 100,\n",
       "  'label': '575d(50%) Put OTM strike0.2 -10%'},\n",
       " {'tickers': ['nvda',\n",
       "   'crwd',\n",
       "   'snow',\n",
       "   'five',\n",
       "   'bby',\n",
       "   'dg',\n",
       "   'dks',\n",
       "   'dell',\n",
       "   'afrm',\n",
       "   'mrvl',\n",
       "   'ulta',\n",
       "   'adsk',\n",
       "   'gap',\n",
       "   'baba',\n",
       "   'td'],\n",
       "  'option_type': 'put',\n",
       "  'days_until_exp': 575,\n",
       "  'strike_pct': 0.5,\n",
       "  'days_to_gain': 287,\n",
       "  'stock_gain_pct': -0.1,\n",
       "  'allocation': 100,\n",
       "  'label': '575d(50%) Put OTM strike0.5 -10%'},\n",
       " {'tickers': ['nvda',\n",
       "   'crwd',\n",
       "   'snow',\n",
       "   'five',\n",
       "   'bby',\n",
       "   'dg',\n",
       "   'dks',\n",
       "   'dell',\n",
       "   'afrm',\n",
       "   'mrvl',\n",
       "   'ulta',\n",
       "   'adsk',\n",
       "   'gap',\n",
       "   'baba',\n",
       "   'td'],\n",
       "  'option_type': 'put',\n",
       "  'days_until_exp': 575,\n",
       "  'strike_pct': 0.9,\n",
       "  'days_to_gain': 287,\n",
       "  'stock_gain_pct': -0.1,\n",
       "  'allocation': 100,\n",
       "  'label': '575d(50%) Put OTM strike0.9 -10%'},\n",
       " {'tickers': ['nvda',\n",
       "   'crwd',\n",
       "   'snow',\n",
       "   'five',\n",
       "   'bby',\n",
       "   'dg',\n",
       "   'dks',\n",
       "   'dell',\n",
       "   'afrm',\n",
       "   'mrvl',\n",
       "   'ulta',\n",
       "   'adsk',\n",
       "   'gap',\n",
       "   'baba',\n",
       "   'td'],\n",
       "  'option_type': 'put',\n",
       "  'days_until_exp': 575,\n",
       "  'strike_pct': -0.1,\n",
       "  'days_to_gain': 287,\n",
       "  'stock_gain_pct': -0.2,\n",
       "  'allocation': 100,\n",
       "  'label': '575d(50%) Put ITM strike-0.1 -20%'},\n",
       " {'tickers': ['nvda',\n",
       "   'crwd',\n",
       "   'snow',\n",
       "   'five',\n",
       "   'bby',\n",
       "   'dg',\n",
       "   'dks',\n",
       "   'dell',\n",
       "   'afrm',\n",
       "   'mrvl',\n",
       "   'ulta',\n",
       "   'adsk',\n",
       "   'gap',\n",
       "   'baba',\n",
       "   'td'],\n",
       "  'option_type': 'put',\n",
       "  'days_until_exp': 575,\n",
       "  'strike_pct': -0.5,\n",
       "  'days_to_gain': 287,\n",
       "  'stock_gain_pct': -0.2,\n",
       "  'allocation': 100,\n",
       "  'label': '575d(50%) Put ITM strike-0.5 -20%'},\n",
       " {'tickers': ['nvda',\n",
       "   'crwd',\n",
       "   'snow',\n",
       "   'five',\n",
       "   'bby',\n",
       "   'dg',\n",
       "   'dks',\n",
       "   'dell',\n",
       "   'afrm',\n",
       "   'mrvl',\n",
       "   'ulta',\n",
       "   'adsk',\n",
       "   'gap',\n",
       "   'baba',\n",
       "   'td'],\n",
       "  'option_type': 'put',\n",
       "  'days_until_exp': 575,\n",
       "  'strike_pct': 0.2,\n",
       "  'days_to_gain': 287,\n",
       "  'stock_gain_pct': -0.2,\n",
       "  'allocation': 100,\n",
       "  'label': '575d(50%) Put OTM strike0.2 -20%'},\n",
       " {'tickers': ['nvda',\n",
       "   'crwd',\n",
       "   'snow',\n",
       "   'five',\n",
       "   'bby',\n",
       "   'dg',\n",
       "   'dks',\n",
       "   'dell',\n",
       "   'afrm',\n",
       "   'mrvl',\n",
       "   'ulta',\n",
       "   'adsk',\n",
       "   'gap',\n",
       "   'baba',\n",
       "   'td'],\n",
       "  'option_type': 'put',\n",
       "  'days_until_exp': 575,\n",
       "  'strike_pct': 0.5,\n",
       "  'days_to_gain': 287,\n",
       "  'stock_gain_pct': -0.2,\n",
       "  'allocation': 100,\n",
       "  'label': '575d(50%) Put OTM strike0.5 -20%'},\n",
       " {'tickers': ['nvda',\n",
       "   'crwd',\n",
       "   'snow',\n",
       "   'five',\n",
       "   'bby',\n",
       "   'dg',\n",
       "   'dks',\n",
       "   'dell',\n",
       "   'afrm',\n",
       "   'mrvl',\n",
       "   'ulta',\n",
       "   'adsk',\n",
       "   'gap',\n",
       "   'baba',\n",
       "   'td'],\n",
       "  'option_type': 'put',\n",
       "  'days_until_exp': 575,\n",
       "  'strike_pct': 0.9,\n",
       "  'days_to_gain': 287,\n",
       "  'stock_gain_pct': -0.2,\n",
       "  'allocation': 100,\n",
       "  'label': '575d(50%) Put OTM strike0.9 -20%'},\n",
       " {'tickers': ['nvda',\n",
       "   'crwd',\n",
       "   'snow',\n",
       "   'five',\n",
       "   'bby',\n",
       "   'dg',\n",
       "   'dks',\n",
       "   'dell',\n",
       "   'afrm',\n",
       "   'mrvl',\n",
       "   'ulta',\n",
       "   'adsk',\n",
       "   'gap',\n",
       "   'baba',\n",
       "   'td'],\n",
       "  'option_type': 'put',\n",
       "  'days_until_exp': 575,\n",
       "  'strike_pct': -0.1,\n",
       "  'days_to_gain': 287,\n",
       "  'stock_gain_pct': 0.2,\n",
       "  'allocation': 100,\n",
       "  'label': '575d(50%) Put ITM strike-0.1 +20%'},\n",
       " {'tickers': ['nvda',\n",
       "   'crwd',\n",
       "   'snow',\n",
       "   'five',\n",
       "   'bby',\n",
       "   'dg',\n",
       "   'dks',\n",
       "   'dell',\n",
       "   'afrm',\n",
       "   'mrvl',\n",
       "   'ulta',\n",
       "   'adsk',\n",
       "   'gap',\n",
       "   'baba',\n",
       "   'td'],\n",
       "  'option_type': 'put',\n",
       "  'days_until_exp': 575,\n",
       "  'strike_pct': -0.5,\n",
       "  'days_to_gain': 287,\n",
       "  'stock_gain_pct': 0.2,\n",
       "  'allocation': 100,\n",
       "  'label': '575d(50%) Put ITM strike-0.5 +20%'},\n",
       " {'tickers': ['nvda',\n",
       "   'crwd',\n",
       "   'snow',\n",
       "   'five',\n",
       "   'bby',\n",
       "   'dg',\n",
       "   'dks',\n",
       "   'dell',\n",
       "   'afrm',\n",
       "   'mrvl',\n",
       "   'ulta',\n",
       "   'adsk',\n",
       "   'gap',\n",
       "   'baba',\n",
       "   'td'],\n",
       "  'option_type': 'put',\n",
       "  'days_until_exp': 575,\n",
       "  'strike_pct': 0.2,\n",
       "  'days_to_gain': 287,\n",
       "  'stock_gain_pct': 0.2,\n",
       "  'allocation': 100,\n",
       "  'label': '575d(50%) Put OTM strike0.2 +20%'},\n",
       " {'tickers': ['nvda',\n",
       "   'crwd',\n",
       "   'snow',\n",
       "   'five',\n",
       "   'bby',\n",
       "   'dg',\n",
       "   'dks',\n",
       "   'dell',\n",
       "   'afrm',\n",
       "   'mrvl',\n",
       "   'ulta',\n",
       "   'adsk',\n",
       "   'gap',\n",
       "   'baba',\n",
       "   'td'],\n",
       "  'option_type': 'put',\n",
       "  'days_until_exp': 575,\n",
       "  'strike_pct': 0.5,\n",
       "  'days_to_gain': 287,\n",
       "  'stock_gain_pct': 0.2,\n",
       "  'allocation': 100,\n",
       "  'label': '575d(50%) Put OTM strike0.5 +20%'},\n",
       " {'tickers': ['nvda',\n",
       "   'crwd',\n",
       "   'snow',\n",
       "   'five',\n",
       "   'bby',\n",
       "   'dg',\n",
       "   'dks',\n",
       "   'dell',\n",
       "   'afrm',\n",
       "   'mrvl',\n",
       "   'ulta',\n",
       "   'adsk',\n",
       "   'gap',\n",
       "   'baba',\n",
       "   'td'],\n",
       "  'option_type': 'put',\n",
       "  'days_until_exp': 575,\n",
       "  'strike_pct': 0.9,\n",
       "  'days_to_gain': 287,\n",
       "  'stock_gain_pct': 0.2,\n",
       "  'allocation': 100,\n",
       "  'label': '575d(50%) Put OTM strike0.9 +20%'}]"
      ]
     },
     "metadata": {},
     "output_type": "display_data"
    }
   ],
   "source": [
    "days_groups = [90, 180, 270, 575]\n",
    "call_stock_gains = [0.1, 0.2, 0.5, -0.2]\n",
    "put_stock_gains = [-0.1, -0.2, 0.2]\n",
    "itm_strikes = [-0.1, -0.5]\n",
    "otm_strikes = [0.2, 0.5, 0.9]\n",
    "tickers = raw1  # your list of tickers\n",
    "days_to_gain_pcts = [0.2, 0.5]\n",
    "option_types = [\"call\", \"put\"]  # or just [\"call\"] or [\"put\"]\n",
    "\n",
    "# First: preview parameters\n",
    "param_sets_basic = screener_parameter_builder(\n",
    "    days_groups, call_stock_gains, put_stock_gains, itm_strikes, otm_strikes, tickers, days_to_gain_pcts, option_types\n",
    ")\n",
    "\n",
    "display(param_sets_basic)"
   ]
  },
  {
   "cell_type": "code",
   "execution_count": 12,
   "id": "539c47bb-2a1c-4737-86d5-d3855409a9d9",
   "metadata": {},
   "outputs": [
    {
     "name": "stdout",
     "output_type": "stream",
     "text": [
      "\n",
      "✅ Total parameter sets generated: 280\n",
      "🔎 First 3 parameter sets for inspection:\n",
      "\n",
      "{'tickers': ['nvda', 'crwd', 'snow', 'five', 'bby', 'dg', 'dks', 'dell', 'afrm', 'mrvl', 'ulta', 'adsk', 'gap', 'baba', 'td'], 'option_type': 'call', 'days_until_exp': 90, 'strike_pct': -0.1, 'days_to_gain': 18, 'stock_gain_pct': 0.1, 'allocation': 100, 'label': '90d(20%) Call ITM strike-0.1 +10%'}\n",
      "--------------------------------------------------------------------------------\n",
      "{'tickers': ['nvda', 'crwd', 'snow', 'five', 'bby', 'dg', 'dks', 'dell', 'afrm', 'mrvl', 'ulta', 'adsk', 'gap', 'baba', 'td'], 'option_type': 'call', 'days_until_exp': 90, 'strike_pct': -0.5, 'days_to_gain': 18, 'stock_gain_pct': 0.1, 'allocation': 100, 'label': '90d(20%) Call ITM strike-0.5 +10%'}\n",
      "--------------------------------------------------------------------------------\n",
      "{'tickers': ['nvda', 'crwd', 'snow', 'five', 'bby', 'dg', 'dks', 'dell', 'afrm', 'mrvl', 'ulta', 'adsk', 'gap', 'baba', 'td'], 'option_type': 'call', 'days_until_exp': 90, 'strike_pct': 0.2, 'days_to_gain': 18, 'stock_gain_pct': 0.1, 'allocation': 100, 'label': '90d(20%) Call OTM strike0.2 +10%'}\n",
      "--------------------------------------------------------------------------------\n"
     ]
    },
    {
     "name": "stderr",
     "output_type": "stream",
     "text": [
      "2025-08-27 09:23:21,231 [INFO] No options data returned for adsk\n",
      "2025-08-27 09:23:27,113 [INFO] No options data returned for td\n",
      "2025-08-27 09:23:41,593 [INFO] No options data returned for mrvl\n",
      "2025-08-27 09:23:44,583 [INFO] No options data returned for adsk\n",
      "2025-08-27 09:23:48,288 [INFO] No options data returned for td\n",
      "2025-08-27 09:24:04,750 [INFO] No options data returned for adsk\n",
      "2025-08-27 09:24:09,225 [INFO] No options data returned for td\n",
      "2025-08-27 09:24:15,395 [INFO] No options data returned for five\n",
      "2025-08-27 09:24:26,548 [INFO] No options data returned for adsk\n",
      "2025-08-27 09:24:33,444 [INFO] No options data returned for td\n",
      "2025-08-27 09:24:35,429 [ERROR] Error processing nvda: type NoneType doesn't define __round__ method\n",
      "2025-08-27 09:24:37,062 [INFO] No options data returned for crwd\n",
      "2025-08-27 09:24:38,673 [INFO] No options data returned for snow\n",
      "2025-08-27 09:24:39,997 [INFO] No options data returned for five\n",
      "2025-08-27 09:24:41,551 [INFO] No options data returned for bby\n",
      "2025-08-27 09:24:42,658 [INFO] No options data returned for dg\n",
      "2025-08-27 09:24:44,077 [INFO] No options data returned for dks\n",
      "2025-08-27 09:24:45,371 [INFO] No options data returned for dell\n",
      "2025-08-27 09:24:46,912 [INFO] No options data returned for afrm\n",
      "2025-08-27 09:24:48,183 [INFO] No options data returned for mrvl\n",
      "2025-08-27 09:24:50,767 [INFO] No options data returned for ulta\n",
      "2025-08-27 09:24:51,974 [INFO] No options data returned for adsk\n",
      "2025-08-27 09:24:55,503 [INFO] No options data returned for td\n",
      "2025-08-27 09:25:15,778 [INFO] No options data returned for adsk\n",
      "2025-08-27 09:25:20,318 [INFO] No options data returned for td\n",
      "2025-08-27 09:25:35,529 [INFO] No options data returned for mrvl\n",
      "2025-08-27 09:25:38,381 [INFO] No options data returned for adsk\n",
      "2025-08-27 09:25:42,587 [INFO] No options data returned for td\n",
      "2025-08-27 09:26:00,204 [INFO] No options data returned for adsk\n",
      "2025-08-27 09:26:05,155 [INFO] No options data returned for td\n",
      "2025-08-27 09:26:11,616 [INFO] No options data returned for five\n",
      "2025-08-27 09:26:21,754 [INFO] No options data returned for adsk\n",
      "2025-08-27 09:26:26,569 [INFO] No options data returned for td\n",
      "2025-08-27 09:26:27,954 [ERROR] Error processing nvda: type NoneType doesn't define __round__ method\n",
      "2025-08-27 09:26:29,129 [INFO] No options data returned for crwd\n",
      "2025-08-27 09:26:30,492 [INFO] No options data returned for snow\n",
      "2025-08-27 09:26:32,336 [INFO] No options data returned for five\n",
      "2025-08-27 09:26:33,891 [INFO] No options data returned for bby\n",
      "2025-08-27 09:26:35,968 [INFO] No options data returned for dg\n",
      "2025-08-27 09:26:37,497 [INFO] No options data returned for dks\n",
      "2025-08-27 09:26:38,662 [INFO] No options data returned for dell\n",
      "2025-08-27 09:26:40,327 [INFO] No options data returned for afrm\n",
      "2025-08-27 09:26:41,712 [INFO] No options data returned for mrvl\n",
      "2025-08-27 09:26:43,197 [INFO] No options data returned for ulta\n",
      "2025-08-27 09:26:44,950 [INFO] No options data returned for adsk\n",
      "2025-08-27 09:26:49,153 [INFO] No options data returned for td\n",
      "2025-08-27 09:27:07,592 [INFO] No options data returned for adsk\n",
      "2025-08-27 09:27:12,146 [INFO] No options data returned for td\n",
      "2025-08-27 09:27:27,311 [INFO] No options data returned for mrvl\n",
      "2025-08-27 09:27:29,981 [INFO] No options data returned for adsk\n",
      "2025-08-27 09:27:33,984 [INFO] No options data returned for td\n",
      "2025-08-27 09:27:58,265 [INFO] No options data returned for adsk\n",
      "2025-08-27 09:28:02,455 [INFO] No options data returned for td\n",
      "2025-08-27 09:28:08,358 [INFO] No options data returned for five\n",
      "2025-08-27 09:28:20,022 [INFO] No options data returned for adsk\n",
      "2025-08-27 09:28:24,104 [INFO] No options data returned for td\n",
      "2025-08-27 09:28:25,513 [ERROR] Error processing nvda: type NoneType doesn't define __round__ method\n",
      "2025-08-27 09:28:26,817 [INFO] No options data returned for crwd\n",
      "2025-08-27 09:28:28,133 [INFO] No options data returned for snow\n",
      "2025-08-27 09:28:29,152 [INFO] No options data returned for five\n",
      "2025-08-27 09:28:30,721 [INFO] No options data returned for bby\n",
      "2025-08-27 09:28:31,963 [INFO] No options data returned for dg\n",
      "2025-08-27 09:28:33,500 [INFO] No options data returned for dks\n",
      "2025-08-27 09:28:34,757 [INFO] No options data returned for dell\n",
      "2025-08-27 09:28:36,133 [INFO] No options data returned for afrm\n",
      "2025-08-27 09:28:37,395 [INFO] No options data returned for mrvl\n",
      "2025-08-27 09:28:38,434 [INFO] No options data returned for ulta\n",
      "2025-08-27 09:28:40,023 [INFO] No options data returned for adsk\n",
      "2025-08-27 09:28:43,680 [INFO] No options data returned for td\n",
      "2025-08-27 09:29:01,684 [INFO] No options data returned for adsk\n",
      "2025-08-27 09:29:07,636 [INFO] No options data returned for td\n",
      "2025-08-27 09:29:20,004 [INFO] No options data returned for mrvl\n",
      "2025-08-27 09:29:23,001 [INFO] No options data returned for adsk\n",
      "2025-08-27 09:29:27,137 [INFO] No options data returned for td\n",
      "2025-08-27 09:29:45,143 [INFO] No options data returned for adsk\n",
      "2025-08-27 09:29:49,797 [INFO] No options data returned for td\n",
      "2025-08-27 09:29:54,456 [INFO] No options data returned for five\n",
      "2025-08-27 09:30:12,892 [INFO] No options data returned for adsk\n",
      "2025-08-27 09:30:16,953 [INFO] No options data returned for td\n",
      "2025-08-27 09:30:18,122 [ERROR] Error processing nvda: type NoneType doesn't define __round__ method\n",
      "2025-08-27 09:30:19,240 [INFO] No options data returned for crwd\n",
      "2025-08-27 09:30:20,447 [INFO] No options data returned for snow\n",
      "2025-08-27 09:30:22,393 [INFO] No options data returned for five\n",
      "2025-08-27 09:30:23,511 [INFO] No options data returned for bby\n",
      "2025-08-27 09:30:24,625 [INFO] No options data returned for dg\n",
      "2025-08-27 09:30:26,380 [INFO] No options data returned for dks\n",
      "2025-08-27 09:30:27,339 [INFO] No options data returned for dell\n",
      "2025-08-27 09:30:28,389 [INFO] No options data returned for afrm\n",
      "2025-08-27 09:30:29,494 [INFO] No options data returned for mrvl\n",
      "2025-08-27 09:30:30,721 [INFO] No options data returned for ulta\n",
      "2025-08-27 09:30:31,860 [INFO] No options data returned for adsk\n",
      "2025-08-27 09:30:34,840 [INFO] No options data returned for td\n",
      "2025-08-27 09:30:49,618 [INFO] No options data returned for adsk\n",
      "2025-08-27 09:30:52,796 [INFO] No options data returned for td\n",
      "2025-08-27 09:31:04,807 [INFO] No options data returned for mrvl\n",
      "2025-08-27 09:31:07,719 [INFO] No options data returned for adsk\n",
      "2025-08-27 09:31:11,086 [INFO] No options data returned for td\n",
      "2025-08-27 09:31:25,180 [INFO] No options data returned for adsk\n",
      "2025-08-27 09:31:28,298 [INFO] No options data returned for td\n",
      "2025-08-27 09:31:34,153 [INFO] No options data returned for five\n",
      "2025-08-27 09:31:42,918 [INFO] No options data returned for adsk\n",
      "2025-08-27 09:31:45,934 [INFO] No options data returned for td\n",
      "2025-08-27 09:31:47,514 [ERROR] Error processing nvda: type NoneType doesn't define __round__ method\n",
      "2025-08-27 09:31:48,486 [INFO] No options data returned for crwd\n",
      "2025-08-27 09:31:49,368 [INFO] No options data returned for snow\n",
      "2025-08-27 09:31:50,245 [INFO] No options data returned for five\n",
      "2025-08-27 09:31:51,105 [INFO] No options data returned for bby\n",
      "2025-08-27 09:31:52,040 [INFO] No options data returned for dg\n",
      "2025-08-27 09:31:52,959 [INFO] No options data returned for dks\n",
      "2025-08-27 09:31:53,786 [INFO] No options data returned for dell\n",
      "2025-08-27 09:31:54,737 [INFO] No options data returned for afrm\n",
      "2025-08-27 09:31:55,615 [INFO] No options data returned for mrvl\n",
      "2025-08-27 09:31:56,406 [INFO] No options data returned for ulta\n",
      "2025-08-27 09:31:57,281 [INFO] No options data returned for adsk\n",
      "2025-08-27 09:32:00,308 [INFO] No options data returned for td\n",
      "2025-08-27 09:32:13,207 [INFO] No options data returned for adsk\n",
      "2025-08-27 09:32:17,026 [INFO] No options data returned for td\n",
      "2025-08-27 09:32:28,142 [INFO] No options data returned for mrvl\n",
      "2025-08-27 09:32:30,086 [INFO] No options data returned for adsk\n",
      "2025-08-27 09:32:32,697 [INFO] No options data returned for td\n",
      "2025-08-27 09:32:45,100 [INFO] No options data returned for adsk\n",
      "2025-08-27 09:32:48,660 [INFO] No options data returned for td\n",
      "2025-08-27 09:32:53,710 [INFO] No options data returned for five\n",
      "2025-08-27 09:33:00,930 [INFO] No options data returned for adsk\n",
      "2025-08-27 09:33:04,034 [INFO] No options data returned for td\n",
      "2025-08-27 09:33:04,977 [ERROR] Error processing nvda: type NoneType doesn't define __round__ method\n",
      "2025-08-27 09:33:05,835 [INFO] No options data returned for crwd\n",
      "2025-08-27 09:33:06,798 [INFO] No options data returned for snow\n",
      "2025-08-27 09:33:07,739 [INFO] No options data returned for five\n",
      "2025-08-27 09:33:08,639 [INFO] No options data returned for bby\n",
      "2025-08-27 09:33:09,575 [INFO] No options data returned for dg\n",
      "2025-08-27 09:33:10,420 [INFO] No options data returned for dks\n",
      "2025-08-27 09:33:11,265 [INFO] No options data returned for dell\n",
      "2025-08-27 09:33:12,142 [INFO] No options data returned for afrm\n",
      "2025-08-27 09:33:13,024 [INFO] No options data returned for mrvl\n",
      "2025-08-27 09:33:13,924 [INFO] No options data returned for ulta\n",
      "2025-08-27 09:33:14,789 [INFO] No options data returned for adsk\n",
      "2025-08-27 09:33:17,399 [INFO] No options data returned for td\n",
      "2025-08-27 09:33:30,025 [INFO] No options data returned for adsk\n",
      "2025-08-27 09:33:33,072 [INFO] No options data returned for td\n",
      "2025-08-27 09:33:42,067 [INFO] No options data returned for mrvl\n",
      "2025-08-27 09:33:43,906 [INFO] No options data returned for adsk\n",
      "2025-08-27 09:33:46,612 [INFO] No options data returned for td\n",
      "2025-08-27 09:33:58,469 [INFO] No options data returned for adsk\n",
      "2025-08-27 09:34:01,461 [INFO] No options data returned for td\n",
      "2025-08-27 09:34:05,895 [INFO] No options data returned for five\n",
      "2025-08-27 09:34:13,863 [INFO] No options data returned for adsk\n",
      "2025-08-27 09:34:16,586 [INFO] No options data returned for td\n",
      "2025-08-27 09:34:17,512 [ERROR] Error processing nvda: type NoneType doesn't define __round__ method\n",
      "2025-08-27 09:34:18,356 [INFO] No options data returned for crwd\n",
      "2025-08-27 09:34:19,285 [INFO] No options data returned for snow\n",
      "2025-08-27 09:34:20,155 [INFO] No options data returned for five\n",
      "2025-08-27 09:34:21,108 [INFO] No options data returned for bby\n",
      "2025-08-27 09:34:22,080 [INFO] No options data returned for dg\n",
      "2025-08-27 09:34:22,933 [INFO] No options data returned for dks\n",
      "2025-08-27 09:34:23,895 [INFO] No options data returned for dell\n",
      "2025-08-27 09:34:24,818 [INFO] No options data returned for afrm\n",
      "2025-08-27 09:34:25,684 [INFO] No options data returned for mrvl\n",
      "2025-08-27 09:34:26,624 [INFO] No options data returned for ulta\n",
      "2025-08-27 09:34:27,466 [INFO] No options data returned for adsk\n",
      "2025-08-27 09:34:30,129 [INFO] No options data returned for td\n",
      "2025-08-27 09:34:42,697 [INFO] No options data returned for adsk\n",
      "2025-08-27 09:34:45,443 [INFO] No options data returned for td\n",
      "2025-08-27 09:34:54,792 [INFO] No options data returned for mrvl\n",
      "2025-08-27 09:34:56,536 [INFO] No options data returned for adsk\n",
      "2025-08-27 09:34:59,293 [INFO] No options data returned for td\n",
      "2025-08-27 09:35:11,972 [INFO] No options data returned for adsk\n",
      "2025-08-27 09:35:14,846 [INFO] No options data returned for td\n",
      "2025-08-27 09:35:18,642 [INFO] No options data returned for five\n",
      "2025-08-27 09:35:27,067 [INFO] No options data returned for adsk\n",
      "2025-08-27 09:35:29,741 [INFO] No options data returned for td\n",
      "2025-08-27 09:35:30,688 [ERROR] Error processing nvda: type NoneType doesn't define __round__ method\n",
      "2025-08-27 09:35:31,545 [INFO] No options data returned for crwd\n",
      "2025-08-27 09:35:32,442 [INFO] No options data returned for snow\n",
      "2025-08-27 09:35:33,310 [INFO] No options data returned for five\n",
      "2025-08-27 09:35:34,163 [INFO] No options data returned for bby\n",
      "2025-08-27 09:35:35,017 [INFO] No options data returned for dg\n",
      "2025-08-27 09:35:35,880 [INFO] No options data returned for dks\n",
      "2025-08-27 09:35:36,711 [INFO] No options data returned for dell\n",
      "2025-08-27 09:35:37,543 [INFO] No options data returned for afrm\n",
      "2025-08-27 09:35:38,528 [INFO] No options data returned for mrvl\n",
      "2025-08-27 09:35:39,566 [INFO] No options data returned for ulta\n",
      "2025-08-27 09:35:40,793 [INFO] No options data returned for adsk\n",
      "2025-08-27 09:35:44,293 [INFO] No options data returned for td\n",
      "2025-08-27 09:35:55,757 [INFO] No options data returned for adsk\n",
      "2025-08-27 09:35:58,507 [INFO] No options data returned for td\n",
      "2025-08-27 09:36:08,838 [INFO] No options data returned for mrvl\n",
      "2025-08-27 09:36:10,685 [INFO] No options data returned for adsk\n",
      "2025-08-27 09:36:13,563 [INFO] No options data returned for td\n",
      "2025-08-27 09:36:25,654 [INFO] No options data returned for adsk\n",
      "2025-08-27 09:36:28,553 [INFO] No options data returned for td\n",
      "2025-08-27 09:36:32,254 [INFO] No options data returned for five\n",
      "2025-08-27 09:36:39,664 [INFO] No options data returned for adsk\n",
      "2025-08-27 09:36:42,342 [INFO] No options data returned for td\n",
      "2025-08-27 09:36:43,318 [ERROR] Error processing nvda: type NoneType doesn't define __round__ method\n",
      "2025-08-27 09:36:45,248 [INFO] No options data returned for crwd\n",
      "2025-08-27 09:36:46,137 [INFO] No options data returned for snow\n",
      "2025-08-27 09:36:47,408 [INFO] No options data returned for five\n",
      "2025-08-27 09:36:48,841 [INFO] No options data returned for bby\n",
      "2025-08-27 09:36:50,084 [INFO] No options data returned for dg\n",
      "2025-08-27 09:36:51,058 [INFO] No options data returned for dks\n",
      "2025-08-27 09:36:51,924 [INFO] No options data returned for dell\n",
      "2025-08-27 09:36:52,850 [INFO] No options data returned for afrm\n",
      "2025-08-27 09:36:53,862 [INFO] No options data returned for mrvl\n",
      "2025-08-27 09:36:54,716 [INFO] No options data returned for ulta\n",
      "2025-08-27 09:36:55,560 [INFO] No options data returned for adsk\n",
      "2025-08-27 09:36:58,269 [INFO] No options data returned for td\n",
      "2025-08-27 09:37:10,047 [INFO] No options data returned for adsk\n",
      "2025-08-27 09:37:12,820 [INFO] No options data returned for td\n",
      "2025-08-27 09:37:21,855 [INFO] No options data returned for mrvl\n",
      "2025-08-27 09:37:23,643 [INFO] No options data returned for adsk\n",
      "2025-08-27 09:37:26,345 [INFO] No options data returned for td\n",
      "2025-08-27 09:37:37,271 [INFO] No options data returned for adsk\n",
      "2025-08-27 09:37:39,995 [INFO] No options data returned for td\n",
      "2025-08-27 09:37:43,600 [INFO] No options data returned for five\n",
      "2025-08-27 09:37:50,601 [INFO] No options data returned for adsk\n",
      "2025-08-27 09:37:53,353 [INFO] No options data returned for td\n",
      "2025-08-27 09:37:54,587 [ERROR] Error processing nvda: type NoneType doesn't define __round__ method\n",
      "2025-08-27 09:37:55,835 [INFO] No options data returned for crwd\n",
      "2025-08-27 09:37:57,126 [INFO] No options data returned for snow\n",
      "2025-08-27 09:37:58,387 [INFO] No options data returned for five\n",
      "2025-08-27 09:37:59,275 [INFO] No options data returned for bby\n",
      "2025-08-27 09:38:00,181 [INFO] No options data returned for dg\n",
      "2025-08-27 09:38:01,233 [INFO] No options data returned for dks\n",
      "2025-08-27 09:38:02,308 [INFO] No options data returned for dell\n",
      "2025-08-27 09:38:03,278 [INFO] No options data returned for afrm\n",
      "2025-08-27 09:38:04,124 [INFO] No options data returned for mrvl\n",
      "2025-08-27 09:38:05,004 [INFO] No options data returned for ulta\n",
      "2025-08-27 09:38:05,906 [INFO] No options data returned for adsk\n",
      "2025-08-27 09:38:09,624 [INFO] No options data returned for td\n",
      "2025-08-27 09:38:20,805 [INFO] No options data returned for adsk\n",
      "2025-08-27 09:38:23,570 [INFO] No options data returned for td\n",
      "2025-08-27 09:38:32,616 [INFO] No options data returned for mrvl\n",
      "2025-08-27 09:38:34,407 [INFO] No options data returned for adsk\n",
      "2025-08-27 09:38:37,094 [INFO] No options data returned for td\n",
      "2025-08-27 09:38:48,329 [INFO] No options data returned for adsk\n",
      "2025-08-27 09:38:50,889 [INFO] No options data returned for td\n",
      "2025-08-27 09:38:54,458 [INFO] No options data returned for five\n",
      "2025-08-27 09:39:02,035 [INFO] No options data returned for adsk\n",
      "2025-08-27 09:39:04,823 [INFO] No options data returned for td\n",
      "2025-08-27 09:39:05,871 [ERROR] Error processing nvda: type NoneType doesn't define __round__ method\n",
      "2025-08-27 09:39:06,762 [INFO] No options data returned for crwd\n",
      "2025-08-27 09:39:07,693 [INFO] No options data returned for snow\n",
      "2025-08-27 09:39:08,563 [INFO] No options data returned for five\n",
      "2025-08-27 09:39:09,479 [INFO] No options data returned for bby\n",
      "2025-08-27 09:39:10,377 [INFO] No options data returned for dg\n",
      "2025-08-27 09:39:11,234 [INFO] No options data returned for dks\n",
      "2025-08-27 09:39:12,077 [INFO] No options data returned for dell\n",
      "2025-08-27 09:39:12,967 [INFO] No options data returned for afrm\n",
      "2025-08-27 09:39:13,821 [INFO] No options data returned for mrvl\n",
      "2025-08-27 09:39:14,729 [INFO] No options data returned for ulta\n",
      "2025-08-27 09:39:15,581 [INFO] No options data returned for adsk\n",
      "2025-08-27 09:39:18,130 [INFO] No options data returned for td\n",
      "2025-08-27 09:39:29,296 [INFO] No options data returned for adsk\n",
      "2025-08-27 09:39:31,989 [INFO] No options data returned for td\n",
      "2025-08-27 09:39:40,986 [INFO] No options data returned for mrvl\n",
      "2025-08-27 09:39:42,692 [INFO] No options data returned for adsk\n",
      "2025-08-27 09:39:45,277 [INFO] No options data returned for td\n",
      "2025-08-27 09:39:56,020 [INFO] No options data returned for adsk\n",
      "2025-08-27 09:39:58,570 [INFO] No options data returned for td\n",
      "2025-08-27 09:40:03,580 [INFO] No options data returned for five\n",
      "2025-08-27 09:40:11,999 [INFO] No options data returned for adsk\n",
      "2025-08-27 09:40:14,671 [INFO] No options data returned for td\n",
      "2025-08-27 09:40:15,612 [ERROR] Error processing nvda: type NoneType doesn't define __round__ method\n",
      "2025-08-27 09:40:16,590 [INFO] No options data returned for crwd\n",
      "2025-08-27 09:40:17,564 [INFO] No options data returned for snow\n",
      "2025-08-27 09:40:18,444 [INFO] No options data returned for five\n",
      "2025-08-27 09:40:19,423 [INFO] No options data returned for bby\n",
      "2025-08-27 09:40:20,295 [INFO] No options data returned for dg\n",
      "2025-08-27 09:40:21,170 [INFO] No options data returned for dks\n",
      "2025-08-27 09:40:22,080 [INFO] No options data returned for dell\n",
      "2025-08-27 09:40:23,029 [INFO] No options data returned for afrm\n",
      "2025-08-27 09:40:24,040 [INFO] No options data returned for mrvl\n",
      "2025-08-27 09:40:24,956 [INFO] No options data returned for ulta\n",
      "2025-08-27 09:40:25,916 [INFO] No options data returned for adsk\n",
      "2025-08-27 09:40:28,560 [INFO] No options data returned for td\n",
      "2025-08-27 09:40:40,134 [INFO] No options data returned for adsk\n",
      "2025-08-27 09:40:42,836 [INFO] No options data returned for td\n",
      "2025-08-27 09:40:51,911 [INFO] No options data returned for mrvl\n",
      "2025-08-27 09:40:53,700 [INFO] No options data returned for adsk\n",
      "2025-08-27 09:40:56,439 [INFO] No options data returned for td\n",
      "2025-08-27 09:41:08,047 [INFO] No options data returned for adsk\n",
      "2025-08-27 09:41:10,708 [INFO] No options data returned for td\n",
      "2025-08-27 09:41:15,081 [INFO] No options data returned for five\n",
      "2025-08-27 09:41:22,626 [INFO] No options data returned for adsk\n",
      "2025-08-27 09:41:25,306 [INFO] No options data returned for td\n",
      "2025-08-27 09:41:26,193 [ERROR] Error processing nvda: type NoneType doesn't define __round__ method\n",
      "2025-08-27 09:41:27,004 [INFO] No options data returned for crwd\n",
      "2025-08-27 09:41:27,873 [INFO] No options data returned for snow\n",
      "2025-08-27 09:41:28,736 [INFO] No options data returned for five\n",
      "2025-08-27 09:41:29,633 [INFO] No options data returned for bby\n",
      "2025-08-27 09:41:30,480 [INFO] No options data returned for dg\n",
      "2025-08-27 09:41:31,338 [INFO] No options data returned for dks\n",
      "2025-08-27 09:41:32,232 [INFO] No options data returned for dell\n",
      "2025-08-27 09:41:33,059 [INFO] No options data returned for afrm\n",
      "2025-08-27 09:41:33,897 [INFO] No options data returned for mrvl\n",
      "2025-08-27 09:41:34,709 [INFO] No options data returned for ulta\n",
      "2025-08-27 09:41:35,558 [INFO] No options data returned for adsk\n",
      "2025-08-27 09:41:38,160 [INFO] No options data returned for td\n",
      "2025-08-27 09:41:49,192 [INFO] No options data returned for adsk\n",
      "2025-08-27 09:41:51,752 [INFO] No options data returned for td\n",
      "2025-08-27 09:42:00,806 [INFO] No options data returned for mrvl\n",
      "2025-08-27 09:42:03,288 [INFO] No options data returned for adsk\n",
      "2025-08-27 09:42:06,181 [INFO] No options data returned for td\n",
      "2025-08-27 09:42:18,162 [INFO] No options data returned for adsk\n",
      "2025-08-27 09:42:21,641 [INFO] No options data returned for td\n",
      "2025-08-27 09:42:25,519 [INFO] No options data returned for five\n",
      "2025-08-27 09:42:32,212 [INFO] No options data returned for adsk\n",
      "2025-08-27 09:42:34,759 [INFO] No options data returned for td\n",
      "2025-08-27 09:42:35,648 [ERROR] Error processing nvda: type NoneType doesn't define __round__ method\n",
      "2025-08-27 09:42:36,580 [INFO] No options data returned for crwd\n",
      "2025-08-27 09:42:37,457 [INFO] No options data returned for snow\n",
      "2025-08-27 09:42:38,306 [INFO] No options data returned for five\n",
      "2025-08-27 09:42:39,189 [INFO] No options data returned for bby\n",
      "2025-08-27 09:42:40,039 [INFO] No options data returned for dg\n",
      "2025-08-27 09:42:40,887 [INFO] No options data returned for dks\n",
      "2025-08-27 09:42:41,764 [INFO] No options data returned for dell\n",
      "2025-08-27 09:42:42,595 [INFO] No options data returned for afrm\n",
      "2025-08-27 09:42:43,549 [INFO] No options data returned for mrvl\n",
      "2025-08-27 09:42:44,372 [INFO] No options data returned for ulta\n",
      "2025-08-27 09:42:45,200 [INFO] No options data returned for adsk\n",
      "2025-08-27 09:42:47,666 [INFO] No options data returned for td\n",
      "2025-08-27 09:43:01,735 [INFO] No options data returned for td\n",
      "2025-08-27 09:43:10,777 [INFO] No options data returned for mrvl\n",
      "2025-08-27 09:43:15,214 [INFO] No options data returned for td\n",
      "2025-08-27 09:43:31,088 [INFO] No options data returned for td\n",
      "2025-08-27 09:43:44,188 [INFO] No options data returned for td\n",
      "2025-08-27 09:43:45,934 [INFO] No options data returned for crwd\n",
      "2025-08-27 09:43:46,722 [INFO] No options data returned for snow\n",
      "2025-08-27 09:43:47,538 [INFO] No options data returned for five\n",
      "2025-08-27 09:43:49,220 [INFO] No options data returned for dg\n",
      "2025-08-27 09:43:50,059 [INFO] No options data returned for dks\n",
      "2025-08-27 09:43:50,915 [INFO] No options data returned for dell\n",
      "2025-08-27 09:43:51,787 [INFO] No options data returned for afrm\n",
      "2025-08-27 09:43:53,492 [INFO] No options data returned for ulta\n",
      "2025-08-27 09:43:54,349 [INFO] No options data returned for adsk\n",
      "2025-08-27 09:43:56,833 [INFO] No options data returned for td\n",
      "2025-08-27 09:44:10,565 [INFO] No options data returned for td\n",
      "2025-08-27 09:44:19,131 [INFO] No options data returned for mrvl\n",
      "2025-08-27 09:44:23,586 [INFO] No options data returned for td\n",
      "2025-08-27 09:44:37,783 [INFO] No options data returned for td\n",
      "2025-08-27 09:44:51,010 [INFO] No options data returned for td\n",
      "2025-08-27 09:44:52,806 [INFO] No options data returned for crwd\n",
      "2025-08-27 09:44:53,639 [INFO] No options data returned for snow\n",
      "2025-08-27 09:44:54,453 [INFO] No options data returned for five\n",
      "2025-08-27 09:44:56,236 [INFO] No options data returned for dg\n",
      "2025-08-27 09:44:57,167 [INFO] No options data returned for dks\n",
      "2025-08-27 09:44:58,023 [INFO] No options data returned for dell\n",
      "2025-08-27 09:44:58,854 [INFO] No options data returned for afrm\n",
      "2025-08-27 09:45:00,708 [INFO] No options data returned for ulta\n",
      "2025-08-27 09:45:01,633 [INFO] No options data returned for adsk\n",
      "2025-08-27 09:45:04,963 [INFO] No options data returned for td\n",
      "2025-08-27 09:45:20,505 [INFO] No options data returned for td\n",
      "2025-08-27 09:45:29,670 [INFO] No options data returned for mrvl\n",
      "2025-08-27 09:45:34,238 [INFO] No options data returned for td\n",
      "2025-08-27 09:45:49,259 [INFO] No options data returned for td\n",
      "2025-08-27 09:46:02,956 [INFO] No options data returned for td\n",
      "2025-08-27 09:46:05,343 [INFO] No options data returned for crwd\n",
      "2025-08-27 09:46:06,475 [INFO] No options data returned for snow\n",
      "2025-08-27 09:46:07,431 [INFO] No options data returned for five\n",
      "2025-08-27 09:46:09,440 [INFO] No options data returned for dg\n",
      "2025-08-27 09:46:10,294 [INFO] No options data returned for dks\n",
      "2025-08-27 09:46:11,141 [INFO] No options data returned for dell\n",
      "2025-08-27 09:46:12,033 [INFO] No options data returned for afrm\n",
      "2025-08-27 09:46:13,974 [INFO] No options data returned for ulta\n",
      "2025-08-27 09:46:14,812 [INFO] No options data returned for adsk\n",
      "2025-08-27 09:46:17,519 [INFO] No options data returned for td\n",
      "2025-08-27 09:46:32,419 [INFO] No options data returned for td\n",
      "2025-08-27 09:46:41,400 [INFO] No options data returned for mrvl\n",
      "2025-08-27 09:46:46,926 [INFO] No options data returned for td\n",
      "2025-08-27 09:47:01,113 [INFO] No options data returned for td\n",
      "2025-08-27 09:47:17,208 [INFO] No options data returned for td\n",
      "2025-08-27 09:47:19,043 [INFO] No options data returned for crwd\n",
      "2025-08-27 09:47:19,910 [INFO] No options data returned for snow\n",
      "2025-08-27 09:47:20,810 [INFO] No options data returned for five\n",
      "2025-08-27 09:47:22,569 [INFO] No options data returned for dg\n",
      "2025-08-27 09:47:23,512 [INFO] No options data returned for dks\n",
      "2025-08-27 09:47:24,379 [INFO] No options data returned for dell\n",
      "2025-08-27 09:47:25,241 [INFO] No options data returned for afrm\n",
      "2025-08-27 09:47:26,975 [INFO] No options data returned for ulta\n",
      "2025-08-27 09:47:27,989 [INFO] No options data returned for adsk\n",
      "2025-08-27 09:47:30,599 [INFO] No options data returned for td\n",
      "2025-08-27 09:47:44,951 [INFO] No options data returned for td\n",
      "2025-08-27 09:47:54,697 [INFO] No options data returned for mrvl\n",
      "2025-08-27 09:47:59,463 [INFO] No options data returned for td\n",
      "2025-08-27 09:48:14,645 [INFO] No options data returned for td\n",
      "2025-08-27 09:48:28,663 [INFO] No options data returned for td\n",
      "2025-08-27 09:48:30,514 [INFO] No options data returned for crwd\n",
      "2025-08-27 09:48:31,355 [INFO] No options data returned for snow\n",
      "2025-08-27 09:48:32,277 [INFO] No options data returned for five\n",
      "2025-08-27 09:48:34,100 [INFO] No options data returned for dg\n",
      "2025-08-27 09:48:35,024 [INFO] No options data returned for dks\n",
      "2025-08-27 09:48:35,876 [INFO] No options data returned for dell\n",
      "2025-08-27 09:48:36,853 [INFO] No options data returned for afrm\n",
      "2025-08-27 09:48:38,757 [INFO] No options data returned for ulta\n",
      "2025-08-27 09:48:39,653 [INFO] No options data returned for adsk\n",
      "2025-08-27 09:48:42,304 [INFO] No options data returned for td\n",
      "2025-08-27 09:48:56,551 [INFO] No options data returned for td\n",
      "2025-08-27 09:49:06,120 [INFO] No options data returned for mrvl\n",
      "2025-08-27 09:49:10,607 [INFO] No options data returned for td\n",
      "2025-08-27 09:49:24,024 [INFO] No options data returned for td\n",
      "2025-08-27 09:49:36,939 [INFO] No options data returned for td\n",
      "2025-08-27 09:49:38,666 [INFO] No options data returned for crwd\n",
      "2025-08-27 09:49:39,550 [INFO] No options data returned for snow\n",
      "2025-08-27 09:49:40,407 [INFO] No options data returned for five\n",
      "2025-08-27 09:49:42,098 [INFO] No options data returned for dg\n",
      "2025-08-27 09:49:42,994 [INFO] No options data returned for dks\n",
      "2025-08-27 09:49:43,826 [INFO] No options data returned for dell\n",
      "2025-08-27 09:49:44,674 [INFO] No options data returned for afrm\n",
      "2025-08-27 09:49:46,361 [INFO] No options data returned for ulta\n",
      "2025-08-27 09:49:47,228 [INFO] No options data returned for adsk\n",
      "2025-08-27 09:49:49,786 [INFO] No options data returned for td\n",
      "2025-08-27 09:50:05,628 [INFO] No options data returned for td\n",
      "2025-08-27 09:50:15,165 [INFO] No options data returned for mrvl\n",
      "2025-08-27 09:50:20,186 [INFO] No options data returned for td\n",
      "2025-08-27 09:50:35,017 [INFO] No options data returned for td\n",
      "2025-08-27 09:50:48,216 [INFO] No options data returned for td\n",
      "2025-08-27 09:50:49,907 [INFO] No options data returned for crwd\n",
      "2025-08-27 09:50:50,727 [INFO] No options data returned for snow\n",
      "2025-08-27 09:50:51,559 [INFO] No options data returned for five\n",
      "2025-08-27 09:50:53,316 [INFO] No options data returned for dg\n",
      "2025-08-27 09:50:54,261 [INFO] No options data returned for dks\n",
      "2025-08-27 09:50:55,199 [INFO] No options data returned for dell\n",
      "2025-08-27 09:50:56,084 [INFO] No options data returned for afrm\n",
      "2025-08-27 09:50:57,886 [INFO] No options data returned for ulta\n",
      "2025-08-27 09:50:58,703 [INFO] No options data returned for adsk\n",
      "2025-08-27 09:51:01,433 [INFO] No options data returned for td\n",
      "2025-08-27 09:51:16,958 [INFO] No options data returned for td\n",
      "2025-08-27 09:51:25,838 [INFO] No options data returned for mrvl\n",
      "2025-08-27 09:51:30,040 [INFO] No options data returned for td\n",
      "2025-08-27 09:51:43,876 [INFO] No options data returned for td\n",
      "2025-08-27 09:51:57,406 [INFO] No options data returned for td\n",
      "2025-08-27 09:51:59,153 [INFO] No options data returned for crwd\n",
      "2025-08-27 09:52:00,024 [INFO] No options data returned for snow\n",
      "2025-08-27 09:52:01,096 [INFO] No options data returned for five\n",
      "2025-08-27 09:52:03,062 [INFO] No options data returned for dg\n",
      "2025-08-27 09:52:04,103 [INFO] No options data returned for dks\n",
      "2025-08-27 09:52:05,228 [INFO] No options data returned for dell\n",
      "2025-08-27 09:52:06,070 [INFO] No options data returned for afrm\n",
      "2025-08-27 09:52:07,810 [INFO] No options data returned for ulta\n",
      "2025-08-27 09:52:08,640 [INFO] No options data returned for adsk\n",
      "2025-08-27 09:52:11,233 [INFO] No options data returned for td\n",
      "2025-08-27 09:52:26,467 [INFO] No options data returned for td\n",
      "2025-08-27 09:52:35,457 [INFO] No options data returned for mrvl\n",
      "2025-08-27 09:52:40,034 [INFO] No options data returned for td\n",
      "2025-08-27 09:52:53,586 [INFO] No options data returned for td\n",
      "2025-08-27 09:53:08,646 [INFO] No options data returned for td\n",
      "2025-08-27 09:53:10,440 [INFO] No options data returned for crwd\n",
      "2025-08-27 09:53:11,279 [INFO] No options data returned for snow\n",
      "2025-08-27 09:53:12,123 [INFO] No options data returned for five\n",
      "2025-08-27 09:53:13,822 [INFO] No options data returned for dg\n",
      "2025-08-27 09:53:14,665 [INFO] No options data returned for dks\n",
      "2025-08-27 09:53:15,517 [INFO] No options data returned for dell\n",
      "2025-08-27 09:53:16,327 [INFO] No options data returned for afrm\n",
      "2025-08-27 09:53:18,082 [INFO] No options data returned for ulta\n",
      "2025-08-27 09:53:18,892 [INFO] No options data returned for adsk\n",
      "2025-08-27 09:53:21,508 [INFO] No options data returned for td\n",
      "2025-08-27 09:53:35,809 [INFO] No options data returned for td\n",
      "2025-08-27 09:53:44,685 [INFO] No options data returned for mrvl\n",
      "2025-08-27 09:53:49,196 [INFO] No options data returned for td\n",
      "2025-08-27 09:54:03,134 [INFO] No options data returned for td\n",
      "2025-08-27 09:54:16,724 [INFO] No options data returned for td\n",
      "2025-08-27 09:54:18,477 [INFO] No options data returned for crwd\n",
      "2025-08-27 09:54:19,352 [INFO] No options data returned for snow\n",
      "2025-08-27 09:54:20,288 [INFO] No options data returned for five\n",
      "2025-08-27 09:54:21,995 [INFO] No options data returned for dg\n",
      "2025-08-27 09:54:22,916 [INFO] No options data returned for dks\n",
      "2025-08-27 09:54:23,732 [INFO] No options data returned for dell\n",
      "2025-08-27 09:54:24,623 [INFO] No options data returned for afrm\n",
      "2025-08-27 09:54:26,434 [INFO] No options data returned for ulta\n",
      "2025-08-27 09:54:27,371 [INFO] No options data returned for adsk\n",
      "2025-08-27 09:54:30,587 [INFO] No options data returned for td\n",
      "2025-08-27 09:54:44,509 [INFO] No options data returned for td\n",
      "2025-08-27 09:54:53,153 [INFO] No options data returned for mrvl\n",
      "2025-08-27 09:54:57,411 [INFO] No options data returned for td\n",
      "2025-08-27 09:55:11,638 [INFO] No options data returned for td\n",
      "2025-08-27 09:55:25,118 [INFO] No options data returned for td\n",
      "2025-08-27 09:55:26,985 [INFO] No options data returned for crwd\n",
      "2025-08-27 09:55:27,907 [INFO] No options data returned for snow\n",
      "2025-08-27 09:55:28,742 [INFO] No options data returned for five\n",
      "2025-08-27 09:55:30,437 [INFO] No options data returned for dg\n",
      "2025-08-27 09:55:31,260 [INFO] No options data returned for dks\n",
      "2025-08-27 09:55:32,100 [INFO] No options data returned for dell\n",
      "2025-08-27 09:55:32,929 [INFO] No options data returned for afrm\n",
      "2025-08-27 09:55:34,829 [INFO] No options data returned for ulta\n",
      "2025-08-27 09:55:35,855 [INFO] No options data returned for adsk\n",
      "2025-08-27 09:55:39,098 [INFO] No options data returned for td\n",
      "2025-08-27 09:55:53,164 [INFO] No options data returned for td\n",
      "2025-08-27 09:56:02,198 [INFO] No options data returned for mrvl\n",
      "2025-08-27 09:56:06,540 [INFO] No options data returned for td\n",
      "2025-08-27 09:56:20,055 [INFO] No options data returned for td\n",
      "2025-08-27 09:56:33,331 [INFO] No options data returned for td\n",
      "2025-08-27 09:56:35,025 [INFO] No options data returned for crwd\n",
      "2025-08-27 09:56:35,935 [INFO] No options data returned for snow\n",
      "2025-08-27 09:56:36,809 [INFO] No options data returned for five\n",
      "2025-08-27 09:56:38,633 [INFO] No options data returned for dg\n",
      "2025-08-27 09:56:39,522 [INFO] No options data returned for dks\n",
      "2025-08-27 09:56:40,426 [INFO] No options data returned for dell\n",
      "2025-08-27 09:56:41,596 [INFO] No options data returned for afrm\n",
      "2025-08-27 09:56:43,971 [INFO] No options data returned for ulta\n",
      "2025-08-27 09:56:44,855 [INFO] No options data returned for adsk\n",
      "2025-08-27 09:56:47,478 [INFO] No options data returned for td\n",
      "2025-08-27 09:57:01,358 [INFO] No options data returned for td\n",
      "2025-08-27 09:57:10,696 [INFO] No options data returned for mrvl\n",
      "2025-08-27 09:57:15,231 [INFO] No options data returned for td\n",
      "2025-08-27 09:57:29,338 [INFO] No options data returned for td\n",
      "2025-08-27 09:57:42,939 [INFO] No options data returned for td\n",
      "2025-08-27 09:57:44,620 [INFO] No options data returned for crwd\n",
      "2025-08-27 09:57:45,449 [INFO] No options data returned for snow\n",
      "2025-08-27 09:57:46,481 [INFO] No options data returned for five\n",
      "2025-08-27 09:57:48,793 [INFO] No options data returned for dg\n",
      "2025-08-27 09:57:49,842 [INFO] No options data returned for dks\n",
      "2025-08-27 09:57:50,678 [INFO] No options data returned for dell\n",
      "2025-08-27 09:57:51,481 [INFO] No options data returned for afrm\n",
      "2025-08-27 09:57:53,140 [INFO] No options data returned for ulta\n",
      "2025-08-27 09:57:53,935 [INFO] No options data returned for adsk\n",
      "2025-08-27 09:57:56,523 [INFO] No options data returned for td\n",
      "2025-08-27 09:58:10,882 [INFO] No options data returned for td\n",
      "2025-08-27 10:12:18,162 [INFO] No options data returned for td\n",
      "2025-08-27 10:12:32,605 [INFO] No options data returned for td\n",
      "2025-08-27 10:12:46,254 [INFO] No options data returned for td\n",
      "2025-08-27 10:12:48,103 [INFO] No options data returned for crwd\n",
      "2025-08-27 10:12:48,977 [INFO] No options data returned for snow\n",
      "2025-08-27 10:12:49,930 [INFO] No options data returned for five\n",
      "2025-08-27 10:12:50,709 [INFO] No options data returned for bby\n",
      "2025-08-27 10:12:51,585 [INFO] No options data returned for dg\n",
      "2025-08-27 10:12:52,445 [INFO] No options data returned for dks\n",
      "2025-08-27 10:12:53,318 [INFO] No options data returned for dell\n",
      "2025-08-27 10:12:54,200 [INFO] No options data returned for afrm\n",
      "2025-08-27 10:12:55,984 [INFO] No options data returned for ulta\n",
      "2025-08-27 10:12:56,796 [INFO] No options data returned for adsk\n",
      "2025-08-27 10:12:59,241 [INFO] No options data returned for td\n",
      "2025-08-27 10:13:03,247 [INFO] No options data returned for five\n",
      "2025-08-27 10:13:14,996 [INFO] No options data returned for td\n",
      "2025-08-27 10:13:19,257 [INFO] No options data returned for five\n",
      "2025-08-27 10:13:27,657 [INFO] No options data returned for gap\n",
      "2025-08-27 10:13:29,360 [INFO] No options data returned for td\n",
      "2025-08-27 10:13:33,051 [INFO] No options data returned for five\n",
      "2025-08-27 10:13:43,088 [INFO] No options data returned for td\n",
      "2025-08-27 10:13:46,659 [INFO] No options data returned for five\n",
      "2025-08-27 10:13:56,781 [INFO] No options data returned for td\n",
      "2025-08-27 10:13:58,532 [INFO] No options data returned for crwd\n",
      "2025-08-27 10:13:59,324 [INFO] No options data returned for snow\n",
      "2025-08-27 10:14:00,166 [INFO] No options data returned for five\n",
      "2025-08-27 10:14:02,068 [INFO] No options data returned for dg\n",
      "2025-08-27 10:14:03,678 [INFO] No options data returned for dks\n",
      "2025-08-27 10:14:04,968 [INFO] No options data returned for dell\n",
      "2025-08-27 10:14:05,943 [INFO] No options data returned for afrm\n",
      "2025-08-27 10:14:07,837 [INFO] No options data returned for ulta\n",
      "2025-08-27 10:14:08,868 [INFO] No options data returned for adsk\n",
      "2025-08-27 10:14:11,750 [INFO] No options data returned for td\n",
      "2025-08-27 10:14:15,425 [INFO] No options data returned for five\n",
      "2025-08-27 10:14:27,227 [INFO] No options data returned for td\n",
      "2025-08-27 10:14:30,849 [INFO] No options data returned for five\n",
      "2025-08-27 10:14:38,573 [INFO] No options data returned for gap\n",
      "2025-08-27 10:14:40,357 [INFO] No options data returned for td\n",
      "2025-08-27 10:14:44,131 [INFO] No options data returned for five\n",
      "2025-08-27 10:14:54,088 [INFO] No options data returned for td\n",
      "2025-08-27 10:14:57,806 [INFO] No options data returned for five\n",
      "2025-08-27 10:15:08,941 [INFO] No options data returned for td\n",
      "2025-08-27 10:15:10,886 [INFO] No options data returned for crwd\n",
      "2025-08-27 10:15:11,798 [INFO] No options data returned for snow\n",
      "2025-08-27 10:15:12,681 [INFO] No options data returned for five\n",
      "2025-08-27 10:15:14,563 [INFO] No options data returned for dg\n",
      "2025-08-27 10:15:15,444 [INFO] No options data returned for dks\n",
      "2025-08-27 10:15:16,459 [INFO] No options data returned for dell\n",
      "2025-08-27 10:15:17,447 [INFO] No options data returned for afrm\n",
      "2025-08-27 10:15:19,693 [INFO] No options data returned for ulta\n",
      "2025-08-27 10:15:20,546 [INFO] No options data returned for adsk\n",
      "2025-08-27 10:15:23,771 [INFO] No options data returned for td\n",
      "2025-08-27 10:15:27,985 [INFO] No options data returned for five\n",
      "2025-08-27 10:15:39,427 [INFO] No options data returned for td\n",
      "2025-08-27 10:15:43,550 [INFO] No options data returned for five\n",
      "2025-08-27 10:15:51,834 [INFO] No options data returned for gap\n",
      "2025-08-27 10:15:53,792 [INFO] No options data returned for td\n",
      "2025-08-27 10:15:57,574 [INFO] No options data returned for five\n",
      "2025-08-27 10:16:09,194 [INFO] No options data returned for td\n",
      "2025-08-27 10:16:12,741 [INFO] No options data returned for five\n",
      "2025-08-27 10:16:23,625 [INFO] No options data returned for td\n",
      "2025-08-27 10:16:25,454 [INFO] No options data returned for crwd\n",
      "2025-08-27 10:16:26,363 [INFO] No options data returned for snow\n",
      "2025-08-27 10:16:27,225 [INFO] No options data returned for five\n",
      "2025-08-27 10:16:28,966 [INFO] No options data returned for dg\n",
      "2025-08-27 10:16:29,839 [INFO] No options data returned for dks\n",
      "2025-08-27 10:16:30,639 [INFO] No options data returned for dell\n",
      "2025-08-27 10:16:31,480 [INFO] No options data returned for afrm\n",
      "2025-08-27 10:16:33,238 [INFO] No options data returned for ulta\n",
      "2025-08-27 10:16:34,035 [INFO] No options data returned for adsk\n",
      "2025-08-27 10:16:36,646 [INFO] No options data returned for td\n",
      "2025-08-27 10:16:41,337 [INFO] No options data returned for five\n",
      "2025-08-27 10:16:51,757 [INFO] No options data returned for td\n",
      "2025-08-27 10:16:55,142 [INFO] No options data returned for five\n",
      "2025-08-27 10:17:03,529 [INFO] No options data returned for gap\n",
      "2025-08-27 10:17:05,358 [INFO] No options data returned for td\n",
      "2025-08-27 10:17:09,135 [INFO] No options data returned for five\n",
      "2025-08-27 10:17:19,245 [INFO] No options data returned for td\n",
      "2025-08-27 10:17:22,677 [INFO] No options data returned for five\n",
      "2025-08-27 10:17:32,901 [INFO] No options data returned for td\n",
      "2025-08-27 10:17:34,776 [INFO] No options data returned for crwd\n",
      "2025-08-27 10:17:35,621 [INFO] No options data returned for snow\n",
      "2025-08-27 10:17:36,515 [INFO] No options data returned for five\n",
      "2025-08-27 10:17:38,281 [INFO] No options data returned for dg\n",
      "2025-08-27 10:17:39,168 [INFO] No options data returned for dks\n",
      "2025-08-27 10:17:40,105 [INFO] No options data returned for dell\n",
      "2025-08-27 10:17:40,993 [INFO] No options data returned for afrm\n",
      "2025-08-27 10:17:42,712 [INFO] No options data returned for ulta\n",
      "2025-08-27 10:17:43,846 [INFO] No options data returned for adsk\n",
      "2025-08-27 10:17:47,361 [INFO] No options data returned for td\n",
      "2025-08-27 10:17:51,577 [INFO] No options data returned for five\n",
      "2025-08-27 10:18:02,038 [INFO] No options data returned for td\n",
      "2025-08-27 10:18:05,888 [INFO] No options data returned for five\n",
      "2025-08-27 10:18:13,751 [INFO] No options data returned for gap\n",
      "2025-08-27 10:18:15,479 [INFO] No options data returned for td\n",
      "2025-08-27 10:18:19,165 [INFO] No options data returned for five\n",
      "2025-08-27 10:18:28,694 [INFO] No options data returned for td\n",
      "2025-08-27 10:18:32,089 [INFO] No options data returned for five\n",
      "2025-08-27 10:18:41,511 [INFO] No options data returned for td\n",
      "2025-08-27 10:18:43,265 [INFO] No options data returned for crwd\n",
      "2025-08-27 10:18:44,071 [INFO] No options data returned for snow\n",
      "2025-08-27 10:18:44,952 [INFO] No options data returned for five\n",
      "2025-08-27 10:18:46,807 [INFO] No options data returned for dg\n",
      "2025-08-27 10:18:47,664 [INFO] No options data returned for dks\n",
      "2025-08-27 10:18:48,525 [INFO] No options data returned for dell\n",
      "2025-08-27 10:18:50,034 [INFO] No options data returned for afrm\n",
      "2025-08-27 10:18:52,055 [INFO] No options data returned for ulta\n",
      "2025-08-27 10:18:52,955 [INFO] No options data returned for adsk\n",
      "2025-08-27 10:18:55,753 [INFO] No options data returned for td\n",
      "2025-08-27 10:18:59,541 [INFO] No options data returned for five\n",
      "2025-08-27 10:19:10,806 [INFO] No options data returned for td\n",
      "2025-08-27 10:19:14,527 [INFO] No options data returned for five\n",
      "2025-08-27 10:19:22,400 [INFO] No options data returned for gap\n",
      "2025-08-27 10:19:24,051 [INFO] No options data returned for td\n",
      "2025-08-27 10:19:27,795 [INFO] No options data returned for five\n",
      "2025-08-27 10:19:37,663 [INFO] No options data returned for td\n",
      "2025-08-27 10:19:41,150 [INFO] No options data returned for five\n",
      "2025-08-27 10:19:50,409 [INFO] No options data returned for td\n",
      "2025-08-27 10:19:52,112 [INFO] No options data returned for crwd\n",
      "2025-08-27 10:19:52,928 [INFO] No options data returned for snow\n",
      "2025-08-27 10:19:54,147 [INFO] No options data returned for five\n",
      "2025-08-27 10:19:56,532 [INFO] No options data returned for dg\n",
      "2025-08-27 10:19:57,422 [INFO] No options data returned for dks\n",
      "2025-08-27 10:19:58,257 [INFO] No options data returned for dell\n",
      "2025-08-27 10:19:59,133 [INFO] No options data returned for afrm\n",
      "2025-08-27 10:20:00,868 [INFO] No options data returned for ulta\n",
      "2025-08-27 10:20:02,519 [INFO] No options data returned for adsk\n",
      "2025-08-27 10:20:06,201 [INFO] No options data returned for td\n",
      "2025-08-27 10:20:11,327 [INFO] No options data returned for five\n",
      "2025-08-27 10:20:22,986 [INFO] No options data returned for td\n",
      "2025-08-27 10:20:27,194 [INFO] No options data returned for five\n",
      "2025-08-27 10:20:35,592 [INFO] No options data returned for gap\n",
      "2025-08-27 10:20:37,242 [INFO] No options data returned for td\n",
      "2025-08-27 10:20:41,134 [INFO] No options data returned for five\n",
      "2025-08-27 10:20:51,161 [INFO] No options data returned for td\n",
      "2025-08-27 10:20:55,073 [INFO] No options data returned for five\n",
      "2025-08-27 10:21:07,029 [INFO] No options data returned for td\n",
      "2025-08-27 10:21:08,807 [INFO] No options data returned for crwd\n",
      "2025-08-27 10:21:09,638 [INFO] No options data returned for snow\n",
      "2025-08-27 10:21:10,580 [INFO] No options data returned for five\n",
      "2025-08-27 10:21:12,411 [INFO] No options data returned for dg\n",
      "2025-08-27 10:21:13,253 [INFO] No options data returned for dks\n",
      "2025-08-27 10:21:14,066 [INFO] No options data returned for dell\n",
      "2025-08-27 10:21:14,909 [INFO] No options data returned for afrm\n",
      "2025-08-27 10:21:16,638 [INFO] No options data returned for ulta\n",
      "2025-08-27 10:21:17,460 [INFO] No options data returned for adsk\n",
      "2025-08-27 10:21:20,216 [INFO] No options data returned for td\n",
      "2025-08-27 10:21:23,989 [INFO] No options data returned for five\n",
      "2025-08-27 10:21:34,391 [INFO] No options data returned for td\n",
      "2025-08-27 10:21:38,005 [INFO] No options data returned for five\n",
      "2025-08-27 10:21:46,424 [INFO] No options data returned for gap\n",
      "2025-08-27 10:21:48,195 [INFO] No options data returned for td\n",
      "2025-08-27 10:21:51,859 [INFO] No options data returned for five\n",
      "2025-08-27 10:22:02,039 [INFO] No options data returned for td\n",
      "2025-08-27 10:22:06,772 [INFO] No options data returned for five\n",
      "2025-08-27 10:22:16,568 [INFO] No options data returned for td\n",
      "2025-08-27 10:22:18,610 [INFO] No options data returned for crwd\n",
      "2025-08-27 10:22:19,471 [INFO] No options data returned for snow\n",
      "2025-08-27 10:22:20,263 [INFO] No options data returned for five\n",
      "2025-08-27 10:22:21,993 [INFO] No options data returned for dg\n",
      "2025-08-27 10:22:22,823 [INFO] No options data returned for dks\n",
      "2025-08-27 10:22:23,668 [INFO] No options data returned for dell\n",
      "2025-08-27 10:22:24,512 [INFO] No options data returned for afrm\n",
      "2025-08-27 10:22:26,207 [INFO] No options data returned for ulta\n",
      "2025-08-27 10:22:27,037 [INFO] No options data returned for adsk\n",
      "2025-08-27 10:22:29,582 [INFO] No options data returned for td\n",
      "2025-08-27 10:22:33,147 [INFO] No options data returned for five\n",
      "2025-08-27 10:22:43,431 [INFO] No options data returned for td\n",
      "2025-08-27 10:22:47,053 [INFO] No options data returned for five\n",
      "2025-08-27 10:22:55,646 [INFO] No options data returned for gap\n",
      "2025-08-27 10:22:57,384 [INFO] No options data returned for td\n",
      "2025-08-27 10:23:01,204 [INFO] No options data returned for five\n",
      "2025-08-27 10:23:13,624 [INFO] No options data returned for td\n",
      "2025-08-27 10:23:17,256 [INFO] No options data returned for five\n",
      "2025-08-27 10:23:26,573 [INFO] No options data returned for td\n",
      "2025-08-27 10:23:28,213 [INFO] No options data returned for crwd\n",
      "2025-08-27 10:23:29,052 [INFO] No options data returned for snow\n",
      "2025-08-27 10:23:29,920 [INFO] No options data returned for five\n",
      "2025-08-27 10:23:31,726 [INFO] No options data returned for dg\n",
      "2025-08-27 10:23:32,555 [INFO] No options data returned for dks\n",
      "2025-08-27 10:23:33,398 [INFO] No options data returned for dell\n",
      "2025-08-27 10:23:34,236 [INFO] No options data returned for afrm\n",
      "2025-08-27 10:23:35,876 [INFO] No options data returned for ulta\n",
      "2025-08-27 10:23:36,704 [INFO] No options data returned for adsk\n",
      "2025-08-27 10:23:39,357 [INFO] No options data returned for td\n",
      "2025-08-27 10:23:43,090 [INFO] No options data returned for five\n",
      "2025-08-27 10:23:53,001 [INFO] No options data returned for td\n",
      "2025-08-27 10:23:56,592 [INFO] No options data returned for five\n",
      "2025-08-27 10:24:04,925 [INFO] No options data returned for gap\n",
      "2025-08-27 10:24:06,841 [INFO] No options data returned for td\n",
      "2025-08-27 10:24:10,723 [INFO] No options data returned for five\n",
      "2025-08-27 10:24:22,180 [INFO] No options data returned for td\n",
      "2025-08-27 10:24:25,962 [INFO] No options data returned for five\n",
      "2025-08-27 10:24:35,986 [INFO] No options data returned for td\n",
      "2025-08-27 10:24:37,800 [INFO] No options data returned for crwd\n",
      "2025-08-27 10:24:38,678 [INFO] No options data returned for snow\n",
      "2025-08-27 10:24:39,519 [INFO] No options data returned for five\n",
      "2025-08-27 10:24:41,224 [INFO] No options data returned for dg\n",
      "2025-08-27 10:24:42,091 [INFO] No options data returned for dks\n",
      "2025-08-27 10:24:42,968 [INFO] No options data returned for dell\n",
      "2025-08-27 10:24:43,802 [INFO] No options data returned for afrm\n",
      "2025-08-27 10:24:45,548 [INFO] No options data returned for ulta\n",
      "2025-08-27 10:24:46,394 [INFO] No options data returned for adsk\n",
      "2025-08-27 10:24:48,927 [INFO] No options data returned for td\n",
      "2025-08-27 10:24:52,508 [INFO] No options data returned for five\n",
      "2025-08-27 10:25:04,117 [INFO] No options data returned for td\n",
      "2025-08-27 10:25:07,861 [INFO] No options data returned for five\n",
      "2025-08-27 10:25:16,132 [INFO] No options data returned for gap\n",
      "2025-08-27 10:25:17,806 [INFO] No options data returned for td\n",
      "2025-08-27 10:25:22,226 [INFO] No options data returned for five\n",
      "2025-08-27 10:25:32,599 [INFO] No options data returned for td\n",
      "2025-08-27 10:25:36,106 [INFO] No options data returned for five\n",
      "2025-08-27 10:25:45,743 [INFO] No options data returned for td\n",
      "2025-08-27 10:25:47,561 [INFO] No options data returned for crwd\n",
      "2025-08-27 10:25:48,451 [INFO] No options data returned for snow\n",
      "2025-08-27 10:25:49,354 [INFO] No options data returned for five\n",
      "2025-08-27 10:25:51,124 [INFO] No options data returned for dg\n",
      "2025-08-27 10:25:52,029 [INFO] No options data returned for dks\n",
      "2025-08-27 10:25:52,808 [INFO] No options data returned for dell\n",
      "2025-08-27 10:25:53,643 [INFO] No options data returned for afrm\n",
      "2025-08-27 10:25:55,368 [INFO] No options data returned for ulta\n",
      "2025-08-27 10:25:56,212 [INFO] No options data returned for adsk\n",
      "2025-08-27 10:25:58,687 [INFO] No options data returned for td\n",
      "2025-08-27 10:26:03,066 [INFO] No options data returned for five\n",
      "2025-08-27 10:26:13,807 [INFO] No options data returned for td\n",
      "2025-08-27 10:26:17,529 [INFO] No options data returned for five\n",
      "2025-08-27 10:26:25,514 [INFO] No options data returned for gap\n",
      "2025-08-27 10:26:27,208 [INFO] No options data returned for td\n",
      "2025-08-27 10:26:31,697 [INFO] No options data returned for five\n",
      "2025-08-27 10:26:41,374 [INFO] No options data returned for td\n",
      "2025-08-27 10:26:44,795 [INFO] No options data returned for five\n",
      "2025-08-27 10:26:54,159 [INFO] No options data returned for td\n",
      "2025-08-27 10:26:55,914 [INFO] No options data returned for crwd\n",
      "2025-08-27 10:26:56,746 [INFO] No options data returned for snow\n",
      "2025-08-27 10:26:57,579 [INFO] No options data returned for five\n",
      "2025-08-27 10:26:59,275 [INFO] No options data returned for dg\n",
      "2025-08-27 10:27:00,099 [INFO] No options data returned for dks\n",
      "2025-08-27 10:27:01,132 [INFO] No options data returned for dell\n",
      "2025-08-27 10:27:02,029 [INFO] No options data returned for afrm\n",
      "2025-08-27 10:27:03,909 [INFO] No options data returned for ulta\n",
      "2025-08-27 10:27:04,957 [INFO] No options data returned for adsk\n",
      "2025-08-27 10:27:07,500 [INFO] No options data returned for td\n",
      "2025-08-27 10:27:11,397 [INFO] No options data returned for five\n",
      "2025-08-27 10:27:22,608 [INFO] No options data returned for td\n",
      "2025-08-27 10:27:26,253 [INFO] No options data returned for five\n",
      "2025-08-27 10:27:35,976 [INFO] No options data returned for gap\n",
      "2025-08-27 10:27:38,226 [INFO] No options data returned for td\n",
      "2025-08-27 10:27:42,300 [INFO] No options data returned for five\n",
      "2025-08-27 10:27:52,061 [INFO] No options data returned for td\n",
      "2025-08-27 10:27:55,398 [INFO] No options data returned for five\n",
      "2025-08-27 10:28:05,496 [INFO] No options data returned for td\n",
      "2025-08-27 10:28:07,315 [INFO] No options data returned for crwd\n",
      "2025-08-27 10:28:08,155 [INFO] No options data returned for snow\n",
      "2025-08-27 10:28:08,997 [INFO] No options data returned for five\n",
      "2025-08-27 10:28:11,184 [INFO] No options data returned for dg\n",
      "2025-08-27 10:28:12,002 [INFO] No options data returned for dks\n",
      "2025-08-27 10:28:12,824 [INFO] No options data returned for dell\n",
      "2025-08-27 10:28:13,654 [INFO] No options data returned for afrm\n",
      "2025-08-27 10:28:15,347 [INFO] No options data returned for ulta\n",
      "2025-08-27 10:28:16,251 [INFO] No options data returned for adsk\n",
      "2025-08-27 10:28:18,755 [INFO] No options data returned for td\n",
      "2025-08-27 10:28:22,276 [INFO] No options data returned for five\n",
      "2025-08-27 10:28:33,108 [INFO] No options data returned for td\n",
      "2025-08-27 10:28:36,672 [INFO] No options data returned for five\n",
      "2025-08-27 10:28:45,738 [INFO] No options data returned for gap\n",
      "2025-08-27 10:28:47,473 [INFO] No options data returned for td\n",
      "2025-08-27 10:28:51,095 [INFO] No options data returned for five\n",
      "2025-08-27 10:29:00,688 [INFO] No options data returned for td\n",
      "2025-08-27 10:29:04,242 [INFO] No options data returned for five\n",
      "2025-08-27 10:29:13,808 [INFO] No options data returned for td\n",
      "2025-08-27 10:29:15,600 [INFO] No options data returned for crwd\n",
      "2025-08-27 10:29:16,426 [INFO] No options data returned for snow\n",
      "2025-08-27 10:29:17,222 [INFO] No options data returned for five\n",
      "2025-08-27 10:29:19,066 [INFO] No options data returned for dg\n",
      "2025-08-27 10:29:20,112 [INFO] No options data returned for dks\n",
      "2025-08-27 10:29:20,972 [INFO] No options data returned for dell\n",
      "2025-08-27 10:29:21,807 [INFO] No options data returned for afrm\n",
      "2025-08-27 10:29:23,528 [INFO] No options data returned for ulta\n",
      "2025-08-27 10:29:24,323 [INFO] No options data returned for adsk\n",
      "2025-08-27 10:29:26,819 [INFO] No options data returned for td\n",
      "2025-08-27 10:29:27,643 [INFO] No options data returned for nvda\n",
      "2025-08-27 10:29:28,451 [INFO] No options data returned for crwd\n",
      "2025-08-27 10:29:29,293 [INFO] No options data returned for snow\n",
      "2025-08-27 10:29:30,168 [INFO] No options data returned for five\n",
      "2025-08-27 10:29:31,000 [INFO] No options data returned for bby\n",
      "2025-08-27 10:29:31,818 [INFO] No options data returned for dg\n",
      "2025-08-27 10:29:32,639 [INFO] No options data returned for dks\n",
      "2025-08-27 10:29:33,465 [INFO] No options data returned for dell\n",
      "2025-08-27 10:29:34,322 [INFO] No options data returned for afrm\n",
      "2025-08-27 10:29:35,175 [INFO] No options data returned for mrvl\n",
      "2025-08-27 10:29:36,096 [INFO] No options data returned for ulta\n",
      "2025-08-27 10:29:37,034 [INFO] No options data returned for adsk\n",
      "2025-08-27 10:29:37,888 [INFO] No options data returned for gap\n",
      "2025-08-27 10:29:38,703 [INFO] No options data returned for baba\n",
      "2025-08-27 10:29:39,643 [INFO] No options data returned for td\n",
      "2025-08-27 10:29:40,707 [INFO] No options data returned for nvda\n",
      "2025-08-27 10:29:41,536 [INFO] No options data returned for crwd\n",
      "2025-08-27 10:29:42,426 [INFO] No options data returned for snow\n",
      "2025-08-27 10:29:43,236 [INFO] No options data returned for five\n",
      "2025-08-27 10:29:44,063 [INFO] No options data returned for bby\n",
      "2025-08-27 10:29:44,974 [INFO] No options data returned for dg\n",
      "2025-08-27 10:29:45,848 [INFO] No options data returned for dks\n",
      "2025-08-27 10:29:46,735 [INFO] No options data returned for dell\n",
      "2025-08-27 10:29:48,059 [INFO] No options data returned for afrm\n",
      "2025-08-27 10:29:49,267 [INFO] No options data returned for mrvl\n",
      "2025-08-27 10:29:50,221 [INFO] No options data returned for ulta\n",
      "2025-08-27 10:29:51,036 [INFO] No options data returned for adsk\n",
      "2025-08-27 10:29:51,842 [INFO] No options data returned for gap\n",
      "2025-08-27 10:29:52,722 [INFO] No options data returned for baba\n",
      "2025-08-27 10:29:53,996 [INFO] No options data returned for td\n",
      "2025-08-27 10:29:54,856 [INFO] No options data returned for nvda\n",
      "2025-08-27 10:29:55,675 [INFO] No options data returned for crwd\n",
      "2025-08-27 10:29:56,532 [INFO] No options data returned for snow\n",
      "2025-08-27 10:29:57,392 [INFO] No options data returned for five\n",
      "2025-08-27 10:29:58,240 [INFO] No options data returned for bby\n",
      "2025-08-27 10:29:59,170 [INFO] No options data returned for dg\n",
      "2025-08-27 10:29:59,999 [INFO] No options data returned for dks\n",
      "2025-08-27 10:30:01,183 [INFO] No options data returned for dell\n",
      "2025-08-27 10:30:03,122 [INFO] No options data returned for afrm\n",
      "2025-08-27 10:30:04,054 [INFO] No options data returned for mrvl\n",
      "2025-08-27 10:30:05,376 [INFO] No options data returned for ulta\n",
      "2025-08-27 10:30:06,711 [INFO] No options data returned for adsk\n",
      "2025-08-27 10:30:07,810 [INFO] No options data returned for gap\n",
      "2025-08-27 10:30:09,235 [INFO] No options data returned for baba\n",
      "2025-08-27 10:30:10,466 [INFO] No options data returned for td\n",
      "2025-08-27 10:30:11,413 [INFO] No options data returned for nvda\n",
      "2025-08-27 10:30:12,595 [INFO] No options data returned for crwd\n",
      "2025-08-27 10:30:13,614 [INFO] No options data returned for snow\n",
      "2025-08-27 10:30:14,532 [INFO] No options data returned for five\n",
      "2025-08-27 10:30:15,637 [INFO] No options data returned for bby\n",
      "2025-08-27 10:30:16,689 [INFO] No options data returned for dg\n",
      "2025-08-27 10:30:17,631 [INFO] No options data returned for dks\n",
      "2025-08-27 10:30:18,967 [INFO] No options data returned for dell\n",
      "2025-08-27 10:30:19,942 [INFO] No options data returned for afrm\n",
      "2025-08-27 10:30:21,119 [INFO] No options data returned for mrvl\n",
      "2025-08-27 10:30:22,247 [INFO] No options data returned for ulta\n",
      "2025-08-27 10:30:23,380 [INFO] No options data returned for adsk\n",
      "2025-08-27 10:30:24,400 [INFO] No options data returned for gap\n",
      "2025-08-27 10:30:25,247 [INFO] No options data returned for baba\n",
      "2025-08-27 10:30:26,219 [INFO] No options data returned for td\n",
      "2025-08-27 10:30:27,261 [INFO] No options data returned for nvda\n",
      "2025-08-27 10:30:28,282 [INFO] No options data returned for crwd\n",
      "2025-08-27 10:30:29,488 [INFO] No options data returned for snow\n",
      "2025-08-27 10:30:30,625 [INFO] No options data returned for five\n",
      "2025-08-27 10:30:31,581 [INFO] No options data returned for bby\n",
      "2025-08-27 10:30:32,584 [INFO] No options data returned for dg\n",
      "2025-08-27 10:30:33,814 [INFO] No options data returned for dks\n",
      "2025-08-27 10:30:34,943 [INFO] No options data returned for dell\n",
      "2025-08-27 10:30:35,822 [INFO] No options data returned for afrm\n",
      "2025-08-27 10:30:36,807 [INFO] No options data returned for mrvl\n",
      "2025-08-27 10:30:37,776 [INFO] No options data returned for ulta\n",
      "2025-08-27 10:30:38,851 [INFO] No options data returned for adsk\n",
      "2025-08-27 10:30:40,166 [INFO] No options data returned for gap\n",
      "2025-08-27 10:30:41,222 [INFO] No options data returned for baba\n",
      "2025-08-27 10:30:42,316 [INFO] No options data returned for td\n",
      "2025-08-27 10:30:43,195 [INFO] No options data returned for nvda\n",
      "2025-08-27 10:30:44,253 [INFO] No options data returned for crwd\n",
      "2025-08-27 10:30:45,140 [INFO] No options data returned for snow\n",
      "2025-08-27 10:30:46,341 [INFO] No options data returned for five\n",
      "2025-08-27 10:30:47,441 [INFO] No options data returned for bby\n",
      "2025-08-27 10:30:48,351 [INFO] No options data returned for dg\n",
      "2025-08-27 10:30:49,495 [INFO] No options data returned for dks\n",
      "2025-08-27 10:30:50,423 [INFO] No options data returned for dell\n",
      "2025-08-27 10:30:51,225 [INFO] No options data returned for afrm\n",
      "2025-08-27 10:30:52,230 [INFO] No options data returned for mrvl\n",
      "2025-08-27 10:30:53,127 [INFO] No options data returned for ulta\n",
      "2025-08-27 10:30:54,207 [INFO] No options data returned for adsk\n",
      "2025-08-27 10:30:55,503 [INFO] No options data returned for gap\n",
      "2025-08-27 10:30:56,662 [INFO] No options data returned for baba\n",
      "2025-08-27 10:30:57,741 [INFO] No options data returned for td\n",
      "2025-08-27 10:30:58,728 [INFO] No options data returned for nvda\n",
      "2025-08-27 10:30:59,701 [INFO] No options data returned for crwd\n",
      "2025-08-27 10:31:00,757 [INFO] No options data returned for snow\n",
      "2025-08-27 10:31:01,773 [INFO] No options data returned for five\n",
      "2025-08-27 10:31:02,828 [INFO] No options data returned for bby\n",
      "2025-08-27 10:31:03,753 [INFO] No options data returned for dg\n",
      "2025-08-27 10:31:04,646 [INFO] No options data returned for dks\n",
      "2025-08-27 10:31:05,969 [INFO] No options data returned for dell\n",
      "2025-08-27 10:31:06,977 [INFO] No options data returned for afrm\n",
      "2025-08-27 10:31:08,122 [INFO] No options data returned for mrvl\n",
      "2025-08-27 10:31:09,137 [INFO] No options data returned for ulta\n",
      "2025-08-27 10:31:10,142 [INFO] No options data returned for adsk\n",
      "2025-08-27 10:31:11,089 [INFO] No options data returned for gap\n",
      "2025-08-27 10:31:11,971 [INFO] No options data returned for baba\n",
      "2025-08-27 10:31:12,976 [INFO] No options data returned for td\n",
      "2025-08-27 10:31:13,951 [INFO] No options data returned for nvda\n",
      "2025-08-27 10:31:14,941 [INFO] No options data returned for crwd\n",
      "2025-08-27 10:31:15,901 [INFO] No options data returned for snow\n",
      "2025-08-27 10:31:16,778 [INFO] No options data returned for five\n",
      "2025-08-27 10:31:17,753 [INFO] No options data returned for bby\n",
      "2025-08-27 10:31:18,665 [INFO] No options data returned for dg\n",
      "2025-08-27 10:31:19,560 [INFO] No options data returned for dks\n",
      "2025-08-27 10:31:20,527 [INFO] No options data returned for dell\n",
      "2025-08-27 10:31:21,432 [INFO] No options data returned for afrm\n",
      "2025-08-27 10:31:22,684 [INFO] No options data returned for mrvl\n",
      "2025-08-27 10:31:23,662 [INFO] No options data returned for ulta\n",
      "2025-08-27 10:31:24,602 [INFO] No options data returned for adsk\n",
      "2025-08-27 10:31:25,435 [INFO] No options data returned for gap\n",
      "2025-08-27 10:31:26,364 [INFO] No options data returned for baba\n",
      "2025-08-27 10:31:27,241 [INFO] No options data returned for td\n",
      "2025-08-27 10:31:28,290 [INFO] No options data returned for nvda\n",
      "2025-08-27 10:31:29,332 [INFO] No options data returned for crwd\n",
      "2025-08-27 10:31:30,256 [INFO] No options data returned for snow\n",
      "2025-08-27 10:31:31,283 [INFO] No options data returned for five\n",
      "2025-08-27 10:31:32,292 [INFO] No options data returned for bby\n",
      "2025-08-27 10:31:33,262 [INFO] No options data returned for dg\n",
      "2025-08-27 10:31:34,294 [INFO] No options data returned for dks\n",
      "2025-08-27 10:31:35,233 [INFO] No options data returned for dell\n",
      "2025-08-27 10:31:36,255 [INFO] No options data returned for afrm\n",
      "2025-08-27 10:31:37,108 [INFO] No options data returned for mrvl\n",
      "2025-08-27 10:31:38,050 [INFO] No options data returned for ulta\n",
      "2025-08-27 10:31:39,026 [INFO] No options data returned for adsk\n",
      "2025-08-27 10:31:39,918 [INFO] No options data returned for gap\n",
      "2025-08-27 10:31:40,888 [INFO] No options data returned for baba\n",
      "2025-08-27 10:31:41,812 [INFO] No options data returned for td\n",
      "2025-08-27 10:31:42,684 [INFO] No options data returned for nvda\n",
      "2025-08-27 10:31:43,531 [INFO] No options data returned for crwd\n",
      "2025-08-27 10:31:44,337 [INFO] No options data returned for snow\n",
      "2025-08-27 10:31:45,255 [INFO] No options data returned for five\n",
      "2025-08-27 10:31:46,099 [INFO] No options data returned for bby\n",
      "2025-08-27 10:31:46,914 [INFO] No options data returned for dg\n",
      "2025-08-27 10:31:47,733 [INFO] No options data returned for dks\n",
      "2025-08-27 10:31:48,598 [INFO] No options data returned for dell\n",
      "2025-08-27 10:31:49,463 [INFO] No options data returned for afrm\n",
      "2025-08-27 10:31:50,357 [INFO] No options data returned for mrvl\n",
      "2025-08-27 10:31:51,178 [INFO] No options data returned for ulta\n",
      "2025-08-27 10:31:51,968 [INFO] No options data returned for adsk\n",
      "2025-08-27 10:31:52,808 [INFO] No options data returned for gap\n",
      "2025-08-27 10:31:53,667 [INFO] No options data returned for baba\n",
      "2025-08-27 10:31:54,501 [INFO] No options data returned for td\n",
      "2025-08-27 10:31:55,337 [INFO] No options data returned for nvda\n",
      "2025-08-27 10:31:56,129 [INFO] No options data returned for crwd\n",
      "2025-08-27 10:31:56,936 [INFO] No options data returned for snow\n",
      "2025-08-27 10:31:57,761 [INFO] No options data returned for five\n",
      "2025-08-27 10:31:58,603 [INFO] No options data returned for bby\n",
      "2025-08-27 10:31:59,557 [INFO] No options data returned for dg\n",
      "2025-08-27 10:32:00,447 [INFO] No options data returned for dks\n",
      "2025-08-27 10:32:01,446 [INFO] No options data returned for dell\n",
      "2025-08-27 10:32:03,021 [INFO] No options data returned for afrm\n",
      "2025-08-27 10:32:04,455 [INFO] No options data returned for mrvl\n",
      "2025-08-27 10:32:05,488 [INFO] No options data returned for ulta\n",
      "2025-08-27 10:32:06,497 [INFO] No options data returned for adsk\n",
      "2025-08-27 10:32:07,438 [INFO] No options data returned for gap\n",
      "2025-08-27 10:32:08,314 [INFO] No options data returned for baba\n",
      "2025-08-27 10:32:09,354 [INFO] No options data returned for td\n",
      "2025-08-27 10:32:10,200 [INFO] No options data returned for nvda\n",
      "2025-08-27 10:32:11,031 [INFO] No options data returned for crwd\n",
      "2025-08-27 10:32:11,915 [INFO] No options data returned for snow\n",
      "2025-08-27 10:32:12,728 [INFO] No options data returned for five\n",
      "2025-08-27 10:32:13,570 [INFO] No options data returned for bby\n",
      "2025-08-27 10:32:14,457 [INFO] No options data returned for dg\n",
      "2025-08-27 10:32:15,344 [INFO] No options data returned for dks\n",
      "2025-08-27 10:32:16,343 [INFO] No options data returned for dell\n",
      "2025-08-27 10:32:17,307 [INFO] No options data returned for afrm\n",
      "2025-08-27 10:32:18,367 [INFO] No options data returned for mrvl\n",
      "2025-08-27 10:32:19,290 [INFO] No options data returned for ulta\n",
      "2025-08-27 10:32:20,093 [INFO] No options data returned for adsk\n",
      "2025-08-27 10:32:20,963 [INFO] No options data returned for gap\n",
      "2025-08-27 10:32:21,961 [INFO] No options data returned for baba\n",
      "2025-08-27 10:32:22,934 [INFO] No options data returned for td\n",
      "2025-08-27 10:32:23,795 [INFO] No options data returned for nvda\n",
      "2025-08-27 10:32:24,638 [INFO] No options data returned for crwd\n",
      "2025-08-27 10:32:25,464 [INFO] No options data returned for snow\n",
      "2025-08-27 10:32:26,284 [INFO] No options data returned for five\n",
      "2025-08-27 10:32:27,122 [INFO] No options data returned for bby\n",
      "2025-08-27 10:32:28,003 [INFO] No options data returned for dg\n",
      "2025-08-27 10:32:28,975 [INFO] No options data returned for dks\n",
      "2025-08-27 10:32:29,867 [INFO] No options data returned for dell\n",
      "2025-08-27 10:32:30,746 [INFO] No options data returned for afrm\n",
      "2025-08-27 10:32:31,622 [INFO] No options data returned for mrvl\n",
      "2025-08-27 10:32:32,492 [INFO] No options data returned for ulta\n",
      "2025-08-27 10:32:33,317 [INFO] No options data returned for adsk\n",
      "2025-08-27 10:32:34,214 [INFO] No options data returned for gap\n",
      "2025-08-27 10:32:35,075 [INFO] No options data returned for baba\n",
      "2025-08-27 10:32:35,988 [INFO] No options data returned for td\n",
      "2025-08-27 10:32:36,873 [INFO] No options data returned for nvda\n",
      "2025-08-27 10:32:37,729 [INFO] No options data returned for crwd\n",
      "2025-08-27 10:32:38,664 [INFO] No options data returned for snow\n",
      "2025-08-27 10:32:39,538 [INFO] No options data returned for five\n",
      "2025-08-27 10:32:40,411 [INFO] No options data returned for bby\n",
      "2025-08-27 10:32:41,304 [INFO] No options data returned for dg\n",
      "2025-08-27 10:32:42,218 [INFO] No options data returned for dks\n",
      "2025-08-27 10:32:43,088 [INFO] No options data returned for dell\n",
      "2025-08-27 10:32:43,988 [INFO] No options data returned for afrm\n",
      "2025-08-27 10:32:44,848 [INFO] No options data returned for mrvl\n",
      "2025-08-27 10:32:45,769 [INFO] No options data returned for ulta\n",
      "2025-08-27 10:32:46,622 [INFO] No options data returned for adsk\n",
      "2025-08-27 10:32:47,541 [INFO] No options data returned for gap\n",
      "2025-08-27 10:32:48,398 [INFO] No options data returned for baba\n",
      "2025-08-27 10:32:49,234 [INFO] No options data returned for td\n",
      "2025-08-27 10:32:50,082 [INFO] No options data returned for nvda\n",
      "2025-08-27 10:32:50,948 [INFO] No options data returned for crwd\n",
      "2025-08-27 10:32:51,805 [INFO] No options data returned for snow\n",
      "2025-08-27 10:32:52,647 [INFO] No options data returned for five\n",
      "2025-08-27 10:32:53,443 [INFO] No options data returned for bby\n",
      "2025-08-27 10:32:54,307 [INFO] No options data returned for dg\n",
      "2025-08-27 10:32:55,151 [INFO] No options data returned for dks\n",
      "2025-08-27 10:32:55,965 [INFO] No options data returned for dell\n",
      "2025-08-27 10:32:56,750 [INFO] No options data returned for afrm\n",
      "2025-08-27 10:32:57,591 [INFO] No options data returned for mrvl\n",
      "2025-08-27 10:32:58,595 [INFO] No options data returned for ulta\n",
      "2025-08-27 10:32:59,398 [INFO] No options data returned for adsk\n",
      "2025-08-27 10:33:00,282 [INFO] No options data returned for gap\n",
      "2025-08-27 10:33:01,359 [INFO] No options data returned for baba\n",
      "2025-08-27 10:33:03,035 [INFO] No options data returned for td\n",
      "2025-08-27 10:33:03,903 [INFO] No options data returned for nvda\n",
      "2025-08-27 10:33:04,771 [INFO] No options data returned for crwd\n",
      "2025-08-27 10:33:05,619 [INFO] No options data returned for snow\n",
      "2025-08-27 10:33:06,483 [INFO] No options data returned for five\n",
      "2025-08-27 10:33:07,378 [INFO] No options data returned for bby\n",
      "2025-08-27 10:33:08,361 [INFO] No options data returned for dg\n",
      "2025-08-27 10:33:09,590 [INFO] No options data returned for dks\n",
      "2025-08-27 10:33:11,026 [INFO] No options data returned for dell\n",
      "2025-08-27 10:33:11,870 [INFO] No options data returned for afrm\n",
      "2025-08-27 10:33:12,776 [INFO] No options data returned for mrvl\n",
      "2025-08-27 10:33:13,598 [INFO] No options data returned for ulta\n",
      "2025-08-27 10:33:14,590 [INFO] No options data returned for adsk\n",
      "2025-08-27 10:33:15,425 [INFO] No options data returned for gap\n",
      "2025-08-27 10:33:16,303 [INFO] No options data returned for baba\n",
      "2025-08-27 10:33:17,292 [INFO] No options data returned for td\n",
      "2025-08-27 10:33:18,107 [INFO] No options data returned for nvda\n",
      "2025-08-27 10:33:18,899 [INFO] No options data returned for crwd\n",
      "2025-08-27 10:33:19,772 [INFO] No options data returned for snow\n",
      "2025-08-27 10:33:20,619 [INFO] No options data returned for five\n",
      "2025-08-27 10:33:21,441 [INFO] No options data returned for bby\n",
      "2025-08-27 10:33:22,379 [INFO] No options data returned for dg\n",
      "2025-08-27 10:33:23,296 [INFO] No options data returned for dks\n",
      "2025-08-27 10:33:24,104 [INFO] No options data returned for dell\n",
      "2025-08-27 10:33:25,135 [INFO] No options data returned for afrm\n",
      "2025-08-27 10:33:25,997 [INFO] No options data returned for mrvl\n",
      "2025-08-27 10:33:26,918 [INFO] No options data returned for ulta\n",
      "2025-08-27 10:33:27,795 [INFO] No options data returned for adsk\n",
      "2025-08-27 10:33:28,717 [INFO] No options data returned for gap\n",
      "2025-08-27 10:33:29,659 [INFO] No options data returned for baba\n",
      "2025-08-27 10:33:30,437 [INFO] No options data returned for td\n",
      "2025-08-27 10:33:31,238 [INFO] No options data returned for nvda\n",
      "2025-08-27 10:33:32,075 [INFO] No options data returned for crwd\n",
      "2025-08-27 10:33:32,883 [INFO] No options data returned for snow\n",
      "2025-08-27 10:33:33,684 [INFO] No options data returned for five\n",
      "2025-08-27 10:33:34,481 [INFO] No options data returned for bby\n",
      "2025-08-27 10:33:35,370 [INFO] No options data returned for dg\n",
      "2025-08-27 10:33:36,147 [INFO] No options data returned for dks\n",
      "2025-08-27 10:33:37,041 [INFO] No options data returned for dell\n",
      "2025-08-27 10:33:37,914 [INFO] No options data returned for afrm\n",
      "2025-08-27 10:33:38,781 [INFO] No options data returned for mrvl\n",
      "2025-08-27 10:33:39,679 [INFO] No options data returned for ulta\n",
      "2025-08-27 10:33:40,520 [INFO] No options data returned for adsk\n",
      "2025-08-27 10:33:41,365 [INFO] No options data returned for gap\n",
      "2025-08-27 10:33:42,245 [INFO] No options data returned for baba\n",
      "2025-08-27 10:33:43,090 [INFO] No options data returned for td\n",
      "2025-08-27 10:33:43,899 [INFO] No options data returned for nvda\n",
      "2025-08-27 10:33:44,835 [INFO] No options data returned for crwd\n",
      "2025-08-27 10:33:45,709 [INFO] No options data returned for snow\n",
      "2025-08-27 10:33:46,552 [INFO] No options data returned for five\n",
      "2025-08-27 10:33:47,666 [INFO] No options data returned for bby\n",
      "2025-08-27 10:33:48,485 [INFO] No options data returned for dg\n",
      "2025-08-27 10:33:49,290 [INFO] No options data returned for dks\n",
      "2025-08-27 10:33:50,713 [INFO] No options data returned for dell\n",
      "2025-08-27 10:33:51,556 [INFO] No options data returned for afrm\n",
      "2025-08-27 10:33:52,388 [INFO] No options data returned for mrvl\n",
      "2025-08-27 10:33:53,236 [INFO] No options data returned for ulta\n",
      "2025-08-27 10:33:54,131 [INFO] No options data returned for adsk\n",
      "2025-08-27 10:33:54,951 [INFO] No options data returned for gap\n",
      "2025-08-27 10:33:55,810 [INFO] No options data returned for baba\n",
      "2025-08-27 10:33:56,604 [INFO] No options data returned for td\n",
      "2025-08-27 10:33:57,478 [INFO] No options data returned for nvda\n",
      "2025-08-27 10:33:58,328 [INFO] No options data returned for crwd\n",
      "2025-08-27 10:33:59,164 [INFO] No options data returned for snow\n",
      "2025-08-27 10:34:00,035 [INFO] No options data returned for five\n",
      "2025-08-27 10:34:01,128 [INFO] No options data returned for bby\n",
      "2025-08-27 10:34:02,189 [INFO] No options data returned for dg\n",
      "2025-08-27 10:34:04,302 [INFO] No options data returned for dks\n",
      "2025-08-27 10:34:05,205 [INFO] No options data returned for dell\n",
      "2025-08-27 10:34:06,042 [INFO] No options data returned for afrm\n",
      "2025-08-27 10:34:06,881 [INFO] No options data returned for mrvl\n",
      "2025-08-27 10:34:07,716 [INFO] No options data returned for ulta\n",
      "2025-08-27 10:34:08,549 [INFO] No options data returned for adsk\n",
      "2025-08-27 10:34:09,427 [INFO] No options data returned for gap\n",
      "2025-08-27 10:34:10,347 [INFO] No options data returned for baba\n",
      "2025-08-27 10:34:11,420 [INFO] No options data returned for td\n",
      "2025-08-27 10:34:12,328 [INFO] No options data returned for nvda\n",
      "2025-08-27 10:34:13,180 [INFO] No options data returned for crwd\n",
      "2025-08-27 10:34:14,024 [INFO] No options data returned for snow\n",
      "2025-08-27 10:34:15,009 [INFO] No options data returned for five\n",
      "2025-08-27 10:34:16,161 [INFO] No options data returned for bby\n",
      "2025-08-27 10:34:17,363 [INFO] No options data returned for dg\n",
      "2025-08-27 10:34:18,242 [INFO] No options data returned for dks\n",
      "2025-08-27 10:34:19,106 [INFO] No options data returned for dell\n",
      "2025-08-27 10:34:19,968 [INFO] No options data returned for afrm\n",
      "2025-08-27 10:34:20,835 [INFO] No options data returned for mrvl\n",
      "2025-08-27 10:34:21,678 [INFO] No options data returned for ulta\n",
      "2025-08-27 10:34:22,551 [INFO] No options data returned for adsk\n",
      "2025-08-27 10:34:23,438 [INFO] No options data returned for gap\n",
      "2025-08-27 10:34:24,318 [INFO] No options data returned for baba\n",
      "2025-08-27 10:34:25,203 [INFO] No options data returned for td\n",
      "2025-08-27 10:34:26,054 [INFO] No options data returned for nvda\n",
      "2025-08-27 10:34:26,956 [INFO] No options data returned for crwd\n",
      "2025-08-27 10:34:27,817 [INFO] No options data returned for snow\n",
      "2025-08-27 10:34:28,726 [INFO] No options data returned for five\n",
      "2025-08-27 10:34:29,594 [INFO] No options data returned for bby\n",
      "2025-08-27 10:34:30,477 [INFO] No options data returned for dg\n",
      "2025-08-27 10:34:31,291 [INFO] No options data returned for dks\n",
      "2025-08-27 10:34:32,135 [INFO] No options data returned for dell\n",
      "2025-08-27 10:34:32,956 [INFO] No options data returned for afrm\n",
      "2025-08-27 10:34:33,771 [INFO] No options data returned for mrvl\n",
      "2025-08-27 10:34:34,625 [INFO] No options data returned for ulta\n",
      "2025-08-27 10:34:35,484 [INFO] No options data returned for adsk\n",
      "2025-08-27 10:34:36,342 [INFO] No options data returned for gap\n",
      "2025-08-27 10:34:37,197 [INFO] No options data returned for baba\n",
      "2025-08-27 10:34:38,048 [INFO] No options data returned for td\n",
      "2025-08-27 10:34:38,900 [INFO] No options data returned for nvda\n",
      "2025-08-27 10:34:39,767 [INFO] No options data returned for crwd\n",
      "2025-08-27 10:34:40,725 [INFO] No options data returned for snow\n",
      "2025-08-27 10:34:41,580 [INFO] No options data returned for five\n",
      "2025-08-27 10:34:42,414 [INFO] No options data returned for bby\n",
      "2025-08-27 10:34:43,268 [INFO] No options data returned for dg\n",
      "2025-08-27 10:34:44,074 [INFO] No options data returned for dks\n",
      "2025-08-27 10:34:44,957 [INFO] No options data returned for dell\n",
      "2025-08-27 10:34:45,830 [INFO] No options data returned for afrm\n",
      "2025-08-27 10:34:46,628 [INFO] No options data returned for mrvl\n",
      "2025-08-27 10:34:47,465 [INFO] No options data returned for ulta\n",
      "2025-08-27 10:34:48,272 [INFO] No options data returned for adsk\n",
      "2025-08-27 10:34:49,100 [INFO] No options data returned for gap\n",
      "2025-08-27 10:34:49,913 [INFO] No options data returned for baba\n",
      "2025-08-27 10:34:50,767 [INFO] No options data returned for td\n",
      "2025-08-27 10:34:51,607 [INFO] No options data returned for nvda\n",
      "2025-08-27 10:34:52,425 [INFO] No options data returned for crwd\n",
      "2025-08-27 10:34:53,266 [INFO] No options data returned for snow\n",
      "2025-08-27 10:34:54,087 [INFO] No options data returned for five\n",
      "2025-08-27 10:34:54,929 [INFO] No options data returned for bby\n",
      "2025-08-27 10:34:55,885 [INFO] No options data returned for dg\n",
      "2025-08-27 10:34:56,727 [INFO] No options data returned for dks\n",
      "2025-08-27 10:34:57,699 [INFO] No options data returned for dell\n",
      "2025-08-27 10:34:58,554 [INFO] No options data returned for afrm\n",
      "2025-08-27 10:34:59,655 [INFO] No options data returned for mrvl\n",
      "2025-08-27 10:35:00,842 [INFO] No options data returned for ulta\n",
      "2025-08-27 10:35:02,012 [INFO] No options data returned for adsk\n",
      "2025-08-27 10:35:02,956 [INFO] No options data returned for gap\n",
      "2025-08-27 10:35:04,099 [INFO] No options data returned for baba\n",
      "2025-08-27 10:35:05,005 [INFO] No options data returned for td\n",
      "2025-08-27 10:35:05,917 [INFO] No options data returned for nvda\n",
      "2025-08-27 10:35:07,311 [INFO] No options data returned for crwd\n",
      "2025-08-27 10:35:08,269 [INFO] No options data returned for snow\n",
      "2025-08-27 10:35:09,131 [INFO] No options data returned for five\n",
      "2025-08-27 10:35:10,107 [INFO] No options data returned for bby\n",
      "2025-08-27 10:35:11,053 [INFO] No options data returned for dg\n",
      "2025-08-27 10:35:12,042 [INFO] No options data returned for dks\n",
      "2025-08-27 10:35:12,905 [INFO] No options data returned for dell\n",
      "2025-08-27 10:35:13,756 [INFO] No options data returned for afrm\n",
      "2025-08-27 10:35:14,747 [INFO] No options data returned for mrvl\n",
      "2025-08-27 10:35:15,683 [INFO] No options data returned for ulta\n",
      "2025-08-27 10:35:16,587 [INFO] No options data returned for adsk\n",
      "2025-08-27 10:35:17,574 [INFO] No options data returned for gap\n",
      "2025-08-27 10:35:18,502 [INFO] No options data returned for baba\n",
      "2025-08-27 10:35:19,479 [INFO] No options data returned for td\n",
      "2025-08-27 10:35:20,536 [INFO] No options data returned for nvda\n",
      "2025-08-27 10:35:21,573 [INFO] No options data returned for crwd\n",
      "2025-08-27 10:35:22,510 [INFO] No options data returned for snow\n",
      "2025-08-27 10:35:23,585 [INFO] No options data returned for five\n",
      "2025-08-27 10:35:24,960 [INFO] No options data returned for bby\n",
      "2025-08-27 10:35:25,897 [INFO] No options data returned for dg\n",
      "2025-08-27 10:35:26,875 [INFO] No options data returned for dks\n",
      "2025-08-27 10:35:27,760 [INFO] No options data returned for dell\n",
      "2025-08-27 10:35:28,839 [INFO] No options data returned for afrm\n",
      "2025-08-27 10:35:29,693 [INFO] No options data returned for mrvl\n",
      "2025-08-27 10:35:30,678 [INFO] No options data returned for ulta\n",
      "2025-08-27 10:35:31,537 [INFO] No options data returned for adsk\n",
      "2025-08-27 10:35:32,427 [INFO] No options data returned for gap\n",
      "2025-08-27 10:35:33,257 [INFO] No options data returned for baba\n",
      "2025-08-27 10:35:34,101 [INFO] No options data returned for td\n",
      "2025-08-27 10:35:34,937 [INFO] No options data returned for nvda\n",
      "2025-08-27 10:35:35,793 [INFO] No options data returned for crwd\n",
      "2025-08-27 10:35:36,637 [INFO] No options data returned for snow\n",
      "2025-08-27 10:35:37,497 [INFO] No options data returned for five\n",
      "2025-08-27 10:35:38,332 [INFO] No options data returned for bby\n",
      "2025-08-27 10:35:39,216 [INFO] No options data returned for dg\n",
      "2025-08-27 10:35:40,026 [INFO] No options data returned for dks\n",
      "2025-08-27 10:35:40,853 [INFO] No options data returned for dell\n",
      "2025-08-27 10:35:41,661 [INFO] No options data returned for afrm\n",
      "2025-08-27 10:35:42,480 [INFO] No options data returned for mrvl\n",
      "2025-08-27 10:35:43,325 [INFO] No options data returned for ulta\n",
      "2025-08-27 10:35:44,124 [INFO] No options data returned for adsk\n",
      "2025-08-27 10:35:44,934 [INFO] No options data returned for gap\n",
      "2025-08-27 10:35:45,735 [INFO] No options data returned for baba\n",
      "2025-08-27 10:35:46,576 [INFO] No options data returned for td\n",
      "2025-08-27 10:35:47,362 [INFO] No options data returned for nvda\n",
      "2025-08-27 10:35:48,206 [INFO] No options data returned for crwd\n",
      "2025-08-27 10:35:49,060 [INFO] No options data returned for snow\n",
      "2025-08-27 10:35:49,929 [INFO] No options data returned for five\n",
      "2025-08-27 10:35:50,788 [INFO] No options data returned for bby\n",
      "2025-08-27 10:35:51,650 [INFO] No options data returned for dg\n",
      "2025-08-27 10:35:52,476 [INFO] No options data returned for dks\n",
      "2025-08-27 10:35:53,261 [INFO] No options data returned for dell\n",
      "2025-08-27 10:35:54,094 [INFO] No options data returned for afrm\n",
      "2025-08-27 10:35:54,914 [INFO] No options data returned for mrvl\n",
      "2025-08-27 10:35:55,729 [INFO] No options data returned for ulta\n",
      "2025-08-27 10:35:56,581 [INFO] No options data returned for adsk\n",
      "2025-08-27 10:35:57,450 [INFO] No options data returned for gap\n",
      "2025-08-27 10:35:58,290 [INFO] No options data returned for baba\n",
      "2025-08-27 10:35:59,115 [INFO] No options data returned for td\n",
      "2025-08-27 10:35:59,998 [INFO] No options data returned for nvda\n",
      "2025-08-27 10:36:01,190 [INFO] No options data returned for crwd\n",
      "2025-08-27 10:36:02,078 [INFO] No options data returned for snow\n",
      "2025-08-27 10:36:04,135 [INFO] No options data returned for five\n",
      "2025-08-27 10:36:05,051 [INFO] No options data returned for bby\n",
      "2025-08-27 10:36:05,911 [INFO] No options data returned for dg\n",
      "2025-08-27 10:36:06,769 [INFO] No options data returned for dks\n",
      "2025-08-27 10:36:07,625 [INFO] No options data returned for dell\n",
      "2025-08-27 10:36:08,495 [INFO] No options data returned for afrm\n",
      "2025-08-27 10:36:09,345 [INFO] No options data returned for mrvl\n",
      "2025-08-27 10:36:10,246 [INFO] No options data returned for ulta\n",
      "2025-08-27 10:36:11,072 [INFO] No options data returned for adsk\n",
      "2025-08-27 10:36:11,916 [INFO] No options data returned for gap\n",
      "2025-08-27 10:36:12,808 [INFO] No options data returned for baba\n",
      "2025-08-27 10:36:13,706 [INFO] No options data returned for td\n",
      "2025-08-27 10:36:14,615 [INFO] No options data returned for nvda\n",
      "2025-08-27 10:36:15,569 [INFO] No options data returned for crwd\n",
      "2025-08-27 10:36:16,350 [INFO] No options data returned for snow\n",
      "2025-08-27 10:36:17,206 [INFO] No options data returned for five\n",
      "2025-08-27 10:36:18,187 [INFO] No options data returned for bby\n",
      "2025-08-27 10:36:19,035 [INFO] No options data returned for dg\n",
      "2025-08-27 10:36:19,871 [INFO] No options data returned for dks\n",
      "2025-08-27 10:36:20,861 [INFO] No options data returned for dell\n",
      "2025-08-27 10:36:21,778 [INFO] No options data returned for afrm\n",
      "2025-08-27 10:36:22,636 [INFO] No options data returned for mrvl\n",
      "2025-08-27 10:36:23,614 [INFO] No options data returned for ulta\n",
      "2025-08-27 10:36:24,536 [INFO] No options data returned for adsk\n",
      "2025-08-27 10:36:25,386 [INFO] No options data returned for gap\n",
      "2025-08-27 10:36:26,218 [INFO] No options data returned for baba\n",
      "2025-08-27 10:36:27,088 [INFO] No options data returned for td\n",
      "2025-08-27 10:36:27,933 [INFO] No options data returned for nvda\n",
      "2025-08-27 10:36:28,733 [INFO] No options data returned for crwd\n",
      "2025-08-27 10:36:29,594 [INFO] No options data returned for snow\n",
      "2025-08-27 10:36:30,907 [INFO] No options data returned for five\n",
      "2025-08-27 10:36:32,334 [INFO] No options data returned for bby\n",
      "2025-08-27 10:36:33,538 [INFO] No options data returned for dg\n",
      "2025-08-27 10:36:34,537 [INFO] No options data returned for dks\n",
      "2025-08-27 10:36:35,353 [INFO] No options data returned for dell\n",
      "2025-08-27 10:36:36,165 [INFO] No options data returned for afrm\n",
      "2025-08-27 10:36:37,042 [INFO] No options data returned for mrvl\n",
      "2025-08-27 10:36:37,941 [INFO] No options data returned for ulta\n",
      "2025-08-27 10:36:38,816 [INFO] No options data returned for adsk\n",
      "2025-08-27 10:36:39,691 [INFO] No options data returned for gap\n",
      "2025-08-27 10:36:40,561 [INFO] No options data returned for baba\n",
      "2025-08-27 10:36:41,508 [INFO] No options data returned for td\n",
      "2025-08-27 10:36:42,326 [INFO] No options data returned for nvda\n",
      "2025-08-27 10:36:43,141 [INFO] No options data returned for crwd\n",
      "2025-08-27 10:36:44,111 [INFO] No options data returned for snow\n",
      "2025-08-27 10:36:44,911 [INFO] No options data returned for five\n",
      "2025-08-27 10:36:45,732 [INFO] No options data returned for bby\n",
      "2025-08-27 10:36:46,572 [INFO] No options data returned for dg\n",
      "2025-08-27 10:36:47,445 [INFO] No options data returned for dks\n",
      "2025-08-27 10:36:48,285 [INFO] No options data returned for dell\n",
      "2025-08-27 10:36:49,187 [INFO] No options data returned for afrm\n",
      "2025-08-27 10:36:50,007 [INFO] No options data returned for mrvl\n",
      "2025-08-27 10:36:50,825 [INFO] No options data returned for ulta\n",
      "2025-08-27 10:36:51,672 [INFO] No options data returned for adsk\n",
      "2025-08-27 10:36:52,600 [INFO] No options data returned for gap\n",
      "2025-08-27 10:36:53,486 [INFO] No options data returned for baba\n",
      "2025-08-27 10:36:54,293 [INFO] No options data returned for td\n",
      "2025-08-27 10:36:55,175 [INFO] No options data returned for nvda\n",
      "2025-08-27 10:36:56,018 [INFO] No options data returned for crwd\n",
      "2025-08-27 10:36:56,865 [INFO] No options data returned for snow\n",
      "2025-08-27 10:36:57,980 [INFO] No options data returned for five\n",
      "2025-08-27 10:36:58,833 [INFO] No options data returned for bby\n",
      "2025-08-27 10:36:59,665 [INFO] No options data returned for dg\n",
      "2025-08-27 10:37:01,263 [INFO] No options data returned for dks\n",
      "2025-08-27 10:37:02,126 [INFO] No options data returned for dell\n",
      "2025-08-27 10:37:02,979 [INFO] No options data returned for afrm\n",
      "2025-08-27 10:37:03,825 [INFO] No options data returned for mrvl\n",
      "2025-08-27 10:37:04,692 [INFO] No options data returned for ulta\n",
      "2025-08-27 10:37:05,499 [INFO] No options data returned for adsk\n",
      "2025-08-27 10:37:06,347 [INFO] No options data returned for gap\n",
      "2025-08-27 10:37:07,233 [INFO] No options data returned for baba\n",
      "2025-08-27 10:37:08,015 [INFO] No options data returned for td\n",
      "2025-08-27 10:37:08,812 [INFO] No options data returned for nvda\n",
      "2025-08-27 10:37:09,645 [INFO] No options data returned for crwd\n",
      "2025-08-27 10:37:10,473 [INFO] No options data returned for snow\n",
      "2025-08-27 10:37:11,328 [INFO] No options data returned for five\n",
      "2025-08-27 10:37:12,170 [INFO] No options data returned for bby\n",
      "2025-08-27 10:37:12,963 [INFO] No options data returned for dg\n",
      "2025-08-27 10:37:13,788 [INFO] No options data returned for dks\n",
      "2025-08-27 10:37:14,661 [INFO] No options data returned for dell\n",
      "2025-08-27 10:37:15,467 [INFO] No options data returned for afrm\n",
      "2025-08-27 10:37:17,036 [INFO] No options data returned for mrvl\n",
      "2025-08-27 10:37:17,966 [INFO] No options data returned for ulta\n",
      "2025-08-27 10:37:18,806 [INFO] No options data returned for adsk\n",
      "2025-08-27 10:37:19,729 [INFO] No options data returned for gap\n",
      "2025-08-27 10:37:20,585 [INFO] No options data returned for baba\n",
      "2025-08-27 10:37:21,492 [INFO] No options data returned for td\n",
      "2025-08-27 10:37:22,314 [INFO] No options data returned for nvda\n",
      "2025-08-27 10:37:23,166 [INFO] No options data returned for crwd\n",
      "2025-08-27 10:37:23,980 [INFO] No options data returned for snow\n",
      "2025-08-27 10:37:24,850 [INFO] No options data returned for five\n",
      "2025-08-27 10:37:25,689 [INFO] No options data returned for bby\n",
      "2025-08-27 10:37:26,495 [INFO] No options data returned for dg\n",
      "2025-08-27 10:37:27,327 [INFO] No options data returned for dks\n",
      "2025-08-27 10:37:28,174 [INFO] No options data returned for dell\n",
      "2025-08-27 10:37:29,008 [INFO] No options data returned for afrm\n",
      "2025-08-27 10:37:29,829 [INFO] No options data returned for mrvl\n",
      "2025-08-27 10:37:30,676 [INFO] No options data returned for ulta\n",
      "2025-08-27 10:37:31,490 [INFO] No options data returned for adsk\n",
      "2025-08-27 10:37:32,325 [INFO] No options data returned for gap\n",
      "2025-08-27 10:37:33,145 [INFO] No options data returned for baba\n",
      "2025-08-27 10:37:33,948 [INFO] No options data returned for td\n",
      "2025-08-27 10:37:34,739 [INFO] No options data returned for nvda\n",
      "2025-08-27 10:37:35,535 [INFO] No options data returned for crwd\n",
      "2025-08-27 10:37:36,424 [INFO] No options data returned for snow\n",
      "2025-08-27 10:37:37,671 [INFO] No options data returned for five\n",
      "2025-08-27 10:37:38,921 [INFO] No options data returned for bby\n",
      "2025-08-27 10:37:39,889 [INFO] No options data returned for dg\n",
      "2025-08-27 10:37:40,697 [INFO] No options data returned for dks\n",
      "2025-08-27 10:37:41,589 [INFO] No options data returned for dell\n",
      "2025-08-27 10:37:42,365 [INFO] No options data returned for afrm\n",
      "2025-08-27 10:37:43,197 [INFO] No options data returned for mrvl\n",
      "2025-08-27 10:37:43,981 [INFO] No options data returned for ulta\n",
      "2025-08-27 10:37:44,907 [INFO] No options data returned for adsk\n",
      "2025-08-27 10:37:45,729 [INFO] No options data returned for gap\n",
      "2025-08-27 10:37:46,573 [INFO] No options data returned for baba\n",
      "2025-08-27 10:37:47,431 [INFO] No options data returned for td\n",
      "2025-08-27 10:37:48,274 [INFO] No options data returned for nvda\n",
      "2025-08-27 10:37:49,064 [INFO] No options data returned for crwd\n",
      "2025-08-27 10:37:49,871 [INFO] No options data returned for snow\n",
      "2025-08-27 10:37:50,681 [INFO] No options data returned for five\n",
      "2025-08-27 10:37:51,507 [INFO] No options data returned for bby\n",
      "2025-08-27 10:37:52,305 [INFO] No options data returned for dg\n",
      "2025-08-27 10:37:53,138 [INFO] No options data returned for dks\n",
      "2025-08-27 10:37:53,953 [INFO] No options data returned for dell\n",
      "2025-08-27 10:37:54,771 [INFO] No options data returned for afrm\n",
      "2025-08-27 10:37:55,808 [INFO] No options data returned for mrvl\n",
      "2025-08-27 10:37:56,668 [INFO] No options data returned for ulta\n",
      "2025-08-27 10:37:57,587 [INFO] No options data returned for adsk\n",
      "2025-08-27 10:37:58,434 [INFO] No options data returned for gap\n",
      "2025-08-27 10:37:59,262 [INFO] No options data returned for baba\n",
      "2025-08-27 10:38:00,127 [INFO] No options data returned for td\n",
      "2025-08-27 10:38:00,983 [INFO] No options data returned for nvda\n",
      "2025-08-27 10:38:01,850 [INFO] No options data returned for crwd\n",
      "2025-08-27 10:38:02,747 [INFO] No options data returned for snow\n",
      "2025-08-27 10:38:03,605 [INFO] No options data returned for five\n",
      "2025-08-27 10:38:04,587 [INFO] No options data returned for bby\n",
      "2025-08-27 10:38:05,429 [INFO] No options data returned for dg\n",
      "2025-08-27 10:38:06,312 [INFO] No options data returned for dks\n",
      "2025-08-27 10:38:07,158 [INFO] No options data returned for dell\n",
      "2025-08-27 10:38:07,963 [INFO] No options data returned for afrm\n",
      "2025-08-27 10:38:08,830 [INFO] No options data returned for mrvl\n",
      "2025-08-27 10:38:09,633 [INFO] No options data returned for ulta\n",
      "2025-08-27 10:38:10,523 [INFO] No options data returned for adsk\n",
      "2025-08-27 10:38:11,430 [INFO] No options data returned for gap\n",
      "2025-08-27 10:38:12,368 [INFO] No options data returned for baba\n",
      "2025-08-27 10:38:13,206 [INFO] No options data returned for td\n",
      "2025-08-27 10:38:14,016 [INFO] No options data returned for nvda\n",
      "2025-08-27 10:38:14,851 [INFO] No options data returned for crwd\n",
      "2025-08-27 10:38:15,654 [INFO] No options data returned for snow\n",
      "2025-08-27 10:38:16,704 [INFO] No options data returned for five\n",
      "2025-08-27 10:38:17,580 [INFO] No options data returned for bby\n",
      "2025-08-27 10:38:18,522 [INFO] No options data returned for dg\n",
      "2025-08-27 10:38:19,337 [INFO] No options data returned for dks\n",
      "2025-08-27 10:38:20,164 [INFO] No options data returned for dell\n",
      "2025-08-27 10:38:21,006 [INFO] No options data returned for afrm\n",
      "2025-08-27 10:38:21,785 [INFO] No options data returned for mrvl\n",
      "2025-08-27 10:38:22,580 [INFO] No options data returned for ulta\n",
      "2025-08-27 10:38:23,423 [INFO] No options data returned for adsk\n",
      "2025-08-27 10:38:24,245 [INFO] No options data returned for gap\n",
      "2025-08-27 10:38:25,082 [INFO] No options data returned for baba\n",
      "2025-08-27 10:38:25,984 [INFO] No options data returned for td\n",
      "2025-08-27 10:38:26,854 [INFO] No options data returned for nvda\n",
      "2025-08-27 10:38:27,646 [INFO] No options data returned for crwd\n",
      "2025-08-27 10:38:28,456 [INFO] No options data returned for snow\n",
      "2025-08-27 10:38:29,289 [INFO] No options data returned for five\n",
      "2025-08-27 10:38:30,066 [INFO] No options data returned for bby\n",
      "2025-08-27 10:38:30,856 [INFO] No options data returned for dg\n",
      "2025-08-27 10:38:31,702 [INFO] No options data returned for dks\n",
      "2025-08-27 10:38:32,515 [INFO] No options data returned for dell\n",
      "2025-08-27 10:38:33,328 [INFO] No options data returned for afrm\n",
      "2025-08-27 10:38:34,138 [INFO] No options data returned for mrvl\n",
      "2025-08-27 10:38:34,978 [INFO] No options data returned for ulta\n",
      "2025-08-27 10:38:35,780 [INFO] No options data returned for adsk\n",
      "2025-08-27 10:38:36,646 [INFO] No options data returned for gap\n",
      "2025-08-27 10:38:37,498 [INFO] No options data returned for baba\n",
      "2025-08-27 10:38:38,315 [INFO] No options data returned for td\n",
      "2025-08-27 10:38:39,121 [INFO] No options data returned for nvda\n",
      "2025-08-27 10:38:39,879 [INFO] No options data returned for crwd\n",
      "2025-08-27 10:38:40,671 [INFO] No options data returned for snow\n",
      "2025-08-27 10:38:41,541 [INFO] No options data returned for five\n",
      "2025-08-27 10:38:42,421 [INFO] No options data returned for bby\n",
      "2025-08-27 10:38:43,259 [INFO] No options data returned for dg\n",
      "2025-08-27 10:38:44,353 [INFO] No options data returned for dks\n",
      "2025-08-27 10:38:45,666 [INFO] No options data returned for dell\n",
      "2025-08-27 10:38:46,796 [INFO] No options data returned for afrm\n",
      "2025-08-27 10:38:47,645 [INFO] No options data returned for mrvl\n",
      "2025-08-27 10:38:48,556 [INFO] No options data returned for ulta\n",
      "2025-08-27 10:38:49,394 [INFO] No options data returned for adsk\n",
      "2025-08-27 10:38:50,201 [INFO] No options data returned for gap\n",
      "2025-08-27 10:38:51,110 [INFO] No options data returned for baba\n",
      "2025-08-27 10:38:51,982 [INFO] No options data returned for td\n",
      "2025-08-27 10:38:52,785 [INFO] No options data returned for nvda\n",
      "2025-08-27 10:38:53,595 [INFO] No options data returned for crwd\n",
      "2025-08-27 10:38:54,420 [INFO] No options data returned for snow\n",
      "2025-08-27 10:38:55,230 [INFO] No options data returned for five\n",
      "2025-08-27 10:38:56,030 [INFO] No options data returned for bby\n",
      "2025-08-27 10:38:56,913 [INFO] No options data returned for dg\n",
      "2025-08-27 10:38:57,746 [INFO] No options data returned for dks\n",
      "2025-08-27 10:38:58,564 [INFO] No options data returned for dell\n",
      "2025-08-27 10:38:59,375 [INFO] No options data returned for afrm\n",
      "2025-08-27 10:39:00,182 [INFO] No options data returned for mrvl\n",
      "2025-08-27 10:39:01,178 [INFO] No options data returned for ulta\n",
      "2025-08-27 10:39:02,040 [INFO] No options data returned for adsk\n",
      "2025-08-27 10:39:02,873 [INFO] No options data returned for gap\n",
      "2025-08-27 10:39:03,662 [INFO] No options data returned for baba\n",
      "2025-08-27 10:39:04,493 [INFO] No options data returned for td\n",
      "2025-08-27 10:39:05,315 [INFO] No options data returned for nvda\n",
      "2025-08-27 10:39:06,098 [INFO] No options data returned for crwd\n",
      "2025-08-27 10:39:06,914 [INFO] No options data returned for snow\n",
      "2025-08-27 10:39:07,727 [INFO] No options data returned for five\n",
      "2025-08-27 10:39:08,534 [INFO] No options data returned for bby\n",
      "2025-08-27 10:39:09,335 [INFO] No options data returned for dg\n",
      "2025-08-27 10:39:10,129 [INFO] No options data returned for dks\n",
      "2025-08-27 10:39:10,952 [INFO] No options data returned for dell\n",
      "2025-08-27 10:39:11,799 [INFO] No options data returned for afrm\n",
      "2025-08-27 10:39:12,680 [INFO] No options data returned for mrvl\n",
      "2025-08-27 10:39:13,487 [INFO] No options data returned for ulta\n",
      "2025-08-27 10:39:14,337 [INFO] No options data returned for adsk\n",
      "2025-08-27 10:39:15,215 [INFO] No options data returned for gap\n",
      "2025-08-27 10:39:16,390 [INFO] No options data returned for baba\n",
      "2025-08-27 10:39:17,318 [INFO] No options data returned for td\n",
      "2025-08-27 10:39:18,273 [INFO] No options data returned for nvda\n",
      "2025-08-27 10:39:19,200 [INFO] No options data returned for crwd\n",
      "2025-08-27 10:39:20,039 [INFO] No options data returned for snow\n",
      "2025-08-27 10:39:20,947 [INFO] No options data returned for five\n",
      "2025-08-27 10:39:21,804 [INFO] No options data returned for bby\n",
      "2025-08-27 10:39:22,659 [INFO] No options data returned for dg\n",
      "2025-08-27 10:39:23,581 [INFO] No options data returned for dks\n",
      "2025-08-27 10:39:24,404 [INFO] No options data returned for dell\n",
      "2025-08-27 10:39:25,267 [INFO] No options data returned for afrm\n",
      "2025-08-27 10:39:26,193 [INFO] No options data returned for mrvl\n",
      "2025-08-27 10:39:27,077 [INFO] No options data returned for ulta\n",
      "2025-08-27 10:39:27,944 [INFO] No options data returned for adsk\n",
      "2025-08-27 10:39:28,776 [INFO] No options data returned for gap\n",
      "2025-08-27 10:39:29,677 [INFO] No options data returned for baba\n",
      "2025-08-27 10:39:30,509 [INFO] No options data returned for td\n",
      "2025-08-27 10:39:31,398 [INFO] No options data returned for nvda\n",
      "2025-08-27 10:39:32,273 [INFO] No options data returned for crwd\n",
      "2025-08-27 10:39:33,339 [INFO] No options data returned for snow\n",
      "2025-08-27 10:39:34,154 [INFO] No options data returned for five\n",
      "2025-08-27 10:39:35,040 [INFO] No options data returned for bby\n",
      "2025-08-27 10:39:35,860 [INFO] No options data returned for dg\n",
      "2025-08-27 10:39:36,710 [INFO] No options data returned for dks\n",
      "2025-08-27 10:39:37,547 [INFO] No options data returned for dell\n",
      "2025-08-27 10:39:38,406 [INFO] No options data returned for afrm\n",
      "2025-08-27 10:39:39,262 [INFO] No options data returned for mrvl\n",
      "2025-08-27 10:39:40,108 [INFO] No options data returned for ulta\n",
      "2025-08-27 10:39:41,003 [INFO] No options data returned for adsk\n",
      "2025-08-27 10:39:41,858 [INFO] No options data returned for gap\n",
      "2025-08-27 10:39:42,735 [INFO] No options data returned for baba\n",
      "2025-08-27 10:39:43,549 [INFO] No options data returned for td\n",
      "2025-08-27 10:39:44,376 [INFO] No options data returned for nvda\n",
      "2025-08-27 10:39:45,195 [INFO] No options data returned for crwd\n",
      "2025-08-27 10:39:46,054 [INFO] No options data returned for snow\n",
      "2025-08-27 10:39:46,936 [INFO] No options data returned for five\n",
      "2025-08-27 10:39:47,723 [INFO] No options data returned for bby\n",
      "2025-08-27 10:39:48,563 [INFO] No options data returned for dg\n",
      "2025-08-27 10:39:49,377 [INFO] No options data returned for dks\n",
      "2025-08-27 10:39:50,214 [INFO] No options data returned for dell\n",
      "2025-08-27 10:39:51,287 [INFO] No options data returned for afrm\n",
      "2025-08-27 10:39:52,632 [INFO] No options data returned for mrvl\n",
      "2025-08-27 10:39:53,621 [INFO] No options data returned for ulta\n",
      "2025-08-27 10:39:54,475 [INFO] No options data returned for adsk\n",
      "2025-08-27 10:39:55,288 [INFO] No options data returned for gap\n",
      "2025-08-27 10:39:56,146 [INFO] No options data returned for baba\n",
      "2025-08-27 10:39:57,004 [INFO] No options data returned for td\n",
      "2025-08-27 10:39:57,787 [INFO] No options data returned for nvda\n",
      "2025-08-27 10:39:58,585 [INFO] No options data returned for crwd\n",
      "2025-08-27 10:39:59,481 [INFO] No options data returned for snow\n",
      "2025-08-27 10:40:00,706 [INFO] No options data returned for five\n",
      "2025-08-27 10:40:01,730 [INFO] No options data returned for bby\n",
      "2025-08-27 10:40:02,636 [INFO] No options data returned for dg\n",
      "2025-08-27 10:40:03,572 [INFO] No options data returned for dks\n",
      "2025-08-27 10:40:04,495 [INFO] No options data returned for dell\n",
      "2025-08-27 10:40:05,503 [INFO] No options data returned for afrm\n",
      "2025-08-27 10:40:06,442 [INFO] No options data returned for mrvl\n",
      "2025-08-27 10:40:07,297 [INFO] No options data returned for ulta\n",
      "2025-08-27 10:40:08,174 [INFO] No options data returned for adsk\n",
      "2025-08-27 10:40:09,120 [INFO] No options data returned for gap\n",
      "2025-08-27 10:40:09,990 [INFO] No options data returned for baba\n",
      "2025-08-27 10:40:10,827 [INFO] No options data returned for td\n",
      "2025-08-27 10:40:11,685 [INFO] No options data returned for nvda\n",
      "2025-08-27 10:40:12,549 [INFO] No options data returned for crwd\n",
      "2025-08-27 10:40:13,363 [INFO] No options data returned for snow\n",
      "2025-08-27 10:40:14,232 [INFO] No options data returned for five\n",
      "2025-08-27 10:40:15,087 [INFO] No options data returned for bby\n",
      "2025-08-27 10:40:15,924 [INFO] No options data returned for dg\n",
      "2025-08-27 10:40:16,760 [INFO] No options data returned for dks\n",
      "2025-08-27 10:40:17,704 [INFO] No options data returned for dell\n",
      "2025-08-27 10:40:18,564 [INFO] No options data returned for afrm\n",
      "2025-08-27 10:40:19,362 [INFO] No options data returned for mrvl\n",
      "2025-08-27 10:40:20,212 [INFO] No options data returned for ulta\n",
      "2025-08-27 10:40:21,087 [INFO] No options data returned for adsk\n",
      "2025-08-27 10:40:21,987 [INFO] No options data returned for gap\n",
      "2025-08-27 10:40:22,862 [INFO] No options data returned for baba\n",
      "2025-08-27 10:40:23,723 [INFO] No options data returned for td\n",
      "2025-08-27 10:40:24,672 [INFO] No options data returned for nvda\n",
      "2025-08-27 10:40:25,480 [INFO] No options data returned for crwd\n",
      "2025-08-27 10:40:26,315 [INFO] No options data returned for snow\n",
      "2025-08-27 10:40:27,130 [INFO] No options data returned for five\n",
      "2025-08-27 10:40:27,924 [INFO] No options data returned for bby\n",
      "2025-08-27 10:40:28,731 [INFO] No options data returned for dg\n",
      "2025-08-27 10:40:29,561 [INFO] No options data returned for dks\n",
      "2025-08-27 10:40:30,371 [INFO] No options data returned for dell\n",
      "2025-08-27 10:40:31,243 [INFO] No options data returned for afrm\n",
      "2025-08-27 10:40:32,077 [INFO] No options data returned for mrvl\n",
      "2025-08-27 10:40:32,880 [INFO] No options data returned for ulta\n",
      "2025-08-27 10:40:33,691 [INFO] No options data returned for adsk\n",
      "2025-08-27 10:40:34,502 [INFO] No options data returned for gap\n",
      "2025-08-27 10:40:35,299 [INFO] No options data returned for baba\n",
      "2025-08-27 10:40:36,130 [INFO] No options data returned for td\n",
      "2025-08-27 10:40:37,216 [INFO] No options data returned for nvda\n",
      "2025-08-27 10:40:38,109 [INFO] No options data returned for crwd\n",
      "2025-08-27 10:40:39,057 [INFO] No options data returned for snow\n",
      "2025-08-27 10:40:39,895 [INFO] No options data returned for five\n",
      "2025-08-27 10:40:40,851 [INFO] No options data returned for bby\n",
      "2025-08-27 10:40:41,690 [INFO] No options data returned for dg\n",
      "2025-08-27 10:40:42,527 [INFO] No options data returned for dks\n",
      "2025-08-27 10:40:43,418 [INFO] No options data returned for dell\n",
      "2025-08-27 10:40:44,328 [INFO] No options data returned for afrm\n",
      "2025-08-27 10:40:45,270 [INFO] No options data returned for mrvl\n",
      "2025-08-27 10:40:46,099 [INFO] No options data returned for ulta\n",
      "2025-08-27 10:40:46,934 [INFO] No options data returned for adsk\n",
      "2025-08-27 10:40:47,762 [INFO] No options data returned for gap\n",
      "2025-08-27 10:40:48,556 [INFO] No options data returned for baba\n",
      "2025-08-27 10:40:49,452 [INFO] No options data returned for td\n",
      "2025-08-27 10:40:50,331 [INFO] No options data returned for nvda\n",
      "2025-08-27 10:40:51,165 [INFO] No options data returned for crwd\n",
      "2025-08-27 10:40:52,065 [INFO] No options data returned for snow\n",
      "2025-08-27 10:40:52,904 [INFO] No options data returned for five\n",
      "2025-08-27 10:40:53,829 [INFO] No options data returned for bby\n",
      "2025-08-27 10:40:54,667 [INFO] No options data returned for dg\n",
      "2025-08-27 10:40:55,522 [INFO] No options data returned for dks\n",
      "2025-08-27 10:40:56,364 [INFO] No options data returned for dell\n",
      "2025-08-27 10:40:57,388 [INFO] No options data returned for afrm\n",
      "2025-08-27 10:40:58,181 [INFO] No options data returned for mrvl\n",
      "2025-08-27 10:40:59,402 [INFO] No options data returned for ulta\n",
      "2025-08-27 10:41:00,632 [INFO] No options data returned for adsk\n",
      "2025-08-27 10:41:01,734 [INFO] No options data returned for gap\n",
      "2025-08-27 10:41:02,696 [INFO] No options data returned for baba\n",
      "2025-08-27 10:41:03,607 [INFO] No options data returned for td\n",
      "2025-08-27 10:41:04,529 [INFO] No options data returned for nvda\n",
      "2025-08-27 10:41:05,426 [INFO] No options data returned for crwd\n",
      "2025-08-27 10:41:06,319 [INFO] No options data returned for snow\n",
      "2025-08-27 10:41:07,143 [INFO] No options data returned for five\n",
      "2025-08-27 10:41:07,992 [INFO] No options data returned for bby\n",
      "2025-08-27 10:41:08,846 [INFO] No options data returned for dg\n",
      "2025-08-27 10:41:09,659 [INFO] No options data returned for dks\n",
      "2025-08-27 10:41:10,483 [INFO] No options data returned for dell\n",
      "2025-08-27 10:41:11,318 [INFO] No options data returned for afrm\n",
      "2025-08-27 10:41:12,139 [INFO] No options data returned for mrvl\n",
      "2025-08-27 10:41:12,951 [INFO] No options data returned for ulta\n",
      "2025-08-27 10:41:13,786 [INFO] No options data returned for adsk\n",
      "2025-08-27 10:41:14,613 [INFO] No options data returned for gap\n",
      "2025-08-27 10:41:15,559 [INFO] No options data returned for baba\n",
      "2025-08-27 10:41:16,418 [INFO] No options data returned for td\n",
      "2025-08-27 10:41:17,411 [INFO] No options data returned for nvda\n",
      "2025-08-27 10:41:18,310 [INFO] No options data returned for crwd\n",
      "2025-08-27 10:41:19,166 [INFO] No options data returned for snow\n",
      "2025-08-27 10:41:20,030 [INFO] No options data returned for five\n",
      "2025-08-27 10:41:20,849 [INFO] No options data returned for bby\n",
      "2025-08-27 10:41:21,700 [INFO] No options data returned for dg\n",
      "2025-08-27 10:41:22,541 [INFO] No options data returned for dks\n",
      "2025-08-27 10:41:23,454 [INFO] No options data returned for dell\n",
      "2025-08-27 10:41:24,343 [INFO] No options data returned for afrm\n",
      "2025-08-27 10:41:25,169 [INFO] No options data returned for mrvl\n",
      "2025-08-27 10:41:25,998 [INFO] No options data returned for ulta\n",
      "2025-08-27 10:41:26,894 [INFO] No options data returned for adsk\n",
      "2025-08-27 10:41:27,688 [INFO] No options data returned for gap\n",
      "2025-08-27 10:41:28,527 [INFO] No options data returned for baba\n",
      "2025-08-27 10:41:29,362 [INFO] No options data returned for td\n",
      "2025-08-27 10:41:30,261 [INFO] No options data returned for nvda\n",
      "2025-08-27 10:41:31,089 [INFO] No options data returned for crwd\n",
      "2025-08-27 10:41:31,909 [INFO] No options data returned for snow\n",
      "2025-08-27 10:41:32,768 [INFO] No options data returned for five\n",
      "2025-08-27 10:41:33,716 [INFO] No options data returned for bby\n",
      "2025-08-27 10:41:34,564 [INFO] No options data returned for dg\n",
      "2025-08-27 10:41:35,432 [INFO] No options data returned for dks\n",
      "2025-08-27 10:41:36,370 [INFO] No options data returned for dell\n",
      "2025-08-27 10:41:37,207 [INFO] No options data returned for afrm\n",
      "2025-08-27 10:41:38,044 [INFO] No options data returned for mrvl\n",
      "2025-08-27 10:41:38,868 [INFO] No options data returned for ulta\n",
      "2025-08-27 10:41:39,882 [INFO] No options data returned for adsk\n",
      "2025-08-27 10:41:40,730 [INFO] No options data returned for gap\n",
      "2025-08-27 10:41:41,612 [INFO] No options data returned for baba\n",
      "2025-08-27 10:41:42,468 [INFO] No options data returned for td\n",
      "2025-08-27 10:41:43,291 [INFO] No options data returned for nvda\n",
      "2025-08-27 10:41:44,129 [INFO] No options data returned for crwd\n",
      "2025-08-27 10:41:44,944 [INFO] No options data returned for snow\n",
      "2025-08-27 10:41:45,706 [INFO] No options data returned for five\n",
      "2025-08-27 10:41:46,609 [INFO] No options data returned for bby\n",
      "2025-08-27 10:41:47,401 [INFO] No options data returned for dg\n",
      "2025-08-27 10:41:48,194 [INFO] No options data returned for dks\n",
      "2025-08-27 10:41:48,965 [INFO] No options data returned for dell\n",
      "2025-08-27 10:41:49,766 [INFO] No options data returned for afrm\n",
      "2025-08-27 10:41:50,574 [INFO] No options data returned for mrvl\n",
      "2025-08-27 10:41:51,371 [INFO] No options data returned for ulta\n",
      "2025-08-27 10:41:52,177 [INFO] No options data returned for adsk\n",
      "2025-08-27 10:41:53,031 [INFO] No options data returned for gap\n",
      "2025-08-27 10:41:53,843 [INFO] No options data returned for baba\n",
      "2025-08-27 10:41:54,664 [INFO] No options data returned for td\n",
      "2025-08-27 10:41:55,472 [INFO] No options data returned for nvda\n",
      "2025-08-27 10:41:56,272 [INFO] No options data returned for crwd\n",
      "2025-08-27 10:41:57,117 [INFO] No options data returned for snow\n",
      "2025-08-27 10:41:57,928 [INFO] No options data returned for five\n",
      "2025-08-27 10:41:58,744 [INFO] No options data returned for bby\n",
      "2025-08-27 10:41:59,576 [INFO] No options data returned for dg\n",
      "2025-08-27 10:42:00,708 [INFO] No options data returned for dks\n",
      "2025-08-27 10:42:02,047 [INFO] No options data returned for dell\n",
      "2025-08-27 10:42:02,976 [INFO] No options data returned for afrm\n",
      "2025-08-27 10:42:03,834 [INFO] No options data returned for mrvl\n",
      "2025-08-27 10:42:05,248 [INFO] No options data returned for ulta\n",
      "2025-08-27 10:42:06,574 [INFO] No options data returned for adsk\n",
      "2025-08-27 10:42:07,880 [INFO] No options data returned for gap\n",
      "2025-08-27 10:42:08,791 [INFO] No options data returned for baba\n",
      "2025-08-27 10:42:09,693 [INFO] No options data returned for td\n",
      "2025-08-27 10:42:10,552 [INFO] No options data returned for nvda\n",
      "2025-08-27 10:42:11,431 [INFO] No options data returned for crwd\n",
      "2025-08-27 10:42:12,391 [INFO] No options data returned for snow\n",
      "2025-08-27 10:42:13,243 [INFO] No options data returned for five\n",
      "2025-08-27 10:42:14,104 [INFO] No options data returned for bby\n",
      "2025-08-27 10:42:14,923 [INFO] No options data returned for dg\n",
      "2025-08-27 10:42:15,927 [INFO] No options data returned for dks\n",
      "2025-08-27 10:42:16,771 [INFO] No options data returned for dell\n",
      "2025-08-27 10:42:17,635 [INFO] No options data returned for afrm\n",
      "2025-08-27 10:42:18,455 [INFO] No options data returned for mrvl\n",
      "2025-08-27 10:42:19,261 [INFO] No options data returned for ulta\n",
      "2025-08-27 10:42:20,131 [INFO] No options data returned for adsk\n",
      "2025-08-27 10:42:20,955 [INFO] No options data returned for gap\n",
      "2025-08-27 10:42:21,762 [INFO] No options data returned for baba\n",
      "2025-08-27 10:42:22,588 [INFO] No options data returned for td\n",
      "2025-08-27 10:42:23,483 [INFO] No options data returned for nvda\n",
      "2025-08-27 10:42:24,330 [INFO] No options data returned for crwd\n",
      "2025-08-27 10:42:25,165 [INFO] No options data returned for snow\n",
      "2025-08-27 10:42:25,992 [INFO] No options data returned for five\n",
      "2025-08-27 10:42:26,858 [INFO] No options data returned for bby\n",
      "2025-08-27 10:42:27,647 [INFO] No options data returned for dg\n",
      "2025-08-27 10:42:28,472 [INFO] No options data returned for dks\n",
      "2025-08-27 10:42:29,249 [INFO] No options data returned for dell\n",
      "2025-08-27 10:42:30,093 [INFO] No options data returned for afrm\n",
      "2025-08-27 10:42:30,898 [INFO] No options data returned for mrvl\n",
      "2025-08-27 10:42:31,700 [INFO] No options data returned for ulta\n",
      "2025-08-27 10:42:32,519 [INFO] No options data returned for adsk\n",
      "2025-08-27 10:42:33,311 [INFO] No options data returned for gap\n",
      "2025-08-27 10:42:34,155 [INFO] No options data returned for baba\n",
      "2025-08-27 10:42:34,970 [INFO] No options data returned for td\n",
      "2025-08-27 10:42:35,762 [INFO] No options data returned for nvda\n",
      "2025-08-27 10:42:36,632 [INFO] No options data returned for crwd\n",
      "2025-08-27 10:42:37,422 [INFO] No options data returned for snow\n",
      "2025-08-27 10:42:38,279 [INFO] No options data returned for five\n",
      "2025-08-27 10:42:39,092 [INFO] No options data returned for bby\n",
      "2025-08-27 10:42:40,045 [INFO] No options data returned for dg\n",
      "2025-08-27 10:42:40,902 [INFO] No options data returned for dks\n",
      "2025-08-27 10:42:41,760 [INFO] No options data returned for dell\n",
      "2025-08-27 10:42:42,533 [INFO] No options data returned for afrm\n",
      "2025-08-27 10:42:43,316 [INFO] No options data returned for mrvl\n",
      "2025-08-27 10:42:44,133 [INFO] No options data returned for ulta\n",
      "2025-08-27 10:42:44,924 [INFO] No options data returned for adsk\n",
      "2025-08-27 10:42:45,725 [INFO] No options data returned for gap\n",
      "2025-08-27 10:42:46,585 [INFO] No options data returned for baba\n",
      "2025-08-27 10:42:47,394 [INFO] No options data returned for td\n",
      "2025-08-27 10:42:48,277 [INFO] No options data returned for nvda\n",
      "2025-08-27 10:42:49,050 [INFO] No options data returned for crwd\n",
      "2025-08-27 10:42:49,865 [INFO] No options data returned for snow\n",
      "2025-08-27 10:42:50,702 [INFO] No options data returned for five\n",
      "2025-08-27 10:42:51,524 [INFO] No options data returned for bby\n",
      "2025-08-27 10:42:52,332 [INFO] No options data returned for dg\n",
      "2025-08-27 10:42:53,176 [INFO] No options data returned for dks\n",
      "2025-08-27 10:42:54,000 [INFO] No options data returned for dell\n",
      "2025-08-27 10:42:54,826 [INFO] No options data returned for afrm\n",
      "2025-08-27 10:42:55,626 [INFO] No options data returned for mrvl\n",
      "2025-08-27 10:42:56,442 [INFO] No options data returned for ulta\n",
      "2025-08-27 10:42:57,260 [INFO] No options data returned for adsk\n",
      "2025-08-27 10:42:58,058 [INFO] No options data returned for gap\n",
      "2025-08-27 10:42:58,918 [INFO] No options data returned for baba\n",
      "2025-08-27 10:42:59,762 [INFO] No options data returned for td\n",
      "2025-08-27 10:43:00,615 [INFO] No options data returned for nvda\n",
      "2025-08-27 10:43:01,432 [INFO] No options data returned for crwd\n",
      "2025-08-27 10:43:02,372 [INFO] No options data returned for snow\n",
      "2025-08-27 10:43:03,189 [INFO] No options data returned for five\n",
      "2025-08-27 10:43:04,013 [INFO] No options data returned for bby\n",
      "2025-08-27 10:43:04,802 [INFO] No options data returned for dg\n",
      "2025-08-27 10:43:05,614 [INFO] No options data returned for dks\n",
      "2025-08-27 10:43:06,431 [INFO] No options data returned for dell\n",
      "2025-08-27 10:43:07,244 [INFO] No options data returned for afrm\n",
      "2025-08-27 10:43:08,117 [INFO] No options data returned for mrvl\n",
      "2025-08-27 10:43:08,896 [INFO] No options data returned for ulta\n",
      "2025-08-27 10:43:09,839 [INFO] No options data returned for adsk\n",
      "2025-08-27 10:43:10,748 [INFO] No options data returned for gap\n",
      "2025-08-27 10:43:11,924 [INFO] No options data returned for baba\n",
      "2025-08-27 10:43:13,117 [INFO] No options data returned for td\n",
      "2025-08-27 10:43:13,948 [INFO] No options data returned for nvda\n",
      "2025-08-27 10:43:14,760 [INFO] No options data returned for crwd\n",
      "2025-08-27 10:43:15,590 [INFO] No options data returned for snow\n",
      "2025-08-27 10:43:16,444 [INFO] No options data returned for five\n",
      "2025-08-27 10:43:17,321 [INFO] No options data returned for bby\n",
      "2025-08-27 10:43:18,106 [INFO] No options data returned for dg\n",
      "2025-08-27 10:43:18,922 [INFO] No options data returned for dks\n",
      "2025-08-27 10:43:19,753 [INFO] No options data returned for dell\n",
      "2025-08-27 10:43:20,553 [INFO] No options data returned for afrm\n",
      "2025-08-27 10:43:21,409 [INFO] No options data returned for mrvl\n",
      "2025-08-27 10:43:22,251 [INFO] No options data returned for ulta\n",
      "2025-08-27 10:43:23,085 [INFO] No options data returned for adsk\n",
      "2025-08-27 10:43:23,950 [INFO] No options data returned for gap\n",
      "2025-08-27 10:43:24,751 [INFO] No options data returned for baba\n",
      "2025-08-27 10:43:25,553 [INFO] No options data returned for td\n",
      "2025-08-27 10:43:26,434 [INFO] No options data returned for nvda\n",
      "2025-08-27 10:43:27,275 [INFO] No options data returned for crwd\n",
      "2025-08-27 10:43:28,099 [INFO] No options data returned for snow\n",
      "2025-08-27 10:43:28,959 [INFO] No options data returned for five\n",
      "2025-08-27 10:43:29,760 [INFO] No options data returned for bby\n",
      "2025-08-27 10:43:30,576 [INFO] No options data returned for dg\n",
      "2025-08-27 10:43:31,405 [INFO] No options data returned for dks\n",
      "2025-08-27 10:43:32,235 [INFO] No options data returned for dell\n",
      "2025-08-27 10:43:33,071 [INFO] No options data returned for afrm\n",
      "2025-08-27 10:43:33,893 [INFO] No options data returned for mrvl\n",
      "2025-08-27 10:43:34,773 [INFO] No options data returned for ulta\n",
      "2025-08-27 10:43:35,595 [INFO] No options data returned for adsk\n",
      "2025-08-27 10:43:36,576 [INFO] No options data returned for gap\n",
      "2025-08-27 10:43:37,456 [INFO] No options data returned for baba\n",
      "2025-08-27 10:43:38,290 [INFO] No options data returned for td\n",
      "2025-08-27 10:43:39,227 [INFO] No options data returned for nvda\n",
      "2025-08-27 10:43:40,057 [INFO] No options data returned for crwd\n",
      "2025-08-27 10:43:40,877 [INFO] No options data returned for snow\n",
      "2025-08-27 10:43:41,757 [INFO] No options data returned for five\n",
      "2025-08-27 10:43:42,628 [INFO] No options data returned for bby\n",
      "2025-08-27 10:43:43,446 [INFO] No options data returned for dg\n",
      "2025-08-27 10:43:44,240 [INFO] No options data returned for dks\n",
      "2025-08-27 10:43:45,151 [INFO] No options data returned for dell\n",
      "2025-08-27 10:43:45,948 [INFO] No options data returned for afrm\n",
      "2025-08-27 10:43:46,788 [INFO] No options data returned for mrvl\n",
      "2025-08-27 10:43:47,594 [INFO] No options data returned for ulta\n",
      "2025-08-27 10:43:48,426 [INFO] No options data returned for adsk\n",
      "2025-08-27 10:43:49,244 [INFO] No options data returned for gap\n",
      "2025-08-27 10:43:50,071 [INFO] No options data returned for baba\n",
      "2025-08-27 10:43:50,898 [INFO] No options data returned for td\n",
      "2025-08-27 10:43:51,759 [INFO] No options data returned for nvda\n",
      "2025-08-27 10:43:52,602 [INFO] No options data returned for crwd\n",
      "2025-08-27 10:43:53,434 [INFO] No options data returned for snow\n",
      "2025-08-27 10:43:54,413 [INFO] No options data returned for five\n",
      "2025-08-27 10:43:55,250 [INFO] No options data returned for bby\n",
      "2025-08-27 10:43:56,054 [INFO] No options data returned for dg\n",
      "2025-08-27 10:43:56,949 [INFO] No options data returned for dks\n",
      "2025-08-27 10:43:57,784 [INFO] No options data returned for dell\n",
      "2025-08-27 10:43:58,617 [INFO] No options data returned for afrm\n",
      "2025-08-27 10:43:59,442 [INFO] No options data returned for mrvl\n",
      "2025-08-27 10:44:00,248 [INFO] No options data returned for ulta\n",
      "2025-08-27 10:44:01,249 [INFO] No options data returned for adsk\n",
      "2025-08-27 10:44:02,194 [INFO] No options data returned for gap\n",
      "2025-08-27 10:44:03,033 [INFO] No options data returned for baba\n",
      "2025-08-27 10:44:03,908 [INFO] No options data returned for td\n",
      "2025-08-27 10:44:04,740 [INFO] No options data returned for nvda\n",
      "2025-08-27 10:44:05,597 [INFO] No options data returned for crwd\n",
      "2025-08-27 10:44:06,494 [INFO] No options data returned for snow\n",
      "2025-08-27 10:44:07,313 [INFO] No options data returned for five\n",
      "2025-08-27 10:44:08,137 [INFO] No options data returned for bby\n",
      "2025-08-27 10:44:09,181 [INFO] No options data returned for dg\n",
      "2025-08-27 10:44:10,027 [INFO] No options data returned for dks\n",
      "2025-08-27 10:44:10,891 [INFO] No options data returned for dell\n",
      "2025-08-27 10:44:11,755 [INFO] No options data returned for afrm\n",
      "2025-08-27 10:44:12,581 [INFO] No options data returned for mrvl\n",
      "2025-08-27 10:44:13,410 [INFO] No options data returned for ulta\n",
      "2025-08-27 10:44:14,233 [INFO] No options data returned for adsk\n",
      "2025-08-27 10:44:15,185 [INFO] No options data returned for gap\n",
      "2025-08-27 10:44:16,005 [INFO] No options data returned for baba\n",
      "2025-08-27 10:44:16,807 [INFO] No options data returned for td\n",
      "2025-08-27 10:44:17,659 [INFO] No options data returned for nvda\n",
      "2025-08-27 10:44:18,527 [INFO] No options data returned for crwd\n",
      "2025-08-27 10:44:19,706 [INFO] No options data returned for snow\n",
      "2025-08-27 10:44:21,332 [INFO] No options data returned for five\n",
      "2025-08-27 10:44:22,321 [INFO] No options data returned for bby\n",
      "2025-08-27 10:44:23,226 [INFO] No options data returned for dg\n",
      "2025-08-27 10:44:24,071 [INFO] No options data returned for dks\n",
      "2025-08-27 10:44:24,865 [INFO] No options data returned for dell\n",
      "2025-08-27 10:44:25,719 [INFO] No options data returned for afrm\n",
      "2025-08-27 10:44:26,591 [INFO] No options data returned for mrvl\n",
      "2025-08-27 10:44:27,445 [INFO] No options data returned for ulta\n",
      "2025-08-27 10:44:28,288 [INFO] No options data returned for adsk\n",
      "2025-08-27 10:44:29,135 [INFO] No options data returned for gap\n",
      "2025-08-27 10:44:29,958 [INFO] No options data returned for baba\n",
      "2025-08-27 10:44:30,793 [INFO] No options data returned for td\n",
      "2025-08-27 10:44:31,618 [INFO] No options data returned for nvda\n",
      "2025-08-27 10:44:32,424 [INFO] No options data returned for crwd\n",
      "2025-08-27 10:44:33,272 [INFO] No options data returned for snow\n",
      "2025-08-27 10:44:34,110 [INFO] No options data returned for five\n",
      "2025-08-27 10:44:34,918 [INFO] No options data returned for bby\n",
      "2025-08-27 10:44:35,722 [INFO] No options data returned for dg\n",
      "2025-08-27 10:44:36,554 [INFO] No options data returned for dks\n",
      "2025-08-27 10:44:37,364 [INFO] No options data returned for dell\n",
      "2025-08-27 10:44:38,189 [INFO] No options data returned for afrm\n",
      "2025-08-27 10:44:38,999 [INFO] No options data returned for mrvl\n",
      "2025-08-27 10:44:39,860 [INFO] No options data returned for ulta\n",
      "2025-08-27 10:44:40,759 [INFO] No options data returned for adsk\n",
      "2025-08-27 10:44:41,558 [INFO] No options data returned for gap\n",
      "2025-08-27 10:44:42,359 [INFO] No options data returned for baba\n",
      "2025-08-27 10:44:43,191 [INFO] No options data returned for td\n",
      "2025-08-27 10:44:44,021 [INFO] No options data returned for nvda\n",
      "2025-08-27 10:44:44,866 [INFO] No options data returned for crwd\n",
      "2025-08-27 10:44:45,689 [INFO] No options data returned for snow\n",
      "2025-08-27 10:44:46,542 [INFO] No options data returned for five\n",
      "2025-08-27 10:44:47,330 [INFO] No options data returned for bby\n",
      "2025-08-27 10:44:48,256 [INFO] No options data returned for dg\n",
      "2025-08-27 10:44:49,110 [INFO] No options data returned for dks\n",
      "2025-08-27 10:44:50,002 [INFO] No options data returned for dell\n",
      "2025-08-27 10:44:50,795 [INFO] No options data returned for afrm\n",
      "2025-08-27 10:44:51,646 [INFO] No options data returned for mrvl\n",
      "2025-08-27 10:44:52,487 [INFO] No options data returned for ulta\n",
      "2025-08-27 10:44:53,310 [INFO] No options data returned for adsk\n",
      "2025-08-27 10:44:54,102 [INFO] No options data returned for gap\n",
      "2025-08-27 10:44:54,904 [INFO] No options data returned for baba\n",
      "2025-08-27 10:44:55,714 [INFO] No options data returned for td\n",
      "2025-08-27 10:44:56,590 [INFO] No options data returned for nvda\n",
      "2025-08-27 10:44:57,357 [INFO] No options data returned for crwd\n",
      "2025-08-27 10:44:58,197 [INFO] No options data returned for snow\n",
      "2025-08-27 10:44:59,041 [INFO] No options data returned for five\n",
      "2025-08-27 10:45:00,023 [INFO] No options data returned for bby\n",
      "2025-08-27 10:45:01,021 [INFO] No options data returned for dg\n",
      "2025-08-27 10:45:02,022 [INFO] No options data returned for dks\n",
      "2025-08-27 10:45:03,641 [INFO] No options data returned for dell\n",
      "2025-08-27 10:45:04,490 [INFO] No options data returned for afrm\n",
      "2025-08-27 10:45:05,377 [INFO] No options data returned for mrvl\n",
      "2025-08-27 10:45:06,217 [INFO] No options data returned for ulta\n",
      "2025-08-27 10:45:07,060 [INFO] No options data returned for adsk\n",
      "2025-08-27 10:45:07,933 [INFO] No options data returned for gap\n",
      "2025-08-27 10:45:08,901 [INFO] No options data returned for baba\n",
      "2025-08-27 10:45:09,859 [INFO] No options data returned for td\n"
     ]
    }
   ],
   "source": [
    "# When ready: run analysis\n",
    "basic_results_df = basic_screener(\n",
    "    days_groups, call_stock_gains, put_stock_gains, itm_strikes, otm_strikes, tickers, days_to_gain_pcts, option_types\n",
    ")"
   ]
  }
 ],
 "metadata": {
  "kernelspec": {
   "display_name": "Python 3 (ipykernel)",
   "language": "python",
   "name": "python3"
  },
  "language_info": {
   "codemirror_mode": {
    "name": "ipython",
    "version": 3
   },
   "file_extension": ".py",
   "mimetype": "text/x-python",
   "name": "python",
   "nbconvert_exporter": "python",
   "pygments_lexer": "ipython3",
   "version": "3.9.23"
  }
 },
 "nbformat": 4,
 "nbformat_minor": 5
}
