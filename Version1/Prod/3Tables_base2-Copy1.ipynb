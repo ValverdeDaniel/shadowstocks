{
 "cells": [
  {
   "cell_type": "code",
   "execution_count": 1,
   "id": "a002b47e-8290-49e2-a39e-d99001a1d839",
   "metadata": {},
   "outputs": [],
   "source": [
    "%run fundamentalFunctions.ipynb\n",
    "%run epsTrendFunctions.ipynb"
   ]
  },
  {
   "cell_type": "markdown",
   "id": "412ca6c3-1ffc-4b0e-af28-24e857d3cead",
   "metadata": {},
   "source": [
    "# Fundamentals"
   ]
  },
  {
   "cell_type": "code",
   "execution_count": 2,
   "id": "8bcaaa5a-9ab6-409b-8a4f-c3b4ffafe007",
   "metadata": {},
   "outputs": [],
   "source": [
    "# raw1 = ['aapl', 'msft', 'amd', 'nvda', 'goog', 'hsy', 'u', 'rddt', 'mu', 'unh', 'hum', 'hd', 'intc', 'uber', 'oscr', 'sofi', 'cvs', 'gm', 'f', 'mdb', 'hood', 'tsla', 'nflx', 'lz', 'duol', 'sbux', 'coin']\n",
    "# raw1 = ['msft', 'aapl', 'goog', 'amzn', 'meta', 'lulu', 'iren', 'fi', 'amd', 'uber', 'duol', 'unh', 'hum', 'rddt' ]\n",
    "# raw1 = ['msft', 'aapl', 'goog', 'amzn', 'lulu', 'iren', 'uber', 'unh']\n",
    "# raw1= ['goog']\n",
    "# raw1 = ['pep', 'vz', 'dpz', 'ko', 'gm', 'txn', 'T', 'fi', 'goog', 'tsla', 'cmg', 'ibm', 'tmus', 'intc' ]\n",
    "# raw1 = ['wm', 'pypl', 'sofi', 'spot', 'ups', 'rcl', 'sbux', 'msft', 'meta', 'hood', 'qcom', 'cvna', 'f', 'hsy', 'wing', 'rblx', 'amzn', 'aapl', 'coin', 'rddt', 'dkng', 'roku', 'cvx', 'cl', 'xom', 'amc']\n",
    "# raw1 = ['pep', 'vz', 'dpz', 'ko', 'gm', 'txn', 'T', 'fi', 'goog', 'tsla', 'cmg', 'ibm', 'tmus', 'intc', 'wm', 'pypl', 'sofi', 'spot', 'ups', 'rcl', 'sbux', 'msft', 'meta', 'hood', 'qcom', 'cvna', 'f', 'hsy', 'wing', 'rblx', 'amzn', 'aapl', 'coin', 'rddt', 'dkng', 'roku', 'cvx', 'cl', 'xom', 'amc']\n",
    "raw1 = ['tmus', 'adbe', 'goog', 'ibm', 'hood', 'cflt', 'lulu', 'intc']"
   ]
  },
  {
   "cell_type": "code",
   "execution_count": 3,
   "id": "571ae3ee-6b31-4276-9f0b-72e33d89dd1a",
   "metadata": {},
   "outputs": [
    {
     "name": "stdout",
     "output_type": "stream",
     "text": [
      "['tmus.US', 'adbe.US', 'goog.US', 'ibm.US', 'hood.US', 'cflt.US', 'lulu.US', 'intc.US']\n"
     ]
    },
    {
     "data": {
      "text/html": [
       "<div>\n",
       "<style scoped>\n",
       "    .dataframe tbody tr th:only-of-type {\n",
       "        vertical-align: middle;\n",
       "    }\n",
       "\n",
       "    .dataframe tbody tr th {\n",
       "        vertical-align: top;\n",
       "    }\n",
       "\n",
       "    .dataframe thead th {\n",
       "        text-align: right;\n",
       "    }\n",
       "</style>\n",
       "<table border=\"1\" class=\"dataframe\">\n",
       "  <thead>\n",
       "    <tr style=\"text-align: right;\">\n",
       "      <th></th>\n",
       "      <th>Ticker</th>\n",
       "      <th>Current Price</th>\n",
       "      <th>All-Time High</th>\n",
       "      <th>ATH %Chg</th>\n",
       "      <th>6-Month High</th>\n",
       "      <th>Recent-High %Chg</th>\n",
       "      <th>5-Year High</th>\n",
       "      <th>Current P/E</th>\n",
       "      <th>Avg 5-Year P/E</th>\n",
       "      <th>Fair Value (TTM)</th>\n",
       "      <th>Fair Value %Chg</th>\n",
       "      <th>Avg P/E × Fwd EPS</th>\n",
       "      <th>MACD (12,26,9)</th>\n",
       "      <th>MACD Signal</th>\n",
       "      <th>RSI (1 yr)</th>\n",
       "      <th>Live Price Time</th>\n",
       "    </tr>\n",
       "  </thead>\n",
       "  <tbody>\n",
       "    <tr>\n",
       "      <th>0</th>\n",
       "      <td>tmus</td>\n",
       "      <td>250.31</td>\n",
       "      <td>271.8267</td>\n",
       "      <td>-0.079156</td>\n",
       "      <td>271.8267</td>\n",
       "      <td>-0.079156</td>\n",
       "      <td>271.8267</td>\n",
       "      <td>23.636500</td>\n",
       "      <td>38.249431</td>\n",
       "      <td>405.061477</td>\n",
       "      <td>0.618239</td>\n",
       "      <td>496.955736</td>\n",
       "      <td>4.138938</td>\n",
       "      <td>3.015683</td>\n",
       "      <td>63.637953</td>\n",
       "      <td>2025-08-14 16:24:00</td>\n",
       "    </tr>\n",
       "    <tr>\n",
       "      <th>1</th>\n",
       "      <td>adbe</td>\n",
       "      <td>348.58</td>\n",
       "      <td>688.3700</td>\n",
       "      <td>-0.493615</td>\n",
       "      <td>464.1100</td>\n",
       "      <td>-0.248928</td>\n",
       "      <td>688.3700</td>\n",
       "      <td>22.316300</td>\n",
       "      <td>33.117158</td>\n",
       "      <td>517.290016</td>\n",
       "      <td>0.483992</td>\n",
       "      <td>765.138830</td>\n",
       "      <td>-8.439416</td>\n",
       "      <td>-9.348894</td>\n",
       "      <td>43.207817</td>\n",
       "      <td>2025-08-14 16:05:00</td>\n",
       "    </tr>\n",
       "    <tr>\n",
       "      <th>2</th>\n",
       "      <td>goog</td>\n",
       "      <td>203.82</td>\n",
       "      <td>207.2245</td>\n",
       "      <td>-0.016429</td>\n",
       "      <td>204.1600</td>\n",
       "      <td>-0.001665</td>\n",
       "      <td>207.2245</td>\n",
       "      <td>21.729200</td>\n",
       "      <td>27.465511</td>\n",
       "      <td>257.626496</td>\n",
       "      <td>0.263990</td>\n",
       "      <td>292.510442</td>\n",
       "      <td>5.566374</td>\n",
       "      <td>5.307424</td>\n",
       "      <td>71.131980</td>\n",
       "      <td>2025-08-14 16:28:00</td>\n",
       "    </tr>\n",
       "    <tr>\n",
       "      <th>3</th>\n",
       "      <td>ibm</td>\n",
       "      <td>237.11</td>\n",
       "      <td>292.8003</td>\n",
       "      <td>-0.190199</td>\n",
       "      <td>292.8003</td>\n",
       "      <td>-0.190199</td>\n",
       "      <td>292.8003</td>\n",
       "      <td>38.305300</td>\n",
       "      <td>23.256275</td>\n",
       "      <td>143.956341</td>\n",
       "      <td>-0.392871</td>\n",
       "      <td>276.021748</td>\n",
       "      <td>-10.765707</td>\n",
       "      <td>-9.312549</td>\n",
       "      <td>26.549850</td>\n",
       "      <td>2025-08-14 16:18:00</td>\n",
       "    </tr>\n",
       "    <tr>\n",
       "      <th>4</th>\n",
       "      <td>hood</td>\n",
       "      <td>110.71</td>\n",
       "      <td>114.6300</td>\n",
       "      <td>-0.034197</td>\n",
       "      <td>114.6300</td>\n",
       "      <td>-0.034197</td>\n",
       "      <td>114.6300</td>\n",
       "      <td>56.198000</td>\n",
       "      <td>24.260968</td>\n",
       "      <td>47.794107</td>\n",
       "      <td>-0.568295</td>\n",
       "      <td>50.576840</td>\n",
       "      <td>4.753006</td>\n",
       "      <td>5.205256</td>\n",
       "      <td>60.324456</td>\n",
       "      <td>2025-08-14 16:29:00</td>\n",
       "    </tr>\n",
       "    <tr>\n",
       "      <th>5</th>\n",
       "      <td>cflt</td>\n",
       "      <td>17.85</td>\n",
       "      <td>93.6000</td>\n",
       "      <td>-0.809295</td>\n",
       "      <td>34.9400</td>\n",
       "      <td>-0.489124</td>\n",
       "      <td>93.6000</td>\n",
       "      <td>-19.193548</td>\n",
       "      <td>1.654349</td>\n",
       "      <td>-1.538545</td>\n",
       "      <td>-1.086193</td>\n",
       "      <td>0.768942</td>\n",
       "      <td>-2.057182</td>\n",
       "      <td>-1.841127</td>\n",
       "      <td>34.012622</td>\n",
       "      <td>2025-08-14 16:28:00</td>\n",
       "    </tr>\n",
       "    <tr>\n",
       "      <th>6</th>\n",
       "      <td>lulu</td>\n",
       "      <td>195.19</td>\n",
       "      <td>511.2900</td>\n",
       "      <td>-0.618240</td>\n",
       "      <td>372.4400</td>\n",
       "      <td>-0.475916</td>\n",
       "      <td>511.2900</td>\n",
       "      <td>13.278200</td>\n",
       "      <td>43.836227</td>\n",
       "      <td>644.392538</td>\n",
       "      <td>2.301360</td>\n",
       "      <td>675.051595</td>\n",
       "      <td>-11.122804</td>\n",
       "      <td>-12.341601</td>\n",
       "      <td>36.257062</td>\n",
       "      <td>2025-08-14 16:28:00</td>\n",
       "    </tr>\n",
       "    <tr>\n",
       "      <th>7</th>\n",
       "      <td>intc</td>\n",
       "      <td>23.86</td>\n",
       "      <td>62.0851</td>\n",
       "      <td>-0.615689</td>\n",
       "      <td>27.3900</td>\n",
       "      <td>-0.128879</td>\n",
       "      <td>62.0851</td>\n",
       "      <td>-5.002096</td>\n",
       "      <td>142.257912</td>\n",
       "      <td>-678.570241</td>\n",
       "      <td>-29.439658</td>\n",
       "      <td>94.117835</td>\n",
       "      <td>0.166426</td>\n",
       "      <td>-0.249784</td>\n",
       "      <td>66.231277</td>\n",
       "      <td>2025-08-14 16:29:00</td>\n",
       "    </tr>\n",
       "  </tbody>\n",
       "</table>\n",
       "</div>"
      ],
      "text/plain": [
       "  Ticker  Current Price  All-Time High  ATH %Chg  6-Month High  \\\n",
       "0   tmus         250.31       271.8267 -0.079156      271.8267   \n",
       "1   adbe         348.58       688.3700 -0.493615      464.1100   \n",
       "2   goog         203.82       207.2245 -0.016429      204.1600   \n",
       "3    ibm         237.11       292.8003 -0.190199      292.8003   \n",
       "4   hood         110.71       114.6300 -0.034197      114.6300   \n",
       "5   cflt          17.85        93.6000 -0.809295       34.9400   \n",
       "6   lulu         195.19       511.2900 -0.618240      372.4400   \n",
       "7   intc          23.86        62.0851 -0.615689       27.3900   \n",
       "\n",
       "   Recent-High %Chg  5-Year High  Current P/E  Avg 5-Year P/E  \\\n",
       "0         -0.079156     271.8267    23.636500       38.249431   \n",
       "1         -0.248928     688.3700    22.316300       33.117158   \n",
       "2         -0.001665     207.2245    21.729200       27.465511   \n",
       "3         -0.190199     292.8003    38.305300       23.256275   \n",
       "4         -0.034197     114.6300    56.198000       24.260968   \n",
       "5         -0.489124      93.6000   -19.193548        1.654349   \n",
       "6         -0.475916     511.2900    13.278200       43.836227   \n",
       "7         -0.128879      62.0851    -5.002096      142.257912   \n",
       "\n",
       "   Fair Value (TTM)  Fair Value %Chg  Avg P/E × Fwd EPS  MACD (12,26,9)  \\\n",
       "0        405.061477         0.618239         496.955736        4.138938   \n",
       "1        517.290016         0.483992         765.138830       -8.439416   \n",
       "2        257.626496         0.263990         292.510442        5.566374   \n",
       "3        143.956341        -0.392871         276.021748      -10.765707   \n",
       "4         47.794107        -0.568295          50.576840        4.753006   \n",
       "5         -1.538545        -1.086193           0.768942       -2.057182   \n",
       "6        644.392538         2.301360         675.051595      -11.122804   \n",
       "7       -678.570241       -29.439658          94.117835        0.166426   \n",
       "\n",
       "   MACD Signal  RSI (1 yr)     Live Price Time  \n",
       "0     3.015683   63.637953 2025-08-14 16:24:00  \n",
       "1    -9.348894   43.207817 2025-08-14 16:05:00  \n",
       "2     5.307424   71.131980 2025-08-14 16:28:00  \n",
       "3    -9.312549   26.549850 2025-08-14 16:18:00  \n",
       "4     5.205256   60.324456 2025-08-14 16:29:00  \n",
       "5    -1.841127   34.012622 2025-08-14 16:28:00  \n",
       "6   -12.341601   36.257062 2025-08-14 16:28:00  \n",
       "7    -0.249784   66.231277 2025-08-14 16:29:00  "
      ]
     },
     "metadata": {},
     "output_type": "display_data"
    }
   ],
   "source": [
    "\n",
    "\n",
    "tickers = [f\"{t}.US\" for t in raw1]\n",
    "print(tickers)\n",
    "dfFundamentals = FundamentalsBuilder(tickers)\n",
    "display(dfFundamentals)\n",
    "dfFundamentals.to_csv('Fundamentals.csv', index=False)\n"
   ]
  },
  {
   "cell_type": "code",
   "execution_count": 7,
   "id": "4716d3bc-f63f-41f4-969e-d223c8fe6061",
   "metadata": {},
   "outputs": [
    {
     "data": {
      "text/html": [
       "<div>\n",
       "<style scoped>\n",
       "    .dataframe tbody tr th:only-of-type {\n",
       "        vertical-align: middle;\n",
       "    }\n",
       "\n",
       "    .dataframe tbody tr th {\n",
       "        vertical-align: top;\n",
       "    }\n",
       "\n",
       "    .dataframe thead th {\n",
       "        text-align: right;\n",
       "    }\n",
       "</style>\n",
       "<table border=\"1\" class=\"dataframe\">\n",
       "  <thead>\n",
       "    <tr style=\"text-align: right;\">\n",
       "      <th></th>\n",
       "      <th>Ticker</th>\n",
       "      <th>Current Price</th>\n",
       "      <th>All-Time High</th>\n",
       "      <th>ATH %Chg</th>\n",
       "      <th>6-Month High</th>\n",
       "      <th>Recent-High %Chg</th>\n",
       "      <th>RSI (1 yr)</th>\n",
       "      <th>MACD (12,26,9)</th>\n",
       "      <th>MACD Signal</th>\n",
       "    </tr>\n",
       "  </thead>\n",
       "  <tbody>\n",
       "    <tr>\n",
       "      <th>0</th>\n",
       "      <td>tmus</td>\n",
       "      <td>250.31</td>\n",
       "      <td>271.8267</td>\n",
       "      <td>-0.079156</td>\n",
       "      <td>271.8267</td>\n",
       "      <td>-0.079156</td>\n",
       "      <td>63.637953</td>\n",
       "      <td>4.138938</td>\n",
       "      <td>3.015683</td>\n",
       "    </tr>\n",
       "    <tr>\n",
       "      <th>1</th>\n",
       "      <td>adbe</td>\n",
       "      <td>348.58</td>\n",
       "      <td>688.3700</td>\n",
       "      <td>-0.493615</td>\n",
       "      <td>464.1100</td>\n",
       "      <td>-0.248928</td>\n",
       "      <td>43.207817</td>\n",
       "      <td>-8.439416</td>\n",
       "      <td>-9.348894</td>\n",
       "    </tr>\n",
       "    <tr>\n",
       "      <th>2</th>\n",
       "      <td>goog</td>\n",
       "      <td>203.82</td>\n",
       "      <td>207.2245</td>\n",
       "      <td>-0.016429</td>\n",
       "      <td>204.1600</td>\n",
       "      <td>-0.001665</td>\n",
       "      <td>71.131980</td>\n",
       "      <td>5.566374</td>\n",
       "      <td>5.307424</td>\n",
       "    </tr>\n",
       "    <tr>\n",
       "      <th>3</th>\n",
       "      <td>ibm</td>\n",
       "      <td>237.11</td>\n",
       "      <td>292.8003</td>\n",
       "      <td>-0.190199</td>\n",
       "      <td>292.8003</td>\n",
       "      <td>-0.190199</td>\n",
       "      <td>26.549850</td>\n",
       "      <td>-10.765707</td>\n",
       "      <td>-9.312549</td>\n",
       "    </tr>\n",
       "    <tr>\n",
       "      <th>4</th>\n",
       "      <td>hood</td>\n",
       "      <td>110.71</td>\n",
       "      <td>114.6300</td>\n",
       "      <td>-0.034197</td>\n",
       "      <td>114.6300</td>\n",
       "      <td>-0.034197</td>\n",
       "      <td>60.324456</td>\n",
       "      <td>4.753006</td>\n",
       "      <td>5.205256</td>\n",
       "    </tr>\n",
       "    <tr>\n",
       "      <th>5</th>\n",
       "      <td>cflt</td>\n",
       "      <td>17.85</td>\n",
       "      <td>93.6000</td>\n",
       "      <td>-0.809295</td>\n",
       "      <td>34.9400</td>\n",
       "      <td>-0.489124</td>\n",
       "      <td>34.012622</td>\n",
       "      <td>-2.057182</td>\n",
       "      <td>-1.841127</td>\n",
       "    </tr>\n",
       "    <tr>\n",
       "      <th>6</th>\n",
       "      <td>lulu</td>\n",
       "      <td>195.19</td>\n",
       "      <td>511.2900</td>\n",
       "      <td>-0.618240</td>\n",
       "      <td>372.4400</td>\n",
       "      <td>-0.475916</td>\n",
       "      <td>36.257062</td>\n",
       "      <td>-11.122804</td>\n",
       "      <td>-12.341601</td>\n",
       "    </tr>\n",
       "    <tr>\n",
       "      <th>7</th>\n",
       "      <td>intc</td>\n",
       "      <td>23.86</td>\n",
       "      <td>62.0851</td>\n",
       "      <td>-0.615689</td>\n",
       "      <td>27.3900</td>\n",
       "      <td>-0.128879</td>\n",
       "      <td>66.231277</td>\n",
       "      <td>0.166426</td>\n",
       "      <td>-0.249784</td>\n",
       "    </tr>\n",
       "  </tbody>\n",
       "</table>\n",
       "</div>"
      ],
      "text/plain": [
       "  Ticker  Current Price  All-Time High  ATH %Chg  6-Month High  \\\n",
       "0   tmus         250.31       271.8267 -0.079156      271.8267   \n",
       "1   adbe         348.58       688.3700 -0.493615      464.1100   \n",
       "2   goog         203.82       207.2245 -0.016429      204.1600   \n",
       "3    ibm         237.11       292.8003 -0.190199      292.8003   \n",
       "4   hood         110.71       114.6300 -0.034197      114.6300   \n",
       "5   cflt          17.85        93.6000 -0.809295       34.9400   \n",
       "6   lulu         195.19       511.2900 -0.618240      372.4400   \n",
       "7   intc          23.86        62.0851 -0.615689       27.3900   \n",
       "\n",
       "   Recent-High %Chg  RSI (1 yr)  MACD (12,26,9)  MACD Signal  \n",
       "0         -0.079156   63.637953        4.138938     3.015683  \n",
       "1         -0.248928   43.207817       -8.439416    -9.348894  \n",
       "2         -0.001665   71.131980        5.566374     5.307424  \n",
       "3         -0.190199   26.549850      -10.765707    -9.312549  \n",
       "4         -0.034197   60.324456        4.753006     5.205256  \n",
       "5         -0.489124   34.012622       -2.057182    -1.841127  \n",
       "6         -0.475916   36.257062      -11.122804   -12.341601  \n",
       "7         -0.128879   66.231277        0.166426    -0.249784  "
      ]
     },
     "metadata": {},
     "output_type": "display_data"
    }
   ],
   "source": [
    "summaryNoFV = dfFundamentals[['Ticker','Current Price', \"All-Time High\", \"ATH %Chg\", \"6-Month High\", 'Recent-High %Chg', \"RSI (1 yr)\", \"MACD (12,26,9)\", \"MACD Signal\"]]\n",
    "display(summaryNoFV)"
   ]
  },
  {
   "cell_type": "markdown",
   "id": "45a75490-2b87-464e-8a2d-3fef42bbebc4",
   "metadata": {},
   "source": [
    "# epsTrends table"
   ]
  },
  {
   "cell_type": "code",
   "execution_count": 4,
   "id": "910d268d-9e02-4627-acc8-d521bdbe51b1",
   "metadata": {},
   "outputs": [
    {
     "name": "stdout",
     "output_type": "stream",
     "text": [
      "tmus.US ...ok\n",
      "adbe.US ...ok\n",
      "goog.US ...ok\n",
      "ibm.US ...ok\n",
      "hood.US ...ok\n",
      "cflt.US ...ok\n",
      "lulu.US ...ok\n",
      "intc.US ...ok\n"
     ]
    },
    {
     "data": {
      "text/html": [
       "<div>\n",
       "<style scoped>\n",
       "    .dataframe tbody tr th:only-of-type {\n",
       "        vertical-align: middle;\n",
       "    }\n",
       "\n",
       "    .dataframe tbody tr th {\n",
       "        vertical-align: top;\n",
       "    }\n",
       "\n",
       "    .dataframe thead th {\n",
       "        text-align: right;\n",
       "    }\n",
       "</style>\n",
       "<table border=\"1\" class=\"dataframe\">\n",
       "  <thead>\n",
       "    <tr style=\"text-align: right;\">\n",
       "      <th></th>\n",
       "      <th>Ticker</th>\n",
       "      <th>Curr Qtr Curr</th>\n",
       "      <th>Curr Qtr 7</th>\n",
       "      <th>Curr Qtr 30</th>\n",
       "      <th>Curr Qtr 60</th>\n",
       "      <th>Curr Qtr 90</th>\n",
       "      <th>Next Qtr Curr</th>\n",
       "      <th>Next Qtr 7</th>\n",
       "      <th>Next Qtr 30</th>\n",
       "      <th>Next Qtr 60</th>\n",
       "      <th>...</th>\n",
       "      <th>Curr Yr Curr</th>\n",
       "      <th>Curr Yr 7</th>\n",
       "      <th>Curr Yr 30</th>\n",
       "      <th>Curr Yr 60</th>\n",
       "      <th>Curr Yr 90</th>\n",
       "      <th>Next Yr Curr</th>\n",
       "      <th>Next Yr 7</th>\n",
       "      <th>Next Yr 30</th>\n",
       "      <th>Next Yr 60</th>\n",
       "      <th>Next Yr 90</th>\n",
       "    </tr>\n",
       "  </thead>\n",
       "  <tbody>\n",
       "    <tr>\n",
       "      <th>0</th>\n",
       "      <td>tmus</td>\n",
       "      <td>2.8148</td>\n",
       "      <td>2.8187</td>\n",
       "      <td>2.8283</td>\n",
       "      <td>2.8203</td>\n",
       "      <td>2.8223</td>\n",
       "      <td>NaN</td>\n",
       "      <td>NaN</td>\n",
       "      <td>NaN</td>\n",
       "      <td>NaN</td>\n",
       "      <td>...</td>\n",
       "      <td>10.9054</td>\n",
       "      <td>10.9057</td>\n",
       "      <td>10.6948</td>\n",
       "      <td>10.7228</td>\n",
       "      <td>10.7315</td>\n",
       "      <td>12.9925</td>\n",
       "      <td>12.9858</td>\n",
       "      <td>12.6364</td>\n",
       "      <td>12.6805</td>\n",
       "      <td>12.7028</td>\n",
       "    </tr>\n",
       "    <tr>\n",
       "      <th>1</th>\n",
       "      <td>adbe</td>\n",
       "      <td>5.1777</td>\n",
       "      <td>5.1763</td>\n",
       "      <td>5.1763</td>\n",
       "      <td>5.1010</td>\n",
       "      <td>5.1010</td>\n",
       "      <td>NaN</td>\n",
       "      <td>NaN</td>\n",
       "      <td>NaN</td>\n",
       "      <td>NaN</td>\n",
       "      <td>...</td>\n",
       "      <td>20.5751</td>\n",
       "      <td>20.5611</td>\n",
       "      <td>20.5610</td>\n",
       "      <td>20.3629</td>\n",
       "      <td>20.3606</td>\n",
       "      <td>23.1040</td>\n",
       "      <td>23.0829</td>\n",
       "      <td>23.0831</td>\n",
       "      <td>22.8151</td>\n",
       "      <td>22.8112</td>\n",
       "    </tr>\n",
       "    <tr>\n",
       "      <th>2</th>\n",
       "      <td>goog</td>\n",
       "      <td>2.3474</td>\n",
       "      <td>2.3528</td>\n",
       "      <td>2.2573</td>\n",
       "      <td>2.2456</td>\n",
       "      <td>2.2452</td>\n",
       "      <td>NaN</td>\n",
       "      <td>NaN</td>\n",
       "      <td>NaN</td>\n",
       "      <td>NaN</td>\n",
       "      <td>...</td>\n",
       "      <td>9.9308</td>\n",
       "      <td>9.9276</td>\n",
       "      <td>9.6231</td>\n",
       "      <td>9.5943</td>\n",
       "      <td>9.5844</td>\n",
       "      <td>10.6501</td>\n",
       "      <td>10.6373</td>\n",
       "      <td>10.2152</td>\n",
       "      <td>10.1836</td>\n",
       "      <td>10.1747</td>\n",
       "    </tr>\n",
       "    <tr>\n",
       "      <th>3</th>\n",
       "      <td>ibm</td>\n",
       "      <td>2.4451</td>\n",
       "      <td>2.4501</td>\n",
       "      <td>2.4462</td>\n",
       "      <td>2.4427</td>\n",
       "      <td>2.4337</td>\n",
       "      <td>NaN</td>\n",
       "      <td>NaN</td>\n",
       "      <td>NaN</td>\n",
       "      <td>NaN</td>\n",
       "      <td>...</td>\n",
       "      <td>11.0966</td>\n",
       "      <td>10.9448</td>\n",
       "      <td>10.8927</td>\n",
       "      <td>10.9246</td>\n",
       "      <td>10.9061</td>\n",
       "      <td>11.8687</td>\n",
       "      <td>11.6526</td>\n",
       "      <td>11.6096</td>\n",
       "      <td>11.6134</td>\n",
       "      <td>11.5796</td>\n",
       "    </tr>\n",
       "    <tr>\n",
       "      <th>4</th>\n",
       "      <td>hood</td>\n",
       "      <td>0.4963</td>\n",
       "      <td>0.3470</td>\n",
       "      <td>0.3158</td>\n",
       "      <td>0.3308</td>\n",
       "      <td>0.3308</td>\n",
       "      <td>NaN</td>\n",
       "      <td>NaN</td>\n",
       "      <td>NaN</td>\n",
       "      <td>NaN</td>\n",
       "      <td>...</td>\n",
       "      <td>1.8475</td>\n",
       "      <td>1.8465</td>\n",
       "      <td>1.5274</td>\n",
       "      <td>1.4857</td>\n",
       "      <td>1.4635</td>\n",
       "      <td>2.0847</td>\n",
       "      <td>2.0230</td>\n",
       "      <td>1.8551</td>\n",
       "      <td>1.7466</td>\n",
       "      <td>1.7101</td>\n",
       "    </tr>\n",
       "    <tr>\n",
       "      <th>5</th>\n",
       "      <td>cflt</td>\n",
       "      <td>0.0974</td>\n",
       "      <td>0.0973</td>\n",
       "      <td>0.0957</td>\n",
       "      <td>0.0957</td>\n",
       "      <td>0.0954</td>\n",
       "      <td>NaN</td>\n",
       "      <td>NaN</td>\n",
       "      <td>NaN</td>\n",
       "      <td>NaN</td>\n",
       "      <td>...</td>\n",
       "      <td>0.3634</td>\n",
       "      <td>0.3634</td>\n",
       "      <td>0.3604</td>\n",
       "      <td>0.3604</td>\n",
       "      <td>0.3599</td>\n",
       "      <td>0.4648</td>\n",
       "      <td>0.4641</td>\n",
       "      <td>0.4723</td>\n",
       "      <td>0.4712</td>\n",
       "      <td>0.4720</td>\n",
       "    </tr>\n",
       "    <tr>\n",
       "      <th>6</th>\n",
       "      <td>lulu</td>\n",
       "      <td>2.8992</td>\n",
       "      <td>2.8992</td>\n",
       "      <td>2.9175</td>\n",
       "      <td>2.9175</td>\n",
       "      <td>3.3456</td>\n",
       "      <td>2.9792</td>\n",
       "      <td>2.9792</td>\n",
       "      <td>3.0086</td>\n",
       "      <td>3.0097</td>\n",
       "      <td>...</td>\n",
       "      <td>14.7197</td>\n",
       "      <td>14.7197</td>\n",
       "      <td>14.7006</td>\n",
       "      <td>14.7943</td>\n",
       "      <td>14.8131</td>\n",
       "      <td>15.6057</td>\n",
       "      <td>15.6057</td>\n",
       "      <td>15.6771</td>\n",
       "      <td>15.8646</td>\n",
       "      <td>16.1704</td>\n",
       "    </tr>\n",
       "    <tr>\n",
       "      <th>7</th>\n",
       "      <td>intc</td>\n",
       "      <td>0.0049</td>\n",
       "      <td>0.0047</td>\n",
       "      <td>0.0455</td>\n",
       "      <td>0.0455</td>\n",
       "      <td>0.0464</td>\n",
       "      <td>NaN</td>\n",
       "      <td>NaN</td>\n",
       "      <td>NaN</td>\n",
       "      <td>NaN</td>\n",
       "      <td>...</td>\n",
       "      <td>0.1279</td>\n",
       "      <td>0.1259</td>\n",
       "      <td>0.2974</td>\n",
       "      <td>0.2974</td>\n",
       "      <td>0.3018</td>\n",
       "      <td>0.6616</td>\n",
       "      <td>0.6608</td>\n",
       "      <td>0.8016</td>\n",
       "      <td>0.7992</td>\n",
       "      <td>0.8163</td>\n",
       "    </tr>\n",
       "  </tbody>\n",
       "</table>\n",
       "<p>8 rows × 21 columns</p>\n",
       "</div>"
      ],
      "text/plain": [
       "  Ticker  Curr Qtr Curr  Curr Qtr 7  Curr Qtr 30  Curr Qtr 60  Curr Qtr 90  \\\n",
       "0   tmus         2.8148      2.8187       2.8283       2.8203       2.8223   \n",
       "1   adbe         5.1777      5.1763       5.1763       5.1010       5.1010   \n",
       "2   goog         2.3474      2.3528       2.2573       2.2456       2.2452   \n",
       "3    ibm         2.4451      2.4501       2.4462       2.4427       2.4337   \n",
       "4   hood         0.4963      0.3470       0.3158       0.3308       0.3308   \n",
       "5   cflt         0.0974      0.0973       0.0957       0.0957       0.0954   \n",
       "6   lulu         2.8992      2.8992       2.9175       2.9175       3.3456   \n",
       "7   intc         0.0049      0.0047       0.0455       0.0455       0.0464   \n",
       "\n",
       "   Next Qtr Curr  Next Qtr 7  Next Qtr 30  Next Qtr 60  ...  Curr Yr Curr  \\\n",
       "0            NaN         NaN          NaN          NaN  ...       10.9054   \n",
       "1            NaN         NaN          NaN          NaN  ...       20.5751   \n",
       "2            NaN         NaN          NaN          NaN  ...        9.9308   \n",
       "3            NaN         NaN          NaN          NaN  ...       11.0966   \n",
       "4            NaN         NaN          NaN          NaN  ...        1.8475   \n",
       "5            NaN         NaN          NaN          NaN  ...        0.3634   \n",
       "6         2.9792      2.9792       3.0086       3.0097  ...       14.7197   \n",
       "7            NaN         NaN          NaN          NaN  ...        0.1279   \n",
       "\n",
       "   Curr Yr 7  Curr Yr 30  Curr Yr 60  Curr Yr 90  Next Yr Curr  Next Yr 7  \\\n",
       "0    10.9057     10.6948     10.7228     10.7315       12.9925    12.9858   \n",
       "1    20.5611     20.5610     20.3629     20.3606       23.1040    23.0829   \n",
       "2     9.9276      9.6231      9.5943      9.5844       10.6501    10.6373   \n",
       "3    10.9448     10.8927     10.9246     10.9061       11.8687    11.6526   \n",
       "4     1.8465      1.5274      1.4857      1.4635        2.0847     2.0230   \n",
       "5     0.3634      0.3604      0.3604      0.3599        0.4648     0.4641   \n",
       "6    14.7197     14.7006     14.7943     14.8131       15.6057    15.6057   \n",
       "7     0.1259      0.2974      0.2974      0.3018        0.6616     0.6608   \n",
       "\n",
       "   Next Yr 30  Next Yr 60  Next Yr 90  \n",
       "0     12.6364     12.6805     12.7028  \n",
       "1     23.0831     22.8151     22.8112  \n",
       "2     10.2152     10.1836     10.1747  \n",
       "3     11.6096     11.6134     11.5796  \n",
       "4      1.8551      1.7466      1.7101  \n",
       "5      0.4723      0.4712      0.4720  \n",
       "6     15.6771     15.8646     16.1704  \n",
       "7      0.8016      0.7992      0.8163  \n",
       "\n",
       "[8 rows x 21 columns]"
      ]
     },
     "metadata": {},
     "output_type": "display_data"
    }
   ],
   "source": [
    "\n",
    "    tickers = [f\"{t}.US\" for t in raw1]\n",
    "    dfEPS = build_eps_trends(tickers)\n",
    "    display(dfEPS)"
   ]
  },
  {
   "cell_type": "code",
   "execution_count": 5,
   "id": "df2eb902-1c33-411e-869e-3a05df183836",
   "metadata": {},
   "outputs": [
    {
     "name": "stdout",
     "output_type": "stream",
     "text": [
      "tmus.US ...ok\n",
      "adbe.US ...ok\n",
      "goog.US ...ok\n",
      "ibm.US ...ok\n",
      "hood.US ...ok\n",
      "cflt.US ...ok\n",
      "lulu.US ...ok\n",
      "intc.US ...ok\n"
     ]
    },
    {
     "data": {
      "image/png": "[encoded data removed]",
      "text/plain": [
       "<Figure size 1400x600 with 2 Axes>"
      ]
     },
     "metadata": {},
     "output_type": "display_data"
    },
    {
     "data": {
      "application/vnd.plotly.v1+json": {
       "config": {
        "plotlyServerURL": "https://plot.ly"
       },
       "data": [
        {
         "mode": "lines+markers",
         "name": "Curr Qtr",
         "type": "scatter",
         "x": [
          90,
          60,
          30,
          7,
          0
         ],
         "xaxis": "x",
         "y": [
          2.8223,
          2.8203,
          2.8283,
          2.8187,
          2.8148
         ],
         "yaxis": "y"
        },
        {
         "mode": "lines+markers",
         "name": "Next Qtr",
         "type": "scatter",
         "x": [
          90,
          60,
          30,
          7,
          0
         ],
         "xaxis": "x",
         "y": [
          null,
          null,
          null,
          null,
          null
         ],
         "yaxis": "y"
        },
        {
         "mode": "lines+markers",
         "name": "Curr Yr",
         "type": "scatter",
         "x": [
          90,
          60,
          30,
          7,
          0
         ],
         "xaxis": "x2",
         "y": [
          10.7315,
          10.7228,
          10.6948,
          10.9057,
          10.9054
         ],
         "yaxis": "y2"
        },
        {
         "mode": "lines+markers",
         "name": "Next Yr",
         "type": "scatter",
         "x": [
          90,
          60,
          30,
          7,
          0
         ],
         "xaxis": "x2",
         "y": [
          12.7028,
          12.6805,
          12.6364,
          12.9858,
          12.9925
         ],
         "yaxis": "y2"
        }
       ],
       "layout": {
        "annotations": [
         {
          "font": {
           "size": 16
          },
          "showarrow": false,
          "text": "Quarterly EPS Trends",
          "x": 0.225,
          "xanchor": "center",
          "xref": "paper",
          "y": 1,
          "yanchor": "bottom",
          "yref": "paper"
         },
         {
          "font": {
           "size": 16
          },
          "showarrow": false,
          "text": "Yearly EPS Trends",
          "x": 0.775,
          "xanchor": "center",
          "xref": "paper",
          "y": 1,
          "yanchor": "bottom",
          "yref": "paper"
         }
        ],
        "height": 500,
        "showlegend": true,
        "template": {
         "data": {
          "bar": [
           {
            "error_x": {
             "color": "#2a3f5f"
            },
            "error_y": {
             "color": "#2a3f5f"
            },
            "marker": {
             "line": {
              "color": "#E5ECF6",
              "width": 0.5
             },
             "pattern": {
              "fillmode": "overlay",
              "size": 10,
              "solidity": 0.2
             }
            },
            "type": "bar"
           }
          ],
          "barpolar": [
           {
            "marker": {
             "line": {
              "color": "#E5ECF6",
              "width": 0.5
             },
             "pattern": {
              "fillmode": "overlay",
              "size": 10,
              "solidity": 0.2
             }
            },
            "type": "barpolar"
           }
          ],
          "carpet": [
           {
            "aaxis": {
             "endlinecolor": "#2a3f5f",
             "gridcolor": "white",
             "linecolor": "white",
             "minorgridcolor": "white",
             "startlinecolor": "#2a3f5f"
            },
            "baxis": {
             "endlinecolor": "#2a3f5f",
             "gridcolor": "white",
             "linecolor": "white",
             "minorgridcolor": "white",
             "startlinecolor": "#2a3f5f"
            },
            "type": "carpet"
           }
          ],
          "choropleth": [
           {
            "colorbar": {
             "outlinewidth": 0,
             "ticks": ""
            },
            "type": "choropleth"
           }
          ],
          "contour": [
           {
            "colorbar": {
             "outlinewidth": 0,
             "ticks": ""
            },
            "colorscale": [
             [
              0,
              "#0d0887"
             ],
             [
              0.1111111111111111,
              "#46039f"
             ],
             [
              0.2222222222222222,
              "#7201a8"
             ],
             [
              0.3333333333333333,
              "#9c179e"
             ],
             [
              0.4444444444444444,
              "#bd3786"
             ],
             [
              0.5555555555555556,
              "#d8576b"
             ],
             [
              0.6666666666666666,
              "#ed7953"
             ],
             [
              0.7777777777777778,
              "#fb9f3a"
             ],
             [
              0.8888888888888888,
              "#fdca26"
             ],
             [
              1,
              "#f0f921"
             ]
            ],
            "type": "contour"
           }
          ],
          "contourcarpet": [
           {
            "colorbar": {
             "outlinewidth": 0,
             "ticks": ""
            },
            "type": "contourcarpet"
           }
          ],
          "heatmap": [
           {
            "colorbar": {
             "outlinewidth": 0,
             "ticks": ""
            },
            "colorscale": [
             [
              0,
              "#0d0887"
             ],
             [
              0.1111111111111111,
              "#46039f"
             ],
             [
              0.2222222222222222,
              "#7201a8"
             ],
             [
              0.3333333333333333,
              "#9c179e"
             ],
             [
              0.4444444444444444,
              "#bd3786"
             ],
             [
              0.5555555555555556,
              "#d8576b"
             ],
             [
              0.6666666666666666,
              "#ed7953"
             ],
             [
              0.7777777777777778,
              "#fb9f3a"
             ],
             [
              0.8888888888888888,
              "#fdca26"
             ],
             [
              1,
              "#f0f921"
             ]
            ],
            "type": "heatmap"
           }
          ],
          "histogram": [
           {
            "marker": {
             "pattern": {
              "fillmode": "overlay",
              "size": 10,
              "solidity": 0.2
             }
            },
            "type": "histogram"
           }
          ],
          "histogram2d": [
           {
            "colorbar": {
             "outlinewidth": 0,
             "ticks": ""
            },
            "colorscale": [
             [
              0,
              "#0d0887"
             ],
             [
              0.1111111111111111,
              "#46039f"
             ],
             [
              0.2222222222222222,
              "#7201a8"
             ],
             [
              0.3333333333333333,
              "#9c179e"
             ],
             [
              0.4444444444444444,
              "#bd3786"
             ],
             [
              0.5555555555555556,
              "#d8576b"
             ],
             [
              0.6666666666666666,
              "#ed7953"
             ],
             [
              0.7777777777777778,
              "#fb9f3a"
             ],
             [
              0.8888888888888888,
              "#fdca26"
             ],
             [
              1,
              "#f0f921"
             ]
            ],
            "type": "histogram2d"
           }
          ],
          "histogram2dcontour": [
           {
            "colorbar": {
             "outlinewidth": 0,
             "ticks": ""
            },
            "colorscale": [
             [
              0,
              "#0d0887"
             ],
             [
              0.1111111111111111,
              "#46039f"
             ],
             [
              0.2222222222222222,
              "#7201a8"
             ],
             [
              0.3333333333333333,
              "#9c179e"
             ],
             [
              0.4444444444444444,
              "#bd3786"
             ],
             [
              0.5555555555555556,
              "#d8576b"
             ],
             [
              0.6666666666666666,
              "#ed7953"
             ],
             [
              0.7777777777777778,
              "#fb9f3a"
             ],
             [
              0.8888888888888888,
              "#fdca26"
             ],
             [
              1,
              "#f0f921"
             ]
            ],
            "type": "histogram2dcontour"
           }
          ],
          "mesh3d": [
           {
            "colorbar": {
             "outlinewidth": 0,
             "ticks": ""
            },
            "type": "mesh3d"
           }
          ],
          "parcoords": [
           {
            "line": {
             "colorbar": {
              "outlinewidth": 0,
              "ticks": ""
             }
            },
            "type": "parcoords"
           }
          ],
          "pie": [
           {
            "automargin": true,
            "type": "pie"
           }
          ],
          "scatter": [
           {
            "fillpattern": {
             "fillmode": "overlay",
             "size": 10,
             "solidity": 0.2
            },
            "type": "scatter"
           }
          ],
          "scatter3d": [
           {
            "line": {
             "colorbar": {
              "outlinewidth": 0,
              "ticks": ""
             }
            },
            "marker": {
             "colorbar": {
              "outlinewidth": 0,
              "ticks": ""
             }
            },
            "type": "scatter3d"
           }
          ],
          "scattercarpet": [
           {
            "marker": {
             "colorbar": {
              "outlinewidth": 0,
              "ticks": ""
             }
            },
            "type": "scattercarpet"
           }
          ],
          "scattergeo": [
           {
            "marker": {
             "colorbar": {
              "outlinewidth": 0,
              "ticks": ""
             }
            },
            "type": "scattergeo"
           }
          ],
          "scattergl": [
           {
            "marker": {
             "colorbar": {
              "outlinewidth": 0,
              "ticks": ""
             }
            },
            "type": "scattergl"
           }
          ],
          "scattermap": [
           {
            "marker": {
             "colorbar": {
              "outlinewidth": 0,
              "ticks": ""
             }
            },
            "type": "scattermap"
           }
          ],
          "scattermapbox": [
           {
            "marker": {
             "colorbar": {
              "outlinewidth": 0,
              "ticks": ""
             }
            },
            "type": "scattermapbox"
           }
          ],
          "scatterpolar": [
           {
            "marker": {
             "colorbar": {
              "outlinewidth": 0,
              "ticks": ""
             }
            },
            "type": "scatterpolar"
           }
          ],
          "scatterpolargl": [
           {
            "marker": {
             "colorbar": {
              "outlinewidth": 0,
              "ticks": ""
             }
            },
            "type": "scatterpolargl"
           }
          ],
          "scatterternary": [
           {
            "marker": {
             "colorbar": {
              "outlinewidth": 0,
              "ticks": ""
             }
            },
            "type": "scatterternary"
           }
          ],
          "surface": [
           {
            "colorbar": {
             "outlinewidth": 0,
             "ticks": ""
            },
            "colorscale": [
             [
              0,
              "#0d0887"
             ],
             [
              0.1111111111111111,
              "#46039f"
             ],
             [
              0.2222222222222222,
              "#7201a8"
             ],
             [
              0.3333333333333333,
              "#9c179e"
             ],
             [
              0.4444444444444444,
              "#bd3786"
             ],
             [
              0.5555555555555556,
              "#d8576b"
             ],
             [
              0.6666666666666666,
              "#ed7953"
             ],
             [
              0.7777777777777778,
              "#fb9f3a"
             ],
             [
              0.8888888888888888,
              "#fdca26"
             ],
             [
              1,
              "#f0f921"
             ]
            ],
            "type": "surface"
           }
          ],
          "table": [
           {
            "cells": {
             "fill": {
              "color": "#EBF0F8"
             },
             "line": {
              "color": "white"
             }
            },
            "header": {
             "fill": {
              "color": "#C8D4E3"
             },
             "line": {
              "color": "white"
             }
            },
            "type": "table"
           }
          ]
         },
         "layout": {
          "annotationdefaults": {
           "arrowcolor": "#2a3f5f",
           "arrowhead": 0,
           "arrowwidth": 1
          },
          "autotypenumbers": "strict",
          "coloraxis": {
           "colorbar": {
            "outlinewidth": 0,
            "ticks": ""
           }
          },
          "colorscale": {
           "diverging": [
            [
             0,
             "#8e0152"
            ],
            [
             0.1,
             "#c51b7d"
            ],
            [
             0.2,
             "#de77ae"
            ],
            [
             0.3,
             "#f1b6da"
            ],
            [
             0.4,
             "#fde0ef"
            ],
            [
             0.5,
             "#f7f7f7"
            ],
            [
             0.6,
             "#e6f5d0"
            ],
            [
             0.7,
             "#b8e186"
            ],
            [
             0.8,
             "#7fbc41"
            ],
            [
             0.9,
             "#4d9221"
            ],
            [
             1,
             "#276419"
            ]
           ],
           "sequential": [
            [
             0,
             "#0d0887"
            ],
            [
             0.1111111111111111,
             "#46039f"
            ],
            [
             0.2222222222222222,
             "#7201a8"
            ],
            [
             0.3333333333333333,
             "#9c179e"
            ],
            [
             0.4444444444444444,
             "#bd3786"
            ],
            [
             0.5555555555555556,
             "#d8576b"
            ],
            [
             0.6666666666666666,
             "#ed7953"
            ],
            [
             0.7777777777777778,
             "#fb9f3a"
            ],
            [
             0.8888888888888888,
             "#fdca26"
            ],
            [
             1,
             "#f0f921"
            ]
           ],
           "sequentialminus": [
            [
             0,
             "#0d0887"
            ],
            [
             0.1111111111111111,
             "#46039f"
            ],
            [
             0.2222222222222222,
             "#7201a8"
            ],
            [
             0.3333333333333333,
             "#9c179e"
            ],
            [
             0.4444444444444444,
             "#bd3786"
            ],
            [
             0.5555555555555556,
             "#d8576b"
            ],
            [
             0.6666666666666666,
             "#ed7953"
            ],
            [
             0.7777777777777778,
             "#fb9f3a"
            ],
            [
             0.8888888888888888,
             "#fdca26"
            ],
            [
             1,
             "#f0f921"
            ]
           ]
          },
          "colorway": [
           "#636efa",
           "#EF553B",
           "#00cc96",
           "#ab63fa",
           "#FFA15A",
           "#19d3f3",
           "#FF6692",
           "#B6E880",
           "#FF97FF",
           "#FECB52"
          ],
          "font": {
           "color": "#2a3f5f"
          },
          "geo": {
           "bgcolor": "white",
           "lakecolor": "white",
           "landcolor": "#E5ECF6",
           "showlakes": true,
           "showland": true,
           "subunitcolor": "white"
          },
          "hoverlabel": {
           "align": "left"
          },
          "hovermode": "closest",
          "mapbox": {
           "style": "light"
          },
          "paper_bgcolor": "white",
          "plot_bgcolor": "#E5ECF6",
          "polar": {
           "angularaxis": {
            "gridcolor": "white",
            "linecolor": "white",
            "ticks": ""
           },
           "bgcolor": "#E5ECF6",
           "radialaxis": {
            "gridcolor": "white",
            "linecolor": "white",
            "ticks": ""
           }
          },
          "scene": {
           "xaxis": {
            "backgroundcolor": "#E5ECF6",
            "gridcolor": "white",
            "gridwidth": 2,
            "linecolor": "white",
            "showbackground": true,
            "ticks": "",
            "zerolinecolor": "white"
           },
           "yaxis": {
            "backgroundcolor": "#E5ECF6",
            "gridcolor": "white",
            "gridwidth": 2,
            "linecolor": "white",
            "showbackground": true,
            "ticks": "",
            "zerolinecolor": "white"
           },
           "zaxis": {
            "backgroundcolor": "#E5ECF6",
            "gridcolor": "white",
            "gridwidth": 2,
            "linecolor": "white",
            "showbackground": true,
            "ticks": "",
            "zerolinecolor": "white"
           }
          },
          "shapedefaults": {
           "line": {
            "color": "#2a3f5f"
           }
          },
          "ternary": {
           "aaxis": {
            "gridcolor": "white",
            "linecolor": "white",
            "ticks": ""
           },
           "baxis": {
            "gridcolor": "white",
            "linecolor": "white",
            "ticks": ""
           },
           "bgcolor": "#E5ECF6",
           "caxis": {
            "gridcolor": "white",
            "linecolor": "white",
            "ticks": ""
           }
          },
          "title": {
           "x": 0.05
          },
          "xaxis": {
           "automargin": true,
           "gridcolor": "white",
           "linecolor": "white",
           "ticks": "",
           "title": {
            "standoff": 15
           },
           "zerolinecolor": "white",
           "zerolinewidth": 2
          },
          "yaxis": {
           "automargin": true,
           "gridcolor": "white",
           "linecolor": "white",
           "ticks": "",
           "title": {
            "standoff": 15
           },
           "zerolinecolor": "white",
           "zerolinewidth": 2
          }
         }
        },
        "title": {
         "text": "EPS Trend Breakdown for tmus"
        },
        "width": 1000,
        "xaxis": {
         "anchor": "y",
         "domain": [
          0,
          0.45
         ],
         "title": {
          "text": "Days Ago"
         }
        },
        "xaxis2": {
         "anchor": "y2",
         "domain": [
          0.55,
          1
         ],
         "title": {
          "text": "Days Ago"
         }
        },
        "yaxis": {
         "anchor": "x",
         "domain": [
          0,
          1
         ],
         "title": {
          "text": "EPS"
         }
        },
        "yaxis2": {
         "anchor": "x2",
         "domain": [
          0,
          1
         ],
         "title": {
          "text": "EPS"
         }
        }
       }
      },
      "image/png": "[encoded data removed]"
     },
     "metadata": {},
     "output_type": "display_data"
    },
    {
     "data": {
      "application/vnd.plotly.v1+json": {
       "config": {
        "plotlyServerURL": "https://plot.ly"
       },
       "data": [
        {
         "mode": "lines+markers",
         "name": "Curr Qtr",
         "type": "scatter",
         "x": [
          90,
          60,
          30,
          7,
          0
         ],
         "xaxis": "x",
         "y": [
          5.101,
          5.101,
          5.1763,
          5.1763,
          5.1777
         ],
         "yaxis": "y"
        },
        {
         "mode": "lines+markers",
         "name": "Next Qtr",
         "type": "scatter",
         "x": [
          90,
          60,
          30,
          7,
          0
         ],
         "xaxis": "x",
         "y": [
          null,
          null,
          null,
          null,
          null
         ],
         "yaxis": "y"
        },
        {
         "mode": "lines+markers",
         "name": "Curr Yr",
         "type": "scatter",
         "x": [
          90,
          60,
          30,
          7,
          0
         ],
         "xaxis": "x2",
         "y": [
          20.3606,
          20.3629,
          20.561,
          20.5611,
          20.5751
         ],
         "yaxis": "y2"
        },
        {
         "mode": "lines+markers",
         "name": "Next Yr",
         "type": "scatter",
         "x": [
          90,
          60,
          30,
          7,
          0
         ],
         "xaxis": "x2",
         "y": [
          22.8112,
          22.8151,
          23.0831,
          23.0829,
          23.104
         ],
         "yaxis": "y2"
        }
       ],
       "layout": {
        "annotations": [
         {
          "font": {
           "size": 16
          },
          "showarrow": false,
          "text": "Quarterly EPS Trends",
          "x": 0.225,
          "xanchor": "center",
          "xref": "paper",
          "y": 1,
          "yanchor": "bottom",
          "yref": "paper"
         },
         {
          "font": {
           "size": 16
          },
          "showarrow": false,
          "text": "Yearly EPS Trends",
          "x": 0.775,
          "xanchor": "center",
          "xref": "paper",
          "y": 1,
          "yanchor": "bottom",
          "yref": "paper"
         }
        ],
        "height": 500,
        "showlegend": true,
        "template": {
         "data": {
          "bar": [
           {
            "error_x": {
             "color": "#2a3f5f"
            },
            "error_y": {
             "color": "#2a3f5f"
            },
            "marker": {
             "line": {
              "color": "#E5ECF6",
              "width": 0.5
             },
             "pattern": {
              "fillmode": "overlay",
              "size": 10,
              "solidity": 0.2
             }
            },
            "type": "bar"
           }
          ],
          "barpolar": [
           {
            "marker": {
             "line": {
              "color": "#E5ECF6",
              "width": 0.5
             },
             "pattern": {
              "fillmode": "overlay",
              "size": 10,
              "solidity": 0.2
             }
            },
            "type": "barpolar"
           }
          ],
          "carpet": [
           {
            "aaxis": {
             "endlinecolor": "#2a3f5f",
             "gridcolor": "white",
             "linecolor": "white",
             "minorgridcolor": "white",
             "startlinecolor": "#2a3f5f"
            },
            "baxis": {
             "endlinecolor": "#2a3f5f",
             "gridcolor": "white",
             "linecolor": "white",
             "minorgridcolor": "white",
             "startlinecolor": "#2a3f5f"
            },
            "type": "carpet"
           }
          ],
          "choropleth": [
           {
            "colorbar": {
             "outlinewidth": 0,
             "ticks": ""
            },
            "type": "choropleth"
           }
          ],
          "contour": [
           {
            "colorbar": {
             "outlinewidth": 0,
             "ticks": ""
            },
            "colorscale": [
             [
              0,
              "#0d0887"
             ],
             [
              0.1111111111111111,
              "#46039f"
             ],
             [
              0.2222222222222222,
              "#7201a8"
             ],
             [
              0.3333333333333333,
              "#9c179e"
             ],
             [
              0.4444444444444444,
              "#bd3786"
             ],
             [
              0.5555555555555556,
              "#d8576b"
             ],
             [
              0.6666666666666666,
              "#ed7953"
             ],
             [
              0.7777777777777778,
              "#fb9f3a"
             ],
             [
              0.8888888888888888,
              "#fdca26"
             ],
             [
              1,
              "#f0f921"
             ]
            ],
            "type": "contour"
           }
          ],
          "contourcarpet": [
           {
            "colorbar": {
             "outlinewidth": 0,
             "ticks": ""
            },
            "type": "contourcarpet"
           }
          ],
          "heatmap": [
           {
            "colorbar": {
             "outlinewidth": 0,
             "ticks": ""
            },
            "colorscale": [
             [
              0,
              "#0d0887"
             ],
             [
              0.1111111111111111,
              "#46039f"
             ],
             [
              0.2222222222222222,
              "#7201a8"
             ],
             [
              0.3333333333333333,
              "#9c179e"
             ],
             [
              0.4444444444444444,
              "#bd3786"
             ],
             [
              0.5555555555555556,
              "#d8576b"
             ],
             [
              0.6666666666666666,
              "#ed7953"
             ],
             [
              0.7777777777777778,
              "#fb9f3a"
             ],
             [
              0.8888888888888888,
              "#fdca26"
             ],
             [
              1,
              "#f0f921"
             ]
            ],
            "type": "heatmap"
           }
          ],
          "histogram": [
           {
            "marker": {
             "pattern": {
              "fillmode": "overlay",
              "size": 10,
              "solidity": 0.2
             }
            },
            "type": "histogram"
           }
          ],
          "histogram2d": [
           {
            "colorbar": {
             "outlinewidth": 0,
             "ticks": ""
            },
            "colorscale": [
             [
              0,
              "#0d0887"
             ],
             [
              0.1111111111111111,
              "#46039f"
             ],
             [
              0.2222222222222222,
              "#7201a8"
             ],
             [
              0.3333333333333333,
              "#9c179e"
             ],
             [
              0.4444444444444444,
              "#bd3786"
             ],
             [
              0.5555555555555556,
              "#d8576b"
             ],
             [
              0.6666666666666666,
              "#ed7953"
             ],
             [
              0.7777777777777778,
              "#fb9f3a"
             ],
             [
              0.8888888888888888,
              "#fdca26"
             ],
             [
              1,
              "#f0f921"
             ]
            ],
            "type": "histogram2d"
           }
          ],
          "histogram2dcontour": [
           {
            "colorbar": {
             "outlinewidth": 0,
             "ticks": ""
            },
            "colorscale": [
             [
              0,
              "#0d0887"
             ],
             [
              0.1111111111111111,
              "#46039f"
             ],
             [
              0.2222222222222222,
              "#7201a8"
             ],
             [
              0.3333333333333333,
              "#9c179e"
             ],
             [
              0.4444444444444444,
              "#bd3786"
             ],
             [
              0.5555555555555556,
              "#d8576b"
             ],
             [
              0.6666666666666666,
              "#ed7953"
             ],
             [
              0.7777777777777778,
              "#fb9f3a"
             ],
             [
              0.8888888888888888,
              "#fdca26"
             ],
             [
              1,
              "#f0f921"
             ]
            ],
            "type": "histogram2dcontour"
           }
          ],
          "mesh3d": [
           {
            "colorbar": {
             "outlinewidth": 0,
             "ticks": ""
            },
            "type": "mesh3d"
           }
          ],
          "parcoords": [
           {
            "line": {
             "colorbar": {
              "outlinewidth": 0,
              "ticks": ""
             }
            },
            "type": "parcoords"
           }
          ],
          "pie": [
           {
            "automargin": true,
            "type": "pie"
           }
          ],
          "scatter": [
           {
            "fillpattern": {
             "fillmode": "overlay",
             "size": 10,
             "solidity": 0.2
            },
            "type": "scatter"
           }
          ],
          "scatter3d": [
           {
            "line": {
             "colorbar": {
              "outlinewidth": 0,
              "ticks": ""
             }
            },
            "marker": {
             "colorbar": {
              "outlinewidth": 0,
              "ticks": ""
             }
            },
            "type": "scatter3d"
           }
          ],
          "scattercarpet": [
           {
            "marker": {
             "colorbar": {
              "outlinewidth": 0,
              "ticks": ""
             }
            },
            "type": "scattercarpet"
           }
          ],
          "scattergeo": [
           {
            "marker": {
             "colorbar": {
              "outlinewidth": 0,
              "ticks": ""
             }
            },
            "type": "scattergeo"
           }
          ],
          "scattergl": [
           {
            "marker": {
             "colorbar": {
              "outlinewidth": 0,
              "ticks": ""
             }
            },
            "type": "scattergl"
           }
          ],
          "scattermap": [
           {
            "marker": {
             "colorbar": {
              "outlinewidth": 0,
              "ticks": ""
             }
            },
            "type": "scattermap"
           }
          ],
          "scattermapbox": [
           {
            "marker": {
             "colorbar": {
              "outlinewidth": 0,
              "ticks": ""
             }
            },
            "type": "scattermapbox"
           }
          ],
          "scatterpolar": [
           {
            "marker": {
             "colorbar": {
              "outlinewidth": 0,
              "ticks": ""
             }
            },
            "type": "scatterpolar"
           }
          ],
          "scatterpolargl": [
           {
            "marker": {
             "colorbar": {
              "outlinewidth": 0,
              "ticks": ""
             }
            },
            "type": "scatterpolargl"
           }
          ],
          "scatterternary": [
           {
            "marker": {
             "colorbar": {
              "outlinewidth": 0,
              "ticks": ""
             }
            },
            "type": "scatterternary"
           }
          ],
          "surface": [
           {
            "colorbar": {
             "outlinewidth": 0,
             "ticks": ""
            },
            "colorscale": [
             [
              0,
              "#0d0887"
             ],
             [
              0.1111111111111111,
              "#46039f"
             ],
             [
              0.2222222222222222,
              "#7201a8"
             ],
             [
              0.3333333333333333,
              "#9c179e"
             ],
             [
              0.4444444444444444,
              "#bd3786"
             ],
             [
              0.5555555555555556,
              "#d8576b"
             ],
             [
              0.6666666666666666,
              "#ed7953"
             ],
             [
              0.7777777777777778,
              "#fb9f3a"
             ],
             [
              0.8888888888888888,
              "#fdca26"
             ],
             [
              1,
              "#f0f921"
             ]
            ],
            "type": "surface"
           }
          ],
          "table": [
           {
            "cells": {
             "fill": {
              "color": "#EBF0F8"
             },
             "line": {
              "color": "white"
             }
            },
            "header": {
             "fill": {
              "color": "#C8D4E3"
             },
             "line": {
              "color": "white"
             }
            },
            "type": "table"
           }
          ]
         },
         "layout": {
          "annotationdefaults": {
           "arrowcolor": "#2a3f5f",
           "arrowhead": 0,
           "arrowwidth": 1
          },
          "autotypenumbers": "strict",
          "coloraxis": {
           "colorbar": {
            "outlinewidth": 0,
            "ticks": ""
           }
          },
          "colorscale": {
           "diverging": [
            [
             0,
             "#8e0152"
            ],
            [
             0.1,
             "#c51b7d"
            ],
            [
             0.2,
             "#de77ae"
            ],
            [
             0.3,
             "#f1b6da"
            ],
            [
             0.4,
             "#fde0ef"
            ],
            [
             0.5,
             "#f7f7f7"
            ],
            [
             0.6,
             "#e6f5d0"
            ],
            [
             0.7,
             "#b8e186"
            ],
            [
             0.8,
             "#7fbc41"
            ],
            [
             0.9,
             "#4d9221"
            ],
            [
             1,
             "#276419"
            ]
           ],
           "sequential": [
            [
             0,
             "#0d0887"
            ],
            [
             0.1111111111111111,
             "#46039f"
            ],
            [
             0.2222222222222222,
             "#7201a8"
            ],
            [
             0.3333333333333333,
             "#9c179e"
            ],
            [
             0.4444444444444444,
             "#bd3786"
            ],
            [
             0.5555555555555556,
             "#d8576b"
            ],
            [
             0.6666666666666666,
             "#ed7953"
            ],
            [
             0.7777777777777778,
             "#fb9f3a"
            ],
            [
             0.8888888888888888,
             "#fdca26"
            ],
            [
             1,
             "#f0f921"
            ]
           ],
           "sequentialminus": [
            [
             0,
             "#0d0887"
            ],
            [
             0.1111111111111111,
             "#46039f"
            ],
            [
             0.2222222222222222,
             "#7201a8"
            ],
            [
             0.3333333333333333,
             "#9c179e"
            ],
            [
             0.4444444444444444,
             "#bd3786"
            ],
            [
             0.5555555555555556,
             "#d8576b"
            ],
            [
             0.6666666666666666,
             "#ed7953"
            ],
            [
             0.7777777777777778,
             "#fb9f3a"
            ],
            [
             0.8888888888888888,
             "#fdca26"
            ],
            [
             1,
             "#f0f921"
            ]
           ]
          },
          "colorway": [
           "#636efa",
           "#EF553B",
           "#00cc96",
           "#ab63fa",
           "#FFA15A",
           "#19d3f3",
           "#FF6692",
           "#B6E880",
           "#FF97FF",
           "#FECB52"
          ],
          "font": {
           "color": "#2a3f5f"
          },
          "geo": {
           "bgcolor": "white",
           "lakecolor": "white",
           "landcolor": "#E5ECF6",
           "showlakes": true,
           "showland": true,
           "subunitcolor": "white"
          },
          "hoverlabel": {
           "align": "left"
          },
          "hovermode": "closest",
          "mapbox": {
           "style": "light"
          },
          "paper_bgcolor": "white",
          "plot_bgcolor": "#E5ECF6",
          "polar": {
           "angularaxis": {
            "gridcolor": "white",
            "linecolor": "white",
            "ticks": ""
           },
           "bgcolor": "#E5ECF6",
           "radialaxis": {
            "gridcolor": "white",
            "linecolor": "white",
            "ticks": ""
           }
          },
          "scene": {
           "xaxis": {
            "backgroundcolor": "#E5ECF6",
            "gridcolor": "white",
            "gridwidth": 2,
            "linecolor": "white",
            "showbackground": true,
            "ticks": "",
            "zerolinecolor": "white"
           },
           "yaxis": {
            "backgroundcolor": "#E5ECF6",
            "gridcolor": "white",
            "gridwidth": 2,
            "linecolor": "white",
            "showbackground": true,
            "ticks": "",
            "zerolinecolor": "white"
           },
           "zaxis": {
            "backgroundcolor": "#E5ECF6",
            "gridcolor": "white",
            "gridwidth": 2,
            "linecolor": "white",
            "showbackground": true,
            "ticks": "",
            "zerolinecolor": "white"
           }
          },
          "shapedefaults": {
           "line": {
            "color": "#2a3f5f"
           }
          },
          "ternary": {
           "aaxis": {
            "gridcolor": "white",
            "linecolor": "white",
            "ticks": ""
           },
           "baxis": {
            "gridcolor": "white",
            "linecolor": "white",
            "ticks": ""
           },
           "bgcolor": "#E5ECF6",
           "caxis": {
            "gridcolor": "white",
            "linecolor": "white",
            "ticks": ""
           }
          },
          "title": {
           "x": 0.05
          },
          "xaxis": {
           "automargin": true,
           "gridcolor": "white",
           "linecolor": "white",
           "ticks": "",
           "title": {
            "standoff": 15
           },
           "zerolinecolor": "white",
           "zerolinewidth": 2
          },
          "yaxis": {
           "automargin": true,
           "gridcolor": "white",
           "linecolor": "white",
           "ticks": "",
           "title": {
            "standoff": 15
           },
           "zerolinecolor": "white",
           "zerolinewidth": 2
          }
         }
        },
        "title": {
         "text": "EPS Trend Breakdown for adbe"
        },
        "width": 1000,
        "xaxis": {
         "anchor": "y",
         "domain": [
          0,
          0.45
         ],
         "title": {
          "text": "Days Ago"
         }
        },
        "xaxis2": {
         "anchor": "y2",
         "domain": [
          0.55,
          1
         ],
         "title": {
          "text": "Days Ago"
         }
        },
        "yaxis": {
         "anchor": "x",
         "domain": [
          0,
          1
         ],
         "title": {
          "text": "EPS"
         }
        },
        "yaxis2": {
         "anchor": "x2",
         "domain": [
          0,
          1
         ],
         "title": {
          "text": "EPS"
         }
        }
       }
      },
      "image/png": "[encoded data removed]"
     },
     "metadata": {},
     "output_type": "display_data"
    },
    {
     "data": {
      "application/vnd.plotly.v1+json": {
       "config": {
        "plotlyServerURL": "https://plot.ly"
       },
       "data": [
        {
         "mode": "lines+markers",
         "name": "Curr Qtr",
         "type": "scatter",
         "x": [
          90,
          60,
          30,
          7,
          0
         ],
         "xaxis": "x",
         "y": [
          2.2452,
          2.2456,
          2.2573,
          2.3528,
          2.3474
         ],
         "yaxis": "y"
        },
        {
         "mode": "lines+markers",
         "name": "Next Qtr",
         "type": "scatter",
         "x": [
          90,
          60,
          30,
          7,
          0
         ],
         "xaxis": "x",
         "y": [
          null,
          null,
          null,
          null,
          null
         ],
         "yaxis": "y"
        },
        {
         "mode": "lines+markers",
         "name": "Curr Yr",
         "type": "scatter",
         "x": [
          90,
          60,
          30,
          7,
          0
         ],
         "xaxis": "x2",
         "y": [
          9.5844,
          9.5943,
          9.6231,
          9.9276,
          9.9308
         ],
         "yaxis": "y2"
        },
        {
         "mode": "lines+markers",
         "name": "Next Yr",
         "type": "scatter",
         "x": [
          90,
          60,
          30,
          7,
          0
         ],
         "xaxis": "x2",
         "y": [
          10.1747,
          10.1836,
          10.2152,
          10.6373,
          10.6501
         ],
         "yaxis": "y2"
        }
       ],
       "layout": {
        "annotations": [
         {
          "font": {
           "size": 16
          },
          "showarrow": false,
          "text": "Quarterly EPS Trends",
          "x": 0.225,
          "xanchor": "center",
          "xref": "paper",
          "y": 1,
          "yanchor": "bottom",
          "yref": "paper"
         },
         {
          "font": {
           "size": 16
          },
          "showarrow": false,
          "text": "Yearly EPS Trends",
          "x": 0.775,
          "xanchor": "center",
          "xref": "paper",
          "y": 1,
          "yanchor": "bottom",
          "yref": "paper"
         }
        ],
        "height": 500,
        "showlegend": true,
        "template": {
         "data": {
          "bar": [
           {
            "error_x": {
             "color": "#2a3f5f"
            },
            "error_y": {
             "color": "#2a3f5f"
            },
            "marker": {
             "line": {
              "color": "#E5ECF6",
              "width": 0.5
             },
             "pattern": {
              "fillmode": "overlay",
              "size": 10,
              "solidity": 0.2
             }
            },
            "type": "bar"
           }
          ],
          "barpolar": [
           {
            "marker": {
             "line": {
              "color": "#E5ECF6",
              "width": 0.5
             },
             "pattern": {
              "fillmode": "overlay",
              "size": 10,
              "solidity": 0.2
             }
            },
            "type": "barpolar"
           }
          ],
          "carpet": [
           {
            "aaxis": {
             "endlinecolor": "#2a3f5f",
             "gridcolor": "white",
             "linecolor": "white",
             "minorgridcolor": "white",
             "startlinecolor": "#2a3f5f"
            },
            "baxis": {
             "endlinecolor": "#2a3f5f",
             "gridcolor": "white",
             "linecolor": "white",
             "minorgridcolor": "white",
             "startlinecolor": "#2a3f5f"
            },
            "type": "carpet"
           }
          ],
          "choropleth": [
           {
            "colorbar": {
             "outlinewidth": 0,
             "ticks": ""
            },
            "type": "choropleth"
           }
          ],
          "contour": [
           {
            "colorbar": {
             "outlinewidth": 0,
             "ticks": ""
            },
            "colorscale": [
             [
              0,
              "#0d0887"
             ],
             [
              0.1111111111111111,
              "#46039f"
             ],
             [
              0.2222222222222222,
              "#7201a8"
             ],
             [
              0.3333333333333333,
              "#9c179e"
             ],
             [
              0.4444444444444444,
              "#bd3786"
             ],
             [
              0.5555555555555556,
              "#d8576b"
             ],
             [
              0.6666666666666666,
              "#ed7953"
             ],
             [
              0.7777777777777778,
              "#fb9f3a"
             ],
             [
              0.8888888888888888,
              "#fdca26"
             ],
             [
              1,
              "#f0f921"
             ]
            ],
            "type": "contour"
           }
          ],
          "contourcarpet": [
           {
            "colorbar": {
             "outlinewidth": 0,
             "ticks": ""
            },
            "type": "contourcarpet"
           }
          ],
          "heatmap": [
           {
            "colorbar": {
             "outlinewidth": 0,
             "ticks": ""
            },
            "colorscale": [
             [
              0,
              "#0d0887"
             ],
             [
              0.1111111111111111,
              "#46039f"
             ],
             [
              0.2222222222222222,
              "#7201a8"
             ],
             [
              0.3333333333333333,
              "#9c179e"
             ],
             [
              0.4444444444444444,
              "#bd3786"
             ],
             [
              0.5555555555555556,
              "#d8576b"
             ],
             [
              0.6666666666666666,
              "#ed7953"
             ],
             [
              0.7777777777777778,
              "#fb9f3a"
             ],
             [
              0.8888888888888888,
              "#fdca26"
             ],
             [
              1,
              "#f0f921"
             ]
            ],
            "type": "heatmap"
           }
          ],
          "histogram": [
           {
            "marker": {
             "pattern": {
              "fillmode": "overlay",
              "size": 10,
              "solidity": 0.2
             }
            },
            "type": "histogram"
           }
          ],
          "histogram2d": [
           {
            "colorbar": {
             "outlinewidth": 0,
             "ticks": ""
            },
            "colorscale": [
             [
              0,
              "#0d0887"
             ],
             [
              0.1111111111111111,
              "#46039f"
             ],
             [
              0.2222222222222222,
              "#7201a8"
             ],
             [
              0.3333333333333333,
              "#9c179e"
             ],
             [
              0.4444444444444444,
              "#bd3786"
             ],
             [
              0.5555555555555556,
              "#d8576b"
             ],
             [
              0.6666666666666666,
              "#ed7953"
             ],
             [
              0.7777777777777778,
              "#fb9f3a"
             ],
             [
              0.8888888888888888,
              "#fdca26"
             ],
             [
              1,
              "#f0f921"
             ]
            ],
            "type": "histogram2d"
           }
          ],
          "histogram2dcontour": [
           {
            "colorbar": {
             "outlinewidth": 0,
             "ticks": ""
            },
            "colorscale": [
             [
              0,
              "#0d0887"
             ],
             [
              0.1111111111111111,
              "#46039f"
             ],
             [
              0.2222222222222222,
              "#7201a8"
             ],
             [
              0.3333333333333333,
              "#9c179e"
             ],
             [
              0.4444444444444444,
              "#bd3786"
             ],
             [
              0.5555555555555556,
              "#d8576b"
             ],
             [
              0.6666666666666666,
              "#ed7953"
             ],
             [
              0.7777777777777778,
              "#fb9f3a"
             ],
             [
              0.8888888888888888,
              "#fdca26"
             ],
             [
              1,
              "#f0f921"
             ]
            ],
            "type": "histogram2dcontour"
           }
          ],
          "mesh3d": [
           {
            "colorbar": {
             "outlinewidth": 0,
             "ticks": ""
            },
            "type": "mesh3d"
           }
          ],
          "parcoords": [
           {
            "line": {
             "colorbar": {
              "outlinewidth": 0,
              "ticks": ""
             }
            },
            "type": "parcoords"
           }
          ],
          "pie": [
           {
            "automargin": true,
            "type": "pie"
           }
          ],
          "scatter": [
           {
            "fillpattern": {
             "fillmode": "overlay",
             "size": 10,
             "solidity": 0.2
            },
            "type": "scatter"
           }
          ],
          "scatter3d": [
           {
            "line": {
             "colorbar": {
              "outlinewidth": 0,
              "ticks": ""
             }
            },
            "marker": {
             "colorbar": {
              "outlinewidth": 0,
              "ticks": ""
             }
            },
            "type": "scatter3d"
           }
          ],
          "scattercarpet": [
           {
            "marker": {
             "colorbar": {
              "outlinewidth": 0,
              "ticks": ""
             }
            },
            "type": "scattercarpet"
           }
          ],
          "scattergeo": [
           {
            "marker": {
             "colorbar": {
              "outlinewidth": 0,
              "ticks": ""
             }
            },
            "type": "scattergeo"
           }
          ],
          "scattergl": [
           {
            "marker": {
             "colorbar": {
              "outlinewidth": 0,
              "ticks": ""
             }
            },
            "type": "scattergl"
           }
          ],
          "scattermap": [
           {
            "marker": {
             "colorbar": {
              "outlinewidth": 0,
              "ticks": ""
             }
            },
            "type": "scattermap"
           }
          ],
          "scattermapbox": [
           {
            "marker": {
             "colorbar": {
              "outlinewidth": 0,
              "ticks": ""
             }
            },
            "type": "scattermapbox"
           }
          ],
          "scatterpolar": [
           {
            "marker": {
             "colorbar": {
              "outlinewidth": 0,
              "ticks": ""
             }
            },
            "type": "scatterpolar"
           }
          ],
          "scatterpolargl": [
           {
            "marker": {
             "colorbar": {
              "outlinewidth": 0,
              "ticks": ""
             }
            },
            "type": "scatterpolargl"
           }
          ],
          "scatterternary": [
           {
            "marker": {
             "colorbar": {
              "outlinewidth": 0,
              "ticks": ""
             }
            },
            "type": "scatterternary"
           }
          ],
          "surface": [
           {
            "colorbar": {
             "outlinewidth": 0,
             "ticks": ""
            },
            "colorscale": [
             [
              0,
              "#0d0887"
             ],
             [
              0.1111111111111111,
              "#46039f"
             ],
             [
              0.2222222222222222,
              "#7201a8"
             ],
             [
              0.3333333333333333,
              "#9c179e"
             ],
             [
              0.4444444444444444,
              "#bd3786"
             ],
             [
              0.5555555555555556,
              "#d8576b"
             ],
             [
              0.6666666666666666,
              "#ed7953"
             ],
             [
              0.7777777777777778,
              "#fb9f3a"
             ],
             [
              0.8888888888888888,
              "#fdca26"
             ],
             [
              1,
              "#f0f921"
             ]
            ],
            "type": "surface"
           }
          ],
          "table": [
           {
            "cells": {
             "fill": {
              "color": "#EBF0F8"
             },
             "line": {
              "color": "white"
             }
            },
            "header": {
             "fill": {
              "color": "#C8D4E3"
             },
             "line": {
              "color": "white"
             }
            },
            "type": "table"
           }
          ]
         },
         "layout": {
          "annotationdefaults": {
           "arrowcolor": "#2a3f5f",
           "arrowhead": 0,
           "arrowwidth": 1
          },
          "autotypenumbers": "strict",
          "coloraxis": {
           "colorbar": {
            "outlinewidth": 0,
            "ticks": ""
           }
          },
          "colorscale": {
           "diverging": [
            [
             0,
             "#8e0152"
            ],
            [
             0.1,
             "#c51b7d"
            ],
            [
             0.2,
             "#de77ae"
            ],
            [
             0.3,
             "#f1b6da"
            ],
            [
             0.4,
             "#fde0ef"
            ],
            [
             0.5,
             "#f7f7f7"
            ],
            [
             0.6,
             "#e6f5d0"
            ],
            [
             0.7,
             "#b8e186"
            ],
            [
             0.8,
             "#7fbc41"
            ],
            [
             0.9,
             "#4d9221"
            ],
            [
             1,
             "#276419"
            ]
           ],
           "sequential": [
            [
             0,
             "#0d0887"
            ],
            [
             0.1111111111111111,
             "#46039f"
            ],
            [
             0.2222222222222222,
             "#7201a8"
            ],
            [
             0.3333333333333333,
             "#9c179e"
            ],
            [
             0.4444444444444444,
             "#bd3786"
            ],
            [
             0.5555555555555556,
             "#d8576b"
            ],
            [
             0.6666666666666666,
             "#ed7953"
            ],
            [
             0.7777777777777778,
             "#fb9f3a"
            ],
            [
             0.8888888888888888,
             "#fdca26"
            ],
            [
             1,
             "#f0f921"
            ]
           ],
           "sequentialminus": [
            [
             0,
             "#0d0887"
            ],
            [
             0.1111111111111111,
             "#46039f"
            ],
            [
             0.2222222222222222,
             "#7201a8"
            ],
            [
             0.3333333333333333,
             "#9c179e"
            ],
            [
             0.4444444444444444,
             "#bd3786"
            ],
            [
             0.5555555555555556,
             "#d8576b"
            ],
            [
             0.6666666666666666,
             "#ed7953"
            ],
            [
             0.7777777777777778,
             "#fb9f3a"
            ],
            [
             0.8888888888888888,
             "#fdca26"
            ],
            [
             1,
             "#f0f921"
            ]
           ]
          },
          "colorway": [
           "#636efa",
           "#EF553B",
           "#00cc96",
           "#ab63fa",
           "#FFA15A",
           "#19d3f3",
           "#FF6692",
           "#B6E880",
           "#FF97FF",
           "#FECB52"
          ],
          "font": {
           "color": "#2a3f5f"
          },
          "geo": {
           "bgcolor": "white",
           "lakecolor": "white",
           "landcolor": "#E5ECF6",
           "showlakes": true,
           "showland": true,
           "subunitcolor": "white"
          },
          "hoverlabel": {
           "align": "left"
          },
          "hovermode": "closest",
          "mapbox": {
           "style": "light"
          },
          "paper_bgcolor": "white",
          "plot_bgcolor": "#E5ECF6",
          "polar": {
           "angularaxis": {
            "gridcolor": "white",
            "linecolor": "white",
            "ticks": ""
           },
           "bgcolor": "#E5ECF6",
           "radialaxis": {
            "gridcolor": "white",
            "linecolor": "white",
            "ticks": ""
           }
          },
          "scene": {
           "xaxis": {
            "backgroundcolor": "#E5ECF6",
            "gridcolor": "white",
            "gridwidth": 2,
            "linecolor": "white",
            "showbackground": true,
            "ticks": "",
            "zerolinecolor": "white"
           },
           "yaxis": {
            "backgroundcolor": "#E5ECF6",
            "gridcolor": "white",
            "gridwidth": 2,
            "linecolor": "white",
            "showbackground": true,
            "ticks": "",
            "zerolinecolor": "white"
           },
           "zaxis": {
            "backgroundcolor": "#E5ECF6",
            "gridcolor": "white",
            "gridwidth": 2,
            "linecolor": "white",
            "showbackground": true,
            "ticks": "",
            "zerolinecolor": "white"
           }
          },
          "shapedefaults": {
           "line": {
            "color": "#2a3f5f"
           }
          },
          "ternary": {
           "aaxis": {
            "gridcolor": "white",
            "linecolor": "white",
            "ticks": ""
           },
           "baxis": {
            "gridcolor": "white",
            "linecolor": "white",
            "ticks": ""
           },
           "bgcolor": "#E5ECF6",
           "caxis": {
            "gridcolor": "white",
            "linecolor": "white",
            "ticks": ""
           }
          },
          "title": {
           "x": 0.05
          },
          "xaxis": {
           "automargin": true,
           "gridcolor": "white",
           "linecolor": "white",
           "ticks": "",
           "title": {
            "standoff": 15
           },
           "zerolinecolor": "white",
           "zerolinewidth": 2
          },
          "yaxis": {
           "automargin": true,
           "gridcolor": "white",
           "linecolor": "white",
           "ticks": "",
           "title": {
            "standoff": 15
           },
           "zerolinecolor": "white",
           "zerolinewidth": 2
          }
         }
        },
        "title": {
         "text": "EPS Trend Breakdown for goog"
        },
        "width": 1000,
        "xaxis": {
         "anchor": "y",
         "domain": [
          0,
          0.45
         ],
         "title": {
          "text": "Days Ago"
         }
        },
        "xaxis2": {
         "anchor": "y2",
         "domain": [
          0.55,
          1
         ],
         "title": {
          "text": "Days Ago"
         }
        },
        "yaxis": {
         "anchor": "x",
         "domain": [
          0,
          1
         ],
         "title": {
          "text": "EPS"
         }
        },
        "yaxis2": {
         "anchor": "x2",
         "domain": [
          0,
          1
         ],
         "title": {
          "text": "EPS"
         }
        }
       }
      },
      "image/png": "[encoded data removed]"
     },
     "metadata": {},
     "output_type": "display_data"
    },
    {
     "data": {
      "application/vnd.plotly.v1+json": {
       "config": {
        "plotlyServerURL": "https://plot.ly"
       },
       "data": [
        {
         "mode": "lines+markers",
         "name": "Curr Qtr",
         "type": "scatter",
         "x": [
          90,
          60,
          30,
          7,
          0
         ],
         "xaxis": "x",
         "y": [
          2.4337,
          2.4427,
          2.4462,
          2.4501,
          2.4451
         ],
         "yaxis": "y"
        },
        {
         "mode": "lines+markers",
         "name": "Next Qtr",
         "type": "scatter",
         "x": [
          90,
          60,
          30,
          7,
          0
         ],
         "xaxis": "x",
         "y": [
          null,
          null,
          null,
          null,
          null
         ],
         "yaxis": "y"
        },
        {
         "mode": "lines+markers",
         "name": "Curr Yr",
         "type": "scatter",
         "x": [
          90,
          60,
          30,
          7,
          0
         ],
         "xaxis": "x2",
         "y": [
          10.9061,
          10.9246,
          10.8927,
          10.9448,
          11.0966
         ],
         "yaxis": "y2"
        },
        {
         "mode": "lines+markers",
         "name": "Next Yr",
         "type": "scatter",
         "x": [
          90,
          60,
          30,
          7,
          0
         ],
         "xaxis": "x2",
         "y": [
          11.5796,
          11.6134,
          11.6096,
          11.6526,
          11.8687
         ],
         "yaxis": "y2"
        }
       ],
       "layout": {
        "annotations": [
         {
          "font": {
           "size": 16
          },
          "showarrow": false,
          "text": "Quarterly EPS Trends",
          "x": 0.225,
          "xanchor": "center",
          "xref": "paper",
          "y": 1,
          "yanchor": "bottom",
          "yref": "paper"
         },
         {
          "font": {
           "size": 16
          },
          "showarrow": false,
          "text": "Yearly EPS Trends",
          "x": 0.775,
          "xanchor": "center",
          "xref": "paper",
          "y": 1,
          "yanchor": "bottom",
          "yref": "paper"
         }
        ],
        "height": 500,
        "showlegend": true,
        "template": {
         "data": {
          "bar": [
           {
            "error_x": {
             "color": "#2a3f5f"
            },
            "error_y": {
             "color": "#2a3f5f"
            },
            "marker": {
             "line": {
              "color": "#E5ECF6",
              "width": 0.5
             },
             "pattern": {
              "fillmode": "overlay",
              "size": 10,
              "solidity": 0.2
             }
            },
            "type": "bar"
           }
          ],
          "barpolar": [
           {
            "marker": {
             "line": {
              "color": "#E5ECF6",
              "width": 0.5
             },
             "pattern": {
              "fillmode": "overlay",
              "size": 10,
              "solidity": 0.2
             }
            },
            "type": "barpolar"
           }
          ],
          "carpet": [
           {
            "aaxis": {
             "endlinecolor": "#2a3f5f",
             "gridcolor": "white",
             "linecolor": "white",
             "minorgridcolor": "white",
             "startlinecolor": "#2a3f5f"
            },
            "baxis": {
             "endlinecolor": "#2a3f5f",
             "gridcolor": "white",
             "linecolor": "white",
             "minorgridcolor": "white",
             "startlinecolor": "#2a3f5f"
            },
            "type": "carpet"
           }
          ],
          "choropleth": [
           {
            "colorbar": {
             "outlinewidth": 0,
             "ticks": ""
            },
            "type": "choropleth"
           }
          ],
          "contour": [
           {
            "colorbar": {
             "outlinewidth": 0,
             "ticks": ""
            },
            "colorscale": [
             [
              0,
              "#0d0887"
             ],
             [
              0.1111111111111111,
              "#46039f"
             ],
             [
              0.2222222222222222,
              "#7201a8"
             ],
             [
              0.3333333333333333,
              "#9c179e"
             ],
             [
              0.4444444444444444,
              "#bd3786"
             ],
             [
              0.5555555555555556,
              "#d8576b"
             ],
             [
              0.6666666666666666,
              "#ed7953"
             ],
             [
              0.7777777777777778,
              "#fb9f3a"
             ],
             [
              0.8888888888888888,
              "#fdca26"
             ],
             [
              1,
              "#f0f921"
             ]
            ],
            "type": "contour"
           }
          ],
          "contourcarpet": [
           {
            "colorbar": {
             "outlinewidth": 0,
             "ticks": ""
            },
            "type": "contourcarpet"
           }
          ],
          "heatmap": [
           {
            "colorbar": {
             "outlinewidth": 0,
             "ticks": ""
            },
            "colorscale": [
             [
              0,
              "#0d0887"
             ],
             [
              0.1111111111111111,
              "#46039f"
             ],
             [
              0.2222222222222222,
              "#7201a8"
             ],
             [
              0.3333333333333333,
              "#9c179e"
             ],
             [
              0.4444444444444444,
              "#bd3786"
             ],
             [
              0.5555555555555556,
              "#d8576b"
             ],
             [
              0.6666666666666666,
              "#ed7953"
             ],
             [
              0.7777777777777778,
              "#fb9f3a"
             ],
             [
              0.8888888888888888,
              "#fdca26"
             ],
             [
              1,
              "#f0f921"
             ]
            ],
            "type": "heatmap"
           }
          ],
          "histogram": [
           {
            "marker": {
             "pattern": {
              "fillmode": "overlay",
              "size": 10,
              "solidity": 0.2
             }
            },
            "type": "histogram"
           }
          ],
          "histogram2d": [
           {
            "colorbar": {
             "outlinewidth": 0,
             "ticks": ""
            },
            "colorscale": [
             [
              0,
              "#0d0887"
             ],
             [
              0.1111111111111111,
              "#46039f"
             ],
             [
              0.2222222222222222,
              "#7201a8"
             ],
             [
              0.3333333333333333,
              "#9c179e"
             ],
             [
              0.4444444444444444,
              "#bd3786"
             ],
             [
              0.5555555555555556,
              "#d8576b"
             ],
             [
              0.6666666666666666,
              "#ed7953"
             ],
             [
              0.7777777777777778,
              "#fb9f3a"
             ],
             [
              0.8888888888888888,
              "#fdca26"
             ],
             [
              1,
              "#f0f921"
             ]
            ],
            "type": "histogram2d"
           }
          ],
          "histogram2dcontour": [
           {
            "colorbar": {
             "outlinewidth": 0,
             "ticks": ""
            },
            "colorscale": [
             [
              0,
              "#0d0887"
             ],
             [
              0.1111111111111111,
              "#46039f"
             ],
             [
              0.2222222222222222,
              "#7201a8"
             ],
             [
              0.3333333333333333,
              "#9c179e"
             ],
             [
              0.4444444444444444,
              "#bd3786"
             ],
             [
              0.5555555555555556,
              "#d8576b"
             ],
             [
              0.6666666666666666,
              "#ed7953"
             ],
             [
              0.7777777777777778,
              "#fb9f3a"
             ],
             [
              0.8888888888888888,
              "#fdca26"
             ],
             [
              1,
              "#f0f921"
             ]
            ],
            "type": "histogram2dcontour"
           }
          ],
          "mesh3d": [
           {
            "colorbar": {
             "outlinewidth": 0,
             "ticks": ""
            },
            "type": "mesh3d"
           }
          ],
          "parcoords": [
           {
            "line": {
             "colorbar": {
              "outlinewidth": 0,
              "ticks": ""
             }
            },
            "type": "parcoords"
           }
          ],
          "pie": [
           {
            "automargin": true,
            "type": "pie"
           }
          ],
          "scatter": [
           {
            "fillpattern": {
             "fillmode": "overlay",
             "size": 10,
             "solidity": 0.2
            },
            "type": "scatter"
           }
          ],
          "scatter3d": [
           {
            "line": {
             "colorbar": {
              "outlinewidth": 0,
              "ticks": ""
             }
            },
            "marker": {
             "colorbar": {
              "outlinewidth": 0,
              "ticks": ""
             }
            },
            "type": "scatter3d"
           }
          ],
          "scattercarpet": [
           {
            "marker": {
             "colorbar": {
              "outlinewidth": 0,
              "ticks": ""
             }
            },
            "type": "scattercarpet"
           }
          ],
          "scattergeo": [
           {
            "marker": {
             "colorbar": {
              "outlinewidth": 0,
              "ticks": ""
             }
            },
            "type": "scattergeo"
           }
          ],
          "scattergl": [
           {
            "marker": {
             "colorbar": {
              "outlinewidth": 0,
              "ticks": ""
             }
            },
            "type": "scattergl"
           }
          ],
          "scattermap": [
           {
            "marker": {
             "colorbar": {
              "outlinewidth": 0,
              "ticks": ""
             }
            },
            "type": "scattermap"
           }
          ],
          "scattermapbox": [
           {
            "marker": {
             "colorbar": {
              "outlinewidth": 0,
              "ticks": ""
             }
            },
            "type": "scattermapbox"
           }
          ],
          "scatterpolar": [
           {
            "marker": {
             "colorbar": {
              "outlinewidth": 0,
              "ticks": ""
             }
            },
            "type": "scatterpolar"
           }
          ],
          "scatterpolargl": [
           {
            "marker": {
             "colorbar": {
              "outlinewidth": 0,
              "ticks": ""
             }
            },
            "type": "scatterpolargl"
           }
          ],
          "scatterternary": [
           {
            "marker": {
             "colorbar": {
              "outlinewidth": 0,
              "ticks": ""
             }
            },
            "type": "scatterternary"
           }
          ],
          "surface": [
           {
            "colorbar": {
             "outlinewidth": 0,
             "ticks": ""
            },
            "colorscale": [
             [
              0,
              "#0d0887"
             ],
             [
              0.1111111111111111,
              "#46039f"
             ],
             [
              0.2222222222222222,
              "#7201a8"
             ],
             [
              0.3333333333333333,
              "#9c179e"
             ],
             [
              0.4444444444444444,
              "#bd3786"
             ],
             [
              0.5555555555555556,
              "#d8576b"
             ],
             [
              0.6666666666666666,
              "#ed7953"
             ],
             [
              0.7777777777777778,
              "#fb9f3a"
             ],
             [
              0.8888888888888888,
              "#fdca26"
             ],
             [
              1,
              "#f0f921"
             ]
            ],
            "type": "surface"
           }
          ],
          "table": [
           {
            "cells": {
             "fill": {
              "color": "#EBF0F8"
             },
             "line": {
              "color": "white"
             }
            },
            "header": {
             "fill": {
              "color": "#C8D4E3"
             },
             "line": {
              "color": "white"
             }
            },
            "type": "table"
           }
          ]
         },
         "layout": {
          "annotationdefaults": {
           "arrowcolor": "#2a3f5f",
           "arrowhead": 0,
           "arrowwidth": 1
          },
          "autotypenumbers": "strict",
          "coloraxis": {
           "colorbar": {
            "outlinewidth": 0,
            "ticks": ""
           }
          },
          "colorscale": {
           "diverging": [
            [
             0,
             "#8e0152"
            ],
            [
             0.1,
             "#c51b7d"
            ],
            [
             0.2,
             "#de77ae"
            ],
            [
             0.3,
             "#f1b6da"
            ],
            [
             0.4,
             "#fde0ef"
            ],
            [
             0.5,
             "#f7f7f7"
            ],
            [
             0.6,
             "#e6f5d0"
            ],
            [
             0.7,
             "#b8e186"
            ],
            [
             0.8,
             "#7fbc41"
            ],
            [
             0.9,
             "#4d9221"
            ],
            [
             1,
             "#276419"
            ]
           ],
           "sequential": [
            [
             0,
             "#0d0887"
            ],
            [
             0.1111111111111111,
             "#46039f"
            ],
            [
             0.2222222222222222,
             "#7201a8"
            ],
            [
             0.3333333333333333,
             "#9c179e"
            ],
            [
             0.4444444444444444,
             "#bd3786"
            ],
            [
             0.5555555555555556,
             "#d8576b"
            ],
            [
             0.6666666666666666,
             "#ed7953"
            ],
            [
             0.7777777777777778,
             "#fb9f3a"
            ],
            [
             0.8888888888888888,
             "#fdca26"
            ],
            [
             1,
             "#f0f921"
            ]
           ],
           "sequentialminus": [
            [
             0,
             "#0d0887"
            ],
            [
             0.1111111111111111,
             "#46039f"
            ],
            [
             0.2222222222222222,
             "#7201a8"
            ],
            [
             0.3333333333333333,
             "#9c179e"
            ],
            [
             0.4444444444444444,
             "#bd3786"
            ],
            [
             0.5555555555555556,
             "#d8576b"
            ],
            [
             0.6666666666666666,
             "#ed7953"
            ],
            [
             0.7777777777777778,
             "#fb9f3a"
            ],
            [
             0.8888888888888888,
             "#fdca26"
            ],
            [
             1,
             "#f0f921"
            ]
           ]
          },
          "colorway": [
           "#636efa",
           "#EF553B",
           "#00cc96",
           "#ab63fa",
           "#FFA15A",
           "#19d3f3",
           "#FF6692",
           "#B6E880",
           "#FF97FF",
           "#FECB52"
          ],
          "font": {
           "color": "#2a3f5f"
          },
          "geo": {
           "bgcolor": "white",
           "lakecolor": "white",
           "landcolor": "#E5ECF6",
           "showlakes": true,
           "showland": true,
           "subunitcolor": "white"
          },
          "hoverlabel": {
           "align": "left"
          },
          "hovermode": "closest",
          "mapbox": {
           "style": "light"
          },
          "paper_bgcolor": "white",
          "plot_bgcolor": "#E5ECF6",
          "polar": {
           "angularaxis": {
            "gridcolor": "white",
            "linecolor": "white",
            "ticks": ""
           },
           "bgcolor": "#E5ECF6",
           "radialaxis": {
            "gridcolor": "white",
            "linecolor": "white",
            "ticks": ""
           }
          },
          "scene": {
           "xaxis": {
            "backgroundcolor": "#E5ECF6",
            "gridcolor": "white",
            "gridwidth": 2,
            "linecolor": "white",
            "showbackground": true,
            "ticks": "",
            "zerolinecolor": "white"
           },
           "yaxis": {
            "backgroundcolor": "#E5ECF6",
            "gridcolor": "white",
            "gridwidth": 2,
            "linecolor": "white",
            "showbackground": true,
            "ticks": "",
            "zerolinecolor": "white"
           },
           "zaxis": {
            "backgroundcolor": "#E5ECF6",
            "gridcolor": "white",
            "gridwidth": 2,
            "linecolor": "white",
            "showbackground": true,
            "ticks": "",
            "zerolinecolor": "white"
           }
          },
          "shapedefaults": {
           "line": {
            "color": "#2a3f5f"
           }
          },
          "ternary": {
           "aaxis": {
            "gridcolor": "white",
            "linecolor": "white",
            "ticks": ""
           },
           "baxis": {
            "gridcolor": "white",
            "linecolor": "white",
            "ticks": ""
           },
           "bgcolor": "#E5ECF6",
           "caxis": {
            "gridcolor": "white",
            "linecolor": "white",
            "ticks": ""
           }
          },
          "title": {
           "x": 0.05
          },
          "xaxis": {
           "automargin": true,
           "gridcolor": "white",
           "linecolor": "white",
           "ticks": "",
           "title": {
            "standoff": 15
           },
           "zerolinecolor": "white",
           "zerolinewidth": 2
          },
          "yaxis": {
           "automargin": true,
           "gridcolor": "white",
           "linecolor": "white",
           "ticks": "",
           "title": {
            "standoff": 15
           },
           "zerolinecolor": "white",
           "zerolinewidth": 2
          }
         }
        },
        "title": {
         "text": "EPS Trend Breakdown for ibm"
        },
        "width": 1000,
        "xaxis": {
         "anchor": "y",
         "domain": [
          0,
          0.45
         ],
         "title": {
          "text": "Days Ago"
         }
        },
        "xaxis2": {
         "anchor": "y2",
         "domain": [
          0.55,
          1
         ],
         "title": {
          "text": "Days Ago"
         }
        },
        "yaxis": {
         "anchor": "x",
         "domain": [
          0,
          1
         ],
         "title": {
          "text": "EPS"
         }
        },
        "yaxis2": {
         "anchor": "x2",
         "domain": [
          0,
          1
         ],
         "title": {
          "text": "EPS"
         }
        }
       }
      },
      "image/png": "[encoded data removed]"
     },
     "metadata": {},
     "output_type": "display_data"
    },
    {
     "data": {
      "application/vnd.plotly.v1+json": {
       "config": {
        "plotlyServerURL": "https://plot.ly"
       },
       "data": [
        {
         "mode": "lines+markers",
         "name": "Curr Qtr",
         "type": "scatter",
         "x": [
          90,
          60,
          30,
          7,
          0
         ],
         "xaxis": "x",
         "y": [
          0.3308,
          0.3308,
          0.3158,
          0.347,
          0.4963
         ],
         "yaxis": "y"
        },
        {
         "mode": "lines+markers",
         "name": "Next Qtr",
         "type": "scatter",
         "x": [
          90,
          60,
          30,
          7,
          0
         ],
         "xaxis": "x",
         "y": [
          null,
          null,
          null,
          null,
          null
         ],
         "yaxis": "y"
        },
        {
         "mode": "lines+markers",
         "name": "Curr Yr",
         "type": "scatter",
         "x": [
          90,
          60,
          30,
          7,
          0
         ],
         "xaxis": "x2",
         "y": [
          1.4635,
          1.4857,
          1.5274,
          1.8465,
          1.8475
         ],
         "yaxis": "y2"
        },
        {
         "mode": "lines+markers",
         "name": "Next Yr",
         "type": "scatter",
         "x": [
          90,
          60,
          30,
          7,
          0
         ],
         "xaxis": "x2",
         "y": [
          1.7101,
          1.7466,
          1.8551,
          2.023,
          2.0847
         ],
         "yaxis": "y2"
        }
       ],
       "layout": {
        "annotations": [
         {
          "font": {
           "size": 16
          },
          "showarrow": false,
          "text": "Quarterly EPS Trends",
          "x": 0.225,
          "xanchor": "center",
          "xref": "paper",
          "y": 1,
          "yanchor": "bottom",
          "yref": "paper"
         },
         {
          "font": {
           "size": 16
          },
          "showarrow": false,
          "text": "Yearly EPS Trends",
          "x": 0.775,
          "xanchor": "center",
          "xref": "paper",
          "y": 1,
          "yanchor": "bottom",
          "yref": "paper"
         }
        ],
        "height": 500,
        "showlegend": true,
        "template": {
         "data": {
          "bar": [
           {
            "error_x": {
             "color": "#2a3f5f"
            },
            "error_y": {
             "color": "#2a3f5f"
            },
            "marker": {
             "line": {
              "color": "#E5ECF6",
              "width": 0.5
             },
             "pattern": {
              "fillmode": "overlay",
              "size": 10,
              "solidity": 0.2
             }
            },
            "type": "bar"
           }
          ],
          "barpolar": [
           {
            "marker": {
             "line": {
              "color": "#E5ECF6",
              "width": 0.5
             },
             "pattern": {
              "fillmode": "overlay",
              "size": 10,
              "solidity": 0.2
             }
            },
            "type": "barpolar"
           }
          ],
          "carpet": [
           {
            "aaxis": {
             "endlinecolor": "#2a3f5f",
             "gridcolor": "white",
             "linecolor": "white",
             "minorgridcolor": "white",
             "startlinecolor": "#2a3f5f"
            },
            "baxis": {
             "endlinecolor": "#2a3f5f",
             "gridcolor": "white",
             "linecolor": "white",
             "minorgridcolor": "white",
             "startlinecolor": "#2a3f5f"
            },
            "type": "carpet"
           }
          ],
          "choropleth": [
           {
            "colorbar": {
             "outlinewidth": 0,
             "ticks": ""
            },
            "type": "choropleth"
           }
          ],
          "contour": [
           {
            "colorbar": {
             "outlinewidth": 0,
             "ticks": ""
            },
            "colorscale": [
             [
              0,
              "#0d0887"
             ],
             [
              0.1111111111111111,
              "#46039f"
             ],
             [
              0.2222222222222222,
              "#7201a8"
             ],
             [
              0.3333333333333333,
              "#9c179e"
             ],
             [
              0.4444444444444444,
              "#bd3786"
             ],
             [
              0.5555555555555556,
              "#d8576b"
             ],
             [
              0.6666666666666666,
              "#ed7953"
             ],
             [
              0.7777777777777778,
              "#fb9f3a"
             ],
             [
              0.8888888888888888,
              "#fdca26"
             ],
             [
              1,
              "#f0f921"
             ]
            ],
            "type": "contour"
           }
          ],
          "contourcarpet": [
           {
            "colorbar": {
             "outlinewidth": 0,
             "ticks": ""
            },
            "type": "contourcarpet"
           }
          ],
          "heatmap": [
           {
            "colorbar": {
             "outlinewidth": 0,
             "ticks": ""
            },
            "colorscale": [
             [
              0,
              "#0d0887"
             ],
             [
              0.1111111111111111,
              "#46039f"
             ],
             [
              0.2222222222222222,
              "#7201a8"
             ],
             [
              0.3333333333333333,
              "#9c179e"
             ],
             [
              0.4444444444444444,
              "#bd3786"
             ],
             [
              0.5555555555555556,
              "#d8576b"
             ],
             [
              0.6666666666666666,
              "#ed7953"
             ],
             [
              0.7777777777777778,
              "#fb9f3a"
             ],
             [
              0.8888888888888888,
              "#fdca26"
             ],
             [
              1,
              "#f0f921"
             ]
            ],
            "type": "heatmap"
           }
          ],
          "histogram": [
           {
            "marker": {
             "pattern": {
              "fillmode": "overlay",
              "size": 10,
              "solidity": 0.2
             }
            },
            "type": "histogram"
           }
          ],
          "histogram2d": [
           {
            "colorbar": {
             "outlinewidth": 0,
             "ticks": ""
            },
            "colorscale": [
             [
              0,
              "#0d0887"
             ],
             [
              0.1111111111111111,
              "#46039f"
             ],
             [
              0.2222222222222222,
              "#7201a8"
             ],
             [
              0.3333333333333333,
              "#9c179e"
             ],
             [
              0.4444444444444444,
              "#bd3786"
             ],
             [
              0.5555555555555556,
              "#d8576b"
             ],
             [
              0.6666666666666666,
              "#ed7953"
             ],
             [
              0.7777777777777778,
              "#fb9f3a"
             ],
             [
              0.8888888888888888,
              "#fdca26"
             ],
             [
              1,
              "#f0f921"
             ]
            ],
            "type": "histogram2d"
           }
          ],
          "histogram2dcontour": [
           {
            "colorbar": {
             "outlinewidth": 0,
             "ticks": ""
            },
            "colorscale": [
             [
              0,
              "#0d0887"
             ],
             [
              0.1111111111111111,
              "#46039f"
             ],
             [
              0.2222222222222222,
              "#7201a8"
             ],
             [
              0.3333333333333333,
              "#9c179e"
             ],
             [
              0.4444444444444444,
              "#bd3786"
             ],
             [
              0.5555555555555556,
              "#d8576b"
             ],
             [
              0.6666666666666666,
              "#ed7953"
             ],
             [
              0.7777777777777778,
              "#fb9f3a"
             ],
             [
              0.8888888888888888,
              "#fdca26"
             ],
             [
              1,
              "#f0f921"
             ]
            ],
            "type": "histogram2dcontour"
           }
          ],
          "mesh3d": [
           {
            "colorbar": {
             "outlinewidth": 0,
             "ticks": ""
            },
            "type": "mesh3d"
           }
          ],
          "parcoords": [
           {
            "line": {
             "colorbar": {
              "outlinewidth": 0,
              "ticks": ""
             }
            },
            "type": "parcoords"
           }
          ],
          "pie": [
           {
            "automargin": true,
            "type": "pie"
           }
          ],
          "scatter": [
           {
            "fillpattern": {
             "fillmode": "overlay",
             "size": 10,
             "solidity": 0.2
            },
            "type": "scatter"
           }
          ],
          "scatter3d": [
           {
            "line": {
             "colorbar": {
              "outlinewidth": 0,
              "ticks": ""
             }
            },
            "marker": {
             "colorbar": {
              "outlinewidth": 0,
              "ticks": ""
             }
            },
            "type": "scatter3d"
           }
          ],
          "scattercarpet": [
           {
            "marker": {
             "colorbar": {
              "outlinewidth": 0,
              "ticks": ""
             }
            },
            "type": "scattercarpet"
           }
          ],
          "scattergeo": [
           {
            "marker": {
             "colorbar": {
              "outlinewidth": 0,
              "ticks": ""
             }
            },
            "type": "scattergeo"
           }
          ],
          "scattergl": [
           {
            "marker": {
             "colorbar": {
              "outlinewidth": 0,
              "ticks": ""
             }
            },
            "type": "scattergl"
           }
          ],
          "scattermap": [
           {
            "marker": {
             "colorbar": {
              "outlinewidth": 0,
              "ticks": ""
             }
            },
            "type": "scattermap"
           }
          ],
          "scattermapbox": [
           {
            "marker": {
             "colorbar": {
              "outlinewidth": 0,
              "ticks": ""
             }
            },
            "type": "scattermapbox"
           }
          ],
          "scatterpolar": [
           {
            "marker": {
             "colorbar": {
              "outlinewidth": 0,
              "ticks": ""
             }
            },
            "type": "scatterpolar"
           }
          ],
          "scatterpolargl": [
           {
            "marker": {
             "colorbar": {
              "outlinewidth": 0,
              "ticks": ""
             }
            },
            "type": "scatterpolargl"
           }
          ],
          "scatterternary": [
           {
            "marker": {
             "colorbar": {
              "outlinewidth": 0,
              "ticks": ""
             }
            },
            "type": "scatterternary"
           }
          ],
          "surface": [
           {
            "colorbar": {
             "outlinewidth": 0,
             "ticks": ""
            },
            "colorscale": [
             [
              0,
              "#0d0887"
             ],
             [
              0.1111111111111111,
              "#46039f"
             ],
             [
              0.2222222222222222,
              "#7201a8"
             ],
             [
              0.3333333333333333,
              "#9c179e"
             ],
             [
              0.4444444444444444,
              "#bd3786"
             ],
             [
              0.5555555555555556,
              "#d8576b"
             ],
             [
              0.6666666666666666,
              "#ed7953"
             ],
             [
              0.7777777777777778,
              "#fb9f3a"
             ],
             [
              0.8888888888888888,
              "#fdca26"
             ],
             [
              1,
              "#f0f921"
             ]
            ],
            "type": "surface"
           }
          ],
          "table": [
           {
            "cells": {
             "fill": {
              "color": "#EBF0F8"
             },
             "line": {
              "color": "white"
             }
            },
            "header": {
             "fill": {
              "color": "#C8D4E3"
             },
             "line": {
              "color": "white"
             }
            },
            "type": "table"
           }
          ]
         },
         "layout": {
          "annotationdefaults": {
           "arrowcolor": "#2a3f5f",
           "arrowhead": 0,
           "arrowwidth": 1
          },
          "autotypenumbers": "strict",
          "coloraxis": {
           "colorbar": {
            "outlinewidth": 0,
            "ticks": ""
           }
          },
          "colorscale": {
           "diverging": [
            [
             0,
             "#8e0152"
            ],
            [
             0.1,
             "#c51b7d"
            ],
            [
             0.2,
             "#de77ae"
            ],
            [
             0.3,
             "#f1b6da"
            ],
            [
             0.4,
             "#fde0ef"
            ],
            [
             0.5,
             "#f7f7f7"
            ],
            [
             0.6,
             "#e6f5d0"
            ],
            [
             0.7,
             "#b8e186"
            ],
            [
             0.8,
             "#7fbc41"
            ],
            [
             0.9,
             "#4d9221"
            ],
            [
             1,
             "#276419"
            ]
           ],
           "sequential": [
            [
             0,
             "#0d0887"
            ],
            [
             0.1111111111111111,
             "#46039f"
            ],
            [
             0.2222222222222222,
             "#7201a8"
            ],
            [
             0.3333333333333333,
             "#9c179e"
            ],
            [
             0.4444444444444444,
             "#bd3786"
            ],
            [
             0.5555555555555556,
             "#d8576b"
            ],
            [
             0.6666666666666666,
             "#ed7953"
            ],
            [
             0.7777777777777778,
             "#fb9f3a"
            ],
            [
             0.8888888888888888,
             "#fdca26"
            ],
            [
             1,
             "#f0f921"
            ]
           ],
           "sequentialminus": [
            [
             0,
             "#0d0887"
            ],
            [
             0.1111111111111111,
             "#46039f"
            ],
            [
             0.2222222222222222,
             "#7201a8"
            ],
            [
             0.3333333333333333,
             "#9c179e"
            ],
            [
             0.4444444444444444,
             "#bd3786"
            ],
            [
             0.5555555555555556,
             "#d8576b"
            ],
            [
             0.6666666666666666,
             "#ed7953"
            ],
            [
             0.7777777777777778,
             "#fb9f3a"
            ],
            [
             0.8888888888888888,
             "#fdca26"
            ],
            [
             1,
             "#f0f921"
            ]
           ]
          },
          "colorway": [
           "#636efa",
           "#EF553B",
           "#00cc96",
           "#ab63fa",
           "#FFA15A",
           "#19d3f3",
           "#FF6692",
           "#B6E880",
           "#FF97FF",
           "#FECB52"
          ],
          "font": {
           "color": "#2a3f5f"
          },
          "geo": {
           "bgcolor": "white",
           "lakecolor": "white",
           "landcolor": "#E5ECF6",
           "showlakes": true,
           "showland": true,
           "subunitcolor": "white"
          },
          "hoverlabel": {
           "align": "left"
          },
          "hovermode": "closest",
          "mapbox": {
           "style": "light"
          },
          "paper_bgcolor": "white",
          "plot_bgcolor": "#E5ECF6",
          "polar": {
           "angularaxis": {
            "gridcolor": "white",
            "linecolor": "white",
            "ticks": ""
           },
           "bgcolor": "#E5ECF6",
           "radialaxis": {
            "gridcolor": "white",
            "linecolor": "white",
            "ticks": ""
           }
          },
          "scene": {
           "xaxis": {
            "backgroundcolor": "#E5ECF6",
            "gridcolor": "white",
            "gridwidth": 2,
            "linecolor": "white",
            "showbackground": true,
            "ticks": "",
            "zerolinecolor": "white"
           },
           "yaxis": {
            "backgroundcolor": "#E5ECF6",
            "gridcolor": "white",
            "gridwidth": 2,
            "linecolor": "white",
            "showbackground": true,
            "ticks": "",
            "zerolinecolor": "white"
           },
           "zaxis": {
            "backgroundcolor": "#E5ECF6",
            "gridcolor": "white",
            "gridwidth": 2,
            "linecolor": "white",
            "showbackground": true,
            "ticks": "",
            "zerolinecolor": "white"
           }
          },
          "shapedefaults": {
           "line": {
            "color": "#2a3f5f"
           }
          },
          "ternary": {
           "aaxis": {
            "gridcolor": "white",
            "linecolor": "white",
            "ticks": ""
           },
           "baxis": {
            "gridcolor": "white",
            "linecolor": "white",
            "ticks": ""
           },
           "bgcolor": "#E5ECF6",
           "caxis": {
            "gridcolor": "white",
            "linecolor": "white",
            "ticks": ""
           }
          },
          "title": {
           "x": 0.05
          },
          "xaxis": {
           "automargin": true,
           "gridcolor": "white",
           "linecolor": "white",
           "ticks": "",
           "title": {
            "standoff": 15
           },
           "zerolinecolor": "white",
           "zerolinewidth": 2
          },
          "yaxis": {
           "automargin": true,
           "gridcolor": "white",
           "linecolor": "white",
           "ticks": "",
           "title": {
            "standoff": 15
           },
           "zerolinecolor": "white",
           "zerolinewidth": 2
          }
         }
        },
        "title": {
         "text": "EPS Trend Breakdown for hood"
        },
        "width": 1000,
        "xaxis": {
         "anchor": "y",
         "domain": [
          0,
          0.45
         ],
         "title": {
          "text": "Days Ago"
         }
        },
        "xaxis2": {
         "anchor": "y2",
         "domain": [
          0.55,
          1
         ],
         "title": {
          "text": "Days Ago"
         }
        },
        "yaxis": {
         "anchor": "x",
         "domain": [
          0,
          1
         ],
         "title": {
          "text": "EPS"
         }
        },
        "yaxis2": {
         "anchor": "x2",
         "domain": [
          0,
          1
         ],
         "title": {
          "text": "EPS"
         }
        }
       }
      },
      "image/png": "[encoded data removed]"
     },
     "metadata": {},
     "output_type": "display_data"
    },
    {
     "data": {
      "application/vnd.plotly.v1+json": {
       "config": {
        "plotlyServerURL": "https://plot.ly"
       },
       "data": [
        {
         "mode": "lines+markers",
         "name": "Curr Qtr",
         "type": "scatter",
         "x": [
          90,
          60,
          30,
          7,
          0
         ],
         "xaxis": "x",
         "y": [
          0.0954,
          0.0957,
          0.0957,
          0.0973,
          0.0974
         ],
         "yaxis": "y"
        },
        {
         "mode": "lines+markers",
         "name": "Next Qtr",
         "type": "scatter",
         "x": [
          90,
          60,
          30,
          7,
          0
         ],
         "xaxis": "x",
         "y": [
          null,
          null,
          null,
          null,
          null
         ],
         "yaxis": "y"
        },
        {
         "mode": "lines+markers",
         "name": "Curr Yr",
         "type": "scatter",
         "x": [
          90,
          60,
          30,
          7,
          0
         ],
         "xaxis": "x2",
         "y": [
          0.3599,
          0.3604,
          0.3604,
          0.3634,
          0.3634
         ],
         "yaxis": "y2"
        },
        {
         "mode": "lines+markers",
         "name": "Next Yr",
         "type": "scatter",
         "x": [
          90,
          60,
          30,
          7,
          0
         ],
         "xaxis": "x2",
         "y": [
          0.472,
          0.4712,
          0.4723,
          0.4641,
          0.4648
         ],
         "yaxis": "y2"
        }
       ],
       "layout": {
        "annotations": [
         {
          "font": {
           "size": 16
          },
          "showarrow": false,
          "text": "Quarterly EPS Trends",
          "x": 0.225,
          "xanchor": "center",
          "xref": "paper",
          "y": 1,
          "yanchor": "bottom",
          "yref": "paper"
         },
         {
          "font": {
           "size": 16
          },
          "showarrow": false,
          "text": "Yearly EPS Trends",
          "x": 0.775,
          "xanchor": "center",
          "xref": "paper",
          "y": 1,
          "yanchor": "bottom",
          "yref": "paper"
         }
        ],
        "height": 500,
        "showlegend": true,
        "template": {
         "data": {
          "bar": [
           {
            "error_x": {
             "color": "#2a3f5f"
            },
            "error_y": {
             "color": "#2a3f5f"
            },
            "marker": {
             "line": {
              "color": "#E5ECF6",
              "width": 0.5
             },
             "pattern": {
              "fillmode": "overlay",
              "size": 10,
              "solidity": 0.2
             }
            },
            "type": "bar"
           }
          ],
          "barpolar": [
           {
            "marker": {
             "line": {
              "color": "#E5ECF6",
              "width": 0.5
             },
             "pattern": {
              "fillmode": "overlay",
              "size": 10,
              "solidity": 0.2
             }
            },
            "type": "barpolar"
           }
          ],
          "carpet": [
           {
            "aaxis": {
             "endlinecolor": "#2a3f5f",
             "gridcolor": "white",
             "linecolor": "white",
             "minorgridcolor": "white",
             "startlinecolor": "#2a3f5f"
            },
            "baxis": {
             "endlinecolor": "#2a3f5f",
             "gridcolor": "white",
             "linecolor": "white",
             "minorgridcolor": "white",
             "startlinecolor": "#2a3f5f"
            },
            "type": "carpet"
           }
          ],
          "choropleth": [
           {
            "colorbar": {
             "outlinewidth": 0,
             "ticks": ""
            },
            "type": "choropleth"
           }
          ],
          "contour": [
           {
            "colorbar": {
             "outlinewidth": 0,
             "ticks": ""
            },
            "colorscale": [
             [
              0,
              "#0d0887"
             ],
             [
              0.1111111111111111,
              "#46039f"
             ],
             [
              0.2222222222222222,
              "#7201a8"
             ],
             [
              0.3333333333333333,
              "#9c179e"
             ],
             [
              0.4444444444444444,
              "#bd3786"
             ],
             [
              0.5555555555555556,
              "#d8576b"
             ],
             [
              0.6666666666666666,
              "#ed7953"
             ],
             [
              0.7777777777777778,
              "#fb9f3a"
             ],
             [
              0.8888888888888888,
              "#fdca26"
             ],
             [
              1,
              "#f0f921"
             ]
            ],
            "type": "contour"
           }
          ],
          "contourcarpet": [
           {
            "colorbar": {
             "outlinewidth": 0,
             "ticks": ""
            },
            "type": "contourcarpet"
           }
          ],
          "heatmap": [
           {
            "colorbar": {
             "outlinewidth": 0,
             "ticks": ""
            },
            "colorscale": [
             [
              0,
              "#0d0887"
             ],
             [
              0.1111111111111111,
              "#46039f"
             ],
             [
              0.2222222222222222,
              "#7201a8"
             ],
             [
              0.3333333333333333,
              "#9c179e"
             ],
             [
              0.4444444444444444,
              "#bd3786"
             ],
             [
              0.5555555555555556,
              "#d8576b"
             ],
             [
              0.6666666666666666,
              "#ed7953"
             ],
             [
              0.7777777777777778,
              "#fb9f3a"
             ],
             [
              0.8888888888888888,
              "#fdca26"
             ],
             [
              1,
              "#f0f921"
             ]
            ],
            "type": "heatmap"
           }
          ],
          "histogram": [
           {
            "marker": {
             "pattern": {
              "fillmode": "overlay",
              "size": 10,
              "solidity": 0.2
             }
            },
            "type": "histogram"
           }
          ],
          "histogram2d": [
           {
            "colorbar": {
             "outlinewidth": 0,
             "ticks": ""
            },
            "colorscale": [
             [
              0,
              "#0d0887"
             ],
             [
              0.1111111111111111,
              "#46039f"
             ],
             [
              0.2222222222222222,
              "#7201a8"
             ],
             [
              0.3333333333333333,
              "#9c179e"
             ],
             [
              0.4444444444444444,
              "#bd3786"
             ],
             [
              0.5555555555555556,
              "#d8576b"
             ],
             [
              0.6666666666666666,
              "#ed7953"
             ],
             [
              0.7777777777777778,
              "#fb9f3a"
             ],
             [
              0.8888888888888888,
              "#fdca26"
             ],
             [
              1,
              "#f0f921"
             ]
            ],
            "type": "histogram2d"
           }
          ],
          "histogram2dcontour": [
           {
            "colorbar": {
             "outlinewidth": 0,
             "ticks": ""
            },
            "colorscale": [
             [
              0,
              "#0d0887"
             ],
             [
              0.1111111111111111,
              "#46039f"
             ],
             [
              0.2222222222222222,
              "#7201a8"
             ],
             [
              0.3333333333333333,
              "#9c179e"
             ],
             [
              0.4444444444444444,
              "#bd3786"
             ],
             [
              0.5555555555555556,
              "#d8576b"
             ],
             [
              0.6666666666666666,
              "#ed7953"
             ],
             [
              0.7777777777777778,
              "#fb9f3a"
             ],
             [
              0.8888888888888888,
              "#fdca26"
             ],
             [
              1,
              "#f0f921"
             ]
            ],
            "type": "histogram2dcontour"
           }
          ],
          "mesh3d": [
           {
            "colorbar": {
             "outlinewidth": 0,
             "ticks": ""
            },
            "type": "mesh3d"
           }
          ],
          "parcoords": [
           {
            "line": {
             "colorbar": {
              "outlinewidth": 0,
              "ticks": ""
             }
            },
            "type": "parcoords"
           }
          ],
          "pie": [
           {
            "automargin": true,
            "type": "pie"
           }
          ],
          "scatter": [
           {
            "fillpattern": {
             "fillmode": "overlay",
             "size": 10,
             "solidity": 0.2
            },
            "type": "scatter"
           }
          ],
          "scatter3d": [
           {
            "line": {
             "colorbar": {
              "outlinewidth": 0,
              "ticks": ""
             }
            },
            "marker": {
             "colorbar": {
              "outlinewidth": 0,
              "ticks": ""
             }
            },
            "type": "scatter3d"
           }
          ],
          "scattercarpet": [
           {
            "marker": {
             "colorbar": {
              "outlinewidth": 0,
              "ticks": ""
             }
            },
            "type": "scattercarpet"
           }
          ],
          "scattergeo": [
           {
            "marker": {
             "colorbar": {
              "outlinewidth": 0,
              "ticks": ""
             }
            },
            "type": "scattergeo"
           }
          ],
          "scattergl": [
           {
            "marker": {
             "colorbar": {
              "outlinewidth": 0,
              "ticks": ""
             }
            },
            "type": "scattergl"
           }
          ],
          "scattermap": [
           {
            "marker": {
             "colorbar": {
              "outlinewidth": 0,
              "ticks": ""
             }
            },
            "type": "scattermap"
           }
          ],
          "scattermapbox": [
           {
            "marker": {
             "colorbar": {
              "outlinewidth": 0,
              "ticks": ""
             }
            },
            "type": "scattermapbox"
           }
          ],
          "scatterpolar": [
           {
            "marker": {
             "colorbar": {
              "outlinewidth": 0,
              "ticks": ""
             }
            },
            "type": "scatterpolar"
           }
          ],
          "scatterpolargl": [
           {
            "marker": {
             "colorbar": {
              "outlinewidth": 0,
              "ticks": ""
             }
            },
            "type": "scatterpolargl"
           }
          ],
          "scatterternary": [
           {
            "marker": {
             "colorbar": {
              "outlinewidth": 0,
              "ticks": ""
             }
            },
            "type": "scatterternary"
           }
          ],
          "surface": [
           {
            "colorbar": {
             "outlinewidth": 0,
             "ticks": ""
            },
            "colorscale": [
             [
              0,
              "#0d0887"
             ],
             [
              0.1111111111111111,
              "#46039f"
             ],
             [
              0.2222222222222222,
              "#7201a8"
             ],
             [
              0.3333333333333333,
              "#9c179e"
             ],
             [
              0.4444444444444444,
              "#bd3786"
             ],
             [
              0.5555555555555556,
              "#d8576b"
             ],
             [
              0.6666666666666666,
              "#ed7953"
             ],
             [
              0.7777777777777778,
              "#fb9f3a"
             ],
             [
              0.8888888888888888,
              "#fdca26"
             ],
             [
              1,
              "#f0f921"
             ]
            ],
            "type": "surface"
           }
          ],
          "table": [
           {
            "cells": {
             "fill": {
              "color": "#EBF0F8"
             },
             "line": {
              "color": "white"
             }
            },
            "header": {
             "fill": {
              "color": "#C8D4E3"
             },
             "line": {
              "color": "white"
             }
            },
            "type": "table"
           }
          ]
         },
         "layout": {
          "annotationdefaults": {
           "arrowcolor": "#2a3f5f",
           "arrowhead": 0,
           "arrowwidth": 1
          },
          "autotypenumbers": "strict",
          "coloraxis": {
           "colorbar": {
            "outlinewidth": 0,
            "ticks": ""
           }
          },
          "colorscale": {
           "diverging": [
            [
             0,
             "#8e0152"
            ],
            [
             0.1,
             "#c51b7d"
            ],
            [
             0.2,
             "#de77ae"
            ],
            [
             0.3,
             "#f1b6da"
            ],
            [
             0.4,
             "#fde0ef"
            ],
            [
             0.5,
             "#f7f7f7"
            ],
            [
             0.6,
             "#e6f5d0"
            ],
            [
             0.7,
             "#b8e186"
            ],
            [
             0.8,
             "#7fbc41"
            ],
            [
             0.9,
             "#4d9221"
            ],
            [
             1,
             "#276419"
            ]
           ],
           "sequential": [
            [
             0,
             "#0d0887"
            ],
            [
             0.1111111111111111,
             "#46039f"
            ],
            [
             0.2222222222222222,
             "#7201a8"
            ],
            [
             0.3333333333333333,
             "#9c179e"
            ],
            [
             0.4444444444444444,
             "#bd3786"
            ],
            [
             0.5555555555555556,
             "#d8576b"
            ],
            [
             0.6666666666666666,
             "#ed7953"
            ],
            [
             0.7777777777777778,
             "#fb9f3a"
            ],
            [
             0.8888888888888888,
             "#fdca26"
            ],
            [
             1,
             "#f0f921"
            ]
           ],
           "sequentialminus": [
            [
             0,
             "#0d0887"
            ],
            [
             0.1111111111111111,
             "#46039f"
            ],
            [
             0.2222222222222222,
             "#7201a8"
            ],
            [
             0.3333333333333333,
             "#9c179e"
            ],
            [
             0.4444444444444444,
             "#bd3786"
            ],
            [
             0.5555555555555556,
             "#d8576b"
            ],
            [
             0.6666666666666666,
             "#ed7953"
            ],
            [
             0.7777777777777778,
             "#fb9f3a"
            ],
            [
             0.8888888888888888,
             "#fdca26"
            ],
            [
             1,
             "#f0f921"
            ]
           ]
          },
          "colorway": [
           "#636efa",
           "#EF553B",
           "#00cc96",
           "#ab63fa",
           "#FFA15A",
           "#19d3f3",
           "#FF6692",
           "#B6E880",
           "#FF97FF",
           "#FECB52"
          ],
          "font": {
           "color": "#2a3f5f"
          },
          "geo": {
           "bgcolor": "white",
           "lakecolor": "white",
           "landcolor": "#E5ECF6",
           "showlakes": true,
           "showland": true,
           "subunitcolor": "white"
          },
          "hoverlabel": {
           "align": "left"
          },
          "hovermode": "closest",
          "mapbox": {
           "style": "light"
          },
          "paper_bgcolor": "white",
          "plot_bgcolor": "#E5ECF6",
          "polar": {
           "angularaxis": {
            "gridcolor": "white",
            "linecolor": "white",
            "ticks": ""
           },
           "bgcolor": "#E5ECF6",
           "radialaxis": {
            "gridcolor": "white",
            "linecolor": "white",
            "ticks": ""
           }
          },
          "scene": {
           "xaxis": {
            "backgroundcolor": "#E5ECF6",
            "gridcolor": "white",
            "gridwidth": 2,
            "linecolor": "white",
            "showbackground": true,
            "ticks": "",
            "zerolinecolor": "white"
           },
           "yaxis": {
            "backgroundcolor": "#E5ECF6",
            "gridcolor": "white",
            "gridwidth": 2,
            "linecolor": "white",
            "showbackground": true,
            "ticks": "",
            "zerolinecolor": "white"
           },
           "zaxis": {
            "backgroundcolor": "#E5ECF6",
            "gridcolor": "white",
            "gridwidth": 2,
            "linecolor": "white",
            "showbackground": true,
            "ticks": "",
            "zerolinecolor": "white"
           }
          },
          "shapedefaults": {
           "line": {
            "color": "#2a3f5f"
           }
          },
          "ternary": {
           "aaxis": {
            "gridcolor": "white",
            "linecolor": "white",
            "ticks": ""
           },
           "baxis": {
            "gridcolor": "white",
            "linecolor": "white",
            "ticks": ""
           },
           "bgcolor": "#E5ECF6",
           "caxis": {
            "gridcolor": "white",
            "linecolor": "white",
            "ticks": ""
           }
          },
          "title": {
           "x": 0.05
          },
          "xaxis": {
           "automargin": true,
           "gridcolor": "white",
           "linecolor": "white",
           "ticks": "",
           "title": {
            "standoff": 15
           },
           "zerolinecolor": "white",
           "zerolinewidth": 2
          },
          "yaxis": {
           "automargin": true,
           "gridcolor": "white",
           "linecolor": "white",
           "ticks": "",
           "title": {
            "standoff": 15
           },
           "zerolinecolor": "white",
           "zerolinewidth": 2
          }
         }
        },
        "title": {
         "text": "EPS Trend Breakdown for cflt"
        },
        "width": 1000,
        "xaxis": {
         "anchor": "y",
         "domain": [
          0,
          0.45
         ],
         "title": {
          "text": "Days Ago"
         }
        },
        "xaxis2": {
         "anchor": "y2",
         "domain": [
          0.55,
          1
         ],
         "title": {
          "text": "Days Ago"
         }
        },
        "yaxis": {
         "anchor": "x",
         "domain": [
          0,
          1
         ],
         "title": {
          "text": "EPS"
         }
        },
        "yaxis2": {
         "anchor": "x2",
         "domain": [
          0,
          1
         ],
         "title": {
          "text": "EPS"
         }
        }
       }
      },
      "image/png": "[encoded data removed]"
     },
     "metadata": {},
     "output_type": "display_data"
    },
    {
     "data": {
      "application/vnd.plotly.v1+json": {
       "config": {
        "plotlyServerURL": "https://plot.ly"
       },
       "data": [
        {
         "mode": "lines+markers",
         "name": "Curr Qtr",
         "type": "scatter",
         "x": [
          90,
          60,
          30,
          7,
          0
         ],
         "xaxis": "x",
         "y": [
          3.3456,
          2.9175,
          2.9175,
          2.8992,
          2.8992
         ],
         "yaxis": "y"
        },
        {
         "mode": "lines+markers",
         "name": "Next Qtr",
         "type": "scatter",
         "x": [
          90,
          60,
          30,
          7,
          0
         ],
         "xaxis": "x",
         "y": [
          2.9351,
          3.0097,
          3.0086,
          2.9792,
          2.9792
         ],
         "yaxis": "y"
        },
        {
         "mode": "lines+markers",
         "name": "Curr Yr",
         "type": "scatter",
         "x": [
          90,
          60,
          30,
          7,
          0
         ],
         "xaxis": "x2",
         "y": [
          14.8131,
          14.7943,
          14.7006,
          14.7197,
          14.7197
         ],
         "yaxis": "y2"
        },
        {
         "mode": "lines+markers",
         "name": "Next Yr",
         "type": "scatter",
         "x": [
          90,
          60,
          30,
          7,
          0
         ],
         "xaxis": "x2",
         "y": [
          16.1704,
          15.8646,
          15.6771,
          15.6057,
          15.6057
         ],
         "yaxis": "y2"
        }
       ],
       "layout": {
        "annotations": [
         {
          "font": {
           "size": 16
          },
          "showarrow": false,
          "text": "Quarterly EPS Trends",
          "x": 0.225,
          "xanchor": "center",
          "xref": "paper",
          "y": 1,
          "yanchor": "bottom",
          "yref": "paper"
         },
         {
          "font": {
           "size": 16
          },
          "showarrow": false,
          "text": "Yearly EPS Trends",
          "x": 0.775,
          "xanchor": "center",
          "xref": "paper",
          "y": 1,
          "yanchor": "bottom",
          "yref": "paper"
         }
        ],
        "height": 500,
        "showlegend": true,
        "template": {
         "data": {
          "bar": [
           {
            "error_x": {
             "color": "#2a3f5f"
            },
            "error_y": {
             "color": "#2a3f5f"
            },
            "marker": {
             "line": {
              "color": "#E5ECF6",
              "width": 0.5
             },
             "pattern": {
              "fillmode": "overlay",
              "size": 10,
              "solidity": 0.2
             }
            },
            "type": "bar"
           }
          ],
          "barpolar": [
           {
            "marker": {
             "line": {
              "color": "#E5ECF6",
              "width": 0.5
             },
             "pattern": {
              "fillmode": "overlay",
              "size": 10,
              "solidity": 0.2
             }
            },
            "type": "barpolar"
           }
          ],
          "carpet": [
           {
            "aaxis": {
             "endlinecolor": "#2a3f5f",
             "gridcolor": "white",
             "linecolor": "white",
             "minorgridcolor": "white",
             "startlinecolor": "#2a3f5f"
            },
            "baxis": {
             "endlinecolor": "#2a3f5f",
             "gridcolor": "white",
             "linecolor": "white",
             "minorgridcolor": "white",
             "startlinecolor": "#2a3f5f"
            },
            "type": "carpet"
           }
          ],
          "choropleth": [
           {
            "colorbar": {
             "outlinewidth": 0,
             "ticks": ""
            },
            "type": "choropleth"
           }
          ],
          "contour": [
           {
            "colorbar": {
             "outlinewidth": 0,
             "ticks": ""
            },
            "colorscale": [
             [
              0,
              "#0d0887"
             ],
             [
              0.1111111111111111,
              "#46039f"
             ],
             [
              0.2222222222222222,
              "#7201a8"
             ],
             [
              0.3333333333333333,
              "#9c179e"
             ],
             [
              0.4444444444444444,
              "#bd3786"
             ],
             [
              0.5555555555555556,
              "#d8576b"
             ],
             [
              0.6666666666666666,
              "#ed7953"
             ],
             [
              0.7777777777777778,
              "#fb9f3a"
             ],
             [
              0.8888888888888888,
              "#fdca26"
             ],
             [
              1,
              "#f0f921"
             ]
            ],
            "type": "contour"
           }
          ],
          "contourcarpet": [
           {
            "colorbar": {
             "outlinewidth": 0,
             "ticks": ""
            },
            "type": "contourcarpet"
           }
          ],
          "heatmap": [
           {
            "colorbar": {
             "outlinewidth": 0,
             "ticks": ""
            },
            "colorscale": [
             [
              0,
              "#0d0887"
             ],
             [
              0.1111111111111111,
              "#46039f"
             ],
             [
              0.2222222222222222,
              "#7201a8"
             ],
             [
              0.3333333333333333,
              "#9c179e"
             ],
             [
              0.4444444444444444,
              "#bd3786"
             ],
             [
              0.5555555555555556,
              "#d8576b"
             ],
             [
              0.6666666666666666,
              "#ed7953"
             ],
             [
              0.7777777777777778,
              "#fb9f3a"
             ],
             [
              0.8888888888888888,
              "#fdca26"
             ],
             [
              1,
              "#f0f921"
             ]
            ],
            "type": "heatmap"
           }
          ],
          "histogram": [
           {
            "marker": {
             "pattern": {
              "fillmode": "overlay",
              "size": 10,
              "solidity": 0.2
             }
            },
            "type": "histogram"
           }
          ],
          "histogram2d": [
           {
            "colorbar": {
             "outlinewidth": 0,
             "ticks": ""
            },
            "colorscale": [
             [
              0,
              "#0d0887"
             ],
             [
              0.1111111111111111,
              "#46039f"
             ],
             [
              0.2222222222222222,
              "#7201a8"
             ],
             [
              0.3333333333333333,
              "#9c179e"
             ],
             [
              0.4444444444444444,
              "#bd3786"
             ],
             [
              0.5555555555555556,
              "#d8576b"
             ],
             [
              0.6666666666666666,
              "#ed7953"
             ],
             [
              0.7777777777777778,
              "#fb9f3a"
             ],
             [
              0.8888888888888888,
              "#fdca26"
             ],
             [
              1,
              "#f0f921"
             ]
            ],
            "type": "histogram2d"
           }
          ],
          "histogram2dcontour": [
           {
            "colorbar": {
             "outlinewidth": 0,
             "ticks": ""
            },
            "colorscale": [
             [
              0,
              "#0d0887"
             ],
             [
              0.1111111111111111,
              "#46039f"
             ],
             [
              0.2222222222222222,
              "#7201a8"
             ],
             [
              0.3333333333333333,
              "#9c179e"
             ],
             [
              0.4444444444444444,
              "#bd3786"
             ],
             [
              0.5555555555555556,
              "#d8576b"
             ],
             [
              0.6666666666666666,
              "#ed7953"
             ],
             [
              0.7777777777777778,
              "#fb9f3a"
             ],
             [
              0.8888888888888888,
              "#fdca26"
             ],
             [
              1,
              "#f0f921"
             ]
            ],
            "type": "histogram2dcontour"
           }
          ],
          "mesh3d": [
           {
            "colorbar": {
             "outlinewidth": 0,
             "ticks": ""
            },
            "type": "mesh3d"
           }
          ],
          "parcoords": [
           {
            "line": {
             "colorbar": {
              "outlinewidth": 0,
              "ticks": ""
             }
            },
            "type": "parcoords"
           }
          ],
          "pie": [
           {
            "automargin": true,
            "type": "pie"
           }
          ],
          "scatter": [
           {
            "fillpattern": {
             "fillmode": "overlay",
             "size": 10,
             "solidity": 0.2
            },
            "type": "scatter"
           }
          ],
          "scatter3d": [
           {
            "line": {
             "colorbar": {
              "outlinewidth": 0,
              "ticks": ""
             }
            },
            "marker": {
             "colorbar": {
              "outlinewidth": 0,
              "ticks": ""
             }
            },
            "type": "scatter3d"
           }
          ],
          "scattercarpet": [
           {
            "marker": {
             "colorbar": {
              "outlinewidth": 0,
              "ticks": ""
             }
            },
            "type": "scattercarpet"
           }
          ],
          "scattergeo": [
           {
            "marker": {
             "colorbar": {
              "outlinewidth": 0,
              "ticks": ""
             }
            },
            "type": "scattergeo"
           }
          ],
          "scattergl": [
           {
            "marker": {
             "colorbar": {
              "outlinewidth": 0,
              "ticks": ""
             }
            },
            "type": "scattergl"
           }
          ],
          "scattermap": [
           {
            "marker": {
             "colorbar": {
              "outlinewidth": 0,
              "ticks": ""
             }
            },
            "type": "scattermap"
           }
          ],
          "scattermapbox": [
           {
            "marker": {
             "colorbar": {
              "outlinewidth": 0,
              "ticks": ""
             }
            },
            "type": "scattermapbox"
           }
          ],
          "scatterpolar": [
           {
            "marker": {
             "colorbar": {
              "outlinewidth": 0,
              "ticks": ""
             }
            },
            "type": "scatterpolar"
           }
          ],
          "scatterpolargl": [
           {
            "marker": {
             "colorbar": {
              "outlinewidth": 0,
              "ticks": ""
             }
            },
            "type": "scatterpolargl"
           }
          ],
          "scatterternary": [
           {
            "marker": {
             "colorbar": {
              "outlinewidth": 0,
              "ticks": ""
             }
            },
            "type": "scatterternary"
           }
          ],
          "surface": [
           {
            "colorbar": {
             "outlinewidth": 0,
             "ticks": ""
            },
            "colorscale": [
             [
              0,
              "#0d0887"
             ],
             [
              0.1111111111111111,
              "#46039f"
             ],
             [
              0.2222222222222222,
              "#7201a8"
             ],
             [
              0.3333333333333333,
              "#9c179e"
             ],
             [
              0.4444444444444444,
              "#bd3786"
             ],
             [
              0.5555555555555556,
              "#d8576b"
             ],
             [
              0.6666666666666666,
              "#ed7953"
             ],
             [
              0.7777777777777778,
              "#fb9f3a"
             ],
             [
              0.8888888888888888,
              "#fdca26"
             ],
             [
              1,
              "#f0f921"
             ]
            ],
            "type": "surface"
           }
          ],
          "table": [
           {
            "cells": {
             "fill": {
              "color": "#EBF0F8"
             },
             "line": {
              "color": "white"
             }
            },
            "header": {
             "fill": {
              "color": "#C8D4E3"
             },
             "line": {
              "color": "white"
             }
            },
            "type": "table"
           }
          ]
         },
         "layout": {
          "annotationdefaults": {
           "arrowcolor": "#2a3f5f",
           "arrowhead": 0,
           "arrowwidth": 1
          },
          "autotypenumbers": "strict",
          "coloraxis": {
           "colorbar": {
            "outlinewidth": 0,
            "ticks": ""
           }
          },
          "colorscale": {
           "diverging": [
            [
             0,
             "#8e0152"
            ],
            [
             0.1,
             "#c51b7d"
            ],
            [
             0.2,
             "#de77ae"
            ],
            [
             0.3,
             "#f1b6da"
            ],
            [
             0.4,
             "#fde0ef"
            ],
            [
             0.5,
             "#f7f7f7"
            ],
            [
             0.6,
             "#e6f5d0"
            ],
            [
             0.7,
             "#b8e186"
            ],
            [
             0.8,
             "#7fbc41"
            ],
            [
             0.9,
             "#4d9221"
            ],
            [
             1,
             "#276419"
            ]
           ],
           "sequential": [
            [
             0,
             "#0d0887"
            ],
            [
             0.1111111111111111,
             "#46039f"
            ],
            [
             0.2222222222222222,
             "#7201a8"
            ],
            [
             0.3333333333333333,
             "#9c179e"
            ],
            [
             0.4444444444444444,
             "#bd3786"
            ],
            [
             0.5555555555555556,
             "#d8576b"
            ],
            [
             0.6666666666666666,
             "#ed7953"
            ],
            [
             0.7777777777777778,
             "#fb9f3a"
            ],
            [
             0.8888888888888888,
             "#fdca26"
            ],
            [
             1,
             "#f0f921"
            ]
           ],
           "sequentialminus": [
            [
             0,
             "#0d0887"
            ],
            [
             0.1111111111111111,
             "#46039f"
            ],
            [
             0.2222222222222222,
             "#7201a8"
            ],
            [
             0.3333333333333333,
             "#9c179e"
            ],
            [
             0.4444444444444444,
             "#bd3786"
            ],
            [
             0.5555555555555556,
             "#d8576b"
            ],
            [
             0.6666666666666666,
             "#ed7953"
            ],
            [
             0.7777777777777778,
             "#fb9f3a"
            ],
            [
             0.8888888888888888,
             "#fdca26"
            ],
            [
             1,
             "#f0f921"
            ]
           ]
          },
          "colorway": [
           "#636efa",
           "#EF553B",
           "#00cc96",
           "#ab63fa",
           "#FFA15A",
           "#19d3f3",
           "#FF6692",
           "#B6E880",
           "#FF97FF",
           "#FECB52"
          ],
          "font": {
           "color": "#2a3f5f"
          },
          "geo": {
           "bgcolor": "white",
           "lakecolor": "white",
           "landcolor": "#E5ECF6",
           "showlakes": true,
           "showland": true,
           "subunitcolor": "white"
          },
          "hoverlabel": {
           "align": "left"
          },
          "hovermode": "closest",
          "mapbox": {
           "style": "light"
          },
          "paper_bgcolor": "white",
          "plot_bgcolor": "#E5ECF6",
          "polar": {
           "angularaxis": {
            "gridcolor": "white",
            "linecolor": "white",
            "ticks": ""
           },
           "bgcolor": "#E5ECF6",
           "radialaxis": {
            "gridcolor": "white",
            "linecolor": "white",
            "ticks": ""
           }
          },
          "scene": {
           "xaxis": {
            "backgroundcolor": "#E5ECF6",
            "gridcolor": "white",
            "gridwidth": 2,
            "linecolor": "white",
            "showbackground": true,
            "ticks": "",
            "zerolinecolor": "white"
           },
           "yaxis": {
            "backgroundcolor": "#E5ECF6",
            "gridcolor": "white",
            "gridwidth": 2,
            "linecolor": "white",
            "showbackground": true,
            "ticks": "",
            "zerolinecolor": "white"
           },
           "zaxis": {
            "backgroundcolor": "#E5ECF6",
            "gridcolor": "white",
            "gridwidth": 2,
            "linecolor": "white",
            "showbackground": true,
            "ticks": "",
            "zerolinecolor": "white"
           }
          },
          "shapedefaults": {
           "line": {
            "color": "#2a3f5f"
           }
          },
          "ternary": {
           "aaxis": {
            "gridcolor": "white",
            "linecolor": "white",
            "ticks": ""
           },
           "baxis": {
            "gridcolor": "white",
            "linecolor": "white",
            "ticks": ""
           },
           "bgcolor": "#E5ECF6",
           "caxis": {
            "gridcolor": "white",
            "linecolor": "white",
            "ticks": ""
           }
          },
          "title": {
           "x": 0.05
          },
          "xaxis": {
           "automargin": true,
           "gridcolor": "white",
           "linecolor": "white",
           "ticks": "",
           "title": {
            "standoff": 15
           },
           "zerolinecolor": "white",
           "zerolinewidth": 2
          },
          "yaxis": {
           "automargin": true,
           "gridcolor": "white",
           "linecolor": "white",
           "ticks": "",
           "title": {
            "standoff": 15
           },
           "zerolinecolor": "white",
           "zerolinewidth": 2
          }
         }
        },
        "title": {
         "text": "EPS Trend Breakdown for lulu"
        },
        "width": 1000,
        "xaxis": {
         "anchor": "y",
         "domain": [
          0,
          0.45
         ],
         "title": {
          "text": "Days Ago"
         }
        },
        "xaxis2": {
         "anchor": "y2",
         "domain": [
          0.55,
          1
         ],
         "title": {
          "text": "Days Ago"
         }
        },
        "yaxis": {
         "anchor": "x",
         "domain": [
          0,
          1
         ],
         "title": {
          "text": "EPS"
         }
        },
        "yaxis2": {
         "anchor": "x2",
         "domain": [
          0,
          1
         ],
         "title": {
          "text": "EPS"
         }
        }
       }
      },
      "image/png": "[encoded data removed]"
     },
     "metadata": {},
     "output_type": "display_data"
    },
    {
     "data": {
      "application/vnd.plotly.v1+json": {
       "config": {
        "plotlyServerURL": "https://plot.ly"
       },
       "data": [
        {
         "mode": "lines+markers",
         "name": "Curr Qtr",
         "type": "scatter",
         "x": [
          90,
          60,
          30,
          7,
          0
         ],
         "xaxis": "x",
         "y": [
          0.0464,
          0.0455,
          0.0455,
          0.0047,
          0.0049
         ],
         "yaxis": "y"
        },
        {
         "mode": "lines+markers",
         "name": "Next Qtr",
         "type": "scatter",
         "x": [
          90,
          60,
          30,
          7,
          0
         ],
         "xaxis": "x",
         "y": [
          null,
          null,
          null,
          null,
          null
         ],
         "yaxis": "y"
        },
        {
         "mode": "lines+markers",
         "name": "Curr Yr",
         "type": "scatter",
         "x": [
          90,
          60,
          30,
          7,
          0
         ],
         "xaxis": "x2",
         "y": [
          0.3018,
          0.2974,
          0.2974,
          0.1259,
          0.1279
         ],
         "yaxis": "y2"
        },
        {
         "mode": "lines+markers",
         "name": "Next Yr",
         "type": "scatter",
         "x": [
          90,
          60,
          30,
          7,
          0
         ],
         "xaxis": "x2",
         "y": [
          0.8163,
          0.7992,
          0.8016,
          0.6608,
          0.6616
         ],
         "yaxis": "y2"
        }
       ],
       "layout": {
        "annotations": [
         {
          "font": {
           "size": 16
          },
          "showarrow": false,
          "text": "Quarterly EPS Trends",
          "x": 0.225,
          "xanchor": "center",
          "xref": "paper",
          "y": 1,
          "yanchor": "bottom",
          "yref": "paper"
         },
         {
          "font": {
           "size": 16
          },
          "showarrow": false,
          "text": "Yearly EPS Trends",
          "x": 0.775,
          "xanchor": "center",
          "xref": "paper",
          "y": 1,
          "yanchor": "bottom",
          "yref": "paper"
         }
        ],
        "height": 500,
        "showlegend": true,
        "template": {
         "data": {
          "bar": [
           {
            "error_x": {
             "color": "#2a3f5f"
            },
            "error_y": {
             "color": "#2a3f5f"
            },
            "marker": {
             "line": {
              "color": "#E5ECF6",
              "width": 0.5
             },
             "pattern": {
              "fillmode": "overlay",
              "size": 10,
              "solidity": 0.2
             }
            },
            "type": "bar"
           }
          ],
          "barpolar": [
           {
            "marker": {
             "line": {
              "color": "#E5ECF6",
              "width": 0.5
             },
             "pattern": {
              "fillmode": "overlay",
              "size": 10,
              "solidity": 0.2
             }
            },
            "type": "barpolar"
           }
          ],
          "carpet": [
           {
            "aaxis": {
             "endlinecolor": "#2a3f5f",
             "gridcolor": "white",
             "linecolor": "white",
             "minorgridcolor": "white",
             "startlinecolor": "#2a3f5f"
            },
            "baxis": {
             "endlinecolor": "#2a3f5f",
             "gridcolor": "white",
             "linecolor": "white",
             "minorgridcolor": "white",
             "startlinecolor": "#2a3f5f"
            },
            "type": "carpet"
           }
          ],
          "choropleth": [
           {
            "colorbar": {
             "outlinewidth": 0,
             "ticks": ""
            },
            "type": "choropleth"
           }
          ],
          "contour": [
           {
            "colorbar": {
             "outlinewidth": 0,
             "ticks": ""
            },
            "colorscale": [
             [
              0,
              "#0d0887"
             ],
             [
              0.1111111111111111,
              "#46039f"
             ],
             [
              0.2222222222222222,
              "#7201a8"
             ],
             [
              0.3333333333333333,
              "#9c179e"
             ],
             [
              0.4444444444444444,
              "#bd3786"
             ],
             [
              0.5555555555555556,
              "#d8576b"
             ],
             [
              0.6666666666666666,
              "#ed7953"
             ],
             [
              0.7777777777777778,
              "#fb9f3a"
             ],
             [
              0.8888888888888888,
              "#fdca26"
             ],
             [
              1,
              "#f0f921"
             ]
            ],
            "type": "contour"
           }
          ],
          "contourcarpet": [
           {
            "colorbar": {
             "outlinewidth": 0,
             "ticks": ""
            },
            "type": "contourcarpet"
           }
          ],
          "heatmap": [
           {
            "colorbar": {
             "outlinewidth": 0,
             "ticks": ""
            },
            "colorscale": [
             [
              0,
              "#0d0887"
             ],
             [
              0.1111111111111111,
              "#46039f"
             ],
             [
              0.2222222222222222,
              "#7201a8"
             ],
             [
              0.3333333333333333,
              "#9c179e"
             ],
             [
              0.4444444444444444,
              "#bd3786"
             ],
             [
              0.5555555555555556,
              "#d8576b"
             ],
             [
              0.6666666666666666,
              "#ed7953"
             ],
             [
              0.7777777777777778,
              "#fb9f3a"
             ],
             [
              0.8888888888888888,
              "#fdca26"
             ],
             [
              1,
              "#f0f921"
             ]
            ],
            "type": "heatmap"
           }
          ],
          "histogram": [
           {
            "marker": {
             "pattern": {
              "fillmode": "overlay",
              "size": 10,
              "solidity": 0.2
             }
            },
            "type": "histogram"
           }
          ],
          "histogram2d": [
           {
            "colorbar": {
             "outlinewidth": 0,
             "ticks": ""
            },
            "colorscale": [
             [
              0,
              "#0d0887"
             ],
             [
              0.1111111111111111,
              "#46039f"
             ],
             [
              0.2222222222222222,
              "#7201a8"
             ],
             [
              0.3333333333333333,
              "#9c179e"
             ],
             [
              0.4444444444444444,
              "#bd3786"
             ],
             [
              0.5555555555555556,
              "#d8576b"
             ],
             [
              0.6666666666666666,
              "#ed7953"
             ],
             [
              0.7777777777777778,
              "#fb9f3a"
             ],
             [
              0.8888888888888888,
              "#fdca26"
             ],
             [
              1,
              "#f0f921"
             ]
            ],
            "type": "histogram2d"
           }
          ],
          "histogram2dcontour": [
           {
            "colorbar": {
             "outlinewidth": 0,
             "ticks": ""
            },
            "colorscale": [
             [
              0,
              "#0d0887"
             ],
             [
              0.1111111111111111,
              "#46039f"
             ],
             [
              0.2222222222222222,
              "#7201a8"
             ],
             [
              0.3333333333333333,
              "#9c179e"
             ],
             [
              0.4444444444444444,
              "#bd3786"
             ],
             [
              0.5555555555555556,
              "#d8576b"
             ],
             [
              0.6666666666666666,
              "#ed7953"
             ],
             [
              0.7777777777777778,
              "#fb9f3a"
             ],
             [
              0.8888888888888888,
              "#fdca26"
             ],
             [
              1,
              "#f0f921"
             ]
            ],
            "type": "histogram2dcontour"
           }
          ],
          "mesh3d": [
           {
            "colorbar": {
             "outlinewidth": 0,
             "ticks": ""
            },
            "type": "mesh3d"
           }
          ],
          "parcoords": [
           {
            "line": {
             "colorbar": {
              "outlinewidth": 0,
              "ticks": ""
             }
            },
            "type": "parcoords"
           }
          ],
          "pie": [
           {
            "automargin": true,
            "type": "pie"
           }
          ],
          "scatter": [
           {
            "fillpattern": {
             "fillmode": "overlay",
             "size": 10,
             "solidity": 0.2
            },
            "type": "scatter"
           }
          ],
          "scatter3d": [
           {
            "line": {
             "colorbar": {
              "outlinewidth": 0,
              "ticks": ""
             }
            },
            "marker": {
             "colorbar": {
              "outlinewidth": 0,
              "ticks": ""
             }
            },
            "type": "scatter3d"
           }
          ],
          "scattercarpet": [
           {
            "marker": {
             "colorbar": {
              "outlinewidth": 0,
              "ticks": ""
             }
            },
            "type": "scattercarpet"
           }
          ],
          "scattergeo": [
           {
            "marker": {
             "colorbar": {
              "outlinewidth": 0,
              "ticks": ""
             }
            },
            "type": "scattergeo"
           }
          ],
          "scattergl": [
           {
            "marker": {
             "colorbar": {
              "outlinewidth": 0,
              "ticks": ""
             }
            },
            "type": "scattergl"
           }
          ],
          "scattermap": [
           {
            "marker": {
             "colorbar": {
              "outlinewidth": 0,
              "ticks": ""
             }
            },
            "type": "scattermap"
           }
          ],
          "scattermapbox": [
           {
            "marker": {
             "colorbar": {
              "outlinewidth": 0,
              "ticks": ""
             }
            },
            "type": "scattermapbox"
           }
          ],
          "scatterpolar": [
           {
            "marker": {
             "colorbar": {
              "outlinewidth": 0,
              "ticks": ""
             }
            },
            "type": "scatterpolar"
           }
          ],
          "scatterpolargl": [
           {
            "marker": {
             "colorbar": {
              "outlinewidth": 0,
              "ticks": ""
             }
            },
            "type": "scatterpolargl"
           }
          ],
          "scatterternary": [
           {
            "marker": {
             "colorbar": {
              "outlinewidth": 0,
              "ticks": ""
             }
            },
            "type": "scatterternary"
           }
          ],
          "surface": [
           {
            "colorbar": {
             "outlinewidth": 0,
             "ticks": ""
            },
            "colorscale": [
             [
              0,
              "#0d0887"
             ],
             [
              0.1111111111111111,
              "#46039f"
             ],
             [
              0.2222222222222222,
              "#7201a8"
             ],
             [
              0.3333333333333333,
              "#9c179e"
             ],
             [
              0.4444444444444444,
              "#bd3786"
             ],
             [
              0.5555555555555556,
              "#d8576b"
             ],
             [
              0.6666666666666666,
              "#ed7953"
             ],
             [
              0.7777777777777778,
              "#fb9f3a"
             ],
             [
              0.8888888888888888,
              "#fdca26"
             ],
             [
              1,
              "#f0f921"
             ]
            ],
            "type": "surface"
           }
          ],
          "table": [
           {
            "cells": {
             "fill": {
              "color": "#EBF0F8"
             },
             "line": {
              "color": "white"
             }
            },
            "header": {
             "fill": {
              "color": "#C8D4E3"
             },
             "line": {
              "color": "white"
             }
            },
            "type": "table"
           }
          ]
         },
         "layout": {
          "annotationdefaults": {
           "arrowcolor": "#2a3f5f",
           "arrowhead": 0,
           "arrowwidth": 1
          },
          "autotypenumbers": "strict",
          "coloraxis": {
           "colorbar": {
            "outlinewidth": 0,
            "ticks": ""
           }
          },
          "colorscale": {
           "diverging": [
            [
             0,
             "#8e0152"
            ],
            [
             0.1,
             "#c51b7d"
            ],
            [
             0.2,
             "#de77ae"
            ],
            [
             0.3,
             "#f1b6da"
            ],
            [
             0.4,
             "#fde0ef"
            ],
            [
             0.5,
             "#f7f7f7"
            ],
            [
             0.6,
             "#e6f5d0"
            ],
            [
             0.7,
             "#b8e186"
            ],
            [
             0.8,
             "#7fbc41"
            ],
            [
             0.9,
             "#4d9221"
            ],
            [
             1,
             "#276419"
            ]
           ],
           "sequential": [
            [
             0,
             "#0d0887"
            ],
            [
             0.1111111111111111,
             "#46039f"
            ],
            [
             0.2222222222222222,
             "#7201a8"
            ],
            [
             0.3333333333333333,
             "#9c179e"
            ],
            [
             0.4444444444444444,
             "#bd3786"
            ],
            [
             0.5555555555555556,
             "#d8576b"
            ],
            [
             0.6666666666666666,
             "#ed7953"
            ],
            [
             0.7777777777777778,
             "#fb9f3a"
            ],
            [
             0.8888888888888888,
             "#fdca26"
            ],
            [
             1,
             "#f0f921"
            ]
           ],
           "sequentialminus": [
            [
             0,
             "#0d0887"
            ],
            [
             0.1111111111111111,
             "#46039f"
            ],
            [
             0.2222222222222222,
             "#7201a8"
            ],
            [
             0.3333333333333333,
             "#9c179e"
            ],
            [
             0.4444444444444444,
             "#bd3786"
            ],
            [
             0.5555555555555556,
             "#d8576b"
            ],
            [
             0.6666666666666666,
             "#ed7953"
            ],
            [
             0.7777777777777778,
             "#fb9f3a"
            ],
            [
             0.8888888888888888,
             "#fdca26"
            ],
            [
             1,
             "#f0f921"
            ]
           ]
          },
          "colorway": [
           "#636efa",
           "#EF553B",
           "#00cc96",
           "#ab63fa",
           "#FFA15A",
           "#19d3f3",
           "#FF6692",
           "#B6E880",
           "#FF97FF",
           "#FECB52"
          ],
          "font": {
           "color": "#2a3f5f"
          },
          "geo": {
           "bgcolor": "white",
           "lakecolor": "white",
           "landcolor": "#E5ECF6",
           "showlakes": true,
           "showland": true,
           "subunitcolor": "white"
          },
          "hoverlabel": {
           "align": "left"
          },
          "hovermode": "closest",
          "mapbox": {
           "style": "light"
          },
          "paper_bgcolor": "white",
          "plot_bgcolor": "#E5ECF6",
          "polar": {
           "angularaxis": {
            "gridcolor": "white",
            "linecolor": "white",
            "ticks": ""
           },
           "bgcolor": "#E5ECF6",
           "radialaxis": {
            "gridcolor": "white",
            "linecolor": "white",
            "ticks": ""
           }
          },
          "scene": {
           "xaxis": {
            "backgroundcolor": "#E5ECF6",
            "gridcolor": "white",
            "gridwidth": 2,
            "linecolor": "white",
            "showbackground": true,
            "ticks": "",
            "zerolinecolor": "white"
           },
           "yaxis": {
            "backgroundcolor": "#E5ECF6",
            "gridcolor": "white",
            "gridwidth": 2,
            "linecolor": "white",
            "showbackground": true,
            "ticks": "",
            "zerolinecolor": "white"
           },
           "zaxis": {
            "backgroundcolor": "#E5ECF6",
            "gridcolor": "white",
            "gridwidth": 2,
            "linecolor": "white",
            "showbackground": true,
            "ticks": "",
            "zerolinecolor": "white"
           }
          },
          "shapedefaults": {
           "line": {
            "color": "#2a3f5f"
           }
          },
          "ternary": {
           "aaxis": {
            "gridcolor": "white",
            "linecolor": "white",
            "ticks": ""
           },
           "baxis": {
            "gridcolor": "white",
            "linecolor": "white",
            "ticks": ""
           },
           "bgcolor": "#E5ECF6",
           "caxis": {
            "gridcolor": "white",
            "linecolor": "white",
            "ticks": ""
           }
          },
          "title": {
           "x": 0.05
          },
          "xaxis": {
           "automargin": true,
           "gridcolor": "white",
           "linecolor": "white",
           "ticks": "",
           "title": {
            "standoff": 15
           },
           "zerolinecolor": "white",
           "zerolinewidth": 2
          },
          "yaxis": {
           "automargin": true,
           "gridcolor": "white",
           "linecolor": "white",
           "ticks": "",
           "title": {
            "standoff": 15
           },
           "zerolinecolor": "white",
           "zerolinewidth": 2
          }
         }
        },
        "title": {
         "text": "EPS Trend Breakdown for intc"
        },
        "width": 1000,
        "xaxis": {
         "anchor": "y",
         "domain": [
          0,
          0.45
         ],
         "title": {
          "text": "Days Ago"
         }
        },
        "xaxis2": {
         "anchor": "y2",
         "domain": [
          0.55,
          1
         ],
         "title": {
          "text": "Days Ago"
         }
        },
        "yaxis": {
         "anchor": "x",
         "domain": [
          0,
          1
         ],
         "title": {
          "text": "EPS"
         }
        },
        "yaxis2": {
         "anchor": "x2",
         "domain": [
          0,
          1
         ],
         "title": {
          "text": "EPS"
         }
        }
       }
      },
      "image/png": "[encoded data removed]"
     },
     "metadata": {},
     "output_type": "display_data"
    }
   ],
   "source": [
    "import pandas as pd\n",
    "import numpy as np\n",
    "import matplotlib.pyplot as plt\n",
    "import seaborn as sns\n",
    "from scipy.stats import linregress\n",
    "import plotly.graph_objects as go\n",
    "from plotly.subplots import make_subplots\n",
    "\n",
    "# 🟩 Functions for calculating slopes and plotting\n",
    "\n",
    "def calc_slope(row, period):\n",
    "    y = [\n",
    "        row.get(f\"{period} 90\"),\n",
    "        row.get(f\"{period} 60\"),\n",
    "        row.get(f\"{period} 30\"),\n",
    "        row.get(f\"{period} 7\"),\n",
    "        row.get(f\"{period} Curr\")\n",
    "    ]\n",
    "    x = [90, 60, 30, 7, 0]\n",
    "    if any(pd.isna(yv) for yv in y):\n",
    "        return np.nan\n",
    "    slope, _, _, _, _ = linregress(x, y)\n",
    "    return slope\n",
    "\n",
    "def create_slope_heatmap(df, save_path=\"eps_slope_heatmap.png\"):\n",
    "    periods = [\"Curr Qtr\", \"Next Qtr\", \"Curr Yr\", \"Next Yr\"]\n",
    "    \n",
    "    # Calculate slopes\n",
    "    for period in periods:\n",
    "        df[f\"{period} Slope\"] = df.apply(lambda r: calc_slope(r, period), axis=1)\n",
    "\n",
    "    heatmap_data = df.set_index(\"Ticker\")[[f\"{p} Slope\" for p in periods]].T\n",
    "    \n",
    "    # Adjust figure size based on number of tickers\n",
    "    n_tickers = len(heatmap_data.columns)\n",
    "    plt.figure(figsize=(max(14, n_tickers), 6))  # Make boxes wider if many tickers\n",
    "    \n",
    "    sns.heatmap(\n",
    "        heatmap_data,\n",
    "        cmap=\"coolwarm\",\n",
    "        center=0,\n",
    "        annot=True,\n",
    "        fmt=\".4f\",  # Display 4 decimal places\n",
    "        cbar=True,\n",
    "        linewidths=0.6,\n",
    "        linecolor=\"grey\"\n",
    "    )\n",
    "    plt.title(\"EPS Trend Slopes (90d → Current)\")\n",
    "    plt.xlabel(\"Ticker\")\n",
    "    plt.ylabel(\"Period\")\n",
    "    plt.xticks(rotation=45, ha='right')\n",
    "    \n",
    "    plt.tight_layout()\n",
    "    plt.savefig(save_path, dpi=300)\n",
    "    plt.show()\n",
    "\n",
    "def plot_stock_eps_trends_plotly(row):\n",
    "    time_points = [90, 60, 30, 7, 0]\n",
    "    \n",
    "    # Create subplots (1 row, 2 columns)\n",
    "    fig = make_subplots(rows=1, cols=2, subplot_titles=(\"Quarterly EPS Trends\", \"Yearly EPS Trends\"))\n",
    "    \n",
    "    # Quarterly EPS Trends\n",
    "    periods_quarter = [\"Curr Qtr\", \"Next Qtr\"]\n",
    "    for period in periods_quarter:\n",
    "        eps_values = [\n",
    "            row.get(f\"{period} 90\"),\n",
    "            row.get(f\"{period} 60\"),\n",
    "            row.get(f\"{period} 30\"),\n",
    "            row.get(f\"{period} 7\"),\n",
    "            row.get(f\"{period} Curr\")\n",
    "        ]\n",
    "        fig.add_trace(\n",
    "            go.Scatter(\n",
    "                x=time_points,\n",
    "                y=eps_values,\n",
    "                mode='lines+markers',\n",
    "                name=period\n",
    "            ),\n",
    "            row=1, col=1\n",
    "        )\n",
    "    \n",
    "    # Yearly EPS Trends\n",
    "    periods_year = [\"Curr Yr\", \"Next Yr\"]\n",
    "    for period in periods_year:\n",
    "        eps_values = [\n",
    "            row.get(f\"{period} 90\"),\n",
    "            row.get(f\"{period} 60\"),\n",
    "            row.get(f\"{period} 30\"),\n",
    "            row.get(f\"{period} 7\"),\n",
    "            row.get(f\"{period} Curr\")\n",
    "        ]\n",
    "        fig.add_trace(\n",
    "            go.Scatter(\n",
    "                x=time_points,\n",
    "                y=eps_values,\n",
    "                mode='lines+markers',\n",
    "                name=period\n",
    "            ),\n",
    "            row=1, col=2\n",
    "        )\n",
    "    \n",
    "    fig.update_layout(\n",
    "        title_text=f\"EPS Trend Breakdown for {row['Ticker']}\",\n",
    "        height=500,\n",
    "        width=1000,\n",
    "        showlegend=True\n",
    "    )\n",
    "    \n",
    "    fig.update_xaxes(title_text=\"Days Ago\", row=1, col=1)\n",
    "    fig.update_yaxes(title_text=\"EPS\", row=1, col=1)\n",
    "    fig.update_xaxes(title_text=\"Days Ago\", row=1, col=2)\n",
    "    fig.update_yaxes(title_text=\"EPS\", row=1, col=2)\n",
    "    \n",
    "    fig.show()\n",
    "\n",
    "# 🟩 Main execution block\n",
    "if __name__ == \"__main__\":\n",
    "    tickers = [f\"{t}.US\" for t in raw1]\n",
    "    tbl = build_eps_trends(tickers)\n",
    "    \n",
    "    # Plot and save heatmap\n",
    "    create_slope_heatmap(tbl)\n",
    "    \n",
    "    # Plot interactive EPS trends\n",
    "    for idx, row in tbl.iterrows():\n",
    "        plot_stock_eps_trends_plotly(row)\n"
   ]
  },
  {
   "cell_type": "code",
   "execution_count": 9,
   "id": "56788bb9-1f37-494a-84ba-cfea41ae7b5a",
   "metadata": {},
   "outputs": [
    {
     "name": "stdout",
     "output_type": "stream",
     "text": [
      "{\n",
      "    \"contract\": \"AAPL250718C00225000\",\n",
      "    \"underlying_symbol\": \"AAPL\",\n",
      "    \"exp_date\": \"2025-07-18\",\n",
      "    \"expiration_type\": \"monthly\",\n",
      "    \"type\": \"call\",\n",
      "    \"strike\": 225,\n",
      "    \"exchange\": \"NASDAQ\",\n",
      "    \"currency\": \"USD\",\n",
      "    \"open\": 0.17,\n",
      "    \"high\": 0.61,\n",
      "    \"low\": 0.15,\n",
      "    \"last\": 0.4,\n",
      "    \"last_size\": 10,\n",
      "    \"change\": 0.23,\n",
      "    \"pctchange\": 135.29,\n",
      "    \"previous\": 0.17,\n",
      "    \"previous_date\": \"2025-06-27\",\n",
      "    \"bid\": 0.4,\n",
      "    \"bid_date\": \"2025-06-30 19:59:59\",\n",
      "    \"bid_size\": 10,\n",
      "    \"ask\": 0.41,\n",
      "    \"ask_date\": \"2025-06-30 19:59:59\",\n",
      "    \"ask_size\": 20,\n",
      "    \"moneyness\": -0.09999999999999998,\n",
      "    \"volume\": 9409,\n",
      "    \"volume_change\": -13927,\n",
      "    \"volume_pctchange\": -59.68,\n",
      "    \"open_interest\": 41587,\n",
      "    \"open_interest_change\": 19706,\n",
      "    \"open_interest_pctchange\": 90.06,\n",
      "    \"volatility\": 0.2747,\n",
      "    \"volatility_change\": 0.0171,\n",
      "    \"volatility_pctchange\": 6.63,\n",
      "    \"theoretical\": 0.4,\n",
      "    \"delta\": 0.073347,\n",
      "    \"gamma\": 0.011117,\n",
      "    \"theta\": -0.049909,\n",
      "    \"vega\": 0.063408,\n",
      "    \"rho\": 0.007224,\n",
      "    \"tradetime\": \"2025-06-30\",\n",
      "    \"vol_oi_ratio\": 0.23,\n",
      "    \"dte\": 18,\n",
      "    \"midpoint\": 0.41\n",
      "}\n"
     ]
    },
    {
     "name": "stderr",
     "output_type": "stream",
     "text": [
      "C:\\Users\\Daniel2\\AppData\\Local\\Temp\\ipykernel_48200\\1012642755.py:38: RuntimeWarning:\n",
      "\n",
      "divide by zero encountered in log\n",
      "\n",
      "C:\\Users\\Daniel2\\AppData\\Local\\Temp\\ipykernel_48200\\1012642755.py:38: RuntimeWarning:\n",
      "\n",
      "invalid value encountered in log\n",
      "\n"
     ]
    },
    {
     "data": {
      "text/html": [
       "<div>\n",
       "<style scoped>\n",
       "    .dataframe tbody tr th:only-of-type {\n",
       "        vertical-align: middle;\n",
       "    }\n",
       "\n",
       "    .dataframe tbody tr th {\n",
       "        vertical-align: top;\n",
       "    }\n",
       "\n",
       "    .dataframe thead th {\n",
       "        text-align: right;\n",
       "    }\n",
       "</style>\n",
       "<table border=\"1\" class=\"dataframe\">\n",
       "  <thead>\n",
       "    <tr style=\"text-align: right;\">\n",
       "      <th></th>\n",
       "      <th>Ticker</th>\n",
       "      <th>Current Underlying</th>\n",
       "      <th>Option Type</th>\n",
       "      <th>Strike</th>\n",
       "      <th>Expiration</th>\n",
       "      <th>Implied Volatility</th>\n",
       "      <th>Number of Contracts</th>\n",
       "      <th>Average Cost per Contract</th>\n",
       "      <th>Equity Invested</th>\n",
       "      <th>Current Premium</th>\n",
       "      <th>Current Equity</th>\n",
       "      <th>Current % Change</th>\n",
       "      <th>Days to Gain</th>\n",
       "      <th>Scenario % Change</th>\n",
       "      <th>Simulated Underlying (+)</th>\n",
       "      <th>Simulated Underlying (-)</th>\n",
       "      <th>Simulated Premium (+)</th>\n",
       "      <th>Simulated Premium (-)</th>\n",
       "      <th>Premium % Change (+)</th>\n",
       "      <th>Premium % Change (-)</th>\n",
       "    </tr>\n",
       "  </thead>\n",
       "  <tbody>\n",
       "    <tr>\n",
       "      <th>0</th>\n",
       "      <td>AAPL</td>\n",
       "      <td>207.34</td>\n",
       "      <td>call</td>\n",
       "      <td>220.0</td>\n",
       "      <td>2025-12-19</td>\n",
       "      <td>26.91</td>\n",
       "      <td>3</td>\n",
       "      <td>4.5</td>\n",
       "      <td>1350.0</td>\n",
       "      <td>10.65</td>\n",
       "      <td>3195.0</td>\n",
       "      <td>136.67</td>\n",
       "      <td>30</td>\n",
       "      <td>±5%</td>\n",
       "      <td>217.71</td>\n",
       "      <td>196.97</td>\n",
       "      <td>15.36</td>\n",
       "      <td>6.29</td>\n",
       "      <td>44.21</td>\n",
       "      <td>-40.97</td>\n",
       "    </tr>\n",
       "    <tr>\n",
       "      <th>1</th>\n",
       "      <td>AAPL</td>\n",
       "      <td>207.34</td>\n",
       "      <td>call</td>\n",
       "      <td>220.0</td>\n",
       "      <td>2025-12-19</td>\n",
       "      <td>26.91</td>\n",
       "      <td>3</td>\n",
       "      <td>4.5</td>\n",
       "      <td>1350.0</td>\n",
       "      <td>10.65</td>\n",
       "      <td>3195.0</td>\n",
       "      <td>136.67</td>\n",
       "      <td>30</td>\n",
       "      <td>±10%</td>\n",
       "      <td>228.07</td>\n",
       "      <td>186.61</td>\n",
       "      <td>21.67</td>\n",
       "      <td>3.52</td>\n",
       "      <td>103.44</td>\n",
       "      <td>-66.92</td>\n",
       "    </tr>\n",
       "    <tr>\n",
       "      <th>2</th>\n",
       "      <td>AAPL</td>\n",
       "      <td>207.34</td>\n",
       "      <td>call</td>\n",
       "      <td>220.0</td>\n",
       "      <td>2025-12-19</td>\n",
       "      <td>26.91</td>\n",
       "      <td>3</td>\n",
       "      <td>4.5</td>\n",
       "      <td>1350.0</td>\n",
       "      <td>10.65</td>\n",
       "      <td>3195.0</td>\n",
       "      <td>136.67</td>\n",
       "      <td>30</td>\n",
       "      <td>±20%</td>\n",
       "      <td>248.81</td>\n",
       "      <td>165.87</td>\n",
       "      <td>37.20</td>\n",
       "      <td>0.77</td>\n",
       "      <td>249.29</td>\n",
       "      <td>-92.80</td>\n",
       "    </tr>\n",
       "    <tr>\n",
       "      <th>3</th>\n",
       "      <td>AAPL</td>\n",
       "      <td>207.34</td>\n",
       "      <td>call</td>\n",
       "      <td>220.0</td>\n",
       "      <td>2025-12-19</td>\n",
       "      <td>26.91</td>\n",
       "      <td>3</td>\n",
       "      <td>4.5</td>\n",
       "      <td>1350.0</td>\n",
       "      <td>10.65</td>\n",
       "      <td>3195.0</td>\n",
       "      <td>136.67</td>\n",
       "      <td>30</td>\n",
       "      <td>±50%</td>\n",
       "      <td>311.01</td>\n",
       "      <td>103.67</td>\n",
       "      <td>95.40</td>\n",
       "      <td>0.00</td>\n",
       "      <td>795.81</td>\n",
       "      <td>-100.00</td>\n",
       "    </tr>\n",
       "    <tr>\n",
       "      <th>4</th>\n",
       "      <td>AAPL</td>\n",
       "      <td>207.34</td>\n",
       "      <td>call</td>\n",
       "      <td>220.0</td>\n",
       "      <td>2025-12-19</td>\n",
       "      <td>26.91</td>\n",
       "      <td>3</td>\n",
       "      <td>4.5</td>\n",
       "      <td>1350.0</td>\n",
       "      <td>10.65</td>\n",
       "      <td>3195.0</td>\n",
       "      <td>136.67</td>\n",
       "      <td>30</td>\n",
       "      <td>±100%</td>\n",
       "      <td>414.68</td>\n",
       "      <td>0.00</td>\n",
       "      <td>198.86</td>\n",
       "      <td>0.00</td>\n",
       "      <td>1767.23</td>\n",
       "      <td>-100.00</td>\n",
       "    </tr>\n",
       "    <tr>\n",
       "      <th>5</th>\n",
       "      <td>AAPL</td>\n",
       "      <td>207.34</td>\n",
       "      <td>call</td>\n",
       "      <td>220.0</td>\n",
       "      <td>2025-12-19</td>\n",
       "      <td>26.91</td>\n",
       "      <td>3</td>\n",
       "      <td>4.5</td>\n",
       "      <td>1350.0</td>\n",
       "      <td>10.65</td>\n",
       "      <td>3195.0</td>\n",
       "      <td>136.67</td>\n",
       "      <td>30</td>\n",
       "      <td>±200%</td>\n",
       "      <td>622.02</td>\n",
       "      <td>-207.34</td>\n",
       "      <td>406.20</td>\n",
       "      <td>NaN</td>\n",
       "      <td>3714.07</td>\n",
       "      <td>NaN</td>\n",
       "    </tr>\n",
       "  </tbody>\n",
       "</table>\n",
       "</div>"
      ],
      "text/plain": [
       "  Ticker  Current Underlying Option Type  Strike  Expiration  \\\n",
       "0   AAPL              207.34        call   220.0  2025-12-19   \n",
       "1   AAPL              207.34        call   220.0  2025-12-19   \n",
       "2   AAPL              207.34        call   220.0  2025-12-19   \n",
       "3   AAPL              207.34        call   220.0  2025-12-19   \n",
       "4   AAPL              207.34        call   220.0  2025-12-19   \n",
       "5   AAPL              207.34        call   220.0  2025-12-19   \n",
       "\n",
       "   Implied Volatility  Number of Contracts  Average Cost per Contract  \\\n",
       "0               26.91                    3                        4.5   \n",
       "1               26.91                    3                        4.5   \n",
       "2               26.91                    3                        4.5   \n",
       "3               26.91                    3                        4.5   \n",
       "4               26.91                    3                        4.5   \n",
       "5               26.91                    3                        4.5   \n",
       "\n",
       "   Equity Invested  Current Premium  Current Equity  Current % Change  \\\n",
       "0           1350.0            10.65          3195.0            136.67   \n",
       "1           1350.0            10.65          3195.0            136.67   \n",
       "2           1350.0            10.65          3195.0            136.67   \n",
       "3           1350.0            10.65          3195.0            136.67   \n",
       "4           1350.0            10.65          3195.0            136.67   \n",
       "5           1350.0            10.65          3195.0            136.67   \n",
       "\n",
       "   Days to Gain Scenario % Change  Simulated Underlying (+)  \\\n",
       "0            30               ±5%                    217.71   \n",
       "1            30              ±10%                    228.07   \n",
       "2            30              ±20%                    248.81   \n",
       "3            30              ±50%                    311.01   \n",
       "4            30             ±100%                    414.68   \n",
       "5            30             ±200%                    622.02   \n",
       "\n",
       "   Simulated Underlying (-)  Simulated Premium (+)  Simulated Premium (-)  \\\n",
       "0                    196.97                  15.36                   6.29   \n",
       "1                    186.61                  21.67                   3.52   \n",
       "2                    165.87                  37.20                   0.77   \n",
       "3                    103.67                  95.40                   0.00   \n",
       "4                      0.00                 198.86                   0.00   \n",
       "5                   -207.34                 406.20                    NaN   \n",
       "\n",
       "   Premium % Change (+)  Premium % Change (-)  \n",
       "0                 44.21                -40.97  \n",
       "1                103.44                -66.92  \n",
       "2                249.29                -92.80  \n",
       "3                795.81               -100.00  \n",
       "4               1767.23               -100.00  \n",
       "5               3714.07                   NaN  "
      ]
     },
     "metadata": {},
     "output_type": "display_data"
    }
   ],
   "source": [
    "# <!-- Options Analysis -->\n",
    "# TODO there may be some overlapping global variables or functions from the other notebooks \n",
    "    # that are being used because I couldn't use this at the top of the file\n",
    "%run optionsFunctions2_eod.ipynb\n"
   ]
  },
  {
   "cell_type": "code",
   "execution_count": 7,
   "id": "77862832-a89d-49e6-888f-29714a9502d0",
   "metadata": {
    "scrolled": true
   },
   "outputs": [
    {
     "data": {
      "text/html": [
       "<div>\n",
       "<style scoped>\n",
       "    .dataframe tbody tr th:only-of-type {\n",
       "        vertical-align: middle;\n",
       "    }\n",
       "\n",
       "    .dataframe tbody tr th {\n",
       "        vertical-align: top;\n",
       "    }\n",
       "\n",
       "    .dataframe thead th {\n",
       "        text-align: right;\n",
       "    }\n",
       "</style>\n",
       "<table border=\"1\" class=\"dataframe\">\n",
       "  <thead>\n",
       "    <tr style=\"text-align: right;\">\n",
       "      <th></th>\n",
       "      <th>Ticker</th>\n",
       "      <th>Option Type</th>\n",
       "      <th>Expiration</th>\n",
       "      <th>Strike</th>\n",
       "      <th>% OTM/ITM</th>\n",
       "      <th>Underlying Price</th>\n",
       "      <th>Simulated Underlying</th>\n",
       "      <th>Current Premium</th>\n",
       "      <th>Simulated Premium</th>\n",
       "      <th>Days Until Expiration</th>\n",
       "      <th>...</th>\n",
       "      <th>Rho</th>\n",
       "      <th>Bid</th>\n",
       "      <th>Ask</th>\n",
       "      <th>Last Premium</th>\n",
       "      <th>Bid Date</th>\n",
       "      <th>Ask Date</th>\n",
       "      <th>Volume</th>\n",
       "      <th>Allocated Equity</th>\n",
       "      <th>Simulated Equity</th>\n",
       "      <th>Run Label</th>\n",
       "    </tr>\n",
       "  </thead>\n",
       "  <tbody>\n",
       "    <tr>\n",
       "      <th>0</th>\n",
       "      <td>goog</td>\n",
       "      <td>call</td>\n",
       "      <td>2025-09-19</td>\n",
       "      <td>210</td>\n",
       "      <td>19.35</td>\n",
       "      <td>175.96</td>\n",
       "      <td>202.35</td>\n",
       "      <td>2.01</td>\n",
       "      <td>4.98</td>\n",
       "      <td>79</td>\n",
       "      <td>...</td>\n",
       "      <td>0.0570</td>\n",
       "      <td>1.81</td>\n",
       "      <td>2.26</td>\n",
       "      <td>2.01</td>\n",
       "      <td>2025-06-30 19:59:59</td>\n",
       "      <td>2025-06-30 19:59:59</td>\n",
       "      <td>149</td>\n",
       "      <td>100</td>\n",
       "      <td>247.69</td>\n",
       "      <td>Short-Term</td>\n",
       "    </tr>\n",
       "    <tr>\n",
       "      <th>1</th>\n",
       "      <td>goog</td>\n",
       "      <td>call</td>\n",
       "      <td>2025-09-19</td>\n",
       "      <td>215</td>\n",
       "      <td>22.19</td>\n",
       "      <td>175.96</td>\n",
       "      <td>202.35</td>\n",
       "      <td>1.54</td>\n",
       "      <td>3.54</td>\n",
       "      <td>79</td>\n",
       "      <td>...</td>\n",
       "      <td>0.0455</td>\n",
       "      <td>1.54</td>\n",
       "      <td>1.99</td>\n",
       "      <td>1.54</td>\n",
       "      <td>2025-06-30 19:59:59</td>\n",
       "      <td>2025-06-30 19:59:59</td>\n",
       "      <td>60</td>\n",
       "      <td>100</td>\n",
       "      <td>229.88</td>\n",
       "      <td>Short-Term</td>\n",
       "    </tr>\n",
       "    <tr>\n",
       "      <th>2</th>\n",
       "      <td>goog</td>\n",
       "      <td>call</td>\n",
       "      <td>2025-10-17</td>\n",
       "      <td>210</td>\n",
       "      <td>19.35</td>\n",
       "      <td>175.96</td>\n",
       "      <td>202.35</td>\n",
       "      <td>2.89</td>\n",
       "      <td>7.53</td>\n",
       "      <td>107</td>\n",
       "      <td>...</td>\n",
       "      <td>0.0933</td>\n",
       "      <td>2.86</td>\n",
       "      <td>3.20</td>\n",
       "      <td>2.89</td>\n",
       "      <td>2025-06-30 19:59:59</td>\n",
       "      <td>2025-06-30 19:59:59</td>\n",
       "      <td>50</td>\n",
       "      <td>100</td>\n",
       "      <td>260.64</td>\n",
       "      <td>Short-Term</td>\n",
       "    </tr>\n",
       "    <tr>\n",
       "      <th>3</th>\n",
       "      <td>goog</td>\n",
       "      <td>call</td>\n",
       "      <td>2025-10-17</td>\n",
       "      <td>215</td>\n",
       "      <td>22.19</td>\n",
       "      <td>175.96</td>\n",
       "      <td>202.35</td>\n",
       "      <td>2.26</td>\n",
       "      <td>5.85</td>\n",
       "      <td>107</td>\n",
       "      <td>...</td>\n",
       "      <td>0.0766</td>\n",
       "      <td>2.23</td>\n",
       "      <td>2.50</td>\n",
       "      <td>2.26</td>\n",
       "      <td>2025-06-30 20:00:00</td>\n",
       "      <td>2025-06-30 20:00:00</td>\n",
       "      <td>25</td>\n",
       "      <td>100</td>\n",
       "      <td>258.65</td>\n",
       "      <td>Short-Term</td>\n",
       "    </tr>\n",
       "    <tr>\n",
       "      <th>4</th>\n",
       "      <td>goog</td>\n",
       "      <td>call</td>\n",
       "      <td>2025-09-19</td>\n",
       "      <td>210</td>\n",
       "      <td>19.35</td>\n",
       "      <td>175.96</td>\n",
       "      <td>202.35</td>\n",
       "      <td>2.01</td>\n",
       "      <td>4.98</td>\n",
       "      <td>79</td>\n",
       "      <td>...</td>\n",
       "      <td>0.0570</td>\n",
       "      <td>1.81</td>\n",
       "      <td>2.26</td>\n",
       "      <td>2.01</td>\n",
       "      <td>2025-06-30 19:59:59</td>\n",
       "      <td>2025-06-30 19:59:59</td>\n",
       "      <td>149</td>\n",
       "      <td>100</td>\n",
       "      <td>247.69</td>\n",
       "      <td>Short-Term</td>\n",
       "    </tr>\n",
       "    <tr>\n",
       "      <th>5</th>\n",
       "      <td>goog</td>\n",
       "      <td>call</td>\n",
       "      <td>2025-09-19</td>\n",
       "      <td>215</td>\n",
       "      <td>22.19</td>\n",
       "      <td>175.96</td>\n",
       "      <td>202.35</td>\n",
       "      <td>1.54</td>\n",
       "      <td>3.54</td>\n",
       "      <td>79</td>\n",
       "      <td>...</td>\n",
       "      <td>0.0455</td>\n",
       "      <td>1.54</td>\n",
       "      <td>1.99</td>\n",
       "      <td>1.54</td>\n",
       "      <td>2025-06-30 19:59:59</td>\n",
       "      <td>2025-06-30 19:59:59</td>\n",
       "      <td>60</td>\n",
       "      <td>100</td>\n",
       "      <td>229.88</td>\n",
       "      <td>Short-Term</td>\n",
       "    </tr>\n",
       "    <tr>\n",
       "      <th>6</th>\n",
       "      <td>goog</td>\n",
       "      <td>call</td>\n",
       "      <td>2025-10-17</td>\n",
       "      <td>210</td>\n",
       "      <td>19.35</td>\n",
       "      <td>175.96</td>\n",
       "      <td>202.35</td>\n",
       "      <td>2.89</td>\n",
       "      <td>7.53</td>\n",
       "      <td>107</td>\n",
       "      <td>...</td>\n",
       "      <td>0.0933</td>\n",
       "      <td>2.86</td>\n",
       "      <td>3.20</td>\n",
       "      <td>2.89</td>\n",
       "      <td>2025-06-30 19:59:59</td>\n",
       "      <td>2025-06-30 19:59:59</td>\n",
       "      <td>50</td>\n",
       "      <td>100</td>\n",
       "      <td>260.64</td>\n",
       "      <td>Short-Term</td>\n",
       "    </tr>\n",
       "    <tr>\n",
       "      <th>7</th>\n",
       "      <td>goog</td>\n",
       "      <td>call</td>\n",
       "      <td>2025-10-17</td>\n",
       "      <td>215</td>\n",
       "      <td>22.19</td>\n",
       "      <td>175.96</td>\n",
       "      <td>202.35</td>\n",
       "      <td>2.26</td>\n",
       "      <td>5.85</td>\n",
       "      <td>107</td>\n",
       "      <td>...</td>\n",
       "      <td>0.0766</td>\n",
       "      <td>2.23</td>\n",
       "      <td>2.50</td>\n",
       "      <td>2.26</td>\n",
       "      <td>2025-06-30 20:00:00</td>\n",
       "      <td>2025-06-30 20:00:00</td>\n",
       "      <td>25</td>\n",
       "      <td>100</td>\n",
       "      <td>258.65</td>\n",
       "      <td>Short-Term</td>\n",
       "    </tr>\n",
       "    <tr>\n",
       "      <th>8</th>\n",
       "      <td>goog</td>\n",
       "      <td>call</td>\n",
       "      <td>2025-09-19</td>\n",
       "      <td>210</td>\n",
       "      <td>19.35</td>\n",
       "      <td>175.96</td>\n",
       "      <td>158.36</td>\n",
       "      <td>2.01</td>\n",
       "      <td>0.01</td>\n",
       "      <td>79</td>\n",
       "      <td>...</td>\n",
       "      <td>0.0570</td>\n",
       "      <td>1.81</td>\n",
       "      <td>2.26</td>\n",
       "      <td>2.01</td>\n",
       "      <td>2025-06-30 19:59:59</td>\n",
       "      <td>2025-06-30 19:59:59</td>\n",
       "      <td>149</td>\n",
       "      <td>100</td>\n",
       "      <td>0.48</td>\n",
       "      <td>Short-Term</td>\n",
       "    </tr>\n",
       "    <tr>\n",
       "      <th>9</th>\n",
       "      <td>goog</td>\n",
       "      <td>call</td>\n",
       "      <td>2025-09-19</td>\n",
       "      <td>215</td>\n",
       "      <td>22.19</td>\n",
       "      <td>175.96</td>\n",
       "      <td>158.36</td>\n",
       "      <td>1.54</td>\n",
       "      <td>0.00</td>\n",
       "      <td>79</td>\n",
       "      <td>...</td>\n",
       "      <td>0.0455</td>\n",
       "      <td>1.54</td>\n",
       "      <td>1.99</td>\n",
       "      <td>1.54</td>\n",
       "      <td>2025-06-30 19:59:59</td>\n",
       "      <td>2025-06-30 19:59:59</td>\n",
       "      <td>60</td>\n",
       "      <td>100</td>\n",
       "      <td>0.31</td>\n",
       "      <td>Short-Term</td>\n",
       "    </tr>\n",
       "    <tr>\n",
       "      <th>10</th>\n",
       "      <td>goog</td>\n",
       "      <td>call</td>\n",
       "      <td>2025-10-17</td>\n",
       "      <td>210</td>\n",
       "      <td>19.35</td>\n",
       "      <td>175.96</td>\n",
       "      <td>158.36</td>\n",
       "      <td>2.89</td>\n",
       "      <td>0.11</td>\n",
       "      <td>107</td>\n",
       "      <td>...</td>\n",
       "      <td>0.0933</td>\n",
       "      <td>2.86</td>\n",
       "      <td>3.20</td>\n",
       "      <td>2.89</td>\n",
       "      <td>2025-06-30 19:59:59</td>\n",
       "      <td>2025-06-30 19:59:59</td>\n",
       "      <td>50</td>\n",
       "      <td>100</td>\n",
       "      <td>3.86</td>\n",
       "      <td>Short-Term</td>\n",
       "    </tr>\n",
       "    <tr>\n",
       "      <th>11</th>\n",
       "      <td>goog</td>\n",
       "      <td>call</td>\n",
       "      <td>2025-10-17</td>\n",
       "      <td>215</td>\n",
       "      <td>22.19</td>\n",
       "      <td>175.96</td>\n",
       "      <td>158.36</td>\n",
       "      <td>2.26</td>\n",
       "      <td>0.07</td>\n",
       "      <td>107</td>\n",
       "      <td>...</td>\n",
       "      <td>0.0766</td>\n",
       "      <td>2.23</td>\n",
       "      <td>2.50</td>\n",
       "      <td>2.26</td>\n",
       "      <td>2025-06-30 20:00:00</td>\n",
       "      <td>2025-06-30 20:00:00</td>\n",
       "      <td>25</td>\n",
       "      <td>100</td>\n",
       "      <td>3.00</td>\n",
       "      <td>Short-Term</td>\n",
       "    </tr>\n",
       "    <tr>\n",
       "      <th>12</th>\n",
       "      <td>goog</td>\n",
       "      <td>put</td>\n",
       "      <td>2025-09-19</td>\n",
       "      <td>150</td>\n",
       "      <td>14.75</td>\n",
       "      <td>175.96</td>\n",
       "      <td>193.56</td>\n",
       "      <td>2.02</td>\n",
       "      <td>0.05</td>\n",
       "      <td>79</td>\n",
       "      <td>...</td>\n",
       "      <td>-0.0498</td>\n",
       "      <td>2.02</td>\n",
       "      <td>2.50</td>\n",
       "      <td>2.02</td>\n",
       "      <td>2025-06-30 19:59:59</td>\n",
       "      <td>2025-06-30 19:59:59</td>\n",
       "      <td>116</td>\n",
       "      <td>100</td>\n",
       "      <td>2.38</td>\n",
       "      <td>Short-Term</td>\n",
       "    </tr>\n",
       "    <tr>\n",
       "      <th>13</th>\n",
       "      <td>goog</td>\n",
       "      <td>put</td>\n",
       "      <td>2025-09-19</td>\n",
       "      <td>145</td>\n",
       "      <td>17.59</td>\n",
       "      <td>175.96</td>\n",
       "      <td>193.56</td>\n",
       "      <td>1.50</td>\n",
       "      <td>0.03</td>\n",
       "      <td>79</td>\n",
       "      <td>...</td>\n",
       "      <td>-0.0380</td>\n",
       "      <td>1.32</td>\n",
       "      <td>1.69</td>\n",
       "      <td>1.50</td>\n",
       "      <td>2025-06-30 19:59:59</td>\n",
       "      <td>2025-06-30 19:59:59</td>\n",
       "      <td>34</td>\n",
       "      <td>100</td>\n",
       "      <td>1.67</td>\n",
       "      <td>Short-Term</td>\n",
       "    </tr>\n",
       "    <tr>\n",
       "      <th>14</th>\n",
       "      <td>goog</td>\n",
       "      <td>put</td>\n",
       "      <td>2025-10-17</td>\n",
       "      <td>150</td>\n",
       "      <td>14.75</td>\n",
       "      <td>175.96</td>\n",
       "      <td>193.56</td>\n",
       "      <td>2.73</td>\n",
       "      <td>0.28</td>\n",
       "      <td>107</td>\n",
       "      <td>...</td>\n",
       "      <td>-0.0773</td>\n",
       "      <td>2.72</td>\n",
       "      <td>2.97</td>\n",
       "      <td>2.73</td>\n",
       "      <td>2025-06-30 19:59:59</td>\n",
       "      <td>2025-06-30 19:59:59</td>\n",
       "      <td>46</td>\n",
       "      <td>100</td>\n",
       "      <td>10.37</td>\n",
       "      <td>Short-Term</td>\n",
       "    </tr>\n",
       "    <tr>\n",
       "      <th>15</th>\n",
       "      <td>goog</td>\n",
       "      <td>put</td>\n",
       "      <td>2025-10-17</td>\n",
       "      <td>145</td>\n",
       "      <td>17.59</td>\n",
       "      <td>175.96</td>\n",
       "      <td>193.56</td>\n",
       "      <td>2.08</td>\n",
       "      <td>0.18</td>\n",
       "      <td>107</td>\n",
       "      <td>...</td>\n",
       "      <td>-0.0610</td>\n",
       "      <td>2.07</td>\n",
       "      <td>2.32</td>\n",
       "      <td>2.08</td>\n",
       "      <td>2025-06-30 19:59:59</td>\n",
       "      <td>2025-06-30 19:59:59</td>\n",
       "      <td>20</td>\n",
       "      <td>100</td>\n",
       "      <td>8.61</td>\n",
       "      <td>Short-Term</td>\n",
       "    </tr>\n",
       "    <tr>\n",
       "      <th>16</th>\n",
       "      <td>goog</td>\n",
       "      <td>call</td>\n",
       "      <td>2025-12-19</td>\n",
       "      <td>230</td>\n",
       "      <td>30.71</td>\n",
       "      <td>175.96</td>\n",
       "      <td>211.15</td>\n",
       "      <td>2.60</td>\n",
       "      <td>8.32</td>\n",
       "      <td>170</td>\n",
       "      <td>...</td>\n",
       "      <td>0.1131</td>\n",
       "      <td>2.65</td>\n",
       "      <td>2.70</td>\n",
       "      <td>2.60</td>\n",
       "      <td>2025-06-30 20:00:00</td>\n",
       "      <td>2025-06-30 20:00:00</td>\n",
       "      <td>4</td>\n",
       "      <td>100</td>\n",
       "      <td>320.02</td>\n",
       "      <td>MShort-Term</td>\n",
       "    </tr>\n",
       "    <tr>\n",
       "      <th>17</th>\n",
       "      <td>goog</td>\n",
       "      <td>call</td>\n",
       "      <td>2025-12-19</td>\n",
       "      <td>225</td>\n",
       "      <td>27.87</td>\n",
       "      <td>175.96</td>\n",
       "      <td>211.15</td>\n",
       "      <td>3.20</td>\n",
       "      <td>9.89</td>\n",
       "      <td>170</td>\n",
       "      <td>...</td>\n",
       "      <td>0.1308</td>\n",
       "      <td>3.15</td>\n",
       "      <td>3.25</td>\n",
       "      <td>3.20</td>\n",
       "      <td>2025-06-30 19:59:59</td>\n",
       "      <td>2025-06-30 19:59:59</td>\n",
       "      <td>13</td>\n",
       "      <td>100</td>\n",
       "      <td>309.06</td>\n",
       "      <td>MShort-Term</td>\n",
       "    </tr>\n",
       "    <tr>\n",
       "      <th>18</th>\n",
       "      <td>goog</td>\n",
       "      <td>call</td>\n",
       "      <td>2026-01-16</td>\n",
       "      <td>230</td>\n",
       "      <td>30.71</td>\n",
       "      <td>175.96</td>\n",
       "      <td>211.15</td>\n",
       "      <td>3.22</td>\n",
       "      <td>9.89</td>\n",
       "      <td>198</td>\n",
       "      <td>...</td>\n",
       "      <td>0.1459</td>\n",
       "      <td>3.20</td>\n",
       "      <td>3.35</td>\n",
       "      <td>3.22</td>\n",
       "      <td>2025-06-30 19:59:59</td>\n",
       "      <td>2025-06-30 19:59:59</td>\n",
       "      <td>16</td>\n",
       "      <td>100</td>\n",
       "      <td>307.05</td>\n",
       "      <td>MShort-Term</td>\n",
       "    </tr>\n",
       "    <tr>\n",
       "      <th>19</th>\n",
       "      <td>goog</td>\n",
       "      <td>call</td>\n",
       "      <td>2026-01-16</td>\n",
       "      <td>225</td>\n",
       "      <td>27.87</td>\n",
       "      <td>175.96</td>\n",
       "      <td>211.15</td>\n",
       "      <td>3.89</td>\n",
       "      <td>11.65</td>\n",
       "      <td>198</td>\n",
       "      <td>...</td>\n",
       "      <td>0.1685</td>\n",
       "      <td>3.85</td>\n",
       "      <td>3.95</td>\n",
       "      <td>3.89</td>\n",
       "      <td>2025-06-30 20:00:00</td>\n",
       "      <td>2025-06-30 20:00:00</td>\n",
       "      <td>33</td>\n",
       "      <td>100</td>\n",
       "      <td>299.42</td>\n",
       "      <td>MShort-Term</td>\n",
       "    </tr>\n",
       "    <tr>\n",
       "      <th>20</th>\n",
       "      <td>goog</td>\n",
       "      <td>call</td>\n",
       "      <td>2025-12-19</td>\n",
       "      <td>230</td>\n",
       "      <td>30.71</td>\n",
       "      <td>175.96</td>\n",
       "      <td>158.36</td>\n",
       "      <td>2.60</td>\n",
       "      <td>0.20</td>\n",
       "      <td>170</td>\n",
       "      <td>...</td>\n",
       "      <td>0.1131</td>\n",
       "      <td>2.65</td>\n",
       "      <td>2.70</td>\n",
       "      <td>2.60</td>\n",
       "      <td>2025-06-30 20:00:00</td>\n",
       "      <td>2025-06-30 20:00:00</td>\n",
       "      <td>4</td>\n",
       "      <td>100</td>\n",
       "      <td>7.64</td>\n",
       "      <td>MShort-Term</td>\n",
       "    </tr>\n",
       "    <tr>\n",
       "      <th>21</th>\n",
       "      <td>goog</td>\n",
       "      <td>call</td>\n",
       "      <td>2025-12-19</td>\n",
       "      <td>225</td>\n",
       "      <td>27.87</td>\n",
       "      <td>175.96</td>\n",
       "      <td>158.36</td>\n",
       "      <td>3.20</td>\n",
       "      <td>0.27</td>\n",
       "      <td>170</td>\n",
       "      <td>...</td>\n",
       "      <td>0.1308</td>\n",
       "      <td>3.15</td>\n",
       "      <td>3.25</td>\n",
       "      <td>3.20</td>\n",
       "      <td>2025-06-30 19:59:59</td>\n",
       "      <td>2025-06-30 19:59:59</td>\n",
       "      <td>13</td>\n",
       "      <td>100</td>\n",
       "      <td>8.50</td>\n",
       "      <td>MShort-Term</td>\n",
       "    </tr>\n",
       "    <tr>\n",
       "      <th>22</th>\n",
       "      <td>goog</td>\n",
       "      <td>call</td>\n",
       "      <td>2026-01-16</td>\n",
       "      <td>230</td>\n",
       "      <td>30.71</td>\n",
       "      <td>175.96</td>\n",
       "      <td>158.36</td>\n",
       "      <td>3.22</td>\n",
       "      <td>0.38</td>\n",
       "      <td>198</td>\n",
       "      <td>...</td>\n",
       "      <td>0.1459</td>\n",
       "      <td>3.20</td>\n",
       "      <td>3.35</td>\n",
       "      <td>3.22</td>\n",
       "      <td>2025-06-30 19:59:59</td>\n",
       "      <td>2025-06-30 19:59:59</td>\n",
       "      <td>16</td>\n",
       "      <td>100</td>\n",
       "      <td>11.65</td>\n",
       "      <td>MShort-Term</td>\n",
       "    </tr>\n",
       "    <tr>\n",
       "      <th>23</th>\n",
       "      <td>goog</td>\n",
       "      <td>call</td>\n",
       "      <td>2026-01-16</td>\n",
       "      <td>225</td>\n",
       "      <td>27.87</td>\n",
       "      <td>175.96</td>\n",
       "      <td>158.36</td>\n",
       "      <td>3.89</td>\n",
       "      <td>0.51</td>\n",
       "      <td>198</td>\n",
       "      <td>...</td>\n",
       "      <td>0.1685</td>\n",
       "      <td>3.85</td>\n",
       "      <td>3.95</td>\n",
       "      <td>3.89</td>\n",
       "      <td>2025-06-30 20:00:00</td>\n",
       "      <td>2025-06-30 20:00:00</td>\n",
       "      <td>33</td>\n",
       "      <td>100</td>\n",
       "      <td>13.18</td>\n",
       "      <td>MShort-Term</td>\n",
       "    </tr>\n",
       "    <tr>\n",
       "      <th>24</th>\n",
       "      <td>goog</td>\n",
       "      <td>put</td>\n",
       "      <td>2025-12-19</td>\n",
       "      <td>140</td>\n",
       "      <td>20.44</td>\n",
       "      <td>175.96</td>\n",
       "      <td>202.35</td>\n",
       "      <td>2.91</td>\n",
       "      <td>0.51</td>\n",
       "      <td>170</td>\n",
       "      <td>...</td>\n",
       "      <td>-0.1098</td>\n",
       "      <td>2.93</td>\n",
       "      <td>3.45</td>\n",
       "      <td>2.91</td>\n",
       "      <td>2025-06-30 19:59:59</td>\n",
       "      <td>2025-06-30 19:59:59</td>\n",
       "      <td>5</td>\n",
       "      <td>100</td>\n",
       "      <td>17.41</td>\n",
       "      <td>MShort-Term</td>\n",
       "    </tr>\n",
       "    <tr>\n",
       "      <th>25</th>\n",
       "      <td>goog</td>\n",
       "      <td>put</td>\n",
       "      <td>2025-12-19</td>\n",
       "      <td>145</td>\n",
       "      <td>17.59</td>\n",
       "      <td>175.96</td>\n",
       "      <td>202.35</td>\n",
       "      <td>3.72</td>\n",
       "      <td>0.61</td>\n",
       "      <td>170</td>\n",
       "      <td>...</td>\n",
       "      <td>-0.1278</td>\n",
       "      <td>3.65</td>\n",
       "      <td>3.75</td>\n",
       "      <td>3.72</td>\n",
       "      <td>2025-06-30 20:00:00</td>\n",
       "      <td>2025-06-30 20:00:00</td>\n",
       "      <td>7</td>\n",
       "      <td>100</td>\n",
       "      <td>16.30</td>\n",
       "      <td>MShort-Term</td>\n",
       "    </tr>\n",
       "    <tr>\n",
       "      <th>26</th>\n",
       "      <td>goog</td>\n",
       "      <td>put</td>\n",
       "      <td>2026-01-16</td>\n",
       "      <td>140</td>\n",
       "      <td>20.44</td>\n",
       "      <td>175.96</td>\n",
       "      <td>202.35</td>\n",
       "      <td>3.40</td>\n",
       "      <td>0.65</td>\n",
       "      <td>198</td>\n",
       "      <td>...</td>\n",
       "      <td>-0.1305</td>\n",
       "      <td>3.30</td>\n",
       "      <td>3.40</td>\n",
       "      <td>3.40</td>\n",
       "      <td>2025-06-30 19:59:59</td>\n",
       "      <td>2025-06-30 19:59:59</td>\n",
       "      <td>54</td>\n",
       "      <td>100</td>\n",
       "      <td>18.98</td>\n",
       "      <td>MShort-Term</td>\n",
       "    </tr>\n",
       "    <tr>\n",
       "      <th>27</th>\n",
       "      <td>goog</td>\n",
       "      <td>put</td>\n",
       "      <td>2026-01-16</td>\n",
       "      <td>145</td>\n",
       "      <td>17.59</td>\n",
       "      <td>175.96</td>\n",
       "      <td>202.35</td>\n",
       "      <td>4.11</td>\n",
       "      <td>0.82</td>\n",
       "      <td>198</td>\n",
       "      <td>...</td>\n",
       "      <td>-0.1555</td>\n",
       "      <td>4.10</td>\n",
       "      <td>4.20</td>\n",
       "      <td>4.11</td>\n",
       "      <td>2025-06-30 19:59:59</td>\n",
       "      <td>2025-06-30 19:59:59</td>\n",
       "      <td>10</td>\n",
       "      <td>100</td>\n",
       "      <td>19.98</td>\n",
       "      <td>MShort-Term</td>\n",
       "    </tr>\n",
       "  </tbody>\n",
       "</table>\n",
       "<p>28 rows × 28 columns</p>\n",
       "</div>"
      ],
      "text/plain": [
       "   Ticker Option Type  Expiration  Strike  % OTM/ITM  Underlying Price  \\\n",
       "0    goog        call  2025-09-19     210      19.35            175.96   \n",
       "1    goog        call  2025-09-19     215      22.19            175.96   \n",
       "2    goog        call  2025-10-17     210      19.35            175.96   \n",
       "3    goog        call  2025-10-17     215      22.19            175.96   \n",
       "4    goog        call  2025-09-19     210      19.35            175.96   \n",
       "5    goog        call  2025-09-19     215      22.19            175.96   \n",
       "6    goog        call  2025-10-17     210      19.35            175.96   \n",
       "7    goog        call  2025-10-17     215      22.19            175.96   \n",
       "8    goog        call  2025-09-19     210      19.35            175.96   \n",
       "9    goog        call  2025-09-19     215      22.19            175.96   \n",
       "10   goog        call  2025-10-17     210      19.35            175.96   \n",
       "11   goog        call  2025-10-17     215      22.19            175.96   \n",
       "12   goog         put  2025-09-19     150      14.75            175.96   \n",
       "13   goog         put  2025-09-19     145      17.59            175.96   \n",
       "14   goog         put  2025-10-17     150      14.75            175.96   \n",
       "15   goog         put  2025-10-17     145      17.59            175.96   \n",
       "16   goog        call  2025-12-19     230      30.71            175.96   \n",
       "17   goog        call  2025-12-19     225      27.87            175.96   \n",
       "18   goog        call  2026-01-16     230      30.71            175.96   \n",
       "19   goog        call  2026-01-16     225      27.87            175.96   \n",
       "20   goog        call  2025-12-19     230      30.71            175.96   \n",
       "21   goog        call  2025-12-19     225      27.87            175.96   \n",
       "22   goog        call  2026-01-16     230      30.71            175.96   \n",
       "23   goog        call  2026-01-16     225      27.87            175.96   \n",
       "24   goog         put  2025-12-19     140      20.44            175.96   \n",
       "25   goog         put  2025-12-19     145      17.59            175.96   \n",
       "26   goog         put  2026-01-16     140      20.44            175.96   \n",
       "27   goog         put  2026-01-16     145      17.59            175.96   \n",
       "\n",
       "    Simulated Underlying  Current Premium  Simulated Premium  \\\n",
       "0                 202.35             2.01               4.98   \n",
       "1                 202.35             1.54               3.54   \n",
       "2                 202.35             2.89               7.53   \n",
       "3                 202.35             2.26               5.85   \n",
       "4                 202.35             2.01               4.98   \n",
       "5                 202.35             1.54               3.54   \n",
       "6                 202.35             2.89               7.53   \n",
       "7                 202.35             2.26               5.85   \n",
       "8                 158.36             2.01               0.01   \n",
       "9                 158.36             1.54               0.00   \n",
       "10                158.36             2.89               0.11   \n",
       "11                158.36             2.26               0.07   \n",
       "12                193.56             2.02               0.05   \n",
       "13                193.56             1.50               0.03   \n",
       "14                193.56             2.73               0.28   \n",
       "15                193.56             2.08               0.18   \n",
       "16                211.15             2.60               8.32   \n",
       "17                211.15             3.20               9.89   \n",
       "18                211.15             3.22               9.89   \n",
       "19                211.15             3.89              11.65   \n",
       "20                158.36             2.60               0.20   \n",
       "21                158.36             3.20               0.27   \n",
       "22                158.36             3.22               0.38   \n",
       "23                158.36             3.89               0.51   \n",
       "24                202.35             2.91               0.51   \n",
       "25                202.35             3.72               0.61   \n",
       "26                202.35             3.40               0.65   \n",
       "27                202.35             4.11               0.82   \n",
       "\n",
       "    Days Until Expiration  ...     Rho   Bid   Ask  Last Premium  \\\n",
       "0                      79  ...  0.0570  1.81  2.26          2.01   \n",
       "1                      79  ...  0.0455  1.54  1.99          1.54   \n",
       "2                     107  ...  0.0933  2.86  3.20          2.89   \n",
       "3                     107  ...  0.0766  2.23  2.50          2.26   \n",
       "4                      79  ...  0.0570  1.81  2.26          2.01   \n",
       "5                      79  ...  0.0455  1.54  1.99          1.54   \n",
       "6                     107  ...  0.0933  2.86  3.20          2.89   \n",
       "7                     107  ...  0.0766  2.23  2.50          2.26   \n",
       "8                      79  ...  0.0570  1.81  2.26          2.01   \n",
       "9                      79  ...  0.0455  1.54  1.99          1.54   \n",
       "10                    107  ...  0.0933  2.86  3.20          2.89   \n",
       "11                    107  ...  0.0766  2.23  2.50          2.26   \n",
       "12                     79  ... -0.0498  2.02  2.50          2.02   \n",
       "13                     79  ... -0.0380  1.32  1.69          1.50   \n",
       "14                    107  ... -0.0773  2.72  2.97          2.73   \n",
       "15                    107  ... -0.0610  2.07  2.32          2.08   \n",
       "16                    170  ...  0.1131  2.65  2.70          2.60   \n",
       "17                    170  ...  0.1308  3.15  3.25          3.20   \n",
       "18                    198  ...  0.1459  3.20  3.35          3.22   \n",
       "19                    198  ...  0.1685  3.85  3.95          3.89   \n",
       "20                    170  ...  0.1131  2.65  2.70          2.60   \n",
       "21                    170  ...  0.1308  3.15  3.25          3.20   \n",
       "22                    198  ...  0.1459  3.20  3.35          3.22   \n",
       "23                    198  ...  0.1685  3.85  3.95          3.89   \n",
       "24                    170  ... -0.1098  2.93  3.45          2.91   \n",
       "25                    170  ... -0.1278  3.65  3.75          3.72   \n",
       "26                    198  ... -0.1305  3.30  3.40          3.40   \n",
       "27                    198  ... -0.1555  4.10  4.20          4.11   \n",
       "\n",
       "               Bid Date             Ask Date  Volume  Allocated Equity  \\\n",
       "0   2025-06-30 19:59:59  2025-06-30 19:59:59     149               100   \n",
       "1   2025-06-30 19:59:59  2025-06-30 19:59:59      60               100   \n",
       "2   2025-06-30 19:59:59  2025-06-30 19:59:59      50               100   \n",
       "3   2025-06-30 20:00:00  2025-06-30 20:00:00      25               100   \n",
       "4   2025-06-30 19:59:59  2025-06-30 19:59:59     149               100   \n",
       "5   2025-06-30 19:59:59  2025-06-30 19:59:59      60               100   \n",
       "6   2025-06-30 19:59:59  2025-06-30 19:59:59      50               100   \n",
       "7   2025-06-30 20:00:00  2025-06-30 20:00:00      25               100   \n",
       "8   2025-06-30 19:59:59  2025-06-30 19:59:59     149               100   \n",
       "9   2025-06-30 19:59:59  2025-06-30 19:59:59      60               100   \n",
       "10  2025-06-30 19:59:59  2025-06-30 19:59:59      50               100   \n",
       "11  2025-06-30 20:00:00  2025-06-30 20:00:00      25               100   \n",
       "12  2025-06-30 19:59:59  2025-06-30 19:59:59     116               100   \n",
       "13  2025-06-30 19:59:59  2025-06-30 19:59:59      34               100   \n",
       "14  2025-06-30 19:59:59  2025-06-30 19:59:59      46               100   \n",
       "15  2025-06-30 19:59:59  2025-06-30 19:59:59      20               100   \n",
       "16  2025-06-30 20:00:00  2025-06-30 20:00:00       4               100   \n",
       "17  2025-06-30 19:59:59  2025-06-30 19:59:59      13               100   \n",
       "18  2025-06-30 19:59:59  2025-06-30 19:59:59      16               100   \n",
       "19  2025-06-30 20:00:00  2025-06-30 20:00:00      33               100   \n",
       "20  2025-06-30 20:00:00  2025-06-30 20:00:00       4               100   \n",
       "21  2025-06-30 19:59:59  2025-06-30 19:59:59      13               100   \n",
       "22  2025-06-30 19:59:59  2025-06-30 19:59:59      16               100   \n",
       "23  2025-06-30 20:00:00  2025-06-30 20:00:00      33               100   \n",
       "24  2025-06-30 19:59:59  2025-06-30 19:59:59       5               100   \n",
       "25  2025-06-30 20:00:00  2025-06-30 20:00:00       7               100   \n",
       "26  2025-06-30 19:59:59  2025-06-30 19:59:59      54               100   \n",
       "27  2025-06-30 19:59:59  2025-06-30 19:59:59      10               100   \n",
       "\n",
       "    Simulated Equity    Run Label  \n",
       "0             247.69  Short-Term   \n",
       "1             229.88  Short-Term   \n",
       "2             260.64  Short-Term   \n",
       "3             258.65  Short-Term   \n",
       "4             247.69  Short-Term   \n",
       "5             229.88  Short-Term   \n",
       "6             260.64  Short-Term   \n",
       "7             258.65  Short-Term   \n",
       "8               0.48  Short-Term   \n",
       "9               0.31  Short-Term   \n",
       "10              3.86  Short-Term   \n",
       "11              3.00  Short-Term   \n",
       "12              2.38  Short-Term   \n",
       "13              1.67  Short-Term   \n",
       "14             10.37  Short-Term   \n",
       "15              8.61  Short-Term   \n",
       "16            320.02  MShort-Term  \n",
       "17            309.06  MShort-Term  \n",
       "18            307.05  MShort-Term  \n",
       "19            299.42  MShort-Term  \n",
       "20              7.64  MShort-Term  \n",
       "21              8.50  MShort-Term  \n",
       "22             11.65  MShort-Term  \n",
       "23             13.18  MShort-Term  \n",
       "24             17.41  MShort-Term  \n",
       "25             16.30  MShort-Term  \n",
       "26             18.98  MShort-Term  \n",
       "27             19.98  MShort-Term  \n",
       "\n",
       "[28 rows x 28 columns]"
      ]
     },
     "metadata": {},
     "output_type": "display_data"
    }
   ],
   "source": [
    "tickers = raw1\n",
    "# tickerList = ['aapl', 'uber', 'msft', 'goog','amzn']\n",
    "# raw1 = ['nvda', 'aapl', 'goog', 'msft', 'fi', 'amd', 'orly', 'dpz', 'byddy', 'uber', 'tko']\n",
    "param_sets2 = [\n",
    "    {\n",
    "        \"tickers\": tickers,\n",
    "        \"option_type\": \"call\",\n",
    "        \"days_until_exp\": 90,\n",
    "        \"strike_pct\": .2,\n",
    "        \"days_to_gain\": 45,\n",
    "        \"stock_gain_pct\": 0.15,\n",
    "        \"allocation\": 100,\n",
    "        \"label\": \"Short-Term \"\n",
    "        \n",
    "    },\n",
    "\n",
    "        {\n",
    "        \"tickers\": tickers,\n",
    "        \"option_type\": \"call\",\n",
    "        \"days_until_exp\": 90,\n",
    "        \"strike_pct\": .2,\n",
    "        \"days_to_gain\": 45,\n",
    "        \"stock_gain_pct\": 0.15,\n",
    "        \"allocation\": 100,\n",
    "        \"label\": \"Short-Term \"\n",
    "        \n",
    "    },\n",
    "\n",
    "        {\n",
    "        \"tickers\": tickers,\n",
    "        \"option_type\": \"call\",\n",
    "        \"days_until_exp\": 90,\n",
    "        \"strike_pct\": .2,\n",
    "        \"days_to_gain\": 45,\n",
    "        \"stock_gain_pct\": -0.1,\n",
    "        \"allocation\": 100,\n",
    "        \"label\": \"Short-Term \"\n",
    "        \n",
    "    },\n",
    "\n",
    "        {\n",
    "        \"tickers\": tickers,\n",
    "        \"option_type\": \"put\",\n",
    "        \"days_until_exp\": 90,\n",
    "        \"strike_pct\": -.15,\n",
    "        \"days_to_gain\": 45,\n",
    "        \"stock_gain_pct\": 0.1,\n",
    "        \"allocation\": 100,\n",
    "        \"label\": \"Short-Term \"\n",
    "    },\n",
    "\n",
    "        {\n",
    "        \"tickers\": tickers,\n",
    "        \"option_type\": \"call\",\n",
    "        \"days_until_exp\": 180,\n",
    "        \"strike_pct\": .3,\n",
    "        \"days_to_gain\": 60,\n",
    "        \"stock_gain_pct\": 0.2,\n",
    "        \"allocation\": 100,\n",
    "        \"label\": \"MShort-Term\"\n",
    "        \n",
    "    },\n",
    "\n",
    "            {\n",
    "        \"tickers\": tickers,\n",
    "        \"option_type\": \"call\",\n",
    "        \"days_until_exp\": 180,\n",
    "        \"strike_pct\": .3,\n",
    "        \"days_to_gain\": 60,\n",
    "        \"stock_gain_pct\": -0.1,\n",
    "        \"allocation\": 100,\n",
    "        \"label\": \"MShort-Term\"\n",
    "        \n",
    "    },\n",
    "\n",
    "        {\n",
    "        \"tickers\": tickers,\n",
    "        \"option_type\": \"put\",\n",
    "        \"days_until_exp\": 180,\n",
    "        \"strike_pct\": -.2,\n",
    "        \"days_to_gain\": 45,\n",
    "        \"stock_gain_pct\": 0.15,\n",
    "        \"allocation\": 100,\n",
    "        \"label\": \"MShort-Term\"\n",
    "    },\n",
    "\n",
    "    #         {\n",
    "    #     \"tickers\": tickers,\n",
    "    #     \"option_type\": \"call\",\n",
    "    #     \"days_until_exp\": 270,\n",
    "    #     \"strike_pct\": .3,\n",
    "    #     \"days_to_gain\": 75,\n",
    "    #     \"stock_gain_pct\": 0.2,\n",
    "    #     \"allocation\": 100,\n",
    "    #     \"label\": \"Mid-Term\"\n",
    "        \n",
    "    # },\n",
    "    \n",
    "    #         {\n",
    "    #     \"tickers\": tickers,\n",
    "    #     \"option_type\": \"call\",\n",
    "    #     \"days_until_exp\": 270,\n",
    "    #     \"strike_pct\": .3,\n",
    "    #     \"days_to_gain\": 75,\n",
    "    #     \"stock_gain_pct\": -0.15,\n",
    "    #     \"allocation\": 100,\n",
    "    #     \"label\": \"Mid-Term\"\n",
    "        \n",
    "    # },\n",
    "\n",
    "    #     {\n",
    "    #     \"tickers\": tickers,\n",
    "    #     \"option_type\": \"put\",\n",
    "    #     \"days_until_exp\": 270,\n",
    "    #     \"strike_pct\": -.3,\n",
    "    #     \"days_to_gain\": 75,\n",
    "    #     \"stock_gain_pct\": -0.2,\n",
    "    #     \"allocation\": 100,\n",
    "    #     \"label\": \"Mid-Term\"\n",
    "    # },\n",
    "\n",
    "\n",
    "    #             {\n",
    "    #     \"tickers\": tickers,\n",
    "    #     \"option_type\": \"call\",\n",
    "    #     \"days_until_exp\": 270,\n",
    "    #     \"strike_pct\": .3,\n",
    "    #     \"days_to_gain\": 90,\n",
    "    #     \"stock_gain_pct\": 0.4,\n",
    "    #     \"allocation\": 100,\n",
    "    #     \"label\": \"Mid-Term Big Growth\"\n",
    "        \n",
    "    # },\n",
    "\n",
    "    #                 {\n",
    "    #     \"tickers\": tickers,\n",
    "    #     \"option_type\": \"call\",\n",
    "    #     \"days_until_exp\": 270,\n",
    "    #     \"strike_pct\": .3,\n",
    "    #     \"days_to_gain\": 90,\n",
    "    #     \"stock_gain_pct\": -0.25,\n",
    "    #     \"allocation\": 100,\n",
    "    #     \"label\": \"Mid-Term Big Growth\"\n",
    "        \n",
    "    # },\n",
    "\n",
    "    #     {\n",
    "    #     \"tickers\": tickers,\n",
    "    #     \"option_type\": \"put\",\n",
    "    #     \"days_until_exp\": 270,\n",
    "    #     \"strike_pct\": -.3,\n",
    "    #     \"days_to_gain\": 90,\n",
    "    #     \"stock_gain_pct\": -0.25,\n",
    "    #     \"allocation\": 100,\n",
    "    #     \"label\": \"Mid-Term Big Growth\"\n",
    "    # },\n",
    "\n",
    "\n",
    "    \n",
    "    #             {\n",
    "    #     \"tickers\": tickers,\n",
    "    #     \"option_type\": \"call\",\n",
    "    #     \"days_until_exp\": 575,\n",
    "    #     \"strike_pct\": .9,\n",
    "    #     \"days_to_gain\": 270,\n",
    "    #     \"stock_gain_pct\": 1.5,\n",
    "    #     \"allocation\": 100,\n",
    "    #     \"label\": \"Long-Term Big Growth\"\n",
    "        \n",
    "    # },\n",
    "\n",
    "    #     {\n",
    "    #     \"tickers\": tickers,\n",
    "    #     \"option_type\": \"put\",\n",
    "    #     \"days_until_exp\": 575,\n",
    "    #     \"strike_pct\": -.4,\n",
    "    #     \"days_to_gain\": 270,\n",
    "    #     \"stock_gain_pct\": -0.6,\n",
    "    #     \"allocation\": 100,\n",
    "    #     \"label\": \"Long-Term Big Growth\"\n",
    "    # },\n",
    "\n",
    "    #                 {\n",
    "    #     \"tickers\": tickers,\n",
    "    #     \"option_type\": \"call\",\n",
    "    #     \"days_until_exp\": 575,\n",
    "    #     \"strike_pct\": .9,\n",
    "    #     \"days_to_gain\": 270,\n",
    "    #     \"stock_gain_pct\": -.2,\n",
    "    #     \"allocation\": 100,\n",
    "    #     \"label\": \"Long-Term Big Growth\"\n",
    "        \n",
    "    # },\n",
    "    \n",
    "]\n",
    "\n",
    "dfOptions = run_multiple_analyses(param_sets2)\n",
    "display(dfOptions)\n",
    "dfOptions.to_csv('optionsAnalysis.csv', index=False)\n"
   ]
  },
  {
   "cell_type": "code",
   "execution_count": 11,
   "id": "472f4b28-9cdd-4f9b-9f33-1e042c13957b",
   "metadata": {},
   "outputs": [
    {
     "data": {
      "text/html": [
       "<div>\n",
       "<style scoped>\n",
       "    .dataframe tbody tr th:only-of-type {\n",
       "        vertical-align: middle;\n",
       "    }\n",
       "\n",
       "    .dataframe tbody tr th {\n",
       "        vertical-align: top;\n",
       "    }\n",
       "\n",
       "    .dataframe thead th {\n",
       "        text-align: right;\n",
       "    }\n",
       "</style>\n",
       "<table border=\"1\" class=\"dataframe\">\n",
       "  <thead>\n",
       "    <tr style=\"text-align: right;\">\n",
       "      <th></th>\n",
       "      <th>Ticker</th>\n",
       "      <th>Option Type</th>\n",
       "      <th>Expiration</th>\n",
       "      <th>Strike</th>\n",
       "      <th>Underlying Price</th>\n",
       "      <th>Current Premium</th>\n",
       "      <th>Underlying Gain %</th>\n",
       "      <th>Premium % Gain</th>\n",
       "      <th>Implied Volatility</th>\n",
       "      <th>Bid Date</th>\n",
       "      <th>Volume</th>\n",
       "    </tr>\n",
       "  </thead>\n",
       "  <tbody>\n",
       "    <tr>\n",
       "      <th>0</th>\n",
       "      <td>goog</td>\n",
       "      <td>call</td>\n",
       "      <td>2025-09-19</td>\n",
       "      <td>210</td>\n",
       "      <td>175.96</td>\n",
       "      <td>2.01</td>\n",
       "      <td>15.0</td>\n",
       "      <td>147.69</td>\n",
       "      <td>31.43</td>\n",
       "      <td>2025-06-30 19:59:59</td>\n",
       "      <td>149</td>\n",
       "    </tr>\n",
       "    <tr>\n",
       "      <th>1</th>\n",
       "      <td>goog</td>\n",
       "      <td>call</td>\n",
       "      <td>2025-09-19</td>\n",
       "      <td>215</td>\n",
       "      <td>175.96</td>\n",
       "      <td>1.54</td>\n",
       "      <td>15.0</td>\n",
       "      <td>129.88</td>\n",
       "      <td>31.82</td>\n",
       "      <td>2025-06-30 19:59:59</td>\n",
       "      <td>60</td>\n",
       "    </tr>\n",
       "    <tr>\n",
       "      <th>2</th>\n",
       "      <td>goog</td>\n",
       "      <td>call</td>\n",
       "      <td>2025-10-17</td>\n",
       "      <td>210</td>\n",
       "      <td>175.96</td>\n",
       "      <td>2.89</td>\n",
       "      <td>15.0</td>\n",
       "      <td>160.64</td>\n",
       "      <td>30.24</td>\n",
       "      <td>2025-06-30 19:59:59</td>\n",
       "      <td>50</td>\n",
       "    </tr>\n",
       "    <tr>\n",
       "      <th>3</th>\n",
       "      <td>goog</td>\n",
       "      <td>call</td>\n",
       "      <td>2025-10-17</td>\n",
       "      <td>215</td>\n",
       "      <td>175.96</td>\n",
       "      <td>2.26</td>\n",
       "      <td>15.0</td>\n",
       "      <td>158.65</td>\n",
       "      <td>30.39</td>\n",
       "      <td>2025-06-30 20:00:00</td>\n",
       "      <td>25</td>\n",
       "    </tr>\n",
       "    <tr>\n",
       "      <th>4</th>\n",
       "      <td>goog</td>\n",
       "      <td>call</td>\n",
       "      <td>2025-09-19</td>\n",
       "      <td>210</td>\n",
       "      <td>175.96</td>\n",
       "      <td>2.01</td>\n",
       "      <td>15.0</td>\n",
       "      <td>147.69</td>\n",
       "      <td>31.43</td>\n",
       "      <td>2025-06-30 19:59:59</td>\n",
       "      <td>149</td>\n",
       "    </tr>\n",
       "    <tr>\n",
       "      <th>5</th>\n",
       "      <td>goog</td>\n",
       "      <td>call</td>\n",
       "      <td>2025-09-19</td>\n",
       "      <td>215</td>\n",
       "      <td>175.96</td>\n",
       "      <td>1.54</td>\n",
       "      <td>15.0</td>\n",
       "      <td>129.88</td>\n",
       "      <td>31.82</td>\n",
       "      <td>2025-06-30 19:59:59</td>\n",
       "      <td>60</td>\n",
       "    </tr>\n",
       "    <tr>\n",
       "      <th>6</th>\n",
       "      <td>goog</td>\n",
       "      <td>call</td>\n",
       "      <td>2025-10-17</td>\n",
       "      <td>210</td>\n",
       "      <td>175.96</td>\n",
       "      <td>2.89</td>\n",
       "      <td>15.0</td>\n",
       "      <td>160.64</td>\n",
       "      <td>30.24</td>\n",
       "      <td>2025-06-30 19:59:59</td>\n",
       "      <td>50</td>\n",
       "    </tr>\n",
       "    <tr>\n",
       "      <th>7</th>\n",
       "      <td>goog</td>\n",
       "      <td>call</td>\n",
       "      <td>2025-10-17</td>\n",
       "      <td>215</td>\n",
       "      <td>175.96</td>\n",
       "      <td>2.26</td>\n",
       "      <td>15.0</td>\n",
       "      <td>158.65</td>\n",
       "      <td>30.39</td>\n",
       "      <td>2025-06-30 20:00:00</td>\n",
       "      <td>25</td>\n",
       "    </tr>\n",
       "    <tr>\n",
       "      <th>8</th>\n",
       "      <td>goog</td>\n",
       "      <td>call</td>\n",
       "      <td>2025-09-19</td>\n",
       "      <td>210</td>\n",
       "      <td>175.96</td>\n",
       "      <td>2.01</td>\n",
       "      <td>-10.0</td>\n",
       "      <td>-99.52</td>\n",
       "      <td>31.43</td>\n",
       "      <td>2025-06-30 19:59:59</td>\n",
       "      <td>149</td>\n",
       "    </tr>\n",
       "    <tr>\n",
       "      <th>9</th>\n",
       "      <td>goog</td>\n",
       "      <td>call</td>\n",
       "      <td>2025-09-19</td>\n",
       "      <td>215</td>\n",
       "      <td>175.96</td>\n",
       "      <td>1.54</td>\n",
       "      <td>-10.0</td>\n",
       "      <td>-99.69</td>\n",
       "      <td>31.82</td>\n",
       "      <td>2025-06-30 19:59:59</td>\n",
       "      <td>60</td>\n",
       "    </tr>\n",
       "    <tr>\n",
       "      <th>10</th>\n",
       "      <td>goog</td>\n",
       "      <td>call</td>\n",
       "      <td>2025-10-17</td>\n",
       "      <td>210</td>\n",
       "      <td>175.96</td>\n",
       "      <td>2.89</td>\n",
       "      <td>-10.0</td>\n",
       "      <td>-96.14</td>\n",
       "      <td>30.24</td>\n",
       "      <td>2025-06-30 19:59:59</td>\n",
       "      <td>50</td>\n",
       "    </tr>\n",
       "    <tr>\n",
       "      <th>11</th>\n",
       "      <td>goog</td>\n",
       "      <td>call</td>\n",
       "      <td>2025-10-17</td>\n",
       "      <td>215</td>\n",
       "      <td>175.96</td>\n",
       "      <td>2.26</td>\n",
       "      <td>-10.0</td>\n",
       "      <td>-97.00</td>\n",
       "      <td>30.39</td>\n",
       "      <td>2025-06-30 20:00:00</td>\n",
       "      <td>25</td>\n",
       "    </tr>\n",
       "    <tr>\n",
       "      <th>12</th>\n",
       "      <td>goog</td>\n",
       "      <td>put</td>\n",
       "      <td>2025-09-19</td>\n",
       "      <td>150</td>\n",
       "      <td>175.96</td>\n",
       "      <td>2.02</td>\n",
       "      <td>10.0</td>\n",
       "      <td>-97.62</td>\n",
       "      <td>35.28</td>\n",
       "      <td>2025-06-30 19:59:59</td>\n",
       "      <td>116</td>\n",
       "    </tr>\n",
       "    <tr>\n",
       "      <th>13</th>\n",
       "      <td>goog</td>\n",
       "      <td>put</td>\n",
       "      <td>2025-09-19</td>\n",
       "      <td>145</td>\n",
       "      <td>175.96</td>\n",
       "      <td>1.50</td>\n",
       "      <td>10.0</td>\n",
       "      <td>-98.33</td>\n",
       "      <td>36.61</td>\n",
       "      <td>2025-06-30 19:59:59</td>\n",
       "      <td>34</td>\n",
       "    </tr>\n",
       "    <tr>\n",
       "      <th>14</th>\n",
       "      <td>goog</td>\n",
       "      <td>put</td>\n",
       "      <td>2025-10-17</td>\n",
       "      <td>150</td>\n",
       "      <td>175.96</td>\n",
       "      <td>2.73</td>\n",
       "      <td>10.0</td>\n",
       "      <td>-89.63</td>\n",
       "      <td>34.14</td>\n",
       "      <td>2025-06-30 19:59:59</td>\n",
       "      <td>46</td>\n",
       "    </tr>\n",
       "    <tr>\n",
       "      <th>15</th>\n",
       "      <td>goog</td>\n",
       "      <td>put</td>\n",
       "      <td>2025-10-17</td>\n",
       "      <td>145</td>\n",
       "      <td>175.96</td>\n",
       "      <td>2.08</td>\n",
       "      <td>10.0</td>\n",
       "      <td>-91.39</td>\n",
       "      <td>35.19</td>\n",
       "      <td>2025-06-30 19:59:59</td>\n",
       "      <td>20</td>\n",
       "    </tr>\n",
       "    <tr>\n",
       "      <th>16</th>\n",
       "      <td>goog</td>\n",
       "      <td>call</td>\n",
       "      <td>2025-12-19</td>\n",
       "      <td>230</td>\n",
       "      <td>175.96</td>\n",
       "      <td>2.60</td>\n",
       "      <td>20.0</td>\n",
       "      <td>220.02</td>\n",
       "      <td>30.85</td>\n",
       "      <td>2025-06-30 20:00:00</td>\n",
       "      <td>4</td>\n",
       "    </tr>\n",
       "    <tr>\n",
       "      <th>17</th>\n",
       "      <td>goog</td>\n",
       "      <td>call</td>\n",
       "      <td>2025-12-19</td>\n",
       "      <td>225</td>\n",
       "      <td>175.96</td>\n",
       "      <td>3.20</td>\n",
       "      <td>20.0</td>\n",
       "      <td>209.06</td>\n",
       "      <td>30.71</td>\n",
       "      <td>2025-06-30 19:59:59</td>\n",
       "      <td>13</td>\n",
       "    </tr>\n",
       "    <tr>\n",
       "      <th>18</th>\n",
       "      <td>goog</td>\n",
       "      <td>call</td>\n",
       "      <td>2026-01-16</td>\n",
       "      <td>230</td>\n",
       "      <td>175.96</td>\n",
       "      <td>3.22</td>\n",
       "      <td>20.0</td>\n",
       "      <td>207.05</td>\n",
       "      <td>30.15</td>\n",
       "      <td>2025-06-30 19:59:59</td>\n",
       "      <td>16</td>\n",
       "    </tr>\n",
       "    <tr>\n",
       "      <th>19</th>\n",
       "      <td>goog</td>\n",
       "      <td>call</td>\n",
       "      <td>2026-01-16</td>\n",
       "      <td>225</td>\n",
       "      <td>175.96</td>\n",
       "      <td>3.89</td>\n",
       "      <td>20.0</td>\n",
       "      <td>199.42</td>\n",
       "      <td>30.26</td>\n",
       "      <td>2025-06-30 20:00:00</td>\n",
       "      <td>33</td>\n",
       "    </tr>\n",
       "    <tr>\n",
       "      <th>20</th>\n",
       "      <td>goog</td>\n",
       "      <td>call</td>\n",
       "      <td>2025-12-19</td>\n",
       "      <td>230</td>\n",
       "      <td>175.96</td>\n",
       "      <td>2.60</td>\n",
       "      <td>-10.0</td>\n",
       "      <td>-92.36</td>\n",
       "      <td>30.85</td>\n",
       "      <td>2025-06-30 20:00:00</td>\n",
       "      <td>4</td>\n",
       "    </tr>\n",
       "    <tr>\n",
       "      <th>21</th>\n",
       "      <td>goog</td>\n",
       "      <td>call</td>\n",
       "      <td>2025-12-19</td>\n",
       "      <td>225</td>\n",
       "      <td>175.96</td>\n",
       "      <td>3.20</td>\n",
       "      <td>-10.0</td>\n",
       "      <td>-91.50</td>\n",
       "      <td>30.71</td>\n",
       "      <td>2025-06-30 19:59:59</td>\n",
       "      <td>13</td>\n",
       "    </tr>\n",
       "    <tr>\n",
       "      <th>22</th>\n",
       "      <td>goog</td>\n",
       "      <td>call</td>\n",
       "      <td>2026-01-16</td>\n",
       "      <td>230</td>\n",
       "      <td>175.96</td>\n",
       "      <td>3.22</td>\n",
       "      <td>-10.0</td>\n",
       "      <td>-88.35</td>\n",
       "      <td>30.15</td>\n",
       "      <td>2025-06-30 19:59:59</td>\n",
       "      <td>16</td>\n",
       "    </tr>\n",
       "    <tr>\n",
       "      <th>23</th>\n",
       "      <td>goog</td>\n",
       "      <td>call</td>\n",
       "      <td>2026-01-16</td>\n",
       "      <td>225</td>\n",
       "      <td>175.96</td>\n",
       "      <td>3.89</td>\n",
       "      <td>-10.0</td>\n",
       "      <td>-86.82</td>\n",
       "      <td>30.26</td>\n",
       "      <td>2025-06-30 20:00:00</td>\n",
       "      <td>33</td>\n",
       "    </tr>\n",
       "    <tr>\n",
       "      <th>24</th>\n",
       "      <td>goog</td>\n",
       "      <td>put</td>\n",
       "      <td>2025-12-19</td>\n",
       "      <td>140</td>\n",
       "      <td>175.96</td>\n",
       "      <td>2.91</td>\n",
       "      <td>15.0</td>\n",
       "      <td>-82.59</td>\n",
       "      <td>36.58</td>\n",
       "      <td>2025-06-30 19:59:59</td>\n",
       "      <td>5</td>\n",
       "    </tr>\n",
       "    <tr>\n",
       "      <th>25</th>\n",
       "      <td>goog</td>\n",
       "      <td>put</td>\n",
       "      <td>2025-12-19</td>\n",
       "      <td>145</td>\n",
       "      <td>175.96</td>\n",
       "      <td>3.72</td>\n",
       "      <td>15.0</td>\n",
       "      <td>-83.70</td>\n",
       "      <td>34.88</td>\n",
       "      <td>2025-06-30 20:00:00</td>\n",
       "      <td>7</td>\n",
       "    </tr>\n",
       "    <tr>\n",
       "      <th>26</th>\n",
       "      <td>goog</td>\n",
       "      <td>put</td>\n",
       "      <td>2026-01-16</td>\n",
       "      <td>140</td>\n",
       "      <td>175.96</td>\n",
       "      <td>3.40</td>\n",
       "      <td>15.0</td>\n",
       "      <td>-81.02</td>\n",
       "      <td>34.88</td>\n",
       "      <td>2025-06-30 19:59:59</td>\n",
       "      <td>54</td>\n",
       "    </tr>\n",
       "    <tr>\n",
       "      <th>27</th>\n",
       "      <td>goog</td>\n",
       "      <td>put</td>\n",
       "      <td>2026-01-16</td>\n",
       "      <td>145</td>\n",
       "      <td>175.96</td>\n",
       "      <td>4.11</td>\n",
       "      <td>15.0</td>\n",
       "      <td>-80.02</td>\n",
       "      <td>33.80</td>\n",
       "      <td>2025-06-30 19:59:59</td>\n",
       "      <td>10</td>\n",
       "    </tr>\n",
       "  </tbody>\n",
       "</table>\n",
       "</div>"
      ],
      "text/plain": [
       "   Ticker Option Type  Expiration  Strike  Underlying Price  Current Premium  \\\n",
       "0    goog        call  2025-09-19     210            175.96             2.01   \n",
       "1    goog        call  2025-09-19     215            175.96             1.54   \n",
       "2    goog        call  2025-10-17     210            175.96             2.89   \n",
       "3    goog        call  2025-10-17     215            175.96             2.26   \n",
       "4    goog        call  2025-09-19     210            175.96             2.01   \n",
       "5    goog        call  2025-09-19     215            175.96             1.54   \n",
       "6    goog        call  2025-10-17     210            175.96             2.89   \n",
       "7    goog        call  2025-10-17     215            175.96             2.26   \n",
       "8    goog        call  2025-09-19     210            175.96             2.01   \n",
       "9    goog        call  2025-09-19     215            175.96             1.54   \n",
       "10   goog        call  2025-10-17     210            175.96             2.89   \n",
       "11   goog        call  2025-10-17     215            175.96             2.26   \n",
       "12   goog         put  2025-09-19     150            175.96             2.02   \n",
       "13   goog         put  2025-09-19     145            175.96             1.50   \n",
       "14   goog         put  2025-10-17     150            175.96             2.73   \n",
       "15   goog         put  2025-10-17     145            175.96             2.08   \n",
       "16   goog        call  2025-12-19     230            175.96             2.60   \n",
       "17   goog        call  2025-12-19     225            175.96             3.20   \n",
       "18   goog        call  2026-01-16     230            175.96             3.22   \n",
       "19   goog        call  2026-01-16     225            175.96             3.89   \n",
       "20   goog        call  2025-12-19     230            175.96             2.60   \n",
       "21   goog        call  2025-12-19     225            175.96             3.20   \n",
       "22   goog        call  2026-01-16     230            175.96             3.22   \n",
       "23   goog        call  2026-01-16     225            175.96             3.89   \n",
       "24   goog         put  2025-12-19     140            175.96             2.91   \n",
       "25   goog         put  2025-12-19     145            175.96             3.72   \n",
       "26   goog         put  2026-01-16     140            175.96             3.40   \n",
       "27   goog         put  2026-01-16     145            175.96             4.11   \n",
       "\n",
       "    Underlying Gain %  Premium % Gain  Implied Volatility  \\\n",
       "0                15.0          147.69               31.43   \n",
       "1                15.0          129.88               31.82   \n",
       "2                15.0          160.64               30.24   \n",
       "3                15.0          158.65               30.39   \n",
       "4                15.0          147.69               31.43   \n",
       "5                15.0          129.88               31.82   \n",
       "6                15.0          160.64               30.24   \n",
       "7                15.0          158.65               30.39   \n",
       "8               -10.0          -99.52               31.43   \n",
       "9               -10.0          -99.69               31.82   \n",
       "10              -10.0          -96.14               30.24   \n",
       "11              -10.0          -97.00               30.39   \n",
       "12               10.0          -97.62               35.28   \n",
       "13               10.0          -98.33               36.61   \n",
       "14               10.0          -89.63               34.14   \n",
       "15               10.0          -91.39               35.19   \n",
       "16               20.0          220.02               30.85   \n",
       "17               20.0          209.06               30.71   \n",
       "18               20.0          207.05               30.15   \n",
       "19               20.0          199.42               30.26   \n",
       "20              -10.0          -92.36               30.85   \n",
       "21              -10.0          -91.50               30.71   \n",
       "22              -10.0          -88.35               30.15   \n",
       "23              -10.0          -86.82               30.26   \n",
       "24               15.0          -82.59               36.58   \n",
       "25               15.0          -83.70               34.88   \n",
       "26               15.0          -81.02               34.88   \n",
       "27               15.0          -80.02               33.80   \n",
       "\n",
       "               Bid Date  Volume  \n",
       "0   2025-06-30 19:59:59     149  \n",
       "1   2025-06-30 19:59:59      60  \n",
       "2   2025-06-30 19:59:59      50  \n",
       "3   2025-06-30 20:00:00      25  \n",
       "4   2025-06-30 19:59:59     149  \n",
       "5   2025-06-30 19:59:59      60  \n",
       "6   2025-06-30 19:59:59      50  \n",
       "7   2025-06-30 20:00:00      25  \n",
       "8   2025-06-30 19:59:59     149  \n",
       "9   2025-06-30 19:59:59      60  \n",
       "10  2025-06-30 19:59:59      50  \n",
       "11  2025-06-30 20:00:00      25  \n",
       "12  2025-06-30 19:59:59     116  \n",
       "13  2025-06-30 19:59:59      34  \n",
       "14  2025-06-30 19:59:59      46  \n",
       "15  2025-06-30 19:59:59      20  \n",
       "16  2025-06-30 20:00:00       4  \n",
       "17  2025-06-30 19:59:59      13  \n",
       "18  2025-06-30 19:59:59      16  \n",
       "19  2025-06-30 20:00:00      33  \n",
       "20  2025-06-30 20:00:00       4  \n",
       "21  2025-06-30 19:59:59      13  \n",
       "22  2025-06-30 19:59:59      16  \n",
       "23  2025-06-30 20:00:00      33  \n",
       "24  2025-06-30 19:59:59       5  \n",
       "25  2025-06-30 20:00:00       7  \n",
       "26  2025-06-30 19:59:59      54  \n",
       "27  2025-06-30 19:59:59      10  "
      ]
     },
     "metadata": {},
     "output_type": "display_data"
    }
   ],
   "source": [
    "dfHighlights = highlightsTable(dfOptions)\n",
    "display(dfHighlights)"
   ]
  },
  {
   "cell_type": "code",
   "execution_count": null,
   "id": "844e2e7a-487d-45ac-9c8b-499074b7444e",
   "metadata": {},
   "outputs": [],
   "source": [
    "dfHighlights.to_csv('optionsHighlights.csv', index=False)\n"
   ]
  },
  {
   "cell_type": "code",
   "execution_count": 12,
   "id": "15f5280a-6ade-467d-8344-900b4246da8c",
   "metadata": {},
   "outputs": [],
   "source": [
    "def screener_parameter_builder(days_groups, call_stock_gains, put_stock_gains, itm_strikes, otm_strikes, tickers, days_to_gain_pcts, option_types):\n",
    "    \"\"\"\n",
    "    Builds the scenarios list without running the analysis.\n",
    "    Allows specifying call/put separately and their own stock gain lists.\n",
    "    \n",
    "    Args:\n",
    "        days_groups (list[int]): days until expiration periods\n",
    "        call_stock_gains (list[float]): stock gains for calls\n",
    "        put_stock_gains (list[float]): stock gains for puts\n",
    "        itm_strikes (list[float]): ITM strike adjustments\n",
    "        otm_strikes (list[float]): OTM strike adjustments\n",
    "        tickers (list[str]): ticker symbols\n",
    "        days_to_gain_pcts (list[float]): percentages of days_until_exp for days_to_gain\n",
    "        option_types (list[str]): [\"call\"], [\"put\"], or [\"call\", \"put\"]\n",
    "        \n",
    "    Returns:\n",
    "        list[dict]: parameter sets\n",
    "    \"\"\"\n",
    "    scenarios = []\n",
    "\n",
    "    for days in days_groups:\n",
    "        for pct in days_to_gain_pcts:\n",
    "            days_to_gain = max(1, int(days * pct))\n",
    "\n",
    "            if \"call\" in option_types:\n",
    "                for sg in call_stock_gains:\n",
    "                    # Calls ITM\n",
    "                    for strike in itm_strikes:\n",
    "                        scenarios.append({\n",
    "                            \"tickers\": tickers,\n",
    "                            \"option_type\": \"call\",\n",
    "                            \"days_until_exp\": days,\n",
    "                            \"strike_pct\": strike,\n",
    "                            \"days_to_gain\": days_to_gain,\n",
    "                            \"stock_gain_pct\": sg,\n",
    "                            \"allocation\": 100,\n",
    "                            \"label\": f\"{days}d({int(pct*100)}%) Call ITM strike{strike} {'+' if sg>0 else ''}{int(sg*100)}%\"\n",
    "                        })\n",
    "                    # Calls OTM\n",
    "                    for strike in otm_strikes:\n",
    "                        scenarios.append({\n",
    "                            \"tickers\": tickers,\n",
    "                            \"option_type\": \"call\",\n",
    "                            \"days_until_exp\": days,\n",
    "                            \"strike_pct\": strike,\n",
    "                            \"days_to_gain\": days_to_gain,\n",
    "                            \"stock_gain_pct\": sg,\n",
    "                            \"allocation\": 100,\n",
    "                            \"label\": f\"{days}d({int(pct*100)}%) Call OTM strike{strike} {'+' if sg>0 else ''}{int(sg*100)}%\"\n",
    "                        })\n",
    "\n",
    "            if \"put\" in option_types:\n",
    "                for sg in put_stock_gains:\n",
    "                    # Puts ITM\n",
    "                    for strike in itm_strikes:\n",
    "                        scenarios.append({\n",
    "                            \"tickers\": tickers,\n",
    "                            \"option_type\": \"put\",\n",
    "                            \"days_until_exp\": days,\n",
    "                            \"strike_pct\": strike,\n",
    "                            \"days_to_gain\": days_to_gain,\n",
    "                            \"stock_gain_pct\": sg,\n",
    "                            \"allocation\": 100,\n",
    "                            \"label\": f\"{days}d({int(pct*100)}%) Put ITM strike{strike} {'+' if sg>0 else ''}{int(sg*100)}%\"\n",
    "                        })\n",
    "                    # Puts OTM\n",
    "                    for strike in otm_strikes:\n",
    "                        scenarios.append({\n",
    "                            \"tickers\": tickers,\n",
    "                            \"option_type\": \"put\",\n",
    "                            \"days_until_exp\": days,\n",
    "                            \"strike_pct\": strike,\n",
    "                            \"days_to_gain\": days_to_gain,\n",
    "                            \"stock_gain_pct\": sg,\n",
    "                            \"allocation\": 100,\n",
    "                            \"label\": f\"{days}d({int(pct*100)}%) Put OTM strike{strike} {'+' if sg>0 else ''}{int(sg*100)}%\"\n",
    "                        })\n",
    "\n",
    "    print(f\"\\n✅ Total parameter sets generated: {len(scenarios)}\")\n",
    "    print(f\"🔎 First 3 parameter sets for inspection:\\n\")\n",
    "    for param in scenarios[:3]:\n",
    "        print(param)\n",
    "        print(\"-\" * 80)\n",
    "\n",
    "    return scenarios\n",
    "\n",
    "\n",
    "\n",
    "\n",
    "def basic_screener(days_groups, call_stock_gains, put_stock_gains, itm_strikes, otm_strikes, tickers, days_to_gain_pcts, option_types):\n",
    "    \"\"\"\n",
    "    Calls screener_parameter_builder to get scenarios, then runs the analysis.\n",
    "    Returns the combined DataFrame of results.\n",
    "    \"\"\"\n",
    "    param_sets = screener_parameter_builder(\n",
    "        days_groups, call_stock_gains, put_stock_gains, itm_strikes, otm_strikes, tickers, days_to_gain_pcts, option_types\n",
    "    )\n",
    "    return run_multiple_analyses(param_sets)\n"
   ]
  },
  {
   "cell_type": "code",
   "execution_count": 14,
   "id": "6202f693-99e2-425f-8a9a-e879ce261d93",
   "metadata": {},
   "outputs": [
    {
     "name": "stdout",
     "output_type": "stream",
     "text": [
      "\n",
      "✅ Total parameter sets generated: 320\n",
      "🔎 First 3 parameter sets for inspection:\n",
      "\n",
      "{'tickers': ['goog'], 'option_type': 'call', 'days_until_exp': 90, 'strike_pct': -0.1, 'days_to_gain': 18, 'stock_gain_pct': 0.1, 'allocation': 100, 'label': '90d(20%) Call ITM strike-0.1 +10%'}\n",
      "--------------------------------------------------------------------------------\n",
      "{'tickers': ['goog'], 'option_type': 'call', 'days_until_exp': 90, 'strike_pct': -0.5, 'days_to_gain': 18, 'stock_gain_pct': 0.1, 'allocation': 100, 'label': '90d(20%) Call ITM strike-0.5 +10%'}\n",
      "--------------------------------------------------------------------------------\n",
      "{'tickers': ['goog'], 'option_type': 'call', 'days_until_exp': 90, 'strike_pct': 0.2, 'days_to_gain': 18, 'stock_gain_pct': 0.1, 'allocation': 100, 'label': '90d(20%) Call OTM strike0.2 +10%'}\n",
      "--------------------------------------------------------------------------------\n"
     ]
    },
    {
     "data": {
      "text/plain": [
       "[{'tickers': ['goog'],\n",
       "  'option_type': 'call',\n",
       "  'days_until_exp': 90,\n",
       "  'strike_pct': -0.1,\n",
       "  'days_to_gain': 18,\n",
       "  'stock_gain_pct': 0.1,\n",
       "  'allocation': 100,\n",
       "  'label': '90d(20%) Call ITM strike-0.1 +10%'},\n",
       " {'tickers': ['goog'],\n",
       "  'option_type': 'call',\n",
       "  'days_until_exp': 90,\n",
       "  'strike_pct': -0.5,\n",
       "  'days_to_gain': 18,\n",
       "  'stock_gain_pct': 0.1,\n",
       "  'allocation': 100,\n",
       "  'label': '90d(20%) Call ITM strike-0.5 +10%'},\n",
       " {'tickers': ['goog'],\n",
       "  'option_type': 'call',\n",
       "  'days_until_exp': 90,\n",
       "  'strike_pct': 0.2,\n",
       "  'days_to_gain': 18,\n",
       "  'stock_gain_pct': 0.1,\n",
       "  'allocation': 100,\n",
       "  'label': '90d(20%) Call OTM strike0.2 +10%'},\n",
       " {'tickers': ['goog'],\n",
       "  'option_type': 'call',\n",
       "  'days_until_exp': 90,\n",
       "  'strike_pct': 0.5,\n",
       "  'days_to_gain': 18,\n",
       "  'stock_gain_pct': 0.1,\n",
       "  'allocation': 100,\n",
       "  'label': '90d(20%) Call OTM strike0.5 +10%'},\n",
       " {'tickers': ['goog'],\n",
       "  'option_type': 'call',\n",
       "  'days_until_exp': 90,\n",
       "  'strike_pct': 0.9,\n",
       "  'days_to_gain': 18,\n",
       "  'stock_gain_pct': 0.1,\n",
       "  'allocation': 100,\n",
       "  'label': '90d(20%) Call OTM strike0.9 +10%'},\n",
       " {'tickers': ['goog'],\n",
       "  'option_type': 'call',\n",
       "  'days_until_exp': 90,\n",
       "  'strike_pct': -0.1,\n",
       "  'days_to_gain': 18,\n",
       "  'stock_gain_pct': 0.2,\n",
       "  'allocation': 100,\n",
       "  'label': '90d(20%) Call ITM strike-0.1 +20%'},\n",
       " {'tickers': ['goog'],\n",
       "  'option_type': 'call',\n",
       "  'days_until_exp': 90,\n",
       "  'strike_pct': -0.5,\n",
       "  'days_to_gain': 18,\n",
       "  'stock_gain_pct': 0.2,\n",
       "  'allocation': 100,\n",
       "  'label': '90d(20%) Call ITM strike-0.5 +20%'},\n",
       " {'tickers': ['goog'],\n",
       "  'option_type': 'call',\n",
       "  'days_until_exp': 90,\n",
       "  'strike_pct': 0.2,\n",
       "  'days_to_gain': 18,\n",
       "  'stock_gain_pct': 0.2,\n",
       "  'allocation': 100,\n",
       "  'label': '90d(20%) Call OTM strike0.2 +20%'},\n",
       " {'tickers': ['goog'],\n",
       "  'option_type': 'call',\n",
       "  'days_until_exp': 90,\n",
       "  'strike_pct': 0.5,\n",
       "  'days_to_gain': 18,\n",
       "  'stock_gain_pct': 0.2,\n",
       "  'allocation': 100,\n",
       "  'label': '90d(20%) Call OTM strike0.5 +20%'},\n",
       " {'tickers': ['goog'],\n",
       "  'option_type': 'call',\n",
       "  'days_until_exp': 90,\n",
       "  'strike_pct': 0.9,\n",
       "  'days_to_gain': 18,\n",
       "  'stock_gain_pct': 0.2,\n",
       "  'allocation': 100,\n",
       "  'label': '90d(20%) Call OTM strike0.9 +20%'},\n",
       " {'tickers': ['goog'],\n",
       "  'option_type': 'call',\n",
       "  'days_until_exp': 90,\n",
       "  'strike_pct': -0.1,\n",
       "  'days_to_gain': 18,\n",
       "  'stock_gain_pct': 0.5,\n",
       "  'allocation': 100,\n",
       "  'label': '90d(20%) Call ITM strike-0.1 +50%'},\n",
       " {'tickers': ['goog'],\n",
       "  'option_type': 'call',\n",
       "  'days_until_exp': 90,\n",
       "  'strike_pct': -0.5,\n",
       "  'days_to_gain': 18,\n",
       "  'stock_gain_pct': 0.5,\n",
       "  'allocation': 100,\n",
       "  'label': '90d(20%) Call ITM strike-0.5 +50%'},\n",
       " {'tickers': ['goog'],\n",
       "  'option_type': 'call',\n",
       "  'days_until_exp': 90,\n",
       "  'strike_pct': 0.2,\n",
       "  'days_to_gain': 18,\n",
       "  'stock_gain_pct': 0.5,\n",
       "  'allocation': 100,\n",
       "  'label': '90d(20%) Call OTM strike0.2 +50%'},\n",
       " {'tickers': ['goog'],\n",
       "  'option_type': 'call',\n",
       "  'days_until_exp': 90,\n",
       "  'strike_pct': 0.5,\n",
       "  'days_to_gain': 18,\n",
       "  'stock_gain_pct': 0.5,\n",
       "  'allocation': 100,\n",
       "  'label': '90d(20%) Call OTM strike0.5 +50%'},\n",
       " {'tickers': ['goog'],\n",
       "  'option_type': 'call',\n",
       "  'days_until_exp': 90,\n",
       "  'strike_pct': 0.9,\n",
       "  'days_to_gain': 18,\n",
       "  'stock_gain_pct': 0.5,\n",
       "  'allocation': 100,\n",
       "  'label': '90d(20%) Call OTM strike0.9 +50%'},\n",
       " {'tickers': ['goog'],\n",
       "  'option_type': 'call',\n",
       "  'days_until_exp': 90,\n",
       "  'strike_pct': -0.1,\n",
       "  'days_to_gain': 18,\n",
       "  'stock_gain_pct': 1.5,\n",
       "  'allocation': 100,\n",
       "  'label': '90d(20%) Call ITM strike-0.1 +150%'},\n",
       " {'tickers': ['goog'],\n",
       "  'option_type': 'call',\n",
       "  'days_until_exp': 90,\n",
       "  'strike_pct': -0.5,\n",
       "  'days_to_gain': 18,\n",
       "  'stock_gain_pct': 1.5,\n",
       "  'allocation': 100,\n",
       "  'label': '90d(20%) Call ITM strike-0.5 +150%'},\n",
       " {'tickers': ['goog'],\n",
       "  'option_type': 'call',\n",
       "  'days_until_exp': 90,\n",
       "  'strike_pct': 0.2,\n",
       "  'days_to_gain': 18,\n",
       "  'stock_gain_pct': 1.5,\n",
       "  'allocation': 100,\n",
       "  'label': '90d(20%) Call OTM strike0.2 +150%'},\n",
       " {'tickers': ['goog'],\n",
       "  'option_type': 'call',\n",
       "  'days_until_exp': 90,\n",
       "  'strike_pct': 0.5,\n",
       "  'days_to_gain': 18,\n",
       "  'stock_gain_pct': 1.5,\n",
       "  'allocation': 100,\n",
       "  'label': '90d(20%) Call OTM strike0.5 +150%'},\n",
       " {'tickers': ['goog'],\n",
       "  'option_type': 'call',\n",
       "  'days_until_exp': 90,\n",
       "  'strike_pct': 0.9,\n",
       "  'days_to_gain': 18,\n",
       "  'stock_gain_pct': 1.5,\n",
       "  'allocation': 100,\n",
       "  'label': '90d(20%) Call OTM strike0.9 +150%'},\n",
       " {'tickers': ['goog'],\n",
       "  'option_type': 'call',\n",
       "  'days_until_exp': 90,\n",
       "  'strike_pct': -0.1,\n",
       "  'days_to_gain': 18,\n",
       "  'stock_gain_pct': -0.2,\n",
       "  'allocation': 100,\n",
       "  'label': '90d(20%) Call ITM strike-0.1 -20%'},\n",
       " {'tickers': ['goog'],\n",
       "  'option_type': 'call',\n",
       "  'days_until_exp': 90,\n",
       "  'strike_pct': -0.5,\n",
       "  'days_to_gain': 18,\n",
       "  'stock_gain_pct': -0.2,\n",
       "  'allocation': 100,\n",
       "  'label': '90d(20%) Call ITM strike-0.5 -20%'},\n",
       " {'tickers': ['goog'],\n",
       "  'option_type': 'call',\n",
       "  'days_until_exp': 90,\n",
       "  'strike_pct': 0.2,\n",
       "  'days_to_gain': 18,\n",
       "  'stock_gain_pct': -0.2,\n",
       "  'allocation': 100,\n",
       "  'label': '90d(20%) Call OTM strike0.2 -20%'},\n",
       " {'tickers': ['goog'],\n",
       "  'option_type': 'call',\n",
       "  'days_until_exp': 90,\n",
       "  'strike_pct': 0.5,\n",
       "  'days_to_gain': 18,\n",
       "  'stock_gain_pct': -0.2,\n",
       "  'allocation': 100,\n",
       "  'label': '90d(20%) Call OTM strike0.5 -20%'},\n",
       " {'tickers': ['goog'],\n",
       "  'option_type': 'call',\n",
       "  'days_until_exp': 90,\n",
       "  'strike_pct': 0.9,\n",
       "  'days_to_gain': 18,\n",
       "  'stock_gain_pct': -0.2,\n",
       "  'allocation': 100,\n",
       "  'label': '90d(20%) Call OTM strike0.9 -20%'},\n",
       " {'tickers': ['goog'],\n",
       "  'option_type': 'put',\n",
       "  'days_until_exp': 90,\n",
       "  'strike_pct': -0.1,\n",
       "  'days_to_gain': 18,\n",
       "  'stock_gain_pct': -0.1,\n",
       "  'allocation': 100,\n",
       "  'label': '90d(20%) Put ITM strike-0.1 -10%'},\n",
       " {'tickers': ['goog'],\n",
       "  'option_type': 'put',\n",
       "  'days_until_exp': 90,\n",
       "  'strike_pct': -0.5,\n",
       "  'days_to_gain': 18,\n",
       "  'stock_gain_pct': -0.1,\n",
       "  'allocation': 100,\n",
       "  'label': '90d(20%) Put ITM strike-0.5 -10%'},\n",
       " {'tickers': ['goog'],\n",
       "  'option_type': 'put',\n",
       "  'days_until_exp': 90,\n",
       "  'strike_pct': 0.2,\n",
       "  'days_to_gain': 18,\n",
       "  'stock_gain_pct': -0.1,\n",
       "  'allocation': 100,\n",
       "  'label': '90d(20%) Put OTM strike0.2 -10%'},\n",
       " {'tickers': ['goog'],\n",
       "  'option_type': 'put',\n",
       "  'days_until_exp': 90,\n",
       "  'strike_pct': 0.5,\n",
       "  'days_to_gain': 18,\n",
       "  'stock_gain_pct': -0.1,\n",
       "  'allocation': 100,\n",
       "  'label': '90d(20%) Put OTM strike0.5 -10%'},\n",
       " {'tickers': ['goog'],\n",
       "  'option_type': 'put',\n",
       "  'days_until_exp': 90,\n",
       "  'strike_pct': 0.9,\n",
       "  'days_to_gain': 18,\n",
       "  'stock_gain_pct': -0.1,\n",
       "  'allocation': 100,\n",
       "  'label': '90d(20%) Put OTM strike0.9 -10%'},\n",
       " {'tickers': ['goog'],\n",
       "  'option_type': 'put',\n",
       "  'days_until_exp': 90,\n",
       "  'strike_pct': -0.1,\n",
       "  'days_to_gain': 18,\n",
       "  'stock_gain_pct': -0.2,\n",
       "  'allocation': 100,\n",
       "  'label': '90d(20%) Put ITM strike-0.1 -20%'},\n",
       " {'tickers': ['goog'],\n",
       "  'option_type': 'put',\n",
       "  'days_until_exp': 90,\n",
       "  'strike_pct': -0.5,\n",
       "  'days_to_gain': 18,\n",
       "  'stock_gain_pct': -0.2,\n",
       "  'allocation': 100,\n",
       "  'label': '90d(20%) Put ITM strike-0.5 -20%'},\n",
       " {'tickers': ['goog'],\n",
       "  'option_type': 'put',\n",
       "  'days_until_exp': 90,\n",
       "  'strike_pct': 0.2,\n",
       "  'days_to_gain': 18,\n",
       "  'stock_gain_pct': -0.2,\n",
       "  'allocation': 100,\n",
       "  'label': '90d(20%) Put OTM strike0.2 -20%'},\n",
       " {'tickers': ['goog'],\n",
       "  'option_type': 'put',\n",
       "  'days_until_exp': 90,\n",
       "  'strike_pct': 0.5,\n",
       "  'days_to_gain': 18,\n",
       "  'stock_gain_pct': -0.2,\n",
       "  'allocation': 100,\n",
       "  'label': '90d(20%) Put OTM strike0.5 -20%'},\n",
       " {'tickers': ['goog'],\n",
       "  'option_type': 'put',\n",
       "  'days_until_exp': 90,\n",
       "  'strike_pct': 0.9,\n",
       "  'days_to_gain': 18,\n",
       "  'stock_gain_pct': -0.2,\n",
       "  'allocation': 100,\n",
       "  'label': '90d(20%) Put OTM strike0.9 -20%'},\n",
       " {'tickers': ['goog'],\n",
       "  'option_type': 'put',\n",
       "  'days_until_exp': 90,\n",
       "  'strike_pct': -0.1,\n",
       "  'days_to_gain': 18,\n",
       "  'stock_gain_pct': 0.2,\n",
       "  'allocation': 100,\n",
       "  'label': '90d(20%) Put ITM strike-0.1 +20%'},\n",
       " {'tickers': ['goog'],\n",
       "  'option_type': 'put',\n",
       "  'days_until_exp': 90,\n",
       "  'strike_pct': -0.5,\n",
       "  'days_to_gain': 18,\n",
       "  'stock_gain_pct': 0.2,\n",
       "  'allocation': 100,\n",
       "  'label': '90d(20%) Put ITM strike-0.5 +20%'},\n",
       " {'tickers': ['goog'],\n",
       "  'option_type': 'put',\n",
       "  'days_until_exp': 90,\n",
       "  'strike_pct': 0.2,\n",
       "  'days_to_gain': 18,\n",
       "  'stock_gain_pct': 0.2,\n",
       "  'allocation': 100,\n",
       "  'label': '90d(20%) Put OTM strike0.2 +20%'},\n",
       " {'tickers': ['goog'],\n",
       "  'option_type': 'put',\n",
       "  'days_until_exp': 90,\n",
       "  'strike_pct': 0.5,\n",
       "  'days_to_gain': 18,\n",
       "  'stock_gain_pct': 0.2,\n",
       "  'allocation': 100,\n",
       "  'label': '90d(20%) Put OTM strike0.5 +20%'},\n",
       " {'tickers': ['goog'],\n",
       "  'option_type': 'put',\n",
       "  'days_until_exp': 90,\n",
       "  'strike_pct': 0.9,\n",
       "  'days_to_gain': 18,\n",
       "  'stock_gain_pct': 0.2,\n",
       "  'allocation': 100,\n",
       "  'label': '90d(20%) Put OTM strike0.9 +20%'},\n",
       " {'tickers': ['goog'],\n",
       "  'option_type': 'call',\n",
       "  'days_until_exp': 90,\n",
       "  'strike_pct': -0.1,\n",
       "  'days_to_gain': 45,\n",
       "  'stock_gain_pct': 0.1,\n",
       "  'allocation': 100,\n",
       "  'label': '90d(50%) Call ITM strike-0.1 +10%'},\n",
       " {'tickers': ['goog'],\n",
       "  'option_type': 'call',\n",
       "  'days_until_exp': 90,\n",
       "  'strike_pct': -0.5,\n",
       "  'days_to_gain': 45,\n",
       "  'stock_gain_pct': 0.1,\n",
       "  'allocation': 100,\n",
       "  'label': '90d(50%) Call ITM strike-0.5 +10%'},\n",
       " {'tickers': ['goog'],\n",
       "  'option_type': 'call',\n",
       "  'days_until_exp': 90,\n",
       "  'strike_pct': 0.2,\n",
       "  'days_to_gain': 45,\n",
       "  'stock_gain_pct': 0.1,\n",
       "  'allocation': 100,\n",
       "  'label': '90d(50%) Call OTM strike0.2 +10%'},\n",
       " {'tickers': ['goog'],\n",
       "  'option_type': 'call',\n",
       "  'days_until_exp': 90,\n",
       "  'strike_pct': 0.5,\n",
       "  'days_to_gain': 45,\n",
       "  'stock_gain_pct': 0.1,\n",
       "  'allocation': 100,\n",
       "  'label': '90d(50%) Call OTM strike0.5 +10%'},\n",
       " {'tickers': ['goog'],\n",
       "  'option_type': 'call',\n",
       "  'days_until_exp': 90,\n",
       "  'strike_pct': 0.9,\n",
       "  'days_to_gain': 45,\n",
       "  'stock_gain_pct': 0.1,\n",
       "  'allocation': 100,\n",
       "  'label': '90d(50%) Call OTM strike0.9 +10%'},\n",
       " {'tickers': ['goog'],\n",
       "  'option_type': 'call',\n",
       "  'days_until_exp': 90,\n",
       "  'strike_pct': -0.1,\n",
       "  'days_to_gain': 45,\n",
       "  'stock_gain_pct': 0.2,\n",
       "  'allocation': 100,\n",
       "  'label': '90d(50%) Call ITM strike-0.1 +20%'},\n",
       " {'tickers': ['goog'],\n",
       "  'option_type': 'call',\n",
       "  'days_until_exp': 90,\n",
       "  'strike_pct': -0.5,\n",
       "  'days_to_gain': 45,\n",
       "  'stock_gain_pct': 0.2,\n",
       "  'allocation': 100,\n",
       "  'label': '90d(50%) Call ITM strike-0.5 +20%'},\n",
       " {'tickers': ['goog'],\n",
       "  'option_type': 'call',\n",
       "  'days_until_exp': 90,\n",
       "  'strike_pct': 0.2,\n",
       "  'days_to_gain': 45,\n",
       "  'stock_gain_pct': 0.2,\n",
       "  'allocation': 100,\n",
       "  'label': '90d(50%) Call OTM strike0.2 +20%'},\n",
       " {'tickers': ['goog'],\n",
       "  'option_type': 'call',\n",
       "  'days_until_exp': 90,\n",
       "  'strike_pct': 0.5,\n",
       "  'days_to_gain': 45,\n",
       "  'stock_gain_pct': 0.2,\n",
       "  'allocation': 100,\n",
       "  'label': '90d(50%) Call OTM strike0.5 +20%'},\n",
       " {'tickers': ['goog'],\n",
       "  'option_type': 'call',\n",
       "  'days_until_exp': 90,\n",
       "  'strike_pct': 0.9,\n",
       "  'days_to_gain': 45,\n",
       "  'stock_gain_pct': 0.2,\n",
       "  'allocation': 100,\n",
       "  'label': '90d(50%) Call OTM strike0.9 +20%'},\n",
       " {'tickers': ['goog'],\n",
       "  'option_type': 'call',\n",
       "  'days_until_exp': 90,\n",
       "  'strike_pct': -0.1,\n",
       "  'days_to_gain': 45,\n",
       "  'stock_gain_pct': 0.5,\n",
       "  'allocation': 100,\n",
       "  'label': '90d(50%) Call ITM strike-0.1 +50%'},\n",
       " {'tickers': ['goog'],\n",
       "  'option_type': 'call',\n",
       "  'days_until_exp': 90,\n",
       "  'strike_pct': -0.5,\n",
       "  'days_to_gain': 45,\n",
       "  'stock_gain_pct': 0.5,\n",
       "  'allocation': 100,\n",
       "  'label': '90d(50%) Call ITM strike-0.5 +50%'},\n",
       " {'tickers': ['goog'],\n",
       "  'option_type': 'call',\n",
       "  'days_until_exp': 90,\n",
       "  'strike_pct': 0.2,\n",
       "  'days_to_gain': 45,\n",
       "  'stock_gain_pct': 0.5,\n",
       "  'allocation': 100,\n",
       "  'label': '90d(50%) Call OTM strike0.2 +50%'},\n",
       " {'tickers': ['goog'],\n",
       "  'option_type': 'call',\n",
       "  'days_until_exp': 90,\n",
       "  'strike_pct': 0.5,\n",
       "  'days_to_gain': 45,\n",
       "  'stock_gain_pct': 0.5,\n",
       "  'allocation': 100,\n",
       "  'label': '90d(50%) Call OTM strike0.5 +50%'},\n",
       " {'tickers': ['goog'],\n",
       "  'option_type': 'call',\n",
       "  'days_until_exp': 90,\n",
       "  'strike_pct': 0.9,\n",
       "  'days_to_gain': 45,\n",
       "  'stock_gain_pct': 0.5,\n",
       "  'allocation': 100,\n",
       "  'label': '90d(50%) Call OTM strike0.9 +50%'},\n",
       " {'tickers': ['goog'],\n",
       "  'option_type': 'call',\n",
       "  'days_until_exp': 90,\n",
       "  'strike_pct': -0.1,\n",
       "  'days_to_gain': 45,\n",
       "  'stock_gain_pct': 1.5,\n",
       "  'allocation': 100,\n",
       "  'label': '90d(50%) Call ITM strike-0.1 +150%'},\n",
       " {'tickers': ['goog'],\n",
       "  'option_type': 'call',\n",
       "  'days_until_exp': 90,\n",
       "  'strike_pct': -0.5,\n",
       "  'days_to_gain': 45,\n",
       "  'stock_gain_pct': 1.5,\n",
       "  'allocation': 100,\n",
       "  'label': '90d(50%) Call ITM strike-0.5 +150%'},\n",
       " {'tickers': ['goog'],\n",
       "  'option_type': 'call',\n",
       "  'days_until_exp': 90,\n",
       "  'strike_pct': 0.2,\n",
       "  'days_to_gain': 45,\n",
       "  'stock_gain_pct': 1.5,\n",
       "  'allocation': 100,\n",
       "  'label': '90d(50%) Call OTM strike0.2 +150%'},\n",
       " {'tickers': ['goog'],\n",
       "  'option_type': 'call',\n",
       "  'days_until_exp': 90,\n",
       "  'strike_pct': 0.5,\n",
       "  'days_to_gain': 45,\n",
       "  'stock_gain_pct': 1.5,\n",
       "  'allocation': 100,\n",
       "  'label': '90d(50%) Call OTM strike0.5 +150%'},\n",
       " {'tickers': ['goog'],\n",
       "  'option_type': 'call',\n",
       "  'days_until_exp': 90,\n",
       "  'strike_pct': 0.9,\n",
       "  'days_to_gain': 45,\n",
       "  'stock_gain_pct': 1.5,\n",
       "  'allocation': 100,\n",
       "  'label': '90d(50%) Call OTM strike0.9 +150%'},\n",
       " {'tickers': ['goog'],\n",
       "  'option_type': 'call',\n",
       "  'days_until_exp': 90,\n",
       "  'strike_pct': -0.1,\n",
       "  'days_to_gain': 45,\n",
       "  'stock_gain_pct': -0.2,\n",
       "  'allocation': 100,\n",
       "  'label': '90d(50%) Call ITM strike-0.1 -20%'},\n",
       " {'tickers': ['goog'],\n",
       "  'option_type': 'call',\n",
       "  'days_until_exp': 90,\n",
       "  'strike_pct': -0.5,\n",
       "  'days_to_gain': 45,\n",
       "  'stock_gain_pct': -0.2,\n",
       "  'allocation': 100,\n",
       "  'label': '90d(50%) Call ITM strike-0.5 -20%'},\n",
       " {'tickers': ['goog'],\n",
       "  'option_type': 'call',\n",
       "  'days_until_exp': 90,\n",
       "  'strike_pct': 0.2,\n",
       "  'days_to_gain': 45,\n",
       "  'stock_gain_pct': -0.2,\n",
       "  'allocation': 100,\n",
       "  'label': '90d(50%) Call OTM strike0.2 -20%'},\n",
       " {'tickers': ['goog'],\n",
       "  'option_type': 'call',\n",
       "  'days_until_exp': 90,\n",
       "  'strike_pct': 0.5,\n",
       "  'days_to_gain': 45,\n",
       "  'stock_gain_pct': -0.2,\n",
       "  'allocation': 100,\n",
       "  'label': '90d(50%) Call OTM strike0.5 -20%'},\n",
       " {'tickers': ['goog'],\n",
       "  'option_type': 'call',\n",
       "  'days_until_exp': 90,\n",
       "  'strike_pct': 0.9,\n",
       "  'days_to_gain': 45,\n",
       "  'stock_gain_pct': -0.2,\n",
       "  'allocation': 100,\n",
       "  'label': '90d(50%) Call OTM strike0.9 -20%'},\n",
       " {'tickers': ['goog'],\n",
       "  'option_type': 'put',\n",
       "  'days_until_exp': 90,\n",
       "  'strike_pct': -0.1,\n",
       "  'days_to_gain': 45,\n",
       "  'stock_gain_pct': -0.1,\n",
       "  'allocation': 100,\n",
       "  'label': '90d(50%) Put ITM strike-0.1 -10%'},\n",
       " {'tickers': ['goog'],\n",
       "  'option_type': 'put',\n",
       "  'days_until_exp': 90,\n",
       "  'strike_pct': -0.5,\n",
       "  'days_to_gain': 45,\n",
       "  'stock_gain_pct': -0.1,\n",
       "  'allocation': 100,\n",
       "  'label': '90d(50%) Put ITM strike-0.5 -10%'},\n",
       " {'tickers': ['goog'],\n",
       "  'option_type': 'put',\n",
       "  'days_until_exp': 90,\n",
       "  'strike_pct': 0.2,\n",
       "  'days_to_gain': 45,\n",
       "  'stock_gain_pct': -0.1,\n",
       "  'allocation': 100,\n",
       "  'label': '90d(50%) Put OTM strike0.2 -10%'},\n",
       " {'tickers': ['goog'],\n",
       "  'option_type': 'put',\n",
       "  'days_until_exp': 90,\n",
       "  'strike_pct': 0.5,\n",
       "  'days_to_gain': 45,\n",
       "  'stock_gain_pct': -0.1,\n",
       "  'allocation': 100,\n",
       "  'label': '90d(50%) Put OTM strike0.5 -10%'},\n",
       " {'tickers': ['goog'],\n",
       "  'option_type': 'put',\n",
       "  'days_until_exp': 90,\n",
       "  'strike_pct': 0.9,\n",
       "  'days_to_gain': 45,\n",
       "  'stock_gain_pct': -0.1,\n",
       "  'allocation': 100,\n",
       "  'label': '90d(50%) Put OTM strike0.9 -10%'},\n",
       " {'tickers': ['goog'],\n",
       "  'option_type': 'put',\n",
       "  'days_until_exp': 90,\n",
       "  'strike_pct': -0.1,\n",
       "  'days_to_gain': 45,\n",
       "  'stock_gain_pct': -0.2,\n",
       "  'allocation': 100,\n",
       "  'label': '90d(50%) Put ITM strike-0.1 -20%'},\n",
       " {'tickers': ['goog'],\n",
       "  'option_type': 'put',\n",
       "  'days_until_exp': 90,\n",
       "  'strike_pct': -0.5,\n",
       "  'days_to_gain': 45,\n",
       "  'stock_gain_pct': -0.2,\n",
       "  'allocation': 100,\n",
       "  'label': '90d(50%) Put ITM strike-0.5 -20%'},\n",
       " {'tickers': ['goog'],\n",
       "  'option_type': 'put',\n",
       "  'days_until_exp': 90,\n",
       "  'strike_pct': 0.2,\n",
       "  'days_to_gain': 45,\n",
       "  'stock_gain_pct': -0.2,\n",
       "  'allocation': 100,\n",
       "  'label': '90d(50%) Put OTM strike0.2 -20%'},\n",
       " {'tickers': ['goog'],\n",
       "  'option_type': 'put',\n",
       "  'days_until_exp': 90,\n",
       "  'strike_pct': 0.5,\n",
       "  'days_to_gain': 45,\n",
       "  'stock_gain_pct': -0.2,\n",
       "  'allocation': 100,\n",
       "  'label': '90d(50%) Put OTM strike0.5 -20%'},\n",
       " {'tickers': ['goog'],\n",
       "  'option_type': 'put',\n",
       "  'days_until_exp': 90,\n",
       "  'strike_pct': 0.9,\n",
       "  'days_to_gain': 45,\n",
       "  'stock_gain_pct': -0.2,\n",
       "  'allocation': 100,\n",
       "  'label': '90d(50%) Put OTM strike0.9 -20%'},\n",
       " {'tickers': ['goog'],\n",
       "  'option_type': 'put',\n",
       "  'days_until_exp': 90,\n",
       "  'strike_pct': -0.1,\n",
       "  'days_to_gain': 45,\n",
       "  'stock_gain_pct': 0.2,\n",
       "  'allocation': 100,\n",
       "  'label': '90d(50%) Put ITM strike-0.1 +20%'},\n",
       " {'tickers': ['goog'],\n",
       "  'option_type': 'put',\n",
       "  'days_until_exp': 90,\n",
       "  'strike_pct': -0.5,\n",
       "  'days_to_gain': 45,\n",
       "  'stock_gain_pct': 0.2,\n",
       "  'allocation': 100,\n",
       "  'label': '90d(50%) Put ITM strike-0.5 +20%'},\n",
       " {'tickers': ['goog'],\n",
       "  'option_type': 'put',\n",
       "  'days_until_exp': 90,\n",
       "  'strike_pct': 0.2,\n",
       "  'days_to_gain': 45,\n",
       "  'stock_gain_pct': 0.2,\n",
       "  'allocation': 100,\n",
       "  'label': '90d(50%) Put OTM strike0.2 +20%'},\n",
       " {'tickers': ['goog'],\n",
       "  'option_type': 'put',\n",
       "  'days_until_exp': 90,\n",
       "  'strike_pct': 0.5,\n",
       "  'days_to_gain': 45,\n",
       "  'stock_gain_pct': 0.2,\n",
       "  'allocation': 100,\n",
       "  'label': '90d(50%) Put OTM strike0.5 +20%'},\n",
       " {'tickers': ['goog'],\n",
       "  'option_type': 'put',\n",
       "  'days_until_exp': 90,\n",
       "  'strike_pct': 0.9,\n",
       "  'days_to_gain': 45,\n",
       "  'stock_gain_pct': 0.2,\n",
       "  'allocation': 100,\n",
       "  'label': '90d(50%) Put OTM strike0.9 +20%'},\n",
       " {'tickers': ['goog'],\n",
       "  'option_type': 'call',\n",
       "  'days_until_exp': 180,\n",
       "  'strike_pct': -0.1,\n",
       "  'days_to_gain': 36,\n",
       "  'stock_gain_pct': 0.1,\n",
       "  'allocation': 100,\n",
       "  'label': '180d(20%) Call ITM strike-0.1 +10%'},\n",
       " {'tickers': ['goog'],\n",
       "  'option_type': 'call',\n",
       "  'days_until_exp': 180,\n",
       "  'strike_pct': -0.5,\n",
       "  'days_to_gain': 36,\n",
       "  'stock_gain_pct': 0.1,\n",
       "  'allocation': 100,\n",
       "  'label': '180d(20%) Call ITM strike-0.5 +10%'},\n",
       " {'tickers': ['goog'],\n",
       "  'option_type': 'call',\n",
       "  'days_until_exp': 180,\n",
       "  'strike_pct': 0.2,\n",
       "  'days_to_gain': 36,\n",
       "  'stock_gain_pct': 0.1,\n",
       "  'allocation': 100,\n",
       "  'label': '180d(20%) Call OTM strike0.2 +10%'},\n",
       " {'tickers': ['goog'],\n",
       "  'option_type': 'call',\n",
       "  'days_until_exp': 180,\n",
       "  'strike_pct': 0.5,\n",
       "  'days_to_gain': 36,\n",
       "  'stock_gain_pct': 0.1,\n",
       "  'allocation': 100,\n",
       "  'label': '180d(20%) Call OTM strike0.5 +10%'},\n",
       " {'tickers': ['goog'],\n",
       "  'option_type': 'call',\n",
       "  'days_until_exp': 180,\n",
       "  'strike_pct': 0.9,\n",
       "  'days_to_gain': 36,\n",
       "  'stock_gain_pct': 0.1,\n",
       "  'allocation': 100,\n",
       "  'label': '180d(20%) Call OTM strike0.9 +10%'},\n",
       " {'tickers': ['goog'],\n",
       "  'option_type': 'call',\n",
       "  'days_until_exp': 180,\n",
       "  'strike_pct': -0.1,\n",
       "  'days_to_gain': 36,\n",
       "  'stock_gain_pct': 0.2,\n",
       "  'allocation': 100,\n",
       "  'label': '180d(20%) Call ITM strike-0.1 +20%'},\n",
       " {'tickers': ['goog'],\n",
       "  'option_type': 'call',\n",
       "  'days_until_exp': 180,\n",
       "  'strike_pct': -0.5,\n",
       "  'days_to_gain': 36,\n",
       "  'stock_gain_pct': 0.2,\n",
       "  'allocation': 100,\n",
       "  'label': '180d(20%) Call ITM strike-0.5 +20%'},\n",
       " {'tickers': ['goog'],\n",
       "  'option_type': 'call',\n",
       "  'days_until_exp': 180,\n",
       "  'strike_pct': 0.2,\n",
       "  'days_to_gain': 36,\n",
       "  'stock_gain_pct': 0.2,\n",
       "  'allocation': 100,\n",
       "  'label': '180d(20%) Call OTM strike0.2 +20%'},\n",
       " {'tickers': ['goog'],\n",
       "  'option_type': 'call',\n",
       "  'days_until_exp': 180,\n",
       "  'strike_pct': 0.5,\n",
       "  'days_to_gain': 36,\n",
       "  'stock_gain_pct': 0.2,\n",
       "  'allocation': 100,\n",
       "  'label': '180d(20%) Call OTM strike0.5 +20%'},\n",
       " {'tickers': ['goog'],\n",
       "  'option_type': 'call',\n",
       "  'days_until_exp': 180,\n",
       "  'strike_pct': 0.9,\n",
       "  'days_to_gain': 36,\n",
       "  'stock_gain_pct': 0.2,\n",
       "  'allocation': 100,\n",
       "  'label': '180d(20%) Call OTM strike0.9 +20%'},\n",
       " {'tickers': ['goog'],\n",
       "  'option_type': 'call',\n",
       "  'days_until_exp': 180,\n",
       "  'strike_pct': -0.1,\n",
       "  'days_to_gain': 36,\n",
       "  'stock_gain_pct': 0.5,\n",
       "  'allocation': 100,\n",
       "  'label': '180d(20%) Call ITM strike-0.1 +50%'},\n",
       " {'tickers': ['goog'],\n",
       "  'option_type': 'call',\n",
       "  'days_until_exp': 180,\n",
       "  'strike_pct': -0.5,\n",
       "  'days_to_gain': 36,\n",
       "  'stock_gain_pct': 0.5,\n",
       "  'allocation': 100,\n",
       "  'label': '180d(20%) Call ITM strike-0.5 +50%'},\n",
       " {'tickers': ['goog'],\n",
       "  'option_type': 'call',\n",
       "  'days_until_exp': 180,\n",
       "  'strike_pct': 0.2,\n",
       "  'days_to_gain': 36,\n",
       "  'stock_gain_pct': 0.5,\n",
       "  'allocation': 100,\n",
       "  'label': '180d(20%) Call OTM strike0.2 +50%'},\n",
       " {'tickers': ['goog'],\n",
       "  'option_type': 'call',\n",
       "  'days_until_exp': 180,\n",
       "  'strike_pct': 0.5,\n",
       "  'days_to_gain': 36,\n",
       "  'stock_gain_pct': 0.5,\n",
       "  'allocation': 100,\n",
       "  'label': '180d(20%) Call OTM strike0.5 +50%'},\n",
       " {'tickers': ['goog'],\n",
       "  'option_type': 'call',\n",
       "  'days_until_exp': 180,\n",
       "  'strike_pct': 0.9,\n",
       "  'days_to_gain': 36,\n",
       "  'stock_gain_pct': 0.5,\n",
       "  'allocation': 100,\n",
       "  'label': '180d(20%) Call OTM strike0.9 +50%'},\n",
       " {'tickers': ['goog'],\n",
       "  'option_type': 'call',\n",
       "  'days_until_exp': 180,\n",
       "  'strike_pct': -0.1,\n",
       "  'days_to_gain': 36,\n",
       "  'stock_gain_pct': 1.5,\n",
       "  'allocation': 100,\n",
       "  'label': '180d(20%) Call ITM strike-0.1 +150%'},\n",
       " {'tickers': ['goog'],\n",
       "  'option_type': 'call',\n",
       "  'days_until_exp': 180,\n",
       "  'strike_pct': -0.5,\n",
       "  'days_to_gain': 36,\n",
       "  'stock_gain_pct': 1.5,\n",
       "  'allocation': 100,\n",
       "  'label': '180d(20%) Call ITM strike-0.5 +150%'},\n",
       " {'tickers': ['goog'],\n",
       "  'option_type': 'call',\n",
       "  'days_until_exp': 180,\n",
       "  'strike_pct': 0.2,\n",
       "  'days_to_gain': 36,\n",
       "  'stock_gain_pct': 1.5,\n",
       "  'allocation': 100,\n",
       "  'label': '180d(20%) Call OTM strike0.2 +150%'},\n",
       " {'tickers': ['goog'],\n",
       "  'option_type': 'call',\n",
       "  'days_until_exp': 180,\n",
       "  'strike_pct': 0.5,\n",
       "  'days_to_gain': 36,\n",
       "  'stock_gain_pct': 1.5,\n",
       "  'allocation': 100,\n",
       "  'label': '180d(20%) Call OTM strike0.5 +150%'},\n",
       " {'tickers': ['goog'],\n",
       "  'option_type': 'call',\n",
       "  'days_until_exp': 180,\n",
       "  'strike_pct': 0.9,\n",
       "  'days_to_gain': 36,\n",
       "  'stock_gain_pct': 1.5,\n",
       "  'allocation': 100,\n",
       "  'label': '180d(20%) Call OTM strike0.9 +150%'},\n",
       " {'tickers': ['goog'],\n",
       "  'option_type': 'call',\n",
       "  'days_until_exp': 180,\n",
       "  'strike_pct': -0.1,\n",
       "  'days_to_gain': 36,\n",
       "  'stock_gain_pct': -0.2,\n",
       "  'allocation': 100,\n",
       "  'label': '180d(20%) Call ITM strike-0.1 -20%'},\n",
       " {'tickers': ['goog'],\n",
       "  'option_type': 'call',\n",
       "  'days_until_exp': 180,\n",
       "  'strike_pct': -0.5,\n",
       "  'days_to_gain': 36,\n",
       "  'stock_gain_pct': -0.2,\n",
       "  'allocation': 100,\n",
       "  'label': '180d(20%) Call ITM strike-0.5 -20%'},\n",
       " {'tickers': ['goog'],\n",
       "  'option_type': 'call',\n",
       "  'days_until_exp': 180,\n",
       "  'strike_pct': 0.2,\n",
       "  'days_to_gain': 36,\n",
       "  'stock_gain_pct': -0.2,\n",
       "  'allocation': 100,\n",
       "  'label': '180d(20%) Call OTM strike0.2 -20%'},\n",
       " {'tickers': ['goog'],\n",
       "  'option_type': 'call',\n",
       "  'days_until_exp': 180,\n",
       "  'strike_pct': 0.5,\n",
       "  'days_to_gain': 36,\n",
       "  'stock_gain_pct': -0.2,\n",
       "  'allocation': 100,\n",
       "  'label': '180d(20%) Call OTM strike0.5 -20%'},\n",
       " {'tickers': ['goog'],\n",
       "  'option_type': 'call',\n",
       "  'days_until_exp': 180,\n",
       "  'strike_pct': 0.9,\n",
       "  'days_to_gain': 36,\n",
       "  'stock_gain_pct': -0.2,\n",
       "  'allocation': 100,\n",
       "  'label': '180d(20%) Call OTM strike0.9 -20%'},\n",
       " {'tickers': ['goog'],\n",
       "  'option_type': 'put',\n",
       "  'days_until_exp': 180,\n",
       "  'strike_pct': -0.1,\n",
       "  'days_to_gain': 36,\n",
       "  'stock_gain_pct': -0.1,\n",
       "  'allocation': 100,\n",
       "  'label': '180d(20%) Put ITM strike-0.1 -10%'},\n",
       " {'tickers': ['goog'],\n",
       "  'option_type': 'put',\n",
       "  'days_until_exp': 180,\n",
       "  'strike_pct': -0.5,\n",
       "  'days_to_gain': 36,\n",
       "  'stock_gain_pct': -0.1,\n",
       "  'allocation': 100,\n",
       "  'label': '180d(20%) Put ITM strike-0.5 -10%'},\n",
       " {'tickers': ['goog'],\n",
       "  'option_type': 'put',\n",
       "  'days_until_exp': 180,\n",
       "  'strike_pct': 0.2,\n",
       "  'days_to_gain': 36,\n",
       "  'stock_gain_pct': -0.1,\n",
       "  'allocation': 100,\n",
       "  'label': '180d(20%) Put OTM strike0.2 -10%'},\n",
       " {'tickers': ['goog'],\n",
       "  'option_type': 'put',\n",
       "  'days_until_exp': 180,\n",
       "  'strike_pct': 0.5,\n",
       "  'days_to_gain': 36,\n",
       "  'stock_gain_pct': -0.1,\n",
       "  'allocation': 100,\n",
       "  'label': '180d(20%) Put OTM strike0.5 -10%'},\n",
       " {'tickers': ['goog'],\n",
       "  'option_type': 'put',\n",
       "  'days_until_exp': 180,\n",
       "  'strike_pct': 0.9,\n",
       "  'days_to_gain': 36,\n",
       "  'stock_gain_pct': -0.1,\n",
       "  'allocation': 100,\n",
       "  'label': '180d(20%) Put OTM strike0.9 -10%'},\n",
       " {'tickers': ['goog'],\n",
       "  'option_type': 'put',\n",
       "  'days_until_exp': 180,\n",
       "  'strike_pct': -0.1,\n",
       "  'days_to_gain': 36,\n",
       "  'stock_gain_pct': -0.2,\n",
       "  'allocation': 100,\n",
       "  'label': '180d(20%) Put ITM strike-0.1 -20%'},\n",
       " {'tickers': ['goog'],\n",
       "  'option_type': 'put',\n",
       "  'days_until_exp': 180,\n",
       "  'strike_pct': -0.5,\n",
       "  'days_to_gain': 36,\n",
       "  'stock_gain_pct': -0.2,\n",
       "  'allocation': 100,\n",
       "  'label': '180d(20%) Put ITM strike-0.5 -20%'},\n",
       " {'tickers': ['goog'],\n",
       "  'option_type': 'put',\n",
       "  'days_until_exp': 180,\n",
       "  'strike_pct': 0.2,\n",
       "  'days_to_gain': 36,\n",
       "  'stock_gain_pct': -0.2,\n",
       "  'allocation': 100,\n",
       "  'label': '180d(20%) Put OTM strike0.2 -20%'},\n",
       " {'tickers': ['goog'],\n",
       "  'option_type': 'put',\n",
       "  'days_until_exp': 180,\n",
       "  'strike_pct': 0.5,\n",
       "  'days_to_gain': 36,\n",
       "  'stock_gain_pct': -0.2,\n",
       "  'allocation': 100,\n",
       "  'label': '180d(20%) Put OTM strike0.5 -20%'},\n",
       " {'tickers': ['goog'],\n",
       "  'option_type': 'put',\n",
       "  'days_until_exp': 180,\n",
       "  'strike_pct': 0.9,\n",
       "  'days_to_gain': 36,\n",
       "  'stock_gain_pct': -0.2,\n",
       "  'allocation': 100,\n",
       "  'label': '180d(20%) Put OTM strike0.9 -20%'},\n",
       " {'tickers': ['goog'],\n",
       "  'option_type': 'put',\n",
       "  'days_until_exp': 180,\n",
       "  'strike_pct': -0.1,\n",
       "  'days_to_gain': 36,\n",
       "  'stock_gain_pct': 0.2,\n",
       "  'allocation': 100,\n",
       "  'label': '180d(20%) Put ITM strike-0.1 +20%'},\n",
       " {'tickers': ['goog'],\n",
       "  'option_type': 'put',\n",
       "  'days_until_exp': 180,\n",
       "  'strike_pct': -0.5,\n",
       "  'days_to_gain': 36,\n",
       "  'stock_gain_pct': 0.2,\n",
       "  'allocation': 100,\n",
       "  'label': '180d(20%) Put ITM strike-0.5 +20%'},\n",
       " {'tickers': ['goog'],\n",
       "  'option_type': 'put',\n",
       "  'days_until_exp': 180,\n",
       "  'strike_pct': 0.2,\n",
       "  'days_to_gain': 36,\n",
       "  'stock_gain_pct': 0.2,\n",
       "  'allocation': 100,\n",
       "  'label': '180d(20%) Put OTM strike0.2 +20%'},\n",
       " {'tickers': ['goog'],\n",
       "  'option_type': 'put',\n",
       "  'days_until_exp': 180,\n",
       "  'strike_pct': 0.5,\n",
       "  'days_to_gain': 36,\n",
       "  'stock_gain_pct': 0.2,\n",
       "  'allocation': 100,\n",
       "  'label': '180d(20%) Put OTM strike0.5 +20%'},\n",
       " {'tickers': ['goog'],\n",
       "  'option_type': 'put',\n",
       "  'days_until_exp': 180,\n",
       "  'strike_pct': 0.9,\n",
       "  'days_to_gain': 36,\n",
       "  'stock_gain_pct': 0.2,\n",
       "  'allocation': 100,\n",
       "  'label': '180d(20%) Put OTM strike0.9 +20%'},\n",
       " {'tickers': ['goog'],\n",
       "  'option_type': 'call',\n",
       "  'days_until_exp': 180,\n",
       "  'strike_pct': -0.1,\n",
       "  'days_to_gain': 90,\n",
       "  'stock_gain_pct': 0.1,\n",
       "  'allocation': 100,\n",
       "  'label': '180d(50%) Call ITM strike-0.1 +10%'},\n",
       " {'tickers': ['goog'],\n",
       "  'option_type': 'call',\n",
       "  'days_until_exp': 180,\n",
       "  'strike_pct': -0.5,\n",
       "  'days_to_gain': 90,\n",
       "  'stock_gain_pct': 0.1,\n",
       "  'allocation': 100,\n",
       "  'label': '180d(50%) Call ITM strike-0.5 +10%'},\n",
       " {'tickers': ['goog'],\n",
       "  'option_type': 'call',\n",
       "  'days_until_exp': 180,\n",
       "  'strike_pct': 0.2,\n",
       "  'days_to_gain': 90,\n",
       "  'stock_gain_pct': 0.1,\n",
       "  'allocation': 100,\n",
       "  'label': '180d(50%) Call OTM strike0.2 +10%'},\n",
       " {'tickers': ['goog'],\n",
       "  'option_type': 'call',\n",
       "  'days_until_exp': 180,\n",
       "  'strike_pct': 0.5,\n",
       "  'days_to_gain': 90,\n",
       "  'stock_gain_pct': 0.1,\n",
       "  'allocation': 100,\n",
       "  'label': '180d(50%) Call OTM strike0.5 +10%'},\n",
       " {'tickers': ['goog'],\n",
       "  'option_type': 'call',\n",
       "  'days_until_exp': 180,\n",
       "  'strike_pct': 0.9,\n",
       "  'days_to_gain': 90,\n",
       "  'stock_gain_pct': 0.1,\n",
       "  'allocation': 100,\n",
       "  'label': '180d(50%) Call OTM strike0.9 +10%'},\n",
       " {'tickers': ['goog'],\n",
       "  'option_type': 'call',\n",
       "  'days_until_exp': 180,\n",
       "  'strike_pct': -0.1,\n",
       "  'days_to_gain': 90,\n",
       "  'stock_gain_pct': 0.2,\n",
       "  'allocation': 100,\n",
       "  'label': '180d(50%) Call ITM strike-0.1 +20%'},\n",
       " {'tickers': ['goog'],\n",
       "  'option_type': 'call',\n",
       "  'days_until_exp': 180,\n",
       "  'strike_pct': -0.5,\n",
       "  'days_to_gain': 90,\n",
       "  'stock_gain_pct': 0.2,\n",
       "  'allocation': 100,\n",
       "  'label': '180d(50%) Call ITM strike-0.5 +20%'},\n",
       " {'tickers': ['goog'],\n",
       "  'option_type': 'call',\n",
       "  'days_until_exp': 180,\n",
       "  'strike_pct': 0.2,\n",
       "  'days_to_gain': 90,\n",
       "  'stock_gain_pct': 0.2,\n",
       "  'allocation': 100,\n",
       "  'label': '180d(50%) Call OTM strike0.2 +20%'},\n",
       " {'tickers': ['goog'],\n",
       "  'option_type': 'call',\n",
       "  'days_until_exp': 180,\n",
       "  'strike_pct': 0.5,\n",
       "  'days_to_gain': 90,\n",
       "  'stock_gain_pct': 0.2,\n",
       "  'allocation': 100,\n",
       "  'label': '180d(50%) Call OTM strike0.5 +20%'},\n",
       " {'tickers': ['goog'],\n",
       "  'option_type': 'call',\n",
       "  'days_until_exp': 180,\n",
       "  'strike_pct': 0.9,\n",
       "  'days_to_gain': 90,\n",
       "  'stock_gain_pct': 0.2,\n",
       "  'allocation': 100,\n",
       "  'label': '180d(50%) Call OTM strike0.9 +20%'},\n",
       " {'tickers': ['goog'],\n",
       "  'option_type': 'call',\n",
       "  'days_until_exp': 180,\n",
       "  'strike_pct': -0.1,\n",
       "  'days_to_gain': 90,\n",
       "  'stock_gain_pct': 0.5,\n",
       "  'allocation': 100,\n",
       "  'label': '180d(50%) Call ITM strike-0.1 +50%'},\n",
       " {'tickers': ['goog'],\n",
       "  'option_type': 'call',\n",
       "  'days_until_exp': 180,\n",
       "  'strike_pct': -0.5,\n",
       "  'days_to_gain': 90,\n",
       "  'stock_gain_pct': 0.5,\n",
       "  'allocation': 100,\n",
       "  'label': '180d(50%) Call ITM strike-0.5 +50%'},\n",
       " {'tickers': ['goog'],\n",
       "  'option_type': 'call',\n",
       "  'days_until_exp': 180,\n",
       "  'strike_pct': 0.2,\n",
       "  'days_to_gain': 90,\n",
       "  'stock_gain_pct': 0.5,\n",
       "  'allocation': 100,\n",
       "  'label': '180d(50%) Call OTM strike0.2 +50%'},\n",
       " {'tickers': ['goog'],\n",
       "  'option_type': 'call',\n",
       "  'days_until_exp': 180,\n",
       "  'strike_pct': 0.5,\n",
       "  'days_to_gain': 90,\n",
       "  'stock_gain_pct': 0.5,\n",
       "  'allocation': 100,\n",
       "  'label': '180d(50%) Call OTM strike0.5 +50%'},\n",
       " {'tickers': ['goog'],\n",
       "  'option_type': 'call',\n",
       "  'days_until_exp': 180,\n",
       "  'strike_pct': 0.9,\n",
       "  'days_to_gain': 90,\n",
       "  'stock_gain_pct': 0.5,\n",
       "  'allocation': 100,\n",
       "  'label': '180d(50%) Call OTM strike0.9 +50%'},\n",
       " {'tickers': ['goog'],\n",
       "  'option_type': 'call',\n",
       "  'days_until_exp': 180,\n",
       "  'strike_pct': -0.1,\n",
       "  'days_to_gain': 90,\n",
       "  'stock_gain_pct': 1.5,\n",
       "  'allocation': 100,\n",
       "  'label': '180d(50%) Call ITM strike-0.1 +150%'},\n",
       " {'tickers': ['goog'],\n",
       "  'option_type': 'call',\n",
       "  'days_until_exp': 180,\n",
       "  'strike_pct': -0.5,\n",
       "  'days_to_gain': 90,\n",
       "  'stock_gain_pct': 1.5,\n",
       "  'allocation': 100,\n",
       "  'label': '180d(50%) Call ITM strike-0.5 +150%'},\n",
       " {'tickers': ['goog'],\n",
       "  'option_type': 'call',\n",
       "  'days_until_exp': 180,\n",
       "  'strike_pct': 0.2,\n",
       "  'days_to_gain': 90,\n",
       "  'stock_gain_pct': 1.5,\n",
       "  'allocation': 100,\n",
       "  'label': '180d(50%) Call OTM strike0.2 +150%'},\n",
       " {'tickers': ['goog'],\n",
       "  'option_type': 'call',\n",
       "  'days_until_exp': 180,\n",
       "  'strike_pct': 0.5,\n",
       "  'days_to_gain': 90,\n",
       "  'stock_gain_pct': 1.5,\n",
       "  'allocation': 100,\n",
       "  'label': '180d(50%) Call OTM strike0.5 +150%'},\n",
       " {'tickers': ['goog'],\n",
       "  'option_type': 'call',\n",
       "  'days_until_exp': 180,\n",
       "  'strike_pct': 0.9,\n",
       "  'days_to_gain': 90,\n",
       "  'stock_gain_pct': 1.5,\n",
       "  'allocation': 100,\n",
       "  'label': '180d(50%) Call OTM strike0.9 +150%'},\n",
       " {'tickers': ['goog'],\n",
       "  'option_type': 'call',\n",
       "  'days_until_exp': 180,\n",
       "  'strike_pct': -0.1,\n",
       "  'days_to_gain': 90,\n",
       "  'stock_gain_pct': -0.2,\n",
       "  'allocation': 100,\n",
       "  'label': '180d(50%) Call ITM strike-0.1 -20%'},\n",
       " {'tickers': ['goog'],\n",
       "  'option_type': 'call',\n",
       "  'days_until_exp': 180,\n",
       "  'strike_pct': -0.5,\n",
       "  'days_to_gain': 90,\n",
       "  'stock_gain_pct': -0.2,\n",
       "  'allocation': 100,\n",
       "  'label': '180d(50%) Call ITM strike-0.5 -20%'},\n",
       " {'tickers': ['goog'],\n",
       "  'option_type': 'call',\n",
       "  'days_until_exp': 180,\n",
       "  'strike_pct': 0.2,\n",
       "  'days_to_gain': 90,\n",
       "  'stock_gain_pct': -0.2,\n",
       "  'allocation': 100,\n",
       "  'label': '180d(50%) Call OTM strike0.2 -20%'},\n",
       " {'tickers': ['goog'],\n",
       "  'option_type': 'call',\n",
       "  'days_until_exp': 180,\n",
       "  'strike_pct': 0.5,\n",
       "  'days_to_gain': 90,\n",
       "  'stock_gain_pct': -0.2,\n",
       "  'allocation': 100,\n",
       "  'label': '180d(50%) Call OTM strike0.5 -20%'},\n",
       " {'tickers': ['goog'],\n",
       "  'option_type': 'call',\n",
       "  'days_until_exp': 180,\n",
       "  'strike_pct': 0.9,\n",
       "  'days_to_gain': 90,\n",
       "  'stock_gain_pct': -0.2,\n",
       "  'allocation': 100,\n",
       "  'label': '180d(50%) Call OTM strike0.9 -20%'},\n",
       " {'tickers': ['goog'],\n",
       "  'option_type': 'put',\n",
       "  'days_until_exp': 180,\n",
       "  'strike_pct': -0.1,\n",
       "  'days_to_gain': 90,\n",
       "  'stock_gain_pct': -0.1,\n",
       "  'allocation': 100,\n",
       "  'label': '180d(50%) Put ITM strike-0.1 -10%'},\n",
       " {'tickers': ['goog'],\n",
       "  'option_type': 'put',\n",
       "  'days_until_exp': 180,\n",
       "  'strike_pct': -0.5,\n",
       "  'days_to_gain': 90,\n",
       "  'stock_gain_pct': -0.1,\n",
       "  'allocation': 100,\n",
       "  'label': '180d(50%) Put ITM strike-0.5 -10%'},\n",
       " {'tickers': ['goog'],\n",
       "  'option_type': 'put',\n",
       "  'days_until_exp': 180,\n",
       "  'strike_pct': 0.2,\n",
       "  'days_to_gain': 90,\n",
       "  'stock_gain_pct': -0.1,\n",
       "  'allocation': 100,\n",
       "  'label': '180d(50%) Put OTM strike0.2 -10%'},\n",
       " {'tickers': ['goog'],\n",
       "  'option_type': 'put',\n",
       "  'days_until_exp': 180,\n",
       "  'strike_pct': 0.5,\n",
       "  'days_to_gain': 90,\n",
       "  'stock_gain_pct': -0.1,\n",
       "  'allocation': 100,\n",
       "  'label': '180d(50%) Put OTM strike0.5 -10%'},\n",
       " {'tickers': ['goog'],\n",
       "  'option_type': 'put',\n",
       "  'days_until_exp': 180,\n",
       "  'strike_pct': 0.9,\n",
       "  'days_to_gain': 90,\n",
       "  'stock_gain_pct': -0.1,\n",
       "  'allocation': 100,\n",
       "  'label': '180d(50%) Put OTM strike0.9 -10%'},\n",
       " {'tickers': ['goog'],\n",
       "  'option_type': 'put',\n",
       "  'days_until_exp': 180,\n",
       "  'strike_pct': -0.1,\n",
       "  'days_to_gain': 90,\n",
       "  'stock_gain_pct': -0.2,\n",
       "  'allocation': 100,\n",
       "  'label': '180d(50%) Put ITM strike-0.1 -20%'},\n",
       " {'tickers': ['goog'],\n",
       "  'option_type': 'put',\n",
       "  'days_until_exp': 180,\n",
       "  'strike_pct': -0.5,\n",
       "  'days_to_gain': 90,\n",
       "  'stock_gain_pct': -0.2,\n",
       "  'allocation': 100,\n",
       "  'label': '180d(50%) Put ITM strike-0.5 -20%'},\n",
       " {'tickers': ['goog'],\n",
       "  'option_type': 'put',\n",
       "  'days_until_exp': 180,\n",
       "  'strike_pct': 0.2,\n",
       "  'days_to_gain': 90,\n",
       "  'stock_gain_pct': -0.2,\n",
       "  'allocation': 100,\n",
       "  'label': '180d(50%) Put OTM strike0.2 -20%'},\n",
       " {'tickers': ['goog'],\n",
       "  'option_type': 'put',\n",
       "  'days_until_exp': 180,\n",
       "  'strike_pct': 0.5,\n",
       "  'days_to_gain': 90,\n",
       "  'stock_gain_pct': -0.2,\n",
       "  'allocation': 100,\n",
       "  'label': '180d(50%) Put OTM strike0.5 -20%'},\n",
       " {'tickers': ['goog'],\n",
       "  'option_type': 'put',\n",
       "  'days_until_exp': 180,\n",
       "  'strike_pct': 0.9,\n",
       "  'days_to_gain': 90,\n",
       "  'stock_gain_pct': -0.2,\n",
       "  'allocation': 100,\n",
       "  'label': '180d(50%) Put OTM strike0.9 -20%'},\n",
       " {'tickers': ['goog'],\n",
       "  'option_type': 'put',\n",
       "  'days_until_exp': 180,\n",
       "  'strike_pct': -0.1,\n",
       "  'days_to_gain': 90,\n",
       "  'stock_gain_pct': 0.2,\n",
       "  'allocation': 100,\n",
       "  'label': '180d(50%) Put ITM strike-0.1 +20%'},\n",
       " {'tickers': ['goog'],\n",
       "  'option_type': 'put',\n",
       "  'days_until_exp': 180,\n",
       "  'strike_pct': -0.5,\n",
       "  'days_to_gain': 90,\n",
       "  'stock_gain_pct': 0.2,\n",
       "  'allocation': 100,\n",
       "  'label': '180d(50%) Put ITM strike-0.5 +20%'},\n",
       " {'tickers': ['goog'],\n",
       "  'option_type': 'put',\n",
       "  'days_until_exp': 180,\n",
       "  'strike_pct': 0.2,\n",
       "  'days_to_gain': 90,\n",
       "  'stock_gain_pct': 0.2,\n",
       "  'allocation': 100,\n",
       "  'label': '180d(50%) Put OTM strike0.2 +20%'},\n",
       " {'tickers': ['goog'],\n",
       "  'option_type': 'put',\n",
       "  'days_until_exp': 180,\n",
       "  'strike_pct': 0.5,\n",
       "  'days_to_gain': 90,\n",
       "  'stock_gain_pct': 0.2,\n",
       "  'allocation': 100,\n",
       "  'label': '180d(50%) Put OTM strike0.5 +20%'},\n",
       " {'tickers': ['goog'],\n",
       "  'option_type': 'put',\n",
       "  'days_until_exp': 180,\n",
       "  'strike_pct': 0.9,\n",
       "  'days_to_gain': 90,\n",
       "  'stock_gain_pct': 0.2,\n",
       "  'allocation': 100,\n",
       "  'label': '180d(50%) Put OTM strike0.9 +20%'},\n",
       " {'tickers': ['goog'],\n",
       "  'option_type': 'call',\n",
       "  'days_until_exp': 270,\n",
       "  'strike_pct': -0.1,\n",
       "  'days_to_gain': 54,\n",
       "  'stock_gain_pct': 0.1,\n",
       "  'allocation': 100,\n",
       "  'label': '270d(20%) Call ITM strike-0.1 +10%'},\n",
       " {'tickers': ['goog'],\n",
       "  'option_type': 'call',\n",
       "  'days_until_exp': 270,\n",
       "  'strike_pct': -0.5,\n",
       "  'days_to_gain': 54,\n",
       "  'stock_gain_pct': 0.1,\n",
       "  'allocation': 100,\n",
       "  'label': '270d(20%) Call ITM strike-0.5 +10%'},\n",
       " {'tickers': ['goog'],\n",
       "  'option_type': 'call',\n",
       "  'days_until_exp': 270,\n",
       "  'strike_pct': 0.2,\n",
       "  'days_to_gain': 54,\n",
       "  'stock_gain_pct': 0.1,\n",
       "  'allocation': 100,\n",
       "  'label': '270d(20%) Call OTM strike0.2 +10%'},\n",
       " {'tickers': ['goog'],\n",
       "  'option_type': 'call',\n",
       "  'days_until_exp': 270,\n",
       "  'strike_pct': 0.5,\n",
       "  'days_to_gain': 54,\n",
       "  'stock_gain_pct': 0.1,\n",
       "  'allocation': 100,\n",
       "  'label': '270d(20%) Call OTM strike0.5 +10%'},\n",
       " {'tickers': ['goog'],\n",
       "  'option_type': 'call',\n",
       "  'days_until_exp': 270,\n",
       "  'strike_pct': 0.9,\n",
       "  'days_to_gain': 54,\n",
       "  'stock_gain_pct': 0.1,\n",
       "  'allocation': 100,\n",
       "  'label': '270d(20%) Call OTM strike0.9 +10%'},\n",
       " {'tickers': ['goog'],\n",
       "  'option_type': 'call',\n",
       "  'days_until_exp': 270,\n",
       "  'strike_pct': -0.1,\n",
       "  'days_to_gain': 54,\n",
       "  'stock_gain_pct': 0.2,\n",
       "  'allocation': 100,\n",
       "  'label': '270d(20%) Call ITM strike-0.1 +20%'},\n",
       " {'tickers': ['goog'],\n",
       "  'option_type': 'call',\n",
       "  'days_until_exp': 270,\n",
       "  'strike_pct': -0.5,\n",
       "  'days_to_gain': 54,\n",
       "  'stock_gain_pct': 0.2,\n",
       "  'allocation': 100,\n",
       "  'label': '270d(20%) Call ITM strike-0.5 +20%'},\n",
       " {'tickers': ['goog'],\n",
       "  'option_type': 'call',\n",
       "  'days_until_exp': 270,\n",
       "  'strike_pct': 0.2,\n",
       "  'days_to_gain': 54,\n",
       "  'stock_gain_pct': 0.2,\n",
       "  'allocation': 100,\n",
       "  'label': '270d(20%) Call OTM strike0.2 +20%'},\n",
       " {'tickers': ['goog'],\n",
       "  'option_type': 'call',\n",
       "  'days_until_exp': 270,\n",
       "  'strike_pct': 0.5,\n",
       "  'days_to_gain': 54,\n",
       "  'stock_gain_pct': 0.2,\n",
       "  'allocation': 100,\n",
       "  'label': '270d(20%) Call OTM strike0.5 +20%'},\n",
       " {'tickers': ['goog'],\n",
       "  'option_type': 'call',\n",
       "  'days_until_exp': 270,\n",
       "  'strike_pct': 0.9,\n",
       "  'days_to_gain': 54,\n",
       "  'stock_gain_pct': 0.2,\n",
       "  'allocation': 100,\n",
       "  'label': '270d(20%) Call OTM strike0.9 +20%'},\n",
       " {'tickers': ['goog'],\n",
       "  'option_type': 'call',\n",
       "  'days_until_exp': 270,\n",
       "  'strike_pct': -0.1,\n",
       "  'days_to_gain': 54,\n",
       "  'stock_gain_pct': 0.5,\n",
       "  'allocation': 100,\n",
       "  'label': '270d(20%) Call ITM strike-0.1 +50%'},\n",
       " {'tickers': ['goog'],\n",
       "  'option_type': 'call',\n",
       "  'days_until_exp': 270,\n",
       "  'strike_pct': -0.5,\n",
       "  'days_to_gain': 54,\n",
       "  'stock_gain_pct': 0.5,\n",
       "  'allocation': 100,\n",
       "  'label': '270d(20%) Call ITM strike-0.5 +50%'},\n",
       " {'tickers': ['goog'],\n",
       "  'option_type': 'call',\n",
       "  'days_until_exp': 270,\n",
       "  'strike_pct': 0.2,\n",
       "  'days_to_gain': 54,\n",
       "  'stock_gain_pct': 0.5,\n",
       "  'allocation': 100,\n",
       "  'label': '270d(20%) Call OTM strike0.2 +50%'},\n",
       " {'tickers': ['goog'],\n",
       "  'option_type': 'call',\n",
       "  'days_until_exp': 270,\n",
       "  'strike_pct': 0.5,\n",
       "  'days_to_gain': 54,\n",
       "  'stock_gain_pct': 0.5,\n",
       "  'allocation': 100,\n",
       "  'label': '270d(20%) Call OTM strike0.5 +50%'},\n",
       " {'tickers': ['goog'],\n",
       "  'option_type': 'call',\n",
       "  'days_until_exp': 270,\n",
       "  'strike_pct': 0.9,\n",
       "  'days_to_gain': 54,\n",
       "  'stock_gain_pct': 0.5,\n",
       "  'allocation': 100,\n",
       "  'label': '270d(20%) Call OTM strike0.9 +50%'},\n",
       " {'tickers': ['goog'],\n",
       "  'option_type': 'call',\n",
       "  'days_until_exp': 270,\n",
       "  'strike_pct': -0.1,\n",
       "  'days_to_gain': 54,\n",
       "  'stock_gain_pct': 1.5,\n",
       "  'allocation': 100,\n",
       "  'label': '270d(20%) Call ITM strike-0.1 +150%'},\n",
       " {'tickers': ['goog'],\n",
       "  'option_type': 'call',\n",
       "  'days_until_exp': 270,\n",
       "  'strike_pct': -0.5,\n",
       "  'days_to_gain': 54,\n",
       "  'stock_gain_pct': 1.5,\n",
       "  'allocation': 100,\n",
       "  'label': '270d(20%) Call ITM strike-0.5 +150%'},\n",
       " {'tickers': ['goog'],\n",
       "  'option_type': 'call',\n",
       "  'days_until_exp': 270,\n",
       "  'strike_pct': 0.2,\n",
       "  'days_to_gain': 54,\n",
       "  'stock_gain_pct': 1.5,\n",
       "  'allocation': 100,\n",
       "  'label': '270d(20%) Call OTM strike0.2 +150%'},\n",
       " {'tickers': ['goog'],\n",
       "  'option_type': 'call',\n",
       "  'days_until_exp': 270,\n",
       "  'strike_pct': 0.5,\n",
       "  'days_to_gain': 54,\n",
       "  'stock_gain_pct': 1.5,\n",
       "  'allocation': 100,\n",
       "  'label': '270d(20%) Call OTM strike0.5 +150%'},\n",
       " {'tickers': ['goog'],\n",
       "  'option_type': 'call',\n",
       "  'days_until_exp': 270,\n",
       "  'strike_pct': 0.9,\n",
       "  'days_to_gain': 54,\n",
       "  'stock_gain_pct': 1.5,\n",
       "  'allocation': 100,\n",
       "  'label': '270d(20%) Call OTM strike0.9 +150%'},\n",
       " {'tickers': ['goog'],\n",
       "  'option_type': 'call',\n",
       "  'days_until_exp': 270,\n",
       "  'strike_pct': -0.1,\n",
       "  'days_to_gain': 54,\n",
       "  'stock_gain_pct': -0.2,\n",
       "  'allocation': 100,\n",
       "  'label': '270d(20%) Call ITM strike-0.1 -20%'},\n",
       " {'tickers': ['goog'],\n",
       "  'option_type': 'call',\n",
       "  'days_until_exp': 270,\n",
       "  'strike_pct': -0.5,\n",
       "  'days_to_gain': 54,\n",
       "  'stock_gain_pct': -0.2,\n",
       "  'allocation': 100,\n",
       "  'label': '270d(20%) Call ITM strike-0.5 -20%'},\n",
       " {'tickers': ['goog'],\n",
       "  'option_type': 'call',\n",
       "  'days_until_exp': 270,\n",
       "  'strike_pct': 0.2,\n",
       "  'days_to_gain': 54,\n",
       "  'stock_gain_pct': -0.2,\n",
       "  'allocation': 100,\n",
       "  'label': '270d(20%) Call OTM strike0.2 -20%'},\n",
       " {'tickers': ['goog'],\n",
       "  'option_type': 'call',\n",
       "  'days_until_exp': 270,\n",
       "  'strike_pct': 0.5,\n",
       "  'days_to_gain': 54,\n",
       "  'stock_gain_pct': -0.2,\n",
       "  'allocation': 100,\n",
       "  'label': '270d(20%) Call OTM strike0.5 -20%'},\n",
       " {'tickers': ['goog'],\n",
       "  'option_type': 'call',\n",
       "  'days_until_exp': 270,\n",
       "  'strike_pct': 0.9,\n",
       "  'days_to_gain': 54,\n",
       "  'stock_gain_pct': -0.2,\n",
       "  'allocation': 100,\n",
       "  'label': '270d(20%) Call OTM strike0.9 -20%'},\n",
       " {'tickers': ['goog'],\n",
       "  'option_type': 'put',\n",
       "  'days_until_exp': 270,\n",
       "  'strike_pct': -0.1,\n",
       "  'days_to_gain': 54,\n",
       "  'stock_gain_pct': -0.1,\n",
       "  'allocation': 100,\n",
       "  'label': '270d(20%) Put ITM strike-0.1 -10%'},\n",
       " {'tickers': ['goog'],\n",
       "  'option_type': 'put',\n",
       "  'days_until_exp': 270,\n",
       "  'strike_pct': -0.5,\n",
       "  'days_to_gain': 54,\n",
       "  'stock_gain_pct': -0.1,\n",
       "  'allocation': 100,\n",
       "  'label': '270d(20%) Put ITM strike-0.5 -10%'},\n",
       " {'tickers': ['goog'],\n",
       "  'option_type': 'put',\n",
       "  'days_until_exp': 270,\n",
       "  'strike_pct': 0.2,\n",
       "  'days_to_gain': 54,\n",
       "  'stock_gain_pct': -0.1,\n",
       "  'allocation': 100,\n",
       "  'label': '270d(20%) Put OTM strike0.2 -10%'},\n",
       " {'tickers': ['goog'],\n",
       "  'option_type': 'put',\n",
       "  'days_until_exp': 270,\n",
       "  'strike_pct': 0.5,\n",
       "  'days_to_gain': 54,\n",
       "  'stock_gain_pct': -0.1,\n",
       "  'allocation': 100,\n",
       "  'label': '270d(20%) Put OTM strike0.5 -10%'},\n",
       " {'tickers': ['goog'],\n",
       "  'option_type': 'put',\n",
       "  'days_until_exp': 270,\n",
       "  'strike_pct': 0.9,\n",
       "  'days_to_gain': 54,\n",
       "  'stock_gain_pct': -0.1,\n",
       "  'allocation': 100,\n",
       "  'label': '270d(20%) Put OTM strike0.9 -10%'},\n",
       " {'tickers': ['goog'],\n",
       "  'option_type': 'put',\n",
       "  'days_until_exp': 270,\n",
       "  'strike_pct': -0.1,\n",
       "  'days_to_gain': 54,\n",
       "  'stock_gain_pct': -0.2,\n",
       "  'allocation': 100,\n",
       "  'label': '270d(20%) Put ITM strike-0.1 -20%'},\n",
       " {'tickers': ['goog'],\n",
       "  'option_type': 'put',\n",
       "  'days_until_exp': 270,\n",
       "  'strike_pct': -0.5,\n",
       "  'days_to_gain': 54,\n",
       "  'stock_gain_pct': -0.2,\n",
       "  'allocation': 100,\n",
       "  'label': '270d(20%) Put ITM strike-0.5 -20%'},\n",
       " {'tickers': ['goog'],\n",
       "  'option_type': 'put',\n",
       "  'days_until_exp': 270,\n",
       "  'strike_pct': 0.2,\n",
       "  'days_to_gain': 54,\n",
       "  'stock_gain_pct': -0.2,\n",
       "  'allocation': 100,\n",
       "  'label': '270d(20%) Put OTM strike0.2 -20%'},\n",
       " {'tickers': ['goog'],\n",
       "  'option_type': 'put',\n",
       "  'days_until_exp': 270,\n",
       "  'strike_pct': 0.5,\n",
       "  'days_to_gain': 54,\n",
       "  'stock_gain_pct': -0.2,\n",
       "  'allocation': 100,\n",
       "  'label': '270d(20%) Put OTM strike0.5 -20%'},\n",
       " {'tickers': ['goog'],\n",
       "  'option_type': 'put',\n",
       "  'days_until_exp': 270,\n",
       "  'strike_pct': 0.9,\n",
       "  'days_to_gain': 54,\n",
       "  'stock_gain_pct': -0.2,\n",
       "  'allocation': 100,\n",
       "  'label': '270d(20%) Put OTM strike0.9 -20%'},\n",
       " {'tickers': ['goog'],\n",
       "  'option_type': 'put',\n",
       "  'days_until_exp': 270,\n",
       "  'strike_pct': -0.1,\n",
       "  'days_to_gain': 54,\n",
       "  'stock_gain_pct': 0.2,\n",
       "  'allocation': 100,\n",
       "  'label': '270d(20%) Put ITM strike-0.1 +20%'},\n",
       " {'tickers': ['goog'],\n",
       "  'option_type': 'put',\n",
       "  'days_until_exp': 270,\n",
       "  'strike_pct': -0.5,\n",
       "  'days_to_gain': 54,\n",
       "  'stock_gain_pct': 0.2,\n",
       "  'allocation': 100,\n",
       "  'label': '270d(20%) Put ITM strike-0.5 +20%'},\n",
       " {'tickers': ['goog'],\n",
       "  'option_type': 'put',\n",
       "  'days_until_exp': 270,\n",
       "  'strike_pct': 0.2,\n",
       "  'days_to_gain': 54,\n",
       "  'stock_gain_pct': 0.2,\n",
       "  'allocation': 100,\n",
       "  'label': '270d(20%) Put OTM strike0.2 +20%'},\n",
       " {'tickers': ['goog'],\n",
       "  'option_type': 'put',\n",
       "  'days_until_exp': 270,\n",
       "  'strike_pct': 0.5,\n",
       "  'days_to_gain': 54,\n",
       "  'stock_gain_pct': 0.2,\n",
       "  'allocation': 100,\n",
       "  'label': '270d(20%) Put OTM strike0.5 +20%'},\n",
       " {'tickers': ['goog'],\n",
       "  'option_type': 'put',\n",
       "  'days_until_exp': 270,\n",
       "  'strike_pct': 0.9,\n",
       "  'days_to_gain': 54,\n",
       "  'stock_gain_pct': 0.2,\n",
       "  'allocation': 100,\n",
       "  'label': '270d(20%) Put OTM strike0.9 +20%'},\n",
       " {'tickers': ['goog'],\n",
       "  'option_type': 'call',\n",
       "  'days_until_exp': 270,\n",
       "  'strike_pct': -0.1,\n",
       "  'days_to_gain': 135,\n",
       "  'stock_gain_pct': 0.1,\n",
       "  'allocation': 100,\n",
       "  'label': '270d(50%) Call ITM strike-0.1 +10%'},\n",
       " {'tickers': ['goog'],\n",
       "  'option_type': 'call',\n",
       "  'days_until_exp': 270,\n",
       "  'strike_pct': -0.5,\n",
       "  'days_to_gain': 135,\n",
       "  'stock_gain_pct': 0.1,\n",
       "  'allocation': 100,\n",
       "  'label': '270d(50%) Call ITM strike-0.5 +10%'},\n",
       " {'tickers': ['goog'],\n",
       "  'option_type': 'call',\n",
       "  'days_until_exp': 270,\n",
       "  'strike_pct': 0.2,\n",
       "  'days_to_gain': 135,\n",
       "  'stock_gain_pct': 0.1,\n",
       "  'allocation': 100,\n",
       "  'label': '270d(50%) Call OTM strike0.2 +10%'},\n",
       " {'tickers': ['goog'],\n",
       "  'option_type': 'call',\n",
       "  'days_until_exp': 270,\n",
       "  'strike_pct': 0.5,\n",
       "  'days_to_gain': 135,\n",
       "  'stock_gain_pct': 0.1,\n",
       "  'allocation': 100,\n",
       "  'label': '270d(50%) Call OTM strike0.5 +10%'},\n",
       " {'tickers': ['goog'],\n",
       "  'option_type': 'call',\n",
       "  'days_until_exp': 270,\n",
       "  'strike_pct': 0.9,\n",
       "  'days_to_gain': 135,\n",
       "  'stock_gain_pct': 0.1,\n",
       "  'allocation': 100,\n",
       "  'label': '270d(50%) Call OTM strike0.9 +10%'},\n",
       " {'tickers': ['goog'],\n",
       "  'option_type': 'call',\n",
       "  'days_until_exp': 270,\n",
       "  'strike_pct': -0.1,\n",
       "  'days_to_gain': 135,\n",
       "  'stock_gain_pct': 0.2,\n",
       "  'allocation': 100,\n",
       "  'label': '270d(50%) Call ITM strike-0.1 +20%'},\n",
       " {'tickers': ['goog'],\n",
       "  'option_type': 'call',\n",
       "  'days_until_exp': 270,\n",
       "  'strike_pct': -0.5,\n",
       "  'days_to_gain': 135,\n",
       "  'stock_gain_pct': 0.2,\n",
       "  'allocation': 100,\n",
       "  'label': '270d(50%) Call ITM strike-0.5 +20%'},\n",
       " {'tickers': ['goog'],\n",
       "  'option_type': 'call',\n",
       "  'days_until_exp': 270,\n",
       "  'strike_pct': 0.2,\n",
       "  'days_to_gain': 135,\n",
       "  'stock_gain_pct': 0.2,\n",
       "  'allocation': 100,\n",
       "  'label': '270d(50%) Call OTM strike0.2 +20%'},\n",
       " {'tickers': ['goog'],\n",
       "  'option_type': 'call',\n",
       "  'days_until_exp': 270,\n",
       "  'strike_pct': 0.5,\n",
       "  'days_to_gain': 135,\n",
       "  'stock_gain_pct': 0.2,\n",
       "  'allocation': 100,\n",
       "  'label': '270d(50%) Call OTM strike0.5 +20%'},\n",
       " {'tickers': ['goog'],\n",
       "  'option_type': 'call',\n",
       "  'days_until_exp': 270,\n",
       "  'strike_pct': 0.9,\n",
       "  'days_to_gain': 135,\n",
       "  'stock_gain_pct': 0.2,\n",
       "  'allocation': 100,\n",
       "  'label': '270d(50%) Call OTM strike0.9 +20%'},\n",
       " {'tickers': ['goog'],\n",
       "  'option_type': 'call',\n",
       "  'days_until_exp': 270,\n",
       "  'strike_pct': -0.1,\n",
       "  'days_to_gain': 135,\n",
       "  'stock_gain_pct': 0.5,\n",
       "  'allocation': 100,\n",
       "  'label': '270d(50%) Call ITM strike-0.1 +50%'},\n",
       " {'tickers': ['goog'],\n",
       "  'option_type': 'call',\n",
       "  'days_until_exp': 270,\n",
       "  'strike_pct': -0.5,\n",
       "  'days_to_gain': 135,\n",
       "  'stock_gain_pct': 0.5,\n",
       "  'allocation': 100,\n",
       "  'label': '270d(50%) Call ITM strike-0.5 +50%'},\n",
       " {'tickers': ['goog'],\n",
       "  'option_type': 'call',\n",
       "  'days_until_exp': 270,\n",
       "  'strike_pct': 0.2,\n",
       "  'days_to_gain': 135,\n",
       "  'stock_gain_pct': 0.5,\n",
       "  'allocation': 100,\n",
       "  'label': '270d(50%) Call OTM strike0.2 +50%'},\n",
       " {'tickers': ['goog'],\n",
       "  'option_type': 'call',\n",
       "  'days_until_exp': 270,\n",
       "  'strike_pct': 0.5,\n",
       "  'days_to_gain': 135,\n",
       "  'stock_gain_pct': 0.5,\n",
       "  'allocation': 100,\n",
       "  'label': '270d(50%) Call OTM strike0.5 +50%'},\n",
       " {'tickers': ['goog'],\n",
       "  'option_type': 'call',\n",
       "  'days_until_exp': 270,\n",
       "  'strike_pct': 0.9,\n",
       "  'days_to_gain': 135,\n",
       "  'stock_gain_pct': 0.5,\n",
       "  'allocation': 100,\n",
       "  'label': '270d(50%) Call OTM strike0.9 +50%'},\n",
       " {'tickers': ['goog'],\n",
       "  'option_type': 'call',\n",
       "  'days_until_exp': 270,\n",
       "  'strike_pct': -0.1,\n",
       "  'days_to_gain': 135,\n",
       "  'stock_gain_pct': 1.5,\n",
       "  'allocation': 100,\n",
       "  'label': '270d(50%) Call ITM strike-0.1 +150%'},\n",
       " {'tickers': ['goog'],\n",
       "  'option_type': 'call',\n",
       "  'days_until_exp': 270,\n",
       "  'strike_pct': -0.5,\n",
       "  'days_to_gain': 135,\n",
       "  'stock_gain_pct': 1.5,\n",
       "  'allocation': 100,\n",
       "  'label': '270d(50%) Call ITM strike-0.5 +150%'},\n",
       " {'tickers': ['goog'],\n",
       "  'option_type': 'call',\n",
       "  'days_until_exp': 270,\n",
       "  'strike_pct': 0.2,\n",
       "  'days_to_gain': 135,\n",
       "  'stock_gain_pct': 1.5,\n",
       "  'allocation': 100,\n",
       "  'label': '270d(50%) Call OTM strike0.2 +150%'},\n",
       " {'tickers': ['goog'],\n",
       "  'option_type': 'call',\n",
       "  'days_until_exp': 270,\n",
       "  'strike_pct': 0.5,\n",
       "  'days_to_gain': 135,\n",
       "  'stock_gain_pct': 1.5,\n",
       "  'allocation': 100,\n",
       "  'label': '270d(50%) Call OTM strike0.5 +150%'},\n",
       " {'tickers': ['goog'],\n",
       "  'option_type': 'call',\n",
       "  'days_until_exp': 270,\n",
       "  'strike_pct': 0.9,\n",
       "  'days_to_gain': 135,\n",
       "  'stock_gain_pct': 1.5,\n",
       "  'allocation': 100,\n",
       "  'label': '270d(50%) Call OTM strike0.9 +150%'},\n",
       " {'tickers': ['goog'],\n",
       "  'option_type': 'call',\n",
       "  'days_until_exp': 270,\n",
       "  'strike_pct': -0.1,\n",
       "  'days_to_gain': 135,\n",
       "  'stock_gain_pct': -0.2,\n",
       "  'allocation': 100,\n",
       "  'label': '270d(50%) Call ITM strike-0.1 -20%'},\n",
       " {'tickers': ['goog'],\n",
       "  'option_type': 'call',\n",
       "  'days_until_exp': 270,\n",
       "  'strike_pct': -0.5,\n",
       "  'days_to_gain': 135,\n",
       "  'stock_gain_pct': -0.2,\n",
       "  'allocation': 100,\n",
       "  'label': '270d(50%) Call ITM strike-0.5 -20%'},\n",
       " {'tickers': ['goog'],\n",
       "  'option_type': 'call',\n",
       "  'days_until_exp': 270,\n",
       "  'strike_pct': 0.2,\n",
       "  'days_to_gain': 135,\n",
       "  'stock_gain_pct': -0.2,\n",
       "  'allocation': 100,\n",
       "  'label': '270d(50%) Call OTM strike0.2 -20%'},\n",
       " {'tickers': ['goog'],\n",
       "  'option_type': 'call',\n",
       "  'days_until_exp': 270,\n",
       "  'strike_pct': 0.5,\n",
       "  'days_to_gain': 135,\n",
       "  'stock_gain_pct': -0.2,\n",
       "  'allocation': 100,\n",
       "  'label': '270d(50%) Call OTM strike0.5 -20%'},\n",
       " {'tickers': ['goog'],\n",
       "  'option_type': 'call',\n",
       "  'days_until_exp': 270,\n",
       "  'strike_pct': 0.9,\n",
       "  'days_to_gain': 135,\n",
       "  'stock_gain_pct': -0.2,\n",
       "  'allocation': 100,\n",
       "  'label': '270d(50%) Call OTM strike0.9 -20%'},\n",
       " {'tickers': ['goog'],\n",
       "  'option_type': 'put',\n",
       "  'days_until_exp': 270,\n",
       "  'strike_pct': -0.1,\n",
       "  'days_to_gain': 135,\n",
       "  'stock_gain_pct': -0.1,\n",
       "  'allocation': 100,\n",
       "  'label': '270d(50%) Put ITM strike-0.1 -10%'},\n",
       " {'tickers': ['goog'],\n",
       "  'option_type': 'put',\n",
       "  'days_until_exp': 270,\n",
       "  'strike_pct': -0.5,\n",
       "  'days_to_gain': 135,\n",
       "  'stock_gain_pct': -0.1,\n",
       "  'allocation': 100,\n",
       "  'label': '270d(50%) Put ITM strike-0.5 -10%'},\n",
       " {'tickers': ['goog'],\n",
       "  'option_type': 'put',\n",
       "  'days_until_exp': 270,\n",
       "  'strike_pct': 0.2,\n",
       "  'days_to_gain': 135,\n",
       "  'stock_gain_pct': -0.1,\n",
       "  'allocation': 100,\n",
       "  'label': '270d(50%) Put OTM strike0.2 -10%'},\n",
       " {'tickers': ['goog'],\n",
       "  'option_type': 'put',\n",
       "  'days_until_exp': 270,\n",
       "  'strike_pct': 0.5,\n",
       "  'days_to_gain': 135,\n",
       "  'stock_gain_pct': -0.1,\n",
       "  'allocation': 100,\n",
       "  'label': '270d(50%) Put OTM strike0.5 -10%'},\n",
       " {'tickers': ['goog'],\n",
       "  'option_type': 'put',\n",
       "  'days_until_exp': 270,\n",
       "  'strike_pct': 0.9,\n",
       "  'days_to_gain': 135,\n",
       "  'stock_gain_pct': -0.1,\n",
       "  'allocation': 100,\n",
       "  'label': '270d(50%) Put OTM strike0.9 -10%'},\n",
       " {'tickers': ['goog'],\n",
       "  'option_type': 'put',\n",
       "  'days_until_exp': 270,\n",
       "  'strike_pct': -0.1,\n",
       "  'days_to_gain': 135,\n",
       "  'stock_gain_pct': -0.2,\n",
       "  'allocation': 100,\n",
       "  'label': '270d(50%) Put ITM strike-0.1 -20%'},\n",
       " {'tickers': ['goog'],\n",
       "  'option_type': 'put',\n",
       "  'days_until_exp': 270,\n",
       "  'strike_pct': -0.5,\n",
       "  'days_to_gain': 135,\n",
       "  'stock_gain_pct': -0.2,\n",
       "  'allocation': 100,\n",
       "  'label': '270d(50%) Put ITM strike-0.5 -20%'},\n",
       " {'tickers': ['goog'],\n",
       "  'option_type': 'put',\n",
       "  'days_until_exp': 270,\n",
       "  'strike_pct': 0.2,\n",
       "  'days_to_gain': 135,\n",
       "  'stock_gain_pct': -0.2,\n",
       "  'allocation': 100,\n",
       "  'label': '270d(50%) Put OTM strike0.2 -20%'},\n",
       " {'tickers': ['goog'],\n",
       "  'option_type': 'put',\n",
       "  'days_until_exp': 270,\n",
       "  'strike_pct': 0.5,\n",
       "  'days_to_gain': 135,\n",
       "  'stock_gain_pct': -0.2,\n",
       "  'allocation': 100,\n",
       "  'label': '270d(50%) Put OTM strike0.5 -20%'},\n",
       " {'tickers': ['goog'],\n",
       "  'option_type': 'put',\n",
       "  'days_until_exp': 270,\n",
       "  'strike_pct': 0.9,\n",
       "  'days_to_gain': 135,\n",
       "  'stock_gain_pct': -0.2,\n",
       "  'allocation': 100,\n",
       "  'label': '270d(50%) Put OTM strike0.9 -20%'},\n",
       " {'tickers': ['goog'],\n",
       "  'option_type': 'put',\n",
       "  'days_until_exp': 270,\n",
       "  'strike_pct': -0.1,\n",
       "  'days_to_gain': 135,\n",
       "  'stock_gain_pct': 0.2,\n",
       "  'allocation': 100,\n",
       "  'label': '270d(50%) Put ITM strike-0.1 +20%'},\n",
       " {'tickers': ['goog'],\n",
       "  'option_type': 'put',\n",
       "  'days_until_exp': 270,\n",
       "  'strike_pct': -0.5,\n",
       "  'days_to_gain': 135,\n",
       "  'stock_gain_pct': 0.2,\n",
       "  'allocation': 100,\n",
       "  'label': '270d(50%) Put ITM strike-0.5 +20%'},\n",
       " {'tickers': ['goog'],\n",
       "  'option_type': 'put',\n",
       "  'days_until_exp': 270,\n",
       "  'strike_pct': 0.2,\n",
       "  'days_to_gain': 135,\n",
       "  'stock_gain_pct': 0.2,\n",
       "  'allocation': 100,\n",
       "  'label': '270d(50%) Put OTM strike0.2 +20%'},\n",
       " {'tickers': ['goog'],\n",
       "  'option_type': 'put',\n",
       "  'days_until_exp': 270,\n",
       "  'strike_pct': 0.5,\n",
       "  'days_to_gain': 135,\n",
       "  'stock_gain_pct': 0.2,\n",
       "  'allocation': 100,\n",
       "  'label': '270d(50%) Put OTM strike0.5 +20%'},\n",
       " {'tickers': ['goog'],\n",
       "  'option_type': 'put',\n",
       "  'days_until_exp': 270,\n",
       "  'strike_pct': 0.9,\n",
       "  'days_to_gain': 135,\n",
       "  'stock_gain_pct': 0.2,\n",
       "  'allocation': 100,\n",
       "  'label': '270d(50%) Put OTM strike0.9 +20%'},\n",
       " {'tickers': ['goog'],\n",
       "  'option_type': 'call',\n",
       "  'days_until_exp': 575,\n",
       "  'strike_pct': -0.1,\n",
       "  'days_to_gain': 115,\n",
       "  'stock_gain_pct': 0.1,\n",
       "  'allocation': 100,\n",
       "  'label': '575d(20%) Call ITM strike-0.1 +10%'},\n",
       " {'tickers': ['goog'],\n",
       "  'option_type': 'call',\n",
       "  'days_until_exp': 575,\n",
       "  'strike_pct': -0.5,\n",
       "  'days_to_gain': 115,\n",
       "  'stock_gain_pct': 0.1,\n",
       "  'allocation': 100,\n",
       "  'label': '575d(20%) Call ITM strike-0.5 +10%'},\n",
       " {'tickers': ['goog'],\n",
       "  'option_type': 'call',\n",
       "  'days_until_exp': 575,\n",
       "  'strike_pct': 0.2,\n",
       "  'days_to_gain': 115,\n",
       "  'stock_gain_pct': 0.1,\n",
       "  'allocation': 100,\n",
       "  'label': '575d(20%) Call OTM strike0.2 +10%'},\n",
       " {'tickers': ['goog'],\n",
       "  'option_type': 'call',\n",
       "  'days_until_exp': 575,\n",
       "  'strike_pct': 0.5,\n",
       "  'days_to_gain': 115,\n",
       "  'stock_gain_pct': 0.1,\n",
       "  'allocation': 100,\n",
       "  'label': '575d(20%) Call OTM strike0.5 +10%'},\n",
       " {'tickers': ['goog'],\n",
       "  'option_type': 'call',\n",
       "  'days_until_exp': 575,\n",
       "  'strike_pct': 0.9,\n",
       "  'days_to_gain': 115,\n",
       "  'stock_gain_pct': 0.1,\n",
       "  'allocation': 100,\n",
       "  'label': '575d(20%) Call OTM strike0.9 +10%'},\n",
       " {'tickers': ['goog'],\n",
       "  'option_type': 'call',\n",
       "  'days_until_exp': 575,\n",
       "  'strike_pct': -0.1,\n",
       "  'days_to_gain': 115,\n",
       "  'stock_gain_pct': 0.2,\n",
       "  'allocation': 100,\n",
       "  'label': '575d(20%) Call ITM strike-0.1 +20%'},\n",
       " {'tickers': ['goog'],\n",
       "  'option_type': 'call',\n",
       "  'days_until_exp': 575,\n",
       "  'strike_pct': -0.5,\n",
       "  'days_to_gain': 115,\n",
       "  'stock_gain_pct': 0.2,\n",
       "  'allocation': 100,\n",
       "  'label': '575d(20%) Call ITM strike-0.5 +20%'},\n",
       " {'tickers': ['goog'],\n",
       "  'option_type': 'call',\n",
       "  'days_until_exp': 575,\n",
       "  'strike_pct': 0.2,\n",
       "  'days_to_gain': 115,\n",
       "  'stock_gain_pct': 0.2,\n",
       "  'allocation': 100,\n",
       "  'label': '575d(20%) Call OTM strike0.2 +20%'},\n",
       " {'tickers': ['goog'],\n",
       "  'option_type': 'call',\n",
       "  'days_until_exp': 575,\n",
       "  'strike_pct': 0.5,\n",
       "  'days_to_gain': 115,\n",
       "  'stock_gain_pct': 0.2,\n",
       "  'allocation': 100,\n",
       "  'label': '575d(20%) Call OTM strike0.5 +20%'},\n",
       " {'tickers': ['goog'],\n",
       "  'option_type': 'call',\n",
       "  'days_until_exp': 575,\n",
       "  'strike_pct': 0.9,\n",
       "  'days_to_gain': 115,\n",
       "  'stock_gain_pct': 0.2,\n",
       "  'allocation': 100,\n",
       "  'label': '575d(20%) Call OTM strike0.9 +20%'},\n",
       " {'tickers': ['goog'],\n",
       "  'option_type': 'call',\n",
       "  'days_until_exp': 575,\n",
       "  'strike_pct': -0.1,\n",
       "  'days_to_gain': 115,\n",
       "  'stock_gain_pct': 0.5,\n",
       "  'allocation': 100,\n",
       "  'label': '575d(20%) Call ITM strike-0.1 +50%'},\n",
       " {'tickers': ['goog'],\n",
       "  'option_type': 'call',\n",
       "  'days_until_exp': 575,\n",
       "  'strike_pct': -0.5,\n",
       "  'days_to_gain': 115,\n",
       "  'stock_gain_pct': 0.5,\n",
       "  'allocation': 100,\n",
       "  'label': '575d(20%) Call ITM strike-0.5 +50%'},\n",
       " {'tickers': ['goog'],\n",
       "  'option_type': 'call',\n",
       "  'days_until_exp': 575,\n",
       "  'strike_pct': 0.2,\n",
       "  'days_to_gain': 115,\n",
       "  'stock_gain_pct': 0.5,\n",
       "  'allocation': 100,\n",
       "  'label': '575d(20%) Call OTM strike0.2 +50%'},\n",
       " {'tickers': ['goog'],\n",
       "  'option_type': 'call',\n",
       "  'days_until_exp': 575,\n",
       "  'strike_pct': 0.5,\n",
       "  'days_to_gain': 115,\n",
       "  'stock_gain_pct': 0.5,\n",
       "  'allocation': 100,\n",
       "  'label': '575d(20%) Call OTM strike0.5 +50%'},\n",
       " {'tickers': ['goog'],\n",
       "  'option_type': 'call',\n",
       "  'days_until_exp': 575,\n",
       "  'strike_pct': 0.9,\n",
       "  'days_to_gain': 115,\n",
       "  'stock_gain_pct': 0.5,\n",
       "  'allocation': 100,\n",
       "  'label': '575d(20%) Call OTM strike0.9 +50%'},\n",
       " {'tickers': ['goog'],\n",
       "  'option_type': 'call',\n",
       "  'days_until_exp': 575,\n",
       "  'strike_pct': -0.1,\n",
       "  'days_to_gain': 115,\n",
       "  'stock_gain_pct': 1.5,\n",
       "  'allocation': 100,\n",
       "  'label': '575d(20%) Call ITM strike-0.1 +150%'},\n",
       " {'tickers': ['goog'],\n",
       "  'option_type': 'call',\n",
       "  'days_until_exp': 575,\n",
       "  'strike_pct': -0.5,\n",
       "  'days_to_gain': 115,\n",
       "  'stock_gain_pct': 1.5,\n",
       "  'allocation': 100,\n",
       "  'label': '575d(20%) Call ITM strike-0.5 +150%'},\n",
       " {'tickers': ['goog'],\n",
       "  'option_type': 'call',\n",
       "  'days_until_exp': 575,\n",
       "  'strike_pct': 0.2,\n",
       "  'days_to_gain': 115,\n",
       "  'stock_gain_pct': 1.5,\n",
       "  'allocation': 100,\n",
       "  'label': '575d(20%) Call OTM strike0.2 +150%'},\n",
       " {'tickers': ['goog'],\n",
       "  'option_type': 'call',\n",
       "  'days_until_exp': 575,\n",
       "  'strike_pct': 0.5,\n",
       "  'days_to_gain': 115,\n",
       "  'stock_gain_pct': 1.5,\n",
       "  'allocation': 100,\n",
       "  'label': '575d(20%) Call OTM strike0.5 +150%'},\n",
       " {'tickers': ['goog'],\n",
       "  'option_type': 'call',\n",
       "  'days_until_exp': 575,\n",
       "  'strike_pct': 0.9,\n",
       "  'days_to_gain': 115,\n",
       "  'stock_gain_pct': 1.5,\n",
       "  'allocation': 100,\n",
       "  'label': '575d(20%) Call OTM strike0.9 +150%'},\n",
       " {'tickers': ['goog'],\n",
       "  'option_type': 'call',\n",
       "  'days_until_exp': 575,\n",
       "  'strike_pct': -0.1,\n",
       "  'days_to_gain': 115,\n",
       "  'stock_gain_pct': -0.2,\n",
       "  'allocation': 100,\n",
       "  'label': '575d(20%) Call ITM strike-0.1 -20%'},\n",
       " {'tickers': ['goog'],\n",
       "  'option_type': 'call',\n",
       "  'days_until_exp': 575,\n",
       "  'strike_pct': -0.5,\n",
       "  'days_to_gain': 115,\n",
       "  'stock_gain_pct': -0.2,\n",
       "  'allocation': 100,\n",
       "  'label': '575d(20%) Call ITM strike-0.5 -20%'},\n",
       " {'tickers': ['goog'],\n",
       "  'option_type': 'call',\n",
       "  'days_until_exp': 575,\n",
       "  'strike_pct': 0.2,\n",
       "  'days_to_gain': 115,\n",
       "  'stock_gain_pct': -0.2,\n",
       "  'allocation': 100,\n",
       "  'label': '575d(20%) Call OTM strike0.2 -20%'},\n",
       " {'tickers': ['goog'],\n",
       "  'option_type': 'call',\n",
       "  'days_until_exp': 575,\n",
       "  'strike_pct': 0.5,\n",
       "  'days_to_gain': 115,\n",
       "  'stock_gain_pct': -0.2,\n",
       "  'allocation': 100,\n",
       "  'label': '575d(20%) Call OTM strike0.5 -20%'},\n",
       " {'tickers': ['goog'],\n",
       "  'option_type': 'call',\n",
       "  'days_until_exp': 575,\n",
       "  'strike_pct': 0.9,\n",
       "  'days_to_gain': 115,\n",
       "  'stock_gain_pct': -0.2,\n",
       "  'allocation': 100,\n",
       "  'label': '575d(20%) Call OTM strike0.9 -20%'},\n",
       " {'tickers': ['goog'],\n",
       "  'option_type': 'put',\n",
       "  'days_until_exp': 575,\n",
       "  'strike_pct': -0.1,\n",
       "  'days_to_gain': 115,\n",
       "  'stock_gain_pct': -0.1,\n",
       "  'allocation': 100,\n",
       "  'label': '575d(20%) Put ITM strike-0.1 -10%'},\n",
       " {'tickers': ['goog'],\n",
       "  'option_type': 'put',\n",
       "  'days_until_exp': 575,\n",
       "  'strike_pct': -0.5,\n",
       "  'days_to_gain': 115,\n",
       "  'stock_gain_pct': -0.1,\n",
       "  'allocation': 100,\n",
       "  'label': '575d(20%) Put ITM strike-0.5 -10%'},\n",
       " {'tickers': ['goog'],\n",
       "  'option_type': 'put',\n",
       "  'days_until_exp': 575,\n",
       "  'strike_pct': 0.2,\n",
       "  'days_to_gain': 115,\n",
       "  'stock_gain_pct': -0.1,\n",
       "  'allocation': 100,\n",
       "  'label': '575d(20%) Put OTM strike0.2 -10%'},\n",
       " {'tickers': ['goog'],\n",
       "  'option_type': 'put',\n",
       "  'days_until_exp': 575,\n",
       "  'strike_pct': 0.5,\n",
       "  'days_to_gain': 115,\n",
       "  'stock_gain_pct': -0.1,\n",
       "  'allocation': 100,\n",
       "  'label': '575d(20%) Put OTM strike0.5 -10%'},\n",
       " {'tickers': ['goog'],\n",
       "  'option_type': 'put',\n",
       "  'days_until_exp': 575,\n",
       "  'strike_pct': 0.9,\n",
       "  'days_to_gain': 115,\n",
       "  'stock_gain_pct': -0.1,\n",
       "  'allocation': 100,\n",
       "  'label': '575d(20%) Put OTM strike0.9 -10%'},\n",
       " {'tickers': ['goog'],\n",
       "  'option_type': 'put',\n",
       "  'days_until_exp': 575,\n",
       "  'strike_pct': -0.1,\n",
       "  'days_to_gain': 115,\n",
       "  'stock_gain_pct': -0.2,\n",
       "  'allocation': 100,\n",
       "  'label': '575d(20%) Put ITM strike-0.1 -20%'},\n",
       " {'tickers': ['goog'],\n",
       "  'option_type': 'put',\n",
       "  'days_until_exp': 575,\n",
       "  'strike_pct': -0.5,\n",
       "  'days_to_gain': 115,\n",
       "  'stock_gain_pct': -0.2,\n",
       "  'allocation': 100,\n",
       "  'label': '575d(20%) Put ITM strike-0.5 -20%'},\n",
       " {'tickers': ['goog'],\n",
       "  'option_type': 'put',\n",
       "  'days_until_exp': 575,\n",
       "  'strike_pct': 0.2,\n",
       "  'days_to_gain': 115,\n",
       "  'stock_gain_pct': -0.2,\n",
       "  'allocation': 100,\n",
       "  'label': '575d(20%) Put OTM strike0.2 -20%'},\n",
       " {'tickers': ['goog'],\n",
       "  'option_type': 'put',\n",
       "  'days_until_exp': 575,\n",
       "  'strike_pct': 0.5,\n",
       "  'days_to_gain': 115,\n",
       "  'stock_gain_pct': -0.2,\n",
       "  'allocation': 100,\n",
       "  'label': '575d(20%) Put OTM strike0.5 -20%'},\n",
       " {'tickers': ['goog'],\n",
       "  'option_type': 'put',\n",
       "  'days_until_exp': 575,\n",
       "  'strike_pct': 0.9,\n",
       "  'days_to_gain': 115,\n",
       "  'stock_gain_pct': -0.2,\n",
       "  'allocation': 100,\n",
       "  'label': '575d(20%) Put OTM strike0.9 -20%'},\n",
       " {'tickers': ['goog'],\n",
       "  'option_type': 'put',\n",
       "  'days_until_exp': 575,\n",
       "  'strike_pct': -0.1,\n",
       "  'days_to_gain': 115,\n",
       "  'stock_gain_pct': 0.2,\n",
       "  'allocation': 100,\n",
       "  'label': '575d(20%) Put ITM strike-0.1 +20%'},\n",
       " {'tickers': ['goog'],\n",
       "  'option_type': 'put',\n",
       "  'days_until_exp': 575,\n",
       "  'strike_pct': -0.5,\n",
       "  'days_to_gain': 115,\n",
       "  'stock_gain_pct': 0.2,\n",
       "  'allocation': 100,\n",
       "  'label': '575d(20%) Put ITM strike-0.5 +20%'},\n",
       " {'tickers': ['goog'],\n",
       "  'option_type': 'put',\n",
       "  'days_until_exp': 575,\n",
       "  'strike_pct': 0.2,\n",
       "  'days_to_gain': 115,\n",
       "  'stock_gain_pct': 0.2,\n",
       "  'allocation': 100,\n",
       "  'label': '575d(20%) Put OTM strike0.2 +20%'},\n",
       " {'tickers': ['goog'],\n",
       "  'option_type': 'put',\n",
       "  'days_until_exp': 575,\n",
       "  'strike_pct': 0.5,\n",
       "  'days_to_gain': 115,\n",
       "  'stock_gain_pct': 0.2,\n",
       "  'allocation': 100,\n",
       "  'label': '575d(20%) Put OTM strike0.5 +20%'},\n",
       " {'tickers': ['goog'],\n",
       "  'option_type': 'put',\n",
       "  'days_until_exp': 575,\n",
       "  'strike_pct': 0.9,\n",
       "  'days_to_gain': 115,\n",
       "  'stock_gain_pct': 0.2,\n",
       "  'allocation': 100,\n",
       "  'label': '575d(20%) Put OTM strike0.9 +20%'},\n",
       " {'tickers': ['goog'],\n",
       "  'option_type': 'call',\n",
       "  'days_until_exp': 575,\n",
       "  'strike_pct': -0.1,\n",
       "  'days_to_gain': 287,\n",
       "  'stock_gain_pct': 0.1,\n",
       "  'allocation': 100,\n",
       "  'label': '575d(50%) Call ITM strike-0.1 +10%'},\n",
       " {'tickers': ['goog'],\n",
       "  'option_type': 'call',\n",
       "  'days_until_exp': 575,\n",
       "  'strike_pct': -0.5,\n",
       "  'days_to_gain': 287,\n",
       "  'stock_gain_pct': 0.1,\n",
       "  'allocation': 100,\n",
       "  'label': '575d(50%) Call ITM strike-0.5 +10%'},\n",
       " {'tickers': ['goog'],\n",
       "  'option_type': 'call',\n",
       "  'days_until_exp': 575,\n",
       "  'strike_pct': 0.2,\n",
       "  'days_to_gain': 287,\n",
       "  'stock_gain_pct': 0.1,\n",
       "  'allocation': 100,\n",
       "  'label': '575d(50%) Call OTM strike0.2 +10%'},\n",
       " {'tickers': ['goog'],\n",
       "  'option_type': 'call',\n",
       "  'days_until_exp': 575,\n",
       "  'strike_pct': 0.5,\n",
       "  'days_to_gain': 287,\n",
       "  'stock_gain_pct': 0.1,\n",
       "  'allocation': 100,\n",
       "  'label': '575d(50%) Call OTM strike0.5 +10%'},\n",
       " {'tickers': ['goog'],\n",
       "  'option_type': 'call',\n",
       "  'days_until_exp': 575,\n",
       "  'strike_pct': 0.9,\n",
       "  'days_to_gain': 287,\n",
       "  'stock_gain_pct': 0.1,\n",
       "  'allocation': 100,\n",
       "  'label': '575d(50%) Call OTM strike0.9 +10%'},\n",
       " {'tickers': ['goog'],\n",
       "  'option_type': 'call',\n",
       "  'days_until_exp': 575,\n",
       "  'strike_pct': -0.1,\n",
       "  'days_to_gain': 287,\n",
       "  'stock_gain_pct': 0.2,\n",
       "  'allocation': 100,\n",
       "  'label': '575d(50%) Call ITM strike-0.1 +20%'},\n",
       " {'tickers': ['goog'],\n",
       "  'option_type': 'call',\n",
       "  'days_until_exp': 575,\n",
       "  'strike_pct': -0.5,\n",
       "  'days_to_gain': 287,\n",
       "  'stock_gain_pct': 0.2,\n",
       "  'allocation': 100,\n",
       "  'label': '575d(50%) Call ITM strike-0.5 +20%'},\n",
       " {'tickers': ['goog'],\n",
       "  'option_type': 'call',\n",
       "  'days_until_exp': 575,\n",
       "  'strike_pct': 0.2,\n",
       "  'days_to_gain': 287,\n",
       "  'stock_gain_pct': 0.2,\n",
       "  'allocation': 100,\n",
       "  'label': '575d(50%) Call OTM strike0.2 +20%'},\n",
       " {'tickers': ['goog'],\n",
       "  'option_type': 'call',\n",
       "  'days_until_exp': 575,\n",
       "  'strike_pct': 0.5,\n",
       "  'days_to_gain': 287,\n",
       "  'stock_gain_pct': 0.2,\n",
       "  'allocation': 100,\n",
       "  'label': '575d(50%) Call OTM strike0.5 +20%'},\n",
       " {'tickers': ['goog'],\n",
       "  'option_type': 'call',\n",
       "  'days_until_exp': 575,\n",
       "  'strike_pct': 0.9,\n",
       "  'days_to_gain': 287,\n",
       "  'stock_gain_pct': 0.2,\n",
       "  'allocation': 100,\n",
       "  'label': '575d(50%) Call OTM strike0.9 +20%'},\n",
       " {'tickers': ['goog'],\n",
       "  'option_type': 'call',\n",
       "  'days_until_exp': 575,\n",
       "  'strike_pct': -0.1,\n",
       "  'days_to_gain': 287,\n",
       "  'stock_gain_pct': 0.5,\n",
       "  'allocation': 100,\n",
       "  'label': '575d(50%) Call ITM strike-0.1 +50%'},\n",
       " {'tickers': ['goog'],\n",
       "  'option_type': 'call',\n",
       "  'days_until_exp': 575,\n",
       "  'strike_pct': -0.5,\n",
       "  'days_to_gain': 287,\n",
       "  'stock_gain_pct': 0.5,\n",
       "  'allocation': 100,\n",
       "  'label': '575d(50%) Call ITM strike-0.5 +50%'},\n",
       " {'tickers': ['goog'],\n",
       "  'option_type': 'call',\n",
       "  'days_until_exp': 575,\n",
       "  'strike_pct': 0.2,\n",
       "  'days_to_gain': 287,\n",
       "  'stock_gain_pct': 0.5,\n",
       "  'allocation': 100,\n",
       "  'label': '575d(50%) Call OTM strike0.2 +50%'},\n",
       " {'tickers': ['goog'],\n",
       "  'option_type': 'call',\n",
       "  'days_until_exp': 575,\n",
       "  'strike_pct': 0.5,\n",
       "  'days_to_gain': 287,\n",
       "  'stock_gain_pct': 0.5,\n",
       "  'allocation': 100,\n",
       "  'label': '575d(50%) Call OTM strike0.5 +50%'},\n",
       " {'tickers': ['goog'],\n",
       "  'option_type': 'call',\n",
       "  'days_until_exp': 575,\n",
       "  'strike_pct': 0.9,\n",
       "  'days_to_gain': 287,\n",
       "  'stock_gain_pct': 0.5,\n",
       "  'allocation': 100,\n",
       "  'label': '575d(50%) Call OTM strike0.9 +50%'},\n",
       " {'tickers': ['goog'],\n",
       "  'option_type': 'call',\n",
       "  'days_until_exp': 575,\n",
       "  'strike_pct': -0.1,\n",
       "  'days_to_gain': 287,\n",
       "  'stock_gain_pct': 1.5,\n",
       "  'allocation': 100,\n",
       "  'label': '575d(50%) Call ITM strike-0.1 +150%'},\n",
       " {'tickers': ['goog'],\n",
       "  'option_type': 'call',\n",
       "  'days_until_exp': 575,\n",
       "  'strike_pct': -0.5,\n",
       "  'days_to_gain': 287,\n",
       "  'stock_gain_pct': 1.5,\n",
       "  'allocation': 100,\n",
       "  'label': '575d(50%) Call ITM strike-0.5 +150%'},\n",
       " {'tickers': ['goog'],\n",
       "  'option_type': 'call',\n",
       "  'days_until_exp': 575,\n",
       "  'strike_pct': 0.2,\n",
       "  'days_to_gain': 287,\n",
       "  'stock_gain_pct': 1.5,\n",
       "  'allocation': 100,\n",
       "  'label': '575d(50%) Call OTM strike0.2 +150%'},\n",
       " {'tickers': ['goog'],\n",
       "  'option_type': 'call',\n",
       "  'days_until_exp': 575,\n",
       "  'strike_pct': 0.5,\n",
       "  'days_to_gain': 287,\n",
       "  'stock_gain_pct': 1.5,\n",
       "  'allocation': 100,\n",
       "  'label': '575d(50%) Call OTM strike0.5 +150%'},\n",
       " {'tickers': ['goog'],\n",
       "  'option_type': 'call',\n",
       "  'days_until_exp': 575,\n",
       "  'strike_pct': 0.9,\n",
       "  'days_to_gain': 287,\n",
       "  'stock_gain_pct': 1.5,\n",
       "  'allocation': 100,\n",
       "  'label': '575d(50%) Call OTM strike0.9 +150%'},\n",
       " {'tickers': ['goog'],\n",
       "  'option_type': 'call',\n",
       "  'days_until_exp': 575,\n",
       "  'strike_pct': -0.1,\n",
       "  'days_to_gain': 287,\n",
       "  'stock_gain_pct': -0.2,\n",
       "  'allocation': 100,\n",
       "  'label': '575d(50%) Call ITM strike-0.1 -20%'},\n",
       " {'tickers': ['goog'],\n",
       "  'option_type': 'call',\n",
       "  'days_until_exp': 575,\n",
       "  'strike_pct': -0.5,\n",
       "  'days_to_gain': 287,\n",
       "  'stock_gain_pct': -0.2,\n",
       "  'allocation': 100,\n",
       "  'label': '575d(50%) Call ITM strike-0.5 -20%'},\n",
       " {'tickers': ['goog'],\n",
       "  'option_type': 'call',\n",
       "  'days_until_exp': 575,\n",
       "  'strike_pct': 0.2,\n",
       "  'days_to_gain': 287,\n",
       "  'stock_gain_pct': -0.2,\n",
       "  'allocation': 100,\n",
       "  'label': '575d(50%) Call OTM strike0.2 -20%'},\n",
       " {'tickers': ['goog'],\n",
       "  'option_type': 'call',\n",
       "  'days_until_exp': 575,\n",
       "  'strike_pct': 0.5,\n",
       "  'days_to_gain': 287,\n",
       "  'stock_gain_pct': -0.2,\n",
       "  'allocation': 100,\n",
       "  'label': '575d(50%) Call OTM strike0.5 -20%'},\n",
       " {'tickers': ['goog'],\n",
       "  'option_type': 'call',\n",
       "  'days_until_exp': 575,\n",
       "  'strike_pct': 0.9,\n",
       "  'days_to_gain': 287,\n",
       "  'stock_gain_pct': -0.2,\n",
       "  'allocation': 100,\n",
       "  'label': '575d(50%) Call OTM strike0.9 -20%'},\n",
       " {'tickers': ['goog'],\n",
       "  'option_type': 'put',\n",
       "  'days_until_exp': 575,\n",
       "  'strike_pct': -0.1,\n",
       "  'days_to_gain': 287,\n",
       "  'stock_gain_pct': -0.1,\n",
       "  'allocation': 100,\n",
       "  'label': '575d(50%) Put ITM strike-0.1 -10%'},\n",
       " {'tickers': ['goog'],\n",
       "  'option_type': 'put',\n",
       "  'days_until_exp': 575,\n",
       "  'strike_pct': -0.5,\n",
       "  'days_to_gain': 287,\n",
       "  'stock_gain_pct': -0.1,\n",
       "  'allocation': 100,\n",
       "  'label': '575d(50%) Put ITM strike-0.5 -10%'},\n",
       " {'tickers': ['goog'],\n",
       "  'option_type': 'put',\n",
       "  'days_until_exp': 575,\n",
       "  'strike_pct': 0.2,\n",
       "  'days_to_gain': 287,\n",
       "  'stock_gain_pct': -0.1,\n",
       "  'allocation': 100,\n",
       "  'label': '575d(50%) Put OTM strike0.2 -10%'},\n",
       " {'tickers': ['goog'],\n",
       "  'option_type': 'put',\n",
       "  'days_until_exp': 575,\n",
       "  'strike_pct': 0.5,\n",
       "  'days_to_gain': 287,\n",
       "  'stock_gain_pct': -0.1,\n",
       "  'allocation': 100,\n",
       "  'label': '575d(50%) Put OTM strike0.5 -10%'},\n",
       " {'tickers': ['goog'],\n",
       "  'option_type': 'put',\n",
       "  'days_until_exp': 575,\n",
       "  'strike_pct': 0.9,\n",
       "  'days_to_gain': 287,\n",
       "  'stock_gain_pct': -0.1,\n",
       "  'allocation': 100,\n",
       "  'label': '575d(50%) Put OTM strike0.9 -10%'},\n",
       " {'tickers': ['goog'],\n",
       "  'option_type': 'put',\n",
       "  'days_until_exp': 575,\n",
       "  'strike_pct': -0.1,\n",
       "  'days_to_gain': 287,\n",
       "  'stock_gain_pct': -0.2,\n",
       "  'allocation': 100,\n",
       "  'label': '575d(50%) Put ITM strike-0.1 -20%'},\n",
       " {'tickers': ['goog'],\n",
       "  'option_type': 'put',\n",
       "  'days_until_exp': 575,\n",
       "  'strike_pct': -0.5,\n",
       "  'days_to_gain': 287,\n",
       "  'stock_gain_pct': -0.2,\n",
       "  'allocation': 100,\n",
       "  'label': '575d(50%) Put ITM strike-0.5 -20%'},\n",
       " {'tickers': ['goog'],\n",
       "  'option_type': 'put',\n",
       "  'days_until_exp': 575,\n",
       "  'strike_pct': 0.2,\n",
       "  'days_to_gain': 287,\n",
       "  'stock_gain_pct': -0.2,\n",
       "  'allocation': 100,\n",
       "  'label': '575d(50%) Put OTM strike0.2 -20%'},\n",
       " {'tickers': ['goog'],\n",
       "  'option_type': 'put',\n",
       "  'days_until_exp': 575,\n",
       "  'strike_pct': 0.5,\n",
       "  'days_to_gain': 287,\n",
       "  'stock_gain_pct': -0.2,\n",
       "  'allocation': 100,\n",
       "  'label': '575d(50%) Put OTM strike0.5 -20%'},\n",
       " {'tickers': ['goog'],\n",
       "  'option_type': 'put',\n",
       "  'days_until_exp': 575,\n",
       "  'strike_pct': 0.9,\n",
       "  'days_to_gain': 287,\n",
       "  'stock_gain_pct': -0.2,\n",
       "  'allocation': 100,\n",
       "  'label': '575d(50%) Put OTM strike0.9 -20%'},\n",
       " {'tickers': ['goog'],\n",
       "  'option_type': 'put',\n",
       "  'days_until_exp': 575,\n",
       "  'strike_pct': -0.1,\n",
       "  'days_to_gain': 287,\n",
       "  'stock_gain_pct': 0.2,\n",
       "  'allocation': 100,\n",
       "  'label': '575d(50%) Put ITM strike-0.1 +20%'},\n",
       " {'tickers': ['goog'],\n",
       "  'option_type': 'put',\n",
       "  'days_until_exp': 575,\n",
       "  'strike_pct': -0.5,\n",
       "  'days_to_gain': 287,\n",
       "  'stock_gain_pct': 0.2,\n",
       "  'allocation': 100,\n",
       "  'label': '575d(50%) Put ITM strike-0.5 +20%'},\n",
       " {'tickers': ['goog'],\n",
       "  'option_type': 'put',\n",
       "  'days_until_exp': 575,\n",
       "  'strike_pct': 0.2,\n",
       "  'days_to_gain': 287,\n",
       "  'stock_gain_pct': 0.2,\n",
       "  'allocation': 100,\n",
       "  'label': '575d(50%) Put OTM strike0.2 +20%'},\n",
       " {'tickers': ['goog'],\n",
       "  'option_type': 'put',\n",
       "  'days_until_exp': 575,\n",
       "  'strike_pct': 0.5,\n",
       "  'days_to_gain': 287,\n",
       "  'stock_gain_pct': 0.2,\n",
       "  'allocation': 100,\n",
       "  'label': '575d(50%) Put OTM strike0.5 +20%'},\n",
       " {'tickers': ['goog'],\n",
       "  'option_type': 'put',\n",
       "  'days_until_exp': 575,\n",
       "  'strike_pct': 0.9,\n",
       "  'days_to_gain': 287,\n",
       "  'stock_gain_pct': 0.2,\n",
       "  'allocation': 100,\n",
       "  'label': '575d(50%) Put OTM strike0.9 +20%'}]"
      ]
     },
     "metadata": {},
     "output_type": "display_data"
    }
   ],
   "source": [
    "days_groups = [90, 180, 270, 575]\n",
    "call_stock_gains = [0.1, 0.2, 0.5, -0.2]\n",
    "put_stock_gains = [-0.1, -0.2, 0.2]\n",
    "itm_strikes = [-0.1, -0.5]\n",
    "otm_strikes = [0.2, 0.5, 0.9]\n",
    "tickers = raw1  # your list of tickers\n",
    "days_to_gain_pcts = [0.2, 0.5]\n",
    "option_types = [\"call\", \"put\"]  # or just [\"call\"] or [\"put\"]\n",
    "\n",
    "# First: preview parameters\n",
    "param_sets_basic = screener_parameter_builder(\n",
    "    days_groups, call_stock_gains, put_stock_gains, itm_strikes, otm_strikes, tickers, days_to_gain_pcts, option_types\n",
    ")\n",
    "\n",
    "display(param_sets_basic)"
   ]
  },
  {
   "cell_type": "code",
   "execution_count": 15,
   "id": "539c47bb-2a1c-4737-86d5-d3855409a9d9",
   "metadata": {},
   "outputs": [
    {
     "name": "stdout",
     "output_type": "stream",
     "text": [
      "\n",
      "✅ Total parameter sets generated: 320\n",
      "🔎 First 3 parameter sets for inspection:\n",
      "\n",
      "{'tickers': ['goog'], 'option_type': 'call', 'days_until_exp': 90, 'strike_pct': -0.1, 'days_to_gain': 18, 'stock_gain_pct': 0.1, 'allocation': 100, 'label': '90d(20%) Call ITM strike-0.1 +10%'}\n",
      "--------------------------------------------------------------------------------\n",
      "{'tickers': ['goog'], 'option_type': 'call', 'days_until_exp': 90, 'strike_pct': -0.5, 'days_to_gain': 18, 'stock_gain_pct': 0.1, 'allocation': 100, 'label': '90d(20%) Call ITM strike-0.5 +10%'}\n",
      "--------------------------------------------------------------------------------\n",
      "{'tickers': ['goog'], 'option_type': 'call', 'days_until_exp': 90, 'strike_pct': 0.2, 'days_to_gain': 18, 'stock_gain_pct': 0.1, 'allocation': 100, 'label': '90d(20%) Call OTM strike0.2 +10%'}\n",
      "--------------------------------------------------------------------------------\n"
     ]
    },
    {
     "name": "stderr",
     "output_type": "stream",
     "text": [
      "2025-07-01 11:57:14,681 [INFO] No options data returned for goog\n",
      "2025-07-01 11:57:20,748 [INFO] No options data returned for goog\n",
      "2025-07-01 11:57:25,176 [INFO] No options data returned for goog\n",
      "2025-07-01 11:57:29,577 [INFO] No options data returned for goog\n",
      "2025-07-01 11:57:34,042 [INFO] No options data returned for goog\n",
      "2025-07-01 11:57:38,640 [INFO] No options data returned for goog\n",
      "2025-07-01 11:57:42,940 [INFO] No options data returned for goog\n",
      "2025-07-01 11:57:47,288 [INFO] No options data returned for goog\n",
      "2025-07-01 11:57:51,620 [INFO] No options data returned for goog\n",
      "2025-07-01 11:57:55,864 [INFO] No options data returned for goog\n",
      "2025-07-01 11:58:00,041 [INFO] No options data returned for goog\n",
      "2025-07-01 11:58:04,660 [INFO] No options data returned for goog\n",
      "2025-07-01 11:58:09,057 [INFO] No options data returned for goog\n",
      "2025-07-01 11:58:13,405 [INFO] No options data returned for goog\n",
      "2025-07-01 11:58:17,586 [INFO] No options data returned for goog\n",
      "2025-07-01 11:58:22,285 [INFO] No options data returned for goog\n",
      "2025-07-01 11:58:27,674 [INFO] No options data returned for goog\n",
      "2025-07-01 11:58:32,014 [INFO] No options data returned for goog\n",
      "2025-07-01 11:58:36,308 [INFO] No options data returned for goog\n",
      "2025-07-01 11:58:40,705 [INFO] No options data returned for goog\n",
      "2025-07-01 11:58:45,098 [INFO] No options data returned for goog\n",
      "2025-07-01 11:58:49,445 [INFO] No options data returned for goog\n",
      "2025-07-01 11:58:53,643 [INFO] No options data returned for goog\n",
      "2025-07-01 11:58:57,845 [INFO] No options data returned for goog\n",
      "2025-07-01 11:59:02,094 [INFO] No options data returned for goog\n",
      "2025-07-01 11:59:06,445 [INFO] No options data returned for goog\n",
      "2025-07-01 11:59:10,669 [INFO] No options data returned for goog\n",
      "2025-07-01 11:59:14,759 [INFO] No options data returned for goog\n",
      "2025-07-01 11:59:19,090 [INFO] No options data returned for goog\n",
      "2025-07-01 11:59:23,396 [INFO] No options data returned for goog\n",
      "2025-07-01 11:59:28,120 [INFO] No options data returned for goog\n",
      "2025-07-01 11:59:33,553 [INFO] No options data returned for goog\n",
      "2025-07-01 11:59:38,101 [INFO] No options data returned for goog\n",
      "2025-07-01 11:59:42,380 [INFO] No options data returned for goog\n",
      "2025-07-01 11:59:46,758 [INFO] No options data returned for goog\n",
      "2025-07-01 11:59:51,243 [INFO] No options data returned for goog\n",
      "2025-07-01 11:59:55,675 [INFO] No options data returned for goog\n",
      "2025-07-01 11:59:59,928 [INFO] No options data returned for goog\n",
      "2025-07-01 12:00:06,906 [INFO] No options data returned for goog\n",
      "2025-07-01 12:00:13,041 [INFO] No options data returned for goog\n",
      "2025-07-01 12:00:18,821 [INFO] No options data returned for goog\n",
      "2025-07-01 12:00:25,868 [INFO] No options data returned for goog\n",
      "2025-07-01 12:00:31,383 [INFO] No options data returned for goog\n",
      "2025-07-01 12:00:39,157 [INFO] No options data returned for goog\n",
      "2025-07-01 12:00:44,776 [INFO] No options data returned for goog\n",
      "2025-07-01 12:00:50,424 [INFO] No options data returned for goog\n",
      "2025-07-01 12:00:56,214 [INFO] No options data returned for goog\n",
      "2025-07-01 12:01:01,826 [INFO] No options data returned for goog\n",
      "2025-07-01 12:01:07,536 [INFO] No options data returned for goog\n",
      "2025-07-01 12:01:12,739 [INFO] No options data returned for goog\n",
      "2025-07-01 12:01:18,349 [INFO] No options data returned for goog\n",
      "2025-07-01 12:01:24,626 [INFO] No options data returned for goog\n",
      "2025-07-01 12:01:29,860 [INFO] No options data returned for goog\n",
      "2025-07-01 12:01:36,213 [INFO] No options data returned for goog\n",
      "2025-07-01 12:01:42,710 [INFO] No options data returned for goog\n",
      "2025-07-01 12:01:47,473 [INFO] No options data returned for goog\n",
      "2025-07-01 12:01:52,152 [INFO] No options data returned for goog\n",
      "2025-07-01 12:01:56,964 [INFO] No options data returned for goog\n",
      "2025-07-01 12:02:01,526 [INFO] No options data returned for goog\n",
      "2025-07-01 12:02:07,000 [INFO] No options data returned for goog\n",
      "2025-07-01 12:02:11,549 [INFO] No options data returned for goog\n",
      "2025-07-01 12:02:16,426 [INFO] No options data returned for goog\n",
      "2025-07-01 12:02:21,933 [INFO] No options data returned for goog\n",
      "2025-07-01 12:02:26,639 [INFO] No options data returned for goog\n"
     ]
    }
   ],
   "source": [
    "# When ready: run analysis\n",
    "basic_results_df = basic_screener(\n",
    "    days_groups, call_stock_gains, put_stock_gains, itm_strikes, otm_strikes, tickers, days_to_gain_pcts, option_types\n",
    ")"
   ]
  }
 ],
 "metadata": {
  "kernelspec": {
   "display_name": "Python 3 (ipykernel)",
   "language": "python",
   "name": "python3"
  },
  "language_info": {
   "codemirror_mode": {
    "name": "ipython",
    "version": 3
   },
   "file_extension": ".py",
   "mimetype": "text/x-python",
   "name": "python",
   "nbconvert_exporter": "python",
   "pygments_lexer": "ipython3",
   "version": "3.9.23"
  }
 },
 "nbformat": 4,
 "nbformat_minor": 5
}
