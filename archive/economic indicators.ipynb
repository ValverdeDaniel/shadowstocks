{
 "cells": [
  {
   "cell_type": "code",
   "execution_count": 1,
   "id": "12cf8a15",
   "metadata": {},
   "outputs": [],
   "source": [
    "import pandas as pd\n",
    "import requests\n"
   ]
  },
  {
   "cell_type": "code",
   "execution_count": 2,
   "id": "4f0aa2e4",
   "metadata": {},
   "outputs": [],
   "source": [
    "AlphaVantageKey = ''\n",
    "FredKey = 'ce5516ecce1d450df5a3e207e4941e28'"
   ]
  },
  {
   "cell_type": "code",
   "execution_count": 4,
   "id": "c6cf3de9",
   "metadata": {},
   "outputs": [
    {
     "name": "stdout",
     "output_type": "stream",
     "text": [
      "{'error_code': 400, 'error_message': 'Bad Request.  The value for variable api_key is not a 32 character alpha-numeric lower-case string.  Read https://fred.stlouisfed.org/docs/api/api_key.html for more information.'}\n"
     ]
    }
   ],
   "source": [
    "import requests\n",
    "\n",
    "# Replace with your FRED API key\n",
    "api_key = FredKey\n",
    "series_id = 'CPIAUCNS'\n",
    "url = f'https://api.stlouisfed.org/fred/series/observations?series_id={series_id}&api_key={api_key}&file_type=json'\n",
    "\n",
    "response = requests.get(url)\n",
    "data = response.json()\n",
    "\n",
    "# Process the data as needed\n",
    "print(data)\n"
   ]
  },
  {
   "cell_type": "code",
   "execution_count": null,
   "id": "b34fce24",
   "metadata": {},
   "outputs": [],
   "source": [
    "ticker = 'aapl'\n",
    "# replace the \"demo\" apikey below with your own key from https://www.alphavantage.co/support/#api-key\n",
    "url = 'https://www.alphavantage.co/query?function=TIME_SERIES_DAILY&symbol='+ticker+'&outputsize=full&apikey='+AlphaVantageKey\n",
    "r = requests.get(url)\n",
    "data = r.json()\n",
    "\n",
    "for date, values in data['Time Series (Daily)'].items():\n",
    "    print(f\"Date: {date}, Close: {values['4. close']}, Volume: {values['5. volume']}\")\n"
   ]
  },
  {
   "cell_type": "code",
   "execution_count": null,
   "id": "94c19bb7",
   "metadata": {},
   "outputs": [],
   "source": [
    "\n",
    "data_list = []\n",
    "\n",
    "for date, values in data['Time Series (Daily)'].items():\n",
    "    data_list.append({\n",
    "        'Symbol': data['Meta Data']['2. Symbol'],\n",
    "        'Date': date,\n",
    "        'Close': values['4. close'],\n",
    "        'Volume': values['5. volume']\n",
    "    })\n",
    "\n",
    "df = pd.DataFrame(data_list)\n",
    "display(df)"
   ]
  }
 ],
 "metadata": {
  "kernelspec": {
   "display_name": "Python 3 (ipykernel)",
   "language": "python",
   "name": "python3"
  },
  "language_info": {
   "codemirror_mode": {
    "name": "ipython",
    "version": 3
   },
   "file_extension": ".py",
   "mimetype": "text/x-python",
   "name": "python",
   "nbconvert_exporter": "python",
   "pygments_lexer": "ipython3",
   "version": "3.9.7"
  }
 },
 "nbformat": 4,
 "nbformat_minor": 5
}
